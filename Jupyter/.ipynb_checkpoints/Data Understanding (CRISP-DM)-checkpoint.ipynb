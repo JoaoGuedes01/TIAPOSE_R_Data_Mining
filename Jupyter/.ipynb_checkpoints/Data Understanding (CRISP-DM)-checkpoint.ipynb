{
 "cells": [
  {
   "cell_type": "markdown",
   "id": "2177400a",
   "metadata": {},
   "source": [
    "## Descrição das variáveis\n",
    "#### date – dia em que foi efetuado o registo.\n",
    "#### all – entrada diária de todas pessoas (faces humanas) na loja.\n",
    "#### female – entrada de todos elementos identificados como pertencentes ao género feminino.\n",
    "#### male - igual ao atributo anterior mas relacionado com o género masculino.\n",
    "#### young – entradas com estimativa de idade jovem (até 18 anos).\n",
    "#### adult - entradas com estimativa de idade adulta (>18 anos).\n",
    "#### weather – estado do tempo no exterior (“Sunny” ou “Rain”).\n",
    "#### maxtemp, RH, maxwind – estado do tempo no exterior para o dia (temperatura máxima, humidade relativa máxima, velocidade do vento máximo)."
   ]
  },
  {
   "cell_type": "markdown",
   "id": "3eab8834",
   "metadata": {},
   "source": [
    "## Importing Libraries"
   ]
  },
  {
   "cell_type": "code",
   "execution_count": 3,
   "id": "7913196d",
   "metadata": {},
   "outputs": [
    {
     "name": "stderr",
     "output_type": "stream",
     "text": [
      "Registered S3 methods overwritten by 'ggplot2':\n",
      "  method         from \n",
      "  [.quosures     rlang\n",
      "  c.quosures     rlang\n",
      "  print.quosures rlang\n",
      "Registered S3 method overwritten by 'rvest':\n",
      "  method            from\n",
      "  read_xml.response xml2\n",
      "-- Attaching packages --------------------------------------- tidyverse 1.2.1 --\n",
      "v ggplot2 3.1.1       v purrr   0.3.2  \n",
      "v tibble  2.1.1       v dplyr   0.8.0.1\n",
      "v tidyr   0.8.3       v stringr 1.4.0  \n",
      "v readr   1.3.1       v forcats 0.4.0  \n",
      "-- Conflicts ------------------------------------------ tidyverse_conflicts() --\n",
      "x dplyr::filter() masks stats::filter()\n",
      "x dplyr::lag()    masks stats::lag()\n"
     ]
    }
   ],
   "source": [
    "library(tidyverse)"
   ]
  },
  {
   "cell_type": "code",
   "execution_count": 5,
   "id": "325e4f80",
   "metadata": {
    "scrolled": false
   },
   "outputs": [
    {
     "data": {
      "text/html": [
       "<table>\n",
       "<thead><tr><th scope=col>date</th><th scope=col>all</th><th scope=col>female</th><th scope=col>male</th><th scope=col>young</th><th scope=col>adult</th><th scope=col>weather</th><th scope=col>maxtemp</th><th scope=col>RH</th><th scope=col>maxwind</th></tr></thead>\n",
       "<tbody>\n",
       "\t<tr><td>2013-04-09</td><td>2332      </td><td>1115      </td><td>1108      </td><td>1122      </td><td>1210      </td><td>Rain      </td><td>13        </td><td>87        </td><td> 0        </td></tr>\n",
       "\t<tr><td>2013-04-10</td><td>2801      </td><td>1217      </td><td>1459      </td><td>1239      </td><td>1562      </td><td>Rain      </td><td>14        </td><td>94        </td><td>45        </td></tr>\n",
       "\t<tr><td>2013-04-11</td><td>2375      </td><td>1168      </td><td>1099      </td><td>1059      </td><td>1316      </td><td>Rain      </td><td>14        </td><td>82        </td><td>55        </td></tr>\n",
       "\t<tr><td>2013-04-12</td><td>3447      </td><td>1617      </td><td>1651      </td><td>1606      </td><td>1841      </td><td>Sunny     </td><td>13        </td><td>78        </td><td> 0        </td></tr>\n",
       "\t<tr><td>2013-04-13</td><td>4823      </td><td>2469      </td><td>2117      </td><td>2318      </td><td>2505      </td><td>Rain      </td><td>16        </td><td>81        </td><td>37        </td></tr>\n",
       "\t<tr><td>2013-04-14</td><td>4978      </td><td>2564      </td><td>2223      </td><td>2289      </td><td>2689      </td><td>Rain      </td><td>16        </td><td>73        </td><td> 0        </td></tr>\n",
       "</tbody>\n",
       "</table>\n"
      ],
      "text/latex": [
       "\\begin{tabular}{r|llllllllll}\n",
       " date & all & female & male & young & adult & weather & maxtemp & RH & maxwind\\\\\n",
       "\\hline\n",
       "\t 2013-04-09 & 2332       & 1115       & 1108       & 1122       & 1210       & Rain       & 13         & 87         &  0        \\\\\n",
       "\t 2013-04-10 & 2801       & 1217       & 1459       & 1239       & 1562       & Rain       & 14         & 94         & 45        \\\\\n",
       "\t 2013-04-11 & 2375       & 1168       & 1099       & 1059       & 1316       & Rain       & 14         & 82         & 55        \\\\\n",
       "\t 2013-04-12 & 3447       & 1617       & 1651       & 1606       & 1841       & Sunny      & 13         & 78         &  0        \\\\\n",
       "\t 2013-04-13 & 4823       & 2469       & 2117       & 2318       & 2505       & Rain       & 16         & 81         & 37        \\\\\n",
       "\t 2013-04-14 & 4978       & 2564       & 2223       & 2289       & 2689       & Rain       & 16         & 73         &  0        \\\\\n",
       "\\end{tabular}\n"
      ],
      "text/markdown": [
       "\n",
       "| date | all | female | male | young | adult | weather | maxtemp | RH | maxwind |\n",
       "|---|---|---|---|---|---|---|---|---|---|\n",
       "| 2013-04-09 | 2332       | 1115       | 1108       | 1122       | 1210       | Rain       | 13         | 87         |  0         |\n",
       "| 2013-04-10 | 2801       | 1217       | 1459       | 1239       | 1562       | Rain       | 14         | 94         | 45         |\n",
       "| 2013-04-11 | 2375       | 1168       | 1099       | 1059       | 1316       | Rain       | 14         | 82         | 55         |\n",
       "| 2013-04-12 | 3447       | 1617       | 1651       | 1606       | 1841       | Sunny      | 13         | 78         |  0         |\n",
       "| 2013-04-13 | 4823       | 2469       | 2117       | 2318       | 2505       | Rain       | 16         | 81         | 37         |\n",
       "| 2013-04-14 | 4978       | 2564       | 2223       | 2289       | 2689       | Rain       | 16         | 73         |  0         |\n",
       "\n"
      ],
      "text/plain": [
       "  date       all  female male young adult weather maxtemp RH maxwind\n",
       "1 2013-04-09 2332 1115   1108 1122  1210  Rain    13      87  0     \n",
       "2 2013-04-10 2801 1217   1459 1239  1562  Rain    14      94 45     \n",
       "3 2013-04-11 2375 1168   1099 1059  1316  Rain    14      82 55     \n",
       "4 2013-04-12 3447 1617   1651 1606  1841  Sunny   13      78  0     \n",
       "5 2013-04-13 4823 2469   2117 2318  2505  Rain    16      81 37     \n",
       "6 2013-04-14 4978 2564   2223 2289  2689  Rain    16      73  0     "
      ]
     },
     "metadata": {},
     "output_type": "display_data"
    }
   ],
   "source": [
    "data <- read.csv(file = '../data/store.csv', sep = ';')\n",
    "head(data)"
   ]
  },
  {
   "cell_type": "code",
   "execution_count": 119,
   "id": "2d50b6f2",
   "metadata": {},
   "outputs": [
    {
     "name": "stdout",
     "output_type": "stream",
     "text": [
      "Head \n"
     ]
    },
    {
     "data": {
      "text/html": [
       "<table>\n",
       "<thead><tr><th scope=col>date</th><th scope=col>all</th><th scope=col>female</th><th scope=col>male</th><th scope=col>young</th><th scope=col>adult</th><th scope=col>weather</th><th scope=col>maxtemp</th><th scope=col>RH</th><th scope=col>maxwind</th></tr></thead>\n",
       "<tbody>\n",
       "\t<tr><td>2013-04-09</td><td>2332      </td><td>1115      </td><td>1108      </td><td>1122      </td><td>1210      </td><td>Rain      </td><td>13        </td><td>87        </td><td> 0        </td></tr>\n",
       "\t<tr><td>2013-04-10</td><td>2801      </td><td>1217      </td><td>1459      </td><td>1239      </td><td>1562      </td><td>Rain      </td><td>14        </td><td>94        </td><td>45        </td></tr>\n",
       "\t<tr><td>2013-04-11</td><td>2375      </td><td>1168      </td><td>1099      </td><td>1059      </td><td>1316      </td><td>Rain      </td><td>14        </td><td>82        </td><td>55        </td></tr>\n",
       "\t<tr><td>2013-04-12</td><td>3447      </td><td>1617      </td><td>1651      </td><td>1606      </td><td>1841      </td><td>Sunny     </td><td>13        </td><td>78        </td><td> 0        </td></tr>\n",
       "\t<tr><td>2013-04-13</td><td>4823      </td><td>2469      </td><td>2117      </td><td>2318      </td><td>2505      </td><td>Rain      </td><td>16        </td><td>81        </td><td>37        </td></tr>\n",
       "\t<tr><td>2013-04-14</td><td>4978      </td><td>2564      </td><td>2223      </td><td>2289      </td><td>2689      </td><td>Rain      </td><td>16        </td><td>73        </td><td> 0        </td></tr>\n",
       "</tbody>\n",
       "</table>\n"
      ],
      "text/latex": [
       "\\begin{tabular}{r|llllllllll}\n",
       " date & all & female & male & young & adult & weather & maxtemp & RH & maxwind\\\\\n",
       "\\hline\n",
       "\t 2013-04-09 & 2332       & 1115       & 1108       & 1122       & 1210       & Rain       & 13         & 87         &  0        \\\\\n",
       "\t 2013-04-10 & 2801       & 1217       & 1459       & 1239       & 1562       & Rain       & 14         & 94         & 45        \\\\\n",
       "\t 2013-04-11 & 2375       & 1168       & 1099       & 1059       & 1316       & Rain       & 14         & 82         & 55        \\\\\n",
       "\t 2013-04-12 & 3447       & 1617       & 1651       & 1606       & 1841       & Sunny      & 13         & 78         &  0        \\\\\n",
       "\t 2013-04-13 & 4823       & 2469       & 2117       & 2318       & 2505       & Rain       & 16         & 81         & 37        \\\\\n",
       "\t 2013-04-14 & 4978       & 2564       & 2223       & 2289       & 2689       & Rain       & 16         & 73         &  0        \\\\\n",
       "\\end{tabular}\n"
      ],
      "text/markdown": [
       "\n",
       "| date | all | female | male | young | adult | weather | maxtemp | RH | maxwind |\n",
       "|---|---|---|---|---|---|---|---|---|---|\n",
       "| 2013-04-09 | 2332       | 1115       | 1108       | 1122       | 1210       | Rain       | 13         | 87         |  0         |\n",
       "| 2013-04-10 | 2801       | 1217       | 1459       | 1239       | 1562       | Rain       | 14         | 94         | 45         |\n",
       "| 2013-04-11 | 2375       | 1168       | 1099       | 1059       | 1316       | Rain       | 14         | 82         | 55         |\n",
       "| 2013-04-12 | 3447       | 1617       | 1651       | 1606       | 1841       | Sunny      | 13         | 78         |  0         |\n",
       "| 2013-04-13 | 4823       | 2469       | 2117       | 2318       | 2505       | Rain       | 16         | 81         | 37         |\n",
       "| 2013-04-14 | 4978       | 2564       | 2223       | 2289       | 2689       | Rain       | 16         | 73         |  0         |\n",
       "\n"
      ],
      "text/plain": [
       "  date       all  female male young adult weather maxtemp RH maxwind\n",
       "1 2013-04-09 2332 1115   1108 1122  1210  Rain    13      87  0     \n",
       "2 2013-04-10 2801 1217   1459 1239  1562  Rain    14      94 45     \n",
       "3 2013-04-11 2375 1168   1099 1059  1316  Rain    14      82 55     \n",
       "4 2013-04-12 3447 1617   1651 1606  1841  Sunny   13      78  0     \n",
       "5 2013-04-13 4823 2469   2117 2318  2505  Rain    16      81 37     \n",
       "6 2013-04-14 4978 2564   2223 2289  2689  Rain    16      73  0     "
      ]
     },
     "metadata": {},
     "output_type": "display_data"
    },
    {
     "name": "stdout",
     "output_type": "stream",
     "text": [
      "Tail \n"
     ]
    },
    {
     "data": {
      "text/html": [
       "<table>\n",
       "<thead><tr><th></th><th scope=col>date</th><th scope=col>all</th><th scope=col>female</th><th scope=col>male</th><th scope=col>young</th><th scope=col>adult</th><th scope=col>weather</th><th scope=col>maxtemp</th><th scope=col>RH</th><th scope=col>maxwind</th></tr></thead>\n",
       "<tbody>\n",
       "\t<tr><th scope=row>252</th><td>2013-12-16</td><td>3228      </td><td>1442      </td><td>1606      </td><td>1625      </td><td>1603      </td><td>Sunny     </td><td>10        </td><td>87        </td><td>32        </td></tr>\n",
       "\t<tr><th scope=row>253</th><td>2013-12-17</td><td>3191      </td><td>1427      </td><td>1627      </td><td>1688      </td><td>1503      </td><td>Rain      </td><td>11        </td><td>90        </td><td>24        </td></tr>\n",
       "\t<tr><th scope=row>254</th><td>2013-12-18</td><td>4153      </td><td>2035      </td><td>1880      </td><td>2208      </td><td>1945      </td><td>Rain      </td><td>10        </td><td>93        </td><td> 0        </td></tr>\n",
       "\t<tr><th scope=row>255</th><td>2013-12-19</td><td>4307      </td><td>2043      </td><td>2028      </td><td>2282      </td><td>2025      </td><td>Rain      </td><td>12        </td><td>86        </td><td>74        </td></tr>\n",
       "\t<tr><th scope=row>256</th><td>2013-12-20</td><td>4660      </td><td>2207      </td><td>2227      </td><td>2441      </td><td>2219      </td><td>Sunny     </td><td> 9        </td><td>69        </td><td> 0        </td></tr>\n",
       "\t<tr><th scope=row>257</th><td>2013-12-21</td><td>6193      </td><td>2894      </td><td>2967      </td><td>3115      </td><td>3078      </td><td>Sunny     </td><td> 9        </td><td>68        </td><td> 0        </td></tr>\n",
       "</tbody>\n",
       "</table>\n"
      ],
      "text/latex": [
       "\\begin{tabular}{r|llllllllll}\n",
       "  & date & all & female & male & young & adult & weather & maxtemp & RH & maxwind\\\\\n",
       "\\hline\n",
       "\t252 & 2013-12-16 & 3228       & 1442       & 1606       & 1625       & 1603       & Sunny      & 10         & 87         & 32        \\\\\n",
       "\t253 & 2013-12-17 & 3191       & 1427       & 1627       & 1688       & 1503       & Rain       & 11         & 90         & 24        \\\\\n",
       "\t254 & 2013-12-18 & 4153       & 2035       & 1880       & 2208       & 1945       & Rain       & 10         & 93         &  0        \\\\\n",
       "\t255 & 2013-12-19 & 4307       & 2043       & 2028       & 2282       & 2025       & Rain       & 12         & 86         & 74        \\\\\n",
       "\t256 & 2013-12-20 & 4660       & 2207       & 2227       & 2441       & 2219       & Sunny      &  9         & 69         &  0        \\\\\n",
       "\t257 & 2013-12-21 & 6193       & 2894       & 2967       & 3115       & 3078       & Sunny      &  9         & 68         &  0        \\\\\n",
       "\\end{tabular}\n"
      ],
      "text/markdown": [
       "\n",
       "| <!--/--> | date | all | female | male | young | adult | weather | maxtemp | RH | maxwind |\n",
       "|---|---|---|---|---|---|---|---|---|---|---|\n",
       "| 252 | 2013-12-16 | 3228       | 1442       | 1606       | 1625       | 1603       | Sunny      | 10         | 87         | 32         |\n",
       "| 253 | 2013-12-17 | 3191       | 1427       | 1627       | 1688       | 1503       | Rain       | 11         | 90         | 24         |\n",
       "| 254 | 2013-12-18 | 4153       | 2035       | 1880       | 2208       | 1945       | Rain       | 10         | 93         |  0         |\n",
       "| 255 | 2013-12-19 | 4307       | 2043       | 2028       | 2282       | 2025       | Rain       | 12         | 86         | 74         |\n",
       "| 256 | 2013-12-20 | 4660       | 2207       | 2227       | 2441       | 2219       | Sunny      |  9         | 69         |  0         |\n",
       "| 257 | 2013-12-21 | 6193       | 2894       | 2967       | 3115       | 3078       | Sunny      |  9         | 68         |  0         |\n",
       "\n"
      ],
      "text/plain": [
       "    date       all  female male young adult weather maxtemp RH maxwind\n",
       "252 2013-12-16 3228 1442   1606 1625  1603  Sunny   10      87 32     \n",
       "253 2013-12-17 3191 1427   1627 1688  1503  Rain    11      90 24     \n",
       "254 2013-12-18 4153 2035   1880 2208  1945  Rain    10      93  0     \n",
       "255 2013-12-19 4307 2043   2028 2282  2025  Rain    12      86 74     \n",
       "256 2013-12-20 4660 2207   2227 2441  2219  Sunny    9      69  0     \n",
       "257 2013-12-21 6193 2894   2967 3115  3078  Sunny    9      68  0     "
      ]
     },
     "metadata": {},
     "output_type": "display_data"
    },
    {
     "name": "stdout",
     "output_type": "stream",
     "text": [
      "Glimpse \n",
      "Observations: 257\n",
      "Variables: 10\n",
      "$ date    <fct> 2013-04-09, 2013-04-10, 2013-04-11, 2013-04-12, 2013-04-13,...\n",
      "$ all     <dbl> 2332, 2801, 2375, 3447, 4823, 4978, 2706, 2639, 2647, 2612,...\n",
      "$ female  <dbl> 1115, 1217, 1168, 1617, 2469, 2564, 1192, 1220, 1178, 1257,...\n",
      "$ male    <int> 1108, 1459, 1099, 1651, 2117, 2223, 1401, 1308, 1329, 1228,...\n",
      "$ young   <int> 1122, 1239, 1059, 1606, 2318, 2289, 1148, 1110, 1152, 1064,...\n",
      "$ adult   <dbl> 1210, 1562, 1316, 1841, 2505, 2689, 1558, 1529, 1495, 1548,...\n",
      "$ weather <fct> Rain, Rain, Rain, Sunny, Rain, Rain, Sunny, Sunny, Sunny, S...\n",
      "$ maxtemp <int> 13, 14, 14, 13, 16, 16, 17, 17, 16, 16, 16, 18, 16, 17, 19,...\n",
      "$ RH      <int> 87, 94, 82, 78, 81, 73, 80, 70, 72, 72, 62, 47, 49, 67, 51,...\n",
      "$ maxwind <int> 0, 45, 55, 0, 37, 0, 0, 32, 0, 53, 0, 50, 0, 29, 35, 27, 48...\n",
      "Number Columns \n"
     ]
    },
    {
     "data": {
      "text/html": [
       "10"
      ],
      "text/latex": [
       "10"
      ],
      "text/markdown": [
       "10"
      ],
      "text/plain": [
       "[1] 10"
      ]
     },
     "metadata": {},
     "output_type": "display_data"
    },
    {
     "name": "stdout",
     "output_type": "stream",
     "text": [
      "Number Rows \n"
     ]
    },
    {
     "data": {
      "text/html": [
       "257"
      ],
      "text/latex": [
       "257"
      ],
      "text/markdown": [
       "257"
      ],
      "text/plain": [
       "[1] 257"
      ]
     },
     "metadata": {},
     "output_type": "display_data"
    },
    {
     "name": "stdout",
     "output_type": "stream",
     "text": [
      "Column Names \n"
     ]
    },
    {
     "data": {
      "text/html": [
       "<ol class=list-inline>\n",
       "\t<li>'date'</li>\n",
       "\t<li>'all'</li>\n",
       "\t<li>'female'</li>\n",
       "\t<li>'male'</li>\n",
       "\t<li>'young'</li>\n",
       "\t<li>'adult'</li>\n",
       "\t<li>'weather'</li>\n",
       "\t<li>'maxtemp'</li>\n",
       "\t<li>'RH'</li>\n",
       "\t<li>'maxwind'</li>\n",
       "</ol>\n"
      ],
      "text/latex": [
       "\\begin{enumerate*}\n",
       "\\item 'date'\n",
       "\\item 'all'\n",
       "\\item 'female'\n",
       "\\item 'male'\n",
       "\\item 'young'\n",
       "\\item 'adult'\n",
       "\\item 'weather'\n",
       "\\item 'maxtemp'\n",
       "\\item 'RH'\n",
       "\\item 'maxwind'\n",
       "\\end{enumerate*}\n"
      ],
      "text/markdown": [
       "1. 'date'\n",
       "2. 'all'\n",
       "3. 'female'\n",
       "4. 'male'\n",
       "5. 'young'\n",
       "6. 'adult'\n",
       "7. 'weather'\n",
       "8. 'maxtemp'\n",
       "9. 'RH'\n",
       "10. 'maxwind'\n",
       "\n",
       "\n"
      ],
      "text/plain": [
       " [1] \"date\"    \"all\"     \"female\"  \"male\"    \"young\"   \"adult\"   \"weather\"\n",
       " [8] \"maxtemp\" \"RH\"      \"maxwind\""
      ]
     },
     "metadata": {},
     "output_type": "display_data"
    },
    {
     "name": "stdout",
     "output_type": "stream",
     "text": [
      "Summary \n"
     ]
    },
    {
     "data": {
      "text/plain": [
       "         date          all            female          male          young     \n",
       " 2013-04-09:  1   Min.   :  375   Min.   : 194   Min.   : 170   Min.   : 191  \n",
       " 2013-04-10:  1   1st Qu.: 2569   1st Qu.:1139   1st Qu.:1327   1st Qu.:1122  \n",
       " 2013-04-11:  1   Median : 3643   Median :1725   Median :1755   Median :1625  \n",
       " 2013-04-12:  1   Mean   : 3648   Mean   :1698   Mean   :1776   Mean   :1648  \n",
       " 2013-04-13:  1   3rd Qu.: 4314   3rd Qu.:2035   3rd Qu.:2057   3rd Qu.:1942  \n",
       " 2013-04-14:  1   Max.   :15735   Max.   :7645   Max.   :7045   Max.   :7495  \n",
       " (Other)   :251                                                               \n",
       "     adult       weather       maxtemp            RH           maxwind     \n",
       " Min.   : 184   Rain : 57   Min.   : 7.00   Min.   :24.00   Min.   : 0.00  \n",
       " 1st Qu.:1433   Sunny:200   1st Qu.:16.00   1st Qu.:57.00   1st Qu.: 0.00  \n",
       " Median :2021               Median :19.00   Median :69.00   Median :32.00  \n",
       " Mean   :2000               Mean   :18.59   Mean   :67.23   Mean   :24.95  \n",
       " 3rd Qu.:2349               3rd Qu.:22.00   3rd Qu.:78.00   3rd Qu.:42.00  \n",
       " Max.   :8240               Max.   :32.00   Max.   :99.00   Max.   :74.00  \n",
       "                                                                           "
      ]
     },
     "metadata": {},
     "output_type": "display_data"
    },
    {
     "name": "stdout",
     "output_type": "stream",
     "text": [
      "NA verification \n",
      "There are 0 null/missing(NA) values"
     ]
    },
    {
     "data": {
      "text/html": [
       "10"
      ],
      "text/latex": [
       "10"
      ],
      "text/markdown": [
       "10"
      ],
      "text/plain": [
       "[1] 10"
      ]
     },
     "metadata": {},
     "output_type": "display_data"
    }
   ],
   "source": [
    "cat('Head \\n')\n",
    "head(data)\n",
    "\n",
    "cat('Tail \\n')\n",
    "tail(data)\n",
    "\n",
    "cat('Glimpse \\n')\n",
    "glimpse(data)\n",
    "\n",
    "cat('Number Columns \\n')\n",
    "ncol(data)\n",
    "\n",
    "cat('Number Rows \\n')\n",
    "nrow(data)\n",
    "\n",
    "cat('Column Names \\n')\n",
    "colnames(data)\n",
    "\n",
    "cat('Summary \\n')\n",
    "summary(data)\n",
    "\n",
    "cat('NA verification \\n')\n",
    "sum(is.na(data)) -> missing \n",
    "cat(\"There are\", missing , \"null/missing(NA) values\")\n",
    "\n",
    "length(data)"
   ]
  },
  {
   "cell_type": "markdown",
   "id": "0f0069fe",
   "metadata": {},
   "source": [
    "## Data Visualization and Exploratory Data Analysis"
   ]
  },
  {
   "cell_type": "code",
   "execution_count": 120,
   "id": "e90925a4",
   "metadata": {},
   "outputs": [
    {
     "data": {
      "image/png": "[encoded data removed]",
      "text/plain": [
       "plot without title"
      ]
     },
     "metadata": {},
     "output_type": "display_data"
    }
   ],
   "source": [
    "ggplot(data=data, aes(x=weather))+geom_bar()+\n",
    "xlab(\"Clima\")+\n",
    "ylab(\"Frequencia\")+\n",
    "ggtitle(\"Freq de Clima\")+\n",
    "geom_text(aes(label = ..count..), stat = \"count\", vjust = 1.5, colour = \"white\")"
   ]
  },
  {
   "cell_type": "code",
   "execution_count": 121,
   "id": "77be392c",
   "metadata": {},
   "outputs": [
    {
     "data": {
      "text/html": [
       "<ol class=list-inline>\n",
       "\t<li>7961</li>\n",
       "\t<li>9371</li>\n",
       "\t<li>9163</li>\n",
       "\t<li>8300</li>\n",
       "\t<li>8270</li>\n",
       "\t<li>15735</li>\n",
       "\t<li>7719</li>\n",
       "\t<li>11110</li>\n",
       "</ol>\n"
      ],
      "text/latex": [
       "\\begin{enumerate*}\n",
       "\\item 7961\n",
       "\\item 9371\n",
       "\\item 9163\n",
       "\\item 8300\n",
       "\\item 8270\n",
       "\\item 15735\n",
       "\\item 7719\n",
       "\\item 11110\n",
       "\\end{enumerate*}\n"
      ],
      "text/markdown": [
       "1. 7961\n",
       "2. 9371\n",
       "3. 9163\n",
       "4. 8300\n",
       "5. 8270\n",
       "6. 15735\n",
       "7. 7719\n",
       "8. 11110\n",
       "\n",
       "\n"
      ],
      "text/plain": [
       "[1]  7961  9371  9163  8300  8270 15735  7719 11110"
      ]
     },
     "metadata": {},
     "output_type": "display_data"
    },
    {
     "data": {
      "image/png": "[encoded data removed]",
      "text/plain": [
       "plot without title"
      ]
     },
     "metadata": {},
     "output_type": "display_data"
    }
   ],
   "source": [
    "outliers <- boxplot.stats(data$all)$out\n",
    "ggplot(data=data, aes(y=all))+geom_boxplot()\n",
    "outliers"
   ]
  },
  {
   "cell_type": "code",
   "execution_count": 122,
   "id": "ae81c5c3",
   "metadata": {},
   "outputs": [
    {
     "data": {
      "image/png": "[encoded data removed]",
      "text/plain": [
       "plot without title"
      ]
     },
     "metadata": {},
     "output_type": "display_data"
    }
   ],
   "source": [
    "ggplot(data=data, aes(x=all))+geom_histogram(bins=40)"
   ]
  },
  {
   "cell_type": "code",
   "execution_count": 123,
   "id": "58fe32b7",
   "metadata": {},
   "outputs": [
    {
     "data": {
      "image/png": "[encoded data removed]",
      "text/plain": [
       "plot without title"
      ]
     },
     "metadata": {},
     "output_type": "display_data"
    }
   ],
   "source": [
    "ggplot(data=data, aes(weather,y=all))+geom_boxplot()+xlab(\"Clima\")+ggtitle(\"Boxplot All/Clima\")"
   ]
  },
  {
   "cell_type": "code",
   "execution_count": 124,
   "id": "ddb64003",
   "metadata": {},
   "outputs": [
    {
     "data": {
      "image/png": "[encoded data removed]",
      "text/plain": [
       "plot without title"
      ]
     },
     "metadata": {},
     "output_type": "display_data"
    }
   ],
   "source": [
    "ggplot(data=data, aes(x=maxwind,y=all))+geom_line()"
   ]
  },
  {
   "cell_type": "code",
   "execution_count": 125,
   "id": "ea7f97c5",
   "metadata": {},
   "outputs": [],
   "source": [
    "cor(data[2:6]) -> cor_pessoas"
   ]
  },
  {
   "cell_type": "code",
   "execution_count": 10,
   "id": "9fb36ef6",
   "metadata": {},
   "outputs": [
    {
     "data": {
      "image/png": "[encoded data removed]",
      "text/plain": [
       "Plot with title \"\""
      ]
     },
     "metadata": {},
     "output_type": "display_data"
    },
    {
     "data": {
      "image/png": "[encoded data removed]",
      "text/plain": [
       "Plot with title \"\""
      ]
     },
     "metadata": {},
     "output_type": "display_data"
    }
   ],
   "source": [
    "corrplot(cor_pessoas, method= 'square')\n",
    "corrplot(cor_pessoas, method= 'square', type='upper')"
   ]
  },
  {
   "cell_type": "code",
   "execution_count": 12,
   "id": "313ce695",
   "metadata": {},
   "outputs": [
    {
     "data": {
      "text/html": [
       "<ol class=list-inline>\n",
       "\t<li>7961</li>\n",
       "\t<li>9371</li>\n",
       "\t<li>9163</li>\n",
       "\t<li>8300</li>\n",
       "\t<li>8270</li>\n",
       "\t<li>15735</li>\n",
       "\t<li>7719</li>\n",
       "\t<li>11110</li>\n",
       "</ol>\n"
      ],
      "text/latex": [
       "\\begin{enumerate*}\n",
       "\\item 7961\n",
       "\\item 9371\n",
       "\\item 9163\n",
       "\\item 8300\n",
       "\\item 8270\n",
       "\\item 15735\n",
       "\\item 7719\n",
       "\\item 11110\n",
       "\\end{enumerate*}\n"
      ],
      "text/markdown": [
       "1. 7961\n",
       "2. 9371\n",
       "3. 9163\n",
       "4. 8300\n",
       "5. 8270\n",
       "6. 15735\n",
       "7. 7719\n",
       "8. 11110\n",
       "\n",
       "\n"
      ],
      "text/plain": [
       "[1]  7961  9371  9163  8300  8270 15735  7719 11110"
      ]
     },
     "metadata": {},
     "output_type": "display_data"
    },
    {
     "name": "stdout",
     "output_type": "stream",
     "text": [
      "nº ouliers: 8"
     ]
    },
    {
     "data": {
      "image/png": "[encoded data removed]",
      "text/plain": [
       "Plot with title \"Boxplot All\""
      ]
     },
     "metadata": {},
     "output_type": "display_data"
    }
   ],
   "source": [
    "boxplot(data$all, main=\"Boxplot All\", ylab=\"Frequencia\")$out\n",
    "cat(\"nº outliers:\",length(boxplot(data$all, main=\"Boxplot All\", ylab=\"Frequencia\")$out))"
   ]
  },
  {
   "cell_type": "code",
   "execution_count": 3,
   "id": "3c700a54",
   "metadata": {},
   "outputs": [
    {
     "data": {
      "text/html": [
       "<table>\n",
       "<thead><tr><th></th><th scope=col>date</th><th scope=col>all</th><th scope=col>female</th><th scope=col>male</th><th scope=col>young</th><th scope=col>adult</th><th scope=col>weather</th><th scope=col>maxtemp</th><th scope=col>RH</th><th scope=col>maxwind</th></tr></thead>\n",
       "<tbody>\n",
       "\t<tr><th scope=row>117</th><td>2013-08-03</td><td> 7961     </td><td>3693      </td><td>3761      </td><td>3496      </td><td>4465      </td><td>Sunny     </td><td>21        </td><td>68        </td><td>42        </td></tr>\n",
       "\t<tr><th scope=row>118</th><td>2013-08-04</td><td> 9371     </td><td>4314      </td><td>4448      </td><td>4131      </td><td>5240      </td><td>Sunny     </td><td>22        </td><td>66        </td><td> 0        </td></tr>\n",
       "\t<tr><th scope=row>129</th><td>2013-08-15</td><td> 9163     </td><td>4189      </td><td>4455      </td><td>4005      </td><td>5158      </td><td>Sunny     </td><td>26        </td><td>70        </td><td>32        </td></tr>\n",
       "\t<tr><th scope=row>141</th><td>2013-08-27</td><td> 8300     </td><td>3842      </td><td>3850      </td><td>3503      </td><td>4797      </td><td>Sunny     </td><td>23        </td><td>66        </td><td>34        </td></tr>\n",
       "\t<tr><th scope=row>178</th><td>2013-10-03</td><td> 8270     </td><td>3715      </td><td>4142      </td><td>3766      </td><td>4504      </td><td>Rain      </td><td>20        </td><td>84        </td><td> 0        </td></tr>\n",
       "\t<tr><th scope=row>181</th><td>2013-10-06</td><td>15735     </td><td>7645      </td><td>7045      </td><td>7495      </td><td>8240      </td><td>Sunny     </td><td>21        </td><td>68        </td><td>39        </td></tr>\n",
       "\t<tr><th scope=row>222</th><td>2013-11-16</td><td> 7719     </td><td>3549      </td><td>3768      </td><td>3889      </td><td>3830      </td><td>Sunny     </td><td>10        </td><td>63        </td><td>50        </td></tr>\n",
       "\t<tr><th scope=row>250</th><td>2013-12-14</td><td>11110     </td><td>5246      </td><td>5259      </td><td>5953      </td><td>5157      </td><td>Rain      </td><td>13        </td><td>83        </td><td>48        </td></tr>\n",
       "</tbody>\n",
       "</table>\n"
      ],
      "text/latex": [
       "\\begin{tabular}{r|llllllllll}\n",
       "  & date & all & female & male & young & adult & weather & maxtemp & RH & maxwind\\\\\n",
       "\\hline\n",
       "\t117 & 2013-08-03 &  7961      & 3693       & 3761       & 3496       & 4465       & Sunny      & 21         & 68         & 42        \\\\\n",
       "\t118 & 2013-08-04 &  9371      & 4314       & 4448       & 4131       & 5240       & Sunny      & 22         & 66         &  0        \\\\\n",
       "\t129 & 2013-08-15 &  9163      & 4189       & 4455       & 4005       & 5158       & Sunny      & 26         & 70         & 32        \\\\\n",
       "\t141 & 2013-08-27 &  8300      & 3842       & 3850       & 3503       & 4797       & Sunny      & 23         & 66         & 34        \\\\\n",
       "\t178 & 2013-10-03 &  8270      & 3715       & 4142       & 3766       & 4504       & Rain       & 20         & 84         &  0        \\\\\n",
       "\t181 & 2013-10-06 & 15735      & 7645       & 7045       & 7495       & 8240       & Sunny      & 21         & 68         & 39        \\\\\n",
       "\t222 & 2013-11-16 &  7719      & 3549       & 3768       & 3889       & 3830       & Sunny      & 10         & 63         & 50        \\\\\n",
       "\t250 & 2013-12-14 & 11110      & 5246       & 5259       & 5953       & 5157       & Rain       & 13         & 83         & 48        \\\\\n",
       "\\end{tabular}\n"
      ],
      "text/markdown": [
       "\n",
       "| <!--/--> | date | all | female | male | young | adult | weather | maxtemp | RH | maxwind |\n",
       "|---|---|---|---|---|---|---|---|---|---|---|\n",
       "| 117 | 2013-08-03 |  7961      | 3693       | 3761       | 3496       | 4465       | Sunny      | 21         | 68         | 42         |\n",
       "| 118 | 2013-08-04 |  9371      | 4314       | 4448       | 4131       | 5240       | Sunny      | 22         | 66         |  0         |\n",
       "| 129 | 2013-08-15 |  9163      | 4189       | 4455       | 4005       | 5158       | Sunny      | 26         | 70         | 32         |\n",
       "| 141 | 2013-08-27 |  8300      | 3842       | 3850       | 3503       | 4797       | Sunny      | 23         | 66         | 34         |\n",
       "| 178 | 2013-10-03 |  8270      | 3715       | 4142       | 3766       | 4504       | Rain       | 20         | 84         |  0         |\n",
       "| 181 | 2013-10-06 | 15735      | 7645       | 7045       | 7495       | 8240       | Sunny      | 21         | 68         | 39         |\n",
       "| 222 | 2013-11-16 |  7719      | 3549       | 3768       | 3889       | 3830       | Sunny      | 10         | 63         | 50         |\n",
       "| 250 | 2013-12-14 | 11110      | 5246       | 5259       | 5953       | 5157       | Rain       | 13         | 83         | 48         |\n",
       "\n"
      ],
      "text/plain": [
       "    date       all   female male young adult weather maxtemp RH maxwind\n",
       "117 2013-08-03  7961 3693   3761 3496  4465  Sunny   21      68 42     \n",
       "118 2013-08-04  9371 4314   4448 4131  5240  Sunny   22      66  0     \n",
       "129 2013-08-15  9163 4189   4455 4005  5158  Sunny   26      70 32     \n",
       "141 2013-08-27  8300 3842   3850 3503  4797  Sunny   23      66 34     \n",
       "178 2013-10-03  8270 3715   4142 3766  4504  Rain    20      84  0     \n",
       "181 2013-10-06 15735 7645   7045 7495  8240  Sunny   21      68 39     \n",
       "222 2013-11-16  7719 3549   3768 3889  3830  Sunny   10      63 50     \n",
       "250 2013-12-14 11110 5246   5259 5953  5157  Rain    13      83 48     "
      ]
     },
     "metadata": {},
     "output_type": "display_data"
    }
   ],
   "source": [
    "# ver que obsercações correspondem aos valores de 7961 9371 9163 8300 8270 15735 7719 11110\n",
    "data[data$all %in% c(7961, 9371, 9163, 8300, 8270, 15735, 7719, 11110),]"
   ]
  },
  {
   "cell_type": "code",
   "execution_count": 85,
   "id": "5fa4a3ee",
   "metadata": {},
   "outputs": [
    {
     "data": {
      "image/png": "[encoded data removed]",
      "text/plain": [
       "plot without title"
      ]
     },
     "metadata": {},
     "output_type": "display_data"
    }
   ],
   "source": [
    "plot((data$all))"
   ]
  },
  {
   "cell_type": "code",
   "execution_count": 76,
   "id": "3509d0d8",
   "metadata": {},
   "outputs": [
    {
     "data": {
      "image/png": "[encoded data removed]",
      "text/plain": [
       "plot without title"
      ]
     },
     "metadata": {},
     "output_type": "display_data"
    }
   ],
   "source": [
    "pie(table(data$weather))"
   ]
  },
  {
   "cell_type": "code",
   "execution_count": 107,
   "id": "30fdd993",
   "metadata": {},
   "outputs": [
    {
     "data": {
      "image/png": "[encoded data removed]",
      "text/plain": [
       "Plot with title \"Diagrama de Densidade All\""
      ]
     },
     "metadata": {},
     "output_type": "display_data"
    }
   ],
   "source": [
    "plot(density(data$all),main=\"Diagrama de Densidade All\")"
   ]
  },
  {
   "cell_type": "code",
   "execution_count": 97,
   "id": "0b22b71b",
   "metadata": {},
   "outputs": [
    {
     "data": {
      "image/png": "[encoded data removed]",
      "text/plain": [
       "Plot with title \"Histograma 'All'\""
      ]
     },
     "metadata": {},
     "output_type": "display_data"
    }
   ],
   "source": [
    "hist(data$all, main=\"Histograma 'All'\", xlab=\"All\", ylab=\"Frequencia\")"
   ]
  },
  {
   "cell_type": "code",
   "execution_count": 127,
   "id": "d4a739f6",
   "metadata": {},
   "outputs": [
    {
     "data": {
      "image/png": "[encoded data removed]",
      "text/plain": [
       "plot without title"
      ]
     },
     "metadata": {},
     "output_type": "display_data"
    }
   ],
   "source": [
    "pie(table(data$weather))"
   ]
  }
 ],
 "metadata": {
  "kernelspec": {
   "display_name": "R",
   "language": "R",
   "name": "ir"
  },
  "language_info": {
   "codemirror_mode": "r",
   "file_extension": ".r",
   "mimetype": "text/x-r-source",
   "name": "R",
   "pygments_lexer": "r",
   "version": "3.6.1"
  }
 },
 "nbformat": 4,
 "nbformat_minor": 5
}
