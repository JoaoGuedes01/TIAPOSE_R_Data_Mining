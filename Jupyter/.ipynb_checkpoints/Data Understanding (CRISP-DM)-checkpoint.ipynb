{
 "cells": [
  {
   "cell_type": "markdown",
   "id": "2177400a",
   "metadata": {},
   "source": [
    "## Descrição das variáveis\n",
    "#### date – dia em que foi efetuado o registo.\n",
    "#### all – entrada diária de todas pessoas (faces humanas) na loja.\n",
    "#### female – entrada de todos elementos identificados como pertencentes ao género feminino.\n",
    "#### male - igual ao atributo anterior mas relacionado com o género masculino.\n",
    "#### young – entradas com estimativa de idade jovem (até 18 anos).\n",
    "#### adult - entradas com estimativa de idade adulta (>18 anos).\n",
    "#### weather – estado do tempo no exterior (“Sunny” ou “Rain”).\n",
    "#### maxtemp, RH, maxwind – estado do tempo no exterior para o dia (temperatura máxima, humidade relativa máxima, velocidade do vento máximo)."
   ]
  },
  {
   "cell_type": "markdown",
   "id": "3eab8834",
   "metadata": {},
   "source": [
    "## Importing Libraries"
   ]
  },
  {
   "cell_type": "code",
   "execution_count": 128,
   "id": "7913196d",
   "metadata": {},
   "outputs": [],
   "source": [
    "library(tidyverse)"
   ]
  },
  {
   "cell_type": "code",
   "execution_count": 118,
   "id": "325e4f80",
   "metadata": {
    "scrolled": false
   },
   "outputs": [
    {
     "data": {
      "text/html": [
       "<table>\n",
       "<thead><tr><th scope=col>date</th><th scope=col>all</th><th scope=col>female</th><th scope=col>male</th><th scope=col>young</th><th scope=col>adult</th><th scope=col>weather</th><th scope=col>maxtemp</th><th scope=col>RH</th><th scope=col>maxwind</th></tr></thead>\n",
       "<tbody>\n",
       "\t<tr><td>2013-04-09</td><td>2332      </td><td>1115      </td><td>1108      </td><td>1122      </td><td>1210      </td><td>Rain      </td><td>13        </td><td>87        </td><td> 0        </td></tr>\n",
       "\t<tr><td>2013-04-10</td><td>2801      </td><td>1217      </td><td>1459      </td><td>1239      </td><td>1562      </td><td>Rain      </td><td>14        </td><td>94        </td><td>45        </td></tr>\n",
       "\t<tr><td>2013-04-11</td><td>2375      </td><td>1168      </td><td>1099      </td><td>1059      </td><td>1316      </td><td>Rain      </td><td>14        </td><td>82        </td><td>55        </td></tr>\n",
       "\t<tr><td>2013-04-12</td><td>3447      </td><td>1617      </td><td>1651      </td><td>1606      </td><td>1841      </td><td>Sunny     </td><td>13        </td><td>78        </td><td> 0        </td></tr>\n",
       "\t<tr><td>2013-04-13</td><td>4823      </td><td>2469      </td><td>2117      </td><td>2318      </td><td>2505      </td><td>Rain      </td><td>16        </td><td>81        </td><td>37        </td></tr>\n",
       "\t<tr><td>2013-04-14</td><td>4978      </td><td>2564      </td><td>2223      </td><td>2289      </td><td>2689      </td><td>Rain      </td><td>16        </td><td>73        </td><td> 0        </td></tr>\n",
       "</tbody>\n",
       "</table>\n"
      ],
      "text/latex": [
       "\\begin{tabular}{r|llllllllll}\n",
       " date & all & female & male & young & adult & weather & maxtemp & RH & maxwind\\\\\n",
       "\\hline\n",
       "\t 2013-04-09 & 2332       & 1115       & 1108       & 1122       & 1210       & Rain       & 13         & 87         &  0        \\\\\n",
       "\t 2013-04-10 & 2801       & 1217       & 1459       & 1239       & 1562       & Rain       & 14         & 94         & 45        \\\\\n",
       "\t 2013-04-11 & 2375       & 1168       & 1099       & 1059       & 1316       & Rain       & 14         & 82         & 55        \\\\\n",
       "\t 2013-04-12 & 3447       & 1617       & 1651       & 1606       & 1841       & Sunny      & 13         & 78         &  0        \\\\\n",
       "\t 2013-04-13 & 4823       & 2469       & 2117       & 2318       & 2505       & Rain       & 16         & 81         & 37        \\\\\n",
       "\t 2013-04-14 & 4978       & 2564       & 2223       & 2289       & 2689       & Rain       & 16         & 73         &  0        \\\\\n",
       "\\end{tabular}\n"
      ],
      "text/markdown": [
       "\n",
       "| date | all | female | male | young | adult | weather | maxtemp | RH | maxwind |\n",
       "|---|---|---|---|---|---|---|---|---|---|\n",
       "| 2013-04-09 | 2332       | 1115       | 1108       | 1122       | 1210       | Rain       | 13         | 87         |  0         |\n",
       "| 2013-04-10 | 2801       | 1217       | 1459       | 1239       | 1562       | Rain       | 14         | 94         | 45         |\n",
       "| 2013-04-11 | 2375       | 1168       | 1099       | 1059       | 1316       | Rain       | 14         | 82         | 55         |\n",
       "| 2013-04-12 | 3447       | 1617       | 1651       | 1606       | 1841       | Sunny      | 13         | 78         |  0         |\n",
       "| 2013-04-13 | 4823       | 2469       | 2117       | 2318       | 2505       | Rain       | 16         | 81         | 37         |\n",
       "| 2013-04-14 | 4978       | 2564       | 2223       | 2289       | 2689       | Rain       | 16         | 73         |  0         |\n",
       "\n"
      ],
      "text/plain": [
       "  date       all  female male young adult weather maxtemp RH maxwind\n",
       "1 2013-04-09 2332 1115   1108 1122  1210  Rain    13      87  0     \n",
       "2 2013-04-10 2801 1217   1459 1239  1562  Rain    14      94 45     \n",
       "3 2013-04-11 2375 1168   1099 1059  1316  Rain    14      82 55     \n",
       "4 2013-04-12 3447 1617   1651 1606  1841  Sunny   13      78  0     \n",
       "5 2013-04-13 4823 2469   2117 2318  2505  Rain    16      81 37     \n",
       "6 2013-04-14 4978 2564   2223 2289  2689  Rain    16      73  0     "
      ]
     },
     "metadata": {},
     "output_type": "display_data"
    }
   ],
   "source": [
    "data <- read.csv(file = '../data/store.csv', sep = ';')\n",
    "head(data)"
   ]
  },
  {
   "cell_type": "code",
   "execution_count": 119,
   "id": "2d50b6f2",
   "metadata": {},
   "outputs": [
    {
     "name": "stdout",
     "output_type": "stream",
     "text": [
      "Head \n"
     ]
    },
    {
     "data": {
      "text/html": [
       "<table>\n",
       "<thead><tr><th scope=col>date</th><th scope=col>all</th><th scope=col>female</th><th scope=col>male</th><th scope=col>young</th><th scope=col>adult</th><th scope=col>weather</th><th scope=col>maxtemp</th><th scope=col>RH</th><th scope=col>maxwind</th></tr></thead>\n",
       "<tbody>\n",
       "\t<tr><td>2013-04-09</td><td>2332      </td><td>1115      </td><td>1108      </td><td>1122      </td><td>1210      </td><td>Rain      </td><td>13        </td><td>87        </td><td> 0        </td></tr>\n",
       "\t<tr><td>2013-04-10</td><td>2801      </td><td>1217      </td><td>1459      </td><td>1239      </td><td>1562      </td><td>Rain      </td><td>14        </td><td>94        </td><td>45        </td></tr>\n",
       "\t<tr><td>2013-04-11</td><td>2375      </td><td>1168      </td><td>1099      </td><td>1059      </td><td>1316      </td><td>Rain      </td><td>14        </td><td>82        </td><td>55        </td></tr>\n",
       "\t<tr><td>2013-04-12</td><td>3447      </td><td>1617      </td><td>1651      </td><td>1606      </td><td>1841      </td><td>Sunny     </td><td>13        </td><td>78        </td><td> 0        </td></tr>\n",
       "\t<tr><td>2013-04-13</td><td>4823      </td><td>2469      </td><td>2117      </td><td>2318      </td><td>2505      </td><td>Rain      </td><td>16        </td><td>81        </td><td>37        </td></tr>\n",
       "\t<tr><td>2013-04-14</td><td>4978      </td><td>2564      </td><td>2223      </td><td>2289      </td><td>2689      </td><td>Rain      </td><td>16        </td><td>73        </td><td> 0        </td></tr>\n",
       "</tbody>\n",
       "</table>\n"
      ],
      "text/latex": [
       "\\begin{tabular}{r|llllllllll}\n",
       " date & all & female & male & young & adult & weather & maxtemp & RH & maxwind\\\\\n",
       "\\hline\n",
       "\t 2013-04-09 & 2332       & 1115       & 1108       & 1122       & 1210       & Rain       & 13         & 87         &  0        \\\\\n",
       "\t 2013-04-10 & 2801       & 1217       & 1459       & 1239       & 1562       & Rain       & 14         & 94         & 45        \\\\\n",
       "\t 2013-04-11 & 2375       & 1168       & 1099       & 1059       & 1316       & Rain       & 14         & 82         & 55        \\\\\n",
       "\t 2013-04-12 & 3447       & 1617       & 1651       & 1606       & 1841       & Sunny      & 13         & 78         &  0        \\\\\n",
       "\t 2013-04-13 & 4823       & 2469       & 2117       & 2318       & 2505       & Rain       & 16         & 81         & 37        \\\\\n",
       "\t 2013-04-14 & 4978       & 2564       & 2223       & 2289       & 2689       & Rain       & 16         & 73         &  0        \\\\\n",
       "\\end{tabular}\n"
      ],
      "text/markdown": [
       "\n",
       "| date | all | female | male | young | adult | weather | maxtemp | RH | maxwind |\n",
       "|---|---|---|---|---|---|---|---|---|---|\n",
       "| 2013-04-09 | 2332       | 1115       | 1108       | 1122       | 1210       | Rain       | 13         | 87         |  0         |\n",
       "| 2013-04-10 | 2801       | 1217       | 1459       | 1239       | 1562       | Rain       | 14         | 94         | 45         |\n",
       "| 2013-04-11 | 2375       | 1168       | 1099       | 1059       | 1316       | Rain       | 14         | 82         | 55         |\n",
       "| 2013-04-12 | 3447       | 1617       | 1651       | 1606       | 1841       | Sunny      | 13         | 78         |  0         |\n",
       "| 2013-04-13 | 4823       | 2469       | 2117       | 2318       | 2505       | Rain       | 16         | 81         | 37         |\n",
       "| 2013-04-14 | 4978       | 2564       | 2223       | 2289       | 2689       | Rain       | 16         | 73         |  0         |\n",
       "\n"
      ],
      "text/plain": [
       "  date       all  female male young adult weather maxtemp RH maxwind\n",
       "1 2013-04-09 2332 1115   1108 1122  1210  Rain    13      87  0     \n",
       "2 2013-04-10 2801 1217   1459 1239  1562  Rain    14      94 45     \n",
       "3 2013-04-11 2375 1168   1099 1059  1316  Rain    14      82 55     \n",
       "4 2013-04-12 3447 1617   1651 1606  1841  Sunny   13      78  0     \n",
       "5 2013-04-13 4823 2469   2117 2318  2505  Rain    16      81 37     \n",
       "6 2013-04-14 4978 2564   2223 2289  2689  Rain    16      73  0     "
      ]
     },
     "metadata": {},
     "output_type": "display_data"
    },
    {
     "name": "stdout",
     "output_type": "stream",
     "text": [
      "Tail \n"
     ]
    },
    {
     "data": {
      "text/html": [
       "<table>\n",
       "<thead><tr><th></th><th scope=col>date</th><th scope=col>all</th><th scope=col>female</th><th scope=col>male</th><th scope=col>young</th><th scope=col>adult</th><th scope=col>weather</th><th scope=col>maxtemp</th><th scope=col>RH</th><th scope=col>maxwind</th></tr></thead>\n",
       "<tbody>\n",
       "\t<tr><th scope=row>252</th><td>2013-12-16</td><td>3228      </td><td>1442      </td><td>1606      </td><td>1625      </td><td>1603      </td><td>Sunny     </td><td>10        </td><td>87        </td><td>32        </td></tr>\n",
       "\t<tr><th scope=row>253</th><td>2013-12-17</td><td>3191      </td><td>1427      </td><td>1627      </td><td>1688      </td><td>1503      </td><td>Rain      </td><td>11        </td><td>90        </td><td>24        </td></tr>\n",
       "\t<tr><th scope=row>254</th><td>2013-12-18</td><td>4153      </td><td>2035      </td><td>1880      </td><td>2208      </td><td>1945      </td><td>Rain      </td><td>10        </td><td>93        </td><td> 0        </td></tr>\n",
       "\t<tr><th scope=row>255</th><td>2013-12-19</td><td>4307      </td><td>2043      </td><td>2028      </td><td>2282      </td><td>2025      </td><td>Rain      </td><td>12        </td><td>86        </td><td>74        </td></tr>\n",
       "\t<tr><th scope=row>256</th><td>2013-12-20</td><td>4660      </td><td>2207      </td><td>2227      </td><td>2441      </td><td>2219      </td><td>Sunny     </td><td> 9        </td><td>69        </td><td> 0        </td></tr>\n",
       "\t<tr><th scope=row>257</th><td>2013-12-21</td><td>6193      </td><td>2894      </td><td>2967      </td><td>3115      </td><td>3078      </td><td>Sunny     </td><td> 9        </td><td>68        </td><td> 0        </td></tr>\n",
       "</tbody>\n",
       "</table>\n"
      ],
      "text/latex": [
       "\\begin{tabular}{r|llllllllll}\n",
       "  & date & all & female & male & young & adult & weather & maxtemp & RH & maxwind\\\\\n",
       "\\hline\n",
       "\t252 & 2013-12-16 & 3228       & 1442       & 1606       & 1625       & 1603       & Sunny      & 10         & 87         & 32        \\\\\n",
       "\t253 & 2013-12-17 & 3191       & 1427       & 1627       & 1688       & 1503       & Rain       & 11         & 90         & 24        \\\\\n",
       "\t254 & 2013-12-18 & 4153       & 2035       & 1880       & 2208       & 1945       & Rain       & 10         & 93         &  0        \\\\\n",
       "\t255 & 2013-12-19 & 4307       & 2043       & 2028       & 2282       & 2025       & Rain       & 12         & 86         & 74        \\\\\n",
       "\t256 & 2013-12-20 & 4660       & 2207       & 2227       & 2441       & 2219       & Sunny      &  9         & 69         &  0        \\\\\n",
       "\t257 & 2013-12-21 & 6193       & 2894       & 2967       & 3115       & 3078       & Sunny      &  9         & 68         &  0        \\\\\n",
       "\\end{tabular}\n"
      ],
      "text/markdown": [
       "\n",
       "| <!--/--> | date | all | female | male | young | adult | weather | maxtemp | RH | maxwind |\n",
       "|---|---|---|---|---|---|---|---|---|---|---|\n",
       "| 252 | 2013-12-16 | 3228       | 1442       | 1606       | 1625       | 1603       | Sunny      | 10         | 87         | 32         |\n",
       "| 253 | 2013-12-17 | 3191       | 1427       | 1627       | 1688       | 1503       | Rain       | 11         | 90         | 24         |\n",
       "| 254 | 2013-12-18 | 4153       | 2035       | 1880       | 2208       | 1945       | Rain       | 10         | 93         |  0         |\n",
       "| 255 | 2013-12-19 | 4307       | 2043       | 2028       | 2282       | 2025       | Rain       | 12         | 86         | 74         |\n",
       "| 256 | 2013-12-20 | 4660       | 2207       | 2227       | 2441       | 2219       | Sunny      |  9         | 69         |  0         |\n",
       "| 257 | 2013-12-21 | 6193       | 2894       | 2967       | 3115       | 3078       | Sunny      |  9         | 68         |  0         |\n",
       "\n"
      ],
      "text/plain": [
       "    date       all  female male young adult weather maxtemp RH maxwind\n",
       "252 2013-12-16 3228 1442   1606 1625  1603  Sunny   10      87 32     \n",
       "253 2013-12-17 3191 1427   1627 1688  1503  Rain    11      90 24     \n",
       "254 2013-12-18 4153 2035   1880 2208  1945  Rain    10      93  0     \n",
       "255 2013-12-19 4307 2043   2028 2282  2025  Rain    12      86 74     \n",
       "256 2013-12-20 4660 2207   2227 2441  2219  Sunny    9      69  0     \n",
       "257 2013-12-21 6193 2894   2967 3115  3078  Sunny    9      68  0     "
      ]
     },
     "metadata": {},
     "output_type": "display_data"
    },
    {
     "name": "stdout",
     "output_type": "stream",
     "text": [
      "Glimpse \n",
      "Observations: 257\n",
      "Variables: 10\n",
      "$ date    <fct> 2013-04-09, 2013-04-10, 2013-04-11, 2013-04-12, 2013-04-13,...\n",
      "$ all     <dbl> 2332, 2801, 2375, 3447, 4823, 4978, 2706, 2639, 2647, 2612,...\n",
      "$ female  <dbl> 1115, 1217, 1168, 1617, 2469, 2564, 1192, 1220, 1178, 1257,...\n",
      "$ male    <int> 1108, 1459, 1099, 1651, 2117, 2223, 1401, 1308, 1329, 1228,...\n",
      "$ young   <int> 1122, 1239, 1059, 1606, 2318, 2289, 1148, 1110, 1152, 1064,...\n",
      "$ adult   <dbl> 1210, 1562, 1316, 1841, 2505, 2689, 1558, 1529, 1495, 1548,...\n",
      "$ weather <fct> Rain, Rain, Rain, Sunny, Rain, Rain, Sunny, Sunny, Sunny, S...\n",
      "$ maxtemp <int> 13, 14, 14, 13, 16, 16, 17, 17, 16, 16, 16, 18, 16, 17, 19,...\n",
      "$ RH      <int> 87, 94, 82, 78, 81, 73, 80, 70, 72, 72, 62, 47, 49, 67, 51,...\n",
      "$ maxwind <int> 0, 45, 55, 0, 37, 0, 0, 32, 0, 53, 0, 50, 0, 29, 35, 27, 48...\n",
      "Number Columns \n"
     ]
    },
    {
     "data": {
      "text/html": [
       "10"
      ],
      "text/latex": [
       "10"
      ],
      "text/markdown": [
       "10"
      ],
      "text/plain": [
       "[1] 10"
      ]
     },
     "metadata": {},
     "output_type": "display_data"
    },
    {
     "name": "stdout",
     "output_type": "stream",
     "text": [
      "Number Rows \n"
     ]
    },
    {
     "data": {
      "text/html": [
       "257"
      ],
      "text/latex": [
       "257"
      ],
      "text/markdown": [
       "257"
      ],
      "text/plain": [
       "[1] 257"
      ]
     },
     "metadata": {},
     "output_type": "display_data"
    },
    {
     "name": "stdout",
     "output_type": "stream",
     "text": [
      "Column Names \n"
     ]
    },
    {
     "data": {
      "text/html": [
       "<ol class=list-inline>\n",
       "\t<li>'date'</li>\n",
       "\t<li>'all'</li>\n",
       "\t<li>'female'</li>\n",
       "\t<li>'male'</li>\n",
       "\t<li>'young'</li>\n",
       "\t<li>'adult'</li>\n",
       "\t<li>'weather'</li>\n",
       "\t<li>'maxtemp'</li>\n",
       "\t<li>'RH'</li>\n",
       "\t<li>'maxwind'</li>\n",
       "</ol>\n"
      ],
      "text/latex": [
       "\\begin{enumerate*}\n",
       "\\item 'date'\n",
       "\\item 'all'\n",
       "\\item 'female'\n",
       "\\item 'male'\n",
       "\\item 'young'\n",
       "\\item 'adult'\n",
       "\\item 'weather'\n",
       "\\item 'maxtemp'\n",
       "\\item 'RH'\n",
       "\\item 'maxwind'\n",
       "\\end{enumerate*}\n"
      ],
      "text/markdown": [
       "1. 'date'\n",
       "2. 'all'\n",
       "3. 'female'\n",
       "4. 'male'\n",
       "5. 'young'\n",
       "6. 'adult'\n",
       "7. 'weather'\n",
       "8. 'maxtemp'\n",
       "9. 'RH'\n",
       "10. 'maxwind'\n",
       "\n",
       "\n"
      ],
      "text/plain": [
       " [1] \"date\"    \"all\"     \"female\"  \"male\"    \"young\"   \"adult\"   \"weather\"\n",
       " [8] \"maxtemp\" \"RH\"      \"maxwind\""
      ]
     },
     "metadata": {},
     "output_type": "display_data"
    },
    {
     "name": "stdout",
     "output_type": "stream",
     "text": [
      "Summary \n"
     ]
    },
    {
     "data": {
      "text/plain": [
       "         date          all            female          male          young     \n",
       " 2013-04-09:  1   Min.   :  375   Min.   : 194   Min.   : 170   Min.   : 191  \n",
       " 2013-04-10:  1   1st Qu.: 2569   1st Qu.:1139   1st Qu.:1327   1st Qu.:1122  \n",
       " 2013-04-11:  1   Median : 3643   Median :1725   Median :1755   Median :1625  \n",
       " 2013-04-12:  1   Mean   : 3648   Mean   :1698   Mean   :1776   Mean   :1648  \n",
       " 2013-04-13:  1   3rd Qu.: 4314   3rd Qu.:2035   3rd Qu.:2057   3rd Qu.:1942  \n",
       " 2013-04-14:  1   Max.   :15735   Max.   :7645   Max.   :7045   Max.   :7495  \n",
       " (Other)   :251                                                               \n",
       "     adult       weather       maxtemp            RH           maxwind     \n",
       " Min.   : 184   Rain : 57   Min.   : 7.00   Min.   :24.00   Min.   : 0.00  \n",
       " 1st Qu.:1433   Sunny:200   1st Qu.:16.00   1st Qu.:57.00   1st Qu.: 0.00  \n",
       " Median :2021               Median :19.00   Median :69.00   Median :32.00  \n",
       " Mean   :2000               Mean   :18.59   Mean   :67.23   Mean   :24.95  \n",
       " 3rd Qu.:2349               3rd Qu.:22.00   3rd Qu.:78.00   3rd Qu.:42.00  \n",
       " Max.   :8240               Max.   :32.00   Max.   :99.00   Max.   :74.00  \n",
       "                                                                           "
      ]
     },
     "metadata": {},
     "output_type": "display_data"
    },
    {
     "name": "stdout",
     "output_type": "stream",
     "text": [
      "NA verification \n",
      "There are 0 null/missing(NA) values"
     ]
    },
    {
     "data": {
      "text/html": [
       "10"
      ],
      "text/latex": [
       "10"
      ],
      "text/markdown": [
       "10"
      ],
      "text/plain": [
       "[1] 10"
      ]
     },
     "metadata": {},
     "output_type": "display_data"
    }
   ],
   "source": [
    "cat('Head \\n')\n",
    "head(data)\n",
    "\n",
    "cat('Tail \\n')\n",
    "tail(data)\n",
    "\n",
    "cat('Glimpse \\n')\n",
    "glimpse(data)\n",
    "\n",
    "cat('Number Columns \\n')\n",
    "ncol(data)\n",
    "\n",
    "cat('Number Rows \\n')\n",
    "nrow(data)\n",
    "\n",
    "cat('Column Names \\n')\n",
    "colnames(data)\n",
    "\n",
    "cat('Summary \\n')\n",
    "summary(data)\n",
    "\n",
    "cat('NA verification \\n')\n",
    "sum(is.na(data)) -> missing \n",
    "cat(\"There are\", missing , \"null/missing(NA) values\")\n",
    "\n",
    "length(data)"
   ]
  },
  {
   "cell_type": "markdown",
   "id": "0f0069fe",
   "metadata": {},
   "source": [
    "## Data Visualization and Exploratory Data Analysis"
   ]
  },
  {
   "cell_type": "code",
   "execution_count": 120,
   "id": "e90925a4",
   "metadata": {},
   "outputs": [
    {
     "data": {
      "image/png": "[encoded data removed]",
      "text/plain": [
       "plot without title"
      ]
     },
     "metadata": {},
     "output_type": "display_data"
    }
   ],
   "source": [
    "ggplot(data=data, aes(x=weather))+geom_bar()+\n",
    "xlab(\"Clima\")+\n",
    "ylab(\"Frequencia\")+\n",
    "ggtitle(\"Freq de Clima\")+\n",
    "geom_text(aes(label = ..count..), stat = \"count\", vjust = 1.5, colour = \"white\")"
   ]
  },
  {
   "cell_type": "code",
   "execution_count": 121,
   "id": "77be392c",
   "metadata": {},
   "outputs": [
    {
     "data": {
      "text/html": [
       "<ol class=list-inline>\n",
       "\t<li>7961</li>\n",
       "\t<li>9371</li>\n",
       "\t<li>9163</li>\n",
       "\t<li>8300</li>\n",
       "\t<li>8270</li>\n",
       "\t<li>15735</li>\n",
       "\t<li>7719</li>\n",
       "\t<li>11110</li>\n",
       "</ol>\n"
      ],
      "text/latex": [
       "\\begin{enumerate*}\n",
       "\\item 7961\n",
       "\\item 9371\n",
       "\\item 9163\n",
       "\\item 8300\n",
       "\\item 8270\n",
       "\\item 15735\n",
       "\\item 7719\n",
       "\\item 11110\n",
       "\\end{enumerate*}\n"
      ],
      "text/markdown": [
       "1. 7961\n",
       "2. 9371\n",
       "3. 9163\n",
       "4. 8300\n",
       "5. 8270\n",
       "6. 15735\n",
       "7. 7719\n",
       "8. 11110\n",
       "\n",
       "\n"
      ],
      "text/plain": [
       "[1]  7961  9371  9163  8300  8270 15735  7719 11110"
      ]
     },
     "metadata": {},
     "output_type": "display_data"
    },
    {
     "data": {
      "image/png": "[encoded data removed]",
      "text/plain": [
       "plot without title"
      ]
     },
     "metadata": {},
     "output_type": "display_data"
    }
   ],
   "source": [
    "outliers <- boxplot.stats(data$all)$out\n",
    "ggplot(data=data, aes(y=all))+geom_boxplot()\n",
    "outliers"
   ]
  },
  {
   "cell_type": "code",
   "execution_count": 122,
   "id": "ae81c5c3",
   "metadata": {},
   "outputs": [
    {
     "data": {
      "image/png": "[encoded data removed]",
      "text/plain": [
       "plot without title"
      ]
     },
     "metadata": {},
     "output_type": "display_data"
    }
   ],
   "source": [
    "ggplot(data=data, aes(x=all))+geom_histogram(bins=40)"
   ]
  },
  {
   "cell_type": "code",
   "execution_count": 123,
   "id": "58fe32b7",
   "metadata": {},
   "outputs": [
    {
     "data": {
      "image/png": "[encoded data removed]",
      "text/plain": [
       "plot without title"
      ]
     },
     "metadata": {},
     "output_type": "display_data"
    }
   ],
   "source": [
    "ggplot(data=data, aes(weather,y=all))+geom_boxplot()+xlab(\"Clima\")+ggtitle(\"Boxplot All/Clima\")"
   ]
  },
  {
   "cell_type": "code",
   "execution_count": 124,
   "id": "ddb64003",
   "metadata": {},
   "outputs": [
    {
     "data": {
      "image/png": "[encoded data removed]",
      "text/plain": [
       "plot without title"
      ]
     },
     "metadata": {},
     "output_type": "display_data"
    }
   ],
   "source": [
    "ggplot(data=data, aes(x=maxwind,y=all))+geom_line()"
   ]
  },
  {
   "cell_type": "code",
   "execution_count": 125,
   "id": "ea7f97c5",
   "metadata": {},
   "outputs": [],
   "source": [
    "cor(data[2:6]) -> cor_pessoas"
   ]
  },
  {
   "cell_type": "code",
   "execution_count": 10,
   "id": "9fb36ef6",
   "metadata": {},
   "outputs": [
    {
     "data": {
      "image/png": "[encoded data removed]",
      "text/plain": [
       "Plot with title \"\""
      ]
     },
     "metadata": {},
     "output_type": "display_data"
    },
    {
     "data": {
      "image/png": "[encoded data removed]",
      "text/plain": [
       "Plot with title \"\""
      ]
     },
     "metadata": {},
     "output_type": "display_data"
    }
   ],
   "source": [
    "corrplot(cor_pessoas, method= 'square')\n",
    "corrplot(cor_pessoas, method= 'square', type='upper')"
   ]
  },
  {
   "cell_type": "code",
   "execution_count": 4,
   "id": "313ce695",
   "metadata": {},
   "outputs": [
    {
     "data": {
      "text/html": [
       "<ol class=list-inline>\n",
       "\t<li>7961</li>\n",
       "\t<li>9371</li>\n",
       "\t<li>9163</li>\n",
       "\t<li>8300</li>\n",
       "\t<li>8270</li>\n",
       "\t<li>15735</li>\n",
       "\t<li>7719</li>\n",
       "\t<li>11110</li>\n",
       "</ol>\n"
      ],
      "text/latex": [
       "\\begin{enumerate*}\n",
       "\\item 7961\n",
       "\\item 9371\n",
       "\\item 9163\n",
       "\\item 8300\n",
       "\\item 8270\n",
       "\\item 15735\n",
       "\\item 7719\n",
       "\\item 11110\n",
       "\\end{enumerate*}\n"
      ],
      "text/markdown": [
       "1. 7961\n",
       "2. 9371\n",
       "3. 9163\n",
       "4. 8300\n",
       "5. 8270\n",
       "6. 15735\n",
       "7. 7719\n",
       "8. 11110\n",
       "\n",
       "\n"
      ],
      "text/plain": [
       "[1]  7961  9371  9163  8300  8270 15735  7719 11110"
      ]
     },
     "metadata": {},
     "output_type": "display_data"
    },
    {
     "data": {
      "image/png": "[encoded data removed]",
      "text/plain": [
       "Plot with title \"Boxplot All\""
      ]
     },
     "metadata": {},
     "output_type": "display_data"
    }
   ],
   "source": [
    "boxplot(data$all, main=\"Boxplot All\", ylab=\"Frequencia\")$out"
   ]
  },
  {
   "cell_type": "code",
   "execution_count": 3,
   "id": "3c700a54",
   "metadata": {},
   "outputs": [
    {
     "data": {
      "text/html": [
       "<table>\n",
       "<thead><tr><th></th><th scope=col>date</th><th scope=col>all</th><th scope=col>female</th><th scope=col>male</th><th scope=col>young</th><th scope=col>adult</th><th scope=col>weather</th><th scope=col>maxtemp</th><th scope=col>RH</th><th scope=col>maxwind</th></tr></thead>\n",
       "<tbody>\n",
       "\t<tr><th scope=row>117</th><td>2013-08-03</td><td> 7961     </td><td>3693      </td><td>3761      </td><td>3496      </td><td>4465      </td><td>Sunny     </td><td>21        </td><td>68        </td><td>42        </td></tr>\n",
       "\t<tr><th scope=row>118</th><td>2013-08-04</td><td> 9371     </td><td>4314      </td><td>4448      </td><td>4131      </td><td>5240      </td><td>Sunny     </td><td>22        </td><td>66        </td><td> 0        </td></tr>\n",
       "\t<tr><th scope=row>129</th><td>2013-08-15</td><td> 9163     </td><td>4189      </td><td>4455      </td><td>4005      </td><td>5158      </td><td>Sunny     </td><td>26        </td><td>70        </td><td>32        </td></tr>\n",
       "\t<tr><th scope=row>141</th><td>2013-08-27</td><td> 8300     </td><td>3842      </td><td>3850      </td><td>3503      </td><td>4797      </td><td>Sunny     </td><td>23        </td><td>66        </td><td>34        </td></tr>\n",
       "\t<tr><th scope=row>178</th><td>2013-10-03</td><td> 8270     </td><td>3715      </td><td>4142      </td><td>3766      </td><td>4504      </td><td>Rain      </td><td>20        </td><td>84        </td><td> 0        </td></tr>\n",
       "\t<tr><th scope=row>181</th><td>2013-10-06</td><td>15735     </td><td>7645      </td><td>7045      </td><td>7495      </td><td>8240      </td><td>Sunny     </td><td>21        </td><td>68        </td><td>39        </td></tr>\n",
       "\t<tr><th scope=row>222</th><td>2013-11-16</td><td> 7719     </td><td>3549      </td><td>3768      </td><td>3889      </td><td>3830      </td><td>Sunny     </td><td>10        </td><td>63        </td><td>50        </td></tr>\n",
       "\t<tr><th scope=row>250</th><td>2013-12-14</td><td>11110     </td><td>5246      </td><td>5259      </td><td>5953      </td><td>5157      </td><td>Rain      </td><td>13        </td><td>83        </td><td>48        </td></tr>\n",
       "</tbody>\n",
       "</table>\n"
      ],
      "text/latex": [
       "\\begin{tabular}{r|llllllllll}\n",
       "  & date & all & female & male & young & adult & weather & maxtemp & RH & maxwind\\\\\n",
       "\\hline\n",
       "\t117 & 2013-08-03 &  7961      & 3693       & 3761       & 3496       & 4465       & Sunny      & 21         & 68         & 42        \\\\\n",
       "\t118 & 2013-08-04 &  9371      & 4314       & 4448       & 4131       & 5240       & Sunny      & 22         & 66         &  0        \\\\\n",
       "\t129 & 2013-08-15 &  9163      & 4189       & 4455       & 4005       & 5158       & Sunny      & 26         & 70         & 32        \\\\\n",
       "\t141 & 2013-08-27 &  8300      & 3842       & 3850       & 3503       & 4797       & Sunny      & 23         & 66         & 34        \\\\\n",
       "\t178 & 2013-10-03 &  8270      & 3715       & 4142       & 3766       & 4504       & Rain       & 20         & 84         &  0        \\\\\n",
       "\t181 & 2013-10-06 & 15735      & 7645       & 7045       & 7495       & 8240       & Sunny      & 21         & 68         & 39        \\\\\n",
       "\t222 & 2013-11-16 &  7719      & 3549       & 3768       & 3889       & 3830       & Sunny      & 10         & 63         & 50        \\\\\n",
       "\t250 & 2013-12-14 & 11110      & 5246       & 5259       & 5953       & 5157       & Rain       & 13         & 83         & 48        \\\\\n",
       "\\end{tabular}\n"
      ],
      "text/markdown": [
       "\n",
       "| <!--/--> | date | all | female | male | young | adult | weather | maxtemp | RH | maxwind |\n",
       "|---|---|---|---|---|---|---|---|---|---|---|\n",
       "| 117 | 2013-08-03 |  7961      | 3693       | 3761       | 3496       | 4465       | Sunny      | 21         | 68         | 42         |\n",
       "| 118 | 2013-08-04 |  9371      | 4314       | 4448       | 4131       | 5240       | Sunny      | 22         | 66         |  0         |\n",
       "| 129 | 2013-08-15 |  9163      | 4189       | 4455       | 4005       | 5158       | Sunny      | 26         | 70         | 32         |\n",
       "| 141 | 2013-08-27 |  8300      | 3842       | 3850       | 3503       | 4797       | Sunny      | 23         | 66         | 34         |\n",
       "| 178 | 2013-10-03 |  8270      | 3715       | 4142       | 3766       | 4504       | Rain       | 20         | 84         |  0         |\n",
       "| 181 | 2013-10-06 | 15735      | 7645       | 7045       | 7495       | 8240       | Sunny      | 21         | 68         | 39         |\n",
       "| 222 | 2013-11-16 |  7719      | 3549       | 3768       | 3889       | 3830       | Sunny      | 10         | 63         | 50         |\n",
       "| 250 | 2013-12-14 | 11110      | 5246       | 5259       | 5953       | 5157       | Rain       | 13         | 83         | 48         |\n",
       "\n"
      ],
      "text/plain": [
       "    date       all   female male young adult weather maxtemp RH maxwind\n",
       "117 2013-08-03  7961 3693   3761 3496  4465  Sunny   21      68 42     \n",
       "118 2013-08-04  9371 4314   4448 4131  5240  Sunny   22      66  0     \n",
       "129 2013-08-15  9163 4189   4455 4005  5158  Sunny   26      70 32     \n",
       "141 2013-08-27  8300 3842   3850 3503  4797  Sunny   23      66 34     \n",
       "178 2013-10-03  8270 3715   4142 3766  4504  Rain    20      84  0     \n",
       "181 2013-10-06 15735 7645   7045 7495  8240  Sunny   21      68 39     \n",
       "222 2013-11-16  7719 3549   3768 3889  3830  Sunny   10      63 50     \n",
       "250 2013-12-14 11110 5246   5259 5953  5157  Rain    13      83 48     "
      ]
     },
     "metadata": {},
     "output_type": "display_data"
    }
   ],
   "source": [
    "# ver que obsercações correspondem aos valores de 7961 9371 9163 8300 8270 15735 7719 11110\n",
    "data[data$all %in% c(7961, 9371, 9163, 8300, 8270, 15735, 7719, 11110),]"
   ]
  },
  {
   "cell_type": "code",
   "execution_count": 85,
   "id": "5fa4a3ee",
   "metadata": {},
   "outputs": [
    {
     "data": {
      "image/png": "[encoded data removed]",
      "text/plain": [
       "plot without title"
      ]
     },
     "metadata": {},
     "output_type": "display_data"
    }
   ],
   "source": [
    "plot((data$all))"
   ]
  },
  {
   "cell_type": "code",
   "execution_count": 76,
   "id": "3509d0d8",
   "metadata": {},
   "outputs": [
    {
     "data": {
      "image/png": "[encoded data removed]",
      "text/plain": [
       "plot without title"
      ]
     },
     "metadata": {},
     "output_type": "display_data"
    }
   ],
   "source": [
    "pie(table(data$weather))"
   ]
  },
  {
   "cell_type": "code",
   "execution_count": 107,
   "id": "30fdd993",
   "metadata": {},
   "outputs": [
    {
     "data": {
      "image/png": "[encoded data removed]",
      "text/plain": [
       "Plot with title \"Diagrama de Densidade All\""
      ]
     },
     "metadata": {},
     "output_type": "display_data"
    }
   ],
   "source": [
    "plot(density(data$all),main=\"Diagrama de Densidade All\")"
   ]
  },
  {
   "cell_type": "code",
   "execution_count": 97,
   "id": "0b22b71b",
   "metadata": {},
   "outputs": [
    {
     "data": {
      "image/png": "[encoded data removed]",
      "text/plain": [
       "Plot with title \"Histograma 'All'\""
      ]
     },
     "metadata": {},
     "output_type": "display_data"
    }
   ],
   "source": [
    "hist(data$all, main=\"Histograma 'All'\", xlab=\"All\", ylab=\"Frequencia\")"
   ]
  },
  {
   "cell_type": "code",
   "execution_count": 127,
   "id": "d4a739f6",
   "metadata": {},
   "outputs": [
    {
     "data": {
      "image/png": "[encoded data removed]",
      "text/plain": [
       "plot without title"
      ]
     },
     "metadata": {},
     "output_type": "display_data"
    }
   ],
   "source": [
    "pie(table(data$weather))"
   ]
  },
  {
   "cell_type": "markdown",
   "id": "a387df89",
   "metadata": {},
   "source": [
    "## Data Transformation"
   ]
  },
  {
   "cell_type": "code",
   "execution_count": 111,
   "id": "62622ed8",
   "metadata": {},
   "outputs": [
    {
     "data": {
      "text/html": [
       "<table>\n",
       "<thead><tr><th scope=col>all</th><th scope=col>weather</th><th scope=col>maxtemp</th><th scope=col>RH</th><th scope=col>maxwind</th></tr></thead>\n",
       "<tbody>\n",
       "\t<tr><td>2332</td><td>0   </td><td>13  </td><td>87  </td><td> 0  </td></tr>\n",
       "\t<tr><td>2801</td><td>0   </td><td>14  </td><td>94  </td><td>45  </td></tr>\n",
       "\t<tr><td>2375</td><td>0   </td><td>14  </td><td>82  </td><td>55  </td></tr>\n",
       "\t<tr><td>3447</td><td>1   </td><td>13  </td><td>78  </td><td> 0  </td></tr>\n",
       "\t<tr><td>4823</td><td>0   </td><td>16  </td><td>81  </td><td>37  </td></tr>\n",
       "\t<tr><td>4978</td><td>0   </td><td>16  </td><td>73  </td><td> 0  </td></tr>\n",
       "</tbody>\n",
       "</table>\n"
      ],
      "text/latex": [
       "\\begin{tabular}{r|lllll}\n",
       " all & weather & maxtemp & RH & maxwind\\\\\n",
       "\\hline\n",
       "\t 2332 & 0    & 13   & 87   &  0  \\\\\n",
       "\t 2801 & 0    & 14   & 94   & 45  \\\\\n",
       "\t 2375 & 0    & 14   & 82   & 55  \\\\\n",
       "\t 3447 & 1    & 13   & 78   &  0  \\\\\n",
       "\t 4823 & 0    & 16   & 81   & 37  \\\\\n",
       "\t 4978 & 0    & 16   & 73   &  0  \\\\\n",
       "\\end{tabular}\n"
      ],
      "text/markdown": [
       "\n",
       "| all | weather | maxtemp | RH | maxwind |\n",
       "|---|---|---|---|---|\n",
       "| 2332 | 0    | 13   | 87   |  0   |\n",
       "| 2801 | 0    | 14   | 94   | 45   |\n",
       "| 2375 | 0    | 14   | 82   | 55   |\n",
       "| 3447 | 1    | 13   | 78   |  0   |\n",
       "| 4823 | 0    | 16   | 81   | 37   |\n",
       "| 4978 | 0    | 16   | 73   |  0   |\n",
       "\n"
      ],
      "text/plain": [
       "  all  weather maxtemp RH maxwind\n",
       "1 2332 0       13      87  0     \n",
       "2 2801 0       14      94 45     \n",
       "3 2375 0       14      82 55     \n",
       "4 3447 1       13      78  0     \n",
       "5 4823 0       16      81 37     \n",
       "6 4978 0       16      73  0     "
      ]
     },
     "metadata": {},
     "output_type": "display_data"
    }
   ],
   "source": [
    "# Remover a date do dataframe (cuidado com o metodo profet) / saber se é feriado pode ser util ou o dia da semana\n",
    "data <- data %>%\n",
    "    select(-date) %>%\n",
    "    select(-female) %>%\n",
    "    select(-male) %>%\n",
    "    select(-young) %>%\n",
    "    select(-adult)\n",
    "\n",
    "# Substituir a variavel categórica weather por 0=RAIN e 1=SUNNY \n",
    "data$weather <- ifelse(data$weather==\"Rain\", 0, 1)\n",
    "\n",
    "# Tratar outliers (fazer os cenarios)\n",
    "# cenario 1 - com os outliers\n",
    "# cenario 2 - sem os outliers , substituem-se por valores 1,5 maiores ou menores que a media, sem ter em conta as dependentes\n",
    "# cenario 3 - sem os outliers , substituem-se por valores 1,5 maiores ou menores que a media, a ter em conta as dependentes\n",
    "\n",
    "# Ver como ficou o dataframe\n",
    "head(data)"
   ]
  },
  {
   "cell_type": "markdown",
   "id": "d6a952e2",
   "metadata": {},
   "source": [
    "## Modeling(Rminer)"
   ]
  },
  {
   "cell_type": "markdown",
   "id": "df039e3c",
   "metadata": {},
   "source": [
    "### Splitting the dataset"
   ]
  },
  {
   "cell_type": "markdown",
   "id": "c6bad379",
   "metadata": {},
   "source": [
    "### Multiple Linear Regression"
   ]
  },
  {
   "cell_type": "code",
   "execution_count": 114,
   "id": "a3435aba",
   "metadata": {},
   "outputs": [
    {
     "data": {
      "text/html": [
       "<dl>\n",
       "\t<dt>$tr</dt>\n",
       "\t\t<dd><ol class=list-inline>\n",
       "\t<li>1</li>\n",
       "\t<li>2</li>\n",
       "\t<li>3</li>\n",
       "\t<li>4</li>\n",
       "\t<li>5</li>\n",
       "\t<li>6</li>\n",
       "\t<li>7</li>\n",
       "\t<li>8</li>\n",
       "\t<li>9</li>\n",
       "\t<li>10</li>\n",
       "\t<li>11</li>\n",
       "\t<li>12</li>\n",
       "\t<li>13</li>\n",
       "\t<li>14</li>\n",
       "\t<li>15</li>\n",
       "\t<li>16</li>\n",
       "\t<li>17</li>\n",
       "\t<li>18</li>\n",
       "\t<li>19</li>\n",
       "\t<li>20</li>\n",
       "\t<li>21</li>\n",
       "\t<li>22</li>\n",
       "\t<li>23</li>\n",
       "\t<li>24</li>\n",
       "\t<li>25</li>\n",
       "\t<li>26</li>\n",
       "\t<li>27</li>\n",
       "\t<li>28</li>\n",
       "\t<li>29</li>\n",
       "\t<li>30</li>\n",
       "\t<li>31</li>\n",
       "\t<li>32</li>\n",
       "\t<li>33</li>\n",
       "\t<li>34</li>\n",
       "\t<li>35</li>\n",
       "\t<li>36</li>\n",
       "\t<li>37</li>\n",
       "\t<li>38</li>\n",
       "\t<li>39</li>\n",
       "\t<li>40</li>\n",
       "\t<li>41</li>\n",
       "\t<li>42</li>\n",
       "\t<li>43</li>\n",
       "\t<li>44</li>\n",
       "\t<li>45</li>\n",
       "\t<li>46</li>\n",
       "\t<li>47</li>\n",
       "\t<li>48</li>\n",
       "\t<li>49</li>\n",
       "\t<li>50</li>\n",
       "\t<li>51</li>\n",
       "\t<li>52</li>\n",
       "\t<li>53</li>\n",
       "\t<li>54</li>\n",
       "\t<li>55</li>\n",
       "\t<li>56</li>\n",
       "\t<li>57</li>\n",
       "\t<li>58</li>\n",
       "\t<li>59</li>\n",
       "\t<li>60</li>\n",
       "\t<li>61</li>\n",
       "\t<li>62</li>\n",
       "\t<li>63</li>\n",
       "\t<li>64</li>\n",
       "\t<li>65</li>\n",
       "\t<li>66</li>\n",
       "\t<li>67</li>\n",
       "\t<li>68</li>\n",
       "\t<li>69</li>\n",
       "\t<li>70</li>\n",
       "\t<li>71</li>\n",
       "\t<li>72</li>\n",
       "\t<li>73</li>\n",
       "\t<li>74</li>\n",
       "\t<li>75</li>\n",
       "\t<li>76</li>\n",
       "\t<li>77</li>\n",
       "\t<li>78</li>\n",
       "\t<li>79</li>\n",
       "\t<li>80</li>\n",
       "\t<li>81</li>\n",
       "\t<li>82</li>\n",
       "\t<li>83</li>\n",
       "\t<li>84</li>\n",
       "\t<li>85</li>\n",
       "\t<li>86</li>\n",
       "\t<li>87</li>\n",
       "\t<li>88</li>\n",
       "\t<li>89</li>\n",
       "\t<li>90</li>\n",
       "\t<li>91</li>\n",
       "\t<li>92</li>\n",
       "\t<li>93</li>\n",
       "\t<li>94</li>\n",
       "\t<li>95</li>\n",
       "\t<li>96</li>\n",
       "\t<li>97</li>\n",
       "\t<li>98</li>\n",
       "\t<li>99</li>\n",
       "\t<li>100</li>\n",
       "\t<li>101</li>\n",
       "\t<li>102</li>\n",
       "\t<li>103</li>\n",
       "\t<li>104</li>\n",
       "\t<li>105</li>\n",
       "\t<li>106</li>\n",
       "\t<li>107</li>\n",
       "\t<li>108</li>\n",
       "\t<li>109</li>\n",
       "\t<li>110</li>\n",
       "\t<li>111</li>\n",
       "\t<li>112</li>\n",
       "\t<li>113</li>\n",
       "\t<li>114</li>\n",
       "\t<li>115</li>\n",
       "\t<li>116</li>\n",
       "\t<li>117</li>\n",
       "\t<li>118</li>\n",
       "\t<li>119</li>\n",
       "\t<li>120</li>\n",
       "\t<li>121</li>\n",
       "\t<li>122</li>\n",
       "\t<li>123</li>\n",
       "\t<li>124</li>\n",
       "\t<li>125</li>\n",
       "\t<li>126</li>\n",
       "\t<li>127</li>\n",
       "\t<li>128</li>\n",
       "\t<li>129</li>\n",
       "\t<li>130</li>\n",
       "\t<li>131</li>\n",
       "\t<li>132</li>\n",
       "\t<li>133</li>\n",
       "\t<li>134</li>\n",
       "\t<li>135</li>\n",
       "\t<li>136</li>\n",
       "\t<li>137</li>\n",
       "\t<li>138</li>\n",
       "\t<li>139</li>\n",
       "\t<li>140</li>\n",
       "\t<li>141</li>\n",
       "\t<li>142</li>\n",
       "\t<li>143</li>\n",
       "\t<li>144</li>\n",
       "\t<li>145</li>\n",
       "\t<li>146</li>\n",
       "\t<li>147</li>\n",
       "\t<li>148</li>\n",
       "\t<li>149</li>\n",
       "\t<li>150</li>\n",
       "\t<li>151</li>\n",
       "\t<li>152</li>\n",
       "\t<li>153</li>\n",
       "\t<li>154</li>\n",
       "\t<li>155</li>\n",
       "\t<li>156</li>\n",
       "\t<li>157</li>\n",
       "\t<li>158</li>\n",
       "\t<li>159</li>\n",
       "\t<li>160</li>\n",
       "\t<li>161</li>\n",
       "\t<li>162</li>\n",
       "\t<li>163</li>\n",
       "\t<li>164</li>\n",
       "\t<li>165</li>\n",
       "\t<li>166</li>\n",
       "\t<li>167</li>\n",
       "\t<li>168</li>\n",
       "\t<li>169</li>\n",
       "\t<li>170</li>\n",
       "\t<li>171</li>\n",
       "\t<li>172</li>\n",
       "\t<li>173</li>\n",
       "\t<li>174</li>\n",
       "\t<li>175</li>\n",
       "\t<li>176</li>\n",
       "\t<li>177</li>\n",
       "\t<li>178</li>\n",
       "\t<li>179</li>\n",
       "\t<li>180</li>\n",
       "\t<li>181</li>\n",
       "\t<li>182</li>\n",
       "\t<li>183</li>\n",
       "\t<li>184</li>\n",
       "\t<li>185</li>\n",
       "\t<li>186</li>\n",
       "\t<li>187</li>\n",
       "\t<li>188</li>\n",
       "\t<li>189</li>\n",
       "\t<li>190</li>\n",
       "\t<li>191</li>\n",
       "\t<li>192</li>\n",
       "\t<li>193</li>\n",
       "\t<li>194</li>\n",
       "\t<li>195</li>\n",
       "\t<li>196</li>\n",
       "\t<li>197</li>\n",
       "\t<li>198</li>\n",
       "\t<li>199</li>\n",
       "\t<li>200</li>\n",
       "\t<li>201</li>\n",
       "\t<li>202</li>\n",
       "\t<li>203</li>\n",
       "\t<li>204</li>\n",
       "\t<li>205</li>\n",
       "\t<li>206</li>\n",
       "\t<li>207</li>\n",
       "\t<li>208</li>\n",
       "\t<li>209</li>\n",
       "\t<li>210</li>\n",
       "\t<li>211</li>\n",
       "\t<li>212</li>\n",
       "\t<li>213</li>\n",
       "\t<li>214</li>\n",
       "\t<li>215</li>\n",
       "\t<li>216</li>\n",
       "\t<li>217</li>\n",
       "\t<li>218</li>\n",
       "\t<li>219</li>\n",
       "\t<li>220</li>\n",
       "\t<li>221</li>\n",
       "\t<li>222</li>\n",
       "\t<li>223</li>\n",
       "\t<li>224</li>\n",
       "\t<li>225</li>\n",
       "\t<li>226</li>\n",
       "\t<li>227</li>\n",
       "\t<li>228</li>\n",
       "\t<li>229</li>\n",
       "\t<li>230</li>\n",
       "\t<li>231</li>\n",
       "\t<li>232</li>\n",
       "\t<li>233</li>\n",
       "\t<li>234</li>\n",
       "\t<li>235</li>\n",
       "\t<li>236</li>\n",
       "\t<li>237</li>\n",
       "\t<li>238</li>\n",
       "\t<li>239</li>\n",
       "\t<li>240</li>\n",
       "\t<li>241</li>\n",
       "\t<li>242</li>\n",
       "\t<li>243</li>\n",
       "\t<li>244</li>\n",
       "\t<li>245</li>\n",
       "\t<li>246</li>\n",
       "\t<li>247</li>\n",
       "\t<li>248</li>\n",
       "\t<li>249</li>\n",
       "\t<li>250</li>\n",
       "</ol>\n",
       "</dd>\n",
       "\t<dt>$itr</dt>\n",
       "\t\t<dd>NULL</dd>\n",
       "\t<dt>$val</dt>\n",
       "\t\t<dd>NULL</dd>\n",
       "\t<dt>$ts</dt>\n",
       "\t\t<dd><ol class=list-inline>\n",
       "\t<li>251</li>\n",
       "\t<li>252</li>\n",
       "\t<li>253</li>\n",
       "\t<li>254</li>\n",
       "\t<li>255</li>\n",
       "\t<li>256</li>\n",
       "\t<li>257</li>\n",
       "</ol>\n",
       "</dd>\n",
       "</dl>\n"
      ],
      "text/latex": [
       "\\begin{description}\n",
       "\\item[\\$tr] \\begin{enumerate*}\n",
       "\\item 1\n",
       "\\item 2\n",
       "\\item 3\n",
       "\\item 4\n",
       "\\item 5\n",
       "\\item 6\n",
       "\\item 7\n",
       "\\item 8\n",
       "\\item 9\n",
       "\\item 10\n",
       "\\item 11\n",
       "\\item 12\n",
       "\\item 13\n",
       "\\item 14\n",
       "\\item 15\n",
       "\\item 16\n",
       "\\item 17\n",
       "\\item 18\n",
       "\\item 19\n",
       "\\item 20\n",
       "\\item 21\n",
       "\\item 22\n",
       "\\item 23\n",
       "\\item 24\n",
       "\\item 25\n",
       "\\item 26\n",
       "\\item 27\n",
       "\\item 28\n",
       "\\item 29\n",
       "\\item 30\n",
       "\\item 31\n",
       "\\item 32\n",
       "\\item 33\n",
       "\\item 34\n",
       "\\item 35\n",
       "\\item 36\n",
       "\\item 37\n",
       "\\item 38\n",
       "\\item 39\n",
       "\\item 40\n",
       "\\item 41\n",
       "\\item 42\n",
       "\\item 43\n",
       "\\item 44\n",
       "\\item 45\n",
       "\\item 46\n",
       "\\item 47\n",
       "\\item 48\n",
       "\\item 49\n",
       "\\item 50\n",
       "\\item 51\n",
       "\\item 52\n",
       "\\item 53\n",
       "\\item 54\n",
       "\\item 55\n",
       "\\item 56\n",
       "\\item 57\n",
       "\\item 58\n",
       "\\item 59\n",
       "\\item 60\n",
       "\\item 61\n",
       "\\item 62\n",
       "\\item 63\n",
       "\\item 64\n",
       "\\item 65\n",
       "\\item 66\n",
       "\\item 67\n",
       "\\item 68\n",
       "\\item 69\n",
       "\\item 70\n",
       "\\item 71\n",
       "\\item 72\n",
       "\\item 73\n",
       "\\item 74\n",
       "\\item 75\n",
       "\\item 76\n",
       "\\item 77\n",
       "\\item 78\n",
       "\\item 79\n",
       "\\item 80\n",
       "\\item 81\n",
       "\\item 82\n",
       "\\item 83\n",
       "\\item 84\n",
       "\\item 85\n",
       "\\item 86\n",
       "\\item 87\n",
       "\\item 88\n",
       "\\item 89\n",
       "\\item 90\n",
       "\\item 91\n",
       "\\item 92\n",
       "\\item 93\n",
       "\\item 94\n",
       "\\item 95\n",
       "\\item 96\n",
       "\\item 97\n",
       "\\item 98\n",
       "\\item 99\n",
       "\\item 100\n",
       "\\item 101\n",
       "\\item 102\n",
       "\\item 103\n",
       "\\item 104\n",
       "\\item 105\n",
       "\\item 106\n",
       "\\item 107\n",
       "\\item 108\n",
       "\\item 109\n",
       "\\item 110\n",
       "\\item 111\n",
       "\\item 112\n",
       "\\item 113\n",
       "\\item 114\n",
       "\\item 115\n",
       "\\item 116\n",
       "\\item 117\n",
       "\\item 118\n",
       "\\item 119\n",
       "\\item 120\n",
       "\\item 121\n",
       "\\item 122\n",
       "\\item 123\n",
       "\\item 124\n",
       "\\item 125\n",
       "\\item 126\n",
       "\\item 127\n",
       "\\item 128\n",
       "\\item 129\n",
       "\\item 130\n",
       "\\item 131\n",
       "\\item 132\n",
       "\\item 133\n",
       "\\item 134\n",
       "\\item 135\n",
       "\\item 136\n",
       "\\item 137\n",
       "\\item 138\n",
       "\\item 139\n",
       "\\item 140\n",
       "\\item 141\n",
       "\\item 142\n",
       "\\item 143\n",
       "\\item 144\n",
       "\\item 145\n",
       "\\item 146\n",
       "\\item 147\n",
       "\\item 148\n",
       "\\item 149\n",
       "\\item 150\n",
       "\\item 151\n",
       "\\item 152\n",
       "\\item 153\n",
       "\\item 154\n",
       "\\item 155\n",
       "\\item 156\n",
       "\\item 157\n",
       "\\item 158\n",
       "\\item 159\n",
       "\\item 160\n",
       "\\item 161\n",
       "\\item 162\n",
       "\\item 163\n",
       "\\item 164\n",
       "\\item 165\n",
       "\\item 166\n",
       "\\item 167\n",
       "\\item 168\n",
       "\\item 169\n",
       "\\item 170\n",
       "\\item 171\n",
       "\\item 172\n",
       "\\item 173\n",
       "\\item 174\n",
       "\\item 175\n",
       "\\item 176\n",
       "\\item 177\n",
       "\\item 178\n",
       "\\item 179\n",
       "\\item 180\n",
       "\\item 181\n",
       "\\item 182\n",
       "\\item 183\n",
       "\\item 184\n",
       "\\item 185\n",
       "\\item 186\n",
       "\\item 187\n",
       "\\item 188\n",
       "\\item 189\n",
       "\\item 190\n",
       "\\item 191\n",
       "\\item 192\n",
       "\\item 193\n",
       "\\item 194\n",
       "\\item 195\n",
       "\\item 196\n",
       "\\item 197\n",
       "\\item 198\n",
       "\\item 199\n",
       "\\item 200\n",
       "\\item 201\n",
       "\\item 202\n",
       "\\item 203\n",
       "\\item 204\n",
       "\\item 205\n",
       "\\item 206\n",
       "\\item 207\n",
       "\\item 208\n",
       "\\item 209\n",
       "\\item 210\n",
       "\\item 211\n",
       "\\item 212\n",
       "\\item 213\n",
       "\\item 214\n",
       "\\item 215\n",
       "\\item 216\n",
       "\\item 217\n",
       "\\item 218\n",
       "\\item 219\n",
       "\\item 220\n",
       "\\item 221\n",
       "\\item 222\n",
       "\\item 223\n",
       "\\item 224\n",
       "\\item 225\n",
       "\\item 226\n",
       "\\item 227\n",
       "\\item 228\n",
       "\\item 229\n",
       "\\item 230\n",
       "\\item 231\n",
       "\\item 232\n",
       "\\item 233\n",
       "\\item 234\n",
       "\\item 235\n",
       "\\item 236\n",
       "\\item 237\n",
       "\\item 238\n",
       "\\item 239\n",
       "\\item 240\n",
       "\\item 241\n",
       "\\item 242\n",
       "\\item 243\n",
       "\\item 244\n",
       "\\item 245\n",
       "\\item 246\n",
       "\\item 247\n",
       "\\item 248\n",
       "\\item 249\n",
       "\\item 250\n",
       "\\end{enumerate*}\n",
       "\n",
       "\\item[\\$itr] NULL\n",
       "\\item[\\$val] NULL\n",
       "\\item[\\$ts] \\begin{enumerate*}\n",
       "\\item 251\n",
       "\\item 252\n",
       "\\item 253\n",
       "\\item 254\n",
       "\\item 255\n",
       "\\item 256\n",
       "\\item 257\n",
       "\\end{enumerate*}\n",
       "\n",
       "\\end{description}\n"
      ],
      "text/markdown": [
       "$tr\n",
       ":   1. 1\n",
       "2. 2\n",
       "3. 3\n",
       "4. 4\n",
       "5. 5\n",
       "6. 6\n",
       "7. 7\n",
       "8. 8\n",
       "9. 9\n",
       "10. 10\n",
       "11. 11\n",
       "12. 12\n",
       "13. 13\n",
       "14. 14\n",
       "15. 15\n",
       "16. 16\n",
       "17. 17\n",
       "18. 18\n",
       "19. 19\n",
       "20. 20\n",
       "21. 21\n",
       "22. 22\n",
       "23. 23\n",
       "24. 24\n",
       "25. 25\n",
       "26. 26\n",
       "27. 27\n",
       "28. 28\n",
       "29. 29\n",
       "30. 30\n",
       "31. 31\n",
       "32. 32\n",
       "33. 33\n",
       "34. 34\n",
       "35. 35\n",
       "36. 36\n",
       "37. 37\n",
       "38. 38\n",
       "39. 39\n",
       "40. 40\n",
       "41. 41\n",
       "42. 42\n",
       "43. 43\n",
       "44. 44\n",
       "45. 45\n",
       "46. 46\n",
       "47. 47\n",
       "48. 48\n",
       "49. 49\n",
       "50. 50\n",
       "51. 51\n",
       "52. 52\n",
       "53. 53\n",
       "54. 54\n",
       "55. 55\n",
       "56. 56\n",
       "57. 57\n",
       "58. 58\n",
       "59. 59\n",
       "60. 60\n",
       "61. 61\n",
       "62. 62\n",
       "63. 63\n",
       "64. 64\n",
       "65. 65\n",
       "66. 66\n",
       "67. 67\n",
       "68. 68\n",
       "69. 69\n",
       "70. 70\n",
       "71. 71\n",
       "72. 72\n",
       "73. 73\n",
       "74. 74\n",
       "75. 75\n",
       "76. 76\n",
       "77. 77\n",
       "78. 78\n",
       "79. 79\n",
       "80. 80\n",
       "81. 81\n",
       "82. 82\n",
       "83. 83\n",
       "84. 84\n",
       "85. 85\n",
       "86. 86\n",
       "87. 87\n",
       "88. 88\n",
       "89. 89\n",
       "90. 90\n",
       "91. 91\n",
       "92. 92\n",
       "93. 93\n",
       "94. 94\n",
       "95. 95\n",
       "96. 96\n",
       "97. 97\n",
       "98. 98\n",
       "99. 99\n",
       "100. 100\n",
       "101. 101\n",
       "102. 102\n",
       "103. 103\n",
       "104. 104\n",
       "105. 105\n",
       "106. 106\n",
       "107. 107\n",
       "108. 108\n",
       "109. 109\n",
       "110. 110\n",
       "111. 111\n",
       "112. 112\n",
       "113. 113\n",
       "114. 114\n",
       "115. 115\n",
       "116. 116\n",
       "117. 117\n",
       "118. 118\n",
       "119. 119\n",
       "120. 120\n",
       "121. 121\n",
       "122. 122\n",
       "123. 123\n",
       "124. 124\n",
       "125. 125\n",
       "126. 126\n",
       "127. 127\n",
       "128. 128\n",
       "129. 129\n",
       "130. 130\n",
       "131. 131\n",
       "132. 132\n",
       "133. 133\n",
       "134. 134\n",
       "135. 135\n",
       "136. 136\n",
       "137. 137\n",
       "138. 138\n",
       "139. 139\n",
       "140. 140\n",
       "141. 141\n",
       "142. 142\n",
       "143. 143\n",
       "144. 144\n",
       "145. 145\n",
       "146. 146\n",
       "147. 147\n",
       "148. 148\n",
       "149. 149\n",
       "150. 150\n",
       "151. 151\n",
       "152. 152\n",
       "153. 153\n",
       "154. 154\n",
       "155. 155\n",
       "156. 156\n",
       "157. 157\n",
       "158. 158\n",
       "159. 159\n",
       "160. 160\n",
       "161. 161\n",
       "162. 162\n",
       "163. 163\n",
       "164. 164\n",
       "165. 165\n",
       "166. 166\n",
       "167. 167\n",
       "168. 168\n",
       "169. 169\n",
       "170. 170\n",
       "171. 171\n",
       "172. 172\n",
       "173. 173\n",
       "174. 174\n",
       "175. 175\n",
       "176. 176\n",
       "177. 177\n",
       "178. 178\n",
       "179. 179\n",
       "180. 180\n",
       "181. 181\n",
       "182. 182\n",
       "183. 183\n",
       "184. 184\n",
       "185. 185\n",
       "186. 186\n",
       "187. 187\n",
       "188. 188\n",
       "189. 189\n",
       "190. 190\n",
       "191. 191\n",
       "192. 192\n",
       "193. 193\n",
       "194. 194\n",
       "195. 195\n",
       "196. 196\n",
       "197. 197\n",
       "198. 198\n",
       "199. 199\n",
       "200. 200\n",
       "201. 201\n",
       "202. 202\n",
       "203. 203\n",
       "204. 204\n",
       "205. 205\n",
       "206. 206\n",
       "207. 207\n",
       "208. 208\n",
       "209. 209\n",
       "210. 210\n",
       "211. 211\n",
       "212. 212\n",
       "213. 213\n",
       "214. 214\n",
       "215. 215\n",
       "216. 216\n",
       "217. 217\n",
       "218. 218\n",
       "219. 219\n",
       "220. 220\n",
       "221. 221\n",
       "222. 222\n",
       "223. 223\n",
       "224. 224\n",
       "225. 225\n",
       "226. 226\n",
       "227. 227\n",
       "228. 228\n",
       "229. 229\n",
       "230. 230\n",
       "231. 231\n",
       "232. 232\n",
       "233. 233\n",
       "234. 234\n",
       "235. 235\n",
       "236. 236\n",
       "237. 237\n",
       "238. 238\n",
       "239. 239\n",
       "240. 240\n",
       "241. 241\n",
       "242. 242\n",
       "243. 243\n",
       "244. 244\n",
       "245. 245\n",
       "246. 246\n",
       "247. 247\n",
       "248. 248\n",
       "249. 249\n",
       "250. 250\n",
       "\n",
       "\n",
       "\n",
       "$itr\n",
       ":   NULL\n",
       "$val\n",
       ":   NULL\n",
       "$ts\n",
       ":   1. 251\n",
       "2. 252\n",
       "3. 253\n",
       "4. 254\n",
       "5. 255\n",
       "6. 256\n",
       "7. 257\n",
       "\n",
       "\n",
       "\n",
       "\n",
       "\n"
      ],
      "text/plain": [
       "$tr\n",
       "  [1]   1   2   3   4   5   6   7   8   9  10  11  12  13  14  15  16  17  18\n",
       " [19]  19  20  21  22  23  24  25  26  27  28  29  30  31  32  33  34  35  36\n",
       " [37]  37  38  39  40  41  42  43  44  45  46  47  48  49  50  51  52  53  54\n",
       " [55]  55  56  57  58  59  60  61  62  63  64  65  66  67  68  69  70  71  72\n",
       " [73]  73  74  75  76  77  78  79  80  81  82  83  84  85  86  87  88  89  90\n",
       " [91]  91  92  93  94  95  96  97  98  99 100 101 102 103 104 105 106 107 108\n",
       "[109] 109 110 111 112 113 114 115 116 117 118 119 120 121 122 123 124 125 126\n",
       "[127] 127 128 129 130 131 132 133 134 135 136 137 138 139 140 141 142 143 144\n",
       "[145] 145 146 147 148 149 150 151 152 153 154 155 156 157 158 159 160 161 162\n",
       "[163] 163 164 165 166 167 168 169 170 171 172 173 174 175 176 177 178 179 180\n",
       "[181] 181 182 183 184 185 186 187 188 189 190 191 192 193 194 195 196 197 198\n",
       "[199] 199 200 201 202 203 204 205 206 207 208 209 210 211 212 213 214 215 216\n",
       "[217] 217 218 219 220 221 222 223 224 225 226 227 228 229 230 231 232 233 234\n",
       "[235] 235 236 237 238 239 240 241 242 243 244 245 246 247 248 249 250\n",
       "\n",
       "$itr\n",
       "NULL\n",
       "\n",
       "$val\n",
       "NULL\n",
       "\n",
       "$ts\n",
       "[1] 251 252 253 254 255 256 257\n"
      ]
     },
     "metadata": {},
     "output_type": "display_data"
    },
    {
     "data": {
      "text/html": [
       "250"
      ],
      "text/latex": [
       "250"
      ],
      "text/markdown": [
       "250"
      ],
      "text/plain": [
       "[1] 250"
      ]
     },
     "metadata": {},
     "output_type": "display_data"
    },
    {
     "data": {
      "text/html": [
       "7"
      ],
      "text/latex": [
       "7"
      ],
      "text/markdown": [
       "7"
      ],
      "text/plain": [
       "[1] 7"
      ]
     },
     "metadata": {},
     "output_type": "display_data"
    },
    {
     "data": {
      "text/html": [
       "<ol class=list-inline>\n",
       "\t<li>2332</li>\n",
       "\t<li>2801</li>\n",
       "\t<li>2375</li>\n",
       "\t<li>3447</li>\n",
       "\t<li>4823</li>\n",
       "\t<li>4978</li>\n",
       "</ol>\n"
      ],
      "text/latex": [
       "\\begin{enumerate*}\n",
       "\\item 2332\n",
       "\\item 2801\n",
       "\\item 2375\n",
       "\\item 3447\n",
       "\\item 4823\n",
       "\\item 4978\n",
       "\\end{enumerate*}\n"
      ],
      "text/markdown": [
       "1. 2332\n",
       "2. 2801\n",
       "3. 2375\n",
       "4. 3447\n",
       "5. 4823\n",
       "6. 4978\n",
       "\n",
       "\n"
      ],
      "text/plain": [
       "[1] 2332 2801 2375 3447 4823 4978"
      ]
     },
     "metadata": {},
     "output_type": "display_data"
    },
    {
     "data": {
      "text/html": [
       "<ol class=list-inline>\n",
       "\t<li>4974</li>\n",
       "\t<li>3228</li>\n",
       "\t<li>3191</li>\n",
       "\t<li>4153</li>\n",
       "\t<li>4307</li>\n",
       "\t<li>4660</li>\n",
       "</ol>\n"
      ],
      "text/latex": [
       "\\begin{enumerate*}\n",
       "\\item 4974\n",
       "\\item 3228\n",
       "\\item 3191\n",
       "\\item 4153\n",
       "\\item 4307\n",
       "\\item 4660\n",
       "\\end{enumerate*}\n"
      ],
      "text/markdown": [
       "1. 4974\n",
       "2. 3228\n",
       "3. 3191\n",
       "4. 4153\n",
       "5. 4307\n",
       "6. 4660\n",
       "\n",
       "\n"
      ],
      "text/plain": [
       "[1] 4974 3228 3191 4153 4307 4660"
      ]
     },
     "metadata": {},
     "output_type": "display_data"
    }
   ],
   "source": [
    "H=holdout(data$all,ratio=7,mode=\"order\")\n",
    "H\n",
    "\n",
    "train = data[H$tr,]\n",
    "test = data[H$ts,]\n",
    "\n",
    "length(train$all)\n",
    "length(test$all)\n",
    "\n",
    "head(train$all)\n",
    "head(test$all)"
   ]
  },
  {
   "cell_type": "code",
   "execution_count": 115,
   "id": "ec5af5b5",
   "metadata": {},
   "outputs": [
    {
     "name": "stdout",
     "output_type": "stream",
     "text": [
      "Target Values:"
     ]
    },
    {
     "data": {
      "text/html": [
       "<ol class=list-inline>\n",
       "\t<li>4974</li>\n",
       "\t<li>3228</li>\n",
       "\t<li>3191</li>\n",
       "\t<li>4153</li>\n",
       "\t<li>4307</li>\n",
       "\t<li>4660</li>\n",
       "\t<li>6193</li>\n",
       "</ol>\n"
      ],
      "text/latex": [
       "\\begin{enumerate*}\n",
       "\\item 4974\n",
       "\\item 3228\n",
       "\\item 3191\n",
       "\\item 4153\n",
       "\\item 4307\n",
       "\\item 4660\n",
       "\\item 6193\n",
       "\\end{enumerate*}\n"
      ],
      "text/markdown": [
       "1. 4974\n",
       "2. 3228\n",
       "3. 3191\n",
       "4. 4153\n",
       "5. 4307\n",
       "6. 4660\n",
       "7. 6193\n",
       "\n",
       "\n"
      ],
      "text/plain": [
       "[1] 4974 3228 3191 4153 4307 4660 6193"
      ]
     },
     "metadata": {},
     "output_type": "display_data"
    },
    {
     "name": "stdout",
     "output_type": "stream",
     "text": [
      "Predictions:"
     ]
    },
    {
     "data": {
      "text/html": [
       "<ol class=list-inline>\n",
       "\t<li>3783.13977874488</li>\n",
       "\t<li>3845.83744313649</li>\n",
       "\t<li>3643.1433224832</li>\n",
       "\t<li>3713.52027908224</li>\n",
       "\t<li>2956.02997878268</li>\n",
       "\t<li>4111.3258871873</li>\n",
       "\t<li>3852.08235389162</li>\n",
       "</ol>\n"
      ],
      "text/latex": [
       "\\begin{enumerate*}\n",
       "\\item 3783.13977874488\n",
       "\\item 3845.83744313649\n",
       "\\item 3643.1433224832\n",
       "\\item 3713.52027908224\n",
       "\\item 2956.02997878268\n",
       "\\item 4111.3258871873\n",
       "\\item 3852.08235389162\n",
       "\\end{enumerate*}\n"
      ],
      "text/markdown": [
       "1. 3783.13977874488\n",
       "2. 3845.83744313649\n",
       "3. 3643.1433224832\n",
       "4. 3713.52027908224\n",
       "5. 2956.02997878268\n",
       "6. 4111.3258871873\n",
       "7. 3852.08235389162\n",
       "\n",
       "\n"
      ],
      "text/plain": [
       "[1] 3783.140 3845.837 3643.143 3713.520 2956.030 4111.326 3852.082"
      ]
     },
     "metadata": {},
     "output_type": "display_data"
    },
    {
     "data": {
      "image/png": "[encoded data removed]",
      "text/plain": [
       "Plot with title \"Target/Prediction \""
      ]
     },
     "metadata": {},
     "output_type": "display_data"
    }
   ],
   "source": [
    "MR=fit(all~.,train,model=\"randomForest\")\n",
    "Target = test$all\n",
    "cat(\"Target Values:\")\n",
    "Target\n",
    "\n",
    "Pred = predict(MR,test)\n",
    "cat(\"Predictions:\")\n",
    "Pred\n",
    "\n",
    "\n",
    "\n",
    "mgraph(Target,Pred,graph=\"REG\",Grid=10,col=c(\"black\",\"blue\"),\n",
    "leg=list(pos=\"topleft\",leg=c(\"target\",\"predictions\")),main=\"Target/Prediction \")"
   ]
  },
  {
   "cell_type": "code",
   "execution_count": 116,
   "id": "225cd53b",
   "metadata": {},
   "outputs": [
    {
     "data": {
      "text/html": [
       "991.55"
      ],
      "text/latex": [
       "991.55"
      ],
      "text/markdown": [
       "991.55"
      ],
      "text/plain": [
       "[1] 991.55"
      ]
     },
     "metadata": {},
     "output_type": "display_data"
    }
   ],
   "source": [
    "round(mmetric(Target,Pred,metric=\"MAE\"),2)"
   ]
  },
  {
   "cell_type": "markdown",
   "id": "43871408",
   "metadata": {},
   "source": [
    "## Time Series Forecast"
   ]
  },
  {
   "cell_type": "code",
   "execution_count": 21,
   "id": "11de46db",
   "metadata": {},
   "outputs": [
    {
     "data": {
      "image/png": "[encoded data removed]",
      "text/plain": [
       "Plot with title \"\""
      ]
     },
     "metadata": {},
     "output_type": "display_data"
    }
   ],
   "source": [
    "# Variáveis Globais\n",
    "H = 7\n",
    "L = length(data$all) # 257\n",
    "LTR = L-H # 250 (dados de teste)\n",
    "TR = ts(data$all[1:LTR],frequency=7) # frequencia=7 porque é diário\n",
    "Target=data$all[(L-H+1):L]\n",
    "\n",
    "tsdisplay(TR, main=\"Time Series Var 'All'\")"
   ]
  },
  {
   "cell_type": "markdown",
   "id": "7209f454",
   "metadata": {},
   "source": [
    "### Holt Winters Method"
   ]
  },
  {
   "cell_type": "code",
   "execution_count": 63,
   "id": "8dc51ad8",
   "metadata": {},
   "outputs": [
    {
     "data": {
      "image/png": "[encoded data removed]",
      "text/plain": [
       "Plot with title \"Holt Winters (SMAPE): 34.07 \n",
       "\""
      ]
     },
     "metadata": {},
     "output_type": "display_data"
    }
   ],
   "source": [
    "# Modelo\n",
    "HW=HoltWinters(TSL)\n",
    "F=forecast(HW,h=H) # 1 to H ahead forecasts\n",
    "Pred=F$mean[1:H] # HW predictions\n",
    "\n",
    "# Gráfico\n",
    "txt=paste(\"Holt Winters (SMAPE):\",round(mmetric(Target,Pred,metric=\"SMAPE\"),2),\"\\n\")\n",
    "mgraph(Target,Pred,graph=\"REG\",Grid=10,col=c(\"black\",\"blue\"),\n",
    "leg=list(pos=\"topleft\",leg=c(\"target\",\"predictions\")),main=txt)"
   ]
  },
  {
   "cell_type": "markdown",
   "id": "7b0e40b2",
   "metadata": {},
   "source": [
    "### ARIMA Method"
   ]
  },
  {
   "cell_type": "code",
   "execution_count": 42,
   "id": "72e55a08",
   "metadata": {},
   "outputs": [
    {
     "data": {
      "image/png": "[encoded data removed]",
      "text/plain": [
       "Plot with title \"ARIMA (SMAPE): 19.54 \n",
       "\""
      ]
     },
     "metadata": {},
     "output_type": "display_data"
    }
   ],
   "source": [
    "# Modelo\n",
    "AR=auto.arima(TR)\n",
    "F1=forecast(AR,h=H) # 1 to H ahead forecasts\n",
    "Pred1=F1$mean[1:H] # AR predictions\n",
    "\n",
    "#Gráfico\n",
    "txt=paste(\"ARIMA (SMAPE):\",round(mmetric(Target,Pred1,metric=\"SMAPE\"),2),\"\\n\")\n",
    "mgraph(Target,Pred1,graph=\"REG\",Grid=10,col=c(\"black\",\"blue\"),\n",
    "leg=list(pos=\"topleft\",leg=c(\"target\",\"predictions\")),main=txt)"
   ]
  },
  {
   "cell_type": "markdown",
   "id": "937f4cbd",
   "metadata": {},
   "source": [
    "### Neural Network Modeling"
   ]
  },
  {
   "cell_type": "code",
   "execution_count": 43,
   "id": "1a51ce79",
   "metadata": {},
   "outputs": [
    {
     "data": {
      "image/png": "[encoded data removed]",
      "text/plain": [
       "Plot with title \"Neural Network (SMAPE): 17.24 \n",
       "\""
      ]
     },
     "metadata": {},
     "output_type": "display_data"
    }
   ],
   "source": [
    "# neural network modeling:\n",
    "d=CasesSeries(data$all,c(1,12,13)) # data.frame from time series\n",
    "LD=nrow(d)\n",
    "dtr=1:(LD-H) # train indices\n",
    "NN=fit(y∼.,d[dtr,],model=\"mlpe\")\n",
    "# from 1 to H ahead forecasts:\n",
    "Pred2=lforecast(NN,d,start=(LD-H+1),horizon=H)\n",
    "\n",
    "# Gráfico\n",
    "txt=paste(\"Neural Network (SMAPE):\",round(mmetric(Target,Pred2,metric=\"SMAPE\"),2),\"\\n\")\n",
    "mgraph(Target,Pred2,graph=\"REG\",Grid=10,col=c(\"black\",\"blue\"),\n",
    "leg=list(pos=\"topleft\",leg=c(\"target\",\"predictions\")),main=txt)"
   ]
  },
  {
   "cell_type": "code",
   "execution_count": 35,
   "id": "d50ffddd",
   "metadata": {},
   "outputs": [
    {
     "name": "stdout",
     "output_type": "stream",
     "text": [
      "112 118 132 129 121 135 148 148 136 119 104 118 115 126 141 135 125 149 170 170 158 133 114 140 145 150 178 163 172 178 199 199 184 162 146 166 171 180 193 181 183 218 230 242 209 191 172 194 196 196 236 235 229 243 264 272 237 211 180 201 204 188 235 227 234 264 302 293 259 229 203 229 242 233 267 269 270 315 364 347 312 274 237 278 284 277 317 313 318 374 413 405 355 306 271 306 315 301 356 348 355 422 465 467 404 347 305 336 340 318 362 348 363 435 491 505 404 359 310 337 360 342 406 396 420 472 548 559 463 407 362 405 417 391 419 461 472 535 622 606 508 461 390 432"
     ]
    }
   ],
   "source": [
    "cat(AirPassengers)"
   ]
  },
  {
   "cell_type": "code",
   "execution_count": 9,
   "id": "17f65c87",
   "metadata": {},
   "outputs": [],
   "source": [
    "?mgraph"
   ]
  },
  {
   "cell_type": "code",
   "execution_count": 10,
   "id": "61a89a35",
   "metadata": {},
   "outputs": [],
   "source": [
    "?mmetric"
   ]
  },
  {
   "cell_type": "code",
   "execution_count": 58,
   "id": "9ee30dbb",
   "metadata": {},
   "outputs": [],
   "source": [
    "?predict"
   ]
  },
  {
   "cell_type": "code",
   "execution_count": 101,
   "id": "7a9818fc",
   "metadata": {},
   "outputs": [],
   "source": [
    "?fit"
   ]
  },
  {
   "cell_type": "code",
   "execution_count": 15,
   "id": "2cfd039b",
   "metadata": {},
   "outputs": [],
   "source": [
    "?ts"
   ]
  },
  {
   "cell_type": "code",
   "execution_count": 16,
   "id": "217b1eb9",
   "metadata": {},
   "outputs": [],
   "source": [
    "?lforecast"
   ]
  },
  {
   "cell_type": "code",
   "execution_count": 24,
   "id": "cb3fc1bd",
   "metadata": {},
   "outputs": [],
   "source": [
    "# abordagem univariada\n",
    "# metodos pacote rminer e forecast (lforecast e nao o predict)\n",
    "# usar valores de 7\n",
    "# basta 1 metodo para testar (windows)\n",
    "\n",
    "\n",
    "# abordagem multivariada hibrida\n",
    "# ter como 1 entrada de modelo preditivo as previsoes univariadas para a a semana toda(hw, ar ou nn)\n",
    "# as outras colunas seriam as restantes vars ambientais(RH, maxtemp,etc)\n",
    "# cbind = column bind"
   ]
  },
  {
   "cell_type": "code",
   "execution_count": 79,
   "id": "3229eb2c",
   "metadata": {},
   "outputs": [
    {
     "data": {
      "text/html": [
       "<ol class=list-inline>\n",
       "\t<li>2332</li>\n",
       "\t<li>2801</li>\n",
       "\t<li>2375</li>\n",
       "\t<li>3447</li>\n",
       "\t<li>4823</li>\n",
       "\t<li>4978</li>\n",
       "</ol>\n"
      ],
      "text/latex": [
       "\\begin{enumerate*}\n",
       "\\item 2332\n",
       "\\item 2801\n",
       "\\item 2375\n",
       "\\item 3447\n",
       "\\item 4823\n",
       "\\item 4978\n",
       "\\end{enumerate*}\n"
      ],
      "text/markdown": [
       "1. 2332\n",
       "2. 2801\n",
       "3. 2375\n",
       "4. 3447\n",
       "5. 4823\n",
       "6. 4978\n",
       "\n",
       "\n"
      ],
      "text/plain": [
       "[1] 2332 2801 2375 3447 4823 4978"
      ]
     },
     "metadata": {},
     "output_type": "display_data"
    }
   ],
   "source": [
    "lagTar = data[,1] # coluna target(all)\n",
    "head(lagTar)"
   ]
  },
  {
   "cell_type": "code",
   "execution_count": 80,
   "id": "fbba5a02",
   "metadata": {},
   "outputs": [
    {
     "data": {
      "text/html": [
       "<table>\n",
       "<thead><tr><th scope=col>lag7</th><th scope=col>lag6</th><th scope=col>lag5</th><th scope=col>lag4</th><th scope=col>lag3</th><th scope=col>lag2</th><th scope=col>lag1</th><th scope=col>y</th></tr></thead>\n",
       "<tbody>\n",
       "\t<tr><td>2332</td><td>2801</td><td>2375</td><td>3447</td><td>4823</td><td>4978</td><td>2706</td><td>2639</td></tr>\n",
       "\t<tr><td>2801</td><td>2375</td><td>3447</td><td>4823</td><td>4978</td><td>2706</td><td>2639</td><td>2647</td></tr>\n",
       "\t<tr><td>2375</td><td>3447</td><td>4823</td><td>4978</td><td>2706</td><td>2639</td><td>2647</td><td>2612</td></tr>\n",
       "\t<tr><td>3447</td><td>4823</td><td>4978</td><td>2706</td><td>2639</td><td>2647</td><td>2612</td><td>3530</td></tr>\n",
       "\t<tr><td>4823</td><td>4978</td><td>2706</td><td>2639</td><td>2647</td><td>2612</td><td>3530</td><td>4440</td></tr>\n",
       "\t<tr><td>4978</td><td>2706</td><td>2639</td><td>2647</td><td>2612</td><td>3530</td><td>4440</td><td>3469</td></tr>\n",
       "</tbody>\n",
       "</table>\n"
      ],
      "text/latex": [
       "\\begin{tabular}{r|llllllll}\n",
       " lag7 & lag6 & lag5 & lag4 & lag3 & lag2 & lag1 & y\\\\\n",
       "\\hline\n",
       "\t 2332 & 2801 & 2375 & 3447 & 4823 & 4978 & 2706 & 2639\\\\\n",
       "\t 2801 & 2375 & 3447 & 4823 & 4978 & 2706 & 2639 & 2647\\\\\n",
       "\t 2375 & 3447 & 4823 & 4978 & 2706 & 2639 & 2647 & 2612\\\\\n",
       "\t 3447 & 4823 & 4978 & 2706 & 2639 & 2647 & 2612 & 3530\\\\\n",
       "\t 4823 & 4978 & 2706 & 2639 & 2647 & 2612 & 3530 & 4440\\\\\n",
       "\t 4978 & 2706 & 2639 & 2647 & 2612 & 3530 & 4440 & 3469\\\\\n",
       "\\end{tabular}\n"
      ],
      "text/markdown": [
       "\n",
       "| lag7 | lag6 | lag5 | lag4 | lag3 | lag2 | lag1 | y |\n",
       "|---|---|---|---|---|---|---|---|\n",
       "| 2332 | 2801 | 2375 | 3447 | 4823 | 4978 | 2706 | 2639 |\n",
       "| 2801 | 2375 | 3447 | 4823 | 4978 | 2706 | 2639 | 2647 |\n",
       "| 2375 | 3447 | 4823 | 4978 | 2706 | 2639 | 2647 | 2612 |\n",
       "| 3447 | 4823 | 4978 | 2706 | 2639 | 2647 | 2612 | 3530 |\n",
       "| 4823 | 4978 | 2706 | 2639 | 2647 | 2612 | 3530 | 4440 |\n",
       "| 4978 | 2706 | 2639 | 2647 | 2612 | 3530 | 4440 | 3469 |\n",
       "\n"
      ],
      "text/plain": [
       "  lag7 lag6 lag5 lag4 lag3 lag2 lag1 y   \n",
       "1 2332 2801 2375 3447 4823 4978 2706 2639\n",
       "2 2801 2375 3447 4823 4978 2706 2639 2647\n",
       "3 2375 3447 4823 4978 2706 2639 2647 2612\n",
       "4 3447 4823 4978 2706 2639 2647 2612 3530\n",
       "5 4823 4978 2706 2639 2647 2612 3530 4440\n",
       "6 4978 2706 2639 2647 2612 3530 4440 3469"
      ]
     },
     "metadata": {},
     "output_type": "display_data"
    }
   ],
   "source": [
    "cs = CasesSeries(lagTar,c(1:7))\n",
    "head(cs)"
   ]
  },
  {
   "cell_type": "code",
   "execution_count": 92,
   "id": "97e0a05f",
   "metadata": {},
   "outputs": [
    {
     "data": {
      "text/html": [
       "<table>\n",
       "<thead><tr><th></th><th scope=col>all</th><th scope=col>weather</th><th scope=col>maxtemp</th><th scope=col>RH</th><th scope=col>maxwind</th><th scope=col>lag7</th><th scope=col>lag6</th><th scope=col>lag5</th><th scope=col>lag4</th><th scope=col>lag3</th><th scope=col>lag2</th><th scope=col>lag1</th></tr></thead>\n",
       "<tbody>\n",
       "\t<tr><th scope=row>8</th><td>2639</td><td>1   </td><td>17  </td><td>70  </td><td>32  </td><td>2332</td><td>2801</td><td>2375</td><td>3447</td><td>4823</td><td>4978</td><td>2706</td></tr>\n",
       "\t<tr><th scope=row>9</th><td>2647</td><td>1   </td><td>16  </td><td>72  </td><td> 0  </td><td>2801</td><td>2375</td><td>3447</td><td>4823</td><td>4978</td><td>2706</td><td>2639</td></tr>\n",
       "\t<tr><th scope=row>10</th><td>2612</td><td>1   </td><td>16  </td><td>72  </td><td>53  </td><td>2375</td><td>3447</td><td>4823</td><td>4978</td><td>2706</td><td>2639</td><td>2647</td></tr>\n",
       "\t<tr><th scope=row>11</th><td>3530</td><td>1   </td><td>16  </td><td>62  </td><td> 0  </td><td>3447</td><td>4823</td><td>4978</td><td>2706</td><td>2639</td><td>2647</td><td>2612</td></tr>\n",
       "\t<tr><th scope=row>12</th><td>4440</td><td>1   </td><td>18  </td><td>47  </td><td>50  </td><td>4823</td><td>4978</td><td>2706</td><td>2639</td><td>2647</td><td>2612</td><td>3530</td></tr>\n",
       "\t<tr><th scope=row>13</th><td>3469</td><td>1   </td><td>16  </td><td>49  </td><td> 0  </td><td>4978</td><td>2706</td><td>2639</td><td>2647</td><td>2612</td><td>3530</td><td>4440</td></tr>\n",
       "</tbody>\n",
       "</table>\n"
      ],
      "text/latex": [
       "\\begin{tabular}{r|llllllllllll}\n",
       "  & all & weather & maxtemp & RH & maxwind & lag7 & lag6 & lag5 & lag4 & lag3 & lag2 & lag1\\\\\n",
       "\\hline\n",
       "\t8 & 2639 & 1    & 17   & 70   & 32   & 2332 & 2801 & 2375 & 3447 & 4823 & 4978 & 2706\\\\\n",
       "\t9 & 2647 & 1    & 16   & 72   &  0   & 2801 & 2375 & 3447 & 4823 & 4978 & 2706 & 2639\\\\\n",
       "\t10 & 2612 & 1    & 16   & 72   & 53   & 2375 & 3447 & 4823 & 4978 & 2706 & 2639 & 2647\\\\\n",
       "\t11 & 3530 & 1    & 16   & 62   &  0   & 3447 & 4823 & 4978 & 2706 & 2639 & 2647 & 2612\\\\\n",
       "\t12 & 4440 & 1    & 18   & 47   & 50   & 4823 & 4978 & 2706 & 2639 & 2647 & 2612 & 3530\\\\\n",
       "\t13 & 3469 & 1    & 16   & 49   &  0   & 4978 & 2706 & 2639 & 2647 & 2612 & 3530 & 4440\\\\\n",
       "\\end{tabular}\n"
      ],
      "text/markdown": [
       "\n",
       "| <!--/--> | all | weather | maxtemp | RH | maxwind | lag7 | lag6 | lag5 | lag4 | lag3 | lag2 | lag1 |\n",
       "|---|---|---|---|---|---|---|---|---|---|---|---|---|\n",
       "| 8 | 2639 | 1    | 17   | 70   | 32   | 2332 | 2801 | 2375 | 3447 | 4823 | 4978 | 2706 |\n",
       "| 9 | 2647 | 1    | 16   | 72   |  0   | 2801 | 2375 | 3447 | 4823 | 4978 | 2706 | 2639 |\n",
       "| 10 | 2612 | 1    | 16   | 72   | 53   | 2375 | 3447 | 4823 | 4978 | 2706 | 2639 | 2647 |\n",
       "| 11 | 3530 | 1    | 16   | 62   |  0   | 3447 | 4823 | 4978 | 2706 | 2639 | 2647 | 2612 |\n",
       "| 12 | 4440 | 1    | 18   | 47   | 50   | 4823 | 4978 | 2706 | 2639 | 2647 | 2612 | 3530 |\n",
       "| 13 | 3469 | 1    | 16   | 49   |  0   | 4978 | 2706 | 2639 | 2647 | 2612 | 3530 | 4440 |\n",
       "\n"
      ],
      "text/plain": [
       "   all  weather maxtemp RH maxwind lag7 lag6 lag5 lag4 lag3 lag2 lag1\n",
       "8  2639 1       17      70 32      2332 2801 2375 3447 4823 4978 2706\n",
       "9  2647 1       16      72  0      2801 2375 3447 4823 4978 2706 2639\n",
       "10 2612 1       16      72 53      2375 3447 4823 4978 2706 2639 2647\n",
       "11 3530 1       16      62  0      3447 4823 4978 2706 2639 2647 2612\n",
       "12 4440 1       18      47 50      4823 4978 2706 2639 2647 2612 3530\n",
       "13 3469 1       16      49  0      4978 2706 2639 2647 2612 3530 4440"
      ]
     },
     "metadata": {},
     "output_type": "display_data"
    }
   ],
   "source": [
    "bind = data.frame(cbind(data[8:L,],cs))\n",
    "bind = bind %>% select(-y)\n",
    "head(bind)\n",
    "hdlag = holdout(bind[,1],ratio=7,mode=\"order\")\n",
    "\n",
    "train = bind[hdlag$tr,]\n",
    "test = bind[hdlag$ts,]"
   ]
  },
  {
   "cell_type": "code",
   "execution_count": 89,
   "id": "56ae94f6",
   "metadata": {},
   "outputs": [
    {
     "name": "stdout",
     "output_type": "stream",
     "text": [
      "2639 2647 2612 3530 4440 3469 2542 2779 4488 5506 2954 2542 2892 2445 2231 3617 2113 2363 3728 3643 2249 2214 1668 1121 2160 2107 2281 1301 1628 1344 1417 1616 2112 2210 1402 1504 2262 2146 2564 3318 3514 2258 2341 2186 1794 2643 4308 3593 2025 1746 3256 3579 4101 4917 4490 3109 1869 1625 2685 3100 2418.75 1738 1056.25 375 1689 2569 2722 3290 3494 2822 3620 3512 2643 4783 5136 4911 4054 3963 3709 3847 4448 5963 4818 4028 4381 3926 4063 5069 5762 4816 3576 3743 3679 3767 3718 4426 4602 3841 3815 4031 4914 4436 4898 5284 4027 4207 4172 4382 5723 7961 9371 4581 4337 4267 3801 3973 4292 3889 4269 4047 4330 9163 3895 3955 4345 4171 3612 3530 3604 3834 4429 3829 3964 8300 4981 3810 3918 4408 4394 3932 4039 3696 3754 3791 5224 5325 3822 3667 4114 3605 4085 5673 4394 3932 4039 3696 3754 3791 5224 5325 3822 3667 4114 3605 2135 3954 4712 3232 2905 2668 8270 3047 4439 15735 4205 1638 2564 2371 2207 4647 3866 1877 1754 1793 1617 4410 2607 2640 2289 1933 2866 3630 2975 4327 3673 2734 2185 1933 1389 2796 4180 4148 2748 2522 2424 2450 3407 4314 5187 2411 2173 2315 2066 3691 7719 6165 3469 2847 3295 2638 3459 4860 5179 2642 2551 2347 2863 3875 6107 4857 3365 2938 3119 3436 2343 5579 4796 2620 2663 2817 3767 6804 11110"
     ]
    }
   ],
   "source": [
    "TSL = ts(bind$all[hdlag$tr],frequency=7) # frequencia=7 porque é diário\n",
    "cat(TSL)"
   ]
  },
  {
   "cell_type": "code",
   "execution_count": 91,
   "id": "4cc047cd",
   "metadata": {},
   "outputs": [
    {
     "data": {
      "text/html": [
       "<dl>\n",
       "\t<dt>$tr</dt>\n",
       "\t\t<dd><ol class=list-inline>\n",
       "\t<li>1</li>\n",
       "\t<li>2</li>\n",
       "\t<li>3</li>\n",
       "\t<li>4</li>\n",
       "\t<li>5</li>\n",
       "\t<li>6</li>\n",
       "\t<li>7</li>\n",
       "\t<li>8</li>\n",
       "\t<li>9</li>\n",
       "\t<li>10</li>\n",
       "\t<li>11</li>\n",
       "\t<li>12</li>\n",
       "\t<li>13</li>\n",
       "\t<li>14</li>\n",
       "\t<li>15</li>\n",
       "\t<li>16</li>\n",
       "\t<li>17</li>\n",
       "\t<li>18</li>\n",
       "\t<li>19</li>\n",
       "\t<li>20</li>\n",
       "\t<li>21</li>\n",
       "\t<li>22</li>\n",
       "\t<li>23</li>\n",
       "\t<li>24</li>\n",
       "\t<li>25</li>\n",
       "\t<li>26</li>\n",
       "\t<li>27</li>\n",
       "\t<li>28</li>\n",
       "\t<li>29</li>\n",
       "\t<li>30</li>\n",
       "\t<li>31</li>\n",
       "\t<li>32</li>\n",
       "\t<li>33</li>\n",
       "\t<li>34</li>\n",
       "\t<li>35</li>\n",
       "\t<li>36</li>\n",
       "\t<li>37</li>\n",
       "\t<li>38</li>\n",
       "\t<li>39</li>\n",
       "\t<li>40</li>\n",
       "\t<li>41</li>\n",
       "\t<li>42</li>\n",
       "\t<li>43</li>\n",
       "\t<li>44</li>\n",
       "\t<li>45</li>\n",
       "\t<li>46</li>\n",
       "\t<li>47</li>\n",
       "\t<li>48</li>\n",
       "\t<li>49</li>\n",
       "\t<li>50</li>\n",
       "\t<li>51</li>\n",
       "\t<li>52</li>\n",
       "\t<li>53</li>\n",
       "\t<li>54</li>\n",
       "\t<li>55</li>\n",
       "\t<li>56</li>\n",
       "\t<li>57</li>\n",
       "\t<li>58</li>\n",
       "\t<li>59</li>\n",
       "\t<li>60</li>\n",
       "\t<li>61</li>\n",
       "\t<li>62</li>\n",
       "\t<li>63</li>\n",
       "\t<li>64</li>\n",
       "\t<li>65</li>\n",
       "\t<li>66</li>\n",
       "\t<li>67</li>\n",
       "\t<li>68</li>\n",
       "\t<li>69</li>\n",
       "\t<li>70</li>\n",
       "\t<li>71</li>\n",
       "\t<li>72</li>\n",
       "\t<li>73</li>\n",
       "\t<li>74</li>\n",
       "\t<li>75</li>\n",
       "\t<li>76</li>\n",
       "\t<li>77</li>\n",
       "\t<li>78</li>\n",
       "\t<li>79</li>\n",
       "\t<li>80</li>\n",
       "\t<li>81</li>\n",
       "\t<li>82</li>\n",
       "\t<li>83</li>\n",
       "\t<li>84</li>\n",
       "\t<li>85</li>\n",
       "\t<li>86</li>\n",
       "\t<li>87</li>\n",
       "\t<li>88</li>\n",
       "\t<li>89</li>\n",
       "\t<li>90</li>\n",
       "\t<li>91</li>\n",
       "\t<li>92</li>\n",
       "\t<li>93</li>\n",
       "\t<li>94</li>\n",
       "\t<li>95</li>\n",
       "\t<li>96</li>\n",
       "\t<li>97</li>\n",
       "\t<li>98</li>\n",
       "\t<li>99</li>\n",
       "\t<li>100</li>\n",
       "\t<li>101</li>\n",
       "\t<li>102</li>\n",
       "\t<li>103</li>\n",
       "\t<li>104</li>\n",
       "\t<li>105</li>\n",
       "\t<li>106</li>\n",
       "\t<li>107</li>\n",
       "\t<li>108</li>\n",
       "\t<li>109</li>\n",
       "\t<li>110</li>\n",
       "\t<li>111</li>\n",
       "\t<li>112</li>\n",
       "\t<li>113</li>\n",
       "\t<li>114</li>\n",
       "\t<li>115</li>\n",
       "\t<li>116</li>\n",
       "\t<li>117</li>\n",
       "\t<li>118</li>\n",
       "\t<li>119</li>\n",
       "\t<li>120</li>\n",
       "\t<li>121</li>\n",
       "\t<li>122</li>\n",
       "\t<li>123</li>\n",
       "\t<li>124</li>\n",
       "\t<li>125</li>\n",
       "\t<li>126</li>\n",
       "\t<li>127</li>\n",
       "\t<li>128</li>\n",
       "\t<li>129</li>\n",
       "\t<li>130</li>\n",
       "\t<li>131</li>\n",
       "\t<li>132</li>\n",
       "\t<li>133</li>\n",
       "\t<li>134</li>\n",
       "\t<li>135</li>\n",
       "\t<li>136</li>\n",
       "\t<li>137</li>\n",
       "\t<li>138</li>\n",
       "\t<li>139</li>\n",
       "\t<li>140</li>\n",
       "\t<li>141</li>\n",
       "\t<li>142</li>\n",
       "\t<li>143</li>\n",
       "\t<li>144</li>\n",
       "\t<li>145</li>\n",
       "\t<li>146</li>\n",
       "\t<li>147</li>\n",
       "\t<li>148</li>\n",
       "\t<li>149</li>\n",
       "\t<li>150</li>\n",
       "\t<li>151</li>\n",
       "\t<li>152</li>\n",
       "\t<li>153</li>\n",
       "\t<li>154</li>\n",
       "\t<li>155</li>\n",
       "\t<li>156</li>\n",
       "\t<li>157</li>\n",
       "\t<li>158</li>\n",
       "\t<li>159</li>\n",
       "\t<li>160</li>\n",
       "\t<li>161</li>\n",
       "\t<li>162</li>\n",
       "\t<li>163</li>\n",
       "\t<li>164</li>\n",
       "\t<li>165</li>\n",
       "\t<li>166</li>\n",
       "\t<li>167</li>\n",
       "\t<li>168</li>\n",
       "\t<li>169</li>\n",
       "\t<li>170</li>\n",
       "\t<li>171</li>\n",
       "\t<li>172</li>\n",
       "\t<li>173</li>\n",
       "\t<li>174</li>\n",
       "\t<li>175</li>\n",
       "\t<li>176</li>\n",
       "\t<li>177</li>\n",
       "\t<li>178</li>\n",
       "\t<li>179</li>\n",
       "\t<li>180</li>\n",
       "\t<li>181</li>\n",
       "\t<li>182</li>\n",
       "\t<li>183</li>\n",
       "\t<li>184</li>\n",
       "\t<li>185</li>\n",
       "\t<li>186</li>\n",
       "\t<li>187</li>\n",
       "\t<li>188</li>\n",
       "\t<li>189</li>\n",
       "\t<li>190</li>\n",
       "\t<li>191</li>\n",
       "\t<li>192</li>\n",
       "\t<li>193</li>\n",
       "\t<li>194</li>\n",
       "\t<li>195</li>\n",
       "\t<li>196</li>\n",
       "\t<li>197</li>\n",
       "\t<li>198</li>\n",
       "\t<li>199</li>\n",
       "\t<li>200</li>\n",
       "\t<li>201</li>\n",
       "\t<li>202</li>\n",
       "\t<li>203</li>\n",
       "\t<li>204</li>\n",
       "\t<li>205</li>\n",
       "\t<li>206</li>\n",
       "\t<li>207</li>\n",
       "\t<li>208</li>\n",
       "\t<li>209</li>\n",
       "\t<li>210</li>\n",
       "\t<li>211</li>\n",
       "\t<li>212</li>\n",
       "\t<li>213</li>\n",
       "\t<li>214</li>\n",
       "\t<li>215</li>\n",
       "\t<li>216</li>\n",
       "\t<li>217</li>\n",
       "\t<li>218</li>\n",
       "\t<li>219</li>\n",
       "\t<li>220</li>\n",
       "\t<li>221</li>\n",
       "\t<li>222</li>\n",
       "\t<li>223</li>\n",
       "\t<li>224</li>\n",
       "\t<li>225</li>\n",
       "\t<li>226</li>\n",
       "\t<li>227</li>\n",
       "\t<li>228</li>\n",
       "\t<li>229</li>\n",
       "\t<li>230</li>\n",
       "\t<li>231</li>\n",
       "\t<li>232</li>\n",
       "\t<li>233</li>\n",
       "\t<li>234</li>\n",
       "\t<li>235</li>\n",
       "\t<li>236</li>\n",
       "\t<li>237</li>\n",
       "\t<li>238</li>\n",
       "\t<li>239</li>\n",
       "\t<li>240</li>\n",
       "\t<li>241</li>\n",
       "\t<li>242</li>\n",
       "\t<li>243</li>\n",
       "</ol>\n",
       "</dd>\n",
       "\t<dt>$itr</dt>\n",
       "\t\t<dd>NULL</dd>\n",
       "\t<dt>$val</dt>\n",
       "\t\t<dd>NULL</dd>\n",
       "\t<dt>$ts</dt>\n",
       "\t\t<dd><ol class=list-inline>\n",
       "\t<li>244</li>\n",
       "\t<li>245</li>\n",
       "\t<li>246</li>\n",
       "\t<li>247</li>\n",
       "\t<li>248</li>\n",
       "\t<li>249</li>\n",
       "\t<li>250</li>\n",
       "</ol>\n",
       "</dd>\n",
       "</dl>\n"
      ],
      "text/latex": [
       "\\begin{description}\n",
       "\\item[\\$tr] \\begin{enumerate*}\n",
       "\\item 1\n",
       "\\item 2\n",
       "\\item 3\n",
       "\\item 4\n",
       "\\item 5\n",
       "\\item 6\n",
       "\\item 7\n",
       "\\item 8\n",
       "\\item 9\n",
       "\\item 10\n",
       "\\item 11\n",
       "\\item 12\n",
       "\\item 13\n",
       "\\item 14\n",
       "\\item 15\n",
       "\\item 16\n",
       "\\item 17\n",
       "\\item 18\n",
       "\\item 19\n",
       "\\item 20\n",
       "\\item 21\n",
       "\\item 22\n",
       "\\item 23\n",
       "\\item 24\n",
       "\\item 25\n",
       "\\item 26\n",
       "\\item 27\n",
       "\\item 28\n",
       "\\item 29\n",
       "\\item 30\n",
       "\\item 31\n",
       "\\item 32\n",
       "\\item 33\n",
       "\\item 34\n",
       "\\item 35\n",
       "\\item 36\n",
       "\\item 37\n",
       "\\item 38\n",
       "\\item 39\n",
       "\\item 40\n",
       "\\item 41\n",
       "\\item 42\n",
       "\\item 43\n",
       "\\item 44\n",
       "\\item 45\n",
       "\\item 46\n",
       "\\item 47\n",
       "\\item 48\n",
       "\\item 49\n",
       "\\item 50\n",
       "\\item 51\n",
       "\\item 52\n",
       "\\item 53\n",
       "\\item 54\n",
       "\\item 55\n",
       "\\item 56\n",
       "\\item 57\n",
       "\\item 58\n",
       "\\item 59\n",
       "\\item 60\n",
       "\\item 61\n",
       "\\item 62\n",
       "\\item 63\n",
       "\\item 64\n",
       "\\item 65\n",
       "\\item 66\n",
       "\\item 67\n",
       "\\item 68\n",
       "\\item 69\n",
       "\\item 70\n",
       "\\item 71\n",
       "\\item 72\n",
       "\\item 73\n",
       "\\item 74\n",
       "\\item 75\n",
       "\\item 76\n",
       "\\item 77\n",
       "\\item 78\n",
       "\\item 79\n",
       "\\item 80\n",
       "\\item 81\n",
       "\\item 82\n",
       "\\item 83\n",
       "\\item 84\n",
       "\\item 85\n",
       "\\item 86\n",
       "\\item 87\n",
       "\\item 88\n",
       "\\item 89\n",
       "\\item 90\n",
       "\\item 91\n",
       "\\item 92\n",
       "\\item 93\n",
       "\\item 94\n",
       "\\item 95\n",
       "\\item 96\n",
       "\\item 97\n",
       "\\item 98\n",
       "\\item 99\n",
       "\\item 100\n",
       "\\item 101\n",
       "\\item 102\n",
       "\\item 103\n",
       "\\item 104\n",
       "\\item 105\n",
       "\\item 106\n",
       "\\item 107\n",
       "\\item 108\n",
       "\\item 109\n",
       "\\item 110\n",
       "\\item 111\n",
       "\\item 112\n",
       "\\item 113\n",
       "\\item 114\n",
       "\\item 115\n",
       "\\item 116\n",
       "\\item 117\n",
       "\\item 118\n",
       "\\item 119\n",
       "\\item 120\n",
       "\\item 121\n",
       "\\item 122\n",
       "\\item 123\n",
       "\\item 124\n",
       "\\item 125\n",
       "\\item 126\n",
       "\\item 127\n",
       "\\item 128\n",
       "\\item 129\n",
       "\\item 130\n",
       "\\item 131\n",
       "\\item 132\n",
       "\\item 133\n",
       "\\item 134\n",
       "\\item 135\n",
       "\\item 136\n",
       "\\item 137\n",
       "\\item 138\n",
       "\\item 139\n",
       "\\item 140\n",
       "\\item 141\n",
       "\\item 142\n",
       "\\item 143\n",
       "\\item 144\n",
       "\\item 145\n",
       "\\item 146\n",
       "\\item 147\n",
       "\\item 148\n",
       "\\item 149\n",
       "\\item 150\n",
       "\\item 151\n",
       "\\item 152\n",
       "\\item 153\n",
       "\\item 154\n",
       "\\item 155\n",
       "\\item 156\n",
       "\\item 157\n",
       "\\item 158\n",
       "\\item 159\n",
       "\\item 160\n",
       "\\item 161\n",
       "\\item 162\n",
       "\\item 163\n",
       "\\item 164\n",
       "\\item 165\n",
       "\\item 166\n",
       "\\item 167\n",
       "\\item 168\n",
       "\\item 169\n",
       "\\item 170\n",
       "\\item 171\n",
       "\\item 172\n",
       "\\item 173\n",
       "\\item 174\n",
       "\\item 175\n",
       "\\item 176\n",
       "\\item 177\n",
       "\\item 178\n",
       "\\item 179\n",
       "\\item 180\n",
       "\\item 181\n",
       "\\item 182\n",
       "\\item 183\n",
       "\\item 184\n",
       "\\item 185\n",
       "\\item 186\n",
       "\\item 187\n",
       "\\item 188\n",
       "\\item 189\n",
       "\\item 190\n",
       "\\item 191\n",
       "\\item 192\n",
       "\\item 193\n",
       "\\item 194\n",
       "\\item 195\n",
       "\\item 196\n",
       "\\item 197\n",
       "\\item 198\n",
       "\\item 199\n",
       "\\item 200\n",
       "\\item 201\n",
       "\\item 202\n",
       "\\item 203\n",
       "\\item 204\n",
       "\\item 205\n",
       "\\item 206\n",
       "\\item 207\n",
       "\\item 208\n",
       "\\item 209\n",
       "\\item 210\n",
       "\\item 211\n",
       "\\item 212\n",
       "\\item 213\n",
       "\\item 214\n",
       "\\item 215\n",
       "\\item 216\n",
       "\\item 217\n",
       "\\item 218\n",
       "\\item 219\n",
       "\\item 220\n",
       "\\item 221\n",
       "\\item 222\n",
       "\\item 223\n",
       "\\item 224\n",
       "\\item 225\n",
       "\\item 226\n",
       "\\item 227\n",
       "\\item 228\n",
       "\\item 229\n",
       "\\item 230\n",
       "\\item 231\n",
       "\\item 232\n",
       "\\item 233\n",
       "\\item 234\n",
       "\\item 235\n",
       "\\item 236\n",
       "\\item 237\n",
       "\\item 238\n",
       "\\item 239\n",
       "\\item 240\n",
       "\\item 241\n",
       "\\item 242\n",
       "\\item 243\n",
       "\\end{enumerate*}\n",
       "\n",
       "\\item[\\$itr] NULL\n",
       "\\item[\\$val] NULL\n",
       "\\item[\\$ts] \\begin{enumerate*}\n",
       "\\item 244\n",
       "\\item 245\n",
       "\\item 246\n",
       "\\item 247\n",
       "\\item 248\n",
       "\\item 249\n",
       "\\item 250\n",
       "\\end{enumerate*}\n",
       "\n",
       "\\end{description}\n"
      ],
      "text/markdown": [
       "$tr\n",
       ":   1. 1\n",
       "2. 2\n",
       "3. 3\n",
       "4. 4\n",
       "5. 5\n",
       "6. 6\n",
       "7. 7\n",
       "8. 8\n",
       "9. 9\n",
       "10. 10\n",
       "11. 11\n",
       "12. 12\n",
       "13. 13\n",
       "14. 14\n",
       "15. 15\n",
       "16. 16\n",
       "17. 17\n",
       "18. 18\n",
       "19. 19\n",
       "20. 20\n",
       "21. 21\n",
       "22. 22\n",
       "23. 23\n",
       "24. 24\n",
       "25. 25\n",
       "26. 26\n",
       "27. 27\n",
       "28. 28\n",
       "29. 29\n",
       "30. 30\n",
       "31. 31\n",
       "32. 32\n",
       "33. 33\n",
       "34. 34\n",
       "35. 35\n",
       "36. 36\n",
       "37. 37\n",
       "38. 38\n",
       "39. 39\n",
       "40. 40\n",
       "41. 41\n",
       "42. 42\n",
       "43. 43\n",
       "44. 44\n",
       "45. 45\n",
       "46. 46\n",
       "47. 47\n",
       "48. 48\n",
       "49. 49\n",
       "50. 50\n",
       "51. 51\n",
       "52. 52\n",
       "53. 53\n",
       "54. 54\n",
       "55. 55\n",
       "56. 56\n",
       "57. 57\n",
       "58. 58\n",
       "59. 59\n",
       "60. 60\n",
       "61. 61\n",
       "62. 62\n",
       "63. 63\n",
       "64. 64\n",
       "65. 65\n",
       "66. 66\n",
       "67. 67\n",
       "68. 68\n",
       "69. 69\n",
       "70. 70\n",
       "71. 71\n",
       "72. 72\n",
       "73. 73\n",
       "74. 74\n",
       "75. 75\n",
       "76. 76\n",
       "77. 77\n",
       "78. 78\n",
       "79. 79\n",
       "80. 80\n",
       "81. 81\n",
       "82. 82\n",
       "83. 83\n",
       "84. 84\n",
       "85. 85\n",
       "86. 86\n",
       "87. 87\n",
       "88. 88\n",
       "89. 89\n",
       "90. 90\n",
       "91. 91\n",
       "92. 92\n",
       "93. 93\n",
       "94. 94\n",
       "95. 95\n",
       "96. 96\n",
       "97. 97\n",
       "98. 98\n",
       "99. 99\n",
       "100. 100\n",
       "101. 101\n",
       "102. 102\n",
       "103. 103\n",
       "104. 104\n",
       "105. 105\n",
       "106. 106\n",
       "107. 107\n",
       "108. 108\n",
       "109. 109\n",
       "110. 110\n",
       "111. 111\n",
       "112. 112\n",
       "113. 113\n",
       "114. 114\n",
       "115. 115\n",
       "116. 116\n",
       "117. 117\n",
       "118. 118\n",
       "119. 119\n",
       "120. 120\n",
       "121. 121\n",
       "122. 122\n",
       "123. 123\n",
       "124. 124\n",
       "125. 125\n",
       "126. 126\n",
       "127. 127\n",
       "128. 128\n",
       "129. 129\n",
       "130. 130\n",
       "131. 131\n",
       "132. 132\n",
       "133. 133\n",
       "134. 134\n",
       "135. 135\n",
       "136. 136\n",
       "137. 137\n",
       "138. 138\n",
       "139. 139\n",
       "140. 140\n",
       "141. 141\n",
       "142. 142\n",
       "143. 143\n",
       "144. 144\n",
       "145. 145\n",
       "146. 146\n",
       "147. 147\n",
       "148. 148\n",
       "149. 149\n",
       "150. 150\n",
       "151. 151\n",
       "152. 152\n",
       "153. 153\n",
       "154. 154\n",
       "155. 155\n",
       "156. 156\n",
       "157. 157\n",
       "158. 158\n",
       "159. 159\n",
       "160. 160\n",
       "161. 161\n",
       "162. 162\n",
       "163. 163\n",
       "164. 164\n",
       "165. 165\n",
       "166. 166\n",
       "167. 167\n",
       "168. 168\n",
       "169. 169\n",
       "170. 170\n",
       "171. 171\n",
       "172. 172\n",
       "173. 173\n",
       "174. 174\n",
       "175. 175\n",
       "176. 176\n",
       "177. 177\n",
       "178. 178\n",
       "179. 179\n",
       "180. 180\n",
       "181. 181\n",
       "182. 182\n",
       "183. 183\n",
       "184. 184\n",
       "185. 185\n",
       "186. 186\n",
       "187. 187\n",
       "188. 188\n",
       "189. 189\n",
       "190. 190\n",
       "191. 191\n",
       "192. 192\n",
       "193. 193\n",
       "194. 194\n",
       "195. 195\n",
       "196. 196\n",
       "197. 197\n",
       "198. 198\n",
       "199. 199\n",
       "200. 200\n",
       "201. 201\n",
       "202. 202\n",
       "203. 203\n",
       "204. 204\n",
       "205. 205\n",
       "206. 206\n",
       "207. 207\n",
       "208. 208\n",
       "209. 209\n",
       "210. 210\n",
       "211. 211\n",
       "212. 212\n",
       "213. 213\n",
       "214. 214\n",
       "215. 215\n",
       "216. 216\n",
       "217. 217\n",
       "218. 218\n",
       "219. 219\n",
       "220. 220\n",
       "221. 221\n",
       "222. 222\n",
       "223. 223\n",
       "224. 224\n",
       "225. 225\n",
       "226. 226\n",
       "227. 227\n",
       "228. 228\n",
       "229. 229\n",
       "230. 230\n",
       "231. 231\n",
       "232. 232\n",
       "233. 233\n",
       "234. 234\n",
       "235. 235\n",
       "236. 236\n",
       "237. 237\n",
       "238. 238\n",
       "239. 239\n",
       "240. 240\n",
       "241. 241\n",
       "242. 242\n",
       "243. 243\n",
       "\n",
       "\n",
       "\n",
       "$itr\n",
       ":   NULL\n",
       "$val\n",
       ":   NULL\n",
       "$ts\n",
       ":   1. 244\n",
       "2. 245\n",
       "3. 246\n",
       "4. 247\n",
       "5. 248\n",
       "6. 249\n",
       "7. 250\n",
       "\n",
       "\n",
       "\n",
       "\n",
       "\n"
      ],
      "text/plain": [
       "$tr\n",
       "  [1]   1   2   3   4   5   6   7   8   9  10  11  12  13  14  15  16  17  18\n",
       " [19]  19  20  21  22  23  24  25  26  27  28  29  30  31  32  33  34  35  36\n",
       " [37]  37  38  39  40  41  42  43  44  45  46  47  48  49  50  51  52  53  54\n",
       " [55]  55  56  57  58  59  60  61  62  63  64  65  66  67  68  69  70  71  72\n",
       " [73]  73  74  75  76  77  78  79  80  81  82  83  84  85  86  87  88  89  90\n",
       " [91]  91  92  93  94  95  96  97  98  99 100 101 102 103 104 105 106 107 108\n",
       "[109] 109 110 111 112 113 114 115 116 117 118 119 120 121 122 123 124 125 126\n",
       "[127] 127 128 129 130 131 132 133 134 135 136 137 138 139 140 141 142 143 144\n",
       "[145] 145 146 147 148 149 150 151 152 153 154 155 156 157 158 159 160 161 162\n",
       "[163] 163 164 165 166 167 168 169 170 171 172 173 174 175 176 177 178 179 180\n",
       "[181] 181 182 183 184 185 186 187 188 189 190 191 192 193 194 195 196 197 198\n",
       "[199] 199 200 201 202 203 204 205 206 207 208 209 210 211 212 213 214 215 216\n",
       "[217] 217 218 219 220 221 222 223 224 225 226 227 228 229 230 231 232 233 234\n",
       "[235] 235 236 237 238 239 240 241 242 243\n",
       "\n",
       "$itr\n",
       "NULL\n",
       "\n",
       "$val\n",
       "NULL\n",
       "\n",
       "$ts\n",
       "[1] 244 245 246 247 248 249 250\n"
      ]
     },
     "metadata": {},
     "output_type": "display_data"
    }
   ],
   "source": []
  },
  {
   "cell_type": "code",
   "execution_count": null,
   "id": "e8f7475d",
   "metadata": {},
   "outputs": [],
   "source": []
  }
 ],
 "metadata": {
  "kernelspec": {
   "display_name": "R",
   "language": "R",
   "name": "ir"
  },
  "language_info": {
   "codemirror_mode": "r",
   "file_extension": ".r",
   "mimetype": "text/x-r-source",
   "name": "R",
   "pygments_lexer": "r",
   "version": "3.6.1"
  }
 },
 "nbformat": 4,
 "nbformat_minor": 5
}
