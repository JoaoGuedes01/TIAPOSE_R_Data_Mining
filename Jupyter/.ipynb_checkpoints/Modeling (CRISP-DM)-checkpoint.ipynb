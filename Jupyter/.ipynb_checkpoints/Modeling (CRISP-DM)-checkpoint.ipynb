{
 "cells": [
  {
   "cell_type": "markdown",
   "id": "faddba97",
   "metadata": {},
   "source": [
    "## Modeling\n",
    "#### Nesta fase os dados foram preparados para integração em modelos de machine learning na fase de Modeling\n",
    "#### As séries temporais \"male\", \"female\", \"young\" e \"adult\" foram retiradas dos dados uma vez que o nosso objetivo é orientado para a série \"all\"\n",
    "#### A coluna \"date\" também foi removida porque apenas serve para nos situarmos no tempo, para a divisão dos dados em antigos=treino, recentes=teste. Além disso a sua natureza única (única por observação) apenas iria trazer incerteza para os modelos.\n",
    "#### Para lidar com os valores outliers foram criados 2 cenários:\n",
    "<ul>\n",
    "    <li><b>Com outliers</b> - Neste cenário os valores outliers não foram tratados</li>\n",
    "    <li><b>Sem outliers s/ compensação</b> - Neste cenário os valores outliers foram tratados</li>\n",
    "\n",
    "</ul>\n",
    "\n",
    "#### Por fim os dados de cada cenário foram exportados para os respetivos ficheiros csv para poderem ser utilizados nas fases seguintes "
   ]
  },
  {
   "cell_type": "code",
   "execution_count": 463,
   "id": "d23259dd",
   "metadata": {},
   "outputs": [],
   "source": [
    "# Importar Libraries\n",
    "library(tidyverse)\n",
    "library(rminer)\n",
    "library(forecast)"
   ]
  },
  {
   "cell_type": "code",
   "execution_count": 464,
   "id": "9a80304b",
   "metadata": {
    "scrolled": true
   },
   "outputs": [
    {
     "data": {
      "text/html": [
       "<table>\n",
       "<thead><tr><th scope=col>all</th><th scope=col>weather</th><th scope=col>maxtemp</th><th scope=col>RH</th><th scope=col>maxwind</th></tr></thead>\n",
       "<tbody>\n",
       "\t<tr><td>2332</td><td>0   </td><td>13  </td><td>87  </td><td> 0  </td></tr>\n",
       "\t<tr><td>2801</td><td>0   </td><td>14  </td><td>94  </td><td>45  </td></tr>\n",
       "\t<tr><td>2375</td><td>0   </td><td>14  </td><td>82  </td><td>55  </td></tr>\n",
       "\t<tr><td>3447</td><td>1   </td><td>13  </td><td>78  </td><td> 0  </td></tr>\n",
       "\t<tr><td>4823</td><td>0   </td><td>16  </td><td>81  </td><td>37  </td></tr>\n",
       "\t<tr><td>4978</td><td>0   </td><td>16  </td><td>73  </td><td> 0  </td></tr>\n",
       "</tbody>\n",
       "</table>\n"
      ],
      "text/latex": [
       "\\begin{tabular}{r|lllll}\n",
       " all & weather & maxtemp & RH & maxwind\\\\\n",
       "\\hline\n",
       "\t 2332 & 0    & 13   & 87   &  0  \\\\\n",
       "\t 2801 & 0    & 14   & 94   & 45  \\\\\n",
       "\t 2375 & 0    & 14   & 82   & 55  \\\\\n",
       "\t 3447 & 1    & 13   & 78   &  0  \\\\\n",
       "\t 4823 & 0    & 16   & 81   & 37  \\\\\n",
       "\t 4978 & 0    & 16   & 73   &  0  \\\\\n",
       "\\end{tabular}\n"
      ],
      "text/markdown": [
       "\n",
       "| all | weather | maxtemp | RH | maxwind |\n",
       "|---|---|---|---|---|\n",
       "| 2332 | 0    | 13   | 87   |  0   |\n",
       "| 2801 | 0    | 14   | 94   | 45   |\n",
       "| 2375 | 0    | 14   | 82   | 55   |\n",
       "| 3447 | 1    | 13   | 78   |  0   |\n",
       "| 4823 | 0    | 16   | 81   | 37   |\n",
       "| 4978 | 0    | 16   | 73   |  0   |\n",
       "\n"
      ],
      "text/plain": [
       "  all  weather maxtemp RH maxwind\n",
       "1 2332 0       13      87  0     \n",
       "2 2801 0       14      94 45     \n",
       "3 2375 0       14      82 55     \n",
       "4 3447 1       13      78  0     \n",
       "5 4823 0       16      81 37     \n",
       "6 4978 0       16      73  0     "
      ]
     },
     "metadata": {},
     "output_type": "display_data"
    }
   ],
   "source": [
    "# Importar os dados\n",
    "# data <- read.csv(file = './exported data/TS1Cenario1.csv')\n",
    "data <- read.csv(file = './exported data/TS1Cenario2.csv')\n",
    "\n",
    "# Retirar a coluna X (Index)\n",
    "data = data %>% select(-X)\n",
    "head(data)\n",
    "\n",
    "nomeRes = \"TS1Cenario1\"\n",
    "resdf <- data.frame(METRICA_MODELO=c(\"MAE\",\"NMAE\"))"
   ]
  },
  {
   "cell_type": "markdown",
   "id": "3abd09f6",
   "metadata": {},
   "source": [
    "## Multivariate Regression"
   ]
  },
  {
   "cell_type": "markdown",
   "id": "6d9297ce",
   "metadata": {},
   "source": [
    "### Spliting the dataset (For multivariate models)"
   ]
  },
  {
   "cell_type": "code",
   "execution_count": 465,
   "id": "6aa6fcab",
   "metadata": {},
   "outputs": [
    {
     "data": {
      "text/html": [
       "<dl>\n",
       "\t<dt>$tr</dt>\n",
       "\t\t<dd><ol class=list-inline>\n",
       "\t<li>1</li>\n",
       "\t<li>2</li>\n",
       "\t<li>3</li>\n",
       "\t<li>4</li>\n",
       "\t<li>5</li>\n",
       "\t<li>6</li>\n",
       "\t<li>7</li>\n",
       "\t<li>8</li>\n",
       "\t<li>9</li>\n",
       "\t<li>10</li>\n",
       "\t<li>11</li>\n",
       "\t<li>12</li>\n",
       "\t<li>13</li>\n",
       "\t<li>14</li>\n",
       "\t<li>15</li>\n",
       "\t<li>16</li>\n",
       "\t<li>17</li>\n",
       "\t<li>18</li>\n",
       "\t<li>19</li>\n",
       "\t<li>20</li>\n",
       "\t<li>21</li>\n",
       "\t<li>22</li>\n",
       "\t<li>23</li>\n",
       "\t<li>24</li>\n",
       "\t<li>25</li>\n",
       "\t<li>26</li>\n",
       "\t<li>27</li>\n",
       "\t<li>28</li>\n",
       "\t<li>29</li>\n",
       "\t<li>30</li>\n",
       "\t<li>31</li>\n",
       "\t<li>32</li>\n",
       "\t<li>33</li>\n",
       "\t<li>34</li>\n",
       "\t<li>35</li>\n",
       "\t<li>36</li>\n",
       "\t<li>37</li>\n",
       "\t<li>38</li>\n",
       "\t<li>39</li>\n",
       "\t<li>40</li>\n",
       "\t<li>41</li>\n",
       "\t<li>42</li>\n",
       "\t<li>43</li>\n",
       "\t<li>44</li>\n",
       "\t<li>45</li>\n",
       "\t<li>46</li>\n",
       "\t<li>47</li>\n",
       "\t<li>48</li>\n",
       "\t<li>49</li>\n",
       "\t<li>50</li>\n",
       "\t<li>51</li>\n",
       "\t<li>52</li>\n",
       "\t<li>53</li>\n",
       "\t<li>54</li>\n",
       "\t<li>55</li>\n",
       "\t<li>56</li>\n",
       "\t<li>57</li>\n",
       "\t<li>58</li>\n",
       "\t<li>59</li>\n",
       "\t<li>60</li>\n",
       "\t<li>61</li>\n",
       "\t<li>62</li>\n",
       "\t<li>63</li>\n",
       "\t<li>64</li>\n",
       "\t<li>65</li>\n",
       "\t<li>66</li>\n",
       "\t<li>67</li>\n",
       "\t<li>68</li>\n",
       "\t<li>69</li>\n",
       "\t<li>70</li>\n",
       "\t<li>71</li>\n",
       "\t<li>72</li>\n",
       "\t<li>73</li>\n",
       "\t<li>74</li>\n",
       "\t<li>75</li>\n",
       "\t<li>76</li>\n",
       "\t<li>77</li>\n",
       "\t<li>78</li>\n",
       "\t<li>79</li>\n",
       "\t<li>80</li>\n",
       "\t<li>81</li>\n",
       "\t<li>82</li>\n",
       "\t<li>83</li>\n",
       "\t<li>84</li>\n",
       "\t<li>85</li>\n",
       "\t<li>86</li>\n",
       "\t<li>87</li>\n",
       "\t<li>88</li>\n",
       "\t<li>89</li>\n",
       "\t<li>90</li>\n",
       "\t<li>91</li>\n",
       "\t<li>92</li>\n",
       "\t<li>93</li>\n",
       "\t<li>94</li>\n",
       "\t<li>95</li>\n",
       "\t<li>96</li>\n",
       "\t<li>97</li>\n",
       "\t<li>98</li>\n",
       "\t<li>99</li>\n",
       "\t<li>100</li>\n",
       "\t<li>101</li>\n",
       "\t<li>102</li>\n",
       "\t<li>103</li>\n",
       "\t<li>104</li>\n",
       "\t<li>105</li>\n",
       "\t<li>106</li>\n",
       "\t<li>107</li>\n",
       "\t<li>108</li>\n",
       "\t<li>109</li>\n",
       "\t<li>110</li>\n",
       "\t<li>111</li>\n",
       "\t<li>112</li>\n",
       "\t<li>113</li>\n",
       "\t<li>114</li>\n",
       "\t<li>115</li>\n",
       "\t<li>116</li>\n",
       "\t<li>117</li>\n",
       "\t<li>118</li>\n",
       "\t<li>119</li>\n",
       "\t<li>120</li>\n",
       "\t<li>121</li>\n",
       "\t<li>122</li>\n",
       "\t<li>123</li>\n",
       "\t<li>124</li>\n",
       "\t<li>125</li>\n",
       "\t<li>126</li>\n",
       "\t<li>127</li>\n",
       "\t<li>128</li>\n",
       "\t<li>129</li>\n",
       "\t<li>130</li>\n",
       "\t<li>131</li>\n",
       "\t<li>132</li>\n",
       "\t<li>133</li>\n",
       "\t<li>134</li>\n",
       "\t<li>135</li>\n",
       "\t<li>136</li>\n",
       "\t<li>137</li>\n",
       "\t<li>138</li>\n",
       "\t<li>139</li>\n",
       "\t<li>140</li>\n",
       "\t<li>141</li>\n",
       "\t<li>142</li>\n",
       "\t<li>143</li>\n",
       "\t<li>144</li>\n",
       "\t<li>145</li>\n",
       "\t<li>146</li>\n",
       "\t<li>147</li>\n",
       "\t<li>148</li>\n",
       "\t<li>149</li>\n",
       "\t<li>150</li>\n",
       "\t<li>151</li>\n",
       "\t<li>152</li>\n",
       "\t<li>153</li>\n",
       "\t<li>154</li>\n",
       "\t<li>155</li>\n",
       "\t<li>156</li>\n",
       "\t<li>157</li>\n",
       "\t<li>158</li>\n",
       "\t<li>159</li>\n",
       "\t<li>160</li>\n",
       "\t<li>161</li>\n",
       "\t<li>162</li>\n",
       "\t<li>163</li>\n",
       "\t<li>164</li>\n",
       "\t<li>165</li>\n",
       "\t<li>166</li>\n",
       "\t<li>167</li>\n",
       "\t<li>168</li>\n",
       "\t<li>169</li>\n",
       "\t<li>170</li>\n",
       "\t<li>171</li>\n",
       "\t<li>172</li>\n",
       "\t<li>173</li>\n",
       "\t<li>174</li>\n",
       "\t<li>175</li>\n",
       "\t<li>176</li>\n",
       "\t<li>177</li>\n",
       "\t<li>178</li>\n",
       "\t<li>179</li>\n",
       "\t<li>180</li>\n",
       "\t<li>181</li>\n",
       "\t<li>182</li>\n",
       "\t<li>183</li>\n",
       "\t<li>184</li>\n",
       "\t<li>185</li>\n",
       "\t<li>186</li>\n",
       "\t<li>187</li>\n",
       "\t<li>188</li>\n",
       "\t<li>189</li>\n",
       "\t<li>190</li>\n",
       "\t<li>191</li>\n",
       "\t<li>192</li>\n",
       "\t<li>193</li>\n",
       "\t<li>194</li>\n",
       "\t<li>195</li>\n",
       "\t<li>196</li>\n",
       "\t<li>197</li>\n",
       "\t<li>198</li>\n",
       "\t<li>199</li>\n",
       "\t<li>200</li>\n",
       "\t<li>201</li>\n",
       "\t<li>202</li>\n",
       "\t<li>203</li>\n",
       "\t<li>204</li>\n",
       "\t<li>205</li>\n",
       "\t<li>206</li>\n",
       "\t<li>207</li>\n",
       "\t<li>208</li>\n",
       "\t<li>209</li>\n",
       "\t<li>210</li>\n",
       "\t<li>211</li>\n",
       "\t<li>212</li>\n",
       "\t<li>213</li>\n",
       "\t<li>214</li>\n",
       "\t<li>215</li>\n",
       "\t<li>216</li>\n",
       "\t<li>217</li>\n",
       "\t<li>218</li>\n",
       "\t<li>219</li>\n",
       "\t<li>220</li>\n",
       "\t<li>221</li>\n",
       "\t<li>222</li>\n",
       "\t<li>223</li>\n",
       "\t<li>224</li>\n",
       "\t<li>225</li>\n",
       "\t<li>226</li>\n",
       "\t<li>227</li>\n",
       "\t<li>228</li>\n",
       "\t<li>229</li>\n",
       "\t<li>230</li>\n",
       "\t<li>231</li>\n",
       "\t<li>232</li>\n",
       "\t<li>233</li>\n",
       "\t<li>234</li>\n",
       "\t<li>235</li>\n",
       "\t<li>236</li>\n",
       "\t<li>237</li>\n",
       "\t<li>238</li>\n",
       "\t<li>239</li>\n",
       "\t<li>240</li>\n",
       "\t<li>241</li>\n",
       "\t<li>242</li>\n",
       "\t<li>243</li>\n",
       "\t<li>244</li>\n",
       "\t<li>245</li>\n",
       "\t<li>246</li>\n",
       "\t<li>247</li>\n",
       "\t<li>248</li>\n",
       "\t<li>249</li>\n",
       "\t<li>250</li>\n",
       "</ol>\n",
       "</dd>\n",
       "\t<dt>$itr</dt>\n",
       "\t\t<dd>NULL</dd>\n",
       "\t<dt>$val</dt>\n",
       "\t\t<dd>NULL</dd>\n",
       "\t<dt>$ts</dt>\n",
       "\t\t<dd><ol class=list-inline>\n",
       "\t<li>251</li>\n",
       "\t<li>252</li>\n",
       "\t<li>253</li>\n",
       "\t<li>254</li>\n",
       "\t<li>255</li>\n",
       "\t<li>256</li>\n",
       "\t<li>257</li>\n",
       "</ol>\n",
       "</dd>\n",
       "</dl>\n"
      ],
      "text/latex": [
       "\\begin{description}\n",
       "\\item[\\$tr] \\begin{enumerate*}\n",
       "\\item 1\n",
       "\\item 2\n",
       "\\item 3\n",
       "\\item 4\n",
       "\\item 5\n",
       "\\item 6\n",
       "\\item 7\n",
       "\\item 8\n",
       "\\item 9\n",
       "\\item 10\n",
       "\\item 11\n",
       "\\item 12\n",
       "\\item 13\n",
       "\\item 14\n",
       "\\item 15\n",
       "\\item 16\n",
       "\\item 17\n",
       "\\item 18\n",
       "\\item 19\n",
       "\\item 20\n",
       "\\item 21\n",
       "\\item 22\n",
       "\\item 23\n",
       "\\item 24\n",
       "\\item 25\n",
       "\\item 26\n",
       "\\item 27\n",
       "\\item 28\n",
       "\\item 29\n",
       "\\item 30\n",
       "\\item 31\n",
       "\\item 32\n",
       "\\item 33\n",
       "\\item 34\n",
       "\\item 35\n",
       "\\item 36\n",
       "\\item 37\n",
       "\\item 38\n",
       "\\item 39\n",
       "\\item 40\n",
       "\\item 41\n",
       "\\item 42\n",
       "\\item 43\n",
       "\\item 44\n",
       "\\item 45\n",
       "\\item 46\n",
       "\\item 47\n",
       "\\item 48\n",
       "\\item 49\n",
       "\\item 50\n",
       "\\item 51\n",
       "\\item 52\n",
       "\\item 53\n",
       "\\item 54\n",
       "\\item 55\n",
       "\\item 56\n",
       "\\item 57\n",
       "\\item 58\n",
       "\\item 59\n",
       "\\item 60\n",
       "\\item 61\n",
       "\\item 62\n",
       "\\item 63\n",
       "\\item 64\n",
       "\\item 65\n",
       "\\item 66\n",
       "\\item 67\n",
       "\\item 68\n",
       "\\item 69\n",
       "\\item 70\n",
       "\\item 71\n",
       "\\item 72\n",
       "\\item 73\n",
       "\\item 74\n",
       "\\item 75\n",
       "\\item 76\n",
       "\\item 77\n",
       "\\item 78\n",
       "\\item 79\n",
       "\\item 80\n",
       "\\item 81\n",
       "\\item 82\n",
       "\\item 83\n",
       "\\item 84\n",
       "\\item 85\n",
       "\\item 86\n",
       "\\item 87\n",
       "\\item 88\n",
       "\\item 89\n",
       "\\item 90\n",
       "\\item 91\n",
       "\\item 92\n",
       "\\item 93\n",
       "\\item 94\n",
       "\\item 95\n",
       "\\item 96\n",
       "\\item 97\n",
       "\\item 98\n",
       "\\item 99\n",
       "\\item 100\n",
       "\\item 101\n",
       "\\item 102\n",
       "\\item 103\n",
       "\\item 104\n",
       "\\item 105\n",
       "\\item 106\n",
       "\\item 107\n",
       "\\item 108\n",
       "\\item 109\n",
       "\\item 110\n",
       "\\item 111\n",
       "\\item 112\n",
       "\\item 113\n",
       "\\item 114\n",
       "\\item 115\n",
       "\\item 116\n",
       "\\item 117\n",
       "\\item 118\n",
       "\\item 119\n",
       "\\item 120\n",
       "\\item 121\n",
       "\\item 122\n",
       "\\item 123\n",
       "\\item 124\n",
       "\\item 125\n",
       "\\item 126\n",
       "\\item 127\n",
       "\\item 128\n",
       "\\item 129\n",
       "\\item 130\n",
       "\\item 131\n",
       "\\item 132\n",
       "\\item 133\n",
       "\\item 134\n",
       "\\item 135\n",
       "\\item 136\n",
       "\\item 137\n",
       "\\item 138\n",
       "\\item 139\n",
       "\\item 140\n",
       "\\item 141\n",
       "\\item 142\n",
       "\\item 143\n",
       "\\item 144\n",
       "\\item 145\n",
       "\\item 146\n",
       "\\item 147\n",
       "\\item 148\n",
       "\\item 149\n",
       "\\item 150\n",
       "\\item 151\n",
       "\\item 152\n",
       "\\item 153\n",
       "\\item 154\n",
       "\\item 155\n",
       "\\item 156\n",
       "\\item 157\n",
       "\\item 158\n",
       "\\item 159\n",
       "\\item 160\n",
       "\\item 161\n",
       "\\item 162\n",
       "\\item 163\n",
       "\\item 164\n",
       "\\item 165\n",
       "\\item 166\n",
       "\\item 167\n",
       "\\item 168\n",
       "\\item 169\n",
       "\\item 170\n",
       "\\item 171\n",
       "\\item 172\n",
       "\\item 173\n",
       "\\item 174\n",
       "\\item 175\n",
       "\\item 176\n",
       "\\item 177\n",
       "\\item 178\n",
       "\\item 179\n",
       "\\item 180\n",
       "\\item 181\n",
       "\\item 182\n",
       "\\item 183\n",
       "\\item 184\n",
       "\\item 185\n",
       "\\item 186\n",
       "\\item 187\n",
       "\\item 188\n",
       "\\item 189\n",
       "\\item 190\n",
       "\\item 191\n",
       "\\item 192\n",
       "\\item 193\n",
       "\\item 194\n",
       "\\item 195\n",
       "\\item 196\n",
       "\\item 197\n",
       "\\item 198\n",
       "\\item 199\n",
       "\\item 200\n",
       "\\item 201\n",
       "\\item 202\n",
       "\\item 203\n",
       "\\item 204\n",
       "\\item 205\n",
       "\\item 206\n",
       "\\item 207\n",
       "\\item 208\n",
       "\\item 209\n",
       "\\item 210\n",
       "\\item 211\n",
       "\\item 212\n",
       "\\item 213\n",
       "\\item 214\n",
       "\\item 215\n",
       "\\item 216\n",
       "\\item 217\n",
       "\\item 218\n",
       "\\item 219\n",
       "\\item 220\n",
       "\\item 221\n",
       "\\item 222\n",
       "\\item 223\n",
       "\\item 224\n",
       "\\item 225\n",
       "\\item 226\n",
       "\\item 227\n",
       "\\item 228\n",
       "\\item 229\n",
       "\\item 230\n",
       "\\item 231\n",
       "\\item 232\n",
       "\\item 233\n",
       "\\item 234\n",
       "\\item 235\n",
       "\\item 236\n",
       "\\item 237\n",
       "\\item 238\n",
       "\\item 239\n",
       "\\item 240\n",
       "\\item 241\n",
       "\\item 242\n",
       "\\item 243\n",
       "\\item 244\n",
       "\\item 245\n",
       "\\item 246\n",
       "\\item 247\n",
       "\\item 248\n",
       "\\item 249\n",
       "\\item 250\n",
       "\\end{enumerate*}\n",
       "\n",
       "\\item[\\$itr] NULL\n",
       "\\item[\\$val] NULL\n",
       "\\item[\\$ts] \\begin{enumerate*}\n",
       "\\item 251\n",
       "\\item 252\n",
       "\\item 253\n",
       "\\item 254\n",
       "\\item 255\n",
       "\\item 256\n",
       "\\item 257\n",
       "\\end{enumerate*}\n",
       "\n",
       "\\end{description}\n"
      ],
      "text/markdown": [
       "$tr\n",
       ":   1. 1\n",
       "2. 2\n",
       "3. 3\n",
       "4. 4\n",
       "5. 5\n",
       "6. 6\n",
       "7. 7\n",
       "8. 8\n",
       "9. 9\n",
       "10. 10\n",
       "11. 11\n",
       "12. 12\n",
       "13. 13\n",
       "14. 14\n",
       "15. 15\n",
       "16. 16\n",
       "17. 17\n",
       "18. 18\n",
       "19. 19\n",
       "20. 20\n",
       "21. 21\n",
       "22. 22\n",
       "23. 23\n",
       "24. 24\n",
       "25. 25\n",
       "26. 26\n",
       "27. 27\n",
       "28. 28\n",
       "29. 29\n",
       "30. 30\n",
       "31. 31\n",
       "32. 32\n",
       "33. 33\n",
       "34. 34\n",
       "35. 35\n",
       "36. 36\n",
       "37. 37\n",
       "38. 38\n",
       "39. 39\n",
       "40. 40\n",
       "41. 41\n",
       "42. 42\n",
       "43. 43\n",
       "44. 44\n",
       "45. 45\n",
       "46. 46\n",
       "47. 47\n",
       "48. 48\n",
       "49. 49\n",
       "50. 50\n",
       "51. 51\n",
       "52. 52\n",
       "53. 53\n",
       "54. 54\n",
       "55. 55\n",
       "56. 56\n",
       "57. 57\n",
       "58. 58\n",
       "59. 59\n",
       "60. 60\n",
       "61. 61\n",
       "62. 62\n",
       "63. 63\n",
       "64. 64\n",
       "65. 65\n",
       "66. 66\n",
       "67. 67\n",
       "68. 68\n",
       "69. 69\n",
       "70. 70\n",
       "71. 71\n",
       "72. 72\n",
       "73. 73\n",
       "74. 74\n",
       "75. 75\n",
       "76. 76\n",
       "77. 77\n",
       "78. 78\n",
       "79. 79\n",
       "80. 80\n",
       "81. 81\n",
       "82. 82\n",
       "83. 83\n",
       "84. 84\n",
       "85. 85\n",
       "86. 86\n",
       "87. 87\n",
       "88. 88\n",
       "89. 89\n",
       "90. 90\n",
       "91. 91\n",
       "92. 92\n",
       "93. 93\n",
       "94. 94\n",
       "95. 95\n",
       "96. 96\n",
       "97. 97\n",
       "98. 98\n",
       "99. 99\n",
       "100. 100\n",
       "101. 101\n",
       "102. 102\n",
       "103. 103\n",
       "104. 104\n",
       "105. 105\n",
       "106. 106\n",
       "107. 107\n",
       "108. 108\n",
       "109. 109\n",
       "110. 110\n",
       "111. 111\n",
       "112. 112\n",
       "113. 113\n",
       "114. 114\n",
       "115. 115\n",
       "116. 116\n",
       "117. 117\n",
       "118. 118\n",
       "119. 119\n",
       "120. 120\n",
       "121. 121\n",
       "122. 122\n",
       "123. 123\n",
       "124. 124\n",
       "125. 125\n",
       "126. 126\n",
       "127. 127\n",
       "128. 128\n",
       "129. 129\n",
       "130. 130\n",
       "131. 131\n",
       "132. 132\n",
       "133. 133\n",
       "134. 134\n",
       "135. 135\n",
       "136. 136\n",
       "137. 137\n",
       "138. 138\n",
       "139. 139\n",
       "140. 140\n",
       "141. 141\n",
       "142. 142\n",
       "143. 143\n",
       "144. 144\n",
       "145. 145\n",
       "146. 146\n",
       "147. 147\n",
       "148. 148\n",
       "149. 149\n",
       "150. 150\n",
       "151. 151\n",
       "152. 152\n",
       "153. 153\n",
       "154. 154\n",
       "155. 155\n",
       "156. 156\n",
       "157. 157\n",
       "158. 158\n",
       "159. 159\n",
       "160. 160\n",
       "161. 161\n",
       "162. 162\n",
       "163. 163\n",
       "164. 164\n",
       "165. 165\n",
       "166. 166\n",
       "167. 167\n",
       "168. 168\n",
       "169. 169\n",
       "170. 170\n",
       "171. 171\n",
       "172. 172\n",
       "173. 173\n",
       "174. 174\n",
       "175. 175\n",
       "176. 176\n",
       "177. 177\n",
       "178. 178\n",
       "179. 179\n",
       "180. 180\n",
       "181. 181\n",
       "182. 182\n",
       "183. 183\n",
       "184. 184\n",
       "185. 185\n",
       "186. 186\n",
       "187. 187\n",
       "188. 188\n",
       "189. 189\n",
       "190. 190\n",
       "191. 191\n",
       "192. 192\n",
       "193. 193\n",
       "194. 194\n",
       "195. 195\n",
       "196. 196\n",
       "197. 197\n",
       "198. 198\n",
       "199. 199\n",
       "200. 200\n",
       "201. 201\n",
       "202. 202\n",
       "203. 203\n",
       "204. 204\n",
       "205. 205\n",
       "206. 206\n",
       "207. 207\n",
       "208. 208\n",
       "209. 209\n",
       "210. 210\n",
       "211. 211\n",
       "212. 212\n",
       "213. 213\n",
       "214. 214\n",
       "215. 215\n",
       "216. 216\n",
       "217. 217\n",
       "218. 218\n",
       "219. 219\n",
       "220. 220\n",
       "221. 221\n",
       "222. 222\n",
       "223. 223\n",
       "224. 224\n",
       "225. 225\n",
       "226. 226\n",
       "227. 227\n",
       "228. 228\n",
       "229. 229\n",
       "230. 230\n",
       "231. 231\n",
       "232. 232\n",
       "233. 233\n",
       "234. 234\n",
       "235. 235\n",
       "236. 236\n",
       "237. 237\n",
       "238. 238\n",
       "239. 239\n",
       "240. 240\n",
       "241. 241\n",
       "242. 242\n",
       "243. 243\n",
       "244. 244\n",
       "245. 245\n",
       "246. 246\n",
       "247. 247\n",
       "248. 248\n",
       "249. 249\n",
       "250. 250\n",
       "\n",
       "\n",
       "\n",
       "$itr\n",
       ":   NULL\n",
       "$val\n",
       ":   NULL\n",
       "$ts\n",
       ":   1. 251\n",
       "2. 252\n",
       "3. 253\n",
       "4. 254\n",
       "5. 255\n",
       "6. 256\n",
       "7. 257\n",
       "\n",
       "\n",
       "\n",
       "\n",
       "\n"
      ],
      "text/plain": [
       "$tr\n",
       "  [1]   1   2   3   4   5   6   7   8   9  10  11  12  13  14  15  16  17  18\n",
       " [19]  19  20  21  22  23  24  25  26  27  28  29  30  31  32  33  34  35  36\n",
       " [37]  37  38  39  40  41  42  43  44  45  46  47  48  49  50  51  52  53  54\n",
       " [55]  55  56  57  58  59  60  61  62  63  64  65  66  67  68  69  70  71  72\n",
       " [73]  73  74  75  76  77  78  79  80  81  82  83  84  85  86  87  88  89  90\n",
       " [91]  91  92  93  94  95  96  97  98  99 100 101 102 103 104 105 106 107 108\n",
       "[109] 109 110 111 112 113 114 115 116 117 118 119 120 121 122 123 124 125 126\n",
       "[127] 127 128 129 130 131 132 133 134 135 136 137 138 139 140 141 142 143 144\n",
       "[145] 145 146 147 148 149 150 151 152 153 154 155 156 157 158 159 160 161 162\n",
       "[163] 163 164 165 166 167 168 169 170 171 172 173 174 175 176 177 178 179 180\n",
       "[181] 181 182 183 184 185 186 187 188 189 190 191 192 193 194 195 196 197 198\n",
       "[199] 199 200 201 202 203 204 205 206 207 208 209 210 211 212 213 214 215 216\n",
       "[217] 217 218 219 220 221 222 223 224 225 226 227 228 229 230 231 232 233 234\n",
       "[235] 235 236 237 238 239 240 241 242 243 244 245 246 247 248 249 250\n",
       "\n",
       "$itr\n",
       "NULL\n",
       "\n",
       "$val\n",
       "NULL\n",
       "\n",
       "$ts\n",
       "[1] 251 252 253 254 255 256 257\n"
      ]
     },
     "metadata": {},
     "output_type": "display_data"
    },
    {
     "name": "stdout",
     "output_type": "stream",
     "text": [
      "Dados de treino:\n",
      "Head:  2332 2801 2375 3447 4823 4978 \n",
      "Length:  250 \n",
      "\n",
      "Dados de teste:\n",
      "Head:  4974 3228 3191 4153 4307 4660 \n",
      "Length:  7"
     ]
    }
   ],
   "source": [
    "# Separação dos índices do dataframe ordenada cronologicamente (porque os dados já estão em ordem cronológica), usando 250\n",
    "# observações para treino e 7 para teste\n",
    "H=holdout(data$all,ratio=7,mode=\"order\")\n",
    "H\n",
    "\n",
    "# Seleção dos dados de Treino\n",
    "train = data[H$tr,]\n",
    "cat(\"Dados de treino:\\n\")\n",
    "cat(\"Head: \", head(train$all),\"\\n\")\n",
    "cat(\"Length: \", length(train$all),\"\\n\\n\")\n",
    "\n",
    "# Seleção dos dados de Teste\n",
    "test = data[H$ts,]\n",
    "cat(\"Dados de teste:\\n\")\n",
    "cat(\"Head: \", head(test$all),\"\\n\")\n",
    "cat(\"Length: \", length(test$all))"
   ]
  },
  {
   "cell_type": "markdown",
   "id": "938330f0",
   "metadata": {},
   "source": [
    "### Modelos de Regressão Multivariados"
   ]
  },
  {
   "cell_type": "markdown",
   "id": "76f34834",
   "metadata": {},
   "source": [
    "#### Random Forest"
   ]
  },
  {
   "cell_type": "code",
   "execution_count": 470,
   "id": "290f915c",
   "metadata": {},
   "outputs": [
    {
     "name": "stdout",
     "output_type": "stream",
     "text": [
      "Target Values: 4974 3228 3191 4153 4307 4660 6193 \n",
      "Predictions: 3540.415 3648.845 3199.445 3385.785 2580.698 3974.23 3661.751 \n",
      "MAE: 1081.92 \n",
      "NMAE: 36.04 \n"
     ]
    },
    {
     "data": {
      "text/html": [
       "<table>\n",
       "<thead><tr><th scope=col>METRICA_MODELO</th><th scope=col>randomForest_simples</th></tr></thead>\n",
       "<tbody>\n",
       "\t<tr><td>MAE    </td><td>1081.92</td></tr>\n",
       "\t<tr><td>NMAE   </td><td>  36.04</td></tr>\n",
       "</tbody>\n",
       "</table>\n"
      ],
      "text/latex": [
       "\\begin{tabular}{r|ll}\n",
       " METRICA\\_MODELO & randomForest\\_simples\\\\\n",
       "\\hline\n",
       "\t MAE     & 1081.92\\\\\n",
       "\t NMAE    &   36.04\\\\\n",
       "\\end{tabular}\n"
      ],
      "text/markdown": [
       "\n",
       "| METRICA_MODELO | randomForest_simples |\n",
       "|---|---|\n",
       "| MAE     | 1081.92 |\n",
       "| NMAE    |   36.04 |\n",
       "\n"
      ],
      "text/plain": [
       "  METRICA_MODELO randomForest_simples\n",
       "1 MAE            1081.92             \n",
       "2 NMAE             36.04             "
      ]
     },
     "metadata": {},
     "output_type": "display_data"
    },
    {
     "data": {
      "image/png": "[encoded data removed]",
      "text/plain": [
       "Plot with title \"Random Forest\""
      ]
     },
     "metadata": {},
     "output_type": "display_data"
    }
   ],
   "source": [
    "RF=fit(all~.,train,model=\"randomForest\")\n",
    "Target = test$all\n",
    "cat(\"Target Values:\",Target,\"\\n\")\n",
    "\n",
    "Pred = predict(RF,test)\n",
    "cat(\"Predictions:\",Pred,\"\\n\")\n",
    "\n",
    "mgraph(Target,Pred,graph=\"REG\",Grid=10,col=c(\"black\",\"blue\"),\n",
    "leg=list(pos=\"topleft\",leg=c(\"target\",\"predictions\")),main=\"Random Forest\")\n",
    "mae=round(mmetric(Target,Pred,metric=\"MAE\"),2)\n",
    "nmae=round(mmetric(Target,Pred,metric=\"NMAE\"),2)\n",
    "cat(\"MAE:\",mae,\"\\n\")\n",
    "cat(\"NMAE:\",nmae,\"\\n\")\n",
    "\n",
    "nomeModelo = \"randomForest_simples\"\n",
    "resdf[nomeModelo] = c(mae,nmae)\n",
    "resdf"
   ]
  },
  {
   "cell_type": "markdown",
   "id": "ad76e730",
   "metadata": {},
   "source": [
    "#### Multiple Linear Regression"
   ]
  },
  {
   "cell_type": "code",
   "execution_count": 343,
   "id": "3c0d7fb5",
   "metadata": {},
   "outputs": [
    {
     "name": "stdout",
     "output_type": "stream",
     "text": [
      "Target Values: 4974 3228 3191 4153 4307 4660 6193 \n",
      "Predictions: 3187.233 3168.647 2932.272 3042.532 2638.799 3109.731 3099.146 \n",
      "MAE: 1361.09 \n",
      "NMAE: 45.34 \n"
     ]
    },
    {
     "data": {
      "text/html": [
       "<table>\n",
       "<thead><tr><th scope=col>METRICA_MODELO</th><th scope=col>randomForest_simples</th><th scope=col>MR_Simples</th></tr></thead>\n",
       "<tbody>\n",
       "\t<tr><td>MAE    </td><td>1014.52</td><td>1361.09</td></tr>\n",
       "\t<tr><td>NMAE   </td><td>  33.79</td><td>  45.34</td></tr>\n",
       "</tbody>\n",
       "</table>\n"
      ],
      "text/latex": [
       "\\begin{tabular}{r|lll}\n",
       " METRICA\\_MODELO & randomForest\\_simples & MR\\_Simples\\\\\n",
       "\\hline\n",
       "\t MAE     & 1014.52 & 1361.09\\\\\n",
       "\t NMAE    &   33.79 &   45.34\\\\\n",
       "\\end{tabular}\n"
      ],
      "text/markdown": [
       "\n",
       "| METRICA_MODELO | randomForest_simples | MR_Simples |\n",
       "|---|---|---|\n",
       "| MAE     | 1014.52 | 1361.09 |\n",
       "| NMAE    |   33.79 |   45.34 |\n",
       "\n"
      ],
      "text/plain": [
       "  METRICA_MODELO randomForest_simples MR_Simples\n",
       "1 MAE            1014.52              1361.09   \n",
       "2 NMAE             33.79                45.34   "
      ]
     },
     "metadata": {},
     "output_type": "display_data"
    },
    {
     "data": {
      "image/png": "[encoded data removed]",
      "text/plain": [
       "Plot with title \"Multiple Linear Regression\""
      ]
     },
     "metadata": {},
     "output_type": "display_data"
    }
   ],
   "source": [
    "MR=fit(all~.,train,model=\"mr\")\n",
    "cat(\"Target Values:\",Target,\"\\n\")\n",
    "\n",
    "Pred = predict(MR,test)\n",
    "cat(\"Predictions:\",Pred,\"\\n\")\n",
    "\n",
    "mgraph(Target,Pred,graph=\"REG\",Grid=10,col=c(\"black\",\"blue\"),\n",
    "leg=list(pos=\"topleft\",leg=c(\"target\",\"predictions\")),main=\"Multiple Linear Regression\")\n",
    "\n",
    "# Metricas\n",
    "mae=round(mmetric(Target,Pred,metric=\"MAE\"),2)\n",
    "nmae=round(mmetric(Target,Pred,metric=\"NMAE\"),2)\n",
    "cat(\"MAE:\",round(mmetric(Target,Pred,metric=\"MAE\"),2),\"\\n\")\n",
    "cat(\"NMAE:\",round(mmetric(Target,Pred,metric=\"NMAE\"),2),\"\\n\")\n",
    "\n",
    "# Guardar os Resultados\n",
    "nomeModelo = \"MR_Simples\"\n",
    "resdf[nomeModelo] = c(mae,nmae)\n",
    "resdf"
   ]
  },
  {
   "cell_type": "markdown",
   "id": "9a04697d",
   "metadata": {},
   "source": [
    "#### KSVM"
   ]
  },
  {
   "cell_type": "code",
   "execution_count": 471,
   "id": "c134b8d9",
   "metadata": {},
   "outputs": [
    {
     "name": "stdout",
     "output_type": "stream",
     "text": [
      "Target Values: 4974 3228 3191 4153 4307 4660 6193 \n",
      "Predictions: 3444.178 3834.012 3098.843 3290.368 2595.932 3646.627 3604.609 \n",
      "MAE: 1200.49 \n",
      "NMAE: 39.99 \n"
     ]
    },
    {
     "data": {
      "text/html": [
       "<table>\n",
       "<thead><tr><th scope=col>METRICA_MODELO</th><th scope=col>randomForest_simples</th><th scope=col>KSVM_simples</th></tr></thead>\n",
       "<tbody>\n",
       "\t<tr><td>MAE    </td><td>1081.92</td><td>1200.49</td></tr>\n",
       "\t<tr><td>NMAE   </td><td>  36.04</td><td>  39.99</td></tr>\n",
       "</tbody>\n",
       "</table>\n"
      ],
      "text/latex": [
       "\\begin{tabular}{r|lll}\n",
       " METRICA\\_MODELO & randomForest\\_simples & KSVM\\_simples\\\\\n",
       "\\hline\n",
       "\t MAE     & 1081.92 & 1200.49\\\\\n",
       "\t NMAE    &   36.04 &   39.99\\\\\n",
       "\\end{tabular}\n"
      ],
      "text/markdown": [
       "\n",
       "| METRICA_MODELO | randomForest_simples | KSVM_simples |\n",
       "|---|---|---|\n",
       "| MAE     | 1081.92 | 1200.49 |\n",
       "| NMAE    |   36.04 |   39.99 |\n",
       "\n"
      ],
      "text/plain": [
       "  METRICA_MODELO randomForest_simples KSVM_simples\n",
       "1 MAE            1081.92              1200.49     \n",
       "2 NMAE             36.04                39.99     "
      ]
     },
     "metadata": {},
     "output_type": "display_data"
    },
    {
     "data": {
      "image/png": "[encoded data removed]",
      "text/plain": [
       "Plot with title \"KSVM\""
      ]
     },
     "metadata": {},
     "output_type": "display_data"
    }
   ],
   "source": [
    "MR=fit(all~.,train,model=\"ksvm\")\n",
    "cat(\"Target Values:\",Target,\"\\n\")\n",
    "\n",
    "Pred = predict(MR,test)\n",
    "cat(\"Predictions:\",Pred,\"\\n\")\n",
    "\n",
    "mgraph(Target,Pred,graph=\"REG\",Grid=10,col=c(\"black\",\"blue\"),\n",
    "leg=list(pos=\"topleft\",leg=c(\"target\",\"predictions\")),main=\"KSVM\")\n",
    "\n",
    "# Metricas\n",
    "mae=round(mmetric(Target,Pred,metric=\"MAE\"),2)\n",
    "nmae=round(mmetric(Target,Pred,metric=\"NMAE\"),2)\n",
    "cat(\"MAE:\",round(mmetric(Target,Pred,metric=\"MAE\"),2),\"\\n\")\n",
    "cat(\"NMAE:\",round(mmetric(Target,Pred,metric=\"NMAE\"),2),\"\\n\")\n",
    "\n",
    "# Guardar os Resultados\n",
    "nomeModelo = \"KSVM_simples\"\n",
    "resdf[nomeModelo] = c(mae,nmae)\n",
    "resdf"
   ]
  },
  {
   "cell_type": "markdown",
   "id": "2d3ed20e",
   "metadata": {},
   "source": [
    "#### MLPE"
   ]
  },
  {
   "cell_type": "code",
   "execution_count": 472,
   "id": "63fa4736",
   "metadata": {},
   "outputs": [
    {
     "name": "stdout",
     "output_type": "stream",
     "text": [
      "Target Values: 4974 3228 3191 4153 4307 4660 6193 \n",
      "Predictions: 3910.515 4023.863 3243.105 4049.789 2445.848 3947.447 3932.46 \n",
      "MAE: 978.42 \n",
      "NMAE: 32.59 \n"
     ]
    },
    {
     "data": {
      "text/html": [
       "<table>\n",
       "<thead><tr><th scope=col>METRICA_MODELO</th><th scope=col>randomForest_simples</th><th scope=col>KSVM_simples</th><th scope=col>MLPE_simples</th></tr></thead>\n",
       "<tbody>\n",
       "\t<tr><td>MAE    </td><td>1081.92</td><td>1200.49</td><td>978.42 </td></tr>\n",
       "\t<tr><td>NMAE   </td><td>  36.04</td><td>  39.99</td><td> 32.59 </td></tr>\n",
       "</tbody>\n",
       "</table>\n"
      ],
      "text/latex": [
       "\\begin{tabular}{r|llll}\n",
       " METRICA\\_MODELO & randomForest\\_simples & KSVM\\_simples & MLPE\\_simples\\\\\n",
       "\\hline\n",
       "\t MAE     & 1081.92 & 1200.49 & 978.42 \\\\\n",
       "\t NMAE    &   36.04 &   39.99 &  32.59 \\\\\n",
       "\\end{tabular}\n"
      ],
      "text/markdown": [
       "\n",
       "| METRICA_MODELO | randomForest_simples | KSVM_simples | MLPE_simples |\n",
       "|---|---|---|---|\n",
       "| MAE     | 1081.92 | 1200.49 | 978.42  |\n",
       "| NMAE    |   36.04 |   39.99 |  32.59  |\n",
       "\n"
      ],
      "text/plain": [
       "  METRICA_MODELO randomForest_simples KSVM_simples MLPE_simples\n",
       "1 MAE            1081.92              1200.49      978.42      \n",
       "2 NMAE             36.04                39.99       32.59      "
      ]
     },
     "metadata": {},
     "output_type": "display_data"
    },
    {
     "data": {
      "image/png": "[encoded data removed]",
      "text/plain": [
       "Plot with title \"MLPE\""
      ]
     },
     "metadata": {},
     "output_type": "display_data"
    }
   ],
   "source": [
    "MR=fit(all~.,train,model=\"mlpe\")\n",
    "cat(\"Target Values:\",Target,\"\\n\")\n",
    "\n",
    "Pred = predict(MR,test)\n",
    "cat(\"Predictions:\",Pred,\"\\n\")\n",
    "\n",
    "mgraph(Target,Pred,graph=\"REG\",Grid=10,col=c(\"black\",\"blue\"),\n",
    "leg=list(pos=\"topleft\",leg=c(\"target\",\"predictions\")),main=\"MLPE\")\n",
    "\n",
    "# Metricas\n",
    "mae=round(mmetric(Target,Pred,metric=\"MAE\"),2)\n",
    "nmae=round(mmetric(Target,Pred,metric=\"NMAE\"),2)\n",
    "cat(\"MAE:\",mae,\"\\n\")\n",
    "cat(\"NMAE:\",nmae,\"\\n\")\n",
    "\n",
    "# Guardar os Resultados\n",
    "nomeModelo = \"MLPE_simples\"\n",
    "resdf[nomeModelo] = c(mae,nmae)\n",
    "resdf"
   ]
  },
  {
   "cell_type": "markdown",
   "id": "c2cf2cae",
   "metadata": {},
   "source": [
    "### CasesSeries (Testes)"
   ]
  },
  {
   "cell_type": "code",
   "execution_count": 473,
   "id": "261bac93",
   "metadata": {},
   "outputs": [],
   "source": [
    "cs = CasesSeries(data$all,c(1:7))"
   ]
  },
  {
   "cell_type": "code",
   "execution_count": 474,
   "id": "9e959963",
   "metadata": {},
   "outputs": [
    {
     "data": {
      "text/html": [
       "<ol class=list-inline>\n",
       "\t<li>3718.91802740728</li>\n",
       "\t<li>3729.52493189608</li>\n",
       "\t<li>3227.14671013395</li>\n",
       "\t<li>3146.93039980796</li>\n",
       "\t<li>4469.87287550359</li>\n",
       "\t<li>3831.37253196925</li>\n",
       "\t<li>4287.12636362091</li>\n",
       "</ol>\n"
      ],
      "text/latex": [
       "\\begin{enumerate*}\n",
       "\\item 3718.91802740728\n",
       "\\item 3729.52493189608\n",
       "\\item 3227.14671013395\n",
       "\\item 3146.93039980796\n",
       "\\item 4469.87287550359\n",
       "\\item 3831.37253196925\n",
       "\\item 4287.12636362091\n",
       "\\end{enumerate*}\n"
      ],
      "text/markdown": [
       "1. 3718.91802740728\n",
       "2. 3729.52493189608\n",
       "3. 3227.14671013395\n",
       "4. 3146.93039980796\n",
       "5. 4469.87287550359\n",
       "6. 3831.37253196925\n",
       "7. 4287.12636362091\n",
       "\n",
       "\n"
      ],
      "text/plain": [
       "[1] 3718.918 3729.525 3227.147 3146.930 4469.873 3831.373 4287.126"
      ]
     },
     "metadata": {},
     "output_type": "display_data"
    },
    {
     "name": "stdout",
     "output_type": "stream",
     "text": [
      "MAE: 813.7425 \n",
      "NMAE: 27.10668 \n"
     ]
    },
    {
     "data": {
      "text/html": [
       "<table>\n",
       "<thead><tr><th scope=col>METRICA_MODELO</th><th scope=col>randomForest_simples</th><th scope=col>KSVM_simples</th><th scope=col>MLPE_simples</th><th scope=col>MLPE_CasesSeries</th></tr></thead>\n",
       "<tbody>\n",
       "\t<tr><td>MAE      </td><td>1081.92  </td><td>1200.49  </td><td>978.42   </td><td>813.74246</td></tr>\n",
       "\t<tr><td>NMAE     </td><td>  36.04  </td><td>  39.99  </td><td> 32.59   </td><td> 27.10668</td></tr>\n",
       "</tbody>\n",
       "</table>\n"
      ],
      "text/latex": [
       "\\begin{tabular}{r|lllll}\n",
       " METRICA\\_MODELO & randomForest\\_simples & KSVM\\_simples & MLPE\\_simples & MLPE\\_CasesSeries\\\\\n",
       "\\hline\n",
       "\t MAE       & 1081.92   & 1200.49   & 978.42    & 813.74246\\\\\n",
       "\t NMAE      &   36.04   &   39.99   &  32.59    &  27.10668\\\\\n",
       "\\end{tabular}\n"
      ],
      "text/markdown": [
       "\n",
       "| METRICA_MODELO | randomForest_simples | KSVM_simples | MLPE_simples | MLPE_CasesSeries |\n",
       "|---|---|---|---|---|\n",
       "| MAE       | 1081.92   | 1200.49   | 978.42    | 813.74246 |\n",
       "| NMAE      |   36.04   |   39.99   |  32.59    |  27.10668 |\n",
       "\n"
      ],
      "text/plain": [
       "  METRICA_MODELO randomForest_simples KSVM_simples MLPE_simples\n",
       "1 MAE            1081.92              1200.49      978.42      \n",
       "2 NMAE             36.04                39.99       32.59      \n",
       "  MLPE_CasesSeries\n",
       "1 813.74246       \n",
       "2  27.10668       "
      ]
     },
     "metadata": {},
     "output_type": "display_data"
    }
   ],
   "source": [
    "NN=rminer::fit(y~.,cs[1:243,],model=\"mlpe\",search=\"heuristic\")\n",
    "PNN=predict(NN,cs[244:250,])\n",
    "PNN\n",
    "\n",
    "\n",
    "mae = mmetric(cs[244:250,]$y,PNN,metric=\"MAE\")\n",
    "nmae = mmetric(cs[244:250,]$y,PNN,metric=\"NMAE\")\n",
    "\n",
    "# Metricas\n",
    "cat(\"MAE:\",mae,\"\\n\")\n",
    "cat(\"NMAE:\",nmae,\"\\n\")\n",
    "\n",
    "# Guardar os Resultados\n",
    "nomeModelo = \"MLPE_CasesSeries\"\n",
    "resdf[nomeModelo] = c(mae,nmae)\n",
    "resdf"
   ]
  },
  {
   "cell_type": "code",
   "execution_count": 475,
   "id": "9b8d5531",
   "metadata": {},
   "outputs": [
    {
     "data": {
      "text/html": [
       "<ol class=list-inline>\n",
       "\t<li>4974</li>\n",
       "\t<li>3228</li>\n",
       "\t<li>3191</li>\n",
       "\t<li>4153</li>\n",
       "\t<li>4307</li>\n",
       "\t<li>4660</li>\n",
       "\t<li>6193</li>\n",
       "</ol>\n"
      ],
      "text/latex": [
       "\\begin{enumerate*}\n",
       "\\item 4974\n",
       "\\item 3228\n",
       "\\item 3191\n",
       "\\item 4153\n",
       "\\item 4307\n",
       "\\item 4660\n",
       "\\item 6193\n",
       "\\end{enumerate*}\n"
      ],
      "text/markdown": [
       "1. 4974\n",
       "2. 3228\n",
       "3. 3191\n",
       "4. 4153\n",
       "5. 4307\n",
       "6. 4660\n",
       "7. 6193\n",
       "\n",
       "\n"
      ],
      "text/plain": [
       "[1] 4974 3228 3191 4153 4307 4660 6193"
      ]
     },
     "metadata": {},
     "output_type": "display_data"
    }
   ],
   "source": [
    "cs[244:250,]$y"
   ]
  },
  {
   "cell_type": "code",
   "execution_count": 476,
   "id": "26d34ace",
   "metadata": {},
   "outputs": [
    {
     "data": {
      "text/html": [
       "<ol class=list-inline>\n",
       "\t<li>4456.15765482834</li>\n",
       "\t<li>4456.15765482834</li>\n",
       "\t<li>2843.83521969002</li>\n",
       "\t<li>4456.15765482834</li>\n",
       "\t<li>2842.11799627513</li>\n",
       "\t<li>4456.15765482834</li>\n",
       "\t<li>4456.15765482834</li>\n",
       "</ol>\n"
      ],
      "text/latex": [
       "\\begin{enumerate*}\n",
       "\\item 4456.15765482834\n",
       "\\item 4456.15765482834\n",
       "\\item 2843.83521969002\n",
       "\\item 4456.15765482834\n",
       "\\item 2842.11799627513\n",
       "\\item 4456.15765482834\n",
       "\\item 4456.15765482834\n",
       "\\end{enumerate*}\n"
      ],
      "text/markdown": [
       "1. 4456.15765482834\n",
       "2. 4456.15765482834\n",
       "3. 2843.83521969002\n",
       "4. 4456.15765482834\n",
       "5. 2842.11799627513\n",
       "6. 4456.15765482834\n",
       "7. 4456.15765482834\n",
       "\n",
       "\n"
      ],
      "text/plain": [
       "[1] 4456.158 4456.158 2843.835 4456.158 2842.118 4456.158 4456.158"
      ]
     },
     "metadata": {},
     "output_type": "display_data"
    },
    {
     "name": "stdout",
     "output_type": "stream",
     "text": [
      "MAE= 828.8413 \n"
     ]
    }
   ],
   "source": [
    "NN=rminer::fit(all~.,train,model=\"mlpe\",search=\"heuristic\")\n",
    "PNN=predict(NN,test)\n",
    "PNN\n",
    "\n",
    "cat(\"MAE=\",mmetric(test$all,PNN,metric=\"MAE\",val=srange),\"\\n\")"
   ]
  },
  {
   "cell_type": "markdown",
   "id": "435a3348",
   "metadata": {},
   "source": [
    "## Time Series Forecast (Window Training)"
   ]
  },
  {
   "cell_type": "code",
   "execution_count": 477,
   "id": "b08c4ad5",
   "metadata": {},
   "outputs": [],
   "source": [
    "Test=7 # H, the number of multi-ahead steps, adjust if needed\n",
    "S=7 # step jump: set in this case to 4 months, a quarter\n",
    "Runs=7 # number of growing window iterations, adjust if needed"
   ]
  },
  {
   "cell_type": "code",
   "execution_count": 478,
   "id": "36064388",
   "metadata": {},
   "outputs": [],
   "source": [
    "# forecast:\n",
    "W=(length(data$all)-Test)-(Runs-1)*S # initial training window size for the ts space (forecast methods)\n",
    "\n",
    "# rminer:\n",
    "timelags=c(1:7) # 1 previous month, 12 and 13 previous year months, you can test other combinations, such as 1:13\n",
    "D=CasesSeries(data$all,timelags) # note: nrow(D) is smaller by max timelags than length(d1)\n",
    "W2=W-max(timelags) # initial training window size for the D space (CasesSeries, rminer methods)\n",
    "\n",
    "YR=diff(range(data$all)) # global Y range, use the same range for the NMAE calculation in all iterations\n",
    "\n",
    "ev=vector(length=Runs) # error vector for \"mlpe\"\n",
    "ev2=vector(length=Runs) # error vector for \"Holtwinters\"\n",
    "ev3=vector(length=Runs) # error vector for \"Arima\"\n",
    "ev4=vector(length=Runs) # error vector for \"NN\"\n",
    "ev5=vector(length=Runs) # error vector for \"RandomForest\"\n",
    "\n",
    "evn=vector(length=Runs) # error vector for \"mlpe\"\n",
    "evn2=vector(length=Runs) # error vector for \"Holtwinters\"\n",
    "evn3=vector(length=Runs) # error vector for \"Arima\"\n",
    "evn4=vector(length=Runs) # error vector for \"NN\"\n",
    "evn5=vector(length=Runs) # error vector for \"RandomForest\"\n",
    "\n",
    "somaPreds = c(0,0,0,0,0,0,0)\n",
    "\n",
    "trinit=1"
   ]
  },
  {
   "cell_type": "markdown",
   "id": "40b0aa2c",
   "metadata": {},
   "source": [
    "### Growing Window"
   ]
  },
  {
   "cell_type": "code",
   "execution_count": 479,
   "id": "ccc40754",
   "metadata": {},
   "outputs": [],
   "source": [
    "for(b in 1:Runs)\n",
    "{\n",
    "  # Holdout and TS creation\n",
    "  H=holdout(d1,ratio=Test,mode=\"incremental\",iter=b,window=W,increment=S)   \n",
    "  trinit=H$tr[1]\n",
    "  dtr=ts(d1[H$tr],frequency=K) # create ts object, note that there is no start argument (for simplicity of the code)\n",
    "    \n",
    "  # HoltWinters(forecast)  \n",
    "  M=suppressWarnings(HoltWinters(dtr)) # create forecasting model, suppressWarnings removes warnings from HW method\n",
    "  Pred=forecast(M,h=length(H$ts))$mean[1:Test] # multi-step ahead forecasts\n",
    "  ev2[b]=mmetric(y=d1[H$ts],x=Pred,metric=\"MAE\",val=YR)\n",
    "  evn2[b]=mmetric(y=d1[H$ts],x=Pred,metric=\"NMAE\",val=YR)\n",
    "  somaPreds = somaPreds + Pred\n",
    "    \n",
    "  # Arima(forecast)\n",
    "  M3 = auto.arima(dtr)\n",
    "  Pred3 = forecast(M3,h=length(H$ts))$mean[1:Test]\n",
    "  ev3[b]=mmetric(y=d1[H$ts],x=Pred3,metric=\"MAE\",val=YR)\n",
    "  evn3[b]=mmetric(y=d1[H$ts],x=Pred3,metric=\"NMAE\",val=YR)\n",
    "    \n",
    "  # Neural Network(forecast)\n",
    "  M4 = nnetar(dtr,P=1,repeats=3)\n",
    "  Pred4 = forecast(M4,h=length(H$ts))$mean[1:Test]\n",
    "  ev4[b]=mmetric(y=d1[H$ts],x=Pred4,metric=\"MAE\",val=YR)\n",
    "  evn4[b]=mmetric(y=d1[H$ts],x=Pred4,metric=\"NMAE\",val=YR)\n",
    "    \n",
    "  # Neural Network (Rminer)\n",
    "  H2=holdout(D$y,ratio=Test,mode=\"incremental\",iter=b,window=W2,increment=S)    \n",
    "  M2=fit(y~.,D[H2$tr,],model=\"mlpe\")\n",
    "  Pred2=lforecast(M2,D,start=(length(H2$tr)+1),Test)\n",
    "  ev[b]=mmetric(y=data$all[H$ts],x=Pred2,metric=\"MAE\",val=YR)\n",
    "  evn[b]=mmetric(y=data$all[H$ts],x=Pred2,metric=\"NMAE\",val=YR)\n",
    "  \n",
    "  # Random Forest (Rminer)\n",
    "  M5=fit(y~.,D[H2$tr,],model=\"lm\")\n",
    "  Pred5=lforecast(M5,D,start=(length(H2$tr)+1),Test)\n",
    "  ev5[b]=mmetric(y=data$all[H$ts],x=Pred5,metric=\"MAE\",val=YR)\n",
    "  evn5[b]=mmetric(y=data$all[H$ts],x=Pred5,metric=\"NMAE\",val=YR)\n",
    "}"
   ]
  },
  {
   "cell_type": "code",
   "execution_count": 480,
   "id": "ad1644fc",
   "metadata": {},
   "outputs": [
    {
     "name": "stdout",
     "output_type": "stream",
     "text": [
      "mlpe median MAE: 658.9465 \n",
      "mlpe median NMAE: 11.326 \n",
      "HW median MAE: 567.1707 \n",
      "HW median NMAE: 9.748551 \n",
      "Arima median MAE: 580.9973 \n",
      "Arima median NMAE: 9.986203 \n",
      "NN median MAE: 1531.597 \n",
      "NN median NMAE: 26.32515 \n",
      "RF median MAE: 657.1372 \n",
      "RF median NMAE: 11.2949 \n"
     ]
    },
    {
     "data": {
      "text/html": [
       "<table>\n",
       "<thead><tr><th scope=col>METRICA_MODELO</th><th scope=col>randomForest_simples</th><th scope=col>KSVM_simples</th><th scope=col>MLPE_simples</th><th scope=col>MLPE_CasesSeries</th><th scope=col>MLPE_GW</th><th scope=col>HW_GW</th><th scope=col>Arima_GW</th><th scope=col>NN_GW</th><th scope=col>RandomForest_GW</th></tr></thead>\n",
       "<tbody>\n",
       "\t<tr><td>MAE       </td><td>1081.92   </td><td>1200.49   </td><td>978.42    </td><td>813.74246 </td><td>658.9465  </td><td>567.170699</td><td>580.997314</td><td>1531.59721</td><td>657.1372  </td></tr>\n",
       "\t<tr><td>NMAE      </td><td>  36.04   </td><td>  39.99   </td><td> 32.59    </td><td> 27.10668 </td><td> 11.3260  </td><td>  9.748551</td><td>  9.986203</td><td>  26.32515</td><td> 11.2949  </td></tr>\n",
       "</tbody>\n",
       "</table>\n"
      ],
      "text/latex": [
       "\\begin{tabular}{r|llllllllll}\n",
       " METRICA\\_MODELO & randomForest\\_simples & KSVM\\_simples & MLPE\\_simples & MLPE\\_CasesSeries & MLPE\\_GW & HW\\_GW & Arima\\_GW & NN\\_GW & RandomForest\\_GW\\\\\n",
       "\\hline\n",
       "\t MAE        & 1081.92    & 1200.49    & 978.42     & 813.74246  & 658.9465   & 567.170699 & 580.997314 & 1531.59721 & 657.1372  \\\\\n",
       "\t NMAE       &   36.04    &   39.99    &  32.59     &  27.10668  &  11.3260   &   9.748551 &   9.986203 &   26.32515 &  11.2949  \\\\\n",
       "\\end{tabular}\n"
      ],
      "text/markdown": [
       "\n",
       "| METRICA_MODELO | randomForest_simples | KSVM_simples | MLPE_simples | MLPE_CasesSeries | MLPE_GW | HW_GW | Arima_GW | NN_GW | RandomForest_GW |\n",
       "|---|---|---|---|---|---|---|---|---|---|\n",
       "| MAE        | 1081.92    | 1200.49    | 978.42     | 813.74246  | 658.9465   | 567.170699 | 580.997314 | 1531.59721 | 657.1372   |\n",
       "| NMAE       |   36.04    |   39.99    |  32.59     |  27.10668  |  11.3260   |   9.748551 |   9.986203 |   26.32515 |  11.2949   |\n",
       "\n"
      ],
      "text/plain": [
       "  METRICA_MODELO randomForest_simples KSVM_simples MLPE_simples\n",
       "1 MAE            1081.92              1200.49      978.42      \n",
       "2 NMAE             36.04                39.99       32.59      \n",
       "  MLPE_CasesSeries MLPE_GW  HW_GW      Arima_GW   NN_GW      RandomForest_GW\n",
       "1 813.74246        658.9465 567.170699 580.997314 1531.59721 657.1372       \n",
       "2  27.10668         11.3260   9.748551   9.986203   26.32515  11.2949       "
      ]
     },
     "metadata": {},
     "output_type": "display_data"
    }
   ],
   "source": [
    "nomeModelo = \"MLPE_GW\"\n",
    "cat(\"mlpe median MAE:\",median(ev),\"\\n\")\n",
    "cat(\"mlpe median NMAE:\",median(evn),\"\\n\")\n",
    "resdf[nomeModelo] = c(median(ev),median(evn))\n",
    "\n",
    "nomeModelo = \"HW_GW\"\n",
    "cat(\"HW median MAE:\",median(ev2),\"\\n\")\n",
    "cat(\"HW median NMAE:\",median(evn2),\"\\n\")\n",
    "resdf[nomeModelo] = c(median(ev2),median(evn2))\n",
    "\n",
    "nomeModelo = \"Arima_GW\"\n",
    "cat(\"Arima median MAE:\",median(ev3),\"\\n\")\n",
    "cat(\"Arima median NMAE:\",median(evn3),\"\\n\")\n",
    "resdf[nomeModelo] = c(median(ev3),median(evn3))\n",
    "\n",
    "nomeModelo = \"NN_GW\"\n",
    "cat(\"NN median MAE:\",median(ev4),\"\\n\")\n",
    "cat(\"NN median NMAE:\",median(evn4),\"\\n\")\n",
    "resdf[nomeModelo] = c(median(ev4),median(evn4))\n",
    "\n",
    "nomeModelo = \"RandomForest_GW\"\n",
    "cat(\"RF median MAE:\",median(ev5),\"\\n\")\n",
    "cat(\"RF median NMAE:\",median(evn5),\"\\n\")\n",
    "resdf[nomeModelo] = c(median(ev5),median(evn5))\n",
    "\n",
    "resdf"
   ]
  },
  {
   "cell_type": "code",
   "execution_count": 481,
   "id": "b6e7aa26",
   "metadata": {},
   "outputs": [
    {
     "data": {
      "text/html": [
       "<ol class=list-inline>\n",
       "\t<li>35757.8110068462</li>\n",
       "\t<li>22668.6303348344</li>\n",
       "\t<li>21748.6767747301</li>\n",
       "\t<li>22126.6159317068</li>\n",
       "\t<li>24162.7907174712</li>\n",
       "\t<li>25584.2273976727</li>\n",
       "\t<li>33700.4496079847</li>\n",
       "</ol>\n"
      ],
      "text/latex": [
       "\\begin{enumerate*}\n",
       "\\item 35757.8110068462\n",
       "\\item 22668.6303348344\n",
       "\\item 21748.6767747301\n",
       "\\item 22126.6159317068\n",
       "\\item 24162.7907174712\n",
       "\\item 25584.2273976727\n",
       "\\item 33700.4496079847\n",
       "\\end{enumerate*}\n"
      ],
      "text/markdown": [
       "1. 35757.8110068462\n",
       "2. 22668.6303348344\n",
       "3. 21748.6767747301\n",
       "4. 22126.6159317068\n",
       "5. 24162.7907174712\n",
       "6. 25584.2273976727\n",
       "7. 33700.4496079847\n",
       "\n",
       "\n"
      ],
      "text/plain": [
       "[1] 35757.81 22668.63 21748.68 22126.62 24162.79 25584.23 33700.45"
      ]
     },
     "metadata": {},
     "output_type": "display_data"
    },
    {
     "data": {
      "text/html": [
       "<ol class=list-inline>\n",
       "\t<li>5108.25871526374</li>\n",
       "\t<li>3238.3757621192</li>\n",
       "\t<li>3106.95382496144</li>\n",
       "\t<li>3160.94513310097</li>\n",
       "\t<li>3451.82724535303</li>\n",
       "\t<li>3654.88962823895</li>\n",
       "\t<li>4814.34994399781</li>\n",
       "</ol>\n"
      ],
      "text/latex": [
       "\\begin{enumerate*}\n",
       "\\item 5108.25871526374\n",
       "\\item 3238.3757621192\n",
       "\\item 3106.95382496144\n",
       "\\item 3160.94513310097\n",
       "\\item 3451.82724535303\n",
       "\\item 3654.88962823895\n",
       "\\item 4814.34994399781\n",
       "\\end{enumerate*}\n"
      ],
      "text/markdown": [
       "1. 5108.25871526374\n",
       "2. 3238.3757621192\n",
       "3. 3106.95382496144\n",
       "4. 3160.94513310097\n",
       "5. 3451.82724535303\n",
       "6. 3654.88962823895\n",
       "7. 4814.34994399781\n",
       "\n",
       "\n"
      ],
      "text/plain": [
       "[1] 5108.259 3238.376 3106.954 3160.945 3451.827 3654.890 4814.350"
      ]
     },
     "metadata": {},
     "output_type": "display_data"
    }
   ],
   "source": [
    "# Media das Predictions do modelo selecionado\n",
    "somaPreds\n",
    "for (x in 1:7) {\n",
    "    somaPreds[x] = somaPreds[x]/Test\n",
    "}\n",
    "somaPreds"
   ]
  },
  {
   "cell_type": "markdown",
   "id": "6a147dbf",
   "metadata": {},
   "source": [
    "### Rolling Window"
   ]
  },
  {
   "cell_type": "code",
   "execution_count": 482,
   "id": "12bade3b",
   "metadata": {},
   "outputs": [],
   "source": [
    "# Reset all metrics\n",
    "ev=vector(length=Runs) # error vector for \"mlpe\"\n",
    "ev2=vector(length=Runs) # error vector for \"Holtwinters\"\n",
    "ev3=vector(length=Runs) # error vector for \"Arima\"\n",
    "ev4=vector(length=Runs) # error vector for \"NN\"\n",
    "ev5=vector(length=Runs) # error vector for \"RandomForest\"\n",
    "\n",
    "evn=vector(length=Runs) # error vector for \"mlpe\"\n",
    "evn2=vector(length=Runs) # error vector for \"Holtwinters\"\n",
    "evn3=vector(length=Runs) # error vector for \"Arima\"\n",
    "evn4=vector(length=Runs) # error vector for \"NN\"\n",
    "evn5=vector(length=Runs) # error vector for \"RandomForest\"\n",
    "\n",
    "for(b in 1:Runs)\n",
    "{\n",
    "  # Holdout and TS creation\n",
    "  H=holdout(d1,ratio=Test,mode=\"rolling\",iter=b,window=W,increment=S)   \n",
    "  trinit=H$tr[1]\n",
    "  dtr=ts(d1[H$tr],frequency=K) # create ts object, note that there is no start argument (for simplicity of the code)\n",
    "    \n",
    "  # HoltWinters(forecast)  \n",
    "  M=suppressWarnings(HoltWinters(dtr)) # create forecasting model, suppressWarnings removes warnings from HW method\n",
    "  Pred=forecast(M,h=length(H$ts))$mean[1:Test] # multi-step ahead forecasts\n",
    "  ev2[b]=mmetric(y=d1[H$ts],x=Pred,metric=\"MAE\",val=YR)\n",
    "  evn2[b]=mmetric(y=d1[H$ts],x=Pred,metric=\"NMAE\",val=YR)\n",
    "    \n",
    "  # Arima(forecast)\n",
    "  M3 = auto.arima(dtr)\n",
    "  Pred3 = forecast(M3,h=length(H$ts))$mean[1:Test]\n",
    "  ev3[b]=mmetric(y=d1[H$ts],x=Pred3,metric=\"MAE\",val=YR)\n",
    "  evn3[b]=mmetric(y=d1[H$ts],x=Pred3,metric=\"NMAE\",val=YR)\n",
    "    \n",
    "    \n",
    "  # Neural Network(forecast)\n",
    "  M4 = nnetar(dtr,P=1,repeats=3)\n",
    "  Pred4 = forecast(M4,h=length(H$ts))$mean[1:Test]\n",
    "  ev4[b]=mmetric(y=d1[H$ts],x=Pred4,metric=\"MAE\",val=YR)\n",
    "  evn4[b]=mmetric(y=d1[H$ts],x=Pred4,metric=\"NMAE\",val=YR)\n",
    "    \n",
    "  # Neural Network (Rminer)\n",
    "  H2=holdout(D$y,ratio=Test,mode=\"incremental\",iter=b,window=W2,increment=S)    \n",
    "  M2=fit(y~.,D[H2$tr,],model=\"mlpe\")\n",
    "  Pred2=lforecast(M2,D,start=(length(H2$tr)+1),Test)\n",
    "  ev[b]=mmetric(y=data$all[H$ts],x=Pred2,metric=\"MAE\",val=YR)\n",
    "  evn[b]=mmetric(y=data$all[H$ts],x=Pred2,metric=\"NMAE\",val=YR)\n",
    "  \n",
    "  # Random Forest (Rminer)\n",
    "  M5=fit(y~.,D[H2$tr,],model=\"lm\")\n",
    "  Pred5=lforecast(M5,D,start=(length(H2$tr)+1),Test)\n",
    "  ev5[b]=mmetric(y=data$all[H$ts],x=Pred5,metric=\"MAE\",val=YR)\n",
    "  evn5[b]=mmetric(y=data$all[H$ts],x=Pred5,metric=\"NMAE\",val=YR)\n",
    "}"
   ]
  },
  {
   "cell_type": "code",
   "execution_count": 483,
   "id": "3f23a050",
   "metadata": {},
   "outputs": [
    {
     "name": "stdout",
     "output_type": "stream",
     "text": [
      "mlpe median MAE: 690.5315 \n",
      "mlpe median NMAE: 11.86888 \n",
      "HW median MAE: 686.8251 \n",
      "HW median NMAE: 11.80517 \n",
      "Arima median MAE: 741.5507 \n",
      "Arima median NMAE: 12.7458 \n",
      "NN median MAE: 1441.597 \n",
      "NN median NMAE: 24.77822 \n",
      "RF median MAE: 657.1372 \n",
      "RF median NMAE: 11.2949 \n"
     ]
    },
    {
     "data": {
      "text/html": [
       "<table>\n",
       "<thead><tr><th scope=col>METRICA_MODELO</th><th scope=col>randomForest_simples</th><th scope=col>KSVM_simples</th><th scope=col>MLPE_simples</th><th scope=col>MLPE_CasesSeries</th><th scope=col>MLPE_GW</th><th scope=col>HW_GW</th><th scope=col>Arima_GW</th><th scope=col>NN_GW</th><th scope=col>RandomForest_GW</th><th scope=col>MLPE_RW</th><th scope=col>HW_RW</th><th scope=col>Arima_RW</th><th scope=col>NN_RW</th><th scope=col>RandomForest_RW</th></tr></thead>\n",
       "<tbody>\n",
       "\t<tr><td>MAE       </td><td>1081.92   </td><td>1200.49   </td><td>978.42    </td><td>813.74246 </td><td>658.9465  </td><td>567.170699</td><td>580.997314</td><td>1531.59721</td><td>657.1372  </td><td>690.53154 </td><td>686.82508 </td><td>741.5507  </td><td>1441.59668</td><td>657.1372  </td></tr>\n",
       "\t<tr><td>NMAE      </td><td>  36.04   </td><td>  39.99   </td><td> 32.59    </td><td> 27.10668 </td><td> 11.3260  </td><td>  9.748551</td><td>  9.986203</td><td>  26.32515</td><td> 11.2949  </td><td> 11.86888 </td><td> 11.80517 </td><td> 12.7458  </td><td>  24.77822</td><td> 11.2949  </td></tr>\n",
       "</tbody>\n",
       "</table>\n"
      ],
      "text/latex": [
       "\\begin{tabular}{r|lllllllllllllll}\n",
       " METRICA\\_MODELO & randomForest\\_simples & KSVM\\_simples & MLPE\\_simples & MLPE\\_CasesSeries & MLPE\\_GW & HW\\_GW & Arima\\_GW & NN\\_GW & RandomForest\\_GW & MLPE\\_RW & HW\\_RW & Arima\\_RW & NN\\_RW & RandomForest\\_RW\\\\\n",
       "\\hline\n",
       "\t MAE        & 1081.92    & 1200.49    & 978.42     & 813.74246  & 658.9465   & 567.170699 & 580.997314 & 1531.59721 & 657.1372   & 690.53154  & 686.82508  & 741.5507   & 1441.59668 & 657.1372  \\\\\n",
       "\t NMAE       &   36.04    &   39.99    &  32.59     &  27.10668  &  11.3260   &   9.748551 &   9.986203 &   26.32515 &  11.2949   &  11.86888  &  11.80517  &  12.7458   &   24.77822 &  11.2949  \\\\\n",
       "\\end{tabular}\n"
      ],
      "text/markdown": [
       "\n",
       "| METRICA_MODELO | randomForest_simples | KSVM_simples | MLPE_simples | MLPE_CasesSeries | MLPE_GW | HW_GW | Arima_GW | NN_GW | RandomForest_GW | MLPE_RW | HW_RW | Arima_RW | NN_RW | RandomForest_RW |\n",
       "|---|---|---|---|---|---|---|---|---|---|---|---|---|---|---|\n",
       "| MAE        | 1081.92    | 1200.49    | 978.42     | 813.74246  | 658.9465   | 567.170699 | 580.997314 | 1531.59721 | 657.1372   | 690.53154  | 686.82508  | 741.5507   | 1441.59668 | 657.1372   |\n",
       "| NMAE       |   36.04    |   39.99    |  32.59     |  27.10668  |  11.3260   |   9.748551 |   9.986203 |   26.32515 |  11.2949   |  11.86888  |  11.80517  |  12.7458   |   24.77822 |  11.2949   |\n",
       "\n"
      ],
      "text/plain": [
       "  METRICA_MODELO randomForest_simples KSVM_simples MLPE_simples\n",
       "1 MAE            1081.92              1200.49      978.42      \n",
       "2 NMAE             36.04                39.99       32.59      \n",
       "  MLPE_CasesSeries MLPE_GW  HW_GW      Arima_GW   NN_GW      RandomForest_GW\n",
       "1 813.74246        658.9465 567.170699 580.997314 1531.59721 657.1372       \n",
       "2  27.10668         11.3260   9.748551   9.986203   26.32515  11.2949       \n",
       "  MLPE_RW   HW_RW     Arima_RW NN_RW      RandomForest_RW\n",
       "1 690.53154 686.82508 741.5507 1441.59668 657.1372       \n",
       "2  11.86888  11.80517  12.7458   24.77822  11.2949       "
      ]
     },
     "metadata": {},
     "output_type": "display_data"
    }
   ],
   "source": [
    "nomeModelo = \"MLPE_RW\"\n",
    "cat(\"mlpe median MAE:\",median(ev),\"\\n\")\n",
    "cat(\"mlpe median NMAE:\",median(evn),\"\\n\")\n",
    "resdf[nomeModelo] = c(median(ev),median(evn))\n",
    "\n",
    "nomeModelo = \"HW_RW\"\n",
    "cat(\"HW median MAE:\",median(ev2),\"\\n\")\n",
    "cat(\"HW median NMAE:\",median(evn2),\"\\n\")\n",
    "resdf[nomeModelo] = c(median(ev2),median(evn2))\n",
    "\n",
    "nomeModelo = \"Arima_RW\"\n",
    "cat(\"Arima median MAE:\",median(ev3),\"\\n\")\n",
    "cat(\"Arima median NMAE:\",median(evn3),\"\\n\")\n",
    "resdf[nomeModelo] = c(median(ev3),median(evn3))\n",
    "\n",
    "nomeModelo = \"NN_RW\"\n",
    "cat(\"NN median MAE:\",median(ev4),\"\\n\")\n",
    "cat(\"NN median NMAE:\",median(evn4),\"\\n\")\n",
    "resdf[nomeModelo] = c(median(ev4),median(evn4))\n",
    "\n",
    "nomeModelo = \"RandomForest_RW\"\n",
    "cat(\"RF median MAE:\",median(ev5),\"\\n\")\n",
    "cat(\"RF median NMAE:\",median(evn5),\"\\n\")\n",
    "resdf[nomeModelo] = c(median(ev5),median(evn5))\n",
    "\n",
    "resdf"
   ]
  },
  {
   "cell_type": "markdown",
   "id": "d359f9ab",
   "metadata": {},
   "source": [
    "### Simple Time Series Forecast"
   ]
  },
  {
   "cell_type": "code",
   "execution_count": 484,
   "id": "29434316",
   "metadata": {
    "scrolled": true
   },
   "outputs": [],
   "source": [
    "TS = data$all\n",
    "\n",
    "K=7 # TS period (daily)\n",
    "\n",
    "L=length(TS)\n",
    "NTS=K # number of predictions (7)\n",
    "H=NTS # from 1 to H ahead predictions (7)\n",
    "LTR=L-H\n",
    "# according to the ts function documentation: frequency=7 assumes daily data, frequency=4 or 12 assumes quarterly and monthly data\n",
    "TR=ts(TS[1:LTR],frequency=K)\n",
    "\n",
    "# target predictions:\n",
    "Y=TS[(LTR+1):L]"
   ]
  },
  {
   "cell_type": "markdown",
   "id": "99943907",
   "metadata": {},
   "source": [
    "### TSF Neural Network Rminer"
   ]
  },
  {
   "cell_type": "code",
   "execution_count": 485,
   "id": "5f3bab93",
   "metadata": {},
   "outputs": [
    {
     "name": "stdout",
     "output_type": "stream",
     "text": [
      "      lag7           lag6           lag5           lag4           lag3     \n",
      " Min.   : 375   Min.   : 375   Min.   : 375   Min.   : 375   Min.   : 375  \n",
      " 1st Qu.:2564   1st Qu.:2565   1st Qu.:2565   1st Qu.:2578   1st Qu.:2578  \n",
      " Median :3625   Median :3636   Median :3636   Median :3636   Median :3646  \n",
      " Mean   :3421   Mean   :3432   Mean   :3434   Mean   :3437   Mean   :3440  \n",
      " 3rd Qu.:4140   3rd Qu.:4165   3rd Qu.:4165   3rd Qu.:4165   3rd Qu.:4166  \n",
      " Max.   :6165   Max.   :6165   Max.   :6165   Max.   :6165   Max.   :6165  \n",
      "      lag2           lag1            y       \n",
      " Min.   : 375   Min.   : 375   Min.   : 375  \n",
      " 1st Qu.:2578   1st Qu.:2578   1st Qu.:2578  \n",
      " Median :3646   Median :3646   Median :3648  \n",
      " Mean   :3438   Mean   :3436   Mean   :3450  \n",
      " 3rd Qu.:4166   3rd Qu.:4166   3rd Qu.:4172  \n",
      " Max.   :6165   Max.   :6165   Max.   :6193  \n",
      "[1] 4144.871 3564.316 3026.965 3363.831 4150.154 4122.619 3661.397\n",
      "MAE: 763.4972 \n",
      "NMAE: 25.43295 \n"
     ]
    },
    {
     "data": {
      "text/html": [
       "<table>\n",
       "<thead><tr><th scope=col>METRICA_MODELO</th><th scope=col>randomForest_simples</th><th scope=col>KSVM_simples</th><th scope=col>MLPE_simples</th><th scope=col>MLPE_CasesSeries</th><th scope=col>MLPE_GW</th><th scope=col>HW_GW</th><th scope=col>Arima_GW</th><th scope=col>NN_GW</th><th scope=col>RandomForest_GW</th><th scope=col>MLPE_RW</th><th scope=col>HW_RW</th><th scope=col>Arima_RW</th><th scope=col>NN_RW</th><th scope=col>RandomForest_RW</th><th scope=col>MLPE_TSF_rminer</th></tr></thead>\n",
       "<tbody>\n",
       "\t<tr><td>MAE       </td><td>1081.92   </td><td>1200.49   </td><td>978.42    </td><td>813.74246 </td><td>658.9465  </td><td>567.170699</td><td>580.997314</td><td>1531.59721</td><td>657.1372  </td><td>690.53154 </td><td>686.82508 </td><td>741.5507  </td><td>1441.59668</td><td>657.1372  </td><td>763.49722 </td></tr>\n",
       "\t<tr><td>NMAE      </td><td>  36.04   </td><td>  39.99   </td><td> 32.59    </td><td> 27.10668 </td><td> 11.3260  </td><td>  9.748551</td><td>  9.986203</td><td>  26.32515</td><td> 11.2949  </td><td> 11.86888 </td><td> 11.80517 </td><td> 12.7458  </td><td>  24.77822</td><td> 11.2949  </td><td> 25.43295 </td></tr>\n",
       "</tbody>\n",
       "</table>\n"
      ],
      "text/latex": [
       "\\begin{tabular}{r|llllllllllllllll}\n",
       " METRICA\\_MODELO & randomForest\\_simples & KSVM\\_simples & MLPE\\_simples & MLPE\\_CasesSeries & MLPE\\_GW & HW\\_GW & Arima\\_GW & NN\\_GW & RandomForest\\_GW & MLPE\\_RW & HW\\_RW & Arima\\_RW & NN\\_RW & RandomForest\\_RW & MLPE\\_TSF\\_rminer\\\\\n",
       "\\hline\n",
       "\t MAE        & 1081.92    & 1200.49    & 978.42     & 813.74246  & 658.9465   & 567.170699 & 580.997314 & 1531.59721 & 657.1372   & 690.53154  & 686.82508  & 741.5507   & 1441.59668 & 657.1372   & 763.49722 \\\\\n",
       "\t NMAE       &   36.04    &   39.99    &  32.59     &  27.10668  &  11.3260   &   9.748551 &   9.986203 &   26.32515 &  11.2949   &  11.86888  &  11.80517  &  12.7458   &   24.77822 &  11.2949   &  25.43295 \\\\\n",
       "\\end{tabular}\n"
      ],
      "text/markdown": [
       "\n",
       "| METRICA_MODELO | randomForest_simples | KSVM_simples | MLPE_simples | MLPE_CasesSeries | MLPE_GW | HW_GW | Arima_GW | NN_GW | RandomForest_GW | MLPE_RW | HW_RW | Arima_RW | NN_RW | RandomForest_RW | MLPE_TSF_rminer |\n",
       "|---|---|---|---|---|---|---|---|---|---|---|---|---|---|---|---|\n",
       "| MAE        | 1081.92    | 1200.49    | 978.42     | 813.74246  | 658.9465   | 567.170699 | 580.997314 | 1531.59721 | 657.1372   | 690.53154  | 686.82508  | 741.5507   | 1441.59668 | 657.1372   | 763.49722  |\n",
       "| NMAE       |   36.04    |   39.99    |  32.59     |  27.10668  |  11.3260   |   9.748551 |   9.986203 |   26.32515 |  11.2949   |  11.86888  |  11.80517  |  12.7458   |   24.77822 |  11.2949   |  25.43295  |\n",
       "\n"
      ],
      "text/plain": [
       "  METRICA_MODELO randomForest_simples KSVM_simples MLPE_simples\n",
       "1 MAE            1081.92              1200.49      978.42      \n",
       "2 NMAE             36.04                39.99       32.59      \n",
       "  MLPE_CasesSeries MLPE_GW  HW_GW      Arima_GW   NN_GW      RandomForest_GW\n",
       "1 813.74246        658.9465 567.170699 580.997314 1531.59721 657.1372       \n",
       "2  27.10668         11.3260   9.748551   9.986203   26.32515  11.2949       \n",
       "  MLPE_RW   HW_RW     Arima_RW NN_RW      RandomForest_RW MLPE_TSF_rminer\n",
       "1 690.53154 686.82508 741.5507 1441.59668 657.1372        763.49722      \n",
       "2  11.86888  11.80517  12.7458   24.77822  11.2949         25.43295      "
      ]
     },
     "metadata": {},
     "output_type": "display_data"
    },
    {
     "data": {
      "image/png": "[encoded data removed]",
      "text/plain": [
       "Plot with title \"\""
      ]
     },
     "metadata": {},
     "output_type": "display_data"
    }
   ],
   "source": [
    "# neural network modeling, via rminer:\n",
    "d=CasesSeries(TS,c(1:7)) # data.frame from time series (domain knowledge for the 1,12,13 time lag selection)\n",
    "print(summary(d))\n",
    "LD=nrow(d) # note: LD < L\n",
    "hd=holdout(d$y,ratio=NTS,mode=\"order\")\n",
    "NN2=fit(y~.,d[hd$tr,],model=\"mlpe\")\n",
    "init=hd$ts[1] # or same as: init=LD-H+1\n",
    "F5=lforecast(NN2,d,start=hd$ts[1],horizon=H)\n",
    "print(F5)\n",
    "Pred5=F5\n",
    "mgraph(Y,Pred5,graph=\"REG\",Grid=10,col=c(\"black\",\"blue\"),leg=list(pos=\"topleft\",leg=c(\"target\",\"NN2 pred.\")))\n",
    "\n",
    "\n",
    "mae = mmetric(Y,Pred5,metric=\"MAE\")\n",
    "nmae = mmetric(Y,Pred5,metric=\"NMAE\")\n",
    "\n",
    "# Metricas\n",
    "cat(\"MAE:\",mae,\"\\n\")\n",
    "cat(\"NMAE:\",nmae,\"\\n\")\n",
    "\n",
    "# Guardar os Resultados\n",
    "nomeModelo = \"MLPE_TSF_rminer\"\n",
    "resdf[nomeModelo] = c(mae,nmae)\n",
    "resdf"
   ]
  },
  {
   "cell_type": "markdown",
   "id": "3791f234",
   "metadata": {},
   "source": [
    "### TSF Random Forest RMiner"
   ]
  },
  {
   "cell_type": "code",
   "execution_count": 486,
   "id": "f5c2700d",
   "metadata": {},
   "outputs": [
    {
     "name": "stdout",
     "output_type": "stream",
     "text": [
      "[1] 3692.319 3147.268 2957.921 3178.845 3482.247 3573.180 3587.100\n",
      "MAE: 1012.446 \n",
      "NMAE: 33.7257 \n"
     ]
    },
    {
     "data": {
      "text/html": [
       "<table>\n",
       "<thead><tr><th scope=col>METRICA_MODELO</th><th scope=col>randomForest_simples</th><th scope=col>KSVM_simples</th><th scope=col>MLPE_simples</th><th scope=col>MLPE_CasesSeries</th><th scope=col>MLPE_GW</th><th scope=col>HW_GW</th><th scope=col>Arima_GW</th><th scope=col>NN_GW</th><th scope=col>RandomForest_GW</th><th scope=col>MLPE_RW</th><th scope=col>HW_RW</th><th scope=col>Arima_RW</th><th scope=col>NN_RW</th><th scope=col>RandomForest_RW</th><th scope=col>MLPE_TSF_rminer</th><th scope=col>RF_TSF_rminer</th></tr></thead>\n",
       "<tbody>\n",
       "\t<tr><td>MAE       </td><td>1081.92   </td><td>1200.49   </td><td>978.42    </td><td>813.74246 </td><td>658.9465  </td><td>567.170699</td><td>580.997314</td><td>1531.59721</td><td>657.1372  </td><td>690.53154 </td><td>686.82508 </td><td>741.5507  </td><td>1441.59668</td><td>657.1372  </td><td>763.49722 </td><td>1012.4455 </td></tr>\n",
       "\t<tr><td>NMAE      </td><td>  36.04   </td><td>  39.99   </td><td> 32.59    </td><td> 27.10668 </td><td> 11.3260  </td><td>  9.748551</td><td>  9.986203</td><td>  26.32515</td><td> 11.2949  </td><td> 11.86888 </td><td> 11.80517 </td><td> 12.7458  </td><td>  24.77822</td><td> 11.2949  </td><td> 25.43295 </td><td>  33.7257 </td></tr>\n",
       "</tbody>\n",
       "</table>\n"
      ],
      "text/latex": [
       "\\begin{tabular}{r|lllllllllllllllll}\n",
       " METRICA\\_MODELO & randomForest\\_simples & KSVM\\_simples & MLPE\\_simples & MLPE\\_CasesSeries & MLPE\\_GW & HW\\_GW & Arima\\_GW & NN\\_GW & RandomForest\\_GW & MLPE\\_RW & HW\\_RW & Arima\\_RW & NN\\_RW & RandomForest\\_RW & MLPE\\_TSF\\_rminer & RF\\_TSF\\_rminer\\\\\n",
       "\\hline\n",
       "\t MAE        & 1081.92    & 1200.49    & 978.42     & 813.74246  & 658.9465   & 567.170699 & 580.997314 & 1531.59721 & 657.1372   & 690.53154  & 686.82508  & 741.5507   & 1441.59668 & 657.1372   & 763.49722  & 1012.4455 \\\\\n",
       "\t NMAE       &   36.04    &   39.99    &  32.59     &  27.10668  &  11.3260   &   9.748551 &   9.986203 &   26.32515 &  11.2949   &  11.86888  &  11.80517  &  12.7458   &   24.77822 &  11.2949   &  25.43295  &   33.7257 \\\\\n",
       "\\end{tabular}\n"
      ],
      "text/markdown": [
       "\n",
       "| METRICA_MODELO | randomForest_simples | KSVM_simples | MLPE_simples | MLPE_CasesSeries | MLPE_GW | HW_GW | Arima_GW | NN_GW | RandomForest_GW | MLPE_RW | HW_RW | Arima_RW | NN_RW | RandomForest_RW | MLPE_TSF_rminer | RF_TSF_rminer |\n",
       "|---|---|---|---|---|---|---|---|---|---|---|---|---|---|---|---|---|\n",
       "| MAE        | 1081.92    | 1200.49    | 978.42     | 813.74246  | 658.9465   | 567.170699 | 580.997314 | 1531.59721 | 657.1372   | 690.53154  | 686.82508  | 741.5507   | 1441.59668 | 657.1372   | 763.49722  | 1012.4455  |\n",
       "| NMAE       |   36.04    |   39.99    |  32.59     |  27.10668  |  11.3260   |   9.748551 |   9.986203 |   26.32515 |  11.2949   |  11.86888  |  11.80517  |  12.7458   |   24.77822 |  11.2949   |  25.43295  |   33.7257  |\n",
       "\n"
      ],
      "text/plain": [
       "  METRICA_MODELO randomForest_simples KSVM_simples MLPE_simples\n",
       "1 MAE            1081.92              1200.49      978.42      \n",
       "2 NMAE             36.04                39.99       32.59      \n",
       "  MLPE_CasesSeries MLPE_GW  HW_GW      Arima_GW   NN_GW      RandomForest_GW\n",
       "1 813.74246        658.9465 567.170699 580.997314 1531.59721 657.1372       \n",
       "2  27.10668         11.3260   9.748551   9.986203   26.32515  11.2949       \n",
       "  MLPE_RW   HW_RW     Arima_RW NN_RW      RandomForest_RW MLPE_TSF_rminer\n",
       "1 690.53154 686.82508 741.5507 1441.59668 657.1372        763.49722      \n",
       "2  11.86888  11.80517  12.7458   24.77822  11.2949         25.43295      \n",
       "  RF_TSF_rminer\n",
       "1 1012.4455    \n",
       "2   33.7257    "
      ]
     },
     "metadata": {},
     "output_type": "display_data"
    },
    {
     "data": {
      "image/png": "[encoded data removed]",
      "text/plain": [
       "Plot with title \"\""
      ]
     },
     "metadata": {},
     "output_type": "display_data"
    }
   ],
   "source": [
    "# random forest modeling, via rminer:\n",
    "LM=fit(y~.,d[hd$tr,],model=\"lm\")\n",
    "init=hd$ts[1] # or same as: init=LD-H+1\n",
    "F6=lforecast(LM,d,start=hd$ts[1],horizon=H)\n",
    "print(F6)\n",
    "Pred6=F6\n",
    "mgraph(Y,Pred6,graph=\"REG\",Grid=10,col=c(\"black\",\"blue\"),leg=list(pos=\"topleft\",leg=c(\"target\",\"LM pred.\")))\n",
    "\n",
    "mae = mmetric(Y,Pred6,metric=\"MAE\")\n",
    "nmae = mmetric(Y,Pred6,metric=\"NMAE\")\n",
    "\n",
    "# Metricas\n",
    "cat(\"MAE:\",mae,\"\\n\")\n",
    "cat(\"NMAE:\",nmae,\"\\n\")\n",
    "\n",
    "# Guardar os Resultados\n",
    "nomeModelo = \"RF_TSF_rminer\"\n",
    "resdf[nomeModelo] = c(mae,nmae)\n",
    "resdf"
   ]
  },
  {
   "cell_type": "markdown",
   "id": "c04cebe9",
   "metadata": {},
   "source": [
    "### TSF HoltWinters Forecast"
   ]
  },
  {
   "cell_type": "code",
   "execution_count": 487,
   "id": "9b7b8cac",
   "metadata": {},
   "outputs": [
    {
     "name": "stdout",
     "output_type": "stream",
     "text": [
      "Holt-Winters exponential smoothing with trend and additive seasonal component.\n",
      "\n",
      "Call:\n",
      "HoltWinters(x = TR)\n",
      "\n",
      "Smoothing parameters:\n",
      " alpha: 0.2963465\n",
      " beta : 0.006538548\n",
      " gamma: 0.2608523\n",
      "\n",
      "Coefficients:\n",
      "          [,1]\n",
      "a  2903.871417\n",
      "b    -9.134399\n",
      "s1 1609.129645\n",
      "s2 -246.558839\n",
      "s3 -487.647948\n",
      "s4 -299.371642\n",
      "s5  -56.439250\n",
      "s6  263.545265\n",
      "s7 1544.586706\n",
      "[1] \"show holt winters forecasts:\"\n",
      "         Point Forecast    Lo 80    Hi 80     Lo 95    Hi 95\n",
      "36.71429       4503.867 3547.800 5459.934 3041.6882 5966.045\n",
      "36.85714       2639.044 1641.351 3636.737 1113.2037 4164.884\n",
      "37.00000       2388.820 1350.659 3426.982  801.0894 3976.551\n",
      "37.14286       2567.962 1490.357 3645.568  919.9068 4216.018\n",
      "37.28571       2801.760 1685.623 3917.897 1094.7760 4508.744\n",
      "37.42857       3112.610 1958.760 4266.461 1347.9485 4877.272\n",
      "37.57143       4384.517 3193.691 5575.343 2563.3059 6205.729\n"
     ]
    },
    {
     "data": {
      "image/png": "[encoded data removed]",
      "text/plain": [
       "Plot with title \"Holt-Winters filtering\""
      ]
     },
     "metadata": {},
     "output_type": "display_data"
    },
    {
     "name": "stdout",
     "output_type": "stream",
     "text": [
      "MAE: 1186.774 \n",
      "NMAE: 39.53278 \n"
     ]
    },
    {
     "data": {
      "text/html": [
       "<table>\n",
       "<thead><tr><th scope=col>METRICA_MODELO</th><th scope=col>randomForest_simples</th><th scope=col>KSVM_simples</th><th scope=col>MLPE_simples</th><th scope=col>MLPE_CasesSeries</th><th scope=col>MLPE_GW</th><th scope=col>HW_GW</th><th scope=col>Arima_GW</th><th scope=col>NN_GW</th><th scope=col>RandomForest_GW</th><th scope=col>MLPE_RW</th><th scope=col>HW_RW</th><th scope=col>Arima_RW</th><th scope=col>NN_RW</th><th scope=col>RandomForest_RW</th><th scope=col>MLPE_TSF_rminer</th><th scope=col>RF_TSF_rminer</th><th scope=col>HW_TSF_forecast</th></tr></thead>\n",
       "<tbody>\n",
       "\t<tr><td>MAE       </td><td>1081.92   </td><td>1200.49   </td><td>978.42    </td><td>813.74246 </td><td>658.9465  </td><td>567.170699</td><td>580.997314</td><td>1531.59721</td><td>657.1372  </td><td>690.53154 </td><td>686.82508 </td><td>741.5507  </td><td>1441.59668</td><td>657.1372  </td><td>763.49722 </td><td>1012.4455 </td><td>1186.77419</td></tr>\n",
       "\t<tr><td>NMAE      </td><td>  36.04   </td><td>  39.99   </td><td> 32.59    </td><td> 27.10668 </td><td> 11.3260  </td><td>  9.748551</td><td>  9.986203</td><td>  26.32515</td><td> 11.2949  </td><td> 11.86888 </td><td> 11.80517 </td><td> 12.7458  </td><td>  24.77822</td><td> 11.2949  </td><td> 25.43295 </td><td>  33.7257 </td><td>  39.53278</td></tr>\n",
       "</tbody>\n",
       "</table>\n"
      ],
      "text/latex": [
       "\\begin{tabular}{r|llllllllllllllllll}\n",
       " METRICA\\_MODELO & randomForest\\_simples & KSVM\\_simples & MLPE\\_simples & MLPE\\_CasesSeries & MLPE\\_GW & HW\\_GW & Arima\\_GW & NN\\_GW & RandomForest\\_GW & MLPE\\_RW & HW\\_RW & Arima\\_RW & NN\\_RW & RandomForest\\_RW & MLPE\\_TSF\\_rminer & RF\\_TSF\\_rminer & HW\\_TSF\\_forecast\\\\\n",
       "\\hline\n",
       "\t MAE        & 1081.92    & 1200.49    & 978.42     & 813.74246  & 658.9465   & 567.170699 & 580.997314 & 1531.59721 & 657.1372   & 690.53154  & 686.82508  & 741.5507   & 1441.59668 & 657.1372   & 763.49722  & 1012.4455  & 1186.77419\\\\\n",
       "\t NMAE       &   36.04    &   39.99    &  32.59     &  27.10668  &  11.3260   &   9.748551 &   9.986203 &   26.32515 &  11.2949   &  11.86888  &  11.80517  &  12.7458   &   24.77822 &  11.2949   &  25.43295  &   33.7257  &   39.53278\\\\\n",
       "\\end{tabular}\n"
      ],
      "text/markdown": [
       "\n",
       "| METRICA_MODELO | randomForest_simples | KSVM_simples | MLPE_simples | MLPE_CasesSeries | MLPE_GW | HW_GW | Arima_GW | NN_GW | RandomForest_GW | MLPE_RW | HW_RW | Arima_RW | NN_RW | RandomForest_RW | MLPE_TSF_rminer | RF_TSF_rminer | HW_TSF_forecast |\n",
       "|---|---|---|---|---|---|---|---|---|---|---|---|---|---|---|---|---|---|\n",
       "| MAE        | 1081.92    | 1200.49    | 978.42     | 813.74246  | 658.9465   | 567.170699 | 580.997314 | 1531.59721 | 657.1372   | 690.53154  | 686.82508  | 741.5507   | 1441.59668 | 657.1372   | 763.49722  | 1012.4455  | 1186.77419 |\n",
       "| NMAE       |   36.04    |   39.99    |  32.59     |  27.10668  |  11.3260   |   9.748551 |   9.986203 |   26.32515 |  11.2949   |  11.86888  |  11.80517  |  12.7458   |   24.77822 |  11.2949   |  25.43295  |   33.7257  |   39.53278 |\n",
       "\n"
      ],
      "text/plain": [
       "  METRICA_MODELO randomForest_simples KSVM_simples MLPE_simples\n",
       "1 MAE            1081.92              1200.49      978.42      \n",
       "2 NMAE             36.04                39.99       32.59      \n",
       "  MLPE_CasesSeries MLPE_GW  HW_GW      Arima_GW   NN_GW      RandomForest_GW\n",
       "1 813.74246        658.9465 567.170699 580.997314 1531.59721 657.1372       \n",
       "2  27.10668         11.3260   9.748551   9.986203   26.32515  11.2949       \n",
       "  MLPE_RW   HW_RW     Arima_RW NN_RW      RandomForest_RW MLPE_TSF_rminer\n",
       "1 690.53154 686.82508 741.5507 1441.59668 657.1372        763.49722      \n",
       "2  11.86888  11.80517  12.7458   24.77822  11.2949         25.43295      \n",
       "  RF_TSF_rminer HW_TSF_forecast\n",
       "1 1012.4455     1186.77419     \n",
       "2   33.7257       39.53278     "
      ]
     },
     "metadata": {},
     "output_type": "display_data"
    },
    {
     "data": {
      "image/png": "[encoded data removed]",
      "text/plain": [
       "Plot with title \"\""
      ]
     },
     "metadata": {},
     "output_type": "display_data"
    }
   ],
   "source": [
    "HW=suppressWarnings(HoltWinters(TR))\n",
    "print(HW)\n",
    "plot(HW)\n",
    "print(\"show holt winters forecasts:\")\n",
    "# forecasts, from 1 to H ahead:\n",
    "F=forecast(HW,h=7)\n",
    "print(F)\n",
    "Pred=F$mean[1:H] # HolWinters format\n",
    "mgraph(Y,Pred,graph=\"REG\",Grid=10,col=c(\"black\",\"blue\"),leg=list(pos=\"topleft\",leg=c(\"target\",\"HW pred.\")))\n",
    "\n",
    "\n",
    "mae = mmetric(Y,Pred,metric=\"MAE\")\n",
    "nmae = mmetric(Y,Pred,metric=\"NMAE\")\n",
    "\n",
    "# Metricas\n",
    "cat(\"MAE:\",mae,\"\\n\")\n",
    "cat(\"NMAE:\",nmae,\"\\n\")\n",
    "\n",
    "# Guardar os Resultados\n",
    "nomeModelo = \"HW_TSF_forecast\"\n",
    "resdf[nomeModelo] = c(mae,nmae)\n",
    "resdf"
   ]
  },
  {
   "cell_type": "markdown",
   "id": "28adb6b5",
   "metadata": {},
   "source": [
    "### TSF Arima Forecast"
   ]
  },
  {
   "cell_type": "code",
   "execution_count": 488,
   "id": "b74b6036",
   "metadata": {},
   "outputs": [
    {
     "name": "stdout",
     "output_type": "stream",
     "text": [
      "Series: TR \n",
      "ARIMA(1,1,2)(0,0,2)[7] \n",
      "\n",
      "Coefficients:\n",
      "         ar1      ma1      ma2    sma1    sma2\n",
      "      0.1594  -0.6302  -0.2599  0.3143  0.2046\n",
      "s.e.  0.1832   0.1819   0.1451  0.0672  0.0601\n",
      "\n",
      "sigma^2 estimated as 598409:  log likelihood=-2007.85\n",
      "AIC=4027.7   AICc=4028.05   BIC=4048.81\n",
      "[1] \"show ARIMA forecasts:\"\n",
      "         Point Forecast    Lo 80    Hi 80    Lo 95    Hi 95\n",
      "36.71429       3562.968 2571.599 4554.337 2046.800 5079.135\n",
      "36.85714       3173.536 2051.916 4295.157 1458.166 4888.907\n",
      "37.00000       3185.793 2047.767 4323.818 1445.333 4926.253\n",
      "37.14286       3288.931 2142.375 4435.488 1535.424 5042.439\n",
      "37.28571       3563.785 2409.750 4717.821 1798.840 5328.730\n",
      "37.42857       3336.623 2175.308 4497.938 1560.545 5112.701\n",
      "37.57143       3467.460 2298.934 4635.985 1680.354 5254.566\n",
      "MAE: 1018.129 \n",
      "NMAE: 33.91503 \n"
     ]
    },
    {
     "data": {
      "text/html": [
       "<table>\n",
       "<thead><tr><th scope=col>METRICA_MODELO</th><th scope=col>randomForest_simples</th><th scope=col>KSVM_simples</th><th scope=col>MLPE_simples</th><th scope=col>MLPE_CasesSeries</th><th scope=col>MLPE_GW</th><th scope=col>HW_GW</th><th scope=col>Arima_GW</th><th scope=col>NN_GW</th><th scope=col>RandomForest_GW</th><th scope=col>MLPE_RW</th><th scope=col>HW_RW</th><th scope=col>Arima_RW</th><th scope=col>NN_RW</th><th scope=col>RandomForest_RW</th><th scope=col>MLPE_TSF_rminer</th><th scope=col>RF_TSF_rminer</th><th scope=col>HW_TSF_forecast</th><th scope=col>Arima_TSF_forecast</th></tr></thead>\n",
       "<tbody>\n",
       "\t<tr><td>MAE       </td><td>1081.92   </td><td>1200.49   </td><td>978.42    </td><td>813.74246 </td><td>658.9465  </td><td>567.170699</td><td>580.997314</td><td>1531.59721</td><td>657.1372  </td><td>690.53154 </td><td>686.82508 </td><td>741.5507  </td><td>1441.59668</td><td>657.1372  </td><td>763.49722 </td><td>1012.4455 </td><td>1186.77419</td><td>1018.12909</td></tr>\n",
       "\t<tr><td>NMAE      </td><td>  36.04   </td><td>  39.99   </td><td> 32.59    </td><td> 27.10668 </td><td> 11.3260  </td><td>  9.748551</td><td>  9.986203</td><td>  26.32515</td><td> 11.2949  </td><td> 11.86888 </td><td> 11.80517 </td><td> 12.7458  </td><td>  24.77822</td><td> 11.2949  </td><td> 25.43295 </td><td>  33.7257 </td><td>  39.53278</td><td>  33.91503</td></tr>\n",
       "</tbody>\n",
       "</table>\n"
      ],
      "text/latex": [
       "\\begin{tabular}{r|lllllllllllllllllll}\n",
       " METRICA\\_MODELO & randomForest\\_simples & KSVM\\_simples & MLPE\\_simples & MLPE\\_CasesSeries & MLPE\\_GW & HW\\_GW & Arima\\_GW & NN\\_GW & RandomForest\\_GW & MLPE\\_RW & HW\\_RW & Arima\\_RW & NN\\_RW & RandomForest\\_RW & MLPE\\_TSF\\_rminer & RF\\_TSF\\_rminer & HW\\_TSF\\_forecast & Arima\\_TSF\\_forecast\\\\\n",
       "\\hline\n",
       "\t MAE        & 1081.92    & 1200.49    & 978.42     & 813.74246  & 658.9465   & 567.170699 & 580.997314 & 1531.59721 & 657.1372   & 690.53154  & 686.82508  & 741.5507   & 1441.59668 & 657.1372   & 763.49722  & 1012.4455  & 1186.77419 & 1018.12909\\\\\n",
       "\t NMAE       &   36.04    &   39.99    &  32.59     &  27.10668  &  11.3260   &   9.748551 &   9.986203 &   26.32515 &  11.2949   &  11.86888  &  11.80517  &  12.7458   &   24.77822 &  11.2949   &  25.43295  &   33.7257  &   39.53278 &   33.91503\\\\\n",
       "\\end{tabular}\n"
      ],
      "text/markdown": [
       "\n",
       "| METRICA_MODELO | randomForest_simples | KSVM_simples | MLPE_simples | MLPE_CasesSeries | MLPE_GW | HW_GW | Arima_GW | NN_GW | RandomForest_GW | MLPE_RW | HW_RW | Arima_RW | NN_RW | RandomForest_RW | MLPE_TSF_rminer | RF_TSF_rminer | HW_TSF_forecast | Arima_TSF_forecast |\n",
       "|---|---|---|---|---|---|---|---|---|---|---|---|---|---|---|---|---|---|---|\n",
       "| MAE        | 1081.92    | 1200.49    | 978.42     | 813.74246  | 658.9465   | 567.170699 | 580.997314 | 1531.59721 | 657.1372   | 690.53154  | 686.82508  | 741.5507   | 1441.59668 | 657.1372   | 763.49722  | 1012.4455  | 1186.77419 | 1018.12909 |\n",
       "| NMAE       |   36.04    |   39.99    |  32.59     |  27.10668  |  11.3260   |   9.748551 |   9.986203 |   26.32515 |  11.2949   |  11.86888  |  11.80517  |  12.7458   |   24.77822 |  11.2949   |  25.43295  |   33.7257  |   39.53278 |   33.91503 |\n",
       "\n"
      ],
      "text/plain": [
       "  METRICA_MODELO randomForest_simples KSVM_simples MLPE_simples\n",
       "1 MAE            1081.92              1200.49      978.42      \n",
       "2 NMAE             36.04                39.99       32.59      \n",
       "  MLPE_CasesSeries MLPE_GW  HW_GW      Arima_GW   NN_GW      RandomForest_GW\n",
       "1 813.74246        658.9465 567.170699 580.997314 1531.59721 657.1372       \n",
       "2  27.10668         11.3260   9.748551   9.986203   26.32515  11.2949       \n",
       "  MLPE_RW   HW_RW     Arima_RW NN_RW      RandomForest_RW MLPE_TSF_rminer\n",
       "1 690.53154 686.82508 741.5507 1441.59668 657.1372        763.49722      \n",
       "2  11.86888  11.80517  12.7458   24.77822  11.2949         25.43295      \n",
       "  RF_TSF_rminer HW_TSF_forecast Arima_TSF_forecast\n",
       "1 1012.4455     1186.77419      1018.12909        \n",
       "2   33.7257       39.53278        33.91503        "
      ]
     },
     "metadata": {},
     "output_type": "display_data"
    },
    {
     "data": {
      "image/png": "[encoded data removed]",
      "text/plain": [
       "Plot with title \"\""
      ]
     },
     "metadata": {},
     "output_type": "display_data"
    }
   ],
   "source": [
    "AR=auto.arima(TR)\n",
    "print(AR) # ARIMA(3,0,1)(2,1,0)[12] \n",
    "print(\"show ARIMA forecasts:\")\n",
    "# forecasts, from 1 to H ahead:\n",
    "F1=forecast(AR,h=H)\n",
    "print(F1)\n",
    "Pred1=F1$mean[1:H]\n",
    "mgraph(Y,Pred1,graph=\"REG\",Grid=10,col=c(\"black\",\"blue\"),leg=list(pos=\"topleft\",leg=c(\"target\",\" ARIMA pred.\")))\n",
    "\n",
    "mae = mmetric(Y,Pred1,metric=\"MAE\")\n",
    "nmae = mmetric(Y,Pred1,metric=\"NMAE\")\n",
    "\n",
    "# Metricas\n",
    "cat(\"MAE:\",mae,\"\\n\")\n",
    "cat(\"NMAE:\",nmae,\"\\n\")\n",
    "\n",
    "# Guardar os Resultados\n",
    "nomeModelo = \"Arima_TSF_forecast\"\n",
    "resdf[nomeModelo] = c(mae,nmae)\n",
    "resdf"
   ]
  },
  {
   "cell_type": "markdown",
   "id": "0016b093",
   "metadata": {},
   "source": [
    "### TSF Neural Network Forecast"
   ]
  },
  {
   "cell_type": "code",
   "execution_count": 489,
   "id": "9467fcb5",
   "metadata": {},
   "outputs": [
    {
     "name": "stdout",
     "output_type": "stream",
     "text": [
      "Series: TR \n",
      "Model:  NNAR(16,1,8)[7] \n",
      "Call:   nnetar(y = TR, P = 1, repeats = 3)\n",
      "\n",
      "Average of 3 networks, each of which is\n",
      "a 16-8-1 network with 145 weights\n",
      "options were - linear output units \n",
      "\n",
      "sigma^2 estimated as 31081\n",
      "MAE: 1428.728 \n",
      "NMAE: 47.59255 \n"
     ]
    },
    {
     "data": {
      "text/html": [
       "<table>\n",
       "<thead><tr><th scope=col>METRICA_MODELO</th><th scope=col>randomForest_simples</th><th scope=col>KSVM_simples</th><th scope=col>MLPE_simples</th><th scope=col>MLPE_CasesSeries</th><th scope=col>MLPE_GW</th><th scope=col>HW_GW</th><th scope=col>Arima_GW</th><th scope=col>NN_GW</th><th scope=col>RandomForest_GW</th><th scope=col>MLPE_RW</th><th scope=col>HW_RW</th><th scope=col>Arima_RW</th><th scope=col>NN_RW</th><th scope=col>RandomForest_RW</th><th scope=col>MLPE_TSF_rminer</th><th scope=col>RF_TSF_rminer</th><th scope=col>HW_TSF_forecast</th><th scope=col>Arima_TSF_forecast</th><th scope=col>NN_TSF_forecast</th></tr></thead>\n",
       "<tbody>\n",
       "\t<tr><td>MAE       </td><td>1081.92   </td><td>1200.49   </td><td>978.42    </td><td>813.74246 </td><td>658.9465  </td><td>567.170699</td><td>580.997314</td><td>1531.59721</td><td>657.1372  </td><td>690.53154 </td><td>686.82508 </td><td>741.5507  </td><td>1441.59668</td><td>657.1372  </td><td>763.49722 </td><td>1012.4455 </td><td>1186.77419</td><td>1018.12909</td><td>1428.72824</td></tr>\n",
       "\t<tr><td>NMAE      </td><td>  36.04   </td><td>  39.99   </td><td> 32.59    </td><td> 27.10668 </td><td> 11.3260  </td><td>  9.748551</td><td>  9.986203</td><td>  26.32515</td><td> 11.2949  </td><td> 11.86888 </td><td> 11.80517 </td><td> 12.7458  </td><td>  24.77822</td><td> 11.2949  </td><td> 25.43295 </td><td>  33.7257 </td><td>  39.53278</td><td>  33.91503</td><td>  47.59255</td></tr>\n",
       "</tbody>\n",
       "</table>\n"
      ],
      "text/latex": [
       "\\begin{tabular}{r|llllllllllllllllllll}\n",
       " METRICA\\_MODELO & randomForest\\_simples & KSVM\\_simples & MLPE\\_simples & MLPE\\_CasesSeries & MLPE\\_GW & HW\\_GW & Arima\\_GW & NN\\_GW & RandomForest\\_GW & MLPE\\_RW & HW\\_RW & Arima\\_RW & NN\\_RW & RandomForest\\_RW & MLPE\\_TSF\\_rminer & RF\\_TSF\\_rminer & HW\\_TSF\\_forecast & Arima\\_TSF\\_forecast & NN\\_TSF\\_forecast\\\\\n",
       "\\hline\n",
       "\t MAE        & 1081.92    & 1200.49    & 978.42     & 813.74246  & 658.9465   & 567.170699 & 580.997314 & 1531.59721 & 657.1372   & 690.53154  & 686.82508  & 741.5507   & 1441.59668 & 657.1372   & 763.49722  & 1012.4455  & 1186.77419 & 1018.12909 & 1428.72824\\\\\n",
       "\t NMAE       &   36.04    &   39.99    &  32.59     &  27.10668  &  11.3260   &   9.748551 &   9.986203 &   26.32515 &  11.2949   &  11.86888  &  11.80517  &  12.7458   &   24.77822 &  11.2949   &  25.43295  &   33.7257  &   39.53278 &   33.91503 &   47.59255\\\\\n",
       "\\end{tabular}\n"
      ],
      "text/markdown": [
       "\n",
       "| METRICA_MODELO | randomForest_simples | KSVM_simples | MLPE_simples | MLPE_CasesSeries | MLPE_GW | HW_GW | Arima_GW | NN_GW | RandomForest_GW | MLPE_RW | HW_RW | Arima_RW | NN_RW | RandomForest_RW | MLPE_TSF_rminer | RF_TSF_rminer | HW_TSF_forecast | Arima_TSF_forecast | NN_TSF_forecast |\n",
       "|---|---|---|---|---|---|---|---|---|---|---|---|---|---|---|---|---|---|---|---|\n",
       "| MAE        | 1081.92    | 1200.49    | 978.42     | 813.74246  | 658.9465   | 567.170699 | 580.997314 | 1531.59721 | 657.1372   | 690.53154  | 686.82508  | 741.5507   | 1441.59668 | 657.1372   | 763.49722  | 1012.4455  | 1186.77419 | 1018.12909 | 1428.72824 |\n",
       "| NMAE       |   36.04    |   39.99    |  32.59     |  27.10668  |  11.3260   |   9.748551 |   9.986203 |   26.32515 |  11.2949   |  11.86888  |  11.80517  |  12.7458   |   24.77822 |  11.2949   |  25.43295  |   33.7257  |   39.53278 |   33.91503 |   47.59255 |\n",
       "\n"
      ],
      "text/plain": [
       "  METRICA_MODELO randomForest_simples KSVM_simples MLPE_simples\n",
       "1 MAE            1081.92              1200.49      978.42      \n",
       "2 NMAE             36.04                39.99       32.59      \n",
       "  MLPE_CasesSeries MLPE_GW  HW_GW      Arima_GW   NN_GW      RandomForest_GW\n",
       "1 813.74246        658.9465 567.170699 580.997314 1531.59721 657.1372       \n",
       "2  27.10668         11.3260   9.748551   9.986203   26.32515  11.2949       \n",
       "  MLPE_RW   HW_RW     Arima_RW NN_RW      RandomForest_RW MLPE_TSF_rminer\n",
       "1 690.53154 686.82508 741.5507 1441.59668 657.1372        763.49722      \n",
       "2  11.86888  11.80517  12.7458   24.77822  11.2949         25.43295      \n",
       "  RF_TSF_rminer HW_TSF_forecast Arima_TSF_forecast NN_TSF_forecast\n",
       "1 1012.4455     1186.77419      1018.12909         1428.72824     \n",
       "2   33.7257       39.53278        33.91503           47.59255     "
      ]
     },
     "metadata": {},
     "output_type": "display_data"
    },
    {
     "data": {
      "image/png": "[encoded data removed]",
      "text/plain": [
       "Plot with title \"\""
      ]
     },
     "metadata": {},
     "output_type": "display_data"
    }
   ],
   "source": [
    "NN1=nnetar(TR,P=1,repeats=3)\n",
    "print(NN1)\n",
    "F3=forecast(NN1,h=H)\n",
    "Pred3=F3$mean[1:H] # HolWinters format\n",
    "mgraph(Y,Pred3,graph=\"REG\",Grid=10,col=c(\"black\",\"blue\"),leg=list(pos=\"topleft\",leg=c(\"target\",\"NN1 pred.\")))\n",
    "\n",
    "mae = mmetric(Y,Pred3,metric=\"MAE\")\n",
    "nmae = mmetric(Y,Pred3,metric=\"NMAE\")\n",
    "\n",
    "# Metricas\n",
    "cat(\"MAE:\",mae,\"\\n\")\n",
    "cat(\"NMAE:\",nmae,\"\\n\")\n",
    "\n",
    "# Guardar os Resultados\n",
    "nomeModelo = \"NN_TSF_forecast\"\n",
    "resdf[nomeModelo] = c(mae,nmae)\n",
    "resdf"
   ]
  },
  {
   "cell_type": "markdown",
   "id": "f1339f35",
   "metadata": {},
   "source": [
    "### TSF ETS Forecast"
   ]
  },
  {
   "cell_type": "code",
   "execution_count": 490,
   "id": "bf36fcb3",
   "metadata": {},
   "outputs": [
    {
     "name": "stdout",
     "output_type": "stream",
     "text": [
      "Series: TR \n",
      "Model:  NNAR(16,1,8)[7] \n",
      "Call:   nnetar(y = TR, P = 1, repeats = 3)\n",
      "\n",
      "Average of 3 networks, each of which is\n",
      "a 16-8-1 network with 145 weights\n",
      "options were - linear output units \n",
      "\n",
      "sigma^2 estimated as 39010\n",
      "MAE: 1406.347 \n",
      "NMAE: 46.84699 \n"
     ]
    },
    {
     "data": {
      "text/html": [
       "<table>\n",
       "<thead><tr><th scope=col>METRICA_MODELO</th><th scope=col>randomForest_simples</th><th scope=col>KSVM_simples</th><th scope=col>MLPE_simples</th><th scope=col>MLPE_CasesSeries</th><th scope=col>MLPE_GW</th><th scope=col>HW_GW</th><th scope=col>Arima_GW</th><th scope=col>NN_GW</th><th scope=col>RandomForest_GW</th><th scope=col>...</th><th scope=col>HW_RW</th><th scope=col>Arima_RW</th><th scope=col>NN_RW</th><th scope=col>RandomForest_RW</th><th scope=col>MLPE_TSF_rminer</th><th scope=col>RF_TSF_rminer</th><th scope=col>HW_TSF_forecast</th><th scope=col>Arima_TSF_forecast</th><th scope=col>NN_TSF_forecast</th><th scope=col>ETS_TSF_forecast</th></tr></thead>\n",
       "<tbody>\n",
       "\t<tr><td>MAE       </td><td>1081.92   </td><td>1200.49   </td><td>978.42    </td><td>813.74246 </td><td>658.9465  </td><td>567.170699</td><td>580.997314</td><td>1531.59721</td><td>657.1372  </td><td>...       </td><td>686.82508 </td><td>741.5507  </td><td>1441.59668</td><td>657.1372  </td><td>763.49722 </td><td>1012.4455 </td><td>1186.77419</td><td>1018.12909</td><td>1428.72824</td><td>1406.34675</td></tr>\n",
       "\t<tr><td>NMAE      </td><td>  36.04   </td><td>  39.99   </td><td> 32.59    </td><td> 27.10668 </td><td> 11.3260  </td><td>  9.748551</td><td>  9.986203</td><td>  26.32515</td><td> 11.2949  </td><td>...       </td><td> 11.80517 </td><td> 12.7458  </td><td>  24.77822</td><td> 11.2949  </td><td> 25.43295 </td><td>  33.7257 </td><td>  39.53278</td><td>  33.91503</td><td>  47.59255</td><td>  46.84699</td></tr>\n",
       "</tbody>\n",
       "</table>\n"
      ],
      "text/latex": [
       "\\begin{tabular}{r|lllllllllllllllllllll}\n",
       " METRICA\\_MODELO & randomForest\\_simples & KSVM\\_simples & MLPE\\_simples & MLPE\\_CasesSeries & MLPE\\_GW & HW\\_GW & Arima\\_GW & NN\\_GW & RandomForest\\_GW & ... & HW\\_RW & Arima\\_RW & NN\\_RW & RandomForest\\_RW & MLPE\\_TSF\\_rminer & RF\\_TSF\\_rminer & HW\\_TSF\\_forecast & Arima\\_TSF\\_forecast & NN\\_TSF\\_forecast & ETS\\_TSF\\_forecast\\\\\n",
       "\\hline\n",
       "\t MAE        & 1081.92    & 1200.49    & 978.42     & 813.74246  & 658.9465   & 567.170699 & 580.997314 & 1531.59721 & 657.1372   & ...        & 686.82508  & 741.5507   & 1441.59668 & 657.1372   & 763.49722  & 1012.4455  & 1186.77419 & 1018.12909 & 1428.72824 & 1406.34675\\\\\n",
       "\t NMAE       &   36.04    &   39.99    &  32.59     &  27.10668  &  11.3260   &   9.748551 &   9.986203 &   26.32515 &  11.2949   & ...        &  11.80517  &  12.7458   &   24.77822 &  11.2949   &  25.43295  &   33.7257  &   39.53278 &   33.91503 &   47.59255 &   46.84699\\\\\n",
       "\\end{tabular}\n"
      ],
      "text/markdown": [
       "\n",
       "| METRICA_MODELO | randomForest_simples | KSVM_simples | MLPE_simples | MLPE_CasesSeries | MLPE_GW | HW_GW | Arima_GW | NN_GW | RandomForest_GW | ... | HW_RW | Arima_RW | NN_RW | RandomForest_RW | MLPE_TSF_rminer | RF_TSF_rminer | HW_TSF_forecast | Arima_TSF_forecast | NN_TSF_forecast | ETS_TSF_forecast |\n",
       "|---|---|---|---|---|---|---|---|---|---|---|---|---|---|---|---|---|---|---|---|---|\n",
       "| MAE        | 1081.92    | 1200.49    | 978.42     | 813.74246  | 658.9465   | 567.170699 | 580.997314 | 1531.59721 | 657.1372   | ...        | 686.82508  | 741.5507   | 1441.59668 | 657.1372   | 763.49722  | 1012.4455  | 1186.77419 | 1018.12909 | 1428.72824 | 1406.34675 |\n",
       "| NMAE       |   36.04    |   39.99    |  32.59     |  27.10668  |  11.3260   |   9.748551 |   9.986203 |   26.32515 |  11.2949   | ...        |  11.80517  |  12.7458   |   24.77822 |  11.2949   |  25.43295  |   33.7257  |   39.53278 |   33.91503 |   47.59255 |   46.84699 |\n",
       "\n"
      ],
      "text/plain": [
       "  METRICA_MODELO randomForest_simples KSVM_simples MLPE_simples\n",
       "1 MAE            1081.92              1200.49      978.42      \n",
       "2 NMAE             36.04                39.99       32.59      \n",
       "  MLPE_CasesSeries MLPE_GW  HW_GW      Arima_GW   NN_GW      RandomForest_GW\n",
       "1 813.74246        658.9465 567.170699 580.997314 1531.59721 657.1372       \n",
       "2  27.10668         11.3260   9.748551   9.986203   26.32515  11.2949       \n",
       "  ... HW_RW     Arima_RW NN_RW      RandomForest_RW MLPE_TSF_rminer\n",
       "1 ... 686.82508 741.5507 1441.59668 657.1372        763.49722      \n",
       "2 ...  11.80517  12.7458   24.77822  11.2949         25.43295      \n",
       "  RF_TSF_rminer HW_TSF_forecast Arima_TSF_forecast NN_TSF_forecast\n",
       "1 1012.4455     1186.77419      1018.12909         1428.72824     \n",
       "2   33.7257       39.53278        33.91503           47.59255     \n",
       "  ETS_TSF_forecast\n",
       "1 1406.34675      \n",
       "2   46.84699      "
      ]
     },
     "metadata": {},
     "output_type": "display_data"
    },
    {
     "data": {
      "image/png": "[encoded data removed]",
      "text/plain": [
       "Plot with title \"\""
      ]
     },
     "metadata": {},
     "output_type": "display_data"
    }
   ],
   "source": [
    "NN1=nnetar(TR,P=1,repeats=3)\n",
    "print(NN1)\n",
    "F3=forecast(NN1,h=H)\n",
    "Pred3=F3$mean[1:H] # HolWinters format\n",
    "mgraph(Y,Pred3,graph=\"REG\",Grid=10,col=c(\"black\",\"blue\"),leg=list(pos=\"topleft\",leg=c(\"target\",\"NN1 pred.\")))\n",
    "\n",
    "mae = mmetric(Y,Pred3,metric=\"MAE\")\n",
    "nmae = mmetric(Y,Pred3,metric=\"NMAE\")\n",
    "\n",
    "# Metricas\n",
    "cat(\"MAE:\",mae,\"\\n\")\n",
    "cat(\"NMAE:\",nmae,\"\\n\")\n",
    "\n",
    "# Guardar os Resultados\n",
    "nomeModelo = \"ETS_TSF_forecast\"\n",
    "resdf[nomeModelo] = c(mae,nmae)\n",
    "resdf"
   ]
  },
  {
   "cell_type": "markdown",
   "id": "cc88af17",
   "metadata": {},
   "source": [
    "### TSF MLPE RMiner"
   ]
  },
  {
   "cell_type": "code",
   "execution_count": 491,
   "id": "40baf3b7",
   "metadata": {},
   "outputs": [
    {
     "name": "stdout",
     "output_type": "stream",
     "text": [
      "SMAPE:  12.48 \n",
      "MAE: 541.53 \n",
      "NMAE: 18.04 \n"
     ]
    },
    {
     "data": {
      "text/html": [
       "<table>\n",
       "<thead><tr><th scope=col>METRICA_MODELO</th><th scope=col>randomForest_simples</th><th scope=col>KSVM_simples</th><th scope=col>MLPE_simples</th><th scope=col>MLPE_CasesSeries</th><th scope=col>MLPE_GW</th><th scope=col>HW_GW</th><th scope=col>Arima_GW</th><th scope=col>NN_GW</th><th scope=col>RandomForest_GW</th><th scope=col>...</th><th scope=col>HW_RW</th><th scope=col>Arima_RW</th><th scope=col>NN_RW</th><th scope=col>RandomForest_RW</th><th scope=col>MLPE_TSF_rminer</th><th scope=col>RF_TSF_rminer</th><th scope=col>HW_TSF_forecast</th><th scope=col>Arima_TSF_forecast</th><th scope=col>NN_TSF_forecast</th><th scope=col>ETS_TSF_forecast</th></tr></thead>\n",
       "<tbody>\n",
       "\t<tr><td>MAE       </td><td>1081.92   </td><td>1200.49   </td><td>978.42    </td><td>813.74246 </td><td>658.9465  </td><td>567.170699</td><td>580.997314</td><td>1531.59721</td><td>657.1372  </td><td>...       </td><td>686.82508 </td><td>741.5507  </td><td>1441.59668</td><td>657.1372  </td><td>541.53    </td><td>1012.4455 </td><td>1186.77419</td><td>1018.12909</td><td>1428.72824</td><td>1406.34675</td></tr>\n",
       "\t<tr><td>NMAE      </td><td>  36.04   </td><td>  39.99   </td><td> 32.59    </td><td> 27.10668 </td><td> 11.3260  </td><td>  9.748551</td><td>  9.986203</td><td>  26.32515</td><td> 11.2949  </td><td>...       </td><td> 11.80517 </td><td> 12.7458  </td><td>  24.77822</td><td> 11.2949  </td><td> 18.04    </td><td>  33.7257 </td><td>  39.53278</td><td>  33.91503</td><td>  47.59255</td><td>  46.84699</td></tr>\n",
       "</tbody>\n",
       "</table>\n"
      ],
      "text/latex": [
       "\\begin{tabular}{r|lllllllllllllllllllll}\n",
       " METRICA\\_MODELO & randomForest\\_simples & KSVM\\_simples & MLPE\\_simples & MLPE\\_CasesSeries & MLPE\\_GW & HW\\_GW & Arima\\_GW & NN\\_GW & RandomForest\\_GW & ... & HW\\_RW & Arima\\_RW & NN\\_RW & RandomForest\\_RW & MLPE\\_TSF\\_rminer & RF\\_TSF\\_rminer & HW\\_TSF\\_forecast & Arima\\_TSF\\_forecast & NN\\_TSF\\_forecast & ETS\\_TSF\\_forecast\\\\\n",
       "\\hline\n",
       "\t MAE        & 1081.92    & 1200.49    & 978.42     & 813.74246  & 658.9465   & 567.170699 & 580.997314 & 1531.59721 & 657.1372   & ...        & 686.82508  & 741.5507   & 1441.59668 & 657.1372   & 541.53     & 1012.4455  & 1186.77419 & 1018.12909 & 1428.72824 & 1406.34675\\\\\n",
       "\t NMAE       &   36.04    &   39.99    &  32.59     &  27.10668  &  11.3260   &   9.748551 &   9.986203 &   26.32515 &  11.2949   & ...        &  11.80517  &  12.7458   &   24.77822 &  11.2949   &  18.04     &   33.7257  &   39.53278 &   33.91503 &   47.59255 &   46.84699\\\\\n",
       "\\end{tabular}\n"
      ],
      "text/markdown": [
       "\n",
       "| METRICA_MODELO | randomForest_simples | KSVM_simples | MLPE_simples | MLPE_CasesSeries | MLPE_GW | HW_GW | Arima_GW | NN_GW | RandomForest_GW | ... | HW_RW | Arima_RW | NN_RW | RandomForest_RW | MLPE_TSF_rminer | RF_TSF_rminer | HW_TSF_forecast | Arima_TSF_forecast | NN_TSF_forecast | ETS_TSF_forecast |\n",
       "|---|---|---|---|---|---|---|---|---|---|---|---|---|---|---|---|---|---|---|---|---|\n",
       "| MAE        | 1081.92    | 1200.49    | 978.42     | 813.74246  | 658.9465   | 567.170699 | 580.997314 | 1531.59721 | 657.1372   | ...        | 686.82508  | 741.5507   | 1441.59668 | 657.1372   | 541.53     | 1012.4455  | 1186.77419 | 1018.12909 | 1428.72824 | 1406.34675 |\n",
       "| NMAE       |   36.04    |   39.99    |  32.59     |  27.10668  |  11.3260   |   9.748551 |   9.986203 |   26.32515 |  11.2949   | ...        |  11.80517  |  12.7458   |   24.77822 |  11.2949   |  18.04     |   33.7257  |   39.53278 |   33.91503 |   47.59255 |   46.84699 |\n",
       "\n"
      ],
      "text/plain": [
       "  METRICA_MODELO randomForest_simples KSVM_simples MLPE_simples\n",
       "1 MAE            1081.92              1200.49      978.42      \n",
       "2 NMAE             36.04                39.99       32.59      \n",
       "  MLPE_CasesSeries MLPE_GW  HW_GW      Arima_GW   NN_GW      RandomForest_GW\n",
       "1 813.74246        658.9465 567.170699 580.997314 1531.59721 657.1372       \n",
       "2  27.10668         11.3260   9.748551   9.986203   26.32515  11.2949       \n",
       "  ... HW_RW     Arima_RW NN_RW      RandomForest_RW MLPE_TSF_rminer\n",
       "1 ... 686.82508 741.5507 1441.59668 657.1372        541.53         \n",
       "2 ...  11.80517  12.7458   24.77822  11.2949         18.04         \n",
       "  RF_TSF_rminer HW_TSF_forecast Arima_TSF_forecast NN_TSF_forecast\n",
       "1 1012.4455     1186.77419      1018.12909         1428.72824     \n",
       "2   33.7257       39.53278        33.91503           47.59255     \n",
       "  ETS_TSF_forecast\n",
       "1 1406.34675      \n",
       "2   46.84699      "
      ]
     },
     "metadata": {},
     "output_type": "display_data"
    },
    {
     "data": {
      "image/png": "[encoded data removed]",
      "text/plain": [
       "Plot with title \"\""
      ]
     },
     "metadata": {},
     "output_type": "display_data"
    }
   ],
   "source": [
    "d1 = data[,1] #coluna all\n",
    "L = length(d1)\n",
    "K=7\n",
    "\n",
    "timelags = c(1:7)\n",
    "D = CasesSeries(d1,timelags)\n",
    "\n",
    "H=holdout(data$all,ratio=7,mode=\"order\")\n",
    "M=fit(y~.,D[H$tr,],model=\"mlpe\") # create forecasting model\n",
    "Pred=lforecast(M,D,start=(length(H$tr)+1),7)\n",
    "\n",
    "Target = d1[H$ts]\n",
    "\n",
    "mae = round(mmetric(Target,Pred,metric=\"MAE\"),2)\n",
    "nmae = round(mmetric(Target,Pred,metric=\"NMAE\"),2)\n",
    "cat(\"SMAPE: \",round(mmetric(Target,Pred,metric=\"SMAPE\"),2),\"\\n\")\n",
    "\n",
    "# last iteration predictions:\n",
    "mgraph(Target,Pred,graph=\"REG\",Grid=10,col=c(\"black\",\"blue\"),\n",
    "leg=list(pos=\"topleft\",leg=c(\"target\",\"predictions\")))\n",
    "\n",
    "\n",
    "\n",
    "# Metricas\n",
    "cat(\"MAE:\",mae,\"\\n\")\n",
    "cat(\"NMAE:\",nmae,\"\\n\")\n",
    "\n",
    "# Guardar os Resultados\n",
    "nomeModelo = \"MLPE_TSF_rminer\"\n",
    "resdf[nomeModelo] = c(mae,nmae)\n",
    "resdf"
   ]
  },
  {
   "cell_type": "markdown",
   "id": "897b2354",
   "metadata": {},
   "source": [
    "### Comparison TSF (Rminer)"
   ]
  },
  {
   "cell_type": "code",
   "execution_count": 495,
   "id": "41ebefae",
   "metadata": {},
   "outputs": [],
   "source": [
    "d1 = data[,1] #coluna all\n",
    "L = length(d1)\n",
    "K=7\n",
    "\n",
    "timelags = c(1:7)\n",
    "D = CasesSeries(d1,timelags)\n",
    "\n",
    "models <- c(\"lm\",\"mlpe\",\"naive\",\"ctree\",\"mlp\",\"randomForest\",\"mr\",\"rvm\")\n",
    "\n",
    "H=holdout(data$all,ratio=7,mode=\"order\")\n",
    "\n",
    "Target = d1[H$ts]"
   ]
  },
  {
   "cell_type": "code",
   "execution_count": 496,
   "id": "c7848f55",
   "metadata": {},
   "outputs": [
    {
     "name": "stdout",
     "output_type": "stream",
     "text": [
      "lm  - MAE -  379.2 \n",
      "lm  - NMAE -  12.63 \n",
      "----------------------------------------------------------------- \n",
      "mlpe  - MAE -  492.73 \n",
      "mlpe  - NMAE -  16.41 \n",
      "----------------------------------------------------------------- \n",
      "naive  - MAE -  1073.91 \n",
      "naive  - NMAE -  35.77 \n",
      "----------------------------------------------------------------- \n",
      "ctree  - MAE -  550.99 \n",
      "ctree  - NMAE -  18.35 \n",
      "----------------------------------------------------------------- \n",
      "mlp  - MAE -  1290.67 \n",
      "mlp  - NMAE -  42.99 \n",
      "----------------------------------------------------------------- \n",
      "randomForest  - MAE -  509.74 \n",
      "randomForest  - NMAE -  16.98 \n",
      "----------------------------------------------------------------- \n",
      "mr  - MAE -  379.2 \n",
      "mr  - NMAE -  12.63 \n",
      "----------------------------------------------------------------- \n",
      "rvm  - MAE -  831.99 \n",
      "rvm  - NMAE -  27.71 \n",
      "----------------------------------------------------------------- \n"
     ]
    }
   ],
   "source": [
    "for (x in 1:length(models)) {\n",
    "  M=fit(y~.,D[H$tr,],model=models[x]) # create forecasting model\n",
    "  Pred=lforecast(M,D,start=(length(H$tr)+1),7)\n",
    "  mae = round(mmetric(Target,Pred,metric=\"MAE\"),2)\n",
    "  nmae = round(mmetric(Target,Pred,metric=\"NMAE\"),2)\n",
    "  cat(models[x],\" - MAE - \",mae,\"\\n\")\n",
    "  cat(models[x],\" - NMAE - \",nmae,\"\\n\")\n",
    "  cat(\"----------------------------------------------------------------- \\n\")\n",
    "  # Guardar os Resultados\n",
    "  nomeModelo = paste(models[x],\"TSF_rminer\",sep=\"_\")\n",
    "  resdf[nomeModelo] = c(mae,nmae)\n",
    "}"
   ]
  },
  {
   "cell_type": "code",
   "execution_count": 387,
   "id": "84d1e271",
   "metadata": {},
   "outputs": [
    {
     "data": {
      "text/html": [
       "<table>\n",
       "<thead><tr><th scope=col>METRICA_MODELO</th><th scope=col>randomForest_simples</th><th scope=col>MR_Simples</th><th scope=col>KSVM_simples</th><th scope=col>MLPE_simples</th><th scope=col>MLPE_CasesSeries</th><th scope=col>MLPE_GW</th><th scope=col>HW_GW</th><th scope=col>Arima_GW</th><th scope=col>NN_GW</th><th scope=col>...</th><th scope=col>NN_TSF_rminer</th><th scope=col>ETS_TSF_rminer</th><th scope=col>lm__TSF_rminer</th><th scope=col>mlpe__TSF_rminer</th><th scope=col>naive__TSF_rminer</th><th scope=col>ctree__TSF_rminer</th><th scope=col>mlp__TSF_rminer</th><th scope=col>randomForest__TSF_rminer</th><th scope=col>mr__TSF_rminer</th><th scope=col>rvm__TSF_rminer</th></tr></thead>\n",
       "<tbody>\n",
       "\t<tr><td>MAE       </td><td>1014.52   </td><td>1361.09   </td><td>1122.23   </td><td>1184.51   </td><td>856.50801 </td><td>942.268984</td><td>567.170699</td><td>580.997314</td><td>2023.13141</td><td>...       </td><td>1011.65344</td><td>904.78671 </td><td>513.39    </td><td>897.15    </td><td>985.45    </td><td>781.12    </td><td>770.33    </td><td>584.91    </td><td>513.39    </td><td>738.23    </td></tr>\n",
       "\t<tr><td>NMAE      </td><td>  33.79   </td><td>  45.34   </td><td>  37.38   </td><td>  39.46   </td><td> 28.53125 </td><td>  6.134564</td><td>  3.692518</td><td>  3.782535</td><td>  13.17143</td><td>...       </td><td>  33.69932</td><td> 30.13946 </td><td> 17.10    </td><td> 29.88    </td><td> 32.83    </td><td> 26.02    </td><td> 25.66    </td><td> 19.48    </td><td> 17.10    </td><td> 24.59    </td></tr>\n",
       "</tbody>\n",
       "</table>\n"
      ],
      "text/latex": [
       "\\begin{tabular}{r|llllllllllllllllllllllllllllll}\n",
       " METRICA\\_MODELO & randomForest\\_simples & MR\\_Simples & KSVM\\_simples & MLPE\\_simples & MLPE\\_CasesSeries & MLPE\\_GW & HW\\_GW & Arima\\_GW & NN\\_GW & ... & NN\\_TSF\\_rminer & ETS\\_TSF\\_rminer & lm\\_\\_TSF\\_rminer & mlpe\\_\\_TSF\\_rminer & naive\\_\\_TSF\\_rminer & ctree\\_\\_TSF\\_rminer & mlp\\_\\_TSF\\_rminer & randomForest\\_\\_TSF\\_rminer & mr\\_\\_TSF\\_rminer & rvm\\_\\_TSF\\_rminer\\\\\n",
       "\\hline\n",
       "\t MAE        & 1014.52    & 1361.09    & 1122.23    & 1184.51    & 856.50801  & 942.268984 & 567.170699 & 580.997314 & 2023.13141 & ...        & 1011.65344 & 904.78671  & 513.39     & 897.15     & 985.45     & 781.12     & 770.33     & 584.91     & 513.39     & 738.23    \\\\\n",
       "\t NMAE       &   33.79    &   45.34    &   37.38    &   39.46    &  28.53125  &   6.134564 &   3.692518 &   3.782535 &   13.17143 & ...        &   33.69932 &  30.13946  &  17.10     &  29.88     &  32.83     &  26.02     &  25.66     &  19.48     &  17.10     &  24.59    \\\\\n",
       "\\end{tabular}\n"
      ],
      "text/markdown": [
       "\n",
       "| METRICA_MODELO | randomForest_simples | MR_Simples | KSVM_simples | MLPE_simples | MLPE_CasesSeries | MLPE_GW | HW_GW | Arima_GW | NN_GW | ... | NN_TSF_rminer | ETS_TSF_rminer | lm__TSF_rminer | mlpe__TSF_rminer | naive__TSF_rminer | ctree__TSF_rminer | mlp__TSF_rminer | randomForest__TSF_rminer | mr__TSF_rminer | rvm__TSF_rminer |\n",
       "|---|---|---|---|---|---|---|---|---|---|---|---|---|---|---|---|---|---|---|---|---|\n",
       "| MAE        | 1014.52    | 1361.09    | 1122.23    | 1184.51    | 856.50801  | 942.268984 | 567.170699 | 580.997314 | 2023.13141 | ...        | 1011.65344 | 904.78671  | 513.39     | 897.15     | 985.45     | 781.12     | 770.33     | 584.91     | 513.39     | 738.23     |\n",
       "| NMAE       |   33.79    |   45.34    |   37.38    |   39.46    |  28.53125  |   6.134564 |   3.692518 |   3.782535 |   13.17143 | ...        |   33.69932 |  30.13946  |  17.10     |  29.88     |  32.83     |  26.02     |  25.66     |  19.48     |  17.10     |  24.59     |\n",
       "\n"
      ],
      "text/plain": [
       "  METRICA_MODELO randomForest_simples MR_Simples KSVM_simples MLPE_simples\n",
       "1 MAE            1014.52              1361.09    1122.23      1184.51     \n",
       "2 NMAE             33.79                45.34      37.38        39.46     \n",
       "  MLPE_CasesSeries MLPE_GW    HW_GW      Arima_GW   NN_GW      ...\n",
       "1 856.50801        942.268984 567.170699 580.997314 2023.13141 ...\n",
       "2  28.53125          6.134564   3.692518   3.782535   13.17143 ...\n",
       "  NN_TSF_rminer ETS_TSF_rminer lm__TSF_rminer mlpe__TSF_rminer\n",
       "1 1011.65344    904.78671      513.39         897.15          \n",
       "2   33.69932     30.13946       17.10          29.88          \n",
       "  naive__TSF_rminer ctree__TSF_rminer mlp__TSF_rminer randomForest__TSF_rminer\n",
       "1 985.45            781.12            770.33          584.91                  \n",
       "2  32.83             26.02             25.66           19.48                  \n",
       "  mr__TSF_rminer rvm__TSF_rminer\n",
       "1 513.39         738.23         \n",
       "2  17.10          24.59         "
      ]
     },
     "metadata": {},
     "output_type": "display_data"
    }
   ],
   "source": [
    "resdf"
   ]
  },
  {
   "cell_type": "markdown",
   "id": "6385247b",
   "metadata": {},
   "source": [
    "### Comparison TSF (Forecast)"
   ]
  },
  {
   "cell_type": "code",
   "execution_count": 498,
   "id": "bafc2cd3",
   "metadata": {},
   "outputs": [
    {
     "name": "stdout",
     "output_type": "stream",
     "text": [
      "HW  - MAE -  1186.77 \n",
      "HW  - NMAE -  39.53 \n",
      "ARIMA  - MAE -  1018.13 \n",
      "ARIMA  - NMAE -  33.92 \n",
      "NN  - MAE -  1797.25 \n",
      "NN  - NMAE -  59.87 \n",
      "ETS  - MAE -  1042.7 \n",
      "ETS  - NMAE -  34.73 \n"
     ]
    }
   ],
   "source": [
    "LTR = L-K\n",
    "TS = ts(d1[1:LTR], frequency=7)\n",
    "\n",
    "\n",
    "# HW\n",
    "HW = suppressWarnings(HoltWinters(TS))\n",
    "F=forecast(HW,h=7)\n",
    "Pred=F$mean[1:7] # HolWinters format\n",
    "\n",
    "mae = round(mmetric(Target,Pred,metric=\"MAE\"),2)\n",
    "nmae = round(mmetric(Target,Pred,metric=\"NMAE\"),2)\n",
    "cat(\"HW\",\" - MAE - \",mae,\"\\n\")\n",
    "cat(\"HW\",\" - NMAE - \",nmae,\"\\n\")\n",
    "\n",
    "\n",
    "# ARIMA\n",
    "AR=auto.arima(TS)\n",
    "F1=forecast(AR,h=7)\n",
    "Pred1=F1$mean[1:7]\n",
    "\n",
    "mae = round(mmetric(Target,Pred1,metric=\"MAE\"),2)\n",
    "nmae = round(mmetric(Target,Pred1,metric=\"NMAE\"),2)\n",
    "cat(\"ARIMA\",\" - MAE - \",mae,\"\\n\")\n",
    "cat(\"ARIMA\",\" - NMAE - \",nmae,\"\\n\")\n",
    "\n",
    "\n",
    "# NN\n",
    "NN1=nnetar(TS,P=1,repeats=3)\n",
    "F3=forecast(NN1,h=7)\n",
    "Pred2=F3$mean[1:7] # HolWinters format\n",
    "\n",
    "mae = round(mmetric(Target,Pred2,metric=\"MAE\"),2)\n",
    "nmae = round(mmetric(Target,Pred2,metric=\"NMAE\"),2)\n",
    "cat(\"NN\",\" - MAE - \",mae,\"\\n\")\n",
    "cat(\"NN\",\" - NMAE - \",nmae,\"\\n\")\n",
    "\n",
    "\n",
    "# ETS\n",
    "ETS=ets(TS)\n",
    "F4=forecast(ETS,h=7)\n",
    "Pred3=F4$mean[1:7]\n",
    "\n",
    "mae = round(mmetric(Target,Pred3,metric=\"MAE\"),2)\n",
    "nmae = round(mmetric(Target,Pred3,metric=\"NMAE\"),2)\n",
    "cat(\"ETS\",\" - MAE - \",mae,\"\\n\")\n",
    "cat(\"ETS\",\" - NMAE - \",nmae,\"\\n\")"
   ]
  },
  {
   "cell_type": "markdown",
   "id": "453c684b",
   "metadata": {},
   "source": [
    "## Modelo Hibrido Simples"
   ]
  },
  {
   "cell_type": "code",
   "execution_count": 499,
   "id": "a94b5b32",
   "metadata": {},
   "outputs": [],
   "source": [
    "#Data Prep\n",
    "d1 = data[,1] #coluna all\n",
    "L = length(d1)\n",
    "K=7\n",
    "\n",
    "timelags = c(1:7)\n",
    "D = CasesSeries(d1,timelags)"
   ]
  },
  {
   "cell_type": "code",
   "execution_count": 500,
   "id": "9bc46572",
   "metadata": {},
   "outputs": [],
   "source": [
    "# Data Seperation\n",
    "H=holdout(data$all,ratio=7,mode=\"order\")\n",
    "# Model Training\n",
    "M=fit(y~.,D[H$tr,],model=\"mlpe\") # create forecasting model\n",
    "# Forecast\n",
    "Pred=lforecast(M,D,start=(length(H$tr)+1),7)\n"
   ]
  },
  {
   "cell_type": "code",
   "execution_count": 501,
   "id": "594837d8",
   "metadata": {},
   "outputs": [
    {
     "name": "stdout",
     "output_type": "stream",
     "text": [
      "SMAPE:  14.06 \n",
      "MAE:  613.76 \n",
      "NMAE:  20.45 \n"
     ]
    },
    {
     "data": {
      "image/png": "[encoded data removed]",
      "text/plain": [
       "Plot with title \"\""
      ]
     },
     "metadata": {},
     "output_type": "display_data"
    }
   ],
   "source": [
    "# Metrics\n",
    "Target = d1[H$ts]\n",
    "\n",
    "cat(\"SMAPE: \",round(mmetric(Target,Pred,metric=\"SMAPE\"),2),\"\\n\")\n",
    "cat(\"MAE: \",round(mmetric(Target,Pred,metric=\"MAE\"),2),\"\\n\")\n",
    "cat(\"NMAE: \",round(mmetric(Target,Pred,metric=\"NMAE\"),2),\"\\n\")\n",
    "\n",
    "# last iteration predictions:\n",
    "mgraph(Target,Pred,graph=\"REG\",Grid=10,col=c(\"black\",\"blue\"),\n",
    "leg=list(pos=\"topleft\",leg=c(\"target\",\"predictions\")))"
   ]
  },
  {
   "cell_type": "code",
   "execution_count": 502,
   "id": "77cafc8a",
   "metadata": {},
   "outputs": [
    {
     "data": {
      "text/html": [
       "250"
      ],
      "text/latex": [
       "250"
      ],
      "text/markdown": [
       "250"
      ],
      "text/plain": [
       "[1] 250"
      ]
     },
     "metadata": {},
     "output_type": "display_data"
    },
    {
     "data": {
      "text/html": [
       "7"
      ],
      "text/latex": [
       "7"
      ],
      "text/markdown": [
       "7"
      ],
      "text/plain": [
       "[1] 7"
      ]
     },
     "metadata": {},
     "output_type": "display_data"
    },
    {
     "data": {
      "text/html": [
       "257"
      ],
      "text/latex": [
       "257"
      ],
      "text/markdown": [
       "257"
      ],
      "text/plain": [
       "[1] 257"
      ]
     },
     "metadata": {},
     "output_type": "display_data"
    }
   ],
   "source": [
    "mfit=predict(M,D[H$tr,])\n",
    "df1 = data.frame(mfit)\n",
    "colnames(df1) <- \"pred\"\n",
    "df2 = data.frame(Pred)\n",
    "colnames(df2) <- \"pred\"\n",
    "df3 = rbind(df1,df2)\n",
    "\n",
    "nrow(df1)\n",
    "nrow(df2)\n",
    "nrow(df3)"
   ]
  },
  {
   "cell_type": "code",
   "execution_count": 503,
   "id": "77f102ce",
   "metadata": {},
   "outputs": [
    {
     "data": {
      "text/html": [
       "<table>\n",
       "<thead><tr><th scope=col>all</th><th scope=col>weather</th><th scope=col>maxtemp</th><th scope=col>RH</th><th scope=col>maxwind</th><th scope=col>pred</th></tr></thead>\n",
       "<tbody>\n",
       "\t<tr><td>2332    </td><td>0       </td><td>13      </td><td>87      </td><td> 0      </td><td>2613.499</td></tr>\n",
       "\t<tr><td>2801    </td><td>0       </td><td>14      </td><td>94      </td><td>45      </td><td>2661.502</td></tr>\n",
       "\t<tr><td>2375    </td><td>0       </td><td>14      </td><td>82      </td><td>55      </td><td>2727.522</td></tr>\n",
       "\t<tr><td>3447    </td><td>1       </td><td>13      </td><td>78      </td><td> 0      </td><td>3577.612</td></tr>\n",
       "\t<tr><td>4823    </td><td>0       </td><td>16      </td><td>81      </td><td>37      </td><td>4587.252</td></tr>\n",
       "\t<tr><td>4978    </td><td>0       </td><td>16      </td><td>73      </td><td> 0      </td><td>4363.844</td></tr>\n",
       "</tbody>\n",
       "</table>\n"
      ],
      "text/latex": [
       "\\begin{tabular}{r|llllll}\n",
       " all & weather & maxtemp & RH & maxwind & pred\\\\\n",
       "\\hline\n",
       "\t 2332     & 0        & 13       & 87       &  0       & 2613.499\\\\\n",
       "\t 2801     & 0        & 14       & 94       & 45       & 2661.502\\\\\n",
       "\t 2375     & 0        & 14       & 82       & 55       & 2727.522\\\\\n",
       "\t 3447     & 1        & 13       & 78       &  0       & 3577.612\\\\\n",
       "\t 4823     & 0        & 16       & 81       & 37       & 4587.252\\\\\n",
       "\t 4978     & 0        & 16       & 73       &  0       & 4363.844\\\\\n",
       "\\end{tabular}\n"
      ],
      "text/markdown": [
       "\n",
       "| all | weather | maxtemp | RH | maxwind | pred |\n",
       "|---|---|---|---|---|---|\n",
       "| 2332     | 0        | 13       | 87       |  0       | 2613.499 |\n",
       "| 2801     | 0        | 14       | 94       | 45       | 2661.502 |\n",
       "| 2375     | 0        | 14       | 82       | 55       | 2727.522 |\n",
       "| 3447     | 1        | 13       | 78       |  0       | 3577.612 |\n",
       "| 4823     | 0        | 16       | 81       | 37       | 4587.252 |\n",
       "| 4978     | 0        | 16       | 73       |  0       | 4363.844 |\n",
       "\n"
      ],
      "text/plain": [
       "  all  weather maxtemp RH maxwind pred    \n",
       "1 2332 0       13      87  0      2613.499\n",
       "2 2801 0       14      94 45      2661.502\n",
       "3 2375 0       14      82 55      2727.522\n",
       "4 3447 1       13      78  0      3577.612\n",
       "5 4823 0       16      81 37      4587.252\n",
       "6 4978 0       16      73  0      4363.844"
      ]
     },
     "metadata": {},
     "output_type": "display_data"
    }
   ],
   "source": [
    "bind = data.frame(cbind(data,df3))\n",
    "head(bind)"
   ]
  },
  {
   "cell_type": "code",
   "execution_count": 504,
   "id": "e734ebc1",
   "metadata": {},
   "outputs": [
    {
     "name": "stdout",
     "output_type": "stream",
     "text": [
      "Target Values: 4974 3228 3191 4153 4307 4660 6193 \n",
      "Predictions: 3651.846 3348.311 4008.999 4391.074 3659.118 4803.233 5302.58 \n",
      "MAE: 597.15 \n",
      "NMAE: 19.89 \n"
     ]
    },
    {
     "data": {
      "text/html": [
       "<table>\n",
       "<thead><tr><th scope=col>METRICA_MODELO</th><th scope=col>randomForest_simples</th><th scope=col>KSVM_simples</th><th scope=col>MLPE_simples</th><th scope=col>MLPE_CasesSeries</th><th scope=col>MLPE_GW</th><th scope=col>HW_GW</th><th scope=col>Arima_GW</th><th scope=col>NN_GW</th><th scope=col>RandomForest_GW</th><th scope=col>...</th><th scope=col>ETS_TSF_forecast</th><th scope=col>lm_TSF_rminer</th><th scope=col>mlpe_TSF_rminer</th><th scope=col>naive_TSF_rminer</th><th scope=col>ctree_TSF_rminer</th><th scope=col>mlp_TSF_rminer</th><th scope=col>randomForest_TSF_rminer</th><th scope=col>mr_TSF_rminer</th><th scope=col>rvm_TSF_rminer</th><th scope=col>Hibrido_simples_rminer_mlpe</th></tr></thead>\n",
       "<tbody>\n",
       "\t<tr><td>MAE       </td><td>1081.92   </td><td>1200.49   </td><td>978.42    </td><td>813.74246 </td><td>658.9465  </td><td>567.170699</td><td>580.997314</td><td>1531.59721</td><td>657.1372  </td><td>...       </td><td>1406.34675</td><td>379.20    </td><td>492.73    </td><td>1073.91   </td><td>550.99    </td><td>1290.67   </td><td>509.74    </td><td>379.20    </td><td>831.99    </td><td>597.15    </td></tr>\n",
       "\t<tr><td>NMAE      </td><td>  36.04   </td><td>  39.99   </td><td> 32.59    </td><td> 27.10668 </td><td> 11.3260  </td><td>  9.748551</td><td>  9.986203</td><td>  26.32515</td><td> 11.2949  </td><td>...       </td><td>  46.84699</td><td> 12.63    </td><td> 16.41    </td><td>  35.77   </td><td> 18.35    </td><td>  42.99   </td><td> 16.98    </td><td> 12.63    </td><td> 27.71    </td><td> 19.89    </td></tr>\n",
       "</tbody>\n",
       "</table>\n"
      ],
      "text/latex": [
       "\\begin{tabular}{r|llllllllllllllllllllllllllllll}\n",
       " METRICA\\_MODELO & randomForest\\_simples & KSVM\\_simples & MLPE\\_simples & MLPE\\_CasesSeries & MLPE\\_GW & HW\\_GW & Arima\\_GW & NN\\_GW & RandomForest\\_GW & ... & ETS\\_TSF\\_forecast & lm\\_TSF\\_rminer & mlpe\\_TSF\\_rminer & naive\\_TSF\\_rminer & ctree\\_TSF\\_rminer & mlp\\_TSF\\_rminer & randomForest\\_TSF\\_rminer & mr\\_TSF\\_rminer & rvm\\_TSF\\_rminer & Hibrido\\_simples\\_rminer\\_mlpe\\\\\n",
       "\\hline\n",
       "\t MAE        & 1081.92    & 1200.49    & 978.42     & 813.74246  & 658.9465   & 567.170699 & 580.997314 & 1531.59721 & 657.1372   & ...        & 1406.34675 & 379.20     & 492.73     & 1073.91    & 550.99     & 1290.67    & 509.74     & 379.20     & 831.99     & 597.15    \\\\\n",
       "\t NMAE       &   36.04    &   39.99    &  32.59     &  27.10668  &  11.3260   &   9.748551 &   9.986203 &   26.32515 &  11.2949   & ...        &   46.84699 &  12.63     &  16.41     &   35.77    &  18.35     &   42.99    &  16.98     &  12.63     &  27.71     &  19.89    \\\\\n",
       "\\end{tabular}\n"
      ],
      "text/markdown": [
       "\n",
       "| METRICA_MODELO | randomForest_simples | KSVM_simples | MLPE_simples | MLPE_CasesSeries | MLPE_GW | HW_GW | Arima_GW | NN_GW | RandomForest_GW | ... | ETS_TSF_forecast | lm_TSF_rminer | mlpe_TSF_rminer | naive_TSF_rminer | ctree_TSF_rminer | mlp_TSF_rminer | randomForest_TSF_rminer | mr_TSF_rminer | rvm_TSF_rminer | Hibrido_simples_rminer_mlpe |\n",
       "|---|---|---|---|---|---|---|---|---|---|---|---|---|---|---|---|---|---|---|---|---|\n",
       "| MAE        | 1081.92    | 1200.49    | 978.42     | 813.74246  | 658.9465   | 567.170699 | 580.997314 | 1531.59721 | 657.1372   | ...        | 1406.34675 | 379.20     | 492.73     | 1073.91    | 550.99     | 1290.67    | 509.74     | 379.20     | 831.99     | 597.15     |\n",
       "| NMAE       |   36.04    |   39.99    |  32.59     |  27.10668  |  11.3260   |   9.748551 |   9.986203 |   26.32515 |  11.2949   | ...        |   46.84699 |  12.63     |  16.41     |   35.77    |  18.35     |   42.99    |  16.98     |  12.63     |  27.71     |  19.89     |\n",
       "\n"
      ],
      "text/plain": [
       "  METRICA_MODELO randomForest_simples KSVM_simples MLPE_simples\n",
       "1 MAE            1081.92              1200.49      978.42      \n",
       "2 NMAE             36.04                39.99       32.59      \n",
       "  MLPE_CasesSeries MLPE_GW  HW_GW      Arima_GW   NN_GW      RandomForest_GW\n",
       "1 813.74246        658.9465 567.170699 580.997314 1531.59721 657.1372       \n",
       "2  27.10668         11.3260   9.748551   9.986203   26.32515  11.2949       \n",
       "  ... ETS_TSF_forecast lm_TSF_rminer mlpe_TSF_rminer naive_TSF_rminer\n",
       "1 ... 1406.34675       379.20        492.73          1073.91         \n",
       "2 ...   46.84699        12.63         16.41            35.77         \n",
       "  ctree_TSF_rminer mlp_TSF_rminer randomForest_TSF_rminer mr_TSF_rminer\n",
       "1 550.99           1290.67        509.74                  379.20       \n",
       "2  18.35             42.99         16.98                   12.63       \n",
       "  rvm_TSF_rminer Hibrido_simples_rminer_mlpe\n",
       "1 831.99         597.15                     \n",
       "2  27.71          19.89                     "
      ]
     },
     "metadata": {},
     "output_type": "display_data"
    },
    {
     "data": {
      "image/png": "[encoded data removed]",
      "text/plain": [
       "Plot with title \"MLPE\""
      ]
     },
     "metadata": {},
     "output_type": "display_data"
    }
   ],
   "source": [
    "H=holdout(bind$all,ratio=7,mode=\"order\")\n",
    "\n",
    "# Seleção dos dados de Treino\n",
    "train = bind[H$tr,]\n",
    "\n",
    "# Seleção dos dados de Teste\n",
    "test = bind[H$ts,]\n",
    "\n",
    "MR=fit(all~.,train,model=\"mlpe\")\n",
    "cat(\"Target Values:\",Target,\"\\n\")\n",
    "\n",
    "Pred = predict(MR,test)\n",
    "cat(\"Predictions:\",Pred,\"\\n\")\n",
    "\n",
    "mgraph(Target,Pred,graph=\"REG\",Grid=10,col=c(\"black\",\"blue\"),\n",
    "leg=list(pos=\"topleft\",leg=c(\"target\",\"predictions\")),main=\"MLPE\")\n",
    "mae=round(mmetric(Target,Pred,metric=\"MAE\"),2)\n",
    "nmae=round(mmetric(Target,Pred,metric=\"NMAE\"),2)\n",
    "cat(\"MAE:\",mae,\"\\n\")\n",
    "cat(\"NMAE:\",nmae,\"\\n\")\n",
    "\n",
    "# Guardar os Resultados\n",
    "nomeModelo = \"Hibrido_simples_rminer_mlpe\"\n",
    "resdf[nomeModelo] = c(mae,nmae)\n",
    "resdf"
   ]
  },
  {
   "cell_type": "code",
   "execution_count": null,
   "id": "8f23b2c8",
   "metadata": {},
   "outputs": [],
   "source": [
    "# Ciclo for com as varias configuracoes do metodo fit para descobrir quais sao as melhroes"
   ]
  },
  {
   "cell_type": "markdown",
   "id": "825228f7",
   "metadata": {},
   "source": [
    "### Modelo Hibrido (Window Training)"
   ]
  },
  {
   "cell_type": "code",
   "execution_count": 505,
   "id": "89253afd",
   "metadata": {},
   "outputs": [
    {
     "name": "stdout",
     "output_type": "stream",
     "text": [
      "incremental (growing) window training demonstration:"
     ]
    }
   ],
   "source": [
    "d1 = data[,1] # coluna all\n",
    "L = length(d1) # 257\n",
    "K=7\n",
    "\n",
    "cat(\"incremental (growing) window training demonstration:\")\n",
    "\n",
    "Test=K # H, the number of multi-ahead steps, adjust if needed\n",
    "S=K # step jump: set in this case to 7 predictions\n",
    "Runs=7 # number of growing window iterations, adjust if needed (49 dias)\n",
    "\n",
    "# forecast:\n",
    "W=(L-Test)-(Runs-1)*S # initial training window size for the ts space (forecast methods)\n",
    "\n",
    "# rminer:\n",
    "timelags=c(1:7) # 1 previous day until 7 previous days\n",
    "D=CasesSeries(d1,timelags) # note: nrow(D) is smaller by max timelags than length(d1)\n",
    "W2=W-max(timelags) # initial training window size for the D space (CasesSeries, rminer methods)\n",
    "\n",
    "YR=diff(range(d1)) # global Y range, use the same range for the NMAE calculation in all iterations\n",
    "\n",
    "ev=vector(length=Runs) # error vector for \"HoltWinters\"\n",
    "ev2=vector(length=Runs) # error vector for \"mlpe\"\n",
    "ev3=vector(length=Runs) # error vector for hybrid\n",
    "\n",
    "# growing window demo, rolling window can also be used:\n",
    "\n",
    "# code for 1 iteration:\n",
    "b=1"
   ]
  },
  {
   "cell_type": "code",
   "execution_count": 506,
   "id": "18a5be05",
   "metadata": {},
   "outputs": [
    {
     "name": "stdout",
     "output_type": "stream",
     "text": [
      "iter: 1 TR from: 1 to: 208 size: 208 TS from: 209 to: 215 size: 7 nmae: 479.4482 , 343.6817 , 307.9995 \n",
      "iter: 2 TR from: 1 to: 215 size: 215 TS from: 216 to: 222 size: 7 nmae: 570.5637 , 552.8117 , 511.3695 \n",
      "iter: 3 TR from: 1 to: 222 size: 222 TS from: 223 to: 229 size: 7 nmae: 989.852 , 1162.822 , 1200.954 \n",
      "iter: 4 TR from: 1 to: 229 size: 229 TS from: 230 to: 236 size: 7 nmae: 477.7246 , 1086.767 , 1053.846 \n",
      "iter: 5 TR from: 1 to: 236 size: 236 TS from: 237 to: 243 size: 7 nmae: 447.9109 , 3161.662 , 2697.294 \n",
      "iter: 6 TR from: 1 to: 243 size: 243 TS from: 244 to: 250 size: 7 nmae: 449.7735 , 615.2531 , 616.9111 \n",
      "iter: 7 TR from: 1 to: 250 size: 250 TS from: 251 to: 257 size: 7 nmae: 1186.774 , 722.7776 , 728.74 \n"
     ]
    }
   ],
   "source": [
    "for(b in 1:Runs)  # cycle of the incremental window training (growing window)\n",
    "{\n",
    "  # code for the forecast package methods, HoltWinters is just an example:\n",
    "  H=holdout(d1,ratio=Test,mode=\"incremental\",iter=b,window=W,increment=S)\n",
    "  trinit=H$tr[1]\n",
    "  dtr=ts(d1[H$tr],frequency=K) # create ts object, note that there is no start argument (for simplicity of the code)\n",
    "  M=suppressWarnings(HoltWinters(dtr)) # create forecasting model, suppressWarnings removes warnings from HW method\n",
    "  # get predictions for training data: fitted (243 obs treino)\n",
    "  Mtrpred=M$fitted[1:nrow(M$fitted)] \n",
    "\n",
    "  Pred=forecast(M,h=length(H$ts))$mean[1:Test] # multi-step ahead forecasts (7 obs teste)\n",
    "  ev[b]=mmetric(y=d1[H$ts],x=Pred,metric=\"MAE\",val=YR)\n",
    "\n",
    "  # code for rminer package methods, \"mlpe\" is just an example:\n",
    "  H2=holdout(D$y,ratio=Test,mode=\"incremental\",iter=b,window=W2,increment=S)   \n",
    "     # note: the last training value is the same for dtr, namely:\n",
    "     # print(dtr[length(dtr)])  \n",
    "     # print(D[H2$tr[length(H2$tr)],]) # y is equal to previously shown value  \n",
    "  M2=fit(y~.,D[H2$tr,],model=\"mlpe\") # create forecasting model\n",
    "  Pred2=lforecast(M2,D,start=(length(H2$tr)+1),Test) # multi-step ahead forecasts (7 obs de teste)\n",
    "  ev2[b]=mmetric(y=d1[H$ts],x=Pred2,metric=\"MAE\",val=YR)\n",
    "\n",
    "  # get predictions for training data: predict (244 obs de treino)\n",
    "  Mtrpred2=predict(M2,D[H2$tr,])\n",
    "\n",
    "  # create new training and test dataset:\n",
    "  TRSIZE=length(Mtrpred2) # 243\n",
    "  LPRED=length(Pred2) # 7\n",
    "  LMtr=length(Mtrpred) # 243 \n",
    "  hwcolumn=c(Mtrpred[(LMtr-TRSIZE+1):length(Mtrpred)],Pred)\n",
    "  mlpecolumn=c(Mtrpred2,Pred2) \n",
    "  HD=cbind(HW=hwcolumn,MLPE=mlpecolumn,y=D$y[1:(TRSIZE+LPRED)])\n",
    "  HD=data.frame(HD)\n",
    "  # fit a new hybrid model, say MLPE using 2 inputs HW and MLPE\n",
    "  M3=fit(y~.,HD[1:TRSIZE,],model=\"mlpe\") # create forecasting model\n",
    "  # get new predictions, now predict can be used (since test data includes forecast and lforecast multi-step ahead predictions):\n",
    "  Pred3=predict(M3,HD[(TRSIZE+1):(TRSIZE+LPRED),]) # multi-step ahead forecasts\n",
    "  ev3[b]=mmetric(y=d1[H$ts],x=Pred3,metric=\"MAE\",val=YR)\n",
    "  ev4[b]=mmetric(y=d1[H$ts],x=Pred3,metric=\"NMAE\",val=YR)\n",
    "  \n",
    "  cat(\"iter:\",b,\"TR from:\",trinit,\"to:\",(trinit+length(H$tr)-1),\"size:\",length(H$tr),\n",
    "      \"TS from:\",H$ts[1],\"to:\",H$ts[length(H$ts)],\"size:\",length(H$ts),\n",
    "      \"nmae:\",ev[b],\",\",ev2[b],\",\",ev3[b],\"\\n\")\n",
    "} # end of cycle"
   ]
  },
  {
   "cell_type": "code",
   "execution_count": 507,
   "id": "a7b9145d",
   "metadata": {},
   "outputs": [
    {
     "name": "stdout",
     "output_type": "stream",
     "text": [
      "median NMAE values for HW and mlpe:\n",
      "Holt-Winters median MAE: 479.4482 \n",
      "mlpe median MAE: 722.7776 \n",
      "hybrid median MAE: 728.74 \n",
      "hybrid median NMAE: 12.52561 \n"
     ]
    },
    {
     "data": {
      "text/html": [
       "<table>\n",
       "<thead><tr><th scope=col>METRICA_MODELO</th><th scope=col>randomForest_simples</th><th scope=col>KSVM_simples</th><th scope=col>MLPE_simples</th><th scope=col>MLPE_CasesSeries</th><th scope=col>MLPE_GW</th><th scope=col>HW_GW</th><th scope=col>Arima_GW</th><th scope=col>NN_GW</th><th scope=col>RandomForest_GW</th><th scope=col>...</th><th scope=col>lm_TSF_rminer</th><th scope=col>mlpe_TSF_rminer</th><th scope=col>naive_TSF_rminer</th><th scope=col>ctree_TSF_rminer</th><th scope=col>mlp_TSF_rminer</th><th scope=col>randomForest_TSF_rminer</th><th scope=col>mr_TSF_rminer</th><th scope=col>rvm_TSF_rminer</th><th scope=col>Hibrido_simples_rminer_mlpe</th><th scope=col>Hibrido_GW_rminer_forecast_mlpe</th></tr></thead>\n",
       "<tbody>\n",
       "\t<tr><td>MAE       </td><td>1081.92   </td><td>1200.49   </td><td>978.42    </td><td>813.74246 </td><td>658.9465  </td><td>567.170699</td><td>580.997314</td><td>1531.59721</td><td>657.1372  </td><td>...       </td><td>379.20    </td><td>492.73    </td><td>1073.91   </td><td>550.99    </td><td>1290.67   </td><td>509.74    </td><td>379.20    </td><td>831.99    </td><td>597.15    </td><td>728.73996 </td></tr>\n",
       "\t<tr><td>NMAE      </td><td>  36.04   </td><td>  39.99   </td><td> 32.59    </td><td> 27.10668 </td><td> 11.3260  </td><td>  9.748551</td><td>  9.986203</td><td>  26.32515</td><td> 11.2949  </td><td>...       </td><td> 12.63    </td><td> 16.41    </td><td>  35.77   </td><td> 18.35    </td><td>  42.99   </td><td> 16.98    </td><td> 12.63    </td><td> 27.71    </td><td> 19.89    </td><td> 12.52561 </td></tr>\n",
       "</tbody>\n",
       "</table>\n"
      ],
      "text/latex": [
       "\\begin{tabular}{r|lllllllllllllllllllllllllllllll}\n",
       " METRICA\\_MODELO & randomForest\\_simples & KSVM\\_simples & MLPE\\_simples & MLPE\\_CasesSeries & MLPE\\_GW & HW\\_GW & Arima\\_GW & NN\\_GW & RandomForest\\_GW & ... & lm\\_TSF\\_rminer & mlpe\\_TSF\\_rminer & naive\\_TSF\\_rminer & ctree\\_TSF\\_rminer & mlp\\_TSF\\_rminer & randomForest\\_TSF\\_rminer & mr\\_TSF\\_rminer & rvm\\_TSF\\_rminer & Hibrido\\_simples\\_rminer\\_mlpe & Hibrido\\_GW\\_rminer\\_forecast\\_mlpe\\\\\n",
       "\\hline\n",
       "\t MAE        & 1081.92    & 1200.49    & 978.42     & 813.74246  & 658.9465   & 567.170699 & 580.997314 & 1531.59721 & 657.1372   & ...        & 379.20     & 492.73     & 1073.91    & 550.99     & 1290.67    & 509.74     & 379.20     & 831.99     & 597.15     & 728.73996 \\\\\n",
       "\t NMAE       &   36.04    &   39.99    &  32.59     &  27.10668  &  11.3260   &   9.748551 &   9.986203 &   26.32515 &  11.2949   & ...        &  12.63     &  16.41     &   35.77    &  18.35     &   42.99    &  16.98     &  12.63     &  27.71     &  19.89     &  12.52561 \\\\\n",
       "\\end{tabular}\n"
      ],
      "text/markdown": [
       "\n",
       "| METRICA_MODELO | randomForest_simples | KSVM_simples | MLPE_simples | MLPE_CasesSeries | MLPE_GW | HW_GW | Arima_GW | NN_GW | RandomForest_GW | ... | lm_TSF_rminer | mlpe_TSF_rminer | naive_TSF_rminer | ctree_TSF_rminer | mlp_TSF_rminer | randomForest_TSF_rminer | mr_TSF_rminer | rvm_TSF_rminer | Hibrido_simples_rminer_mlpe | Hibrido_GW_rminer_forecast_mlpe |\n",
       "|---|---|---|---|---|---|---|---|---|---|---|---|---|---|---|---|---|---|---|---|---|\n",
       "| MAE        | 1081.92    | 1200.49    | 978.42     | 813.74246  | 658.9465   | 567.170699 | 580.997314 | 1531.59721 | 657.1372   | ...        | 379.20     | 492.73     | 1073.91    | 550.99     | 1290.67    | 509.74     | 379.20     | 831.99     | 597.15     | 728.73996  |\n",
       "| NMAE       |   36.04    |   39.99    |  32.59     |  27.10668  |  11.3260   |   9.748551 |   9.986203 |   26.32515 |  11.2949   | ...        |  12.63     |  16.41     |   35.77    |  18.35     |   42.99    |  16.98     |  12.63     |  27.71     |  19.89     |  12.52561  |\n",
       "\n"
      ],
      "text/plain": [
       "  METRICA_MODELO randomForest_simples KSVM_simples MLPE_simples\n",
       "1 MAE            1081.92              1200.49      978.42      \n",
       "2 NMAE             36.04                39.99       32.59      \n",
       "  MLPE_CasesSeries MLPE_GW  HW_GW      Arima_GW   NN_GW      RandomForest_GW\n",
       "1 813.74246        658.9465 567.170699 580.997314 1531.59721 657.1372       \n",
       "2  27.10668         11.3260   9.748551   9.986203   26.32515  11.2949       \n",
       "  ... lm_TSF_rminer mlpe_TSF_rminer naive_TSF_rminer ctree_TSF_rminer\n",
       "1 ... 379.20        492.73          1073.91          550.99          \n",
       "2 ...  12.63         16.41            35.77           18.35          \n",
       "  mlp_TSF_rminer randomForest_TSF_rminer mr_TSF_rminer rvm_TSF_rminer\n",
       "1 1290.67        509.74                  379.20        831.99        \n",
       "2   42.99         16.98                   12.63         27.71        \n",
       "  Hibrido_simples_rminer_mlpe Hibrido_GW_rminer_forecast_mlpe\n",
       "1 597.15                      728.73996                      \n",
       "2  19.89                       12.52561                      "
      ]
     },
     "metadata": {},
     "output_type": "display_data"
    }
   ],
   "source": [
    "# show median of ev and ev2\n",
    "cat(\"median NMAE values for HW and mlpe:\\n\")\n",
    "cat(\"Holt-Winters median MAE:\",median(ev),\"\\n\")\n",
    "cat(\"mlpe median MAE:\",median(ev2),\"\\n\")\n",
    "cat(\"hybrid median MAE:\",median(ev3),\"\\n\")\n",
    "cat(\"hybrid median NMAE:\",median(ev4),\"\\n\")\n",
    "mae=median(ev3)\n",
    "nmae=median(ev4)\n",
    "# Guardar os Resultados\n",
    "nomeModelo = \"Hibrido_GW_rminer_forecast_mlpe\"\n",
    "resdf[nomeModelo] = c(mae,nmae)\n",
    "resdf"
   ]
  },
  {
   "cell_type": "code",
   "execution_count": 406,
   "id": "f40ced06",
   "metadata": {},
   "outputs": [],
   "source": [
    "# Exportar os resultados para um csv\n",
    "\n",
    "write.csv(resdf, \"./exported data/TS1Cenario2_results.csv\",row.names = FALSE) "
   ]
  },
  {
   "cell_type": "code",
   "execution_count": 428,
   "id": "ef1f7b23",
   "metadata": {},
   "outputs": [
    {
     "data": {
      "text/html": [
       "<ol class=list-inline>\n",
       "\t<li>1184.51</li>\n",
       "\t<li>39.46</li>\n",
       "</ol>\n"
      ],
      "text/latex": [
       "\\begin{enumerate*}\n",
       "\\item 1184.51\n",
       "\\item 39.46\n",
       "\\end{enumerate*}\n"
      ],
      "text/markdown": [
       "1. 1184.51\n",
       "2. 39.46\n",
       "\n",
       "\n"
      ],
      "text/plain": [
       "[1] 1184.51   39.46"
      ]
     },
     "metadata": {},
     "output_type": "display_data"
    }
   ],
   "source": [
    "resdf$MLPE_simples"
   ]
  },
  {
   "cell_type": "code",
   "execution_count": null,
   "id": "27e473a3",
   "metadata": {},
   "outputs": [],
   "source": []
  }
 ],
 "metadata": {
  "kernelspec": {
   "display_name": "R",
   "language": "R",
   "name": "ir"
  },
  "language_info": {
   "codemirror_mode": "r",
   "file_extension": ".r",
   "mimetype": "text/x-r-source",
   "name": "R",
   "pygments_lexer": "r",
   "version": "3.6.1"
  }
 },
 "nbformat": 4,
 "nbformat_minor": 5
}
