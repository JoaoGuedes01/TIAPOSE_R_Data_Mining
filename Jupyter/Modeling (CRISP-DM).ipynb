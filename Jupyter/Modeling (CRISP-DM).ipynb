{
 "cells": [
  {
   "cell_type": "markdown",
   "id": "faddba97",
   "metadata": {},
   "source": [
    "## Modeling\n",
    "#### Nesta fase os dados foram preparados para integração em modelos de machine learning na fase de Modeling\n",
    "#### As séries temporais \"male\", \"female\", \"young\" e \"adult\" foram retiradas dos dados uma vez que o nosso objetivo é orientado para a série \"all\"\n",
    "#### A coluna \"date\" também foi removida porque apenas serve para nos situarmos no tempo, para a divisão dos dados em antigos=treino, recentes=teste. Além disso a sua natureza única (única por observação) apenas iria trazer incerteza para os modelos.\n",
    "#### Para lidar com os valores outliers foram criados 2 cenários:\n",
    "<ul>\n",
    "    <li><b>Com outliers</b> - Neste cenário os valores outliers não foram tratados</li>\n",
    "    <li><b>Sem outliers s/ compensação</b> - Neste cenário os valores outliers foram tratados</li>\n",
    "\n",
    "</ul>\n",
    "\n",
    "#### Por fim os dados de cada cenário foram exportados para os respetivos ficheiros csv para poderem ser utilizados nas fases seguintes "
   ]
  },
  {
   "cell_type": "code",
   "execution_count": 162,
   "id": "d23259dd",
   "metadata": {},
   "outputs": [
    {
     "ename": "ERROR",
     "evalue": "Error in library(rjson): there is no package called 'rjson'\n",
     "output_type": "error",
     "traceback": [
      "Error in library(rjson): there is no package called 'rjson'\nTraceback:\n",
      "1. library(rjson)"
     ]
    }
   ],
   "source": [
    "# Importar Libraries\n",
    "library(tidyverse)\n",
    "library(rminer)\n",
    "library(forecast)\n",
    "library(rjson)"
   ]
  },
  {
   "cell_type": "code",
   "execution_count": 2,
   "id": "9a80304b",
   "metadata": {
    "scrolled": true
   },
   "outputs": [
    {
     "data": {
      "text/html": [
       "<table>\n",
       "<thead><tr><th scope=col>all</th><th scope=col>weather</th><th scope=col>maxtemp</th><th scope=col>RH</th><th scope=col>maxwind</th></tr></thead>\n",
       "<tbody>\n",
       "\t<tr><td>2332</td><td>0   </td><td>13  </td><td>87  </td><td> 0  </td></tr>\n",
       "\t<tr><td>2801</td><td>0   </td><td>14  </td><td>94  </td><td>45  </td></tr>\n",
       "\t<tr><td>2375</td><td>0   </td><td>14  </td><td>82  </td><td>55  </td></tr>\n",
       "\t<tr><td>3447</td><td>1   </td><td>13  </td><td>78  </td><td> 0  </td></tr>\n",
       "\t<tr><td>4823</td><td>0   </td><td>16  </td><td>81  </td><td>37  </td></tr>\n",
       "\t<tr><td>4978</td><td>0   </td><td>16  </td><td>73  </td><td> 0  </td></tr>\n",
       "</tbody>\n",
       "</table>\n"
      ],
      "text/latex": [
       "\\begin{tabular}{r|lllll}\n",
       " all & weather & maxtemp & RH & maxwind\\\\\n",
       "\\hline\n",
       "\t 2332 & 0    & 13   & 87   &  0  \\\\\n",
       "\t 2801 & 0    & 14   & 94   & 45  \\\\\n",
       "\t 2375 & 0    & 14   & 82   & 55  \\\\\n",
       "\t 3447 & 1    & 13   & 78   &  0  \\\\\n",
       "\t 4823 & 0    & 16   & 81   & 37  \\\\\n",
       "\t 4978 & 0    & 16   & 73   &  0  \\\\\n",
       "\\end{tabular}\n"
      ],
      "text/markdown": [
       "\n",
       "| all | weather | maxtemp | RH | maxwind |\n",
       "|---|---|---|---|---|\n",
       "| 2332 | 0    | 13   | 87   |  0   |\n",
       "| 2801 | 0    | 14   | 94   | 45   |\n",
       "| 2375 | 0    | 14   | 82   | 55   |\n",
       "| 3447 | 1    | 13   | 78   |  0   |\n",
       "| 4823 | 0    | 16   | 81   | 37   |\n",
       "| 4978 | 0    | 16   | 73   |  0   |\n",
       "\n"
      ],
      "text/plain": [
       "  all  weather maxtemp RH maxwind\n",
       "1 2332 0       13      87  0     \n",
       "2 2801 0       14      94 45     \n",
       "3 2375 0       14      82 55     \n",
       "4 3447 1       13      78  0     \n",
       "5 4823 0       16      81 37     \n",
       "6 4978 0       16      73  0     "
      ]
     },
     "metadata": {},
     "output_type": "display_data"
    }
   ],
   "source": [
    "# Importar os dados\n",
    "data <- read.csv(file = './exported data/dadosPrep.csv')\n",
    "\n",
    "# Retirar a coluna X (Index)\n",
    "data = data %>% select(-X)\n",
    "head(data)"
   ]
  },
  {
   "cell_type": "markdown",
   "id": "3abd09f6",
   "metadata": {},
   "source": [
    "## Multivariate Regression"
   ]
  },
  {
   "cell_type": "markdown",
   "id": "6d9297ce",
   "metadata": {},
   "source": [
    "### Spliting the dataset (For multivariate models)"
   ]
  },
  {
   "cell_type": "code",
   "execution_count": 9,
   "id": "6aa6fcab",
   "metadata": {},
   "outputs": [
    {
     "data": {
      "text/html": [
       "<dl>\n",
       "\t<dt>$tr</dt>\n",
       "\t\t<dd><ol class=list-inline>\n",
       "\t<li>1</li>\n",
       "\t<li>2</li>\n",
       "\t<li>3</li>\n",
       "\t<li>4</li>\n",
       "\t<li>5</li>\n",
       "\t<li>6</li>\n",
       "\t<li>7</li>\n",
       "\t<li>8</li>\n",
       "\t<li>9</li>\n",
       "\t<li>10</li>\n",
       "\t<li>11</li>\n",
       "\t<li>12</li>\n",
       "\t<li>13</li>\n",
       "\t<li>14</li>\n",
       "\t<li>15</li>\n",
       "\t<li>16</li>\n",
       "\t<li>17</li>\n",
       "\t<li>18</li>\n",
       "\t<li>19</li>\n",
       "\t<li>20</li>\n",
       "\t<li>21</li>\n",
       "\t<li>22</li>\n",
       "\t<li>23</li>\n",
       "\t<li>24</li>\n",
       "\t<li>25</li>\n",
       "\t<li>26</li>\n",
       "\t<li>27</li>\n",
       "\t<li>28</li>\n",
       "\t<li>29</li>\n",
       "\t<li>30</li>\n",
       "\t<li>31</li>\n",
       "\t<li>32</li>\n",
       "\t<li>33</li>\n",
       "\t<li>34</li>\n",
       "\t<li>35</li>\n",
       "\t<li>36</li>\n",
       "\t<li>37</li>\n",
       "\t<li>38</li>\n",
       "\t<li>39</li>\n",
       "\t<li>40</li>\n",
       "\t<li>41</li>\n",
       "\t<li>42</li>\n",
       "\t<li>43</li>\n",
       "\t<li>44</li>\n",
       "\t<li>45</li>\n",
       "\t<li>46</li>\n",
       "\t<li>47</li>\n",
       "\t<li>48</li>\n",
       "\t<li>49</li>\n",
       "\t<li>50</li>\n",
       "\t<li>51</li>\n",
       "\t<li>52</li>\n",
       "\t<li>53</li>\n",
       "\t<li>54</li>\n",
       "\t<li>55</li>\n",
       "\t<li>56</li>\n",
       "\t<li>57</li>\n",
       "\t<li>58</li>\n",
       "\t<li>59</li>\n",
       "\t<li>60</li>\n",
       "\t<li>61</li>\n",
       "\t<li>62</li>\n",
       "\t<li>63</li>\n",
       "\t<li>64</li>\n",
       "\t<li>65</li>\n",
       "\t<li>66</li>\n",
       "\t<li>67</li>\n",
       "\t<li>68</li>\n",
       "\t<li>69</li>\n",
       "\t<li>70</li>\n",
       "\t<li>71</li>\n",
       "\t<li>72</li>\n",
       "\t<li>73</li>\n",
       "\t<li>74</li>\n",
       "\t<li>75</li>\n",
       "\t<li>76</li>\n",
       "\t<li>77</li>\n",
       "\t<li>78</li>\n",
       "\t<li>79</li>\n",
       "\t<li>80</li>\n",
       "\t<li>81</li>\n",
       "\t<li>82</li>\n",
       "\t<li>83</li>\n",
       "\t<li>84</li>\n",
       "\t<li>85</li>\n",
       "\t<li>86</li>\n",
       "\t<li>87</li>\n",
       "\t<li>88</li>\n",
       "\t<li>89</li>\n",
       "\t<li>90</li>\n",
       "\t<li>91</li>\n",
       "\t<li>92</li>\n",
       "\t<li>93</li>\n",
       "\t<li>94</li>\n",
       "\t<li>95</li>\n",
       "\t<li>96</li>\n",
       "\t<li>97</li>\n",
       "\t<li>98</li>\n",
       "\t<li>99</li>\n",
       "\t<li>100</li>\n",
       "\t<li>101</li>\n",
       "\t<li>102</li>\n",
       "\t<li>103</li>\n",
       "\t<li>104</li>\n",
       "\t<li>105</li>\n",
       "\t<li>106</li>\n",
       "\t<li>107</li>\n",
       "\t<li>108</li>\n",
       "\t<li>109</li>\n",
       "\t<li>110</li>\n",
       "\t<li>111</li>\n",
       "\t<li>112</li>\n",
       "\t<li>113</li>\n",
       "\t<li>114</li>\n",
       "\t<li>115</li>\n",
       "\t<li>116</li>\n",
       "\t<li>117</li>\n",
       "\t<li>118</li>\n",
       "\t<li>119</li>\n",
       "\t<li>120</li>\n",
       "\t<li>121</li>\n",
       "\t<li>122</li>\n",
       "\t<li>123</li>\n",
       "\t<li>124</li>\n",
       "\t<li>125</li>\n",
       "\t<li>126</li>\n",
       "\t<li>127</li>\n",
       "\t<li>128</li>\n",
       "\t<li>129</li>\n",
       "\t<li>130</li>\n",
       "\t<li>131</li>\n",
       "\t<li>132</li>\n",
       "\t<li>133</li>\n",
       "\t<li>134</li>\n",
       "\t<li>135</li>\n",
       "\t<li>136</li>\n",
       "\t<li>137</li>\n",
       "\t<li>138</li>\n",
       "\t<li>139</li>\n",
       "\t<li>140</li>\n",
       "\t<li>141</li>\n",
       "\t<li>142</li>\n",
       "\t<li>143</li>\n",
       "\t<li>144</li>\n",
       "\t<li>145</li>\n",
       "\t<li>146</li>\n",
       "\t<li>147</li>\n",
       "\t<li>148</li>\n",
       "\t<li>149</li>\n",
       "\t<li>150</li>\n",
       "\t<li>151</li>\n",
       "\t<li>152</li>\n",
       "\t<li>153</li>\n",
       "\t<li>154</li>\n",
       "\t<li>155</li>\n",
       "\t<li>156</li>\n",
       "\t<li>157</li>\n",
       "\t<li>158</li>\n",
       "\t<li>159</li>\n",
       "\t<li>160</li>\n",
       "\t<li>161</li>\n",
       "\t<li>162</li>\n",
       "\t<li>163</li>\n",
       "\t<li>164</li>\n",
       "\t<li>165</li>\n",
       "\t<li>166</li>\n",
       "\t<li>167</li>\n",
       "\t<li>168</li>\n",
       "\t<li>169</li>\n",
       "\t<li>170</li>\n",
       "\t<li>171</li>\n",
       "\t<li>172</li>\n",
       "\t<li>173</li>\n",
       "\t<li>174</li>\n",
       "\t<li>175</li>\n",
       "\t<li>176</li>\n",
       "\t<li>177</li>\n",
       "\t<li>178</li>\n",
       "\t<li>179</li>\n",
       "\t<li>180</li>\n",
       "\t<li>181</li>\n",
       "\t<li>182</li>\n",
       "\t<li>183</li>\n",
       "\t<li>184</li>\n",
       "\t<li>185</li>\n",
       "\t<li>186</li>\n",
       "\t<li>187</li>\n",
       "\t<li>188</li>\n",
       "\t<li>189</li>\n",
       "\t<li>190</li>\n",
       "\t<li>191</li>\n",
       "\t<li>192</li>\n",
       "\t<li>193</li>\n",
       "\t<li>194</li>\n",
       "\t<li>195</li>\n",
       "\t<li>196</li>\n",
       "\t<li>197</li>\n",
       "\t<li>198</li>\n",
       "\t<li>199</li>\n",
       "\t<li>200</li>\n",
       "\t<li>201</li>\n",
       "\t<li>202</li>\n",
       "\t<li>203</li>\n",
       "\t<li>204</li>\n",
       "\t<li>205</li>\n",
       "\t<li>206</li>\n",
       "\t<li>207</li>\n",
       "\t<li>208</li>\n",
       "\t<li>209</li>\n",
       "\t<li>210</li>\n",
       "\t<li>211</li>\n",
       "\t<li>212</li>\n",
       "\t<li>213</li>\n",
       "\t<li>214</li>\n",
       "\t<li>215</li>\n",
       "\t<li>216</li>\n",
       "\t<li>217</li>\n",
       "\t<li>218</li>\n",
       "\t<li>219</li>\n",
       "\t<li>220</li>\n",
       "\t<li>221</li>\n",
       "\t<li>222</li>\n",
       "\t<li>223</li>\n",
       "\t<li>224</li>\n",
       "\t<li>225</li>\n",
       "\t<li>226</li>\n",
       "\t<li>227</li>\n",
       "\t<li>228</li>\n",
       "\t<li>229</li>\n",
       "\t<li>230</li>\n",
       "\t<li>231</li>\n",
       "\t<li>232</li>\n",
       "\t<li>233</li>\n",
       "\t<li>234</li>\n",
       "\t<li>235</li>\n",
       "\t<li>236</li>\n",
       "\t<li>237</li>\n",
       "\t<li>238</li>\n",
       "\t<li>239</li>\n",
       "\t<li>240</li>\n",
       "\t<li>241</li>\n",
       "\t<li>242</li>\n",
       "\t<li>243</li>\n",
       "\t<li>244</li>\n",
       "\t<li>245</li>\n",
       "\t<li>246</li>\n",
       "\t<li>247</li>\n",
       "\t<li>248</li>\n",
       "\t<li>249</li>\n",
       "\t<li>250</li>\n",
       "</ol>\n",
       "</dd>\n",
       "\t<dt>$itr</dt>\n",
       "\t\t<dd>NULL</dd>\n",
       "\t<dt>$val</dt>\n",
       "\t\t<dd>NULL</dd>\n",
       "\t<dt>$ts</dt>\n",
       "\t\t<dd><ol class=list-inline>\n",
       "\t<li>251</li>\n",
       "\t<li>252</li>\n",
       "\t<li>253</li>\n",
       "\t<li>254</li>\n",
       "\t<li>255</li>\n",
       "\t<li>256</li>\n",
       "\t<li>257</li>\n",
       "</ol>\n",
       "</dd>\n",
       "</dl>\n"
      ],
      "text/latex": [
       "\\begin{description}\n",
       "\\item[\\$tr] \\begin{enumerate*}\n",
       "\\item 1\n",
       "\\item 2\n",
       "\\item 3\n",
       "\\item 4\n",
       "\\item 5\n",
       "\\item 6\n",
       "\\item 7\n",
       "\\item 8\n",
       "\\item 9\n",
       "\\item 10\n",
       "\\item 11\n",
       "\\item 12\n",
       "\\item 13\n",
       "\\item 14\n",
       "\\item 15\n",
       "\\item 16\n",
       "\\item 17\n",
       "\\item 18\n",
       "\\item 19\n",
       "\\item 20\n",
       "\\item 21\n",
       "\\item 22\n",
       "\\item 23\n",
       "\\item 24\n",
       "\\item 25\n",
       "\\item 26\n",
       "\\item 27\n",
       "\\item 28\n",
       "\\item 29\n",
       "\\item 30\n",
       "\\item 31\n",
       "\\item 32\n",
       "\\item 33\n",
       "\\item 34\n",
       "\\item 35\n",
       "\\item 36\n",
       "\\item 37\n",
       "\\item 38\n",
       "\\item 39\n",
       "\\item 40\n",
       "\\item 41\n",
       "\\item 42\n",
       "\\item 43\n",
       "\\item 44\n",
       "\\item 45\n",
       "\\item 46\n",
       "\\item 47\n",
       "\\item 48\n",
       "\\item 49\n",
       "\\item 50\n",
       "\\item 51\n",
       "\\item 52\n",
       "\\item 53\n",
       "\\item 54\n",
       "\\item 55\n",
       "\\item 56\n",
       "\\item 57\n",
       "\\item 58\n",
       "\\item 59\n",
       "\\item 60\n",
       "\\item 61\n",
       "\\item 62\n",
       "\\item 63\n",
       "\\item 64\n",
       "\\item 65\n",
       "\\item 66\n",
       "\\item 67\n",
       "\\item 68\n",
       "\\item 69\n",
       "\\item 70\n",
       "\\item 71\n",
       "\\item 72\n",
       "\\item 73\n",
       "\\item 74\n",
       "\\item 75\n",
       "\\item 76\n",
       "\\item 77\n",
       "\\item 78\n",
       "\\item 79\n",
       "\\item 80\n",
       "\\item 81\n",
       "\\item 82\n",
       "\\item 83\n",
       "\\item 84\n",
       "\\item 85\n",
       "\\item 86\n",
       "\\item 87\n",
       "\\item 88\n",
       "\\item 89\n",
       "\\item 90\n",
       "\\item 91\n",
       "\\item 92\n",
       "\\item 93\n",
       "\\item 94\n",
       "\\item 95\n",
       "\\item 96\n",
       "\\item 97\n",
       "\\item 98\n",
       "\\item 99\n",
       "\\item 100\n",
       "\\item 101\n",
       "\\item 102\n",
       "\\item 103\n",
       "\\item 104\n",
       "\\item 105\n",
       "\\item 106\n",
       "\\item 107\n",
       "\\item 108\n",
       "\\item 109\n",
       "\\item 110\n",
       "\\item 111\n",
       "\\item 112\n",
       "\\item 113\n",
       "\\item 114\n",
       "\\item 115\n",
       "\\item 116\n",
       "\\item 117\n",
       "\\item 118\n",
       "\\item 119\n",
       "\\item 120\n",
       "\\item 121\n",
       "\\item 122\n",
       "\\item 123\n",
       "\\item 124\n",
       "\\item 125\n",
       "\\item 126\n",
       "\\item 127\n",
       "\\item 128\n",
       "\\item 129\n",
       "\\item 130\n",
       "\\item 131\n",
       "\\item 132\n",
       "\\item 133\n",
       "\\item 134\n",
       "\\item 135\n",
       "\\item 136\n",
       "\\item 137\n",
       "\\item 138\n",
       "\\item 139\n",
       "\\item 140\n",
       "\\item 141\n",
       "\\item 142\n",
       "\\item 143\n",
       "\\item 144\n",
       "\\item 145\n",
       "\\item 146\n",
       "\\item 147\n",
       "\\item 148\n",
       "\\item 149\n",
       "\\item 150\n",
       "\\item 151\n",
       "\\item 152\n",
       "\\item 153\n",
       "\\item 154\n",
       "\\item 155\n",
       "\\item 156\n",
       "\\item 157\n",
       "\\item 158\n",
       "\\item 159\n",
       "\\item 160\n",
       "\\item 161\n",
       "\\item 162\n",
       "\\item 163\n",
       "\\item 164\n",
       "\\item 165\n",
       "\\item 166\n",
       "\\item 167\n",
       "\\item 168\n",
       "\\item 169\n",
       "\\item 170\n",
       "\\item 171\n",
       "\\item 172\n",
       "\\item 173\n",
       "\\item 174\n",
       "\\item 175\n",
       "\\item 176\n",
       "\\item 177\n",
       "\\item 178\n",
       "\\item 179\n",
       "\\item 180\n",
       "\\item 181\n",
       "\\item 182\n",
       "\\item 183\n",
       "\\item 184\n",
       "\\item 185\n",
       "\\item 186\n",
       "\\item 187\n",
       "\\item 188\n",
       "\\item 189\n",
       "\\item 190\n",
       "\\item 191\n",
       "\\item 192\n",
       "\\item 193\n",
       "\\item 194\n",
       "\\item 195\n",
       "\\item 196\n",
       "\\item 197\n",
       "\\item 198\n",
       "\\item 199\n",
       "\\item 200\n",
       "\\item 201\n",
       "\\item 202\n",
       "\\item 203\n",
       "\\item 204\n",
       "\\item 205\n",
       "\\item 206\n",
       "\\item 207\n",
       "\\item 208\n",
       "\\item 209\n",
       "\\item 210\n",
       "\\item 211\n",
       "\\item 212\n",
       "\\item 213\n",
       "\\item 214\n",
       "\\item 215\n",
       "\\item 216\n",
       "\\item 217\n",
       "\\item 218\n",
       "\\item 219\n",
       "\\item 220\n",
       "\\item 221\n",
       "\\item 222\n",
       "\\item 223\n",
       "\\item 224\n",
       "\\item 225\n",
       "\\item 226\n",
       "\\item 227\n",
       "\\item 228\n",
       "\\item 229\n",
       "\\item 230\n",
       "\\item 231\n",
       "\\item 232\n",
       "\\item 233\n",
       "\\item 234\n",
       "\\item 235\n",
       "\\item 236\n",
       "\\item 237\n",
       "\\item 238\n",
       "\\item 239\n",
       "\\item 240\n",
       "\\item 241\n",
       "\\item 242\n",
       "\\item 243\n",
       "\\item 244\n",
       "\\item 245\n",
       "\\item 246\n",
       "\\item 247\n",
       "\\item 248\n",
       "\\item 249\n",
       "\\item 250\n",
       "\\end{enumerate*}\n",
       "\n",
       "\\item[\\$itr] NULL\n",
       "\\item[\\$val] NULL\n",
       "\\item[\\$ts] \\begin{enumerate*}\n",
       "\\item 251\n",
       "\\item 252\n",
       "\\item 253\n",
       "\\item 254\n",
       "\\item 255\n",
       "\\item 256\n",
       "\\item 257\n",
       "\\end{enumerate*}\n",
       "\n",
       "\\end{description}\n"
      ],
      "text/markdown": [
       "$tr\n",
       ":   1. 1\n",
       "2. 2\n",
       "3. 3\n",
       "4. 4\n",
       "5. 5\n",
       "6. 6\n",
       "7. 7\n",
       "8. 8\n",
       "9. 9\n",
       "10. 10\n",
       "11. 11\n",
       "12. 12\n",
       "13. 13\n",
       "14. 14\n",
       "15. 15\n",
       "16. 16\n",
       "17. 17\n",
       "18. 18\n",
       "19. 19\n",
       "20. 20\n",
       "21. 21\n",
       "22. 22\n",
       "23. 23\n",
       "24. 24\n",
       "25. 25\n",
       "26. 26\n",
       "27. 27\n",
       "28. 28\n",
       "29. 29\n",
       "30. 30\n",
       "31. 31\n",
       "32. 32\n",
       "33. 33\n",
       "34. 34\n",
       "35. 35\n",
       "36. 36\n",
       "37. 37\n",
       "38. 38\n",
       "39. 39\n",
       "40. 40\n",
       "41. 41\n",
       "42. 42\n",
       "43. 43\n",
       "44. 44\n",
       "45. 45\n",
       "46. 46\n",
       "47. 47\n",
       "48. 48\n",
       "49. 49\n",
       "50. 50\n",
       "51. 51\n",
       "52. 52\n",
       "53. 53\n",
       "54. 54\n",
       "55. 55\n",
       "56. 56\n",
       "57. 57\n",
       "58. 58\n",
       "59. 59\n",
       "60. 60\n",
       "61. 61\n",
       "62. 62\n",
       "63. 63\n",
       "64. 64\n",
       "65. 65\n",
       "66. 66\n",
       "67. 67\n",
       "68. 68\n",
       "69. 69\n",
       "70. 70\n",
       "71. 71\n",
       "72. 72\n",
       "73. 73\n",
       "74. 74\n",
       "75. 75\n",
       "76. 76\n",
       "77. 77\n",
       "78. 78\n",
       "79. 79\n",
       "80. 80\n",
       "81. 81\n",
       "82. 82\n",
       "83. 83\n",
       "84. 84\n",
       "85. 85\n",
       "86. 86\n",
       "87. 87\n",
       "88. 88\n",
       "89. 89\n",
       "90. 90\n",
       "91. 91\n",
       "92. 92\n",
       "93. 93\n",
       "94. 94\n",
       "95. 95\n",
       "96. 96\n",
       "97. 97\n",
       "98. 98\n",
       "99. 99\n",
       "100. 100\n",
       "101. 101\n",
       "102. 102\n",
       "103. 103\n",
       "104. 104\n",
       "105. 105\n",
       "106. 106\n",
       "107. 107\n",
       "108. 108\n",
       "109. 109\n",
       "110. 110\n",
       "111. 111\n",
       "112. 112\n",
       "113. 113\n",
       "114. 114\n",
       "115. 115\n",
       "116. 116\n",
       "117. 117\n",
       "118. 118\n",
       "119. 119\n",
       "120. 120\n",
       "121. 121\n",
       "122. 122\n",
       "123. 123\n",
       "124. 124\n",
       "125. 125\n",
       "126. 126\n",
       "127. 127\n",
       "128. 128\n",
       "129. 129\n",
       "130. 130\n",
       "131. 131\n",
       "132. 132\n",
       "133. 133\n",
       "134. 134\n",
       "135. 135\n",
       "136. 136\n",
       "137. 137\n",
       "138. 138\n",
       "139. 139\n",
       "140. 140\n",
       "141. 141\n",
       "142. 142\n",
       "143. 143\n",
       "144. 144\n",
       "145. 145\n",
       "146. 146\n",
       "147. 147\n",
       "148. 148\n",
       "149. 149\n",
       "150. 150\n",
       "151. 151\n",
       "152. 152\n",
       "153. 153\n",
       "154. 154\n",
       "155. 155\n",
       "156. 156\n",
       "157. 157\n",
       "158. 158\n",
       "159. 159\n",
       "160. 160\n",
       "161. 161\n",
       "162. 162\n",
       "163. 163\n",
       "164. 164\n",
       "165. 165\n",
       "166. 166\n",
       "167. 167\n",
       "168. 168\n",
       "169. 169\n",
       "170. 170\n",
       "171. 171\n",
       "172. 172\n",
       "173. 173\n",
       "174. 174\n",
       "175. 175\n",
       "176. 176\n",
       "177. 177\n",
       "178. 178\n",
       "179. 179\n",
       "180. 180\n",
       "181. 181\n",
       "182. 182\n",
       "183. 183\n",
       "184. 184\n",
       "185. 185\n",
       "186. 186\n",
       "187. 187\n",
       "188. 188\n",
       "189. 189\n",
       "190. 190\n",
       "191. 191\n",
       "192. 192\n",
       "193. 193\n",
       "194. 194\n",
       "195. 195\n",
       "196. 196\n",
       "197. 197\n",
       "198. 198\n",
       "199. 199\n",
       "200. 200\n",
       "201. 201\n",
       "202. 202\n",
       "203. 203\n",
       "204. 204\n",
       "205. 205\n",
       "206. 206\n",
       "207. 207\n",
       "208. 208\n",
       "209. 209\n",
       "210. 210\n",
       "211. 211\n",
       "212. 212\n",
       "213. 213\n",
       "214. 214\n",
       "215. 215\n",
       "216. 216\n",
       "217. 217\n",
       "218. 218\n",
       "219. 219\n",
       "220. 220\n",
       "221. 221\n",
       "222. 222\n",
       "223. 223\n",
       "224. 224\n",
       "225. 225\n",
       "226. 226\n",
       "227. 227\n",
       "228. 228\n",
       "229. 229\n",
       "230. 230\n",
       "231. 231\n",
       "232. 232\n",
       "233. 233\n",
       "234. 234\n",
       "235. 235\n",
       "236. 236\n",
       "237. 237\n",
       "238. 238\n",
       "239. 239\n",
       "240. 240\n",
       "241. 241\n",
       "242. 242\n",
       "243. 243\n",
       "244. 244\n",
       "245. 245\n",
       "246. 246\n",
       "247. 247\n",
       "248. 248\n",
       "249. 249\n",
       "250. 250\n",
       "\n",
       "\n",
       "\n",
       "$itr\n",
       ":   NULL\n",
       "$val\n",
       ":   NULL\n",
       "$ts\n",
       ":   1. 251\n",
       "2. 252\n",
       "3. 253\n",
       "4. 254\n",
       "5. 255\n",
       "6. 256\n",
       "7. 257\n",
       "\n",
       "\n",
       "\n",
       "\n",
       "\n"
      ],
      "text/plain": [
       "$tr\n",
       "  [1]   1   2   3   4   5   6   7   8   9  10  11  12  13  14  15  16  17  18\n",
       " [19]  19  20  21  22  23  24  25  26  27  28  29  30  31  32  33  34  35  36\n",
       " [37]  37  38  39  40  41  42  43  44  45  46  47  48  49  50  51  52  53  54\n",
       " [55]  55  56  57  58  59  60  61  62  63  64  65  66  67  68  69  70  71  72\n",
       " [73]  73  74  75  76  77  78  79  80  81  82  83  84  85  86  87  88  89  90\n",
       " [91]  91  92  93  94  95  96  97  98  99 100 101 102 103 104 105 106 107 108\n",
       "[109] 109 110 111 112 113 114 115 116 117 118 119 120 121 122 123 124 125 126\n",
       "[127] 127 128 129 130 131 132 133 134 135 136 137 138 139 140 141 142 143 144\n",
       "[145] 145 146 147 148 149 150 151 152 153 154 155 156 157 158 159 160 161 162\n",
       "[163] 163 164 165 166 167 168 169 170 171 172 173 174 175 176 177 178 179 180\n",
       "[181] 181 182 183 184 185 186 187 188 189 190 191 192 193 194 195 196 197 198\n",
       "[199] 199 200 201 202 203 204 205 206 207 208 209 210 211 212 213 214 215 216\n",
       "[217] 217 218 219 220 221 222 223 224 225 226 227 228 229 230 231 232 233 234\n",
       "[235] 235 236 237 238 239 240 241 242 243 244 245 246 247 248 249 250\n",
       "\n",
       "$itr\n",
       "NULL\n",
       "\n",
       "$val\n",
       "NULL\n",
       "\n",
       "$ts\n",
       "[1] 251 252 253 254 255 256 257\n"
      ]
     },
     "metadata": {},
     "output_type": "display_data"
    },
    {
     "name": "stdout",
     "output_type": "stream",
     "text": [
      "Dados de treino:\n",
      "Head:  2332 2801 2375 3447 4823 4978 \n",
      "Length:  250 \n",
      "\n",
      "Dados de teste:\n",
      "Head:  4974 3228 3191 4153 4307 4660 \n",
      "Length:  7"
     ]
    }
   ],
   "source": [
    "# Separação dos índices do dataframe ordenada cronologicamente (porque os dados já estão em ordem cronológica), usando 250\n",
    "# observações para treino e 7 para teste\n",
    "H=holdout(data$all,ratio=7,mode=\"order\")\n",
    "H\n",
    "\n",
    "# Seleção dos dados de Treino\n",
    "train = data[H$tr,]\n",
    "cat(\"Dados de treino:\\n\")\n",
    "cat(\"Head: \", head(train$all),\"\\n\")\n",
    "cat(\"Length: \", length(train$all),\"\\n\\n\")\n",
    "\n",
    "# Seleção dos dados de Teste\n",
    "test = data[H$ts,]\n",
    "cat(\"Dados de teste:\\n\")\n",
    "cat(\"Head: \", head(test$all),\"\\n\")\n",
    "cat(\"Length: \", length(test$all))"
   ]
  },
  {
   "cell_type": "markdown",
   "id": "938330f0",
   "metadata": {},
   "source": [
    "### Modelos de Regressão Multivariados"
   ]
  },
  {
   "cell_type": "markdown",
   "id": "76f34834",
   "metadata": {},
   "source": [
    "#### Random Forest"
   ]
  },
  {
   "cell_type": "code",
   "execution_count": 118,
   "id": "290f915c",
   "metadata": {},
   "outputs": [
    {
     "name": "stdout",
     "output_type": "stream",
     "text": [
      "Target Values: 4974 3228 3191 4153 4307 4660 6193 \n",
      "Predictions: 3764.005 3833.647 3695.257 3748.338 3259.948 4058.153 3768.615 \n",
      "MAE: 971.12 \n",
      "NMAE: 32.35 \n"
     ]
    },
    {
     "data": {
      "image/png": "[encoded data removed]",
      "text/plain": [
       "Plot with title \"Random Forest\""
      ]
     },
     "metadata": {},
     "output_type": "display_data"
    }
   ],
   "source": [
    "RF=fit(all~.,train,model=\"randomForest\")\n",
    "Target = test$all\n",
    "cat(\"Target Values:\",Target,\"\\n\")\n",
    "\n",
    "Pred = predict(RF,test)\n",
    "cat(\"Predictions:\",Pred,\"\\n\")\n",
    "\n",
    "mgraph(Target,Pred,graph=\"REG\",Grid=10,col=c(\"black\",\"blue\"),\n",
    "leg=list(pos=\"topleft\",leg=c(\"target\",\"predictions\")),main=\"Random Forest\")\n",
    "\n",
    "cat(\"MAE:\",round(mmetric(Target,Pred,metric=\"MAE\"),2),\"\\n\")\n",
    "cat(\"NMAE:\",round(mmetric(Target,Pred,metric=\"NMAE\"),2),\"\\n\")"
   ]
  },
  {
   "cell_type": "markdown",
   "id": "ad76e730",
   "metadata": {},
   "source": [
    "#### Multiple Linear Regression"
   ]
  },
  {
   "cell_type": "code",
   "execution_count": 119,
   "id": "3c0d7fb5",
   "metadata": {},
   "outputs": [
    {
     "name": "stdout",
     "output_type": "stream",
     "text": [
      "Target Values: 4974 3228 3191 4153 4307 4660 6193 \n",
      "Predictions: 3187.233 3168.647 2932.272 3042.532 2638.799 3109.731 3099.146 \n",
      "MAE: 1361.09 \n",
      "NMAE: 45.34 \n"
     ]
    },
    {
     "data": {
      "image/png": "[encoded data removed]",
      "text/plain": [
       "Plot with title \"Multiple Linear Regression\""
      ]
     },
     "metadata": {},
     "output_type": "display_data"
    }
   ],
   "source": [
    "MR=fit(all~.,train,model=\"mr\")\n",
    "cat(\"Target Values:\",Target,\"\\n\")\n",
    "\n",
    "Pred = predict(MR,test)\n",
    "cat(\"Predictions:\",Pred,\"\\n\")\n",
    "\n",
    "mgraph(Target,Pred,graph=\"REG\",Grid=10,col=c(\"black\",\"blue\"),\n",
    "leg=list(pos=\"topleft\",leg=c(\"target\",\"predictions\")),main=\"Multiple Linear Regression\")\n",
    "\n",
    "cat(\"MAE:\",round(mmetric(Target,Pred,metric=\"MAE\"),2),\"\\n\")\n",
    "cat(\"NMAE:\",round(mmetric(Target,Pred,metric=\"NMAE\"),2),\"\\n\")"
   ]
  },
  {
   "cell_type": "markdown",
   "id": "9a04697d",
   "metadata": {},
   "source": [
    "#### KSVM"
   ]
  },
  {
   "cell_type": "code",
   "execution_count": 120,
   "id": "c134b8d9",
   "metadata": {},
   "outputs": [
    {
     "name": "stdout",
     "output_type": "stream",
     "text": [
      "Target Values: 4974 3228 3191 4153 4307 4660 6193 \n",
      "Predictions: 3722.704 4228.571 3186.75 3328.989 2643.094 3847.016 3775.707 \n",
      "MAE: 1139.19 \n",
      "NMAE: 37.95 \n"
     ]
    },
    {
     "data": {
      "image/png": "[encoded data removed]",
      "text/plain": [
       "Plot with title \"KSVM\""
      ]
     },
     "metadata": {},
     "output_type": "display_data"
    }
   ],
   "source": [
    "MR=fit(all~.,train,model=\"ksvm\")\n",
    "cat(\"Target Values:\",Target,\"\\n\")\n",
    "\n",
    "Pred = predict(MR,test)\n",
    "cat(\"Predictions:\",Pred,\"\\n\")\n",
    "\n",
    "mgraph(Target,Pred,graph=\"REG\",Grid=10,col=c(\"black\",\"blue\"),\n",
    "leg=list(pos=\"topleft\",leg=c(\"target\",\"predictions\")),main=\"KSVM\")\n",
    "\n",
    "cat(\"MAE:\",round(mmetric(Target,Pred,metric=\"MAE\"),2),\"\\n\")\n",
    "cat(\"NMAE:\",round(mmetric(Target,Pred,metric=\"NMAE\"),2),\"\\n\")"
   ]
  },
  {
   "cell_type": "markdown",
   "id": "2d3ed20e",
   "metadata": {},
   "source": [
    "#### MLPE"
   ]
  },
  {
   "cell_type": "code",
   "execution_count": 126,
   "id": "63fa4736",
   "metadata": {},
   "outputs": [
    {
     "name": "stdout",
     "output_type": "stream",
     "text": [
      "Target Values: 4974 3228 3191 4153 4307 4660 6193 \n",
      "Predictions: 3566.065 3648.961 3393.688 3499.245 3587.181 3799.319 3790.773 \n",
      "MAE: 952.58 \n",
      "NMAE: 31.73 \n"
     ]
    },
    {
     "data": {
      "image/png": "[encoded data removed]",
      "text/plain": [
       "Plot with title \"MLPE\""
      ]
     },
     "metadata": {},
     "output_type": "display_data"
    }
   ],
   "source": [
    "MR=fit(all~.,train,model=\"mlpe\")\n",
    "cat(\"Target Values:\",Target,\"\\n\")\n",
    "\n",
    "Pred = predict(MR,test)\n",
    "cat(\"Predictions:\",Pred,\"\\n\")\n",
    "\n",
    "mgraph(Target,Pred,graph=\"REG\",Grid=10,col=c(\"black\",\"blue\"),\n",
    "leg=list(pos=\"topleft\",leg=c(\"target\",\"predictions\")),main=\"MLPE\")\n",
    "\n",
    "cat(\"MAE:\",round(mmetric(Target,Pred,metric=\"MAE\"),2),\"\\n\")\n",
    "cat(\"NMAE:\",round(mmetric(Target,Pred,metric=\"NMAE\"),2),\"\\n\")"
   ]
  },
  {
   "cell_type": "markdown",
   "id": "214a95b4",
   "metadata": {},
   "source": [
    "### CasesSeries (Testes)"
   ]
  },
  {
   "cell_type": "code",
   "execution_count": 157,
   "id": "261bac93",
   "metadata": {},
   "outputs": [],
   "source": [
    "cs = CasesSeries(data$all,c(1:7))"
   ]
  },
  {
   "cell_type": "code",
   "execution_count": 158,
   "id": "9e959963",
   "metadata": {},
   "outputs": [
    {
     "data": {
      "text/html": [
       "<ol class=list-inline>\n",
       "\t<li>6442.11975983553</li>\n",
       "\t<li>3270.5049718471</li>\n",
       "\t<li>3091.10562725987</li>\n",
       "\t<li>1733.98371170352</li>\n",
       "\t<li>3829.56929005012</li>\n",
       "\t<li>4595.19455984339</li>\n",
       "\t<li>8321.79038641646</li>\n",
       "</ol>\n"
      ],
      "text/latex": [
       "\\begin{enumerate*}\n",
       "\\item 6442.11975983553\n",
       "\\item 3270.5049718471\n",
       "\\item 3091.10562725987\n",
       "\\item 1733.98371170352\n",
       "\\item 3829.56929005012\n",
       "\\item 4595.19455984339\n",
       "\\item 8321.79038641646\n",
       "\\end{enumerate*}\n"
      ],
      "text/markdown": [
       "1. 6442.11975983553\n",
       "2. 3270.5049718471\n",
       "3. 3091.10562725987\n",
       "4. 1733.98371170352\n",
       "5. 3829.56929005012\n",
       "6. 4595.19455984339\n",
       "7. 8321.79038641646\n",
       "\n",
       "\n"
      ],
      "text/plain": [
       "[1] 6442.120 3270.505 3091.106 1733.984 3829.569 4595.195 8321.790"
      ]
     },
     "metadata": {},
     "output_type": "display_data"
    },
    {
     "name": "stdout",
     "output_type": "stream",
     "text": [
      "MAE= 957.2231 \n"
     ]
    }
   ],
   "source": [
    "NN=rminer::fit(y~.,cs[1:243,],model=\"mlpe\",search=\"heuristic\")\n",
    "PNN=predict(NN,cs[244:250,])\n",
    "PNN\n",
    "\n",
    "cat(\"MAE=\",mmetric(cs[244:250,]$y,PNN,metric=\"MAE\",val=srange),\"\\n\")"
   ]
  },
  {
   "cell_type": "code",
   "execution_count": 159,
   "id": "9b8d5531",
   "metadata": {},
   "outputs": [
    {
     "data": {
      "text/html": [
       "<ol class=list-inline>\n",
       "\t<li>4974</li>\n",
       "\t<li>3228</li>\n",
       "\t<li>3191</li>\n",
       "\t<li>4153</li>\n",
       "\t<li>4307</li>\n",
       "\t<li>4660</li>\n",
       "\t<li>6193</li>\n",
       "</ol>\n"
      ],
      "text/latex": [
       "\\begin{enumerate*}\n",
       "\\item 4974\n",
       "\\item 3228\n",
       "\\item 3191\n",
       "\\item 4153\n",
       "\\item 4307\n",
       "\\item 4660\n",
       "\\item 6193\n",
       "\\end{enumerate*}\n"
      ],
      "text/markdown": [
       "1. 4974\n",
       "2. 3228\n",
       "3. 3191\n",
       "4. 4153\n",
       "5. 4307\n",
       "6. 4660\n",
       "7. 6193\n",
       "\n",
       "\n"
      ],
      "text/plain": [
       "[1] 4974 3228 3191 4153 4307 4660 6193"
      ]
     },
     "metadata": {},
     "output_type": "display_data"
    }
   ],
   "source": [
    "cs[244:250,]$y"
   ]
  },
  {
   "cell_type": "code",
   "execution_count": 160,
   "id": "26d34ace",
   "metadata": {},
   "outputs": [
    {
     "data": {
      "text/html": [
       "<ol class=list-inline>\n",
       "\t<li>4927.91891478052</li>\n",
       "\t<li>3481.77322271888</li>\n",
       "\t<li>4918.55800346472</li>\n",
       "\t<li>4929.02216211156</li>\n",
       "\t<li>4921.61292027468</li>\n",
       "\t<li>4895.98237310882</li>\n",
       "\t<li>4901.21824018342</li>\n",
       "</ol>\n"
      ],
      "text/latex": [
       "\\begin{enumerate*}\n",
       "\\item 4927.91891478052\n",
       "\\item 3481.77322271888\n",
       "\\item 4918.55800346472\n",
       "\\item 4929.02216211156\n",
       "\\item 4921.61292027468\n",
       "\\item 4895.98237310882\n",
       "\\item 4901.21824018342\n",
       "\\end{enumerate*}\n"
      ],
      "text/markdown": [
       "1. 4927.91891478052\n",
       "2. 3481.77322271888\n",
       "3. 4918.55800346472\n",
       "4. 4929.02216211156\n",
       "5. 4921.61292027468\n",
       "6. 4895.98237310882\n",
       "7. 4901.21824018342\n",
       "\n",
       "\n"
      ],
      "text/plain": [
       "[1] 4927.919 3481.773 4918.558 4929.022 4921.613 4895.982 4901.218"
      ]
     },
     "metadata": {},
     "output_type": "display_data"
    },
    {
     "name": "stdout",
     "output_type": "stream",
     "text": [
      "MAE= 706.5445 \n"
     ]
    }
   ],
   "source": [
    "NN=rminer::fit(all~.,train,model=\"mlpe\",search=\"heuristic\")\n",
    "PNN=predict(NN,test)\n",
    "PNN\n",
    "\n",
    "cat(\"MAE=\",mmetric(test$all,PNN,metric=\"MAE\",val=srange),\"\\n\")"
   ]
  },
  {
   "cell_type": "markdown",
   "id": "435a3348",
   "metadata": {},
   "source": [
    "## Time Series Forecast (Window Training)"
   ]
  },
  {
   "cell_type": "code",
   "execution_count": 245,
   "id": "b08c4ad5",
   "metadata": {},
   "outputs": [],
   "source": [
    "Test=7 # H, the number of multi-ahead steps, adjust if needed\n",
    "S=7 # step jump: set in this case to 4 months, a quarter\n",
    "Runs=7 # number of growing window iterations, adjust if needed"
   ]
  },
  {
   "cell_type": "code",
   "execution_count": 246,
   "id": "36064388",
   "metadata": {},
   "outputs": [],
   "source": [
    "# forecast:\n",
    "W=(length(data$all)-Test)-(Runs-1)*S # initial training window size for the ts space (forecast methods)\n",
    "\n",
    "# rminer:\n",
    "timelags=c(1:7) # 1 previous month, 12 and 13 previous year months, you can test other combinations, such as 1:13\n",
    "D=CasesSeries(data$all,timelags) # note: nrow(D) is smaller by max timelags than length(d1)\n",
    "W2=W-max(timelags) # initial training window size for the D space (CasesSeries, rminer methods)\n",
    "\n",
    "YR=diff(range(data$all)) # global Y range, use the same range for the NMAE calculation in all iterations\n",
    "\n",
    "ev=vector(length=Runs) # error vector for \"mlpe\"\n",
    "ev2=vector(length=Runs) # error vector for \"Holtwinters\"\n",
    "ev3=vector(length=Runs) # error vector for \"Arima\"\n",
    "ev4=vector(length=Runs) # error vector for \"NN\"\n",
    "ev5=vector(length=Runs) # error vector for \"RandomForest\"\n",
    "\n",
    "\n",
    "trinit=1"
   ]
  },
  {
   "cell_type": "markdown",
   "id": "40b0aa2c",
   "metadata": {},
   "source": [
    "### Growing Window"
   ]
  },
  {
   "cell_type": "code",
   "execution_count": 247,
   "id": "ccc40754",
   "metadata": {},
   "outputs": [],
   "source": [
    "for(b in 1:Runs)\n",
    "{\n",
    "  # Holdout and TS creation\n",
    "  H=holdout(d1,ratio=Test,mode=\"incremental\",iter=b,window=W,increment=S)   \n",
    "  trinit=H$tr[1]\n",
    "  dtr=ts(d1[H$tr],frequency=K) # create ts object, note that there is no start argument (for simplicity of the code)\n",
    "    \n",
    "  # HoltWinters(forecast)  \n",
    "  M=suppressWarnings(HoltWinters(dtr)) # create forecasting model, suppressWarnings removes warnings from HW method\n",
    "  Pred=forecast(M,h=length(H$ts))$mean[1:Test] # multi-step ahead forecasts\n",
    "  ev2[b]=mmetric(y=d1[H$ts],x=Pred,metric=\"MAE\",val=YR)\n",
    "    \n",
    "  # Arima(forecast)\n",
    "  M3 = auto.arima(dtr)\n",
    "  Pred3 = forecast(M3,h=length(H$ts))$mean[1:Test]\n",
    "  ev3[b]=mmetric(y=d1[H$ts],x=Pred3,metric=\"MAE\",val=YR)\n",
    "    \n",
    "  # Neural Network(forecast)\n",
    "  M4 = nnetar(dtr,P=1,repeats=3)\n",
    "  Pred4 = forecast(M4,h=length(H$ts))$mean[1:Test]\n",
    "  ev4[b]=mmetric(y=d1[H$ts],x=Pred4,metric=\"MAE\",val=YR)\n",
    "    \n",
    "  # Neural Network (Rminer)\n",
    "  H2=holdout(D$y,ratio=Test,mode=\"incremental\",iter=b,window=W2,increment=S)    \n",
    "  M2=fit(y~.,D[H2$tr,],model=\"mlpe\")\n",
    "  Pred2=lforecast(M2,D,start=(length(H2$tr)+1),Test)\n",
    "  ev[b]=mmetric(y=data$all[H$ts],x=Pred2,metric=\"MAE\",val=YR)\n",
    "  \n",
    "  # Random Forest (Rminer)\n",
    "  M5=fit(y~.,D[H2$tr,],model=\"lm\")\n",
    "  Pred5=lforecast(M5,D,start=(length(H2$tr)+1),Test)\n",
    "  ev5[b]=mmetric(y=data$all[H$ts],x=Pred5,metric=\"MAE\",val=YR)\n",
    "}"
   ]
  },
  {
   "cell_type": "code",
   "execution_count": 248,
   "id": "1214dd54",
   "metadata": {},
   "outputs": [
    {
     "name": "stdout",
     "output_type": "stream",
     "text": [
      "mlpe median MAE: 916.0036 \n",
      "HW median MAE: 567.1707 \n",
      "Arima median MAE: 580.9973 \n",
      "NN median MAE: 1243.631 \n",
      "NN median MAE: 958.0034 \n"
     ]
    }
   ],
   "source": [
    "cat(\"mlpe median MAE:\",median(ev),\"\\n\")\n",
    "cat(\"HW median MAE:\",median(ev2),\"\\n\")\n",
    "cat(\"Arima median MAE:\",median(ev3),\"\\n\")\n",
    "cat(\"NN median MAE:\",median(ev4),\"\\n\")\n",
    "cat(\"NN median MAE:\",median(ev5),\"\\n\")"
   ]
  },
  {
   "cell_type": "markdown",
   "id": "6a147dbf",
   "metadata": {},
   "source": [
    "### Rolling Window"
   ]
  },
  {
   "cell_type": "code",
   "execution_count": 220,
   "id": "12bade3b",
   "metadata": {},
   "outputs": [],
   "source": [
    "# Reset all metrics\n",
    "ev=vector(length=Runs) # error vector for \"mlpe\"\n",
    "ev2=vector(length=Runs) # error vector for \"Holtwinters\"\n",
    "ev3=vector(length=Runs) # error vector for \"Arima\"\n",
    "ev4=vector(length=Runs) # error vector for \"NN\"\n",
    "ev5=vector(length=Runs) # error vector for \"RandomForest\"\n",
    "\n",
    "for(b in 1:Runs)\n",
    "{\n",
    "  # Holdout and TS creation\n",
    "  H=holdout(d1,ratio=Test,mode=\"rolling\",iter=b,window=W,increment=S)   \n",
    "  trinit=H$tr[1]\n",
    "  dtr=ts(d1[H$tr],frequency=K) # create ts object, note that there is no start argument (for simplicity of the code)\n",
    "    \n",
    "  # HoltWinters(forecast)  \n",
    "  M=suppressWarnings(HoltWinters(dtr)) # create forecasting model, suppressWarnings removes warnings from HW method\n",
    "  Pred=forecast(M,h=length(H$ts))$mean[1:Test] # multi-step ahead forecasts\n",
    "  ev2[b]=mmetric(y=d1[H$ts],x=Pred,metric=\"MAE\",val=YR)\n",
    "    \n",
    "  # Arima(forecast)\n",
    "  M3 = auto.arima(dtr)\n",
    "  Pred3 = forecast(M3,h=length(H$ts))$mean[1:Test]\n",
    "  ev3[b]=mmetric(y=d1[H$ts],x=Pred3,metric=\"MAE\",val=YR)\n",
    "    \n",
    "  # Neural Network(forecast)\n",
    "  M4 = nnetar(dtr,P=1,repeats=3)\n",
    "  Pred4 = forecast(M4,h=length(H$ts))$mean[1:Test]\n",
    "  ev4[b]=mmetric(y=d1[H$ts],x=Pred4,metric=\"MAE\",val=YR)\n",
    "    \n",
    "  # Neural Network (Rminer)\n",
    "  H2=holdout(D$y,ratio=Test,mode=\"incremental\",iter=b,window=W2,increment=S)    \n",
    "  M2=fit(y~.,D[H2$tr,],model=\"mlpe\")\n",
    "  Pred2=lforecast(M2,D,start=(length(H2$tr)+1),Test)\n",
    "  ev[b]=mmetric(y=data$all[H$ts],x=Pred2,metric=\"MAE\",val=YR)\n",
    "  \n",
    "  # Random Forest (Rminer)\n",
    "  M5=fit(y~.,D[H2$tr,],model=\"lm\")\n",
    "  Pred5=lforecast(M5,D,start=(length(H2$tr)+1),Test)\n",
    "  ev5[b]=mmetric(y=data$all[H$ts],x=Pred5,metric=\"MAE\",val=YR)\n",
    "}"
   ]
  },
  {
   "cell_type": "code",
   "execution_count": 221,
   "id": "3f23a050",
   "metadata": {},
   "outputs": [
    {
     "name": "stdout",
     "output_type": "stream",
     "text": [
      "mlpe median MAE: 857.7732 \n",
      "HW median MAE: 686.8251 \n",
      "Arima median MAE: 741.5507 \n",
      "NN median MAE: 1474.99 \n",
      "NN median MAE: 958.0034 \n"
     ]
    }
   ],
   "source": [
    "# Medias de Metricas\n",
    "cat(\"mlpe median MAE:\",median(ev),\"\\n\")\n",
    "cat(\"HW median MAE:\",median(ev2),\"\\n\")\n",
    "cat(\"Arima median MAE:\",median(ev3),\"\\n\")\n",
    "cat(\"NN median MAE:\",median(ev4),\"\\n\")\n",
    "cat(\"NN median MAE:\",median(ev5),\"\\n\")"
   ]
  },
  {
   "cell_type": "markdown",
   "id": "d359f9ab",
   "metadata": {},
   "source": [
    "### Simple Time Series Forecast"
   ]
  },
  {
   "cell_type": "code",
   "execution_count": 222,
   "id": "29434316",
   "metadata": {
    "scrolled": true
   },
   "outputs": [],
   "source": [
    "TS = data$all\n",
    "\n",
    "K=7 # TS period (daily)\n",
    "\n",
    "L=length(TS)\n",
    "NTS=K # number of predictions (7)\n",
    "H=NTS # from 1 to H ahead predictions (7)\n",
    "LTR=L-H\n",
    "# according to the ts function documentation: frequency=7 assumes daily data, frequency=4 or 12 assumes quarterly and monthly data\n",
    "TR=ts(TS[1:LTR],frequency=K)\n",
    "\n",
    "# target predictions:\n",
    "Y=TS[(LTR+1):L]"
   ]
  },
  {
   "cell_type": "markdown",
   "id": "4736da4e",
   "metadata": {},
   "source": [
    "### TSF Neural Network Rminer"
   ]
  },
  {
   "cell_type": "code",
   "execution_count": 223,
   "id": "5f3bab93",
   "metadata": {},
   "outputs": [
    {
     "name": "stdout",
     "output_type": "stream",
     "text": [
      "      lag7            lag6            lag5            lag4      \n",
      " Min.   :  375   Min.   :  375   Min.   :  375   Min.   :  375  \n",
      " 1st Qu.: 2564   1st Qu.: 2565   1st Qu.: 2565   1st Qu.: 2578  \n",
      " Median : 3625   Median : 3636   Median : 3636   Median : 3636  \n",
      " Mean   : 3628   Mean   : 3638   Mean   : 3640   Mean   : 3643  \n",
      " 3rd Qu.: 4304   3rd Qu.: 4312   3rd Qu.: 4312   3rd Qu.: 4312  \n",
      " Max.   :15735   Max.   :15735   Max.   :15735   Max.   :15735  \n",
      "      lag3            lag2            lag1             y        \n",
      " Min.   :  375   Min.   :  375   Min.   :  375   Min.   :  375  \n",
      " 1st Qu.: 2578   1st Qu.: 2578   1st Qu.: 2578   1st Qu.: 2578  \n",
      " Median : 3655   Median : 3655   Median : 3655   Median : 3667  \n",
      " Mean   : 3646   Mean   : 3644   Mean   : 3643   Mean   : 3657  \n",
      " 3rd Qu.: 4312   3rd Qu.: 4308   3rd Qu.: 4308   3rd Qu.: 4312  \n",
      " Max.   :15735   Max.   :15735   Max.   :15735   Max.   :15735  \n",
      "[1] 5626.506 2944.926 3879.475 3445.880 3195.655 3668.921 4061.239\n",
      "MAE: 937.9086 \n"
     ]
    },
    {
     "data": {
      "image/png": "[encoded data removed]",
      "text/plain": [
       "Plot with title \"\""
      ]
     },
     "metadata": {},
     "output_type": "display_data"
    }
   ],
   "source": [
    "# neural network modeling, via rminer:\n",
    "d=CasesSeries(TS,c(1:7)) # data.frame from time series (domain knowledge for the 1,12,13 time lag selection)\n",
    "print(summary(d))\n",
    "LD=nrow(d) # note: LD < L\n",
    "hd=holdout(d$y,ratio=NTS,mode=\"order\")\n",
    "NN2=fit(y~.,d[hd$tr,],model=\"mlpe\")\n",
    "init=hd$ts[1] # or same as: init=LD-H+1\n",
    "F5=lforecast(NN2,d,start=hd$ts[1],horizon=H)\n",
    "print(F5)\n",
    "Pred5=F5\n",
    "mgraph(Y,Pred5,graph=\"REG\",Grid=10,col=c(\"black\",\"blue\"),leg=list(pos=\"topleft\",leg=c(\"target\",\"NN2 pred.\")))\n",
    "cat(\"MAE:\",mmetric(Y,Pred5,metric=\"MAE\"),\"\\n\")"
   ]
  },
  {
   "cell_type": "markdown",
   "id": "36b20c1d",
   "metadata": {},
   "source": [
    "### TSF Random Forest RMiner"
   ]
  },
  {
   "cell_type": "code",
   "execution_count": 47,
   "id": "f5c2700d",
   "metadata": {},
   "outputs": [
    {
     "name": "stdout",
     "output_type": "stream",
     "text": [
      "[1] 6852.686 4155.948 4244.913 3277.781 3846.433 5787.293 6575.399\n",
      "MAE: 1961.467 \n"
     ]
    },
    {
     "data": {
      "image/png": "[encoded data removed]",
      "text/plain": [
       "Plot with title \"\""
      ]
     },
     "metadata": {},
     "output_type": "display_data"
    }
   ],
   "source": [
    "# random forest modeling, via rminer:\n",
    "LM=fit(y~.,d[hd$tr,],model=\"lm\")\n",
    "init=hd$ts[1] # or same as: init=LD-H+1\n",
    "F6=lforecast(LM,d,start=hd$ts[1],horizon=H)\n",
    "print(F6)\n",
    "Pred6=F6\n",
    "mgraph(Y,Pred6,graph=\"REG\",Grid=10,col=c(\"black\",\"blue\"),leg=list(pos=\"topleft\",leg=c(\"target\",\"LM pred.\")))\n",
    "cat(\"MAE:\",mmetric(Y,Pred5,metric=\"MAE\"),\"\\n\")"
   ]
  },
  {
   "cell_type": "markdown",
   "id": "b3c4035a",
   "metadata": {},
   "source": [
    "### TSF HoltWinters Forecast"
   ]
  },
  {
   "cell_type": "code",
   "execution_count": 224,
   "id": "7447ae2c",
   "metadata": {},
   "outputs": [
    {
     "name": "stdout",
     "output_type": "stream",
     "text": [
      "Holt-Winters exponential smoothing with trend and additive seasonal component.\n",
      "\n",
      "Call:\n",
      "HoltWinters(x = TR)\n",
      "\n",
      "Smoothing parameters:\n",
      " alpha: 0.2520264\n",
      " beta : 0.006189851\n",
      " gamma: 0.06395933\n",
      "\n",
      "Coefficients:\n",
      "          [,1]\n",
      "a  5728.963667\n",
      "b     6.113966\n",
      "s1 1422.453791\n",
      "s2 -487.701507\n",
      "s3 -617.293636\n",
      "s4 -532.871026\n",
      "s5 -217.642027\n",
      "s6  117.962967\n",
      "s7 1536.118721\n",
      "[1] \"show holt winters forecasts:\"\n",
      "         Point Forecast    Lo 80    Hi 80    Lo 95     Hi 95\n",
      "36.71429       7157.531 5417.020 8898.043 4495.649  9819.414\n",
      "36.85714       5253.490 3457.888 7049.093 2507.353  7999.627\n",
      "37.00000       5130.012 3280.309 6979.715 2301.136  7958.888\n",
      "37.14286       5220.549 3317.648 7123.449 2310.313  8130.784\n",
      "37.28571       5541.891 3586.618 7497.165 2551.558  8532.224\n",
      "37.42857       5883.610 3876.720 7890.501 2814.337  8952.884\n",
      "37.57143       7307.880 5250.070 9365.691 4160.731 10455.030\n"
     ]
    },
    {
     "data": {
      "image/png": "[encoded data removed]",
      "text/plain": [
       "Plot with title \"Holt-Winters filtering\""
      ]
     },
     "metadata": {},
     "output_type": "display_data"
    },
    {
     "name": "stdout",
     "output_type": "stream",
     "text": [
      "MAE: 1541.281 \n"
     ]
    },
    {
     "data": {
      "image/png": "[encoded data removed]",
      "text/plain": [
       "Plot with title \"\""
      ]
     },
     "metadata": {},
     "output_type": "display_data"
    }
   ],
   "source": [
    "HW=suppressWarnings(HoltWinters(TR))\n",
    "print(HW)\n",
    "plot(HW)\n",
    "print(\"show holt winters forecasts:\")\n",
    "# forecasts, from 1 to H ahead:\n",
    "F=forecast(HW,h=7)\n",
    "print(F)\n",
    "Pred=F$mean[1:H] # HolWinters format\n",
    "mgraph(Y,Pred,graph=\"REG\",Grid=10,col=c(\"black\",\"blue\"),leg=list(pos=\"topleft\",leg=c(\"target\",\"HW pred.\")))\n",
    "cat(\"MAE:\",mmetric(Y,Pred,metric=\"MAE\"),\"\\n\")"
   ]
  },
  {
   "cell_type": "markdown",
   "id": "a415457b",
   "metadata": {},
   "source": [
    "### TSF Arima Forecast"
   ]
  },
  {
   "cell_type": "code",
   "execution_count": 50,
   "id": "4605a4af",
   "metadata": {},
   "outputs": [
    {
     "name": "stdout",
     "output_type": "stream",
     "text": [
      "Series: TR \n",
      "ARIMA(1,1,2)(0,0,2)[7] \n",
      "\n",
      "Coefficients:\n",
      "          ar1      ma1      ma2    sma1    sma2\n",
      "      -0.2240  -0.2929  -0.5906  0.1681  0.1292\n",
      "s.e.   0.1255   0.1025   0.0842  0.0682  0.0603\n",
      "\n",
      "sigma^2 estimated as 1868092:  log likelihood=-2149.54\n",
      "AIC=4311.08   AICc=4311.42   BIC=4332.18\n",
      "[1] \"show ARIMA forecasts:\"\n",
      "         Point Forecast    Lo 80    Hi 80    Lo 95    Hi 95\n",
      "36.71429       6523.476 4771.875 8275.077 3844.633 9202.318\n",
      "36.85714       3824.681 1879.352 5770.010  849.557 6799.804\n",
      "37.00000       4306.566 2361.183 6251.949 1331.359 7281.773\n",
      "37.14286       4242.406 2286.688 6198.124 1251.394 7233.419\n",
      "37.28571       4443.044 2480.868 6405.221 1442.154 7443.935\n",
      "37.42857       4801.816 2832.425 6771.208 1789.892 7813.741\n",
      "37.57143       5781.417 3805.014 7757.819 2758.770 8804.064\n",
      "MAE: 577.2247 \n"
     ]
    },
    {
     "data": {
      "image/png": "[encoded data removed]",
      "text/plain": [
       "Plot with title \"\""
      ]
     },
     "metadata": {},
     "output_type": "display_data"
    }
   ],
   "source": [
    "AR=auto.arima(TR)\n",
    "print(AR) # ARIMA(3,0,1)(2,1,0)[12] \n",
    "print(\"show ARIMA forecasts:\")\n",
    "# forecasts, from 1 to H ahead:\n",
    "F1=forecast(AR,h=H)\n",
    "print(F1)\n",
    "Pred1=F1$mean[1:H]\n",
    "mgraph(Y,Pred1,graph=\"REG\",Grid=10,col=c(\"black\",\"blue\"),leg=list(pos=\"topleft\",leg=c(\"target\",\" ARIMA pred.\")))\n",
    "cat(\"MAE:\",mmetric(Y,Pred1,metric=\"MAE\"),\"\\n\")"
   ]
  },
  {
   "cell_type": "markdown",
   "id": "ec6dc62f",
   "metadata": {},
   "source": [
    "### TSF Neural Network Forecast"
   ]
  },
  {
   "cell_type": "code",
   "execution_count": 51,
   "id": "29c0cc77",
   "metadata": {},
   "outputs": [
    {
     "name": "stdout",
     "output_type": "stream",
     "text": [
      "Series: TR \n",
      "Model:  NNAR(14,1,8)[7] \n",
      "Call:   nnetar(y = TR, P = 1, repeats = 3)\n",
      "\n",
      "Average of 3 networks, each of which is\n",
      "a 14-8-1 network with 129 weights\n",
      "options were - linear output units \n",
      "\n",
      "sigma^2 estimated as 132488\n",
      "MAE: 1008.35 \n"
     ]
    },
    {
     "data": {
      "image/png": "[encoded data removed]",
      "text/plain": [
       "Plot with title \"\""
      ]
     },
     "metadata": {},
     "output_type": "display_data"
    }
   ],
   "source": [
    "NN1=nnetar(TR,P=1,repeats=3)\n",
    "print(NN1)\n",
    "F3=forecast(NN1,h=H)\n",
    "Pred3=F3$mean[1:H] # HolWinters format\n",
    "mgraph(Y,Pred3,graph=\"REG\",Grid=10,col=c(\"black\",\"blue\"),leg=list(pos=\"topleft\",leg=c(\"target\",\"NN1 pred.\")))\n",
    "cat(\"MAE:\",mmetric(Y,Pred3,metric=\"MAE\"),\"\\n\")"
   ]
  },
  {
   "cell_type": "markdown",
   "id": "c98323df",
   "metadata": {},
   "source": [
    "### TSF ETS Forecast"
   ]
  },
  {
   "cell_type": "code",
   "execution_count": 52,
   "id": "1d57cc75",
   "metadata": {},
   "outputs": [
    {
     "name": "stdout",
     "output_type": "stream",
     "text": [
      "Series: TR \n",
      "Model:  NNAR(14,1,8)[7] \n",
      "Call:   nnetar(y = TR, P = 1, repeats = 3)\n",
      "\n",
      "Average of 3 networks, each of which is\n",
      "a 14-8-1 network with 129 weights\n",
      "options were - linear output units \n",
      "\n",
      "sigma^2 estimated as 109142\n",
      "MAE: 864.7843 \n"
     ]
    },
    {
     "data": {
      "image/png": "[encoded data removed]",
      "text/plain": [
       "Plot with title \"\""
      ]
     },
     "metadata": {},
     "output_type": "display_data"
    }
   ],
   "source": [
    "NN1=nnetar(TR,P=1,repeats=3)\n",
    "print(NN1)\n",
    "F3=forecast(NN1,h=H)\n",
    "Pred3=F3$mean[1:H] # HolWinters format\n",
    "mgraph(Y,Pred3,graph=\"REG\",Grid=10,col=c(\"black\",\"blue\"),leg=list(pos=\"topleft\",leg=c(\"target\",\"NN1 pred.\")))\n",
    "cat(\"MAE:\",mmetric(Y,Pred3,metric=\"MAE\"),\"\\n\")"
   ]
  },
  {
   "cell_type": "markdown",
   "id": "30d57f39",
   "metadata": {},
   "source": [
    "### TSF MLPE RMiner"
   ]
  },
  {
   "cell_type": "code",
   "execution_count": 59,
   "id": "fda866ad",
   "metadata": {},
   "outputs": [
    {
     "name": "stdout",
     "output_type": "stream",
     "text": [
      "SMAPE:  14.05 \n",
      "MAE:  624.93 \n",
      "NMAE:  20.82 \n"
     ]
    },
    {
     "data": {
      "image/png": "[encoded data removed]",
      "text/plain": [
       "Plot with title \"\""
      ]
     },
     "metadata": {},
     "output_type": "display_data"
    }
   ],
   "source": [
    "d1 = data[,1] #coluna all\n",
    "L = length(d1)\n",
    "K=7\n",
    "\n",
    "timelags = c(1:7)\n",
    "D = CasesSeries(d1,timelags)\n",
    "\n",
    "H=holdout(data$all,ratio=7,mode=\"order\")\n",
    "M=fit(y~.,D[H$tr,],model=\"mlpe\") # create forecasting model\n",
    "Pred=lforecast(M,D,start=(length(H$tr)+1),7)\n",
    "\n",
    "Target = d1[H$ts]\n",
    "\n",
    "cat(\"SMAPE: \",round(mmetric(Target,Pred,metric=\"SMAPE\"),2),\"\\n\")\n",
    "cat(\"MAE: \",round(mmetric(Target,Pred,metric=\"MAE\"),2),\"\\n\")\n",
    "cat(\"NMAE: \",round(mmetric(Target,Pred,metric=\"NMAE\"),2),\"\\n\")\n",
    "\n",
    "# last iteration predictions:\n",
    "mgraph(Target,Pred,graph=\"REG\",Grid=10,col=c(\"black\",\"blue\"),\n",
    "leg=list(pos=\"topleft\",leg=c(\"target\",\"predictions\")))"
   ]
  },
  {
   "cell_type": "markdown",
   "id": "385db143",
   "metadata": {},
   "source": [
    "### Comparison TSF (Rminer)"
   ]
  },
  {
   "cell_type": "code",
   "execution_count": 261,
   "id": "14cd4ba5",
   "metadata": {},
   "outputs": [],
   "source": [
    "d1 = data[,1] #coluna all\n",
    "L = length(d1)\n",
    "K=7\n",
    "\n",
    "timelags = c(1:7)\n",
    "D = CasesSeries(d1,timelags)\n",
    "\n",
    "models <- c(\"lm\",\"mlpe\",\"naive\",\"ctree\",\"mlp\",\"randomForest\",\"mr\",\"rvm\")\n",
    "\n",
    "H=holdout(data$all,ratio=7,mode=\"order\")\n",
    "\n",
    "Target = d1[H$ts]"
   ]
  },
  {
   "cell_type": "code",
   "execution_count": 268,
   "id": "508d0910",
   "metadata": {},
   "outputs": [
    {
     "name": "stdout",
     "output_type": "stream",
     "text": [
      "lm  - MAE -  513.39 \n",
      "lm  - NMAE -  17.1 \n",
      "----------------------------------------------------------------- \n",
      "mlpe  - MAE -  367.74 \n",
      "mlpe  - NMAE -  12.25 \n",
      "----------------------------------------------------------------- \n",
      "naive  - MAE -  985.45 \n",
      "naive  - NMAE -  32.83 \n",
      "----------------------------------------------------------------- \n",
      "ctree  - MAE -  781.12 \n",
      "ctree  - NMAE -  26.02 \n",
      "----------------------------------------------------------------- \n",
      "mlp  - MAE -  798.06 \n",
      "mlp  - NMAE -  26.58 \n",
      "----------------------------------------------------------------- \n",
      "randomForest  - MAE -  677.44 \n",
      "randomForest  - NMAE -  22.57 \n",
      "----------------------------------------------------------------- \n",
      "mr  - MAE -  513.39 \n",
      "mr  - NMAE -  17.1 \n",
      "----------------------------------------------------------------- \n",
      "rvm  - MAE -  2127.87 \n",
      "rvm  - NMAE -  70.88 \n",
      "----------------------------------------------------------------- \n"
     ]
    }
   ],
   "source": [
    "for (x in 1:length(models)) {\n",
    "  M=fit(y~.,D[H$tr,],model=models[x]) # create forecasting model\n",
    "  Pred=lforecast(M,D,start=(length(H$tr)+1),7)\n",
    "  mae = round(mmetric(Target,Pred,metric=\"MAE\"),2)\n",
    "  nmae = round(mmetric(Target,Pred,metric=\"NMAE\"),2)\n",
    "  cat(models[x],\" - MAE - \",mae,\"\\n\")\n",
    "  cat(models[x],\" - NMAE - \",nmae,\"\\n\")\n",
    "  cat(\"----------------------------------------------------------------- \\n\")\n",
    "}"
   ]
  },
  {
   "cell_type": "markdown",
   "id": "7132664a",
   "metadata": {},
   "source": [
    "### Comparison TSF (Forecast)"
   ]
  },
  {
   "cell_type": "code",
   "execution_count": 244,
   "id": "a7346bf4",
   "metadata": {},
   "outputs": [
    {
     "name": "stdout",
     "output_type": "stream",
     "text": [
      "HW  - MAE -  1541.28 \n",
      "HW  - NMAE -  51.34 \n",
      "ARIMA  - MAE -  577.22 \n",
      "ARIMA  - NMAE -  19.23 \n",
      "NN  - MAE -  1003.2 \n",
      "NN  - NMAE -  33.42 \n",
      "ETS  - MAE -  1400.58 \n",
      "ETS  - NMAE -  46.65 \n"
     ]
    }
   ],
   "source": [
    "LTR = L-K\n",
    "TS = ts(d1[1:LTR], frequency=7)\n",
    "\n",
    "\n",
    "# HW\n",
    "HW = suppressWarnings(HoltWinters(TS))\n",
    "F=forecast(HW,h=7)\n",
    "Pred=F$mean[1:7] # HolWinters format\n",
    "\n",
    "mae = round(mmetric(Target,Pred,metric=\"MAE\"),2)\n",
    "nmae = round(mmetric(Target,Pred,metric=\"NMAE\"),2)\n",
    "cat(\"HW\",\" - MAE - \",mae,\"\\n\")\n",
    "cat(\"HW\",\" - NMAE - \",nmae,\"\\n\")\n",
    "\n",
    "\n",
    "# ARIMA\n",
    "AR=auto.arima(TS)\n",
    "F1=forecast(AR,h=7)\n",
    "Pred1=F1$mean[1:7]\n",
    "\n",
    "mae = round(mmetric(Target,Pred1,metric=\"MAE\"),2)\n",
    "nmae = round(mmetric(Target,Pred1,metric=\"NMAE\"),2)\n",
    "cat(\"ARIMA\",\" - MAE - \",mae,\"\\n\")\n",
    "cat(\"ARIMA\",\" - NMAE - \",nmae,\"\\n\")\n",
    "\n",
    "\n",
    "# NN\n",
    "NN1=nnetar(TS,P=1,repeats=3)\n",
    "F3=forecast(NN1,h=7)\n",
    "Pred2=F3$mean[1:7] # HolWinters format\n",
    "\n",
    "mae = round(mmetric(Target,Pred2,metric=\"MAE\"),2)\n",
    "nmae = round(mmetric(Target,Pred2,metric=\"NMAE\"),2)\n",
    "cat(\"NN\",\" - MAE - \",mae,\"\\n\")\n",
    "cat(\"NN\",\" - NMAE - \",nmae,\"\\n\")\n",
    "\n",
    "\n",
    "# ETS\n",
    "ETS=ets(TS)\n",
    "F4=forecast(ETS,h=7)\n",
    "Pred3=F4$mean[1:7]\n",
    "\n",
    "mae = round(mmetric(Target,Pred3,metric=\"MAE\"),2)\n",
    "nmae = round(mmetric(Target,Pred3,metric=\"NMAE\"),2)\n",
    "cat(\"ETS\",\" - MAE - \",mae,\"\\n\")\n",
    "cat(\"ETS\",\" - NMAE - \",nmae,\"\\n\")"
   ]
  },
  {
   "cell_type": "markdown",
   "id": "453c684b",
   "metadata": {},
   "source": [
    "## Modelo Hibrido 1"
   ]
  },
  {
   "cell_type": "code",
   "execution_count": 61,
   "id": "a94b5b32",
   "metadata": {},
   "outputs": [],
   "source": [
    "#Data Prep\n",
    "d1 = data[,1] #coluna all\n",
    "L = length(d1)\n",
    "K=7\n",
    "\n",
    "timelags = c(1:7)\n",
    "D = CasesSeries(d1,timelags)"
   ]
  },
  {
   "cell_type": "code",
   "execution_count": 62,
   "id": "9bc46572",
   "metadata": {},
   "outputs": [],
   "source": [
    "# Data Seperation\n",
    "H=holdout(data$all,ratio=7,mode=\"order\")\n",
    "# Model Training\n",
    "M=fit(y~.,D[H$tr,],model=\"mlpe\") # create forecasting model\n",
    "# Forecast\n",
    "Pred=lforecast(M,D,start=(length(H$tr)+1),7)\n"
   ]
  },
  {
   "cell_type": "code",
   "execution_count": 63,
   "id": "594837d8",
   "metadata": {},
   "outputs": [
    {
     "name": "stdout",
     "output_type": "stream",
     "text": [
      "SMAPE:  17.27 \n",
      "MAE:  763.37 \n",
      "NMAE:  25.43 \n"
     ]
    },
    {
     "data": {
      "image/png": "[encoded data removed]",
      "text/plain": [
       "Plot with title \"\""
      ]
     },
     "metadata": {},
     "output_type": "display_data"
    }
   ],
   "source": [
    "# Metrics\n",
    "Target = d1[H$ts]\n",
    "\n",
    "cat(\"SMAPE: \",round(mmetric(Target,Pred,metric=\"SMAPE\"),2),\"\\n\")\n",
    "cat(\"MAE: \",round(mmetric(Target,Pred,metric=\"MAE\"),2),\"\\n\")\n",
    "cat(\"NMAE: \",round(mmetric(Target,Pred,metric=\"NMAE\"),2),\"\\n\")\n",
    "\n",
    "# last iteration predictions:\n",
    "mgraph(Target,Pred,graph=\"REG\",Grid=10,col=c(\"black\",\"blue\"),\n",
    "leg=list(pos=\"topleft\",leg=c(\"target\",\"predictions\")))"
   ]
  },
  {
   "cell_type": "code",
   "execution_count": 64,
   "id": "77cafc8a",
   "metadata": {},
   "outputs": [
    {
     "data": {
      "text/html": [
       "250"
      ],
      "text/latex": [
       "250"
      ],
      "text/markdown": [
       "250"
      ],
      "text/plain": [
       "[1] 250"
      ]
     },
     "metadata": {},
     "output_type": "display_data"
    },
    {
     "data": {
      "text/html": [
       "7"
      ],
      "text/latex": [
       "7"
      ],
      "text/markdown": [
       "7"
      ],
      "text/plain": [
       "[1] 7"
      ]
     },
     "metadata": {},
     "output_type": "display_data"
    },
    {
     "data": {
      "text/html": [
       "257"
      ],
      "text/latex": [
       "257"
      ],
      "text/markdown": [
       "257"
      ],
      "text/plain": [
       "[1] 257"
      ]
     },
     "metadata": {},
     "output_type": "display_data"
    }
   ],
   "source": [
    "mfit=predict(M,D[H$tr,])\n",
    "df1 = data.frame(mfit)\n",
    "colnames(df1) <- \"pred\"\n",
    "df2 = data.frame(Pred)\n",
    "colnames(df2) <- \"pred\"\n",
    "df3 = rbind(df1,df2)\n",
    "\n",
    "nrow(df1)\n",
    "nrow(df2)\n",
    "nrow(df3)"
   ]
  },
  {
   "cell_type": "code",
   "execution_count": 65,
   "id": "77f102ce",
   "metadata": {},
   "outputs": [
    {
     "data": {
      "text/html": [
       "<table>\n",
       "<thead><tr><th scope=col>all</th><th scope=col>weather</th><th scope=col>maxtemp</th><th scope=col>RH</th><th scope=col>maxwind</th><th scope=col>pred</th></tr></thead>\n",
       "<tbody>\n",
       "\t<tr><td>2332    </td><td>0       </td><td>13      </td><td>87      </td><td> 0      </td><td>2330.618</td></tr>\n",
       "\t<tr><td>2801    </td><td>0       </td><td>14      </td><td>94      </td><td>45      </td><td>3381.073</td></tr>\n",
       "\t<tr><td>2375    </td><td>0       </td><td>14      </td><td>82      </td><td>55      </td><td>2848.203</td></tr>\n",
       "\t<tr><td>3447    </td><td>1       </td><td>13      </td><td>78      </td><td> 0      </td><td>3199.309</td></tr>\n",
       "\t<tr><td>4823    </td><td>0       </td><td>16      </td><td>81      </td><td>37      </td><td>5264.732</td></tr>\n",
       "\t<tr><td>4978    </td><td>0       </td><td>16      </td><td>73      </td><td> 0      </td><td>4206.824</td></tr>\n",
       "</tbody>\n",
       "</table>\n"
      ],
      "text/latex": [
       "\\begin{tabular}{r|llllll}\n",
       " all & weather & maxtemp & RH & maxwind & pred\\\\\n",
       "\\hline\n",
       "\t 2332     & 0        & 13       & 87       &  0       & 2330.618\\\\\n",
       "\t 2801     & 0        & 14       & 94       & 45       & 3381.073\\\\\n",
       "\t 2375     & 0        & 14       & 82       & 55       & 2848.203\\\\\n",
       "\t 3447     & 1        & 13       & 78       &  0       & 3199.309\\\\\n",
       "\t 4823     & 0        & 16       & 81       & 37       & 5264.732\\\\\n",
       "\t 4978     & 0        & 16       & 73       &  0       & 4206.824\\\\\n",
       "\\end{tabular}\n"
      ],
      "text/markdown": [
       "\n",
       "| all | weather | maxtemp | RH | maxwind | pred |\n",
       "|---|---|---|---|---|---|\n",
       "| 2332     | 0        | 13       | 87       |  0       | 2330.618 |\n",
       "| 2801     | 0        | 14       | 94       | 45       | 3381.073 |\n",
       "| 2375     | 0        | 14       | 82       | 55       | 2848.203 |\n",
       "| 3447     | 1        | 13       | 78       |  0       | 3199.309 |\n",
       "| 4823     | 0        | 16       | 81       | 37       | 5264.732 |\n",
       "| 4978     | 0        | 16       | 73       |  0       | 4206.824 |\n",
       "\n"
      ],
      "text/plain": [
       "  all  weather maxtemp RH maxwind pred    \n",
       "1 2332 0       13      87  0      2330.618\n",
       "2 2801 0       14      94 45      3381.073\n",
       "3 2375 0       14      82 55      2848.203\n",
       "4 3447 1       13      78  0      3199.309\n",
       "5 4823 0       16      81 37      5264.732\n",
       "6 4978 0       16      73  0      4206.824"
      ]
     },
     "metadata": {},
     "output_type": "display_data"
    }
   ],
   "source": [
    "bind = data.frame(cbind(data,df3))\n",
    "head(bind)"
   ]
  },
  {
   "cell_type": "code",
   "execution_count": 66,
   "id": "e734ebc1",
   "metadata": {},
   "outputs": [
    {
     "name": "stdout",
     "output_type": "stream",
     "text": [
      "Target Values: 4974 3228 3191 4153 4307 4660 6193 \n",
      "Predictions: 4838.179 3323.614 4771.04 4875.906 4803.471 4790.973 4813.521 \n",
      "MAE: 648.76 \n",
      "NMAE: 21.61 \n"
     ]
    },
    {
     "data": {
      "image/png": "[encoded data removed]",
      "text/plain": [
       "Plot with title \"MLPE\""
      ]
     },
     "metadata": {},
     "output_type": "display_data"
    }
   ],
   "source": [
    "H=holdout(bind$all,ratio=7,mode=\"order\")\n",
    "\n",
    "# Seleção dos dados de Treino\n",
    "train = bind[H$tr,]\n",
    "\n",
    "# Seleção dos dados de Teste\n",
    "test = bind[H$ts,]\n",
    "\n",
    "MR=fit(all~.,train,model=\"mlpe\")\n",
    "cat(\"Target Values:\",Target,\"\\n\")\n",
    "\n",
    "Pred = predict(MR,test)\n",
    "cat(\"Predictions:\",Pred,\"\\n\")\n",
    "\n",
    "mgraph(Target,Pred,graph=\"REG\",Grid=10,col=c(\"black\",\"blue\"),\n",
    "leg=list(pos=\"topleft\",leg=c(\"target\",\"predictions\")),main=\"MLPE\")\n",
    "\n",
    "cat(\"MAE:\",round(mmetric(Target,Pred,metric=\"MAE\"),2),\"\\n\")\n",
    "cat(\"NMAE:\",round(mmetric(Target,Pred,metric=\"NMAE\"),2),\"\\n\")"
   ]
  },
  {
   "cell_type": "code",
   "execution_count": null,
   "id": "8f23b2c8",
   "metadata": {},
   "outputs": [],
   "source": [
    "# Ciclo for com as varias configuracoes do metodo fit para descobrir quais sao as melhroes"
   ]
  },
  {
   "cell_type": "markdown",
   "id": "eae9e5eb",
   "metadata": {},
   "source": [
    "### Modelo Hibrido 2"
   ]
  },
  {
   "cell_type": "code",
   "execution_count": 93,
   "id": "89253afd",
   "metadata": {},
   "outputs": [
    {
     "name": "stdout",
     "output_type": "stream",
     "text": [
      "incremental (growing) window training demonstration:"
     ]
    }
   ],
   "source": [
    "d1 = data[,1] # coluna all\n",
    "L = length(d1) # 257\n",
    "K=7\n",
    "\n",
    "cat(\"incremental (growing) window training demonstration:\")\n",
    "\n",
    "Test=K # H, the number of multi-ahead steps, adjust if needed\n",
    "S=K # step jump: set in this case to 7 predictions\n",
    "Runs=7 # number of growing window iterations, adjust if needed (49 dias)\n",
    "\n",
    "# forecast:\n",
    "W=(L-Test)-(Runs-1)*S # initial training window size for the ts space (forecast methods)\n",
    "\n",
    "# rminer:\n",
    "timelags=c(1:7) # 1 previous day until 7 previous days\n",
    "D=CasesSeries(d1,timelags) # note: nrow(D) is smaller by max timelags than length(d1)\n",
    "W2=W-max(timelags) # initial training window size for the D space (CasesSeries, rminer methods)\n",
    "\n",
    "YR=diff(range(d1)) # global Y range, use the same range for the NMAE calculation in all iterations\n",
    "\n",
    "ev=vector(length=Runs) # error vector for \"HoltWinters\"\n",
    "ev2=vector(length=Runs) # error vector for \"mlpe\"\n",
    "ev3=vector(length=Runs) # error vector for hybrid\n",
    "\n",
    "# growing window demo, rolling window can also be used:\n",
    "\n",
    "# code for 1 iteration:\n",
    "b=1"
   ]
  },
  {
   "cell_type": "code",
   "execution_count": 94,
   "id": "18a5be05",
   "metadata": {},
   "outputs": [
    {
     "name": "stdout",
     "output_type": "stream",
     "text": [
      "iter: 1 TR from: 1 to: 208 size: 208 TS from: 209 to: 215 size: 7 nmae: 469.481 , 648.1563 , 700.2081 \n",
      "iter: 2 TR from: 1 to: 215 size: 215 TS from: 216 to: 222 size: 7 nmae: 964.4839 , 1283.943 , 1196.44 \n",
      "iter: 3 TR from: 1 to: 222 size: 222 TS from: 223 to: 229 size: 7 nmae: 392.281 , 556.815 , 519.6327 \n",
      "iter: 4 TR from: 1 to: 229 size: 229 TS from: 230 to: 236 size: 7 nmae: 567.1707 , 892.2222 , 929.9241 \n",
      "iter: 5 TR from: 1 to: 236 size: 236 TS from: 237 to: 243 size: 7 nmae: 383.2648 , 727.2062 , 1037.574 \n",
      "iter: 6 TR from: 1 to: 243 size: 243 TS from: 244 to: 250 size: 7 nmae: 1610.784 , 1770.146 , 1709.344 \n",
      "iter: 7 TR from: 1 to: 250 size: 250 TS from: 251 to: 257 size: 7 nmae: 1541.281 , 783.3119 , 690.1004 \n"
     ]
    }
   ],
   "source": [
    "for(b in 1:Runs)  # cycle of the incremental window training (growing window)\n",
    "{\n",
    "  # code for the forecast package methods, HoltWinters is just an example:\n",
    "  H=holdout(d1,ratio=Test,mode=\"incremental\",iter=b,window=W,increment=S)\n",
    "  trinit=H$tr[1]\n",
    "  dtr=ts(d1[H$tr],frequency=K) # create ts object, note that there is no start argument (for simplicity of the code)\n",
    "  M=suppressWarnings(HoltWinters(dtr)) # create forecasting model, suppressWarnings removes warnings from HW method\n",
    "  # get predictions for training data: fitted (243 obs treino)\n",
    "  Mtrpred=M$fitted[1:nrow(M$fitted)] \n",
    "\n",
    "  Pred=forecast(M,h=length(H$ts))$mean[1:Test] # multi-step ahead forecasts (7 obs teste)\n",
    "  ev[b]=mmetric(y=d1[H$ts],x=Pred,metric=\"MAE\",val=YR)\n",
    "\n",
    "  # code for rminer package methods, \"mlpe\" is just an example:\n",
    "  H2=holdout(D$y,ratio=Test,mode=\"incremental\",iter=b,window=W2,increment=S)   \n",
    "     # note: the last training value is the same for dtr, namely:\n",
    "     # print(dtr[length(dtr)])  \n",
    "     # print(D[H2$tr[length(H2$tr)],]) # y is equal to previously shown value  \n",
    "  M2=fit(y~.,D[H2$tr,],model=\"mlpe\") # create forecasting model\n",
    "  Pred2=lforecast(M2,D,start=(length(H2$tr)+1),Test) # multi-step ahead forecasts (7 obs de teste)\n",
    "  ev2[b]=mmetric(y=d1[H$ts],x=Pred2,metric=\"MAE\",val=YR)\n",
    "\n",
    "  # get predictions for training data: predict (244 obs de treino)\n",
    "  Mtrpred2=predict(M2,D[H2$tr,])\n",
    "\n",
    "  # create new training and test dataset:\n",
    "  TRSIZE=length(Mtrpred2) # 243\n",
    "  LPRED=length(Pred2) # 7\n",
    "  LMtr=length(Mtrpred) # 243 \n",
    "  hwcolumn=c(Mtrpred[(LMtr-TRSIZE+1):length(Mtrpred)],Pred)\n",
    "  mlpecolumn=c(Mtrpred2,Pred2) \n",
    "  HD=cbind(HW=hwcolumn,MLPE=mlpecolumn,y=D$y[1:(TRSIZE+LPRED)])\n",
    "  HD=data.frame(HD)\n",
    "  # fit a new hybrid model, say MLPE using 2 inputs HW and MLPE\n",
    "  M3=fit(y~.,HD[1:TRSIZE,],model=\"mlpe\") # create forecasting model\n",
    "  # get new predictions, now predict can be used (since test data includes forecast and lforecast multi-step ahead predictions):\n",
    "  Pred3=predict(M3,HD[(TRSIZE+1):(TRSIZE+LPRED),]) # multi-step ahead forecasts\n",
    "  ev3[b]=mmetric(y=d1[H$ts],x=Pred3,metric=\"MAE\",val=YR)\n",
    "  \n",
    "  cat(\"iter:\",b,\"TR from:\",trinit,\"to:\",(trinit+length(H$tr)-1),\"size:\",length(H$tr),\n",
    "      \"TS from:\",H$ts[1],\"to:\",H$ts[length(H$ts)],\"size:\",length(H$ts),\n",
    "      \"nmae:\",ev[b],\",\",ev2[b],\",\",ev3[b],\"\\n\")\n",
    "} # end of cycle"
   ]
  },
  {
   "cell_type": "code",
   "execution_count": 95,
   "id": "a7b9145d",
   "metadata": {},
   "outputs": [
    {
     "name": "stdout",
     "output_type": "stream",
     "text": [
      "median NMAE values for HW and mlpe:\n",
      "Holt-Winters median NMAE: 567.1707 \n",
      "mlpe median NMAE: 783.3119 \n",
      "hybrid median NMAE: 929.9241 \n"
     ]
    }
   ],
   "source": [
    "# show median of ev and ev2\n",
    "cat(\"median NMAE values for HW and mlpe:\\n\")\n",
    "cat(\"Holt-Winters median NMAE:\",median(ev),\"\\n\")\n",
    "cat(\"mlpe median NMAE:\",median(ev2),\"\\n\")\n",
    "cat(\"hybrid median NMAE:\",median(ev3),\"\\n\")"
   ]
  },
  {
   "cell_type": "code",
   "execution_count": 35,
   "id": "f40ced06",
   "metadata": {},
   "outputs": [],
   "source": []
  },
  {
   "cell_type": "code",
   "execution_count": null,
   "id": "2ac39f6d",
   "metadata": {},
   "outputs": [],
   "source": []
  },
  {
   "cell_type": "code",
   "execution_count": null,
   "id": "8a3be2c9",
   "metadata": {},
   "outputs": [],
   "source": []
  }
 ],
 "metadata": {
  "kernelspec": {
   "display_name": "R",
   "language": "R",
   "name": "ir"
  },
  "language_info": {
   "codemirror_mode": "r",
   "file_extension": ".r",
   "mimetype": "text/x-r-source",
   "name": "R",
   "pygments_lexer": "r",
   "version": "3.6.1"
  }
 },
 "nbformat": 4,
 "nbformat_minor": 5
}
