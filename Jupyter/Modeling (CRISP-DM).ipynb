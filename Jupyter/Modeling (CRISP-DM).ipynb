{
 "cells": [
  {
   "cell_type": "markdown",
   "id": "faddba97",
   "metadata": {},
   "source": [
    "## Modeling\n",
    "#### Nesta fase os dados foram preparados para integração em modelos de machine learning na fase de Modeling\n",
    "#### As séries temporais \"male\", \"female\", \"young\" e \"adult\" foram retiradas dos dados uma vez que o nosso objetivo é orientado para a série \"all\"\n",
    "#### A coluna \"date\" também foi removida porque apenas serve para nos situarmos no tempo, para a divisão dos dados em antigos=treino, recentes=teste. Além disso a sua natureza única (única por observação) apenas iria trazer incerteza para os modelos.\n",
    "#### Para lidar com os valores outliers foram criados 2 cenários:\n",
    "<ul>\n",
    "    <li><b>Com outliers</b> - Neste cenário os valores outliers não foram tratados</li>\n",
    "    <li><b>Sem outliers s/ compensação</b> - Neste cenário os valores outliers foram tratados</li>\n",
    "\n",
    "</ul>\n",
    "\n",
    "#### Por fim os dados de cada cenário foram exportados para os respetivos ficheiros csv para poderem ser utilizados nas fases seguintes "
   ]
  },
  {
   "cell_type": "markdown",
   "id": "7107ea25",
   "metadata": {},
   "source": [
    "### Importar Libraries"
   ]
  },
  {
   "cell_type": "code",
   "execution_count": 2,
   "id": "d23259dd",
   "metadata": {},
   "outputs": [
    {
     "name": "stderr",
     "output_type": "stream",
     "text": [
      "Registered S3 methods overwritten by 'ggplot2':\n",
      "  method         from \n",
      "  [.quosures     rlang\n",
      "  c.quosures     rlang\n",
      "  print.quosures rlang\n",
      "Registered S3 method overwritten by 'rvest':\n",
      "  method            from\n",
      "  read_xml.response xml2\n",
      "-- Attaching packages --------------------------------------- tidyverse 1.2.1 --\n",
      "v ggplot2 3.1.1       v purrr   0.3.2  \n",
      "v tibble  2.1.1       v dplyr   0.8.0.1\n",
      "v tidyr   0.8.3       v stringr 1.4.0  \n",
      "v readr   1.3.1       v forcats 0.4.0  \n",
      "-- Conflicts ------------------------------------------ tidyverse_conflicts() --\n",
      "x dplyr::filter() masks stats::filter()\n",
      "x dplyr::lag()    masks stats::lag()\n",
      "Warning message:\n",
      "\"package 'rminer' was built under R version 3.6.3\"Warning message:\n",
      "\"package 'forecast' was built under R version 3.6.3\"Registered S3 method overwritten by 'xts':\n",
      "  method     from\n",
      "  as.zoo.xts zoo \n",
      "Registered S3 method overwritten by 'quantmod':\n",
      "  method            from\n",
      "  as.zoo.data.frame zoo \n"
     ]
    }
   ],
   "source": [
    "# Importar Libraries\n",
    "library(tidyverse)\n",
    "library(rminer)\n",
    "library(forecast)"
   ]
  },
  {
   "cell_type": "markdown",
   "id": "4efbcfbc",
   "metadata": {},
   "source": [
    "### Importar os Dados"
   ]
  },
  {
   "cell_type": "code",
   "execution_count": 3,
   "id": "9a80304b",
   "metadata": {
    "scrolled": true
   },
   "outputs": [
    {
     "data": {
      "text/html": [
       "<table>\n",
       "<thead><tr><th scope=col>young</th><th scope=col>weather</th><th scope=col>maxtemp</th><th scope=col>RH</th><th scope=col>maxwind</th></tr></thead>\n",
       "<tbody>\n",
       "\t<tr><td>1122</td><td>0   </td><td>13  </td><td>87  </td><td> 0  </td></tr>\n",
       "\t<tr><td>1239</td><td>0   </td><td>14  </td><td>94  </td><td>45  </td></tr>\n",
       "\t<tr><td>1059</td><td>0   </td><td>14  </td><td>82  </td><td>55  </td></tr>\n",
       "\t<tr><td>1606</td><td>1   </td><td>13  </td><td>78  </td><td> 0  </td></tr>\n",
       "\t<tr><td>2318</td><td>0   </td><td>16  </td><td>81  </td><td>37  </td></tr>\n",
       "\t<tr><td>2289</td><td>0   </td><td>16  </td><td>73  </td><td> 0  </td></tr>\n",
       "</tbody>\n",
       "</table>\n"
      ],
      "text/latex": [
       "\\begin{tabular}{r|lllll}\n",
       " young & weather & maxtemp & RH & maxwind\\\\\n",
       "\\hline\n",
       "\t 1122 & 0    & 13   & 87   &  0  \\\\\n",
       "\t 1239 & 0    & 14   & 94   & 45  \\\\\n",
       "\t 1059 & 0    & 14   & 82   & 55  \\\\\n",
       "\t 1606 & 1    & 13   & 78   &  0  \\\\\n",
       "\t 2318 & 0    & 16   & 81   & 37  \\\\\n",
       "\t 2289 & 0    & 16   & 73   &  0  \\\\\n",
       "\\end{tabular}\n"
      ],
      "text/markdown": [
       "\n",
       "| young | weather | maxtemp | RH | maxwind |\n",
       "|---|---|---|---|---|\n",
       "| 1122 | 0    | 13   | 87   |  0   |\n",
       "| 1239 | 0    | 14   | 94   | 45   |\n",
       "| 1059 | 0    | 14   | 82   | 55   |\n",
       "| 1606 | 1    | 13   | 78   |  0   |\n",
       "| 2318 | 0    | 16   | 81   | 37   |\n",
       "| 2289 | 0    | 16   | 73   |  0   |\n",
       "\n"
      ],
      "text/plain": [
       "  young weather maxtemp RH maxwind\n",
       "1 1122  0       13      87  0     \n",
       "2 1239  0       14      94 45     \n",
       "3 1059  0       14      82 55     \n",
       "4 1606  1       13      78  0     \n",
       "5 2318  0       16      81 37     \n",
       "6 2289  0       16      73  0     "
      ]
     },
     "metadata": {},
     "output_type": "display_data"
    }
   ],
   "source": [
    "# Importar os dados\n",
    "data <- read.csv(file = './cenarios/Cenario 1/TS1.csv')\n",
    "\n",
    "# Retirar a coluna X (Index)\n",
    "data = data %>% select(-X)\n",
    "head(data)"
   ]
  },
  {
   "cell_type": "markdown",
   "id": "3abd09f6",
   "metadata": {},
   "source": [
    "## Multivariate Regression"
   ]
  },
  {
   "cell_type": "markdown",
   "id": "6d9297ce",
   "metadata": {},
   "source": [
    "### Spliting the dataset (For multivariate models)"
   ]
  },
  {
   "cell_type": "code",
   "execution_count": 193,
   "id": "6aa6fcab",
   "metadata": {},
   "outputs": [
    {
     "ename": "ERROR",
     "evalue": "Error in 1:TRS: NA/NaN argument\n",
     "output_type": "error",
     "traceback": [
      "Error in 1:TRS: NA/NaN argument\nTraceback:\n",
      "1. holdout(data$all, ratio = 7, mode = \"order\")"
     ]
    }
   ],
   "source": [
    "# Separação dos índices do dataframe ordenada cronologicamente (porque os dados já estão em ordem cronológica), usando 250\n",
    "# observações para treino e 7 para teste\n",
    "H=holdout(data$all,ratio=7,mode=\"order\")\n",
    "H\n",
    "\n",
    "# Seleção dos dados de Treino\n",
    "train = data[H$tr,]\n",
    "cat(\"Dados de treino:\\n\")\n",
    "cat(\"Head: \", head(train$all),\"\\n\")\n",
    "cat(\"Length: \", length(train$all),\"\\n\\n\")\n",
    "\n",
    "# Seleção dos dados de Teste\n",
    "test = data[H$ts,]\n",
    "cat(\"Dados de teste:\\n\")\n",
    "cat(\"Head: \", head(test$all),\"\\n\")\n",
    "cat(\"Length: \", length(test$all))"
   ]
  },
  {
   "cell_type": "markdown",
   "id": "938330f0",
   "metadata": {},
   "source": [
    "### Modelos de Regressão Multivariados"
   ]
  },
  {
   "cell_type": "markdown",
   "id": "76f34834",
   "metadata": {},
   "source": [
    "#### Random Forest"
   ]
  },
  {
   "cell_type": "code",
   "execution_count": 20,
   "id": "290f915c",
   "metadata": {},
   "outputs": [
    {
     "name": "stderr",
     "output_type": "stream",
     "text": [
      "Warning message in fit(all ~ ., train, model = \"randomForest\"):\n",
      "\"fit failed: Error in randomForest.default(m, y, ...) : \n",
      "  Can not handle categorical predictors with more than 53 categories.\n",
      " fit(x = all ~ ., data = train, model = \"randomForest\")\""
     ]
    },
    {
     "name": "stdout",
     "output_type": "stream",
     "text": [
      "Target Values: 4974 3228 3191 4153 4307 4660 6193 \n"
     ]
    },
    {
     "ename": "ERROR",
     "evalue": "Error in meanf(object, h = h, level = level, fan = fan, lambda = lambda, : unused argument (type = type)\n",
     "output_type": "error",
     "traceback": [
      "Error in meanf(object, h = h, level = level, fan = fan, lambda = lambda, : unused argument (type = type)\nTraceback:\n",
      "1. predict(RF, test)",
      "2. predict(RF, test)",
      "3. .local(object, ...)",
      "4. predict(object@object, newdata, type = type)",
      "5. predict(object@object, newdata, type = type)",
      "6. predict.default(object@object, newdata, type = type)",
      "7. forecast(object, ...)",
      "8. forecast.default(object, ...)",
      "9. forecast.ts(object, ...)"
     ]
    }
   ],
   "source": [
    "RF=fit(all~.,train,model=\"randomForest\")\n",
    "Target = test$all\n",
    "cat(\"Target Values:\",Target,\"\\n\")\n",
    "\n",
    "Pred = predict(RF,test)\n",
    "cat(\"Predictions:\",Pred,\"\\n\")\n",
    "\n",
    "mgraph(Target,Pred,graph=\"REG\",Grid=10,col=c(\"black\",\"blue\"),\n",
    "leg=list(pos=\"topleft\",leg=c(\"target\",\"predictions\")),main=\"Random Forest\")\n",
    "mae=round(mmetric(Target,Pred,metric=\"MAE\"),2)\n",
    "nmae=round(mmetric(Target,Pred,metric=\"NMAE\"),2)\n",
    "cat(\"MAE:\",mae,\"\\n\")\n",
    "cat(\"NMAE:\",nmae,\"\\n\")"
   ]
  },
  {
   "cell_type": "markdown",
   "id": "ad76e730",
   "metadata": {},
   "source": [
    "#### Multiple Linear Regression"
   ]
  },
  {
   "cell_type": "code",
   "execution_count": 21,
   "id": "3c0d7fb5",
   "metadata": {},
   "outputs": [
    {
     "name": "stdout",
     "output_type": "stream",
     "text": [
      "Target Values: 4974 3228 3191 4153 4307 4660 6193 \n",
      "Predictions: 4973.457 3228.28 3190.593 4152.865 4306.277 4660.187 6192.275 \n",
      "MAE: 0.43 \n",
      "NMAE: 0.01 \n"
     ]
    },
    {
     "data": {
      "text/html": [
       "<table>\n",
       "<thead><tr><th scope=col>METRICA_MODELO</th><th scope=col>MR_Simples</th></tr></thead>\n",
       "<tbody>\n",
       "\t<tr><td>MAE </td><td>0.43</td></tr>\n",
       "\t<tr><td>NMAE</td><td>0.01</td></tr>\n",
       "</tbody>\n",
       "</table>\n"
      ],
      "text/latex": [
       "\\begin{tabular}{r|ll}\n",
       " METRICA\\_MODELO & MR\\_Simples\\\\\n",
       "\\hline\n",
       "\t MAE  & 0.43\\\\\n",
       "\t NMAE & 0.01\\\\\n",
       "\\end{tabular}\n"
      ],
      "text/markdown": [
       "\n",
       "| METRICA_MODELO | MR_Simples |\n",
       "|---|---|\n",
       "| MAE  | 0.43 |\n",
       "| NMAE | 0.01 |\n",
       "\n"
      ],
      "text/plain": [
       "  METRICA_MODELO MR_Simples\n",
       "1 MAE            0.43      \n",
       "2 NMAE           0.01      "
      ]
     },
     "metadata": {},
     "output_type": "display_data"
    },
    {
     "data": {
      "image/png": "[encoded data removed]",
      "text/plain": [
       "Plot with title \"Multiple Linear Regression\""
      ]
     },
     "metadata": {},
     "output_type": "display_data"
    }
   ],
   "source": [
    "MR=fit(all~.,train,model=\"mr\")\n",
    "cat(\"Target Values:\",Target,\"\\n\")\n",
    "\n",
    "Pred = predict(MR,test)\n",
    "cat(\"Predictions:\",Pred,\"\\n\")\n",
    "\n",
    "mgraph(Target,Pred,graph=\"REG\",Grid=10,col=c(\"black\",\"blue\"),\n",
    "leg=list(pos=\"topleft\",leg=c(\"target\",\"predictions\")),main=\"Multiple Linear Regression\")\n",
    "\n",
    "# Metricas\n",
    "mae=round(mmetric(Target,Pred,metric=\"MAE\"),2)\n",
    "nmae=round(mmetric(Target,Pred,metric=\"NMAE\"),2)\n",
    "cat(\"MAE:\",round(mmetric(Target,Pred,metric=\"MAE\"),2),\"\\n\")\n",
    "cat(\"NMAE:\",round(mmetric(Target,Pred,metric=\"NMAE\"),2),\"\\n\")"
   ]
  },
  {
   "cell_type": "markdown",
   "id": "9a04697d",
   "metadata": {},
   "source": [
    "#### KSVM"
   ]
  },
  {
   "cell_type": "code",
   "execution_count": 512,
   "id": "c134b8d9",
   "metadata": {},
   "outputs": [
    {
     "name": "stdout",
     "output_type": "stream",
     "text": [
      "Target Values: 4974 3228 3191 4153 4307 4660 6193 \n",
      "Predictions: 3665.982 4028.064 3091.614 3316.601 2719.406 3747.76 3692.589 \n",
      "MAE: 1149.16 \n",
      "NMAE: 38.28 \n"
     ]
    },
    {
     "data": {
      "text/html": [
       "<table>\n",
       "<thead><tr><th scope=col>METRICA_MODELO</th><th scope=col>randomForest_simples</th><th scope=col>MR_Simples</th><th scope=col>KSVM_simples</th></tr></thead>\n",
       "<tbody>\n",
       "\t<tr><td>MAE    </td><td>1080.96</td><td>1568.75</td><td>1149.16</td></tr>\n",
       "\t<tr><td>NMAE   </td><td>  36.01</td><td>  52.26</td><td>  38.28</td></tr>\n",
       "</tbody>\n",
       "</table>\n"
      ],
      "text/latex": [
       "\\begin{tabular}{r|llll}\n",
       " METRICA\\_MODELO & randomForest\\_simples & MR\\_Simples & KSVM\\_simples\\\\\n",
       "\\hline\n",
       "\t MAE     & 1080.96 & 1568.75 & 1149.16\\\\\n",
       "\t NMAE    &   36.01 &   52.26 &   38.28\\\\\n",
       "\\end{tabular}\n"
      ],
      "text/markdown": [
       "\n",
       "| METRICA_MODELO | randomForest_simples | MR_Simples | KSVM_simples |\n",
       "|---|---|---|---|\n",
       "| MAE     | 1080.96 | 1568.75 | 1149.16 |\n",
       "| NMAE    |   36.01 |   52.26 |   38.28 |\n",
       "\n"
      ],
      "text/plain": [
       "  METRICA_MODELO randomForest_simples MR_Simples KSVM_simples\n",
       "1 MAE            1080.96              1568.75    1149.16     \n",
       "2 NMAE             36.01                52.26      38.28     "
      ]
     },
     "metadata": {},
     "output_type": "display_data"
    },
    {
     "data": {
      "image/png": "[encoded data removed]",
      "text/plain": [
       "Plot with title \"KSVM\""
      ]
     },
     "metadata": {},
     "output_type": "display_data"
    }
   ],
   "source": [
    "MR=fit(all~.,train,model=\"ksvm\")\n",
    "cat(\"Target Values:\",Target,\"\\n\")\n",
    "\n",
    "Pred = predict(MR,test)\n",
    "cat(\"Predictions:\",Pred,\"\\n\")\n",
    "\n",
    "mgraph(Target,Pred,graph=\"REG\",Grid=10,col=c(\"black\",\"blue\"),\n",
    "leg=list(pos=\"topleft\",leg=c(\"target\",\"predictions\")),main=\"KSVM\")\n",
    "\n",
    "# Metricas\n",
    "mae=round(mmetric(Target,Pred,metric=\"MAE\"),2)\n",
    "nmae=round(mmetric(Target,Pred,metric=\"NMAE\"),2)\n",
    "cat(\"MAE:\",round(mmetric(Target,Pred,metric=\"MAE\"),2),\"\\n\")\n",
    "cat(\"NMAE:\",round(mmetric(Target,Pred,metric=\"NMAE\"),2),\"\\n\")"
   ]
  },
  {
   "cell_type": "markdown",
   "id": "2d3ed20e",
   "metadata": {},
   "source": [
    "#### MLPE"
   ]
  },
  {
   "cell_type": "code",
   "execution_count": 513,
   "id": "63fa4736",
   "metadata": {},
   "outputs": [
    {
     "name": "stdout",
     "output_type": "stream",
     "text": [
      "Target Values: 4974 3228 3191 4153 4307 4660 6193 \n",
      "Predictions: 3874.579 3874.579 2832.758 3874.579 2832.322 4028.086 4028.086 \n",
      "MAE: 950.6 \n",
      "NMAE: 31.67 \n"
     ]
    },
    {
     "data": {
      "text/html": [
       "<table>\n",
       "<thead><tr><th scope=col>METRICA_MODELO</th><th scope=col>randomForest_simples</th><th scope=col>MR_Simples</th><th scope=col>KSVM_simples</th><th scope=col>MLPE_simples</th></tr></thead>\n",
       "<tbody>\n",
       "\t<tr><td>MAE    </td><td>1080.96</td><td>1568.75</td><td>1149.16</td><td>950.60 </td></tr>\n",
       "\t<tr><td>NMAE   </td><td>  36.01</td><td>  52.26</td><td>  38.28</td><td> 31.67 </td></tr>\n",
       "</tbody>\n",
       "</table>\n"
      ],
      "text/latex": [
       "\\begin{tabular}{r|lllll}\n",
       " METRICA\\_MODELO & randomForest\\_simples & MR\\_Simples & KSVM\\_simples & MLPE\\_simples\\\\\n",
       "\\hline\n",
       "\t MAE     & 1080.96 & 1568.75 & 1149.16 & 950.60 \\\\\n",
       "\t NMAE    &   36.01 &   52.26 &   38.28 &  31.67 \\\\\n",
       "\\end{tabular}\n"
      ],
      "text/markdown": [
       "\n",
       "| METRICA_MODELO | randomForest_simples | MR_Simples | KSVM_simples | MLPE_simples |\n",
       "|---|---|---|---|---|\n",
       "| MAE     | 1080.96 | 1568.75 | 1149.16 | 950.60  |\n",
       "| NMAE    |   36.01 |   52.26 |   38.28 |  31.67  |\n",
       "\n"
      ],
      "text/plain": [
       "  METRICA_MODELO randomForest_simples MR_Simples KSVM_simples MLPE_simples\n",
       "1 MAE            1080.96              1568.75    1149.16      950.60      \n",
       "2 NMAE             36.01                52.26      38.28       31.67      "
      ]
     },
     "metadata": {},
     "output_type": "display_data"
    },
    {
     "data": {
      "image/png": "[encoded data removed]",
      "text/plain": [
       "Plot with title \"MLPE\""
      ]
     },
     "metadata": {},
     "output_type": "display_data"
    }
   ],
   "source": [
    "MR=fit(all~.,train,model=\"mlpe\")\n",
    "cat(\"Target Values:\",Target,\"\\n\")\n",
    "\n",
    "Pred = predict(MR,test)\n",
    "cat(\"Predictions:\",Pred,\"\\n\")\n",
    "\n",
    "mgraph(Target,Pred,graph=\"REG\",Grid=10,col=c(\"black\",\"blue\"),\n",
    "leg=list(pos=\"topleft\",leg=c(\"target\",\"predictions\")),main=\"MLPE\")\n",
    "\n",
    "# Metricas\n",
    "mae=round(mmetric(Target,Pred,metric=\"MAE\"),2)\n",
    "nmae=round(mmetric(Target,Pred,metric=\"NMAE\"),2)\n",
    "cat(\"MAE:\",mae,\"\\n\")\n",
    "cat(\"NMAE:\",nmae,\"\\n\")\n",
    "\n",
    "# Guardar os Resultados\n",
    "nomeModelo = \"MLPE_simples\"\n",
    "resdf[nomeModelo] = c(mae,nmae)\n",
    "resdf"
   ]
  },
  {
   "cell_type": "markdown",
   "id": "50cab011",
   "metadata": {},
   "source": [
    "### Multivariate Regression (Window Training)"
   ]
  },
  {
   "cell_type": "markdown",
   "id": "823ed986",
   "metadata": {},
   "source": [
    "### Growing Window"
   ]
  },
  {
   "cell_type": "code",
   "execution_count": 4,
   "id": "032ab5e9",
   "metadata": {},
   "outputs": [
    {
     "name": "stdout",
     "output_type": "stream",
     "text": [
      "\n",
      " Mean MAE( lm ) : 554.6 \n",
      "Mean NMAE( lm ) : 19.94 \n",
      "-------------------------------------------------------------\n",
      " Mean MAE( mlpe ) : 468.17 \n",
      "Mean NMAE( mlpe ) : 16.83 \n",
      "-------------------------------------------------------------\n",
      " Mean MAE( naive ) : 467.91 \n",
      "Mean NMAE( naive ) : 16.83 \n",
      "-------------------------------------------------------------\n",
      " Mean MAE( ctree ) : 457.31 \n",
      "Mean NMAE( ctree ) : 16.44 \n",
      "-------------------------------------------------------------\n",
      " Mean MAE( mlp ) : 531.37 \n",
      "Mean NMAE( mlp ) : 19.11 \n",
      "-------------------------------------------------------------\n",
      " Mean MAE( randomForest ) : 484.79 \n",
      "Mean NMAE( randomForest ) : 17.43 \n",
      "-------------------------------------------------------------\n",
      " Mean MAE( mr ) : 554.6 \n",
      "Mean NMAE( mr ) : 19.94 \n",
      "-------------------------------------------------------------\n",
      " Mean MAE( rvm ) : 650.71 \n",
      "Mean NMAE( rvm ) : 23.4 \n",
      "-------------------------------------------------------------\n",
      " Mean MAE( ksvm ) : 499.57 \n",
      "Mean NMAE( ksvm ) : 17.96 \n",
      "-------------------------------------------------------------"
     ]
    }
   ],
   "source": [
    "# Create Dataframe for Result Storage\n",
    "resdf <- data.frame(matrix(ncol = 4, nrow = 0))\n",
    "# Name the Columns\n",
    "colnames(resdf) <- c('window','model','mae','nmae')\n",
    "\n",
    "window = \"incremental\"\n",
    "d1 = data[,1] #coluna target\n",
    "L = length(d1)\n",
    "K=7\n",
    "\n",
    "Test=K # H, the number of multi-ahead steps, adjust if needed\n",
    "S=7 # step jump: set in this case to 4 months, a quarter\n",
    "Runs=10 # number of growing window iterations, adjust if needed\n",
    "timelags = c(1:7)\n",
    "\n",
    "W=(length(data[,1])-Test)-(Runs-1)*S # initial training window size for the ts space (forecast methods)\n",
    "W2=W-max(timelags) # initial training window size for the D space (CasesSeries, rminer methods)\n",
    "\n",
    "YR=diff(range(d1)) # global Y range, use the same range for the NMAE calculation in all iterations\n",
    "\n",
    "\n",
    "# Vetor de Modelos\n",
    "models <- c(\"lm\",\"mlpe\",\"naive\",\"ctree\",\"mlp\",\"randomForest\",\"mr\",\"rvm\",\"ksvm\")\n",
    "\n",
    "\n",
    "for (x in 1:length(models)){\n",
    "    ev=vector(length=Runs)\n",
    "    evn=vector(length=Runs)\n",
    "    for (b in 1:Runs) {\n",
    "        H = holdout(data[,1], ratio=Test, mode=window, iter=b, window=W, increment=S)\n",
    "        # Mudar aqui\n",
    "        M=fit(young~.,data[H$tr,],model=models[x])\n",
    "        Pred=predict(M,data[H$ts,])\n",
    "        ev[b]=mmetric(data[,1][H$ts],Pred,\"MAE\",val=YR)\n",
    "        evn[b]=mmetric(data[,1][H$ts],Pred,\"NMAE\",val=YR)\n",
    "    }\n",
    "    mae = round(mean(ev),digits=2)\n",
    "    nmae = round(mean(evn),digits=2)\n",
    "    cat(\"\\n Mean MAE(\",models[x],\") :\",mae,\"\\n\")\n",
    "    cat(\"Mean NMAE(\",models[x],\") :\",nmae,\"\\n\")\n",
    "    cat(\"-------------------------------------------------------------\")\n",
    "    \n",
    "    # Save Results to the res Dataframe\n",
    "    resdf[nrow(resdf) + 1,] = c(window,models[x],mae,nmae) \n",
    "}"
   ]
  },
  {
   "cell_type": "markdown",
   "id": "4bbd075b",
   "metadata": {},
   "source": [
    "### Rolling Window"
   ]
  },
  {
   "cell_type": "code",
   "execution_count": 5,
   "id": "ef4a5712",
   "metadata": {},
   "outputs": [
    {
     "name": "stdout",
     "output_type": "stream",
     "text": [
      "669.5645  375.468  311.495  417.6689  528.0743  769.4808  421.242  577.9985  463.0866  692.9343  \n",
      " Mean MAE( lm ) : 522.7 \n",
      "Mean NMAE( lm ) : 18.8 \n",
      "-------------------------------------------------------------618.2323  467.8974  250.509  443.604  522.8763  726.4537  456.5112  605.4154  337.4807  521.7689  \n",
      " Mean MAE( mlpe ) : 495.07 \n",
      "Mean NMAE( mlpe ) : 17.8 \n",
      "-------------------------------------------------------------598.2009  516.5103  500.1719  431.3415  483.5042  431.5065  412.8564  456.2483  293.8251  458.6127  \n",
      " Mean MAE( naive ) : 458.28 \n",
      "Mean NMAE( naive ) : 16.48 \n",
      "-------------------------------------------------------------613.7227  323.2668  364.3738  377.6988  440.7905  493.4543  377.1467  597.9892  373.9874  648.1956  \n",
      " Mean MAE( ctree ) : 461.06 \n",
      "Mean NMAE( ctree ) : 16.58 \n",
      "-------------------------------------------------------------512.2304  389.6161  205.2965  431.1591  544.8591  860.1862  763.6079  616.1534  416.9531  637.3275  \n",
      " Mean MAE( mlp ) : 537.74 \n",
      "Mean NMAE( mlp ) : 19.34 \n",
      "-------------------------------------------------------------702.7567  428.8841  416.6127  423.1279  469.4758  496.1264  463.573  512.9739  337.0687  562.1694  \n",
      " Mean MAE( randomForest ) : 481.28 \n",
      "Mean NMAE( randomForest ) : 17.31 \n",
      "-------------------------------------------------------------669.5644  375.4679  311.495  417.6689  528.0743  769.4804  421.242  577.9985  463.0864  692.9343  \n",
      " Mean MAE( mr ) : 522.7 \n",
      "Mean NMAE( mr ) : 18.8 \n",
      "-------------------------------------------------------------933.7238  551.1264  330.2062  475.4602  597.452  1050.128  534.0161  838.8011  455.0933  599.4749  \n",
      " Mean MAE( rvm ) : 636.55 \n",
      "Mean NMAE( rvm ) : 22.89 \n",
      "-------------------------------------------------------------701.3882  530.1882  220.5135  490.9235  416.1426  496.7873  504.2081  530.6777  393.1723  529.3154  \n",
      " Mean MAE( ksvm ) : 481.33 \n",
      "Mean NMAE( ksvm ) : 17.31 \n",
      "-------------------------------------------------------------"
     ]
    }
   ],
   "source": [
    "# Reset dos vetores das métricas\n",
    "ev=vector(length=Runs)\n",
    "evn=vector(length=Runs)\n",
    "\n",
    "window = \"rolling\"\n",
    "for (x in 1:length(models)){\n",
    "    for (b in 1:Runs) {\n",
    "        H = holdout(data[,1], ratio=Test, mode=window, iter=b, window=W, increment=S)\n",
    "        # Mudar Aqui\n",
    "        M=fit(young~.,data[H$tr,],model=models[x])\n",
    "        Pred=predict(M,data[H$ts,])\n",
    "        ev[b]=mmetric(data[,1][H$ts],Pred,\"MAE\",val=YR)\n",
    "        evn[b]=mmetric(data[,1][H$ts],Pred,\"NMAE\",val=YR)\n",
    "        cat(mmetric(data[,1][H$ts],Pred,\"MAE\",val=YR),\" \")\n",
    "    }\n",
    "    cat(\"\\n Mean MAE(\",models[x],\") :\",round(mean(ev),digits=2),\"\\n\")\n",
    "    cat(\"Mean NMAE(\",models[x],\") :\",round(mean(evn),digits=2),\"\\n\")\n",
    "    cat(\"-------------------------------------------------------------\")\n",
    "    \n",
    "    # Save Results to the res Dataframe\n",
    "    resdf[nrow(resdf) + 1,] = c(window,models[x],mae,nmae) \n",
    "}"
   ]
  },
  {
   "cell_type": "code",
   "execution_count": 6,
   "id": "262da27c",
   "metadata": {},
   "outputs": [
    {
     "data": {
      "text/html": [
       "<table>\n",
       "<thead><tr><th scope=col>window</th><th scope=col>model</th><th scope=col>mae</th><th scope=col>nmae</th></tr></thead>\n",
       "<tbody>\n",
       "\t<tr><td>incremental </td><td>lm          </td><td>554.6       </td><td>19.94       </td></tr>\n",
       "\t<tr><td>incremental </td><td>mlpe        </td><td>468.17      </td><td>16.83       </td></tr>\n",
       "\t<tr><td>incremental </td><td>naive       </td><td>467.91      </td><td>16.83       </td></tr>\n",
       "\t<tr><td>incremental </td><td>ctree       </td><td>457.31      </td><td>16.44       </td></tr>\n",
       "\t<tr><td>incremental </td><td>mlp         </td><td>531.37      </td><td>19.11       </td></tr>\n",
       "\t<tr><td>incremental </td><td>randomForest</td><td>484.79      </td><td>17.43       </td></tr>\n",
       "</tbody>\n",
       "</table>\n"
      ],
      "text/latex": [
       "\\begin{tabular}{r|llll}\n",
       " window & model & mae & nmae\\\\\n",
       "\\hline\n",
       "\t incremental  & lm           & 554.6        & 19.94       \\\\\n",
       "\t incremental  & mlpe         & 468.17       & 16.83       \\\\\n",
       "\t incremental  & naive        & 467.91       & 16.83       \\\\\n",
       "\t incremental  & ctree        & 457.31       & 16.44       \\\\\n",
       "\t incremental  & mlp          & 531.37       & 19.11       \\\\\n",
       "\t incremental  & randomForest & 484.79       & 17.43       \\\\\n",
       "\\end{tabular}\n"
      ],
      "text/markdown": [
       "\n",
       "| window | model | mae | nmae |\n",
       "|---|---|---|---|\n",
       "| incremental  | lm           | 554.6        | 19.94        |\n",
       "| incremental  | mlpe         | 468.17       | 16.83        |\n",
       "| incremental  | naive        | 467.91       | 16.83        |\n",
       "| incremental  | ctree        | 457.31       | 16.44        |\n",
       "| incremental  | mlp          | 531.37       | 19.11        |\n",
       "| incremental  | randomForest | 484.79       | 17.43        |\n",
       "\n"
      ],
      "text/plain": [
       "  window      model        mae    nmae \n",
       "1 incremental lm           554.6  19.94\n",
       "2 incremental mlpe         468.17 16.83\n",
       "3 incremental naive        467.91 16.83\n",
       "4 incremental ctree        457.31 16.44\n",
       "5 incremental mlp          531.37 19.11\n",
       "6 incremental randomForest 484.79 17.43"
      ]
     },
     "metadata": {},
     "output_type": "display_data"
    }
   ],
   "source": [
    "head(resdf)"
   ]
  },
  {
   "cell_type": "code",
   "execution_count": 237,
   "id": "fd8f0542",
   "metadata": {},
   "outputs": [
    {
     "name": "stdout",
     "output_type": "stream",
     "text": [
      "Melhor Valor para MAE:  560.06"
     ]
    },
    {
     "data": {
      "text/html": [
       "<table>\n",
       "<thead><tr><th></th><th scope=col>window</th><th scope=col>model</th><th scope=col>mae</th><th scope=col>nmae</th></tr></thead>\n",
       "<tbody>\n",
       "\t<tr><th scope=row>6</th><td>incremental </td><td>randomForest</td><td>560.06      </td><td>6.95        </td></tr>\n",
       "</tbody>\n",
       "</table>\n"
      ],
      "text/latex": [
       "\\begin{tabular}{r|llll}\n",
       "  & window & model & mae & nmae\\\\\n",
       "\\hline\n",
       "\t6 & incremental  & randomForest & 560.06       & 6.95        \\\\\n",
       "\\end{tabular}\n"
      ],
      "text/markdown": [
       "\n",
       "| <!--/--> | window | model | mae | nmae |\n",
       "|---|---|---|---|---|\n",
       "| 6 | incremental  | randomForest | 560.06       | 6.95         |\n",
       "\n"
      ],
      "text/plain": [
       "  window      model        mae    nmae\n",
       "6 incremental randomForest 560.06 6.95"
      ]
     },
     "metadata": {},
     "output_type": "display_data"
    },
    {
     "name": "stdout",
     "output_type": "stream",
     "text": [
      "Melhor Valor para NMAE:  6.95"
     ]
    },
    {
     "data": {
      "text/html": [
       "<table>\n",
       "<thead><tr><th></th><th scope=col>window</th><th scope=col>model</th><th scope=col>mae</th><th scope=col>nmae</th></tr></thead>\n",
       "<tbody>\n",
       "\t<tr><th scope=row>6</th><td>incremental </td><td>randomForest</td><td>560.06      </td><td>6.95        </td></tr>\n",
       "</tbody>\n",
       "</table>\n"
      ],
      "text/latex": [
       "\\begin{tabular}{r|llll}\n",
       "  & window & model & mae & nmae\\\\\n",
       "\\hline\n",
       "\t6 & incremental  & randomForest & 560.06       & 6.95        \\\\\n",
       "\\end{tabular}\n"
      ],
      "text/markdown": [
       "\n",
       "| <!--/--> | window | model | mae | nmae |\n",
       "|---|---|---|---|---|\n",
       "| 6 | incremental  | randomForest | 560.06       | 6.95         |\n",
       "\n"
      ],
      "text/plain": [
       "  window      model        mae    nmae\n",
       "6 incremental randomForest 560.06 6.95"
      ]
     },
     "metadata": {},
     "output_type": "display_data"
    },
    {
     "name": "stdout",
     "output_type": "stream",
     "text": [
      "CSV saved in ./resultados/Cenario 3/Modelos Multivariados/TS5.csv"
     ]
    }
   ],
   "source": [
    "# Lowest MAE Value in Hibrid Modeling\n",
    "lowestmae = min(as.numeric(resdf[,3]))\n",
    "cat(\"Melhor Valor para MAE: \", lowestmae)\n",
    "# Encontrar as linhas que possuem o menor valor para MAE\n",
    "resdf[resdf$mae %in%lowestmae,]\n",
    "\n",
    "# Lowest NMAE Value in Hibrid Modeling\n",
    "lowestnmae = min(as.numeric(resdf[,4]))\n",
    "cat(\"Melhor Valor para NMAE: \", lowestnmae)\n",
    "# Encontrar as linhas que possuem o menor valor para NMAE\n",
    "resdf[resdf$nmae %in% lowestnmae,]\n",
    "\n",
    "\n",
    "# Save the Results\n",
    "saveResults('3',\"m\",'5')"
   ]
  },
  {
   "cell_type": "markdown",
   "id": "d359f9ab",
   "metadata": {},
   "source": [
    "### Time Series Forecast"
   ]
  },
  {
   "cell_type": "code",
   "execution_count": 525,
   "id": "29434316",
   "metadata": {
    "scrolled": true
   },
   "outputs": [],
   "source": [
    "TS = data$all\n",
    "\n",
    "K=7 # TS period (daily)\n",
    "\n",
    "L=length(TS)\n",
    "NTS=K # number of predictions (7)\n",
    "H=NTS # from 1 to H ahead predictions (7)\n",
    "LTR=L-H\n",
    "# according to the ts function documentation: frequency=7 assumes daily data, frequency=4 or 12 assumes quarterly and monthly data\n",
    "TR=ts(TS[1:LTR],frequency=K)\n",
    "\n",
    "# target predictions:\n",
    "Y=TS[(LTR+1):L]"
   ]
  },
  {
   "cell_type": "markdown",
   "id": "99943907",
   "metadata": {},
   "source": [
    "### TSF Neural Network Rminer"
   ]
  },
  {
   "cell_type": "code",
   "execution_count": 526,
   "id": "5f3bab93",
   "metadata": {},
   "outputs": [
    {
     "name": "stdout",
     "output_type": "stream",
     "text": [
      "      lag7           lag6           lag5           lag4           lag3     \n",
      " Min.   : 375   Min.   : 375   Min.   : 375   Min.   : 375   Min.   : 375  \n",
      " 1st Qu.:2564   1st Qu.:2565   1st Qu.:2565   1st Qu.:2578   1st Qu.:2578  \n",
      " Median :3625   Median :3636   Median :3636   Median :3636   Median :3646  \n",
      " Mean   :3421   Mean   :3432   Mean   :3434   Mean   :3437   Mean   :3440  \n",
      " 3rd Qu.:4140   3rd Qu.:4165   3rd Qu.:4165   3rd Qu.:4165   3rd Qu.:4166  \n",
      " Max.   :6165   Max.   :6165   Max.   :6165   Max.   :6165   Max.   :6165  \n",
      "      lag2           lag1            y       \n",
      " Min.   : 375   Min.   : 375   Min.   : 375  \n",
      " 1st Qu.:2578   1st Qu.:2578   1st Qu.:2578  \n",
      " Median :3646   Median :3646   Median :3648  \n",
      " Mean   :3438   Mean   :3436   Mean   :3450  \n",
      " 3rd Qu.:4166   3rd Qu.:4166   3rd Qu.:4172  \n",
      " Max.   :6165   Max.   :6165   Max.   :6193  \n",
      "[1] 4017.818 3834.002 3110.957 3010.858 3754.739 3853.213 3619.753\n",
      "MAE: 959.5233 \n",
      "NMAE: 31.9628 \n"
     ]
    },
    {
     "data": {
      "text/html": [
       "<table>\n",
       "<thead><tr><th scope=col>METRICA_MODELO</th><th scope=col>randomForest_simples</th><th scope=col>MR_Simples</th><th scope=col>KSVM_simples</th><th scope=col>MLPE_simples</th><th scope=col>MLPE_CasesSeries</th><th scope=col>MLPE_GW</th><th scope=col>HW_GW</th><th scope=col>Arima_GW</th><th scope=col>NN_GW</th><th scope=col>RandomForest_GW</th><th scope=col>MLPE_RW</th><th scope=col>HW_RW</th><th scope=col>Arima_RW</th><th scope=col>NN_RW</th><th scope=col>RandomForest_RW</th><th scope=col>MLPE_TSF_rminer</th></tr></thead>\n",
       "<tbody>\n",
       "\t<tr><td>MAE       </td><td>1080.96   </td><td>1568.75   </td><td>1149.16   </td><td>950.60    </td><td>803.67364 </td><td>835.67010 </td><td>479.448223</td><td>749.38064 </td><td>699.46488 </td><td>657.1372  </td><td>718.7323  </td><td>527.033846</td><td>648.42601 </td><td>950.89709 </td><td>657.1372  </td><td>959.5233  </td></tr>\n",
       "\t<tr><td>NMAE      </td><td>  36.01   </td><td>  52.26   </td><td>  38.28   </td><td> 31.67    </td><td> 26.77127 </td><td> 14.36353 </td><td>  8.240774</td><td> 12.88038 </td><td> 12.02243 </td><td> 11.2949  </td><td> 12.3536  </td><td>  9.058677</td><td> 11.14517 </td><td> 16.34405 </td><td> 11.2949  </td><td> 31.9628  </td></tr>\n",
       "</tbody>\n",
       "</table>\n"
      ],
      "text/latex": [
       "\\begin{tabular}{r|lllllllllllllllll}\n",
       " METRICA\\_MODELO & randomForest\\_simples & MR\\_Simples & KSVM\\_simples & MLPE\\_simples & MLPE\\_CasesSeries & MLPE\\_GW & HW\\_GW & Arima\\_GW & NN\\_GW & RandomForest\\_GW & MLPE\\_RW & HW\\_RW & Arima\\_RW & NN\\_RW & RandomForest\\_RW & MLPE\\_TSF\\_rminer\\\\\n",
       "\\hline\n",
       "\t MAE        & 1080.96    & 1568.75    & 1149.16    & 950.60     & 803.67364  & 835.67010  & 479.448223 & 749.38064  & 699.46488  & 657.1372   & 718.7323   & 527.033846 & 648.42601  & 950.89709  & 657.1372   & 959.5233  \\\\\n",
       "\t NMAE       &   36.01    &   52.26    &   38.28    &  31.67     &  26.77127  &  14.36353  &   8.240774 &  12.88038  &  12.02243  &  11.2949   &  12.3536   &   9.058677 &  11.14517  &  16.34405  &  11.2949   &  31.9628  \\\\\n",
       "\\end{tabular}\n"
      ],
      "text/markdown": [
       "\n",
       "| METRICA_MODELO | randomForest_simples | MR_Simples | KSVM_simples | MLPE_simples | MLPE_CasesSeries | MLPE_GW | HW_GW | Arima_GW | NN_GW | RandomForest_GW | MLPE_RW | HW_RW | Arima_RW | NN_RW | RandomForest_RW | MLPE_TSF_rminer |\n",
       "|---|---|---|---|---|---|---|---|---|---|---|---|---|---|---|---|---|\n",
       "| MAE        | 1080.96    | 1568.75    | 1149.16    | 950.60     | 803.67364  | 835.67010  | 479.448223 | 749.38064  | 699.46488  | 657.1372   | 718.7323   | 527.033846 | 648.42601  | 950.89709  | 657.1372   | 959.5233   |\n",
       "| NMAE       |   36.01    |   52.26    |   38.28    |  31.67     |  26.77127  |  14.36353  |   8.240774 |  12.88038  |  12.02243  |  11.2949   |  12.3536   |   9.058677 |  11.14517  |  16.34405  |  11.2949   |  31.9628   |\n",
       "\n"
      ],
      "text/plain": [
       "  METRICA_MODELO randomForest_simples MR_Simples KSVM_simples MLPE_simples\n",
       "1 MAE            1080.96              1568.75    1149.16      950.60      \n",
       "2 NMAE             36.01                52.26      38.28       31.67      \n",
       "  MLPE_CasesSeries MLPE_GW   HW_GW      Arima_GW  NN_GW     RandomForest_GW\n",
       "1 803.67364        835.67010 479.448223 749.38064 699.46488 657.1372       \n",
       "2  26.77127         14.36353   8.240774  12.88038  12.02243  11.2949       \n",
       "  MLPE_RW  HW_RW      Arima_RW  NN_RW     RandomForest_RW MLPE_TSF_rminer\n",
       "1 718.7323 527.033846 648.42601 950.89709 657.1372        959.5233       \n",
       "2  12.3536   9.058677  11.14517  16.34405  11.2949         31.9628       "
      ]
     },
     "metadata": {},
     "output_type": "display_data"
    },
    {
     "data": {
      "image/png": "[encoded data removed]",
      "text/plain": [
       "Plot with title \"\""
      ]
     },
     "metadata": {},
     "output_type": "display_data"
    }
   ],
   "source": [
    "# neural network modeling, via rminer:\n",
    "d=CasesSeries(TS,c(1:7)) # data.frame from time series (domain knowledge for the 1,12,13 time lag selection)\n",
    "print(summary(d))\n",
    "LD=nrow(d) # note: LD < L\n",
    "hd=holdout(d$y,ratio=NTS,mode=\"order\")\n",
    "NN2=fit(y~.,d[hd$tr,],model=\"mlpe\")\n",
    "init=hd$ts[1] # or same as: init=LD-H+1\n",
    "F5=lforecast(NN2,d,start=hd$ts[1],horizon=H)\n",
    "print(F5)\n",
    "Pred5=F5\n",
    "mgraph(Y,Pred5,graph=\"REG\",Grid=10,col=c(\"black\",\"blue\"),leg=list(pos=\"topleft\",leg=c(\"target\",\"NN2 pred.\")))\n",
    "\n",
    "\n",
    "mae = mmetric(Y,Pred5,metric=\"MAE\")\n",
    "nmae = mmetric(Y,Pred5,metric=\"NMAE\")\n",
    "\n",
    "# Metricas\n",
    "cat(\"MAE:\",mae,\"\\n\")\n",
    "cat(\"NMAE:\",nmae,\"\\n\")\n",
    "\n",
    "# Guardar os Resultados\n",
    "nomeModelo = \"MLPE_TSF_rminer\"\n",
    "resdf[nomeModelo] = c(mae,nmae)\n",
    "resdf"
   ]
  },
  {
   "cell_type": "markdown",
   "id": "3791f234",
   "metadata": {},
   "source": [
    "### TSF Random Forest RMiner"
   ]
  },
  {
   "cell_type": "code",
   "execution_count": 527,
   "id": "f5c2700d",
   "metadata": {},
   "outputs": [
    {
     "name": "stdout",
     "output_type": "stream",
     "text": [
      "[1] 3692.319 3147.268 2957.921 3178.845 3482.247 3573.180 3587.100\n",
      "MAE: 1012.446 \n",
      "NMAE: 33.7257 \n"
     ]
    },
    {
     "data": {
      "text/html": [
       "<table>\n",
       "<thead><tr><th scope=col>METRICA_MODELO</th><th scope=col>randomForest_simples</th><th scope=col>MR_Simples</th><th scope=col>KSVM_simples</th><th scope=col>MLPE_simples</th><th scope=col>MLPE_CasesSeries</th><th scope=col>MLPE_GW</th><th scope=col>HW_GW</th><th scope=col>Arima_GW</th><th scope=col>NN_GW</th><th scope=col>RandomForest_GW</th><th scope=col>MLPE_RW</th><th scope=col>HW_RW</th><th scope=col>Arima_RW</th><th scope=col>NN_RW</th><th scope=col>RandomForest_RW</th><th scope=col>MLPE_TSF_rminer</th><th scope=col>RF_TSF_rminer</th></tr></thead>\n",
       "<tbody>\n",
       "\t<tr><td>MAE       </td><td>1080.96   </td><td>1568.75   </td><td>1149.16   </td><td>950.60    </td><td>803.67364 </td><td>835.67010 </td><td>479.448223</td><td>749.38064 </td><td>699.46488 </td><td>657.1372  </td><td>718.7323  </td><td>527.033846</td><td>648.42601 </td><td>950.89709 </td><td>657.1372  </td><td>959.5233  </td><td>1012.4455 </td></tr>\n",
       "\t<tr><td>NMAE      </td><td>  36.01   </td><td>  52.26   </td><td>  38.28   </td><td> 31.67    </td><td> 26.77127 </td><td> 14.36353 </td><td>  8.240774</td><td> 12.88038 </td><td> 12.02243 </td><td> 11.2949  </td><td> 12.3536  </td><td>  9.058677</td><td> 11.14517 </td><td> 16.34405 </td><td> 11.2949  </td><td> 31.9628  </td><td>  33.7257 </td></tr>\n",
       "</tbody>\n",
       "</table>\n"
      ],
      "text/latex": [
       "\\begin{tabular}{r|llllllllllllllllll}\n",
       " METRICA\\_MODELO & randomForest\\_simples & MR\\_Simples & KSVM\\_simples & MLPE\\_simples & MLPE\\_CasesSeries & MLPE\\_GW & HW\\_GW & Arima\\_GW & NN\\_GW & RandomForest\\_GW & MLPE\\_RW & HW\\_RW & Arima\\_RW & NN\\_RW & RandomForest\\_RW & MLPE\\_TSF\\_rminer & RF\\_TSF\\_rminer\\\\\n",
       "\\hline\n",
       "\t MAE        & 1080.96    & 1568.75    & 1149.16    & 950.60     & 803.67364  & 835.67010  & 479.448223 & 749.38064  & 699.46488  & 657.1372   & 718.7323   & 527.033846 & 648.42601  & 950.89709  & 657.1372   & 959.5233   & 1012.4455 \\\\\n",
       "\t NMAE       &   36.01    &   52.26    &   38.28    &  31.67     &  26.77127  &  14.36353  &   8.240774 &  12.88038  &  12.02243  &  11.2949   &  12.3536   &   9.058677 &  11.14517  &  16.34405  &  11.2949   &  31.9628   &   33.7257 \\\\\n",
       "\\end{tabular}\n"
      ],
      "text/markdown": [
       "\n",
       "| METRICA_MODELO | randomForest_simples | MR_Simples | KSVM_simples | MLPE_simples | MLPE_CasesSeries | MLPE_GW | HW_GW | Arima_GW | NN_GW | RandomForest_GW | MLPE_RW | HW_RW | Arima_RW | NN_RW | RandomForest_RW | MLPE_TSF_rminer | RF_TSF_rminer |\n",
       "|---|---|---|---|---|---|---|---|---|---|---|---|---|---|---|---|---|---|\n",
       "| MAE        | 1080.96    | 1568.75    | 1149.16    | 950.60     | 803.67364  | 835.67010  | 479.448223 | 749.38064  | 699.46488  | 657.1372   | 718.7323   | 527.033846 | 648.42601  | 950.89709  | 657.1372   | 959.5233   | 1012.4455  |\n",
       "| NMAE       |   36.01    |   52.26    |   38.28    |  31.67     |  26.77127  |  14.36353  |   8.240774 |  12.88038  |  12.02243  |  11.2949   |  12.3536   |   9.058677 |  11.14517  |  16.34405  |  11.2949   |  31.9628   |   33.7257  |\n",
       "\n"
      ],
      "text/plain": [
       "  METRICA_MODELO randomForest_simples MR_Simples KSVM_simples MLPE_simples\n",
       "1 MAE            1080.96              1568.75    1149.16      950.60      \n",
       "2 NMAE             36.01                52.26      38.28       31.67      \n",
       "  MLPE_CasesSeries MLPE_GW   HW_GW      Arima_GW  NN_GW     RandomForest_GW\n",
       "1 803.67364        835.67010 479.448223 749.38064 699.46488 657.1372       \n",
       "2  26.77127         14.36353   8.240774  12.88038  12.02243  11.2949       \n",
       "  MLPE_RW  HW_RW      Arima_RW  NN_RW     RandomForest_RW MLPE_TSF_rminer\n",
       "1 718.7323 527.033846 648.42601 950.89709 657.1372        959.5233       \n",
       "2  12.3536   9.058677  11.14517  16.34405  11.2949         31.9628       \n",
       "  RF_TSF_rminer\n",
       "1 1012.4455    \n",
       "2   33.7257    "
      ]
     },
     "metadata": {},
     "output_type": "display_data"
    },
    {
     "data": {
      "image/png": "[encoded data removed]",
      "text/plain": [
       "Plot with title \"\""
      ]
     },
     "metadata": {},
     "output_type": "display_data"
    }
   ],
   "source": [
    "# random forest modeling, via rminer:\n",
    "LM=fit(y~.,d[hd$tr,],model=\"lm\")\n",
    "init=hd$ts[1] # or same as: init=LD-H+1\n",
    "F6=lforecast(LM,d,start=hd$ts[1],horizon=H)\n",
    "print(F6)\n",
    "Pred6=F6\n",
    "mgraph(Y,Pred6,graph=\"REG\",Grid=10,col=c(\"black\",\"blue\"),leg=list(pos=\"topleft\",leg=c(\"target\",\"LM pred.\")))\n",
    "\n",
    "mae = mmetric(Y,Pred6,metric=\"MAE\")\n",
    "nmae = mmetric(Y,Pred6,metric=\"NMAE\")\n",
    "\n",
    "# Metricas\n",
    "cat(\"MAE:\",mae,\"\\n\")\n",
    "cat(\"NMAE:\",nmae,\"\\n\")\n",
    "\n",
    "# Guardar os Resultados\n",
    "nomeModelo = \"RF_TSF_rminer\"\n",
    "resdf[nomeModelo] = c(mae,nmae)\n",
    "resdf"
   ]
  },
  {
   "cell_type": "markdown",
   "id": "c04cebe9",
   "metadata": {},
   "source": [
    "### TSF HoltWinters Forecast"
   ]
  },
  {
   "cell_type": "code",
   "execution_count": 528,
   "id": "9b7b8cac",
   "metadata": {},
   "outputs": [
    {
     "name": "stdout",
     "output_type": "stream",
     "text": [
      "Holt-Winters exponential smoothing with trend and additive seasonal component.\n",
      "\n",
      "Call:\n",
      "HoltWinters(x = TR)\n",
      "\n",
      "Smoothing parameters:\n",
      " alpha: 0.2963465\n",
      " beta : 0.006538548\n",
      " gamma: 0.2608523\n",
      "\n",
      "Coefficients:\n",
      "          [,1]\n",
      "a  2903.871417\n",
      "b    -9.134399\n",
      "s1 1609.129645\n",
      "s2 -246.558839\n",
      "s3 -487.647948\n",
      "s4 -299.371642\n",
      "s5  -56.439250\n",
      "s6  263.545265\n",
      "s7 1544.586706\n",
      "[1] \"show holt winters forecasts:\"\n",
      "         Point Forecast    Lo 80    Hi 80     Lo 95    Hi 95\n",
      "36.71429       4503.867 3547.800 5459.934 3041.6882 5966.045\n",
      "36.85714       2639.044 1641.351 3636.737 1113.2037 4164.884\n",
      "37.00000       2388.820 1350.659 3426.982  801.0894 3976.551\n",
      "37.14286       2567.962 1490.357 3645.568  919.9068 4216.018\n",
      "37.28571       2801.760 1685.623 3917.897 1094.7760 4508.744\n",
      "37.42857       3112.610 1958.760 4266.461 1347.9485 4877.272\n",
      "37.57143       4384.517 3193.691 5575.343 2563.3059 6205.729\n"
     ]
    },
    {
     "data": {
      "image/png": "[encoded data removed]",
      "text/plain": [
       "Plot with title \"Holt-Winters filtering\""
      ]
     },
     "metadata": {},
     "output_type": "display_data"
    },
    {
     "name": "stdout",
     "output_type": "stream",
     "text": [
      "MAE: 1186.774 \n",
      "NMAE: 39.53278 \n"
     ]
    },
    {
     "data": {
      "text/html": [
       "<table>\n",
       "<thead><tr><th scope=col>METRICA_MODELO</th><th scope=col>randomForest_simples</th><th scope=col>MR_Simples</th><th scope=col>KSVM_simples</th><th scope=col>MLPE_simples</th><th scope=col>MLPE_CasesSeries</th><th scope=col>MLPE_GW</th><th scope=col>HW_GW</th><th scope=col>Arima_GW</th><th scope=col>NN_GW</th><th scope=col>RandomForest_GW</th><th scope=col>MLPE_RW</th><th scope=col>HW_RW</th><th scope=col>Arima_RW</th><th scope=col>NN_RW</th><th scope=col>RandomForest_RW</th><th scope=col>MLPE_TSF_rminer</th><th scope=col>RF_TSF_rminer</th><th scope=col>HW_TSF_forecast</th></tr></thead>\n",
       "<tbody>\n",
       "\t<tr><td>MAE       </td><td>1080.96   </td><td>1568.75   </td><td>1149.16   </td><td>950.60    </td><td>803.67364 </td><td>835.67010 </td><td>479.448223</td><td>749.38064 </td><td>699.46488 </td><td>657.1372  </td><td>718.7323  </td><td>527.033846</td><td>648.42601 </td><td>950.89709 </td><td>657.1372  </td><td>959.5233  </td><td>1012.4455 </td><td>1186.77419</td></tr>\n",
       "\t<tr><td>NMAE      </td><td>  36.01   </td><td>  52.26   </td><td>  38.28   </td><td> 31.67    </td><td> 26.77127 </td><td> 14.36353 </td><td>  8.240774</td><td> 12.88038 </td><td> 12.02243 </td><td> 11.2949  </td><td> 12.3536  </td><td>  9.058677</td><td> 11.14517 </td><td> 16.34405 </td><td> 11.2949  </td><td> 31.9628  </td><td>  33.7257 </td><td>  39.53278</td></tr>\n",
       "</tbody>\n",
       "</table>\n"
      ],
      "text/latex": [
       "\\begin{tabular}{r|lllllllllllllllllll}\n",
       " METRICA\\_MODELO & randomForest\\_simples & MR\\_Simples & KSVM\\_simples & MLPE\\_simples & MLPE\\_CasesSeries & MLPE\\_GW & HW\\_GW & Arima\\_GW & NN\\_GW & RandomForest\\_GW & MLPE\\_RW & HW\\_RW & Arima\\_RW & NN\\_RW & RandomForest\\_RW & MLPE\\_TSF\\_rminer & RF\\_TSF\\_rminer & HW\\_TSF\\_forecast\\\\\n",
       "\\hline\n",
       "\t MAE        & 1080.96    & 1568.75    & 1149.16    & 950.60     & 803.67364  & 835.67010  & 479.448223 & 749.38064  & 699.46488  & 657.1372   & 718.7323   & 527.033846 & 648.42601  & 950.89709  & 657.1372   & 959.5233   & 1012.4455  & 1186.77419\\\\\n",
       "\t NMAE       &   36.01    &   52.26    &   38.28    &  31.67     &  26.77127  &  14.36353  &   8.240774 &  12.88038  &  12.02243  &  11.2949   &  12.3536   &   9.058677 &  11.14517  &  16.34405  &  11.2949   &  31.9628   &   33.7257  &   39.53278\\\\\n",
       "\\end{tabular}\n"
      ],
      "text/markdown": [
       "\n",
       "| METRICA_MODELO | randomForest_simples | MR_Simples | KSVM_simples | MLPE_simples | MLPE_CasesSeries | MLPE_GW | HW_GW | Arima_GW | NN_GW | RandomForest_GW | MLPE_RW | HW_RW | Arima_RW | NN_RW | RandomForest_RW | MLPE_TSF_rminer | RF_TSF_rminer | HW_TSF_forecast |\n",
       "|---|---|---|---|---|---|---|---|---|---|---|---|---|---|---|---|---|---|---|\n",
       "| MAE        | 1080.96    | 1568.75    | 1149.16    | 950.60     | 803.67364  | 835.67010  | 479.448223 | 749.38064  | 699.46488  | 657.1372   | 718.7323   | 527.033846 | 648.42601  | 950.89709  | 657.1372   | 959.5233   | 1012.4455  | 1186.77419 |\n",
       "| NMAE       |   36.01    |   52.26    |   38.28    |  31.67     |  26.77127  |  14.36353  |   8.240774 |  12.88038  |  12.02243  |  11.2949   |  12.3536   |   9.058677 |  11.14517  |  16.34405  |  11.2949   |  31.9628   |   33.7257  |   39.53278 |\n",
       "\n"
      ],
      "text/plain": [
       "  METRICA_MODELO randomForest_simples MR_Simples KSVM_simples MLPE_simples\n",
       "1 MAE            1080.96              1568.75    1149.16      950.60      \n",
       "2 NMAE             36.01                52.26      38.28       31.67      \n",
       "  MLPE_CasesSeries MLPE_GW   HW_GW      Arima_GW  NN_GW     RandomForest_GW\n",
       "1 803.67364        835.67010 479.448223 749.38064 699.46488 657.1372       \n",
       "2  26.77127         14.36353   8.240774  12.88038  12.02243  11.2949       \n",
       "  MLPE_RW  HW_RW      Arima_RW  NN_RW     RandomForest_RW MLPE_TSF_rminer\n",
       "1 718.7323 527.033846 648.42601 950.89709 657.1372        959.5233       \n",
       "2  12.3536   9.058677  11.14517  16.34405  11.2949         31.9628       \n",
       "  RF_TSF_rminer HW_TSF_forecast\n",
       "1 1012.4455     1186.77419     \n",
       "2   33.7257       39.53278     "
      ]
     },
     "metadata": {},
     "output_type": "display_data"
    },
    {
     "data": {
      "image/png": "[encoded data removed]",
      "text/plain": [
       "Plot with title \"\""
      ]
     },
     "metadata": {},
     "output_type": "display_data"
    }
   ],
   "source": [
    "HW=suppressWarnings(HoltWinters(TR))\n",
    "print(HW)\n",
    "plot(HW)\n",
    "print(\"show holt winters forecasts:\")\n",
    "# forecasts, from 1 to H ahead:\n",
    "F=forecast(HW,h=7)\n",
    "print(F)\n",
    "Pred=F$mean[1:H] # HolWinters format\n",
    "mgraph(Y,Pred,graph=\"REG\",Grid=10,col=c(\"black\",\"blue\"),leg=list(pos=\"topleft\",leg=c(\"target\",\"HW pred.\")))\n",
    "\n",
    "\n",
    "mae = mmetric(Y,Pred,metric=\"MAE\")\n",
    "nmae = mmetric(Y,Pred,metric=\"NMAE\")\n",
    "\n",
    "# Metricas\n",
    "cat(\"MAE:\",mae,\"\\n\")\n",
    "cat(\"NMAE:\",nmae,\"\\n\")\n",
    "\n",
    "# Guardar os Resultados\n",
    "nomeModelo = \"HW_TSF_forecast\"\n",
    "resdf[nomeModelo] = c(mae,nmae)\n",
    "resdf"
   ]
  },
  {
   "cell_type": "markdown",
   "id": "28adb6b5",
   "metadata": {},
   "source": [
    "### TSF Arima Forecast"
   ]
  },
  {
   "cell_type": "code",
   "execution_count": 529,
   "id": "b74b6036",
   "metadata": {},
   "outputs": [
    {
     "name": "stdout",
     "output_type": "stream",
     "text": [
      "Series: TR \n",
      "ARIMA(1,1,2)(0,0,2)[7] \n",
      "\n",
      "Coefficients:\n",
      "         ar1      ma1      ma2    sma1    sma2\n",
      "      0.1594  -0.6302  -0.2599  0.3143  0.2046\n",
      "s.e.  0.1832   0.1819   0.1451  0.0672  0.0601\n",
      "\n",
      "sigma^2 estimated as 598409:  log likelihood=-2007.85\n",
      "AIC=4027.7   AICc=4028.05   BIC=4048.81\n",
      "[1] \"show ARIMA forecasts:\"\n",
      "         Point Forecast    Lo 80    Hi 80    Lo 95    Hi 95\n",
      "36.71429       3562.968 2571.599 4554.337 2046.800 5079.135\n",
      "36.85714       3173.536 2051.916 4295.157 1458.166 4888.907\n",
      "37.00000       3185.793 2047.767 4323.818 1445.333 4926.253\n",
      "37.14286       3288.931 2142.375 4435.488 1535.424 5042.439\n",
      "37.28571       3563.785 2409.750 4717.821 1798.840 5328.730\n",
      "37.42857       3336.623 2175.308 4497.938 1560.545 5112.701\n",
      "37.57143       3467.460 2298.934 4635.985 1680.354 5254.566\n",
      "MAE: 1018.129 \n",
      "NMAE: 33.91503 \n"
     ]
    },
    {
     "data": {
      "text/html": [
       "<table>\n",
       "<thead><tr><th scope=col>METRICA_MODELO</th><th scope=col>randomForest_simples</th><th scope=col>MR_Simples</th><th scope=col>KSVM_simples</th><th scope=col>MLPE_simples</th><th scope=col>MLPE_CasesSeries</th><th scope=col>MLPE_GW</th><th scope=col>HW_GW</th><th scope=col>Arima_GW</th><th scope=col>NN_GW</th><th scope=col>RandomForest_GW</th><th scope=col>MLPE_RW</th><th scope=col>HW_RW</th><th scope=col>Arima_RW</th><th scope=col>NN_RW</th><th scope=col>RandomForest_RW</th><th scope=col>MLPE_TSF_rminer</th><th scope=col>RF_TSF_rminer</th><th scope=col>HW_TSF_forecast</th><th scope=col>Arima_TSF_forecast</th></tr></thead>\n",
       "<tbody>\n",
       "\t<tr><td>MAE       </td><td>1080.96   </td><td>1568.75   </td><td>1149.16   </td><td>950.60    </td><td>803.67364 </td><td>835.67010 </td><td>479.448223</td><td>749.38064 </td><td>699.46488 </td><td>657.1372  </td><td>718.7323  </td><td>527.033846</td><td>648.42601 </td><td>950.89709 </td><td>657.1372  </td><td>959.5233  </td><td>1012.4455 </td><td>1186.77419</td><td>1018.12909</td></tr>\n",
       "\t<tr><td>NMAE      </td><td>  36.01   </td><td>  52.26   </td><td>  38.28   </td><td> 31.67    </td><td> 26.77127 </td><td> 14.36353 </td><td>  8.240774</td><td> 12.88038 </td><td> 12.02243 </td><td> 11.2949  </td><td> 12.3536  </td><td>  9.058677</td><td> 11.14517 </td><td> 16.34405 </td><td> 11.2949  </td><td> 31.9628  </td><td>  33.7257 </td><td>  39.53278</td><td>  33.91503</td></tr>\n",
       "</tbody>\n",
       "</table>\n"
      ],
      "text/latex": [
       "\\begin{tabular}{r|llllllllllllllllllll}\n",
       " METRICA\\_MODELO & randomForest\\_simples & MR\\_Simples & KSVM\\_simples & MLPE\\_simples & MLPE\\_CasesSeries & MLPE\\_GW & HW\\_GW & Arima\\_GW & NN\\_GW & RandomForest\\_GW & MLPE\\_RW & HW\\_RW & Arima\\_RW & NN\\_RW & RandomForest\\_RW & MLPE\\_TSF\\_rminer & RF\\_TSF\\_rminer & HW\\_TSF\\_forecast & Arima\\_TSF\\_forecast\\\\\n",
       "\\hline\n",
       "\t MAE        & 1080.96    & 1568.75    & 1149.16    & 950.60     & 803.67364  & 835.67010  & 479.448223 & 749.38064  & 699.46488  & 657.1372   & 718.7323   & 527.033846 & 648.42601  & 950.89709  & 657.1372   & 959.5233   & 1012.4455  & 1186.77419 & 1018.12909\\\\\n",
       "\t NMAE       &   36.01    &   52.26    &   38.28    &  31.67     &  26.77127  &  14.36353  &   8.240774 &  12.88038  &  12.02243  &  11.2949   &  12.3536   &   9.058677 &  11.14517  &  16.34405  &  11.2949   &  31.9628   &   33.7257  &   39.53278 &   33.91503\\\\\n",
       "\\end{tabular}\n"
      ],
      "text/markdown": [
       "\n",
       "| METRICA_MODELO | randomForest_simples | MR_Simples | KSVM_simples | MLPE_simples | MLPE_CasesSeries | MLPE_GW | HW_GW | Arima_GW | NN_GW | RandomForest_GW | MLPE_RW | HW_RW | Arima_RW | NN_RW | RandomForest_RW | MLPE_TSF_rminer | RF_TSF_rminer | HW_TSF_forecast | Arima_TSF_forecast |\n",
       "|---|---|---|---|---|---|---|---|---|---|---|---|---|---|---|---|---|---|---|---|\n",
       "| MAE        | 1080.96    | 1568.75    | 1149.16    | 950.60     | 803.67364  | 835.67010  | 479.448223 | 749.38064  | 699.46488  | 657.1372   | 718.7323   | 527.033846 | 648.42601  | 950.89709  | 657.1372   | 959.5233   | 1012.4455  | 1186.77419 | 1018.12909 |\n",
       "| NMAE       |   36.01    |   52.26    |   38.28    |  31.67     |  26.77127  |  14.36353  |   8.240774 |  12.88038  |  12.02243  |  11.2949   |  12.3536   |   9.058677 |  11.14517  |  16.34405  |  11.2949   |  31.9628   |   33.7257  |   39.53278 |   33.91503 |\n",
       "\n"
      ],
      "text/plain": [
       "  METRICA_MODELO randomForest_simples MR_Simples KSVM_simples MLPE_simples\n",
       "1 MAE            1080.96              1568.75    1149.16      950.60      \n",
       "2 NMAE             36.01                52.26      38.28       31.67      \n",
       "  MLPE_CasesSeries MLPE_GW   HW_GW      Arima_GW  NN_GW     RandomForest_GW\n",
       "1 803.67364        835.67010 479.448223 749.38064 699.46488 657.1372       \n",
       "2  26.77127         14.36353   8.240774  12.88038  12.02243  11.2949       \n",
       "  MLPE_RW  HW_RW      Arima_RW  NN_RW     RandomForest_RW MLPE_TSF_rminer\n",
       "1 718.7323 527.033846 648.42601 950.89709 657.1372        959.5233       \n",
       "2  12.3536   9.058677  11.14517  16.34405  11.2949         31.9628       \n",
       "  RF_TSF_rminer HW_TSF_forecast Arima_TSF_forecast\n",
       "1 1012.4455     1186.77419      1018.12909        \n",
       "2   33.7257       39.53278        33.91503        "
      ]
     },
     "metadata": {},
     "output_type": "display_data"
    },
    {
     "data": {
      "image/png": "[encoded data removed]",
      "text/plain": [
       "Plot with title \"\""
      ]
     },
     "metadata": {},
     "output_type": "display_data"
    }
   ],
   "source": [
    "AR=auto.arima(TR)\n",
    "print(AR) # ARIMA(3,0,1)(2,1,0)[12] \n",
    "print(\"show ARIMA forecasts:\")\n",
    "# forecasts, from 1 to H ahead:\n",
    "F1=forecast(AR,h=H)\n",
    "print(F1)\n",
    "Pred1=F1$mean[1:H]\n",
    "mgraph(Y,Pred1,graph=\"REG\",Grid=10,col=c(\"black\",\"blue\"),leg=list(pos=\"topleft\",leg=c(\"target\",\" ARIMA pred.\")))\n",
    "\n",
    "mae = mmetric(Y,Pred1,metric=\"MAE\")\n",
    "nmae = mmetric(Y,Pred1,metric=\"NMAE\")\n",
    "\n",
    "# Metricas\n",
    "cat(\"MAE:\",mae,\"\\n\")\n",
    "cat(\"NMAE:\",nmae,\"\\n\")\n",
    "\n",
    "# Guardar os Resultados\n",
    "nomeModelo = \"Arima_TSF_forecast\"\n",
    "resdf[nomeModelo] = c(mae,nmae)\n",
    "resdf"
   ]
  },
  {
   "cell_type": "markdown",
   "id": "0016b093",
   "metadata": {},
   "source": [
    "### TSF Neural Network Forecast"
   ]
  },
  {
   "cell_type": "code",
   "execution_count": 530,
   "id": "9467fcb5",
   "metadata": {},
   "outputs": [
    {
     "name": "stdout",
     "output_type": "stream",
     "text": [
      "Series: TR \n",
      "Model:  NNAR(16,1,8)[7] \n",
      "Call:   nnetar(y = TR, P = 1, repeats = 3)\n",
      "\n",
      "Average of 3 networks, each of which is\n",
      "a 16-8-1 network with 145 weights\n",
      "options were - linear output units \n",
      "\n",
      "sigma^2 estimated as 43394\n",
      "MAE: 1760.038 \n",
      "NMAE: 58.62884 \n"
     ]
    },
    {
     "data": {
      "text/html": [
       "<table>\n",
       "<thead><tr><th scope=col>METRICA_MODELO</th><th scope=col>randomForest_simples</th><th scope=col>MR_Simples</th><th scope=col>KSVM_simples</th><th scope=col>MLPE_simples</th><th scope=col>MLPE_CasesSeries</th><th scope=col>MLPE_GW</th><th scope=col>HW_GW</th><th scope=col>Arima_GW</th><th scope=col>NN_GW</th><th scope=col>...</th><th scope=col>MLPE_RW</th><th scope=col>HW_RW</th><th scope=col>Arima_RW</th><th scope=col>NN_RW</th><th scope=col>RandomForest_RW</th><th scope=col>MLPE_TSF_rminer</th><th scope=col>RF_TSF_rminer</th><th scope=col>HW_TSF_forecast</th><th scope=col>Arima_TSF_forecast</th><th scope=col>NN_TSF_forecast</th></tr></thead>\n",
       "<tbody>\n",
       "\t<tr><td>MAE       </td><td>1080.96   </td><td>1568.75   </td><td>1149.16   </td><td>950.60    </td><td>803.67364 </td><td>835.67010 </td><td>479.448223</td><td>749.38064 </td><td>699.46488 </td><td>...       </td><td>718.7323  </td><td>527.033846</td><td>648.42601 </td><td>950.89709 </td><td>657.1372  </td><td>959.5233  </td><td>1012.4455 </td><td>1186.77419</td><td>1018.12909</td><td>1760.03773</td></tr>\n",
       "\t<tr><td>NMAE      </td><td>  36.01   </td><td>  52.26   </td><td>  38.28   </td><td> 31.67    </td><td> 26.77127 </td><td> 14.36353 </td><td>  8.240774</td><td> 12.88038 </td><td> 12.02243 </td><td>...       </td><td> 12.3536  </td><td>  9.058677</td><td> 11.14517 </td><td> 16.34405 </td><td> 11.2949  </td><td> 31.9628  </td><td>  33.7257 </td><td>  39.53278</td><td>  33.91503</td><td>  58.62884</td></tr>\n",
       "</tbody>\n",
       "</table>\n"
      ],
      "text/latex": [
       "\\begin{tabular}{r|lllllllllllllllllllll}\n",
       " METRICA\\_MODELO & randomForest\\_simples & MR\\_Simples & KSVM\\_simples & MLPE\\_simples & MLPE\\_CasesSeries & MLPE\\_GW & HW\\_GW & Arima\\_GW & NN\\_GW & ... & MLPE\\_RW & HW\\_RW & Arima\\_RW & NN\\_RW & RandomForest\\_RW & MLPE\\_TSF\\_rminer & RF\\_TSF\\_rminer & HW\\_TSF\\_forecast & Arima\\_TSF\\_forecast & NN\\_TSF\\_forecast\\\\\n",
       "\\hline\n",
       "\t MAE        & 1080.96    & 1568.75    & 1149.16    & 950.60     & 803.67364  & 835.67010  & 479.448223 & 749.38064  & 699.46488  & ...        & 718.7323   & 527.033846 & 648.42601  & 950.89709  & 657.1372   & 959.5233   & 1012.4455  & 1186.77419 & 1018.12909 & 1760.03773\\\\\n",
       "\t NMAE       &   36.01    &   52.26    &   38.28    &  31.67     &  26.77127  &  14.36353  &   8.240774 &  12.88038  &  12.02243  & ...        &  12.3536   &   9.058677 &  11.14517  &  16.34405  &  11.2949   &  31.9628   &   33.7257  &   39.53278 &   33.91503 &   58.62884\\\\\n",
       "\\end{tabular}\n"
      ],
      "text/markdown": [
       "\n",
       "| METRICA_MODELO | randomForest_simples | MR_Simples | KSVM_simples | MLPE_simples | MLPE_CasesSeries | MLPE_GW | HW_GW | Arima_GW | NN_GW | ... | MLPE_RW | HW_RW | Arima_RW | NN_RW | RandomForest_RW | MLPE_TSF_rminer | RF_TSF_rminer | HW_TSF_forecast | Arima_TSF_forecast | NN_TSF_forecast |\n",
       "|---|---|---|---|---|---|---|---|---|---|---|---|---|---|---|---|---|---|---|---|---|\n",
       "| MAE        | 1080.96    | 1568.75    | 1149.16    | 950.60     | 803.67364  | 835.67010  | 479.448223 | 749.38064  | 699.46488  | ...        | 718.7323   | 527.033846 | 648.42601  | 950.89709  | 657.1372   | 959.5233   | 1012.4455  | 1186.77419 | 1018.12909 | 1760.03773 |\n",
       "| NMAE       |   36.01    |   52.26    |   38.28    |  31.67     |  26.77127  |  14.36353  |   8.240774 |  12.88038  |  12.02243  | ...        |  12.3536   |   9.058677 |  11.14517  |  16.34405  |  11.2949   |  31.9628   |   33.7257  |   39.53278 |   33.91503 |   58.62884 |\n",
       "\n"
      ],
      "text/plain": [
       "  METRICA_MODELO randomForest_simples MR_Simples KSVM_simples MLPE_simples\n",
       "1 MAE            1080.96              1568.75    1149.16      950.60      \n",
       "2 NMAE             36.01                52.26      38.28       31.67      \n",
       "  MLPE_CasesSeries MLPE_GW   HW_GW      Arima_GW  NN_GW     ... MLPE_RW \n",
       "1 803.67364        835.67010 479.448223 749.38064 699.46488 ... 718.7323\n",
       "2  26.77127         14.36353   8.240774  12.88038  12.02243 ...  12.3536\n",
       "  HW_RW      Arima_RW  NN_RW     RandomForest_RW MLPE_TSF_rminer RF_TSF_rminer\n",
       "1 527.033846 648.42601 950.89709 657.1372        959.5233        1012.4455    \n",
       "2   9.058677  11.14517  16.34405  11.2949         31.9628          33.7257    \n",
       "  HW_TSF_forecast Arima_TSF_forecast NN_TSF_forecast\n",
       "1 1186.77419      1018.12909         1760.03773     \n",
       "2   39.53278        33.91503           58.62884     "
      ]
     },
     "metadata": {},
     "output_type": "display_data"
    },
    {
     "data": {
      "image/png": "[encoded data removed]",
      "text/plain": [
       "Plot with title \"\""
      ]
     },
     "metadata": {},
     "output_type": "display_data"
    }
   ],
   "source": [
    "NN1=nnetar(TR,P=1,repeats=3)\n",
    "print(NN1)\n",
    "F3=forecast(NN1,h=H)\n",
    "Pred3=F3$mean[1:H] # HolWinters format\n",
    "mgraph(Y,Pred3,graph=\"REG\",Grid=10,col=c(\"black\",\"blue\"),leg=list(pos=\"topleft\",leg=c(\"target\",\"NN1 pred.\")))\n",
    "\n",
    "mae = mmetric(Y,Pred3,metric=\"MAE\")\n",
    "nmae = mmetric(Y,Pred3,metric=\"NMAE\")\n",
    "\n",
    "# Metricas\n",
    "cat(\"MAE:\",mae,\"\\n\")\n",
    "cat(\"NMAE:\",nmae,\"\\n\")\n",
    "\n",
    "# Guardar os Resultados\n",
    "nomeModelo = \"NN_TSF_forecast\"\n",
    "resdf[nomeModelo] = c(mae,nmae)\n",
    "resdf"
   ]
  },
  {
   "cell_type": "markdown",
   "id": "f1339f35",
   "metadata": {},
   "source": [
    "### TSF ETS Forecast"
   ]
  },
  {
   "cell_type": "code",
   "execution_count": 531,
   "id": "bf36fcb3",
   "metadata": {},
   "outputs": [
    {
     "name": "stdout",
     "output_type": "stream",
     "text": [
      "Series: TR \n",
      "Model:  NNAR(16,1,8)[7] \n",
      "Call:   nnetar(y = TR, P = 1, repeats = 3)\n",
      "\n",
      "Average of 3 networks, each of which is\n",
      "a 16-8-1 network with 145 weights\n",
      "options were - linear output units \n",
      "\n",
      "sigma^2 estimated as 30199\n",
      "MAE: 1249.271 \n",
      "NMAE: 41.61462 \n"
     ]
    },
    {
     "data": {
      "text/html": [
       "<table>\n",
       "<thead><tr><th scope=col>METRICA_MODELO</th><th scope=col>randomForest_simples</th><th scope=col>MR_Simples</th><th scope=col>KSVM_simples</th><th scope=col>MLPE_simples</th><th scope=col>MLPE_CasesSeries</th><th scope=col>MLPE_GW</th><th scope=col>HW_GW</th><th scope=col>Arima_GW</th><th scope=col>NN_GW</th><th scope=col>...</th><th scope=col>HW_RW</th><th scope=col>Arima_RW</th><th scope=col>NN_RW</th><th scope=col>RandomForest_RW</th><th scope=col>MLPE_TSF_rminer</th><th scope=col>RF_TSF_rminer</th><th scope=col>HW_TSF_forecast</th><th scope=col>Arima_TSF_forecast</th><th scope=col>NN_TSF_forecast</th><th scope=col>ETS_TSF_forecast</th></tr></thead>\n",
       "<tbody>\n",
       "\t<tr><td>MAE       </td><td>1080.96   </td><td>1568.75   </td><td>1149.16   </td><td>950.60    </td><td>803.67364 </td><td>835.67010 </td><td>479.448223</td><td>749.38064 </td><td>699.46488 </td><td>...       </td><td>527.033846</td><td>648.42601 </td><td>950.89709 </td><td>657.1372  </td><td>959.5233  </td><td>1012.4455 </td><td>1186.77419</td><td>1018.12909</td><td>1760.03773</td><td>1249.27077</td></tr>\n",
       "\t<tr><td>NMAE      </td><td>  36.01   </td><td>  52.26   </td><td>  38.28   </td><td> 31.67    </td><td> 26.77127 </td><td> 14.36353 </td><td>  8.240774</td><td> 12.88038 </td><td> 12.02243 </td><td>...       </td><td>  9.058677</td><td> 11.14517 </td><td> 16.34405 </td><td> 11.2949  </td><td> 31.9628  </td><td>  33.7257 </td><td>  39.53278</td><td>  33.91503</td><td>  58.62884</td><td>  41.61462</td></tr>\n",
       "</tbody>\n",
       "</table>\n"
      ],
      "text/latex": [
       "\\begin{tabular}{r|llllllllllllllllllllll}\n",
       " METRICA\\_MODELO & randomForest\\_simples & MR\\_Simples & KSVM\\_simples & MLPE\\_simples & MLPE\\_CasesSeries & MLPE\\_GW & HW\\_GW & Arima\\_GW & NN\\_GW & ... & HW\\_RW & Arima\\_RW & NN\\_RW & RandomForest\\_RW & MLPE\\_TSF\\_rminer & RF\\_TSF\\_rminer & HW\\_TSF\\_forecast & Arima\\_TSF\\_forecast & NN\\_TSF\\_forecast & ETS\\_TSF\\_forecast\\\\\n",
       "\\hline\n",
       "\t MAE        & 1080.96    & 1568.75    & 1149.16    & 950.60     & 803.67364  & 835.67010  & 479.448223 & 749.38064  & 699.46488  & ...        & 527.033846 & 648.42601  & 950.89709  & 657.1372   & 959.5233   & 1012.4455  & 1186.77419 & 1018.12909 & 1760.03773 & 1249.27077\\\\\n",
       "\t NMAE       &   36.01    &   52.26    &   38.28    &  31.67     &  26.77127  &  14.36353  &   8.240774 &  12.88038  &  12.02243  & ...        &   9.058677 &  11.14517  &  16.34405  &  11.2949   &  31.9628   &   33.7257  &   39.53278 &   33.91503 &   58.62884 &   41.61462\\\\\n",
       "\\end{tabular}\n"
      ],
      "text/markdown": [
       "\n",
       "| METRICA_MODELO | randomForest_simples | MR_Simples | KSVM_simples | MLPE_simples | MLPE_CasesSeries | MLPE_GW | HW_GW | Arima_GW | NN_GW | ... | HW_RW | Arima_RW | NN_RW | RandomForest_RW | MLPE_TSF_rminer | RF_TSF_rminer | HW_TSF_forecast | Arima_TSF_forecast | NN_TSF_forecast | ETS_TSF_forecast |\n",
       "|---|---|---|---|---|---|---|---|---|---|---|---|---|---|---|---|---|---|---|---|---|\n",
       "| MAE        | 1080.96    | 1568.75    | 1149.16    | 950.60     | 803.67364  | 835.67010  | 479.448223 | 749.38064  | 699.46488  | ...        | 527.033846 | 648.42601  | 950.89709  | 657.1372   | 959.5233   | 1012.4455  | 1186.77419 | 1018.12909 | 1760.03773 | 1249.27077 |\n",
       "| NMAE       |   36.01    |   52.26    |   38.28    |  31.67     |  26.77127  |  14.36353  |   8.240774 |  12.88038  |  12.02243  | ...        |   9.058677 |  11.14517  |  16.34405  |  11.2949   |  31.9628   |   33.7257  |   39.53278 |   33.91503 |   58.62884 |   41.61462 |\n",
       "\n"
      ],
      "text/plain": [
       "  METRICA_MODELO randomForest_simples MR_Simples KSVM_simples MLPE_simples\n",
       "1 MAE            1080.96              1568.75    1149.16      950.60      \n",
       "2 NMAE             36.01                52.26      38.28       31.67      \n",
       "  MLPE_CasesSeries MLPE_GW   HW_GW      Arima_GW  NN_GW     ... HW_RW     \n",
       "1 803.67364        835.67010 479.448223 749.38064 699.46488 ... 527.033846\n",
       "2  26.77127         14.36353   8.240774  12.88038  12.02243 ...   9.058677\n",
       "  Arima_RW  NN_RW     RandomForest_RW MLPE_TSF_rminer RF_TSF_rminer\n",
       "1 648.42601 950.89709 657.1372        959.5233        1012.4455    \n",
       "2  11.14517  16.34405  11.2949         31.9628          33.7257    \n",
       "  HW_TSF_forecast Arima_TSF_forecast NN_TSF_forecast ETS_TSF_forecast\n",
       "1 1186.77419      1018.12909         1760.03773      1249.27077      \n",
       "2   39.53278        33.91503           58.62884        41.61462      "
      ]
     },
     "metadata": {},
     "output_type": "display_data"
    },
    {
     "data": {
      "image/png": "[encoded data removed]",
      "text/plain": [
       "Plot with title \"\""
      ]
     },
     "metadata": {},
     "output_type": "display_data"
    }
   ],
   "source": [
    "NN1=nnetar(TR,P=1,repeats=3)\n",
    "print(NN1)\n",
    "F3=forecast(NN1,h=H)\n",
    "Pred3=F3$mean[1:H] # HolWinters format\n",
    "mgraph(Y,Pred3,graph=\"REG\",Grid=10,col=c(\"black\",\"blue\"),leg=list(pos=\"topleft\",leg=c(\"target\",\"NN1 pred.\")))\n",
    "\n",
    "mae = mmetric(Y,Pred3,metric=\"MAE\")\n",
    "nmae = mmetric(Y,Pred3,metric=\"NMAE\")\n",
    "\n",
    "# Metricas\n",
    "cat(\"MAE:\",mae,\"\\n\")\n",
    "cat(\"NMAE:\",nmae,\"\\n\")\n",
    "\n",
    "# Guardar os Resultados\n",
    "nomeModelo = \"ETS_TSF_forecast\"\n",
    "resdf[nomeModelo] = c(mae,nmae)\n",
    "resdf"
   ]
  },
  {
   "cell_type": "markdown",
   "id": "cc88af17",
   "metadata": {},
   "source": [
    "### TSF MLPE RMiner"
   ]
  },
  {
   "cell_type": "code",
   "execution_count": 18,
   "id": "40baf3b7",
   "metadata": {},
   "outputs": [
    {
     "name": "stdout",
     "output_type": "stream",
     "text": [
      "SMAPE:  16.62 \n",
      "MAE: 711.81 \n",
      "NMAE: 23.71 \n"
     ]
    },
    {
     "ename": "ERROR",
     "evalue": "Error in resdf[nomeModelo] = c(mae, nmae): object 'resdf' not found\n",
     "output_type": "error",
     "traceback": [
      "Error in resdf[nomeModelo] = c(mae, nmae): object 'resdf' not found\nTraceback:\n"
     ]
    },
    {
     "data": {
      "image/png": "[encoded data removed]",
      "text/plain": [
       "Plot with title \"\""
      ]
     },
     "metadata": {},
     "output_type": "display_data"
    }
   ],
   "source": [
    "d1 = data[,1] #coluna all\n",
    "L = length(d1)\n",
    "K=7\n",
    "\n",
    "timelags = c(1:7)\n",
    "D = CasesSeries(d1,timelags)\n",
    "\n",
    "H=holdout(data$all,ratio=7,mode=\"order\")\n",
    "M=fit(y~.,D[H$tr,],model=\"mlpe\") # create forecasting model\n",
    "Pred=lforecast(M,D,start=(length(H$tr)+1),7)\n",
    "\n",
    "Target = d1[H$ts]\n",
    "\n",
    "mae = round(mmetric(Target,Pred,metric=\"MAE\"),2)\n",
    "nmae = round(mmetric(Target,Pred,metric=\"NMAE\"),2)\n",
    "cat(\"SMAPE: \",round(mmetric(Target,Pred,metric=\"SMAPE\"),2),\"\\n\")\n",
    "\n",
    "# last iteration predictions:\n",
    "mgraph(Target,Pred,graph=\"REG\",Grid=10,col=c(\"black\",\"blue\"),\n",
    "leg=list(pos=\"topleft\",leg=c(\"target\",\"predictions\")))\n",
    "\n",
    "\n",
    "\n",
    "# Metricas\n",
    "cat(\"MAE:\",mae,\"\\n\")\n",
    "cat(\"NMAE:\",nmae,\"\\n\")\n",
    "\n",
    "# Guardar os Resultados\n",
    "nomeModelo = \"MLPE_TSF_rminer\"\n",
    "resdf[nomeModelo] = c(mae,nmae)\n",
    "resdf"
   ]
  },
  {
   "cell_type": "code",
   "execution_count": 2,
   "id": "afd83deb",
   "metadata": {},
   "outputs": [
    {
     "ename": "ERROR",
     "evalue": "Error in data[, 1]: object of type 'closure' is not subsettable\n",
     "output_type": "error",
     "traceback": [
      "Error in data[, 1]: object of type 'closure' is not subsettable\nTraceback:\n"
     ]
    }
   ],
   "source": [
    "\n",
    "    d1 = data[,1] #coluna all\n",
    "    L = length(d1)\n",
    "    K=7\n",
    "    Test = K\n",
    "    \n",
    "    timelags = c(1:7)\n",
    "    D = CasesSeries(d1,timelags)\n",
    "    \n",
    "    # Holdout based on selected week\n",
    "    allIndex = c(1:257)\n",
    "    semanaEsc = c(36:42) #101-107\n",
    "    tr = allIndex[-semanaEsc]\n",
    "    ts = semanaEsc\n",
    "    \n",
    "    M = fit(y~.,D[tr,],model=\"randomForest\")\n",
    "    Pred = lforecast(M,D,start=ts[1],Test)\n",
    "    print(Pred)"
   ]
  },
  {
   "cell_type": "markdown",
   "id": "435a3348",
   "metadata": {},
   "source": [
    "## Time Series Forecast (Window Training)"
   ]
  },
  {
   "cell_type": "code",
   "execution_count": 7,
   "id": "36064388",
   "metadata": {},
   "outputs": [],
   "source": [
    "# Create Dataframe for Result Storage\n",
    "resdf <- data.frame(matrix(ncol = 4, nrow = 0))\n",
    "# Name the Columns\n",
    "colnames(resdf) <- c('window','model','mae','nmae')\n",
    "\n",
    "d1 = data[,1] # coluna target\n",
    "L = length(d1) # 257\n",
    "K=7\n",
    "Test=K # H, the number of multi-ahead steps, adjust if needed\n",
    "S=K # step jump: set in this case to 7 predictions\n",
    "Runs=10 # number of growing window iterations, adjust if needed (49 dias)\n",
    "\n",
    "# forecast:\n",
    "W=(L-Test)-(Runs-1)*S # initial training window size for the ts space (forecast methods)\n",
    "\n",
    "# rminer:\n",
    "timelags=c(1:7) # 1 previous day until 7 previous days\n",
    "D=CasesSeries(d1,timelags) # note: nrow(D) is smaller by max timelags than length(d1)\n",
    "W2=W-max(timelags) # initial training window size for the D space (CasesSeries, rminer methods)\n",
    "\n",
    "YR=diff(range(d1)) # global Y range, use the same range for the NMAE calculation in all iterations\n",
    "\n",
    "ev=vector(length=Runs) # error vector for \"mlpe\"\n",
    "evn=vector(length=Runs) # error vector for \"mlpe\"\n",
    "\n",
    "# growing window demo, rolling window can also be used:\n",
    "\n",
    "# code for 1 iteration:\n",
    "b=1\n",
    "\n",
    "#rminer\n",
    "models <- c(\"lm\",\"mlpe\",\"naive\",\"ctree\",\"mlp\",\"randomForest\",\"mr\",\"rvm\",\"ksvm\")"
   ]
  },
  {
   "cell_type": "markdown",
   "id": "40b0aa2c",
   "metadata": {},
   "source": [
    "### Growing/Rolling Window (Rminer)"
   ]
  },
  {
   "cell_type": "code",
   "execution_count": 11,
   "id": "4800476a",
   "metadata": {},
   "outputs": [
    {
     "name": "stdout",
     "output_type": "stream",
     "text": [
      "mlpe median MAE( lm ): 377.5555 \n",
      "mlpe median NMAE( lm ): 13.57625 \n",
      "mlpe median MAE( mlpe ): 398.8739 \n",
      "mlpe median NMAE( mlpe ): 14.34282 \n",
      "mlpe median MAE( naive ): 459.1394 \n",
      "mlpe median NMAE( naive ): 16.50987 \n",
      "mlpe median MAE( ctree ): 412.531 \n",
      "mlpe median NMAE( ctree ): 14.83391 \n",
      "mlpe median MAE( mlp ): 417.9145 \n",
      "mlpe median NMAE( mlp ): 15.02749 \n",
      "mlpe median MAE( randomForest ): 375.927 \n",
      "mlpe median NMAE( randomForest ): 13.51769 \n",
      "mlpe median MAE( mr ): 377.5555 \n",
      "mlpe median NMAE( mr ): 13.57625 \n",
      "mlpe median MAE( rvm ): 454.5846 \n",
      "mlpe median NMAE( rvm ): 16.34609 \n",
      "mlpe median MAE( ksvm ): 402.7179 \n",
      "mlpe median NMAE( ksvm ): 14.48105 \n"
     ]
    }
   ],
   "source": [
    "#window = \"rolling\" # Growing Window = \"incremental\" / Rolling Window = \"rolling\"\n",
    "window = \"incremental\" # Growing Window = \"incremental\" / Rolling Window = \"rolling\"\n",
    "\n",
    "for (u in 1:length(models)) {\n",
    "    for (b in 1:Runs) {\n",
    "    H = holdout(D$y, ratio=Test, mode=window, iter=b, window=W2,increment=S)\n",
    "    M = fit(y~.,D[H$tr,],model=models[u])\n",
    "    Pred = lforecast(M,D,start=(length(H$tr)+1),Test)\n",
    "    ev[b]=mmetric(y=D[H$ts,]$y,x=Pred,metric=\"MAE\",val=YR)\n",
    "    evn[b]=mmetric(y=D[H$ts,]$y,x=Pred,metric=\"NMAE\",val=YR)\n",
    "    }\n",
    "    cat(\"mlpe median MAE(\",models[u],\"):\",mean(ev),\"\\n\")\n",
    "    cat(\"mlpe median NMAE(\",models[u],\"):\",mean(evn),\"\\n\")\n",
    "    # Save Results to the res Dataframe\n",
    "    mae=mean(ev)\n",
    "    nmae=mean(evn)\n",
    "    resdf[nrow(resdf) + 1,] = c(window,models[u],mae,nmae) \n",
    "}"
   ]
  },
  {
   "cell_type": "markdown",
   "id": "6f602096",
   "metadata": {},
   "source": [
    "### Growing/Rolling Window (Forecast)"
   ]
  },
  {
   "cell_type": "code",
   "execution_count": 12,
   "id": "abacf8e5",
   "metadata": {},
   "outputs": [
    {
     "name": "stdout",
     "output_type": "stream",
     "text": [
      "\n",
      " Mean MAE( HW ) : 339.88 \n",
      " Mean NMAE( HW ) : 12.22 \n",
      "\n",
      " Mean MAE( Arima ) : 350.41 \n",
      " Mean NMAE( Arima ) : 12.6 \n",
      "\n",
      " Mean MAE( NN ) : 329.08 \n",
      " Mean NMAE( NN ) : 11.83 \n",
      "\n",
      " Mean MAE( ETS ) : 336.19 \n",
      " Mean NMAE( ETS ) : 12.09 \n"
     ]
    }
   ],
   "source": [
    "# Reinitialize the metric vectors\n",
    "ev=vector(length=Runs) # error vector for \"mlpe\"\n",
    "evn=vector(length=Runs) # error vector for \"mlpe\"\n",
    "\n",
    "univarModels = c(\"HW\",\"Arima\",\"NN\",\"ETS\")\n",
    "for (u in 1:length(univarModels)){\n",
    "    for (b in 1:Runs) {\n",
    "    # Holdout with window\n",
    "    H = holdout(d1, ratio=Test, mode=window, iter=b, window=W,increment=S)\n",
    "    # Time Series\n",
    "    dtr = ts(d1[H$tr],frequency=K)\n",
    "\n",
    "    univarModel = univarModels[u]\n",
    "        \n",
    "    switch(  \n",
    "    univarModel,  \n",
    "    \"HW\"= {M = suppressWarnings(HoltWinters(dtr))},\n",
    "    \"Arima\"= {M = suppressWarnings(auto.arima(dtr))},\n",
    "    \"NN\"= {M = suppressWarnings(nnetar(dtr,p=7))},\n",
    "    \"ETS\"= {M = suppressWarnings(ets(dtr))},\n",
    "    )  \n",
    "\n",
    "    # Predicting 7 test values\n",
    "    Pred = forecast(M,h=length(H$ts))$mean[1:Test]\n",
    "\n",
    "    ev[b]=mmetric(y=d1[H$ts],x=Pred,metric=\"MAE\",val=YR)\n",
    "    evn[b]=mmetric(y=d1[H$ts],x=Pred,metric=\"NMAE\",val=YR)\n",
    "    }\n",
    "    mae=round(mean(ev),digits=2)\n",
    "    nmae=round(mean(evn),digits=2)\n",
    "    cat(\"\\n Mean MAE(\",univarModel,\") :\",mae,\"\\n\")    \n",
    "    cat(\" Mean NMAE(\",univarModel,\") :\",nmae,\"\\n\")\n",
    "\n",
    "    # Save Results to the res Dataframe\n",
    "    resdf[nrow(resdf) + 1,] = c(window,univarModel,mae,nmae)  \n",
    "}"
   ]
  },
  {
   "cell_type": "code",
   "execution_count": 13,
   "id": "f3413f7c",
   "metadata": {},
   "outputs": [
    {
     "data": {
      "text/html": [
       "26"
      ],
      "text/latex": [
       "26"
      ],
      "text/markdown": [
       "26"
      ],
      "text/plain": [
       "[1] 26"
      ]
     },
     "metadata": {},
     "output_type": "display_data"
    }
   ],
   "source": [
    " rnrow(resdf)"
   ]
  },
  {
   "cell_type": "code",
   "execution_count": 16,
   "id": "1282268d",
   "metadata": {},
   "outputs": [
    {
     "name": "stdout",
     "output_type": "stream",
     "text": [
      "Melhor Valor para MAE:  329.08"
     ]
    },
    {
     "data": {
      "text/html": [
       "<table>\n",
       "<thead><tr><th></th><th scope=col>window</th><th scope=col>model</th><th scope=col>mae</th><th scope=col>nmae</th></tr></thead>\n",
       "<tbody>\n",
       "\t<tr><th scope=row>25</th><td>rolling</td><td>NN     </td><td>329.08 </td><td>11.83  </td></tr>\n",
       "</tbody>\n",
       "</table>\n"
      ],
      "text/latex": [
       "\\begin{tabular}{r|llll}\n",
       "  & window & model & mae & nmae\\\\\n",
       "\\hline\n",
       "\t25 & rolling & NN      & 329.08  & 11.83  \\\\\n",
       "\\end{tabular}\n"
      ],
      "text/markdown": [
       "\n",
       "| <!--/--> | window | model | mae | nmae |\n",
       "|---|---|---|---|---|\n",
       "| 25 | rolling | NN      | 329.08  | 11.83   |\n",
       "\n"
      ],
      "text/plain": [
       "   window  model mae    nmae \n",
       "25 rolling NN    329.08 11.83"
      ]
     },
     "metadata": {},
     "output_type": "display_data"
    },
    {
     "name": "stdout",
     "output_type": "stream",
     "text": [
      "Melhor Valor para NMAE:  11.83"
     ]
    },
    {
     "data": {
      "text/html": [
       "<table>\n",
       "<thead><tr><th></th><th scope=col>window</th><th scope=col>model</th><th scope=col>mae</th><th scope=col>nmae</th></tr></thead>\n",
       "<tbody>\n",
       "\t<tr><th scope=row>25</th><td>rolling</td><td>NN     </td><td>329.08 </td><td>11.83  </td></tr>\n",
       "</tbody>\n",
       "</table>\n"
      ],
      "text/latex": [
       "\\begin{tabular}{r|llll}\n",
       "  & window & model & mae & nmae\\\\\n",
       "\\hline\n",
       "\t25 & rolling & NN      & 329.08  & 11.83  \\\\\n",
       "\\end{tabular}\n"
      ],
      "text/markdown": [
       "\n",
       "| <!--/--> | window | model | mae | nmae |\n",
       "|---|---|---|---|---|\n",
       "| 25 | rolling | NN      | 329.08  | 11.83   |\n",
       "\n"
      ],
      "text/plain": [
       "   window  model mae    nmae \n",
       "25 rolling NN    329.08 11.83"
      ]
     },
     "metadata": {},
     "output_type": "display_data"
    },
    {
     "name": "stdout",
     "output_type": "stream",
     "text": [
      "CSV saved in ./resultados/Cenario 2/Modelos Univariados/TS4.csv"
     ]
    }
   ],
   "source": [
    "# Lowest MAE Value in Hibrid Modeling\n",
    "lowestmae = min(as.numeric(resdf[,3]))\n",
    "cat(\"Melhor Valor para MAE: \", lowestmae)\n",
    "# Encontrar as linhas que possuem o menor valor para MAE\n",
    "resdf[resdf$mae %in%lowestmae,]\n",
    "\n",
    "# Lowest NMAE Value in Hibrid Modeling\n",
    "lowestnmae = min(as.numeric(resdf[,4]))\n",
    "cat(\"Melhor Valor para NMAE: \", lowestnmae)\n",
    "# Encontrar as linhas que possuem o menor valor para NMAE\n",
    "resdf[resdf$nmae %in% lowestnmae,]\n",
    "\n",
    "\n",
    "# Save the Results\n",
    "saveResults('2',\"u\",'4')"
   ]
  },
  {
   "cell_type": "markdown",
   "id": "453c684b",
   "metadata": {},
   "source": [
    "## Modelo Hibrido"
   ]
  },
  {
   "cell_type": "code",
   "execution_count": 537,
   "id": "a94b5b32",
   "metadata": {},
   "outputs": [],
   "source": [
    "#Data Prep\n",
    "d1 = data[,1] #coluna all\n",
    "L = length(d1)\n",
    "K=7\n",
    "\n",
    "timelags = c(1:7)\n",
    "D = CasesSeries(d1,timelags)"
   ]
  },
  {
   "cell_type": "markdown",
   "id": "457e8a25",
   "metadata": {},
   "source": [
    "### Modelo Univariado"
   ]
  },
  {
   "cell_type": "code",
   "execution_count": 538,
   "id": "9bc46572",
   "metadata": {},
   "outputs": [],
   "source": [
    "# Data Seperation\n",
    "H=holdout(data$all,ratio=7,mode=\"order\")\n",
    "# Model Training\n",
    "M=fit(y~.,D[H$tr,],model=\"mlpe\") # create forecasting model\n",
    "# Forecast\n",
    "Pred=lforecast(M,D,start=(length(H$tr)+1),7)\n"
   ]
  },
  {
   "cell_type": "code",
   "execution_count": 539,
   "id": "594837d8",
   "metadata": {},
   "outputs": [
    {
     "name": "stdout",
     "output_type": "stream",
     "text": [
      "SMAPE:  13.18 \n",
      "MAE:  559.98 \n",
      "NMAE:  18.65 \n"
     ]
    },
    {
     "data": {
      "image/png": "[encoded data removed]",
      "text/plain": [
       "Plot with title \"\""
      ]
     },
     "metadata": {},
     "output_type": "display_data"
    }
   ],
   "source": [
    "# Metrics\n",
    "Target = d1[H$ts]\n",
    "\n",
    "cat(\"SMAPE: \",round(mmetric(Target,Pred,metric=\"SMAPE\"),2),\"\\n\")\n",
    "cat(\"MAE: \",round(mmetric(Target,Pred,metric=\"MAE\"),2),\"\\n\")\n",
    "cat(\"NMAE: \",round(mmetric(Target,Pred,metric=\"NMAE\"),2),\"\\n\")\n",
    "\n",
    "# last iteration predictions:\n",
    "mgraph(Target,Pred,graph=\"REG\",Grid=10,col=c(\"black\",\"blue\"),\n",
    "leg=list(pos=\"topleft\",leg=c(\"target\",\"predictions\")))"
   ]
  },
  {
   "cell_type": "code",
   "execution_count": 540,
   "id": "77cafc8a",
   "metadata": {},
   "outputs": [
    {
     "data": {
      "text/html": [
       "250"
      ],
      "text/latex": [
       "250"
      ],
      "text/markdown": [
       "250"
      ],
      "text/plain": [
       "[1] 250"
      ]
     },
     "metadata": {},
     "output_type": "display_data"
    },
    {
     "data": {
      "text/html": [
       "7"
      ],
      "text/latex": [
       "7"
      ],
      "text/markdown": [
       "7"
      ],
      "text/plain": [
       "[1] 7"
      ]
     },
     "metadata": {},
     "output_type": "display_data"
    },
    {
     "data": {
      "text/html": [
       "257"
      ],
      "text/latex": [
       "257"
      ],
      "text/markdown": [
       "257"
      ],
      "text/plain": [
       "[1] 257"
      ]
     },
     "metadata": {},
     "output_type": "display_data"
    }
   ],
   "source": [
    "# Previsoes para Dados de Treino com o modelo univariado\n",
    "mfit=predict(M,D[H$tr,])\n",
    "df1 = data.frame(mfit)\n",
    "colnames(df1) <- \"pred\"\n",
    "df2 = data.frame(Pred)\n",
    "# Concatenação dos valores previstos de teste e valores previstos de treino\n",
    "colnames(df2) <- \"pred\"\n",
    "df3 = rbind(df1,df2)\n",
    "\n",
    "nrow(df1)\n",
    "nrow(df2)\n",
    "nrow(df3)"
   ]
  },
  {
   "cell_type": "code",
   "execution_count": 541,
   "id": "77f102ce",
   "metadata": {},
   "outputs": [
    {
     "data": {
      "text/html": [
       "<table>\n",
       "<thead><tr><th scope=col>all</th><th scope=col>weather</th><th scope=col>maxtemp</th><th scope=col>RH</th><th scope=col>maxwind</th><th scope=col>pred</th></tr></thead>\n",
       "<tbody>\n",
       "\t<tr><td>2332    </td><td>0       </td><td>13      </td><td>87      </td><td> 0      </td><td>2809.970</td></tr>\n",
       "\t<tr><td>2801    </td><td>0       </td><td>14      </td><td>94      </td><td>45      </td><td>2883.376</td></tr>\n",
       "\t<tr><td>2375    </td><td>0       </td><td>14      </td><td>82      </td><td>55      </td><td>3081.296</td></tr>\n",
       "\t<tr><td>3447    </td><td>1       </td><td>13      </td><td>78      </td><td> 0      </td><td>3612.664</td></tr>\n",
       "\t<tr><td>4823    </td><td>0       </td><td>16      </td><td>81      </td><td>37      </td><td>4522.962</td></tr>\n",
       "\t<tr><td>4978    </td><td>0       </td><td>16      </td><td>73      </td><td> 0      </td><td>4059.770</td></tr>\n",
       "</tbody>\n",
       "</table>\n"
      ],
      "text/latex": [
       "\\begin{tabular}{r|llllll}\n",
       " all & weather & maxtemp & RH & maxwind & pred\\\\\n",
       "\\hline\n",
       "\t 2332     & 0        & 13       & 87       &  0       & 2809.970\\\\\n",
       "\t 2801     & 0        & 14       & 94       & 45       & 2883.376\\\\\n",
       "\t 2375     & 0        & 14       & 82       & 55       & 3081.296\\\\\n",
       "\t 3447     & 1        & 13       & 78       &  0       & 3612.664\\\\\n",
       "\t 4823     & 0        & 16       & 81       & 37       & 4522.962\\\\\n",
       "\t 4978     & 0        & 16       & 73       &  0       & 4059.770\\\\\n",
       "\\end{tabular}\n"
      ],
      "text/markdown": [
       "\n",
       "| all | weather | maxtemp | RH | maxwind | pred |\n",
       "|---|---|---|---|---|---|\n",
       "| 2332     | 0        | 13       | 87       |  0       | 2809.970 |\n",
       "| 2801     | 0        | 14       | 94       | 45       | 2883.376 |\n",
       "| 2375     | 0        | 14       | 82       | 55       | 3081.296 |\n",
       "| 3447     | 1        | 13       | 78       |  0       | 3612.664 |\n",
       "| 4823     | 0        | 16       | 81       | 37       | 4522.962 |\n",
       "| 4978     | 0        | 16       | 73       |  0       | 4059.770 |\n",
       "\n"
      ],
      "text/plain": [
       "  all  weather maxtemp RH maxwind pred    \n",
       "1 2332 0       13      87  0      2809.970\n",
       "2 2801 0       14      94 45      2883.376\n",
       "3 2375 0       14      82 55      3081.296\n",
       "4 3447 1       13      78  0      3612.664\n",
       "5 4823 0       16      81 37      4522.962\n",
       "6 4978 0       16      73  0      4059.770"
      ]
     },
     "metadata": {},
     "output_type": "display_data"
    }
   ],
   "source": [
    "bind = data.frame(cbind(data,df3))\n",
    "head(bind)"
   ]
  },
  {
   "cell_type": "code",
   "execution_count": 542,
   "id": "e734ebc1",
   "metadata": {},
   "outputs": [
    {
     "name": "stdout",
     "output_type": "stream",
     "text": [
      "Target Values: 4974 3228 3191 4153 4307 4660 6193 \n",
      "Predictions: 3867.294 2994.094 3023.785 3351.093 2697.649 5006.931 6009.645 \n",
      "MAE: 635.62 \n",
      "NMAE: 21.17 \n"
     ]
    },
    {
     "data": {
      "text/html": [
       "<table>\n",
       "<thead><tr><th scope=col>METRICA_MODELO</th><th scope=col>randomForest_simples</th><th scope=col>MR_Simples</th><th scope=col>KSVM_simples</th><th scope=col>MLPE_simples</th><th scope=col>MLPE_CasesSeries</th><th scope=col>MLPE_GW</th><th scope=col>HW_GW</th><th scope=col>Arima_GW</th><th scope=col>NN_GW</th><th scope=col>...</th><th scope=col>ETS_TSF_forecast</th><th scope=col>lm_TSF_rminer</th><th scope=col>mlpe_TSF_rminer</th><th scope=col>naive_TSF_rminer</th><th scope=col>ctree_TSF_rminer</th><th scope=col>mlp_TSF_rminer</th><th scope=col>randomForest_TSF_rminer</th><th scope=col>mr_TSF_rminer</th><th scope=col>rvm_TSF_rminer</th><th scope=col>Hibrido_simples_rminer_mlpe</th></tr></thead>\n",
       "<tbody>\n",
       "\t<tr><td>MAE       </td><td>1080.96   </td><td>1568.75   </td><td>1149.16   </td><td>950.60    </td><td>803.67364 </td><td>835.67010 </td><td>479.448223</td><td>749.38064 </td><td>699.46488 </td><td>...       </td><td>1249.27077</td><td>379.20    </td><td>675.61    </td><td>1073.91   </td><td>550.99    </td><td>510.38    </td><td>499.86    </td><td>379.20    </td><td>638.62    </td><td>635.62    </td></tr>\n",
       "\t<tr><td>NMAE      </td><td>  36.01   </td><td>  52.26   </td><td>  38.28   </td><td> 31.67    </td><td> 26.77127 </td><td> 14.36353 </td><td>  8.240774</td><td> 12.88038 </td><td> 12.02243 </td><td>...       </td><td>  41.61462</td><td> 12.63    </td><td> 22.51    </td><td>  35.77   </td><td> 18.35    </td><td> 17.00    </td><td> 16.65    </td><td> 12.63    </td><td> 21.27    </td><td> 21.17    </td></tr>\n",
       "</tbody>\n",
       "</table>\n"
      ],
      "text/latex": [
       "\\begin{tabular}{r|lllllllllllllllllllllllllllllll}\n",
       " METRICA\\_MODELO & randomForest\\_simples & MR\\_Simples & KSVM\\_simples & MLPE\\_simples & MLPE\\_CasesSeries & MLPE\\_GW & HW\\_GW & Arima\\_GW & NN\\_GW & ... & ETS\\_TSF\\_forecast & lm\\_TSF\\_rminer & mlpe\\_TSF\\_rminer & naive\\_TSF\\_rminer & ctree\\_TSF\\_rminer & mlp\\_TSF\\_rminer & randomForest\\_TSF\\_rminer & mr\\_TSF\\_rminer & rvm\\_TSF\\_rminer & Hibrido\\_simples\\_rminer\\_mlpe\\\\\n",
       "\\hline\n",
       "\t MAE        & 1080.96    & 1568.75    & 1149.16    & 950.60     & 803.67364  & 835.67010  & 479.448223 & 749.38064  & 699.46488  & ...        & 1249.27077 & 379.20     & 675.61     & 1073.91    & 550.99     & 510.38     & 499.86     & 379.20     & 638.62     & 635.62    \\\\\n",
       "\t NMAE       &   36.01    &   52.26    &   38.28    &  31.67     &  26.77127  &  14.36353  &   8.240774 &  12.88038  &  12.02243  & ...        &   41.61462 &  12.63     &  22.51     &   35.77    &  18.35     &  17.00     &  16.65     &  12.63     &  21.27     &  21.17    \\\\\n",
       "\\end{tabular}\n"
      ],
      "text/markdown": [
       "\n",
       "| METRICA_MODELO | randomForest_simples | MR_Simples | KSVM_simples | MLPE_simples | MLPE_CasesSeries | MLPE_GW | HW_GW | Arima_GW | NN_GW | ... | ETS_TSF_forecast | lm_TSF_rminer | mlpe_TSF_rminer | naive_TSF_rminer | ctree_TSF_rminer | mlp_TSF_rminer | randomForest_TSF_rminer | mr_TSF_rminer | rvm_TSF_rminer | Hibrido_simples_rminer_mlpe |\n",
       "|---|---|---|---|---|---|---|---|---|---|---|---|---|---|---|---|---|---|---|---|---|\n",
       "| MAE        | 1080.96    | 1568.75    | 1149.16    | 950.60     | 803.67364  | 835.67010  | 479.448223 | 749.38064  | 699.46488  | ...        | 1249.27077 | 379.20     | 675.61     | 1073.91    | 550.99     | 510.38     | 499.86     | 379.20     | 638.62     | 635.62     |\n",
       "| NMAE       |   36.01    |   52.26    |   38.28    |  31.67     |  26.77127  |  14.36353  |   8.240774 |  12.88038  |  12.02243  | ...        |   41.61462 |  12.63     |  22.51     |   35.77    |  18.35     |  17.00     |  16.65     |  12.63     |  21.27     |  21.17     |\n",
       "\n"
      ],
      "text/plain": [
       "  METRICA_MODELO randomForest_simples MR_Simples KSVM_simples MLPE_simples\n",
       "1 MAE            1080.96              1568.75    1149.16      950.60      \n",
       "2 NMAE             36.01                52.26      38.28       31.67      \n",
       "  MLPE_CasesSeries MLPE_GW   HW_GW      Arima_GW  NN_GW     ...\n",
       "1 803.67364        835.67010 479.448223 749.38064 699.46488 ...\n",
       "2  26.77127         14.36353   8.240774  12.88038  12.02243 ...\n",
       "  ETS_TSF_forecast lm_TSF_rminer mlpe_TSF_rminer naive_TSF_rminer\n",
       "1 1249.27077       379.20        675.61          1073.91         \n",
       "2   41.61462        12.63         22.51            35.77         \n",
       "  ctree_TSF_rminer mlp_TSF_rminer randomForest_TSF_rminer mr_TSF_rminer\n",
       "1 550.99           510.38         499.86                  379.20       \n",
       "2  18.35            17.00          16.65                   12.63       \n",
       "  rvm_TSF_rminer Hibrido_simples_rminer_mlpe\n",
       "1 638.62         635.62                     \n",
       "2  21.27          21.17                     "
      ]
     },
     "metadata": {},
     "output_type": "display_data"
    },
    {
     "data": {
      "image/png": "[encoded data removed]",
      "text/plain": [
       "Plot with title \"MLPE\""
      ]
     },
     "metadata": {},
     "output_type": "display_data"
    }
   ],
   "source": [
    "H=holdout(bind$all,ratio=7,mode=\"order\")\n",
    "\n",
    "# Seleção dos dados de Treino\n",
    "train = bind[H$tr,]\n",
    "\n",
    "# Seleção dos dados de Teste\n",
    "test = bind[H$ts,]\n",
    "\n",
    "MR=fit(all~.,train,model=\"mlpe\")\n",
    "cat(\"Target Values:\",Target,\"\\n\")\n",
    "\n",
    "Pred = predict(MR,test)\n",
    "cat(\"Predictions:\",Pred,\"\\n\")\n",
    "\n",
    "mgraph(Target,Pred,graph=\"REG\",Grid=10,col=c(\"black\",\"blue\"),\n",
    "leg=list(pos=\"topleft\",leg=c(\"target\",\"predictions\")),main=\"MLPE\")\n",
    "mae=round(mmetric(Target,Pred,metric=\"MAE\"),2)\n",
    "nmae=round(mmetric(Target,Pred,metric=\"NMAE\"),2)\n",
    "cat(\"MAE:\",mae,\"\\n\")\n",
    "cat(\"NMAE:\",nmae,\"\\n\")\n",
    "\n",
    "# Guardar os Resultados\n",
    "nomeModelo = \"Hibrido_simples_rminer_mlpe\"\n",
    "resdf[nomeModelo] = c(mae,nmae)\n",
    "resdf"
   ]
  },
  {
   "cell_type": "code",
   "execution_count": 543,
   "id": "8f23b2c8",
   "metadata": {},
   "outputs": [],
   "source": [
    "# Ciclo for com as varias configuracoes do metodo fit para descobrir quais sao as melhroes"
   ]
  },
  {
   "cell_type": "markdown",
   "id": "825228f7",
   "metadata": {},
   "source": [
    "## Modelo Hibrido (Window Training)"
   ]
  },
  {
   "cell_type": "code",
   "execution_count": 246,
   "id": "89253afd",
   "metadata": {},
   "outputs": [],
   "source": [
    "# Create Dataframe for Result Storage\n",
    "resdf <- data.frame(matrix(ncol = 5, nrow = 0))\n",
    "# Name the Columns\n",
    "colnames(resdf) <- c('window','uni','multi','mae','nmae')\n",
    "\n",
    "d1 = data[,1] # coluna target\n",
    "L = length(d1) # 257\n",
    "K=7\n",
    "Test=K # H, the number of multi-ahead steps, adjust if needed\n",
    "S=K # step jump: set in this case to 7 predictions\n",
    "Runs=10 # number of growing window iterations, adjust if needed (49 dias)\n",
    "\n",
    "# forecast:\n",
    "W=(L-Test)-(Runs-1)*S # initial training window size for the ts space (forecast methods)\n",
    "\n",
    "# rminer:\n",
    "timelags=c(1:7) # 1 previous day until 7 previous days\n",
    "D=CasesSeries(d1,timelags) # note: nrow(D) is smaller by max timelags than length(d1)\n",
    "W2=W-max(timelags) # initial training window size for the D space (CasesSeries, rminer methods)\n",
    "\n",
    "YR=diff(range(d1)) # global Y range, use the same range for the NMAE calculation in all iterations\n",
    "\n",
    "ev=vector(length=Runs) # error vector for \"mlpe\"\n",
    "evn=vector(length=Runs) # error vector for \"mlpe\"\n",
    "\n",
    "# growing window demo, rolling window can also be used:\n",
    "\n",
    "# code for 1 iteration:\n",
    "b=1\n",
    "\n",
    "#rminer\n",
    "models <- c(\"lm\",\"mlpe\",\"naive\",\"ctree\",\"mlp\",\"randomForest\",\"mr\",\"rvm\",\"ksvm\")"
   ]
  },
  {
   "cell_type": "markdown",
   "id": "885c6cbd",
   "metadata": {},
   "source": [
    "### Growing/Rolling Window (Rminer + Rminer)"
   ]
  },
  {
   "cell_type": "code",
   "execution_count": 251,
   "id": "18a5be05",
   "metadata": {},
   "outputs": [
    {
     "name": "stdout",
     "output_type": "stream",
     "text": [
      "\n",
      " Mean MAE( lm + lm ) : 645.75 \n",
      " Mean NMAE( lm + lm ) : 8.02 \n",
      "--------------------------------------------------------------------------\n",
      " Mean MAE( lm + mlpe ) : 731.84 \n",
      " Mean NMAE( lm + mlpe ) : 9.08 \n",
      "--------------------------------------------------------------------------\n",
      " Mean MAE( lm + naive ) : 578.51 \n",
      " Mean NMAE( lm + naive ) : 7.18 \n",
      "--------------------------------------------------------------------------\n",
      " Mean MAE( lm + ctree ) : 785.35 \n",
      " Mean NMAE( lm + ctree ) : 9.75 \n",
      "--------------------------------------------------------------------------\n",
      " Mean MAE( lm + mlp ) : 775.41 \n",
      " Mean NMAE( lm + mlp ) : 9.63 \n",
      "--------------------------------------------------------------------------\n",
      " Mean MAE( lm + randomForest ) : 708.76 \n",
      " Mean NMAE( lm + randomForest ) : 8.8 \n",
      "--------------------------------------------------------------------------\n",
      " Mean MAE( lm + mr ) : 645.75 \n",
      " Mean NMAE( lm + mr ) : 8.02 \n",
      "--------------------------------------------------------------------------\n",
      " Mean MAE( lm + rvm ) : 768.53 \n",
      " Mean NMAE( lm + rvm ) : 9.54 \n",
      "--------------------------------------------------------------------------\n",
      " Mean MAE( lm + ksvm ) : 628.37 \n",
      " Mean NMAE( lm + ksvm ) : 7.8 \n",
      "--------------------------------------------------------------------------\n",
      " Mean MAE( mlpe + lm ) : 577.18 \n",
      " Mean NMAE( mlpe + lm ) : 7.16 \n",
      "--------------------------------------------------------------------------\n",
      " Mean MAE( mlpe + mlpe ) : 628.52 \n",
      " Mean NMAE( mlpe + mlpe ) : 7.8 \n",
      "--------------------------------------------------------------------------\n",
      " Mean MAE( mlpe + naive ) : 578.51 \n",
      " Mean NMAE( mlpe + naive ) : 7.18 \n",
      "--------------------------------------------------------------------------\n",
      " Mean MAE( mlpe + ctree ) : 763.57 \n",
      " Mean NMAE( mlpe + ctree ) : 9.48 \n",
      "--------------------------------------------------------------------------\n",
      " Mean MAE( mlpe + mlp ) : 2020.72 \n",
      " Mean NMAE( mlpe + mlp ) : 25.08 \n",
      "--------------------------------------------------------------------------\n",
      " Mean MAE( mlpe + randomForest ) : 633.91 \n",
      " Mean NMAE( mlpe + randomForest ) : 7.87 \n",
      "--------------------------------------------------------------------------\n",
      " Mean MAE( mlpe + mr ) : 614.07 \n",
      " Mean NMAE( mlpe + mr ) : 7.62 \n",
      "--------------------------------------------------------------------------\n",
      " Mean MAE( mlpe + rvm ) : 779.64 \n",
      " Mean NMAE( mlpe + rvm ) : 9.68 \n",
      "--------------------------------------------------------------------------\n",
      " Mean MAE( mlpe + ksvm ) : 534.88 \n",
      " Mean NMAE( mlpe + ksvm ) : 6.64 \n",
      "--------------------------------------------------------------------------"
     ]
    },
    {
     "name": "stderr",
     "output_type": "stream",
     "text": [
      "Warning message in predict.lm(object@object, newdata):\n",
      "\"prediction from a rank-deficient fit may be misleading\"Warning message in predict.lm(object@object, newdata):\n",
      "\"prediction from a rank-deficient fit may be misleading\"Warning message in predict.lm(object@object, newdata):\n",
      "\"prediction from a rank-deficient fit may be misleading\"Warning message in predict.lm(object@object, newdata):\n",
      "\"prediction from a rank-deficient fit may be misleading\"Warning message in predict.lm(object@object, newdata):\n",
      "\"prediction from a rank-deficient fit may be misleading\"Warning message in predict.lm(object@object, newdata):\n",
      "\"prediction from a rank-deficient fit may be misleading\"Warning message in predict.lm(object@object, newdata):\n",
      "\"prediction from a rank-deficient fit may be misleading\"Warning message in predict.lm(object@object, newdata):\n",
      "\"prediction from a rank-deficient fit may be misleading\"Warning message in predict.lm(object@object, newdata):\n",
      "\"prediction from a rank-deficient fit may be misleading\"Warning message in predict.lm(object@object, newdata):\n",
      "\"prediction from a rank-deficient fit may be misleading\""
     ]
    },
    {
     "name": "stdout",
     "output_type": "stream",
     "text": [
      "\n",
      " Mean MAE( naive + lm ) : 613.83 \n",
      " Mean NMAE( naive + lm ) : 7.62 \n",
      "--------------------------------------------------------------------------\n",
      " Mean MAE( naive + mlpe ) : 578.51 \n",
      " Mean NMAE( naive + mlpe ) : 7.18 \n",
      "--------------------------------------------------------------------------\n",
      " Mean MAE( naive + naive ) : 578.51 \n",
      " Mean NMAE( naive + naive ) : 7.18 \n",
      "--------------------------------------------------------------------------\n",
      " Mean MAE( naive + ctree ) : 763.46 \n",
      " Mean NMAE( naive + ctree ) : 9.48 \n",
      "--------------------------------------------------------------------------\n",
      " Mean MAE( naive + mlp ) : 578.51 \n",
      " Mean NMAE( naive + mlp ) : 7.18 \n",
      "--------------------------------------------------------------------------\n",
      " Mean MAE( naive + randomForest ) : 647.99 \n",
      " Mean NMAE( naive + randomForest ) : 8.04 \n",
      "--------------------------------------------------------------------------\n",
      " Mean MAE( naive + mr ) : 613.83 \n",
      " Mean NMAE( naive + mr ) : 7.62 \n",
      "--------------------------------------------------------------------------\n",
      " Mean MAE( naive + rvm ) : 637.91 \n",
      " Mean NMAE( naive + rvm ) : 7.92 "
     ]
    },
    {
     "name": "stderr",
     "output_type": "stream",
     "text": [
      "Warning message in .local(x, ...):\n",
      "\"Variable(s) `' constant. Cannot scale data.\"Warning message in .local(x, ...):\n",
      "\"Variable(s) `' constant. Cannot scale data.\"Warning message in .local(x, ...):\n",
      "\"Variable(s) `' constant. Cannot scale data.\"Warning message in .local(x, ...):\n",
      "\"Variable(s) `' constant. Cannot scale data.\"Warning message in .local(x, ...):\n",
      "\"Variable(s) `' constant. Cannot scale data.\"Warning message in .local(x, ...):\n",
      "\"Variable(s) `' constant. Cannot scale data.\"Warning message in .local(x, ...):\n",
      "\"Variable(s) `' constant. Cannot scale data.\"Warning message in .local(x, ...):\n",
      "\"Variable(s) `' constant. Cannot scale data.\"Warning message in .local(x, ...):\n",
      "\"Variable(s) `' constant. Cannot scale data.\"Warning message in .local(x, ...):\n",
      "\"Variable(s) `' constant. Cannot scale data.\""
     ]
    },
    {
     "name": "stdout",
     "output_type": "stream",
     "text": [
      "--------------------------------------------------------------------------\n",
      " Mean MAE( naive + ksvm ) : 592.21 \n",
      " Mean NMAE( naive + ksvm ) : 7.35 \n",
      "--------------------------------------------------------------------------\n",
      " Mean MAE( ctree + lm ) : 666.39 \n",
      " Mean NMAE( ctree + lm ) : 8.27 \n",
      "--------------------------------------------------------------------------\n",
      " Mean MAE( ctree + mlpe ) : 857.8 \n",
      " Mean NMAE( ctree + mlpe ) : 10.65 \n",
      "--------------------------------------------------------------------------\n",
      " Mean MAE( ctree + naive ) : 578.51 \n",
      " Mean NMAE( ctree + naive ) : 7.18 \n",
      "--------------------------------------------------------------------------\n",
      " Mean MAE( ctree + ctree ) : 793.67 \n",
      " Mean NMAE( ctree + ctree ) : 9.85 \n",
      "--------------------------------------------------------------------------\n",
      " Mean MAE( ctree + mlp ) : 903.09 \n",
      " Mean NMAE( ctree + mlp ) : 11.21 \n",
      "--------------------------------------------------------------------------\n",
      " Mean MAE( ctree + randomForest ) : 732.78 \n",
      " Mean NMAE( ctree + randomForest ) : 9.1 \n",
      "--------------------------------------------------------------------------\n",
      " Mean MAE( ctree + mr ) : 666.39 \n",
      " Mean NMAE( ctree + mr ) : 8.27 \n",
      "--------------------------------------------------------------------------\n",
      " Mean MAE( ctree + rvm ) : 774.82 \n",
      " Mean NMAE( ctree + rvm ) : 9.62 \n",
      "--------------------------------------------------------------------------\n",
      " Mean MAE( ctree + ksvm ) : 658.42 \n",
      " Mean NMAE( ctree + ksvm ) : 8.17 \n",
      "--------------------------------------------------------------------------\n",
      " Mean MAE( mlp + lm ) : 738.88 \n",
      " Mean NMAE( mlp + lm ) : 9.17 \n",
      "--------------------------------------------------------------------------\n",
      " Mean MAE( mlp + mlpe ) : 792.44 \n",
      " Mean NMAE( mlp + mlpe ) : 9.84 \n",
      "--------------------------------------------------------------------------\n",
      " Mean MAE( mlp + naive ) : 578.51 \n",
      " Mean NMAE( mlp + naive ) : 7.18 \n",
      "--------------------------------------------------------------------------\n",
      " Mean MAE( mlp + ctree ) : 779.31 \n",
      " Mean NMAE( mlp + ctree ) : 9.67 \n",
      "--------------------------------------------------------------------------\n",
      " Mean MAE( mlp + mlp ) : 720.63 \n",
      " Mean NMAE( mlp + mlp ) : 8.95 \n",
      "--------------------------------------------------------------------------\n",
      " Mean MAE( mlp + randomForest ) : 640.63 \n",
      " Mean NMAE( mlp + randomForest ) : 7.95 \n",
      "--------------------------------------------------------------------------\n",
      " Mean MAE( mlp + mr ) : 620.12 \n",
      " Mean NMAE( mlp + mr ) : 7.7 \n",
      "--------------------------------------------------------------------------\n",
      " Mean MAE( mlp + rvm ) : 655.2 \n",
      " Mean NMAE( mlp + rvm ) : 8.13 \n",
      "--------------------------------------------------------------------------\n",
      " Mean MAE( mlp + ksvm ) : 571.67 \n",
      " Mean NMAE( mlp + ksvm ) : 7.1 \n",
      "--------------------------------------------------------------------------\n",
      " Mean MAE( randomForest + lm ) : 582.8 \n",
      " Mean NMAE( randomForest + lm ) : 7.23 \n",
      "--------------------------------------------------------------------------\n",
      " Mean MAE( randomForest + mlpe ) : 788.3 \n",
      " Mean NMAE( randomForest + mlpe ) : 9.79 \n",
      "--------------------------------------------------------------------------\n",
      " Mean MAE( randomForest + naive ) : 578.51 \n",
      " Mean NMAE( randomForest + naive ) : 7.18 \n",
      "--------------------------------------------------------------------------\n",
      " Mean MAE( randomForest + ctree ) : 724.2 \n",
      " Mean NMAE( randomForest + ctree ) : 8.99 \n",
      "--------------------------------------------------------------------------\n",
      " Mean MAE( randomForest + mlp ) : 727.37 \n",
      " Mean NMAE( randomForest + mlp ) : 9.03 \n",
      "--------------------------------------------------------------------------\n",
      " Mean MAE( randomForest + randomForest ) : 628.88 \n",
      " Mean NMAE( randomForest + randomForest ) : 7.81 \n",
      "--------------------------------------------------------------------------\n",
      " Mean MAE( randomForest + mr ) : 578.42 \n",
      " Mean NMAE( randomForest + mr ) : 7.18 \n",
      "--------------------------------------------------------------------------\n",
      " Mean MAE( randomForest + rvm ) : 582.97 \n",
      " Mean NMAE( randomForest + rvm ) : 7.24 \n",
      "--------------------------------------------------------------------------\n",
      " Mean MAE( randomForest + ksvm ) : 543.54 \n",
      " Mean NMAE( randomForest + ksvm ) : 6.75 \n",
      "--------------------------------------------------------------------------\n",
      " Mean MAE( mr + lm ) : 645.75 \n",
      " Mean NMAE( mr + lm ) : 8.02 \n",
      "--------------------------------------------------------------------------\n",
      " Mean MAE( mr + mlpe ) : 697.26 \n",
      " Mean NMAE( mr + mlpe ) : 8.66 \n",
      "--------------------------------------------------------------------------\n",
      " Mean MAE( mr + naive ) : 578.51 \n",
      " Mean NMAE( mr + naive ) : 7.18 \n",
      "--------------------------------------------------------------------------\n",
      " Mean MAE( mr + ctree ) : 785.35 \n",
      " Mean NMAE( mr + ctree ) : 9.75 \n",
      "--------------------------------------------------------------------------\n",
      " Mean MAE( mr + mlp ) : 772.84 \n",
      " Mean NMAE( mr + mlp ) : 9.59 \n",
      "--------------------------------------------------------------------------\n",
      " Mean MAE( mr + randomForest ) : 707.58 \n",
      " Mean NMAE( mr + randomForest ) : 8.78 \n",
      "--------------------------------------------------------------------------\n",
      " Mean MAE( mr + mr ) : 645.75 \n",
      " Mean NMAE( mr + mr ) : 8.02 \n",
      "--------------------------------------------------------------------------\n",
      " Mean MAE( mr + rvm ) : 798.15 \n",
      " Mean NMAE( mr + rvm ) : 9.91 \n",
      "--------------------------------------------------------------------------\n",
      " Mean MAE( mr + ksvm ) : 614.05 \n",
      " Mean NMAE( mr + ksvm ) : 7.62 \n",
      "--------------------------------------------------------------------------\n",
      " Mean MAE( rvm + lm ) : 615.01 \n",
      " Mean NMAE( rvm + lm ) : 7.63 \n",
      "--------------------------------------------------------------------------\n",
      " Mean MAE( rvm + mlpe ) : 732.91 \n",
      " Mean NMAE( rvm + mlpe ) : 9.1 \n",
      "--------------------------------------------------------------------------\n",
      " Mean MAE( rvm + naive ) : 578.51 \n",
      " Mean NMAE( rvm + naive ) : 7.18 \n",
      "--------------------------------------------------------------------------\n",
      " Mean MAE( rvm + ctree ) : 719.54 \n",
      " Mean NMAE( rvm + ctree ) : 8.93 \n",
      "--------------------------------------------------------------------------\n",
      " Mean MAE( rvm + mlp ) : 897.12 \n",
      " Mean NMAE( rvm + mlp ) : 11.14 \n",
      "--------------------------------------------------------------------------\n",
      " Mean MAE( rvm + randomForest ) : 639.45 \n",
      " Mean NMAE( rvm + randomForest ) : 7.94 \n",
      "--------------------------------------------------------------------------\n",
      " Mean MAE( rvm + mr ) : 614.34 \n",
      " Mean NMAE( rvm + mr ) : 7.63 \n",
      "--------------------------------------------------------------------------\n",
      " Mean MAE( rvm + rvm ) : 797.12 \n",
      " Mean NMAE( rvm + rvm ) : 9.89 \n",
      "--------------------------------------------------------------------------\n",
      " Mean MAE( rvm + ksvm ) : 536.74 \n",
      " Mean NMAE( rvm + ksvm ) : 6.66 \n",
      "--------------------------------------------------------------------------\n",
      " Mean MAE( ksvm + lm ) : 511.97 \n",
      " Mean NMAE( ksvm + lm ) : 6.36 \n",
      "--------------------------------------------------------------------------\n",
      " Mean MAE( ksvm + mlpe ) : 612.6 \n",
      " Mean NMAE( ksvm + mlpe ) : 7.6 \n",
      "--------------------------------------------------------------------------\n",
      " Mean MAE( ksvm + naive ) : 578.51 \n",
      " Mean NMAE( ksvm + naive ) : 7.18 \n",
      "--------------------------------------------------------------------------\n",
      " Mean MAE( ksvm + ctree ) : 688.45 \n",
      " Mean NMAE( ksvm + ctree ) : 8.55 \n",
      "--------------------------------------------------------------------------\n",
      " Mean MAE( ksvm + mlp ) : 640.12 \n",
      " Mean NMAE( ksvm + mlp ) : 7.95 \n",
      "--------------------------------------------------------------------------\n",
      " Mean MAE( ksvm + randomForest ) : 625.23 \n",
      " Mean NMAE( ksvm + randomForest ) : 7.76 \n",
      "--------------------------------------------------------------------------\n",
      " Mean MAE( ksvm + mr ) : 511.22 \n",
      " Mean NMAE( ksvm + mr ) : 6.35 \n",
      "--------------------------------------------------------------------------\n",
      " Mean MAE( ksvm + rvm ) : 568 \n",
      " Mean NMAE( ksvm + rvm ) : 7.05 \n",
      "--------------------------------------------------------------------------\n",
      " Mean MAE( ksvm + ksvm ) : 519.36 \n",
      " Mean NMAE( ksvm + ksvm ) : 6.45 \n",
      "--------------------------------------------------------------------------"
     ]
    }
   ],
   "source": [
    "window = \"rolling\" # Growing Window = \"incremental\" / Rolling Window = \"rolling\"\n",
    "#window = \"incremental\" # Growing Window = \"incremental\" / Rolling Window = \"rolling\"\n",
    "for (uni in 1:length(models)){\n",
    "    for (multi in 1:length(models)){\n",
    "        for (b in 1:Runs) {\n",
    "            H = holdout(D$y, ratio=Test, mode=window, iter=b, window=W2,increment=S)\n",
    "            M = fit(y~.,D[H$tr,],model=models[uni])\n",
    "            Pred = lforecast(M,D,start=(length(H$tr)+1),Test)\n",
    "            PrevPred = predict(M,D[H$tr,])\n",
    "\n",
    "            TRSIZE=length(PrevPred)\n",
    "            LPRED=length(Pred)\n",
    "            RSIZE=TRSIZE+LPRED\n",
    "            # Juntar as previsoes de treino e teste do Modelo Univariado\n",
    "            mlpecolumn=c(PrevPred,Pred)\n",
    "\n",
    "            # Juntar as colunas das previsões do Modelo Univariado com as target e as variaveis ambientais\n",
    "            HD=cbind(mlpe=mlpecolumn,y=D$y[1:RSIZE],data[1:RSIZE,2:5])\n",
    "            HD=data.frame(HD)\n",
    "\n",
    "            M2=fit(y~.,HD[1:TRSIZE,],model=models[multi]) # create forecasting model\n",
    "            Pred2=predict(M2,HD[(TRSIZE+1):(RSIZE),]) # multi-step ahead forecasts\n",
    "            ev[b]=mmetric(y=D[H$ts,]$y,x=Pred2,metric=\"MAE\",val=YR)\n",
    "            evn[b]=mmetric(y=D[H$ts,]$y,x=Pred2,metric=\"NMAE\",val=YR)\n",
    "        }\n",
    "        # Print Results\n",
    "        mae = round(mean(ev),digits=2)\n",
    "        nmae = round(mean(evn),digits=2)\n",
    "        cat(\"\\n Mean MAE(\",models[uni],\"+\",models[multi],\") :\",mae,\"\\n\")    \n",
    "        cat(\" Mean NMAE(\",models[uni],\"+\",models[multi],\") :\",nmae,\"\\n\")\n",
    "        cat(\"--------------------------------------------------------------------------\")\n",
    "        \n",
    "        # Save Results to the res Dataframe\n",
    "        resdf[nrow(resdf) + 1,] = c(window,models[uni],models[multi],mae,nmae)        \n",
    "    }\n",
    "}"
   ]
  },
  {
   "cell_type": "code",
   "execution_count": 252,
   "id": "ea2ca4bf",
   "metadata": {},
   "outputs": [
    {
     "data": {
      "text/html": [
       "198"
      ],
      "text/latex": [
       "198"
      ],
      "text/markdown": [
       "198"
      ],
      "text/plain": [
       "[1] 198"
      ]
     },
     "metadata": {},
     "output_type": "display_data"
    }
   ],
   "source": [
    "nrow(resdf)"
   ]
  },
  {
   "cell_type": "markdown",
   "id": "31b4f4c8",
   "metadata": {},
   "source": [
    "### Growing/Rolling Window (Forecast + Rminer)"
   ]
  },
  {
   "cell_type": "code",
   "execution_count": 253,
   "id": "4eca51d8",
   "metadata": {},
   "outputs": [
    {
     "name": "stdout",
     "output_type": "stream",
     "text": [
      "\n",
      " Mean MAE( HW  +  lm ) : 545.86 \n",
      " Mean NMAE( HW  +  lm ) : 6.78 \n",
      "\n",
      " Mean MAE( HW  +  mlpe ) : 650.28 \n",
      " Mean NMAE( HW  +  mlpe ) : 8.07 \n",
      "\n",
      " Mean MAE( HW  +  naive ) : 567.96 \n",
      " Mean NMAE( HW  +  naive ) : 7.05 \n",
      "\n",
      " Mean MAE( HW  +  ctree ) : 773.28 \n",
      " Mean NMAE( HW  +  ctree ) : 9.6 \n",
      "\n",
      " Mean MAE( HW  +  mlp ) : 733.67 \n",
      " Mean NMAE( HW  +  mlp ) : 9.11 \n",
      "\n",
      " Mean MAE( HW  +  randomForest ) : 711.9 \n",
      " Mean NMAE( HW  +  randomForest ) : 8.84 \n",
      "\n",
      " Mean MAE( HW  +  mr ) : 545.86 \n",
      " Mean NMAE( HW  +  mr ) : 6.78 \n",
      "\n",
      " Mean MAE( HW  +  rvm ) : 641.41 \n",
      " Mean NMAE( HW  +  rvm ) : 7.96 \n",
      "\n",
      " Mean MAE( HW  +  ksvm ) : 596.66 \n",
      " Mean NMAE( HW  +  ksvm ) : 7.41 \n",
      "\n",
      " Mean MAE( Arima  +  lm ) : 642.27 \n",
      " Mean NMAE( Arima  +  lm ) : 7.97 \n",
      "\n",
      " Mean MAE( Arima  +  mlpe ) : 680.88 \n",
      " Mean NMAE( Arima  +  mlpe ) : 8.45 \n",
      "\n",
      " Mean MAE( Arima  +  naive ) : 575.21 \n",
      " Mean NMAE( Arima  +  naive ) : 7.14 \n",
      "\n",
      " Mean MAE( Arima  +  ctree ) : 716.28 \n",
      " Mean NMAE( Arima  +  ctree ) : 8.89 \n",
      "\n",
      " Mean MAE( Arima  +  mlp ) : 739.4 \n",
      " Mean NMAE( Arima  +  mlp ) : 9.18 \n",
      "\n",
      " Mean MAE( Arima  +  randomForest ) : 692.37 \n",
      " Mean NMAE( Arima  +  randomForest ) : 8.59 \n",
      "\n",
      " Mean MAE( Arima  +  mr ) : 642.27 \n",
      " Mean NMAE( Arima  +  mr ) : 7.97 \n",
      "\n",
      " Mean MAE( Arima  +  rvm ) : 604.18 \n",
      " Mean NMAE( Arima  +  rvm ) : 7.5 \n",
      "\n",
      " Mean MAE( Arima  +  ksvm ) : 558.96 \n",
      " Mean NMAE( Arima  +  ksvm ) : 6.94 \n",
      "\n",
      " Mean MAE( NN  +  lm ) : 564.57 \n",
      " Mean NMAE( NN  +  lm ) : 7.01 \n",
      "\n",
      " Mean MAE( NN  +  mlpe ) : 623.34 \n",
      " Mean NMAE( NN  +  mlpe ) : 7.74 \n",
      "\n",
      " Mean MAE( NN  +  naive ) : 567.96 \n",
      " Mean NMAE( NN  +  naive ) : 7.05 \n",
      "\n",
      " Mean MAE( NN  +  ctree ) : 810.72 \n",
      " Mean NMAE( NN  +  ctree ) : 10.06 \n",
      "\n",
      " Mean MAE( NN  +  mlp ) : 636.75 \n",
      " Mean NMAE( NN  +  mlp ) : 7.9 \n",
      "\n",
      " Mean MAE( NN  +  randomForest ) : 724.71 \n",
      " Mean NMAE( NN  +  randomForest ) : 9 \n",
      "\n",
      " Mean MAE( NN  +  mr ) : 575.77 \n",
      " Mean NMAE( NN  +  mr ) : 7.15 \n",
      "\n",
      " Mean MAE( NN  +  rvm ) : 649.45 \n",
      " Mean NMAE( NN  +  rvm ) : 8.06 \n",
      "\n",
      " Mean MAE( NN  +  ksvm ) : 593.56 \n",
      " Mean NMAE( NN  +  ksvm ) : 7.37 \n",
      "\n",
      " Mean MAE( ETS  +  lm ) : 572.22 \n",
      " Mean NMAE( ETS  +  lm ) : 7.1 \n",
      "\n",
      " Mean MAE( ETS  +  mlpe ) : 622.16 \n",
      " Mean NMAE( ETS  +  mlpe ) : 7.72 \n",
      "\n",
      " Mean MAE( ETS  +  naive ) : 575.21 \n",
      " Mean NMAE( ETS  +  naive ) : 7.14 \n",
      "\n",
      " Mean MAE( ETS  +  ctree ) : 683.62 \n",
      " Mean NMAE( ETS  +  ctree ) : 8.49 \n",
      "\n",
      " Mean MAE( ETS  +  mlp ) : 1224.79 \n",
      " Mean NMAE( ETS  +  mlp ) : 15.2 \n",
      "\n",
      " Mean MAE( ETS  +  randomForest ) : 632.22 \n",
      " Mean NMAE( ETS  +  randomForest ) : 7.85 \n",
      "\n",
      " Mean MAE( ETS  +  mr ) : 572.22 \n",
      " Mean NMAE( ETS  +  mr ) : 7.1 \n",
      "\n",
      " Mean MAE( ETS  +  rvm ) : 537.1 \n",
      " Mean NMAE( ETS  +  rvm ) : 6.67 \n",
      "\n",
      " Mean MAE( ETS  +  ksvm ) : 500.31 \n",
      " Mean NMAE( ETS  +  ksvm ) : 6.21 \n"
     ]
    }
   ],
   "source": [
    "# Reinitialize the metric vectors\n",
    "ev=vector(length=Runs) # error vector for \"mlpe\"\n",
    "evn=vector(length=Runs) # error vector for \"mlpe\"\n",
    "\n",
    "univarModels = c(\"HW\",\"Arima\",\"NN\",\"ETS\")\n",
    "for (u in 1:length(univarModels)){\n",
    "    for (m in 1:length(models)){\n",
    "        for (b in 1:Runs) {\n",
    "        # Holdout with window\n",
    "        H = holdout(d1, ratio=Test, mode=window, iter=b, window=W,increment=S)\n",
    "        # Time Series\n",
    "        dtr = ts(d1[H$tr],frequency=K)\n",
    "\n",
    "        univarModel = univarModels[u]\n",
    "            \n",
    "        switch(  \n",
    "        univarModel,  \n",
    "        \"HW\"= {M = suppressWarnings(HoltWinters(dtr)); PrevPred = M$fitted[1:nrow(M$fitted)]},\n",
    "        \"Arima\"= {M = suppressWarnings(auto.arima(dtr)); PrevPred = fitted(M)},\n",
    "        \"NN\"= {M = suppressWarnings(nnetar(dtr,p=7)); PrevPred = M$fitted[8:length(M$fitted)]},\n",
    "        \"ETS\"= {M = suppressWarnings(ets(dtr)); PrevPred = fitted(M)},\n",
    "        )  \n",
    "\n",
    "        # Predicting 7 test values\n",
    "        Pred = forecast(M,h=length(H$ts))$mean[1:Test]\n",
    "\n",
    "        # Creating a Dataframe with all univariate predictions\n",
    "        uniPred = c(PrevPred,Pred)\n",
    "        HD = cbind(uniPred=uniPred,data[1:length(uniPred),2:6],y=d1[1:length(uniPred)])\n",
    "        HD = data.frame(HD)\n",
    "\n",
    "        TRSIZE=length(PrevPred)\n",
    "        LPRED=length(Pred)\n",
    "        RSIZE=TRSIZE+LPRED\n",
    "\n",
    "        # Creating Multivariate Model with new Dataframe\n",
    "        M2=fit(y~.,HD[1:TRSIZE,],model=models[m]) # create forecasting model\n",
    "        Pred2=predict(M2,HD[(TRSIZE+1):(RSIZE),]) # multi-step ahead forecasts\n",
    "        ev[b]=mmetric(y=d1[H$ts],x=Pred2,metric=\"MAE\",val=YR)\n",
    "        evn[b]=mmetric(y=d1[H$ts],x=Pred2,metric=\"NMAE\",val=YR)\n",
    "        }\n",
    "        mae=round(mean(ev),digits=2)\n",
    "        nmae=round(mean(evn),digits=2)\n",
    "        cat(\"\\n Mean MAE(\",univarModel,\" + \",models[m],\") :\",mae,\"\\n\")    \n",
    "        cat(\" Mean NMAE(\",univarModel,\" + \",models[m],\") :\",nmae,\"\\n\")\n",
    "        \n",
    "        # Save Results to the res Dataframe\n",
    "        resdf[nrow(resdf) + 1,] = c(window,univarModel,models[m],mae,nmae)  \n",
    "    }\n",
    "}"
   ]
  },
  {
   "cell_type": "code",
   "execution_count": 255,
   "id": "3de6cf31",
   "metadata": {},
   "outputs": [
    {
     "data": {
      "text/html": [
       "<table>\n",
       "<thead><tr><th scope=col>window</th><th scope=col>uni</th><th scope=col>multi</th><th scope=col>mae</th><th scope=col>nmae</th></tr></thead>\n",
       "<tbody>\n",
       "\t<tr><td>incremental </td><td>lm          </td><td>lm          </td><td>531.93      </td><td>6.6         </td></tr>\n",
       "\t<tr><td>incremental </td><td>lm          </td><td>mlpe        </td><td>618.58      </td><td>7.68        </td></tr>\n",
       "\t<tr><td>incremental </td><td>lm          </td><td>naive       </td><td>565.37      </td><td>7.02        </td></tr>\n",
       "\t<tr><td>incremental </td><td>lm          </td><td>ctree       </td><td>517.81      </td><td>6.43        </td></tr>\n",
       "\t<tr><td>incremental </td><td>lm          </td><td>mlp         </td><td>599.74      </td><td>7.44        </td></tr>\n",
       "\t<tr><td>incremental </td><td>lm          </td><td>randomForest</td><td>548.55      </td><td>6.81        </td></tr>\n",
       "</tbody>\n",
       "</table>\n"
      ],
      "text/latex": [
       "\\begin{tabular}{r|lllll}\n",
       " window & uni & multi & mae & nmae\\\\\n",
       "\\hline\n",
       "\t incremental  & lm           & lm           & 531.93       & 6.6         \\\\\n",
       "\t incremental  & lm           & mlpe         & 618.58       & 7.68        \\\\\n",
       "\t incremental  & lm           & naive        & 565.37       & 7.02        \\\\\n",
       "\t incremental  & lm           & ctree        & 517.81       & 6.43        \\\\\n",
       "\t incremental  & lm           & mlp          & 599.74       & 7.44        \\\\\n",
       "\t incremental  & lm           & randomForest & 548.55       & 6.81        \\\\\n",
       "\\end{tabular}\n"
      ],
      "text/markdown": [
       "\n",
       "| window | uni | multi | mae | nmae |\n",
       "|---|---|---|---|---|\n",
       "| incremental  | lm           | lm           | 531.93       | 6.6          |\n",
       "| incremental  | lm           | mlpe         | 618.58       | 7.68         |\n",
       "| incremental  | lm           | naive        | 565.37       | 7.02         |\n",
       "| incremental  | lm           | ctree        | 517.81       | 6.43         |\n",
       "| incremental  | lm           | mlp          | 599.74       | 7.44         |\n",
       "| incremental  | lm           | randomForest | 548.55       | 6.81         |\n",
       "\n"
      ],
      "text/plain": [
       "  window      uni multi        mae    nmae\n",
       "1 incremental lm  lm           531.93 6.6 \n",
       "2 incremental lm  mlpe         618.58 7.68\n",
       "3 incremental lm  naive        565.37 7.02\n",
       "4 incremental lm  ctree        517.81 6.43\n",
       "5 incremental lm  mlp          599.74 7.44\n",
       "6 incremental lm  randomForest 548.55 6.81"
      ]
     },
     "metadata": {},
     "output_type": "display_data"
    },
    {
     "name": "stdout",
     "output_type": "stream",
     "text": [
      "234"
     ]
    }
   ],
   "source": [
    "# HyperParameter Tuning (GridSearch)\n",
    "head(resdf)\n",
    "cat(nrow(resdf))"
   ]
  },
  {
   "cell_type": "code",
   "execution_count": 256,
   "id": "d938f0bf",
   "metadata": {},
   "outputs": [
    {
     "name": "stdout",
     "output_type": "stream",
     "text": [
      "Melhor Valor para MAE:  418.96"
     ]
    },
    {
     "data": {
      "text/html": [
       "<table>\n",
       "<thead><tr><th></th><th scope=col>window</th><th scope=col>uni</th><th scope=col>multi</th><th scope=col>mae</th><th scope=col>nmae</th></tr></thead>\n",
       "<tbody>\n",
       "\t<tr><th scope=row>82</th><td>incremental</td><td>HW         </td><td>lm         </td><td>418.96     </td><td>5.2        </td></tr>\n",
       "\t<tr><th scope=row>88</th><td>incremental</td><td>HW         </td><td>mr         </td><td>418.96     </td><td>5.2        </td></tr>\n",
       "</tbody>\n",
       "</table>\n"
      ],
      "text/latex": [
       "\\begin{tabular}{r|lllll}\n",
       "  & window & uni & multi & mae & nmae\\\\\n",
       "\\hline\n",
       "\t82 & incremental & HW          & lm          & 418.96      & 5.2        \\\\\n",
       "\t88 & incremental & HW          & mr          & 418.96      & 5.2        \\\\\n",
       "\\end{tabular}\n"
      ],
      "text/markdown": [
       "\n",
       "| <!--/--> | window | uni | multi | mae | nmae |\n",
       "|---|---|---|---|---|---|\n",
       "| 82 | incremental | HW          | lm          | 418.96      | 5.2         |\n",
       "| 88 | incremental | HW          | mr          | 418.96      | 5.2         |\n",
       "\n"
      ],
      "text/plain": [
       "   window      uni multi mae    nmae\n",
       "82 incremental HW  lm    418.96 5.2 \n",
       "88 incremental HW  mr    418.96 5.2 "
      ]
     },
     "metadata": {},
     "output_type": "display_data"
    },
    {
     "name": "stdout",
     "output_type": "stream",
     "text": [
      "Melhor Valor para NMAE:  5.2"
     ]
    },
    {
     "data": {
      "text/html": [
       "<table>\n",
       "<thead><tr><th></th><th scope=col>window</th><th scope=col>uni</th><th scope=col>multi</th><th scope=col>mae</th><th scope=col>nmae</th></tr></thead>\n",
       "<tbody>\n",
       "\t<tr><th scope=row>82</th><td>incremental</td><td>HW         </td><td>lm         </td><td>418.96     </td><td>5.2        </td></tr>\n",
       "\t<tr><th scope=row>88</th><td>incremental</td><td>HW         </td><td>mr         </td><td>418.96     </td><td>5.2        </td></tr>\n",
       "</tbody>\n",
       "</table>\n"
      ],
      "text/latex": [
       "\\begin{tabular}{r|lllll}\n",
       "  & window & uni & multi & mae & nmae\\\\\n",
       "\\hline\n",
       "\t82 & incremental & HW          & lm          & 418.96      & 5.2        \\\\\n",
       "\t88 & incremental & HW          & mr          & 418.96      & 5.2        \\\\\n",
       "\\end{tabular}\n"
      ],
      "text/markdown": [
       "\n",
       "| <!--/--> | window | uni | multi | mae | nmae |\n",
       "|---|---|---|---|---|---|\n",
       "| 82 | incremental | HW          | lm          | 418.96      | 5.2         |\n",
       "| 88 | incremental | HW          | mr          | 418.96      | 5.2         |\n",
       "\n"
      ],
      "text/plain": [
       "   window      uni multi mae    nmae\n",
       "82 incremental HW  lm    418.96 5.2 \n",
       "88 incremental HW  mr    418.96 5.2 "
      ]
     },
     "metadata": {},
     "output_type": "display_data"
    },
    {
     "name": "stdout",
     "output_type": "stream",
     "text": [
      "CSV saved in ./resultados/Cenario 3/Modelos Hibridos/TS5.csv"
     ]
    }
   ],
   "source": [
    "# Lowest MAE Value in Hibrid Modeling\n",
    "lowestmae = min(as.numeric(resdf[,4]))\n",
    "cat(\"Melhor Valor para MAE: \", lowestmae)\n",
    "# Encontrar as linhas que possuem o menor valor para MAE\n",
    "resdf[resdf$mae %in%lowestmae,]\n",
    "\n",
    "# Lowest NMAE Value in Hibrid Modeling\n",
    "lowestnmae = min(as.numeric(resdf[,5]))\n",
    "cat(\"Melhor Valor para NMAE: \", lowestnmae)\n",
    "# Encontrar as linhas que possuem o menor valor para NMAE\n",
    "resdf[resdf$nmae %in% lowestnmae,]\n",
    "\n",
    "\n",
    "# Save the Results\n",
    "saveResults('3',\"h\",'5')"
   ]
  },
  {
   "cell_type": "code",
   "execution_count": 15,
   "id": "f40ced06",
   "metadata": {},
   "outputs": [],
   "source": [
    "# (Function) Export Results to CSV\n",
    "saveResults <- function(cen,type,ts){\n",
    "    # Cenario\n",
    "    switch(  \n",
    "        cen,  \n",
    "        '1'= {cenFolder = 'Cenario 1'},\n",
    "        '2'= {cenFolder = 'Cenario 2'},\n",
    "        '3'= {cenFolder = 'Cenario 3'},\n",
    "        ) \n",
    "    \n",
    "    # Tipo de Modelo\n",
    "     switch(  \n",
    "        type,  \n",
    "        'u'= {typeFolder = 'Modelos Univariados'},\n",
    "        'm'= {typeFolder = 'Modelos Multivariados'},\n",
    "        'h'= {typeFolder = 'Modelos Hibridos'},\n",
    "        ) \n",
    "    \n",
    "    # Time Series\n",
    "     switch(  \n",
    "        ts,  \n",
    "        '1'= {file = 'TS1.csv'},\n",
    "        '2'= {file = 'TS2.csv'},\n",
    "        '3'= {file = 'TS3.csv'},\n",
    "        '4'= {file = 'TS4.csv'},\n",
    "        '5'= {file = 'TS5.csv'},\n",
    "        ) \n",
    "    \n",
    "    # Guardar os Resultados\n",
    "    rootFolder = \"./resultados\"\n",
    "    \n",
    "    iter1 = paste(rootFolder,cenFolder,sep=\"/\")\n",
    "    iter2 = paste(iter1,typeFolder,sep=\"/\")\n",
    "    path = paste(iter2,file,sep=\"/\")\n",
    "    write.csv(resdf,path,row.names = FALSE)\n",
    "    cat(\"CSV saved in\", path)\n",
    "    \n",
    "}"
   ]
  },
  {
   "cell_type": "code",
   "execution_count": 187,
   "id": "8dcc8eec",
   "metadata": {},
   "outputs": [
    {
     "data": {
      "image/png": "[encoded data removed]",
      "text/plain": [
       "Plot with title \"Forecasts from HoltWinters\""
      ]
     },
     "metadata": {},
     "output_type": "display_data"
    }
   ],
   "source": [
    "plot(fcast)"
   ]
  },
  {
   "cell_type": "code",
   "execution_count": 188,
   "id": "36848d37",
   "metadata": {},
   "outputs": [],
   "source": [
    "d1 = data[,1]\n",
    "H=holdout(data$all,ratio=7,mode=\"order\")\n",
    "dtr = ts(d1[H$tr],frequency=7)\n",
    "\n",
    "M = suppressWarnings(HoltWinters(dtr))\n",
    "fcast = forecast(M,h=length(H$ts))\n",
    "preds = fcast$mean[1:7]\n",
    "Prev = data[H$tr,][,1]"
   ]
  },
  {
   "cell_type": "code",
   "execution_count": 189,
   "id": "a9e2a1ef",
   "metadata": {},
   "outputs": [
    {
     "ename": "ERROR",
     "evalue": "Error in plot(val[H$tr], type = \"l\", col = \"red\"): object 'val' not found\n",
     "output_type": "error",
     "traceback": [
      "Error in plot(val[H$tr], type = \"l\", col = \"red\"): object 'val' not found\nTraceback:\n",
      "1. plot(val[H$tr], type = \"l\", col = \"red\")"
     ]
    }
   ],
   "source": [
    "plot(val[H$tr], type = \"l\", col=\"red\")\n",
    "lines(val[H$ts], type=\"l\",col=\"blue\")"
   ]
  },
  {
   "cell_type": "code",
   "execution_count": 190,
   "id": "1c82b3ac",
   "metadata": {},
   "outputs": [],
   "source": [
    "val = c(Pred,Prev)"
   ]
  },
  {
   "cell_type": "code",
   "execution_count": 191,
   "id": "d4eaaa9b",
   "metadata": {},
   "outputs": [
    {
     "data": {
      "image/png": "[encoded data removed]",
      "text/plain": [
       "plot without title"
      ]
     },
     "metadata": {},
     "output_type": "display_data"
    }
   ],
   "source": [
    "x <- data.frame(Debt = c(115.413 , 116.522 , 123.361, 129.021, 131.786, 131.557, 131.397, 131.355, 132.1, 134.77))\n",
    "future <- data.frame(Debt=c(144.9, 147.9, 150.9))\n",
    "df <- data.frame(x=c(1:(nrow(x)+nrow(future))), y= c(x$Debt, future$Debt))\n",
    "\n",
    "plot(range(data[,1]), range(100,150), type='n')\n",
    "lines(df[1:nrow(x),1], df[1:nrow(x),2], type='l', col='black')\n",
    "lines(df[nrow(x):nrow(df),1], df[nrow(x):nrow(df),2], type='l', col='blue')"
   ]
  },
  {
   "cell_type": "code",
   "execution_count": 94,
   "id": "0d9e57b1",
   "metadata": {},
   "outputs": [
    {
     "data": {
      "image/png": "[encoded data removed]",
      "text/plain": [
       "plot without title"
      ]
     },
     "metadata": {},
     "output_type": "display_data"
    }
   ],
   "source": [
    "values.highlight <- a$values[250:257]\n",
    "a$highlight <- ifelse(a$values %in% values.highlight, \"blue\", \"black\")\n",
    "\n",
    "ggplot(a, aes(x = x, y = values, colour = highlight, group = 1)) +\n",
    "    geom_line() +\n",
    "    scale_colour_identity(a$highlight)"
   ]
  },
  {
   "cell_type": "code",
   "execution_count": 58,
   "id": "02368a04",
   "metadata": {},
   "outputs": [],
   "source": [
    "a = data.frame(dates, values = val)"
   ]
  },
  {
   "cell_type": "code",
   "execution_count": 55,
   "id": "37553409",
   "metadata": {},
   "outputs": [],
   "source": [
    "dates <- read.csv(file = 'date.csv')['x']"
   ]
  },
  {
   "cell_type": "code",
   "execution_count": 92,
   "id": "7fe2ed00",
   "metadata": {},
   "outputs": [
    {
     "data": {
      "text/html": [
       "<ol class=list-inline>\n",
       "\t<li>7157.53142406075</li>\n",
       "\t<li>5253.49009209186</li>\n",
       "\t<li>5130.01192943775</li>\n",
       "\t<li>5220.54850586665</li>\n",
       "\t<li>5541.89147164454</li>\n",
       "\t<li>5883.61043214015</li>\n",
       "\t<li>7307.88015259532</li>\n",
       "</ol>\n"
      ],
      "text/latex": [
       "\\begin{enumerate*}\n",
       "\\item 7157.53142406075\n",
       "\\item 5253.49009209186\n",
       "\\item 5130.01192943775\n",
       "\\item 5220.54850586665\n",
       "\\item 5541.89147164454\n",
       "\\item 5883.61043214015\n",
       "\\item 7307.88015259532\n",
       "\\end{enumerate*}\n"
      ],
      "text/markdown": [
       "1. 7157.53142406075\n",
       "2. 5253.49009209186\n",
       "3. 5130.01192943775\n",
       "4. 5220.54850586665\n",
       "5. 5541.89147164454\n",
       "6. 5883.61043214015\n",
       "7. 7307.88015259532\n",
       "\n",
       "\n"
      ],
      "text/plain": [
       "[1] 7157.531 5253.490 5130.012 5220.549 5541.891 5883.610 7307.880"
      ]
     },
     "metadata": {},
     "output_type": "display_data"
    }
   ],
   "source": [
    "preds"
   ]
  },
  {
   "cell_type": "code",
   "execution_count": 84,
   "id": "8c7180a4",
   "metadata": {},
   "outputs": [],
   "source": [
    "d1 = data[,1]\n",
    "H=holdout(data$all,ratio=7,mode=\"order\")\n",
    "dtr = ts(d1[H$tr],frequency=7)\n",
    "\n",
    "M = suppressWarnings(HoltWinters(dtr))\n",
    "fcast = forecast(M,h=length(H$ts))\n",
    "preds = fcast$mean[1:7]\n",
    "Prev = data[H$tr,][,1]"
   ]
  },
  {
   "cell_type": "code",
   "execution_count": 90,
   "id": "3d120d59",
   "metadata": {},
   "outputs": [],
   "source": [
    "values = c(Prev,preds)\n",
    "max_index = length(values)\n",
    "i = data.frame(index = c(1:max_index),values = values)"
   ]
  },
  {
   "cell_type": "code",
   "execution_count": 105,
   "id": "6e6781b8",
   "metadata": {},
   "outputs": [
    {
     "data": {
      "image/png": "[encoded data removed]",
      "text/plain": [
       "plot without title"
      ]
     },
     "metadata": {},
     "output_type": "display_data"
    }
   ],
   "source": [
    "values.highlight <- preds\n",
    "i$highlight <- ifelse(i$values %in% preds, \"blue\", \"black\")\n",
    "length_ultimos = (max_index - 30):max_index\n",
    "ggplot(i[length_ultimos,], aes(x = index, y = values, colour = highlight, group = 1)) +\n",
    "    geom_line() +\n",
    "    scale_colour_identity(a$highlight)"
   ]
  },
  {
   "cell_type": "code",
   "execution_count": null,
   "id": "2f0e4dd1",
   "metadata": {},
   "outputs": [],
   "source": []
  }
 ],
 "metadata": {
  "kernelspec": {
   "display_name": "R",
   "language": "R",
   "name": "ir"
  },
  "language_info": {
   "codemirror_mode": "r",
   "file_extension": ".r",
   "mimetype": "text/x-r-source",
   "name": "R",
   "pygments_lexer": "r",
   "version": "3.6.1"
  }
 },
 "nbformat": 4,
 "nbformat_minor": 5
}
