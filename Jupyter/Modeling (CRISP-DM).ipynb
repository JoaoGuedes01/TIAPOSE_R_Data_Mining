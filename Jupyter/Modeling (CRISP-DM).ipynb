{
 "cells": [
  {
   "cell_type": "markdown",
   "id": "faddba97",
   "metadata": {},
   "source": [
    "## Modeling\n",
    "#### Nesta fase os dados foram preparados para integração em modelos de machine learning na fase de Modeling\n",
    "#### As séries temporais \"male\", \"female\", \"young\" e \"adult\" foram retiradas dos dados uma vez que o nosso objetivo é orientado para a série \"all\"\n",
    "#### A coluna \"date\" também foi removida porque apenas serve para nos situarmos no tempo, para a divisão dos dados em antigos=treino, recentes=teste. Além disso a sua natureza única (única por observação) apenas iria trazer incerteza para os modelos.\n",
    "#### Para lidar com os valores outliers foram criados 2 cenários:\n",
    "<ul>\n",
    "    <li><b>Com outliers</b> - Neste cenário os valores outliers não foram tratados</li>\n",
    "    <li><b>Sem outliers s/ compensação</b> - Neste cenário os valores outliers foram tratados</li>\n",
    "\n",
    "</ul>\n",
    "\n",
    "#### Por fim os dados de cada cenário foram exportados para os respetivos ficheiros csv para poderem ser utilizados nas fases seguintes "
   ]
  },
  {
   "cell_type": "markdown",
   "id": "7107ea25",
   "metadata": {},
   "source": [
    "### Importar Libraries"
   ]
  },
  {
   "cell_type": "code",
   "execution_count": 2,
   "id": "d23259dd",
   "metadata": {},
   "outputs": [
    {
     "name": "stderr",
     "output_type": "stream",
     "text": [
      "Registered S3 methods overwritten by 'ggplot2':\n",
      "  method         from \n",
      "  [.quosures     rlang\n",
      "  c.quosures     rlang\n",
      "  print.quosures rlang\n",
      "Registered S3 method overwritten by 'rvest':\n",
      "  method            from\n",
      "  read_xml.response xml2\n",
      "-- Attaching packages --------------------------------------- tidyverse 1.2.1 --\n",
      "v ggplot2 3.1.1       v purrr   0.3.2  \n",
      "v tibble  2.1.1       v dplyr   0.8.0.1\n",
      "v tidyr   0.8.3       v stringr 1.4.0  \n",
      "v readr   1.3.1       v forcats 0.4.0  \n",
      "-- Conflicts ------------------------------------------ tidyverse_conflicts() --\n",
      "x dplyr::filter() masks stats::filter()\n",
      "x dplyr::lag()    masks stats::lag()\n",
      "Warning message:\n",
      "\"package 'rminer' was built under R version 3.6.3\"Warning message:\n",
      "\"package 'forecast' was built under R version 3.6.3\"Registered S3 method overwritten by 'xts':\n",
      "  method     from\n",
      "  as.zoo.xts zoo \n",
      "Registered S3 method overwritten by 'quantmod':\n",
      "  method            from\n",
      "  as.zoo.data.frame zoo \n"
     ]
    }
   ],
   "source": [
    "# Importar Libraries\n",
    "library(tidyverse)\n",
    "library(rminer)\n",
    "library(forecast)"
   ]
  },
  {
   "cell_type": "markdown",
   "id": "4efbcfbc",
   "metadata": {},
   "source": [
    "### Importar os Dados"
   ]
  },
  {
   "cell_type": "code",
   "execution_count": 22,
   "id": "9a80304b",
   "metadata": {
    "scrolled": true
   },
   "outputs": [
    {
     "data": {
      "text/html": [
       "<table>\n",
       "<thead><tr><th scope=col>female</th><th scope=col>weather</th><th scope=col>maxtemp</th><th scope=col>RH</th><th scope=col>maxwind</th></tr></thead>\n",
       "<tbody>\n",
       "\t<tr><td>1115</td><td>0   </td><td>13  </td><td>87  </td><td> 0  </td></tr>\n",
       "\t<tr><td>1217</td><td>0   </td><td>14  </td><td>94  </td><td>45  </td></tr>\n",
       "\t<tr><td>1168</td><td>0   </td><td>14  </td><td>82  </td><td>55  </td></tr>\n",
       "\t<tr><td>1617</td><td>1   </td><td>13  </td><td>78  </td><td> 0  </td></tr>\n",
       "\t<tr><td>2469</td><td>0   </td><td>16  </td><td>81  </td><td>37  </td></tr>\n",
       "\t<tr><td>2564</td><td>0   </td><td>16  </td><td>73  </td><td> 0  </td></tr>\n",
       "</tbody>\n",
       "</table>\n"
      ],
      "text/latex": [
       "\\begin{tabular}{r|lllll}\n",
       " female & weather & maxtemp & RH & maxwind\\\\\n",
       "\\hline\n",
       "\t 1115 & 0    & 13   & 87   &  0  \\\\\n",
       "\t 1217 & 0    & 14   & 94   & 45  \\\\\n",
       "\t 1168 & 0    & 14   & 82   & 55  \\\\\n",
       "\t 1617 & 1    & 13   & 78   &  0  \\\\\n",
       "\t 2469 & 0    & 16   & 81   & 37  \\\\\n",
       "\t 2564 & 0    & 16   & 73   &  0  \\\\\n",
       "\\end{tabular}\n"
      ],
      "text/markdown": [
       "\n",
       "| female | weather | maxtemp | RH | maxwind |\n",
       "|---|---|---|---|---|\n",
       "| 1115 | 0    | 13   | 87   |  0   |\n",
       "| 1217 | 0    | 14   | 94   | 45   |\n",
       "| 1168 | 0    | 14   | 82   | 55   |\n",
       "| 1617 | 1    | 13   | 78   |  0   |\n",
       "| 2469 | 0    | 16   | 81   | 37   |\n",
       "| 2564 | 0    | 16   | 73   |  0   |\n",
       "\n"
      ],
      "text/plain": [
       "  female weather maxtemp RH maxwind\n",
       "1 1115   0       13      87  0     \n",
       "2 1217   0       14      94 45     \n",
       "3 1168   0       14      82 55     \n",
       "4 1617   1       13      78  0     \n",
       "5 2469   0       16      81 37     \n",
       "6 2564   0       16      73  0     "
      ]
     },
     "metadata": {},
     "output_type": "display_data"
    }
   ],
   "source": [
    "# Importar os dados\n",
    "data <- read.csv(file = './cenarios/Cenario 1/TS2.csv')\n",
    "\n",
    "# Retirar a coluna X (Index)\n",
    "data = data %>% select(-X)\n",
    "head(data)"
   ]
  },
  {
   "cell_type": "markdown",
   "id": "3abd09f6",
   "metadata": {},
   "source": [
    "## Multivariate Regression"
   ]
  },
  {
   "cell_type": "markdown",
   "id": "6d9297ce",
   "metadata": {},
   "source": [
    "### Spliting the dataset (For multivariate models)"
   ]
  },
  {
   "cell_type": "code",
   "execution_count": 19,
   "id": "6aa6fcab",
   "metadata": {},
   "outputs": [
    {
     "data": {
      "text/html": [
       "<dl>\n",
       "\t<dt>$tr</dt>\n",
       "\t\t<dd><ol class=list-inline>\n",
       "\t<li>1</li>\n",
       "\t<li>2</li>\n",
       "\t<li>3</li>\n",
       "\t<li>4</li>\n",
       "\t<li>5</li>\n",
       "\t<li>6</li>\n",
       "\t<li>7</li>\n",
       "\t<li>8</li>\n",
       "\t<li>9</li>\n",
       "\t<li>10</li>\n",
       "\t<li>11</li>\n",
       "\t<li>12</li>\n",
       "\t<li>13</li>\n",
       "\t<li>14</li>\n",
       "\t<li>15</li>\n",
       "\t<li>16</li>\n",
       "\t<li>17</li>\n",
       "\t<li>18</li>\n",
       "\t<li>19</li>\n",
       "\t<li>20</li>\n",
       "\t<li>21</li>\n",
       "\t<li>22</li>\n",
       "\t<li>23</li>\n",
       "\t<li>24</li>\n",
       "\t<li>25</li>\n",
       "\t<li>26</li>\n",
       "\t<li>27</li>\n",
       "\t<li>28</li>\n",
       "\t<li>29</li>\n",
       "\t<li>30</li>\n",
       "\t<li>31</li>\n",
       "\t<li>32</li>\n",
       "\t<li>33</li>\n",
       "\t<li>34</li>\n",
       "\t<li>35</li>\n",
       "\t<li>36</li>\n",
       "\t<li>37</li>\n",
       "\t<li>38</li>\n",
       "\t<li>39</li>\n",
       "\t<li>40</li>\n",
       "\t<li>41</li>\n",
       "\t<li>42</li>\n",
       "\t<li>43</li>\n",
       "\t<li>44</li>\n",
       "\t<li>45</li>\n",
       "\t<li>46</li>\n",
       "\t<li>47</li>\n",
       "\t<li>48</li>\n",
       "\t<li>49</li>\n",
       "\t<li>50</li>\n",
       "\t<li>51</li>\n",
       "\t<li>52</li>\n",
       "\t<li>53</li>\n",
       "\t<li>54</li>\n",
       "\t<li>55</li>\n",
       "\t<li>56</li>\n",
       "\t<li>57</li>\n",
       "\t<li>58</li>\n",
       "\t<li>59</li>\n",
       "\t<li>60</li>\n",
       "\t<li>61</li>\n",
       "\t<li>62</li>\n",
       "\t<li>63</li>\n",
       "\t<li>64</li>\n",
       "\t<li>65</li>\n",
       "\t<li>66</li>\n",
       "\t<li>67</li>\n",
       "\t<li>68</li>\n",
       "\t<li>69</li>\n",
       "\t<li>70</li>\n",
       "\t<li>71</li>\n",
       "\t<li>72</li>\n",
       "\t<li>73</li>\n",
       "\t<li>74</li>\n",
       "\t<li>75</li>\n",
       "\t<li>76</li>\n",
       "\t<li>77</li>\n",
       "\t<li>78</li>\n",
       "\t<li>79</li>\n",
       "\t<li>80</li>\n",
       "\t<li>81</li>\n",
       "\t<li>82</li>\n",
       "\t<li>83</li>\n",
       "\t<li>84</li>\n",
       "\t<li>85</li>\n",
       "\t<li>86</li>\n",
       "\t<li>87</li>\n",
       "\t<li>88</li>\n",
       "\t<li>89</li>\n",
       "\t<li>90</li>\n",
       "\t<li>91</li>\n",
       "\t<li>92</li>\n",
       "\t<li>93</li>\n",
       "\t<li>94</li>\n",
       "\t<li>95</li>\n",
       "\t<li>96</li>\n",
       "\t<li>97</li>\n",
       "\t<li>98</li>\n",
       "\t<li>99</li>\n",
       "\t<li>100</li>\n",
       "\t<li>101</li>\n",
       "\t<li>102</li>\n",
       "\t<li>103</li>\n",
       "\t<li>104</li>\n",
       "\t<li>105</li>\n",
       "\t<li>106</li>\n",
       "\t<li>107</li>\n",
       "\t<li>108</li>\n",
       "\t<li>109</li>\n",
       "\t<li>110</li>\n",
       "\t<li>111</li>\n",
       "\t<li>112</li>\n",
       "\t<li>113</li>\n",
       "\t<li>114</li>\n",
       "\t<li>115</li>\n",
       "\t<li>116</li>\n",
       "\t<li>117</li>\n",
       "\t<li>118</li>\n",
       "\t<li>119</li>\n",
       "\t<li>120</li>\n",
       "\t<li>121</li>\n",
       "\t<li>122</li>\n",
       "\t<li>123</li>\n",
       "\t<li>124</li>\n",
       "\t<li>125</li>\n",
       "\t<li>126</li>\n",
       "\t<li>127</li>\n",
       "\t<li>128</li>\n",
       "\t<li>129</li>\n",
       "\t<li>130</li>\n",
       "\t<li>131</li>\n",
       "\t<li>132</li>\n",
       "\t<li>133</li>\n",
       "\t<li>134</li>\n",
       "\t<li>135</li>\n",
       "\t<li>136</li>\n",
       "\t<li>137</li>\n",
       "\t<li>138</li>\n",
       "\t<li>139</li>\n",
       "\t<li>140</li>\n",
       "\t<li>141</li>\n",
       "\t<li>142</li>\n",
       "\t<li>143</li>\n",
       "\t<li>144</li>\n",
       "\t<li>145</li>\n",
       "\t<li>146</li>\n",
       "\t<li>147</li>\n",
       "\t<li>148</li>\n",
       "\t<li>149</li>\n",
       "\t<li>150</li>\n",
       "\t<li>151</li>\n",
       "\t<li>152</li>\n",
       "\t<li>153</li>\n",
       "\t<li>154</li>\n",
       "\t<li>155</li>\n",
       "\t<li>156</li>\n",
       "\t<li>157</li>\n",
       "\t<li>158</li>\n",
       "\t<li>159</li>\n",
       "\t<li>160</li>\n",
       "\t<li>161</li>\n",
       "\t<li>162</li>\n",
       "\t<li>163</li>\n",
       "\t<li>164</li>\n",
       "\t<li>165</li>\n",
       "\t<li>166</li>\n",
       "\t<li>167</li>\n",
       "\t<li>168</li>\n",
       "\t<li>169</li>\n",
       "\t<li>170</li>\n",
       "\t<li>171</li>\n",
       "\t<li>172</li>\n",
       "\t<li>173</li>\n",
       "\t<li>174</li>\n",
       "\t<li>175</li>\n",
       "\t<li>176</li>\n",
       "\t<li>177</li>\n",
       "\t<li>178</li>\n",
       "\t<li>179</li>\n",
       "\t<li>180</li>\n",
       "\t<li>181</li>\n",
       "\t<li>182</li>\n",
       "\t<li>183</li>\n",
       "\t<li>184</li>\n",
       "\t<li>185</li>\n",
       "\t<li>186</li>\n",
       "\t<li>187</li>\n",
       "\t<li>188</li>\n",
       "\t<li>189</li>\n",
       "\t<li>190</li>\n",
       "\t<li>191</li>\n",
       "\t<li>192</li>\n",
       "\t<li>193</li>\n",
       "\t<li>194</li>\n",
       "\t<li>195</li>\n",
       "\t<li>196</li>\n",
       "\t<li>197</li>\n",
       "\t<li>198</li>\n",
       "\t<li>199</li>\n",
       "\t<li>200</li>\n",
       "\t<li>201</li>\n",
       "\t<li>202</li>\n",
       "\t<li>203</li>\n",
       "\t<li>204</li>\n",
       "\t<li>205</li>\n",
       "\t<li>206</li>\n",
       "\t<li>207</li>\n",
       "\t<li>208</li>\n",
       "\t<li>209</li>\n",
       "\t<li>210</li>\n",
       "\t<li>211</li>\n",
       "\t<li>212</li>\n",
       "\t<li>213</li>\n",
       "\t<li>214</li>\n",
       "\t<li>215</li>\n",
       "\t<li>216</li>\n",
       "\t<li>217</li>\n",
       "\t<li>218</li>\n",
       "\t<li>219</li>\n",
       "\t<li>220</li>\n",
       "\t<li>221</li>\n",
       "\t<li>222</li>\n",
       "\t<li>223</li>\n",
       "\t<li>224</li>\n",
       "\t<li>225</li>\n",
       "\t<li>226</li>\n",
       "\t<li>227</li>\n",
       "\t<li>228</li>\n",
       "\t<li>229</li>\n",
       "\t<li>230</li>\n",
       "\t<li>231</li>\n",
       "\t<li>232</li>\n",
       "\t<li>233</li>\n",
       "\t<li>234</li>\n",
       "\t<li>235</li>\n",
       "\t<li>236</li>\n",
       "\t<li>237</li>\n",
       "\t<li>238</li>\n",
       "\t<li>239</li>\n",
       "\t<li>240</li>\n",
       "\t<li>241</li>\n",
       "\t<li>242</li>\n",
       "\t<li>243</li>\n",
       "\t<li>244</li>\n",
       "\t<li>245</li>\n",
       "\t<li>246</li>\n",
       "\t<li>247</li>\n",
       "\t<li>248</li>\n",
       "\t<li>249</li>\n",
       "\t<li>250</li>\n",
       "</ol>\n",
       "</dd>\n",
       "\t<dt>$itr</dt>\n",
       "\t\t<dd>NULL</dd>\n",
       "\t<dt>$val</dt>\n",
       "\t\t<dd>NULL</dd>\n",
       "\t<dt>$ts</dt>\n",
       "\t\t<dd><ol class=list-inline>\n",
       "\t<li>251</li>\n",
       "\t<li>252</li>\n",
       "\t<li>253</li>\n",
       "\t<li>254</li>\n",
       "\t<li>255</li>\n",
       "\t<li>256</li>\n",
       "\t<li>257</li>\n",
       "</ol>\n",
       "</dd>\n",
       "</dl>\n"
      ],
      "text/latex": [
       "\\begin{description}\n",
       "\\item[\\$tr] \\begin{enumerate*}\n",
       "\\item 1\n",
       "\\item 2\n",
       "\\item 3\n",
       "\\item 4\n",
       "\\item 5\n",
       "\\item 6\n",
       "\\item 7\n",
       "\\item 8\n",
       "\\item 9\n",
       "\\item 10\n",
       "\\item 11\n",
       "\\item 12\n",
       "\\item 13\n",
       "\\item 14\n",
       "\\item 15\n",
       "\\item 16\n",
       "\\item 17\n",
       "\\item 18\n",
       "\\item 19\n",
       "\\item 20\n",
       "\\item 21\n",
       "\\item 22\n",
       "\\item 23\n",
       "\\item 24\n",
       "\\item 25\n",
       "\\item 26\n",
       "\\item 27\n",
       "\\item 28\n",
       "\\item 29\n",
       "\\item 30\n",
       "\\item 31\n",
       "\\item 32\n",
       "\\item 33\n",
       "\\item 34\n",
       "\\item 35\n",
       "\\item 36\n",
       "\\item 37\n",
       "\\item 38\n",
       "\\item 39\n",
       "\\item 40\n",
       "\\item 41\n",
       "\\item 42\n",
       "\\item 43\n",
       "\\item 44\n",
       "\\item 45\n",
       "\\item 46\n",
       "\\item 47\n",
       "\\item 48\n",
       "\\item 49\n",
       "\\item 50\n",
       "\\item 51\n",
       "\\item 52\n",
       "\\item 53\n",
       "\\item 54\n",
       "\\item 55\n",
       "\\item 56\n",
       "\\item 57\n",
       "\\item 58\n",
       "\\item 59\n",
       "\\item 60\n",
       "\\item 61\n",
       "\\item 62\n",
       "\\item 63\n",
       "\\item 64\n",
       "\\item 65\n",
       "\\item 66\n",
       "\\item 67\n",
       "\\item 68\n",
       "\\item 69\n",
       "\\item 70\n",
       "\\item 71\n",
       "\\item 72\n",
       "\\item 73\n",
       "\\item 74\n",
       "\\item 75\n",
       "\\item 76\n",
       "\\item 77\n",
       "\\item 78\n",
       "\\item 79\n",
       "\\item 80\n",
       "\\item 81\n",
       "\\item 82\n",
       "\\item 83\n",
       "\\item 84\n",
       "\\item 85\n",
       "\\item 86\n",
       "\\item 87\n",
       "\\item 88\n",
       "\\item 89\n",
       "\\item 90\n",
       "\\item 91\n",
       "\\item 92\n",
       "\\item 93\n",
       "\\item 94\n",
       "\\item 95\n",
       "\\item 96\n",
       "\\item 97\n",
       "\\item 98\n",
       "\\item 99\n",
       "\\item 100\n",
       "\\item 101\n",
       "\\item 102\n",
       "\\item 103\n",
       "\\item 104\n",
       "\\item 105\n",
       "\\item 106\n",
       "\\item 107\n",
       "\\item 108\n",
       "\\item 109\n",
       "\\item 110\n",
       "\\item 111\n",
       "\\item 112\n",
       "\\item 113\n",
       "\\item 114\n",
       "\\item 115\n",
       "\\item 116\n",
       "\\item 117\n",
       "\\item 118\n",
       "\\item 119\n",
       "\\item 120\n",
       "\\item 121\n",
       "\\item 122\n",
       "\\item 123\n",
       "\\item 124\n",
       "\\item 125\n",
       "\\item 126\n",
       "\\item 127\n",
       "\\item 128\n",
       "\\item 129\n",
       "\\item 130\n",
       "\\item 131\n",
       "\\item 132\n",
       "\\item 133\n",
       "\\item 134\n",
       "\\item 135\n",
       "\\item 136\n",
       "\\item 137\n",
       "\\item 138\n",
       "\\item 139\n",
       "\\item 140\n",
       "\\item 141\n",
       "\\item 142\n",
       "\\item 143\n",
       "\\item 144\n",
       "\\item 145\n",
       "\\item 146\n",
       "\\item 147\n",
       "\\item 148\n",
       "\\item 149\n",
       "\\item 150\n",
       "\\item 151\n",
       "\\item 152\n",
       "\\item 153\n",
       "\\item 154\n",
       "\\item 155\n",
       "\\item 156\n",
       "\\item 157\n",
       "\\item 158\n",
       "\\item 159\n",
       "\\item 160\n",
       "\\item 161\n",
       "\\item 162\n",
       "\\item 163\n",
       "\\item 164\n",
       "\\item 165\n",
       "\\item 166\n",
       "\\item 167\n",
       "\\item 168\n",
       "\\item 169\n",
       "\\item 170\n",
       "\\item 171\n",
       "\\item 172\n",
       "\\item 173\n",
       "\\item 174\n",
       "\\item 175\n",
       "\\item 176\n",
       "\\item 177\n",
       "\\item 178\n",
       "\\item 179\n",
       "\\item 180\n",
       "\\item 181\n",
       "\\item 182\n",
       "\\item 183\n",
       "\\item 184\n",
       "\\item 185\n",
       "\\item 186\n",
       "\\item 187\n",
       "\\item 188\n",
       "\\item 189\n",
       "\\item 190\n",
       "\\item 191\n",
       "\\item 192\n",
       "\\item 193\n",
       "\\item 194\n",
       "\\item 195\n",
       "\\item 196\n",
       "\\item 197\n",
       "\\item 198\n",
       "\\item 199\n",
       "\\item 200\n",
       "\\item 201\n",
       "\\item 202\n",
       "\\item 203\n",
       "\\item 204\n",
       "\\item 205\n",
       "\\item 206\n",
       "\\item 207\n",
       "\\item 208\n",
       "\\item 209\n",
       "\\item 210\n",
       "\\item 211\n",
       "\\item 212\n",
       "\\item 213\n",
       "\\item 214\n",
       "\\item 215\n",
       "\\item 216\n",
       "\\item 217\n",
       "\\item 218\n",
       "\\item 219\n",
       "\\item 220\n",
       "\\item 221\n",
       "\\item 222\n",
       "\\item 223\n",
       "\\item 224\n",
       "\\item 225\n",
       "\\item 226\n",
       "\\item 227\n",
       "\\item 228\n",
       "\\item 229\n",
       "\\item 230\n",
       "\\item 231\n",
       "\\item 232\n",
       "\\item 233\n",
       "\\item 234\n",
       "\\item 235\n",
       "\\item 236\n",
       "\\item 237\n",
       "\\item 238\n",
       "\\item 239\n",
       "\\item 240\n",
       "\\item 241\n",
       "\\item 242\n",
       "\\item 243\n",
       "\\item 244\n",
       "\\item 245\n",
       "\\item 246\n",
       "\\item 247\n",
       "\\item 248\n",
       "\\item 249\n",
       "\\item 250\n",
       "\\end{enumerate*}\n",
       "\n",
       "\\item[\\$itr] NULL\n",
       "\\item[\\$val] NULL\n",
       "\\item[\\$ts] \\begin{enumerate*}\n",
       "\\item 251\n",
       "\\item 252\n",
       "\\item 253\n",
       "\\item 254\n",
       "\\item 255\n",
       "\\item 256\n",
       "\\item 257\n",
       "\\end{enumerate*}\n",
       "\n",
       "\\end{description}\n"
      ],
      "text/markdown": [
       "$tr\n",
       ":   1. 1\n",
       "2. 2\n",
       "3. 3\n",
       "4. 4\n",
       "5. 5\n",
       "6. 6\n",
       "7. 7\n",
       "8. 8\n",
       "9. 9\n",
       "10. 10\n",
       "11. 11\n",
       "12. 12\n",
       "13. 13\n",
       "14. 14\n",
       "15. 15\n",
       "16. 16\n",
       "17. 17\n",
       "18. 18\n",
       "19. 19\n",
       "20. 20\n",
       "21. 21\n",
       "22. 22\n",
       "23. 23\n",
       "24. 24\n",
       "25. 25\n",
       "26. 26\n",
       "27. 27\n",
       "28. 28\n",
       "29. 29\n",
       "30. 30\n",
       "31. 31\n",
       "32. 32\n",
       "33. 33\n",
       "34. 34\n",
       "35. 35\n",
       "36. 36\n",
       "37. 37\n",
       "38. 38\n",
       "39. 39\n",
       "40. 40\n",
       "41. 41\n",
       "42. 42\n",
       "43. 43\n",
       "44. 44\n",
       "45. 45\n",
       "46. 46\n",
       "47. 47\n",
       "48. 48\n",
       "49. 49\n",
       "50. 50\n",
       "51. 51\n",
       "52. 52\n",
       "53. 53\n",
       "54. 54\n",
       "55. 55\n",
       "56. 56\n",
       "57. 57\n",
       "58. 58\n",
       "59. 59\n",
       "60. 60\n",
       "61. 61\n",
       "62. 62\n",
       "63. 63\n",
       "64. 64\n",
       "65. 65\n",
       "66. 66\n",
       "67. 67\n",
       "68. 68\n",
       "69. 69\n",
       "70. 70\n",
       "71. 71\n",
       "72. 72\n",
       "73. 73\n",
       "74. 74\n",
       "75. 75\n",
       "76. 76\n",
       "77. 77\n",
       "78. 78\n",
       "79. 79\n",
       "80. 80\n",
       "81. 81\n",
       "82. 82\n",
       "83. 83\n",
       "84. 84\n",
       "85. 85\n",
       "86. 86\n",
       "87. 87\n",
       "88. 88\n",
       "89. 89\n",
       "90. 90\n",
       "91. 91\n",
       "92. 92\n",
       "93. 93\n",
       "94. 94\n",
       "95. 95\n",
       "96. 96\n",
       "97. 97\n",
       "98. 98\n",
       "99. 99\n",
       "100. 100\n",
       "101. 101\n",
       "102. 102\n",
       "103. 103\n",
       "104. 104\n",
       "105. 105\n",
       "106. 106\n",
       "107. 107\n",
       "108. 108\n",
       "109. 109\n",
       "110. 110\n",
       "111. 111\n",
       "112. 112\n",
       "113. 113\n",
       "114. 114\n",
       "115. 115\n",
       "116. 116\n",
       "117. 117\n",
       "118. 118\n",
       "119. 119\n",
       "120. 120\n",
       "121. 121\n",
       "122. 122\n",
       "123. 123\n",
       "124. 124\n",
       "125. 125\n",
       "126. 126\n",
       "127. 127\n",
       "128. 128\n",
       "129. 129\n",
       "130. 130\n",
       "131. 131\n",
       "132. 132\n",
       "133. 133\n",
       "134. 134\n",
       "135. 135\n",
       "136. 136\n",
       "137. 137\n",
       "138. 138\n",
       "139. 139\n",
       "140. 140\n",
       "141. 141\n",
       "142. 142\n",
       "143. 143\n",
       "144. 144\n",
       "145. 145\n",
       "146. 146\n",
       "147. 147\n",
       "148. 148\n",
       "149. 149\n",
       "150. 150\n",
       "151. 151\n",
       "152. 152\n",
       "153. 153\n",
       "154. 154\n",
       "155. 155\n",
       "156. 156\n",
       "157. 157\n",
       "158. 158\n",
       "159. 159\n",
       "160. 160\n",
       "161. 161\n",
       "162. 162\n",
       "163. 163\n",
       "164. 164\n",
       "165. 165\n",
       "166. 166\n",
       "167. 167\n",
       "168. 168\n",
       "169. 169\n",
       "170. 170\n",
       "171. 171\n",
       "172. 172\n",
       "173. 173\n",
       "174. 174\n",
       "175. 175\n",
       "176. 176\n",
       "177. 177\n",
       "178. 178\n",
       "179. 179\n",
       "180. 180\n",
       "181. 181\n",
       "182. 182\n",
       "183. 183\n",
       "184. 184\n",
       "185. 185\n",
       "186. 186\n",
       "187. 187\n",
       "188. 188\n",
       "189. 189\n",
       "190. 190\n",
       "191. 191\n",
       "192. 192\n",
       "193. 193\n",
       "194. 194\n",
       "195. 195\n",
       "196. 196\n",
       "197. 197\n",
       "198. 198\n",
       "199. 199\n",
       "200. 200\n",
       "201. 201\n",
       "202. 202\n",
       "203. 203\n",
       "204. 204\n",
       "205. 205\n",
       "206. 206\n",
       "207. 207\n",
       "208. 208\n",
       "209. 209\n",
       "210. 210\n",
       "211. 211\n",
       "212. 212\n",
       "213. 213\n",
       "214. 214\n",
       "215. 215\n",
       "216. 216\n",
       "217. 217\n",
       "218. 218\n",
       "219. 219\n",
       "220. 220\n",
       "221. 221\n",
       "222. 222\n",
       "223. 223\n",
       "224. 224\n",
       "225. 225\n",
       "226. 226\n",
       "227. 227\n",
       "228. 228\n",
       "229. 229\n",
       "230. 230\n",
       "231. 231\n",
       "232. 232\n",
       "233. 233\n",
       "234. 234\n",
       "235. 235\n",
       "236. 236\n",
       "237. 237\n",
       "238. 238\n",
       "239. 239\n",
       "240. 240\n",
       "241. 241\n",
       "242. 242\n",
       "243. 243\n",
       "244. 244\n",
       "245. 245\n",
       "246. 246\n",
       "247. 247\n",
       "248. 248\n",
       "249. 249\n",
       "250. 250\n",
       "\n",
       "\n",
       "\n",
       "$itr\n",
       ":   NULL\n",
       "$val\n",
       ":   NULL\n",
       "$ts\n",
       ":   1. 251\n",
       "2. 252\n",
       "3. 253\n",
       "4. 254\n",
       "5. 255\n",
       "6. 256\n",
       "7. 257\n",
       "\n",
       "\n",
       "\n",
       "\n",
       "\n"
      ],
      "text/plain": [
       "$tr\n",
       "  [1]   1   2   3   4   5   6   7   8   9  10  11  12  13  14  15  16  17  18\n",
       " [19]  19  20  21  22  23  24  25  26  27  28  29  30  31  32  33  34  35  36\n",
       " [37]  37  38  39  40  41  42  43  44  45  46  47  48  49  50  51  52  53  54\n",
       " [55]  55  56  57  58  59  60  61  62  63  64  65  66  67  68  69  70  71  72\n",
       " [73]  73  74  75  76  77  78  79  80  81  82  83  84  85  86  87  88  89  90\n",
       " [91]  91  92  93  94  95  96  97  98  99 100 101 102 103 104 105 106 107 108\n",
       "[109] 109 110 111 112 113 114 115 116 117 118 119 120 121 122 123 124 125 126\n",
       "[127] 127 128 129 130 131 132 133 134 135 136 137 138 139 140 141 142 143 144\n",
       "[145] 145 146 147 148 149 150 151 152 153 154 155 156 157 158 159 160 161 162\n",
       "[163] 163 164 165 166 167 168 169 170 171 172 173 174 175 176 177 178 179 180\n",
       "[181] 181 182 183 184 185 186 187 188 189 190 191 192 193 194 195 196 197 198\n",
       "[199] 199 200 201 202 203 204 205 206 207 208 209 210 211 212 213 214 215 216\n",
       "[217] 217 218 219 220 221 222 223 224 225 226 227 228 229 230 231 232 233 234\n",
       "[235] 235 236 237 238 239 240 241 242 243 244 245 246 247 248 249 250\n",
       "\n",
       "$itr\n",
       "NULL\n",
       "\n",
       "$val\n",
       "NULL\n",
       "\n",
       "$ts\n",
       "[1] 251 252 253 254 255 256 257\n"
      ]
     },
     "metadata": {},
     "output_type": "display_data"
    },
    {
     "name": "stdout",
     "output_type": "stream",
     "text": [
      "Dados de treino:\n",
      "Head:  2332 2801 2375 3447 4823 4978 \n",
      "Length:  250 \n",
      "\n",
      "Dados de teste:\n",
      "Head:  4974 3228 3191 4153 4307 4660 \n",
      "Length:  7"
     ]
    }
   ],
   "source": [
    "# Separação dos índices do dataframe ordenada cronologicamente (porque os dados já estão em ordem cronológica), usando 250\n",
    "# observações para treino e 7 para teste\n",
    "H=holdout(data$all,ratio=7,mode=\"order\")\n",
    "H\n",
    "\n",
    "# Seleção dos dados de Treino\n",
    "train = data[H$tr,]\n",
    "cat(\"Dados de treino:\\n\")\n",
    "cat(\"Head: \", head(train$all),\"\\n\")\n",
    "cat(\"Length: \", length(train$all),\"\\n\\n\")\n",
    "\n",
    "# Seleção dos dados de Teste\n",
    "test = data[H$ts,]\n",
    "cat(\"Dados de teste:\\n\")\n",
    "cat(\"Head: \", head(test$all),\"\\n\")\n",
    "cat(\"Length: \", length(test$all))"
   ]
  },
  {
   "cell_type": "markdown",
   "id": "938330f0",
   "metadata": {},
   "source": [
    "### Modelos de Regressão Multivariados"
   ]
  },
  {
   "cell_type": "markdown",
   "id": "76f34834",
   "metadata": {},
   "source": [
    "#### Random Forest"
   ]
  },
  {
   "cell_type": "code",
   "execution_count": 20,
   "id": "290f915c",
   "metadata": {},
   "outputs": [
    {
     "name": "stderr",
     "output_type": "stream",
     "text": [
      "Warning message in fit(all ~ ., train, model = \"randomForest\"):\n",
      "\"fit failed: Error in randomForest.default(m, y, ...) : \n",
      "  Can not handle categorical predictors with more than 53 categories.\n",
      " fit(x = all ~ ., data = train, model = \"randomForest\")\""
     ]
    },
    {
     "name": "stdout",
     "output_type": "stream",
     "text": [
      "Target Values: 4974 3228 3191 4153 4307 4660 6193 \n"
     ]
    },
    {
     "ename": "ERROR",
     "evalue": "Error in meanf(object, h = h, level = level, fan = fan, lambda = lambda, : unused argument (type = type)\n",
     "output_type": "error",
     "traceback": [
      "Error in meanf(object, h = h, level = level, fan = fan, lambda = lambda, : unused argument (type = type)\nTraceback:\n",
      "1. predict(RF, test)",
      "2. predict(RF, test)",
      "3. .local(object, ...)",
      "4. predict(object@object, newdata, type = type)",
      "5. predict(object@object, newdata, type = type)",
      "6. predict.default(object@object, newdata, type = type)",
      "7. forecast(object, ...)",
      "8. forecast.default(object, ...)",
      "9. forecast.ts(object, ...)"
     ]
    }
   ],
   "source": [
    "RF=fit(all~.,train,model=\"randomForest\")\n",
    "Target = test$all\n",
    "cat(\"Target Values:\",Target,\"\\n\")\n",
    "\n",
    "Pred = predict(RF,test)\n",
    "cat(\"Predictions:\",Pred,\"\\n\")\n",
    "\n",
    "mgraph(Target,Pred,graph=\"REG\",Grid=10,col=c(\"black\",\"blue\"),\n",
    "leg=list(pos=\"topleft\",leg=c(\"target\",\"predictions\")),main=\"Random Forest\")\n",
    "mae=round(mmetric(Target,Pred,metric=\"MAE\"),2)\n",
    "nmae=round(mmetric(Target,Pred,metric=\"NMAE\"),2)\n",
    "cat(\"MAE:\",mae,\"\\n\")\n",
    "cat(\"NMAE:\",nmae,\"\\n\")"
   ]
  },
  {
   "cell_type": "markdown",
   "id": "ad76e730",
   "metadata": {},
   "source": [
    "#### Multiple Linear Regression"
   ]
  },
  {
   "cell_type": "code",
   "execution_count": 21,
   "id": "3c0d7fb5",
   "metadata": {},
   "outputs": [
    {
     "name": "stdout",
     "output_type": "stream",
     "text": [
      "Target Values: 4974 3228 3191 4153 4307 4660 6193 \n",
      "Predictions: 4973.457 3228.28 3190.593 4152.865 4306.277 4660.187 6192.275 \n",
      "MAE: 0.43 \n",
      "NMAE: 0.01 \n"
     ]
    },
    {
     "data": {
      "text/html": [
       "<table>\n",
       "<thead><tr><th scope=col>METRICA_MODELO</th><th scope=col>MR_Simples</th></tr></thead>\n",
       "<tbody>\n",
       "\t<tr><td>MAE </td><td>0.43</td></tr>\n",
       "\t<tr><td>NMAE</td><td>0.01</td></tr>\n",
       "</tbody>\n",
       "</table>\n"
      ],
      "text/latex": [
       "\\begin{tabular}{r|ll}\n",
       " METRICA\\_MODELO & MR\\_Simples\\\\\n",
       "\\hline\n",
       "\t MAE  & 0.43\\\\\n",
       "\t NMAE & 0.01\\\\\n",
       "\\end{tabular}\n"
      ],
      "text/markdown": [
       "\n",
       "| METRICA_MODELO | MR_Simples |\n",
       "|---|---|\n",
       "| MAE  | 0.43 |\n",
       "| NMAE | 0.01 |\n",
       "\n"
      ],
      "text/plain": [
       "  METRICA_MODELO MR_Simples\n",
       "1 MAE            0.43      \n",
       "2 NMAE           0.01      "
      ]
     },
     "metadata": {},
     "output_type": "display_data"
    },
    {
     "data": {
      "image/png": "[encoded data removed]",
      "text/plain": [
       "Plot with title \"Multiple Linear Regression\""
      ]
     },
     "metadata": {},
     "output_type": "display_data"
    }
   ],
   "source": [
    "MR=fit(all~.,train,model=\"mr\")\n",
    "cat(\"Target Values:\",Target,\"\\n\")\n",
    "\n",
    "Pred = predict(MR,test)\n",
    "cat(\"Predictions:\",Pred,\"\\n\")\n",
    "\n",
    "mgraph(Target,Pred,graph=\"REG\",Grid=10,col=c(\"black\",\"blue\"),\n",
    "leg=list(pos=\"topleft\",leg=c(\"target\",\"predictions\")),main=\"Multiple Linear Regression\")\n",
    "\n",
    "# Metricas\n",
    "mae=round(mmetric(Target,Pred,metric=\"MAE\"),2)\n",
    "nmae=round(mmetric(Target,Pred,metric=\"NMAE\"),2)\n",
    "cat(\"MAE:\",round(mmetric(Target,Pred,metric=\"MAE\"),2),\"\\n\")\n",
    "cat(\"NMAE:\",round(mmetric(Target,Pred,metric=\"NMAE\"),2),\"\\n\")"
   ]
  },
  {
   "cell_type": "markdown",
   "id": "9a04697d",
   "metadata": {},
   "source": [
    "#### KSVM"
   ]
  },
  {
   "cell_type": "code",
   "execution_count": 512,
   "id": "c134b8d9",
   "metadata": {},
   "outputs": [
    {
     "name": "stdout",
     "output_type": "stream",
     "text": [
      "Target Values: 4974 3228 3191 4153 4307 4660 6193 \n",
      "Predictions: 3665.982 4028.064 3091.614 3316.601 2719.406 3747.76 3692.589 \n",
      "MAE: 1149.16 \n",
      "NMAE: 38.28 \n"
     ]
    },
    {
     "data": {
      "text/html": [
       "<table>\n",
       "<thead><tr><th scope=col>METRICA_MODELO</th><th scope=col>randomForest_simples</th><th scope=col>MR_Simples</th><th scope=col>KSVM_simples</th></tr></thead>\n",
       "<tbody>\n",
       "\t<tr><td>MAE    </td><td>1080.96</td><td>1568.75</td><td>1149.16</td></tr>\n",
       "\t<tr><td>NMAE   </td><td>  36.01</td><td>  52.26</td><td>  38.28</td></tr>\n",
       "</tbody>\n",
       "</table>\n"
      ],
      "text/latex": [
       "\\begin{tabular}{r|llll}\n",
       " METRICA\\_MODELO & randomForest\\_simples & MR\\_Simples & KSVM\\_simples\\\\\n",
       "\\hline\n",
       "\t MAE     & 1080.96 & 1568.75 & 1149.16\\\\\n",
       "\t NMAE    &   36.01 &   52.26 &   38.28\\\\\n",
       "\\end{tabular}\n"
      ],
      "text/markdown": [
       "\n",
       "| METRICA_MODELO | randomForest_simples | MR_Simples | KSVM_simples |\n",
       "|---|---|---|---|\n",
       "| MAE     | 1080.96 | 1568.75 | 1149.16 |\n",
       "| NMAE    |   36.01 |   52.26 |   38.28 |\n",
       "\n"
      ],
      "text/plain": [
       "  METRICA_MODELO randomForest_simples MR_Simples KSVM_simples\n",
       "1 MAE            1080.96              1568.75    1149.16     \n",
       "2 NMAE             36.01                52.26      38.28     "
      ]
     },
     "metadata": {},
     "output_type": "display_data"
    },
    {
     "data": {
      "image/png": "[encoded data removed]",
      "text/plain": [
       "Plot with title \"KSVM\""
      ]
     },
     "metadata": {},
     "output_type": "display_data"
    }
   ],
   "source": [
    "MR=fit(all~.,train,model=\"ksvm\")\n",
    "cat(\"Target Values:\",Target,\"\\n\")\n",
    "\n",
    "Pred = predict(MR,test)\n",
    "cat(\"Predictions:\",Pred,\"\\n\")\n",
    "\n",
    "mgraph(Target,Pred,graph=\"REG\",Grid=10,col=c(\"black\",\"blue\"),\n",
    "leg=list(pos=\"topleft\",leg=c(\"target\",\"predictions\")),main=\"KSVM\")\n",
    "\n",
    "# Metricas\n",
    "mae=round(mmetric(Target,Pred,metric=\"MAE\"),2)\n",
    "nmae=round(mmetric(Target,Pred,metric=\"NMAE\"),2)\n",
    "cat(\"MAE:\",round(mmetric(Target,Pred,metric=\"MAE\"),2),\"\\n\")\n",
    "cat(\"NMAE:\",round(mmetric(Target,Pred,metric=\"NMAE\"),2),\"\\n\")"
   ]
  },
  {
   "cell_type": "markdown",
   "id": "2d3ed20e",
   "metadata": {},
   "source": [
    "#### MLPE"
   ]
  },
  {
   "cell_type": "code",
   "execution_count": 513,
   "id": "63fa4736",
   "metadata": {},
   "outputs": [
    {
     "name": "stdout",
     "output_type": "stream",
     "text": [
      "Target Values: 4974 3228 3191 4153 4307 4660 6193 \n",
      "Predictions: 3874.579 3874.579 2832.758 3874.579 2832.322 4028.086 4028.086 \n",
      "MAE: 950.6 \n",
      "NMAE: 31.67 \n"
     ]
    },
    {
     "data": {
      "text/html": [
       "<table>\n",
       "<thead><tr><th scope=col>METRICA_MODELO</th><th scope=col>randomForest_simples</th><th scope=col>MR_Simples</th><th scope=col>KSVM_simples</th><th scope=col>MLPE_simples</th></tr></thead>\n",
       "<tbody>\n",
       "\t<tr><td>MAE    </td><td>1080.96</td><td>1568.75</td><td>1149.16</td><td>950.60 </td></tr>\n",
       "\t<tr><td>NMAE   </td><td>  36.01</td><td>  52.26</td><td>  38.28</td><td> 31.67 </td></tr>\n",
       "</tbody>\n",
       "</table>\n"
      ],
      "text/latex": [
       "\\begin{tabular}{r|lllll}\n",
       " METRICA\\_MODELO & randomForest\\_simples & MR\\_Simples & KSVM\\_simples & MLPE\\_simples\\\\\n",
       "\\hline\n",
       "\t MAE     & 1080.96 & 1568.75 & 1149.16 & 950.60 \\\\\n",
       "\t NMAE    &   36.01 &   52.26 &   38.28 &  31.67 \\\\\n",
       "\\end{tabular}\n"
      ],
      "text/markdown": [
       "\n",
       "| METRICA_MODELO | randomForest_simples | MR_Simples | KSVM_simples | MLPE_simples |\n",
       "|---|---|---|---|---|\n",
       "| MAE     | 1080.96 | 1568.75 | 1149.16 | 950.60  |\n",
       "| NMAE    |   36.01 |   52.26 |   38.28 |  31.67  |\n",
       "\n"
      ],
      "text/plain": [
       "  METRICA_MODELO randomForest_simples MR_Simples KSVM_simples MLPE_simples\n",
       "1 MAE            1080.96              1568.75    1149.16      950.60      \n",
       "2 NMAE             36.01                52.26      38.28       31.67      "
      ]
     },
     "metadata": {},
     "output_type": "display_data"
    },
    {
     "data": {
      "image/png": "[encoded data removed]",
      "text/plain": [
       "Plot with title \"MLPE\""
      ]
     },
     "metadata": {},
     "output_type": "display_data"
    }
   ],
   "source": [
    "MR=fit(all~.,train,model=\"mlpe\")\n",
    "cat(\"Target Values:\",Target,\"\\n\")\n",
    "\n",
    "Pred = predict(MR,test)\n",
    "cat(\"Predictions:\",Pred,\"\\n\")\n",
    "\n",
    "mgraph(Target,Pred,graph=\"REG\",Grid=10,col=c(\"black\",\"blue\"),\n",
    "leg=list(pos=\"topleft\",leg=c(\"target\",\"predictions\")),main=\"MLPE\")\n",
    "\n",
    "# Metricas\n",
    "mae=round(mmetric(Target,Pred,metric=\"MAE\"),2)\n",
    "nmae=round(mmetric(Target,Pred,metric=\"NMAE\"),2)\n",
    "cat(\"MAE:\",mae,\"\\n\")\n",
    "cat(\"NMAE:\",nmae,\"\\n\")\n",
    "\n",
    "# Guardar os Resultados\n",
    "nomeModelo = \"MLPE_simples\"\n",
    "resdf[nomeModelo] = c(mae,nmae)\n",
    "resdf"
   ]
  },
  {
   "cell_type": "markdown",
   "id": "50cab011",
   "metadata": {},
   "source": [
    "### Multivariate Regression (Window Training)"
   ]
  },
  {
   "cell_type": "markdown",
   "id": "823ed986",
   "metadata": {},
   "source": [
    "### Growing Window"
   ]
  },
  {
   "cell_type": "code",
   "execution_count": 30,
   "id": "032ab5e9",
   "metadata": {},
   "outputs": [
    {
     "name": "stdout",
     "output_type": "stream",
     "text": [
      "\n",
      " Mean MAE( lm ) : 654.96 \n",
      "Mean NMAE( lm ) : 4.26 \n",
      "-------------------------------------------------------------\n",
      " Mean MAE( mlpe ) : 609.16 \n",
      "Mean NMAE( mlpe ) : 3.97 \n",
      "-------------------------------------------------------------\n",
      " Mean MAE( naive ) : 630.2 \n",
      "Mean NMAE( naive ) : 4.1 \n",
      "-------------------------------------------------------------\n",
      " Mean MAE( ctree ) : 578.98 \n",
      "Mean NMAE( ctree ) : 3.77 \n",
      "-------------------------------------------------------------\n",
      " Mean MAE( mlp ) : 643.62 \n",
      "Mean NMAE( mlp ) : 4.19 \n",
      "-------------------------------------------------------------\n",
      " Mean MAE( randomForest ) : 613.58 \n",
      "Mean NMAE( randomForest ) : 3.99 \n",
      "-------------------------------------------------------------\n",
      " Mean MAE( mr ) : 654.96 \n",
      "Mean NMAE( mr ) : 4.26 \n",
      "-------------------------------------------------------------\n",
      " Mean MAE( rvm ) : 777.41 \n",
      "Mean NMAE( rvm ) : 5.06 \n",
      "-------------------------------------------------------------\n",
      " Mean MAE( ksvm ) : 629.48 \n",
      "Mean NMAE( ksvm ) : 4.1 \n",
      "-------------------------------------------------------------"
     ]
    }
   ],
   "source": [
    "# Create Dataframe for Result Storage\n",
    "resdf <- data.frame(matrix(ncol = 4, nrow = 0))\n",
    "# Name the Columns\n",
    "colnames(resdf) <- c('window','model','mae','nmae')\n",
    "\n",
    "window = \"incremental\"\n",
    "d1 = data[,1] #coluna all\n",
    "L = length(d1)\n",
    "K=7\n",
    "\n",
    "Test=7 # H, the number of multi-ahead steps, adjust if needed\n",
    "S=7 # step jump: set in this case to 4 months, a quarter\n",
    "Runs=10 # number of growing window iterations, adjust if needed\n",
    "\n",
    "W2=W-max(timelags) # initial training window size for the D space (CasesSeries, rminer methods)\n",
    "W=(length(data[,1])-Test)-(Runs-1)*S # initial training window size for the ts space (forecast methods)\n",
    "\n",
    "# Vetor de Modelos\n",
    "models <- c(\"lm\",\"mlpe\",\"naive\",\"ctree\",\"mlp\",\"randomForest\",\"mr\",\"rvm\",\"ksvm\")\n",
    "\n",
    "\n",
    "for (x in 1:length(models)){\n",
    "    ev=vector(length=Runs)\n",
    "    evn=vector(length=Runs)\n",
    "    for (b in 1:Runs) {\n",
    "        H = holdout(data[,1], ratio=Test, mode=window, iter=b, window=W, increment=S)\n",
    "        # Mudar aqui\n",
    "        M=fit(female~.,data[H$tr,],model=models[x])\n",
    "        Pred=predict(M,data[H$ts,])\n",
    "        ev[b]=mmetric(data[,1][H$ts],Pred,\"MAE\",val=YR)\n",
    "        evn[b]=mmetric(data[,1][H$ts],Pred,\"NMAE\",val=YR)\n",
    "    }\n",
    "    mae = round(mean(ev),digits=2)\n",
    "    nmae = round(mean(evn),digits=2)\n",
    "    cat(\"\\n Mean MAE(\",models[x],\") :\",mae,\"\\n\")\n",
    "    cat(\"Mean NMAE(\",models[x],\") :\",nmae,\"\\n\")\n",
    "    cat(\"-------------------------------------------------------------\")\n",
    "    \n",
    "    # Save Results to the res Dataframe\n",
    "    resdf[nrow(resdf) + 1,] = c(window,models[x],mae,nmae) \n",
    "}"
   ]
  },
  {
   "cell_type": "markdown",
   "id": "4bbd075b",
   "metadata": {},
   "source": [
    "### Rolling Window"
   ]
  },
  {
   "cell_type": "code",
   "execution_count": 31,
   "id": "ef4a5712",
   "metadata": {},
   "outputs": [
    {
     "name": "stdout",
     "output_type": "stream",
     "text": [
      "848.9912  528.3707  336.637  458.2269  845.02  463.2318  521.3746  554.0809  1056.574  595.7501  \n",
      " Mean MAE( lm ) : 620.83 \n",
      "Mean NMAE( lm ) : 4.04 \n",
      "-------------------------------------------------------------714.6043  630.2942  346.1772  352.4793  872.3801  400.2828  554.1029  465.9408  1080.922  454.1063  \n",
      " Mean MAE( mlpe ) : 587.13 \n",
      "Mean NMAE( mlpe ) : 3.82 \n",
      "-------------------------------------------------------------722.3697  638.4186  642.2857  451.3201  859  513.0267  640.9641  376.5241  1027.108  457.4935  \n",
      " Mean MAE( naive ) : 632.85 \n",
      "Mean NMAE( naive ) : 4.12 \n",
      "-------------------------------------------------------------743.0421  445.601  401.9687  314.6004  657.4987  385.237  592.9568  424.8797  1095.608  457.4935  \n",
      " Mean MAE( ctree ) : 551.89 \n",
      "Mean NMAE( ctree ) : 3.59 \n",
      "-------------------------------------------------------------735.397  403.502  364.0181  325.7532  788.6659  376.3277  588.5779  500.9237  1022.96  514.9712  \n",
      " Mean MAE( mlp ) : 562.11 \n",
      "Mean NMAE( mlp ) : 3.66 \n",
      "-------------------------------------------------------------904.8279  532.2005  498.4781  422.7285  756.5317  361.4686  647.3831  388.5144  1064.032  458.8281  \n",
      " Mean MAE( randomForest ) : 603.5 \n",
      "Mean NMAE( randomForest ) : 3.93 \n",
      "-------------------------------------------------------------848.9911  528.3707  336.637  458.2269  845.02  463.2317  521.3746  554.0801  1056.574  595.7501  \n",
      " Mean MAE( mr ) : 620.83 \n",
      "Mean NMAE( mr ) : 4.04 \n",
      "-------------------------------------------------------------1372.961  633.3454  621.6297  527.72  923.686  747.0605  951.7447  1026.178  1246.276  807.1309  \n",
      " Mean MAE( rvm ) : 885.77 \n",
      "Mean NMAE( rvm ) : 5.77 \n",
      "-------------------------------------------------------------875.4118  693.0208  191.1506  465.0361  753.9595  440.5127  580.1707  667.5921  1192.238  462.9961  \n",
      " Mean MAE( ksvm ) : 632.21 \n",
      "Mean NMAE( ksvm ) : 4.12 \n",
      "-------------------------------------------------------------"
     ]
    }
   ],
   "source": [
    "# Reset dos vetores das métricas\n",
    "ev=vector(length=Runs)\n",
    "evn=vector(length=Runs)\n",
    "\n",
    "window = \"rolling\"\n",
    "for (x in 1:length(models)){\n",
    "    for (b in 1:Runs) {\n",
    "        H = holdout(data[,1], ratio=Test, mode=window, iter=b, window=W, increment=S)\n",
    "        # Mudar Aqui\n",
    "        M=fit(female~.,data[H$tr,],model=models[x])\n",
    "        Pred=predict(M,data[H$ts,])\n",
    "        ev[b]=mmetric(data[,1][H$ts],Pred,\"MAE\",val=YR)\n",
    "        evn[b]=mmetric(data[,1][H$ts],Pred,\"NMAE\",val=YR)\n",
    "        cat(mmetric(data[,1][H$ts],Pred,\"MAE\",val=YR),\" \")\n",
    "    }\n",
    "    cat(\"\\n Mean MAE(\",models[x],\") :\",round(mean(ev),digits=2),\"\\n\")\n",
    "    cat(\"Mean NMAE(\",models[x],\") :\",round(mean(evn),digits=2),\"\\n\")\n",
    "    cat(\"-------------------------------------------------------------\")\n",
    "    \n",
    "    # Save Results to the res Dataframe\n",
    "    resdf[nrow(resdf) + 1,] = c(window,models[x],mae,nmae) \n",
    "}"
   ]
  },
  {
   "cell_type": "code",
   "execution_count": 32,
   "id": "262da27c",
   "metadata": {},
   "outputs": [
    {
     "data": {
      "text/html": [
       "<table>\n",
       "<thead><tr><th scope=col>window</th><th scope=col>model</th><th scope=col>mae</th><th scope=col>nmae</th></tr></thead>\n",
       "<tbody>\n",
       "\t<tr><td>incremental </td><td>lm          </td><td>654.96      </td><td>4.26        </td></tr>\n",
       "\t<tr><td>incremental </td><td>mlpe        </td><td>609.16      </td><td>3.97        </td></tr>\n",
       "\t<tr><td>incremental </td><td>naive       </td><td>630.2       </td><td>4.1         </td></tr>\n",
       "\t<tr><td>incremental </td><td>ctree       </td><td>578.98      </td><td>3.77        </td></tr>\n",
       "\t<tr><td>incremental </td><td>mlp         </td><td>643.62      </td><td>4.19        </td></tr>\n",
       "\t<tr><td>incremental </td><td>randomForest</td><td>613.58      </td><td>3.99        </td></tr>\n",
       "</tbody>\n",
       "</table>\n"
      ],
      "text/latex": [
       "\\begin{tabular}{r|llll}\n",
       " window & model & mae & nmae\\\\\n",
       "\\hline\n",
       "\t incremental  & lm           & 654.96       & 4.26        \\\\\n",
       "\t incremental  & mlpe         & 609.16       & 3.97        \\\\\n",
       "\t incremental  & naive        & 630.2        & 4.1         \\\\\n",
       "\t incremental  & ctree        & 578.98       & 3.77        \\\\\n",
       "\t incremental  & mlp          & 643.62       & 4.19        \\\\\n",
       "\t incremental  & randomForest & 613.58       & 3.99        \\\\\n",
       "\\end{tabular}\n"
      ],
      "text/markdown": [
       "\n",
       "| window | model | mae | nmae |\n",
       "|---|---|---|---|\n",
       "| incremental  | lm           | 654.96       | 4.26         |\n",
       "| incremental  | mlpe         | 609.16       | 3.97         |\n",
       "| incremental  | naive        | 630.2        | 4.1          |\n",
       "| incremental  | ctree        | 578.98       | 3.77         |\n",
       "| incremental  | mlp          | 643.62       | 4.19         |\n",
       "| incremental  | randomForest | 613.58       | 3.99         |\n",
       "\n"
      ],
      "text/plain": [
       "  window      model        mae    nmae\n",
       "1 incremental lm           654.96 4.26\n",
       "2 incremental mlpe         609.16 3.97\n",
       "3 incremental naive        630.2  4.1 \n",
       "4 incremental ctree        578.98 3.77\n",
       "5 incremental mlp          643.62 4.19\n",
       "6 incremental randomForest 613.58 3.99"
      ]
     },
     "metadata": {},
     "output_type": "display_data"
    }
   ],
   "source": [
    "head(resdf)"
   ]
  },
  {
   "cell_type": "code",
   "execution_count": 33,
   "id": "fd8f0542",
   "metadata": {},
   "outputs": [
    {
     "name": "stdout",
     "output_type": "stream",
     "text": [
      "Melhor Valor para MAE:  578.98"
     ]
    },
    {
     "data": {
      "text/html": [
       "<table>\n",
       "<thead><tr><th></th><th scope=col>window</th><th scope=col>model</th><th scope=col>mae</th><th scope=col>nmae</th></tr></thead>\n",
       "<tbody>\n",
       "\t<tr><th scope=row>4</th><td>incremental</td><td>ctree      </td><td>578.98     </td><td>3.77       </td></tr>\n",
       "</tbody>\n",
       "</table>\n"
      ],
      "text/latex": [
       "\\begin{tabular}{r|llll}\n",
       "  & window & model & mae & nmae\\\\\n",
       "\\hline\n",
       "\t4 & incremental & ctree       & 578.98      & 3.77       \\\\\n",
       "\\end{tabular}\n"
      ],
      "text/markdown": [
       "\n",
       "| <!--/--> | window | model | mae | nmae |\n",
       "|---|---|---|---|---|\n",
       "| 4 | incremental | ctree       | 578.98      | 3.77        |\n",
       "\n"
      ],
      "text/plain": [
       "  window      model mae    nmae\n",
       "4 incremental ctree 578.98 3.77"
      ]
     },
     "metadata": {},
     "output_type": "display_data"
    },
    {
     "name": "stdout",
     "output_type": "stream",
     "text": [
      "Melhor Valor para NMAE:  3.77"
     ]
    },
    {
     "data": {
      "text/html": [
       "<table>\n",
       "<thead><tr><th></th><th scope=col>window</th><th scope=col>model</th><th scope=col>mae</th><th scope=col>nmae</th></tr></thead>\n",
       "<tbody>\n",
       "\t<tr><th scope=row>4</th><td>incremental</td><td>ctree      </td><td>578.98     </td><td>3.77       </td></tr>\n",
       "</tbody>\n",
       "</table>\n"
      ],
      "text/latex": [
       "\\begin{tabular}{r|llll}\n",
       "  & window & model & mae & nmae\\\\\n",
       "\\hline\n",
       "\t4 & incremental & ctree       & 578.98      & 3.77       \\\\\n",
       "\\end{tabular}\n"
      ],
      "text/markdown": [
       "\n",
       "| <!--/--> | window | model | mae | nmae |\n",
       "|---|---|---|---|---|\n",
       "| 4 | incremental | ctree       | 578.98      | 3.77        |\n",
       "\n"
      ],
      "text/plain": [
       "  window      model mae    nmae\n",
       "4 incremental ctree 578.98 3.77"
      ]
     },
     "metadata": {},
     "output_type": "display_data"
    },
    {
     "name": "stdout",
     "output_type": "stream",
     "text": [
      "CSV saved in ./resultados/Cenario 1/Modelos Multivariados/TS2.csv"
     ]
    }
   ],
   "source": [
    "# Lowest MAE Value in Hibrid Modeling\n",
    "lowestmae = min(as.numeric(resdf[,3]))\n",
    "cat(\"Melhor Valor para MAE: \", lowestmae)\n",
    "# Encontrar as linhas que possuem o menor valor para MAE\n",
    "resdf[resdf$mae %in%lowestmae,]\n",
    "\n",
    "# Lowest NMAE Value in Hibrid Modeling\n",
    "lowestnmae = min(as.numeric(resdf[,4]))\n",
    "cat(\"Melhor Valor para NMAE: \", lowestnmae)\n",
    "# Encontrar as linhas que possuem o menor valor para NMAE\n",
    "resdf[resdf$nmae %in% lowestnmae,]\n",
    "\n",
    "\n",
    "# Save the Results\n",
    "saveResults('1',\"m\",'2')"
   ]
  },
  {
   "cell_type": "markdown",
   "id": "d359f9ab",
   "metadata": {},
   "source": [
    "### Time Series Forecast"
   ]
  },
  {
   "cell_type": "code",
   "execution_count": 525,
   "id": "29434316",
   "metadata": {
    "scrolled": true
   },
   "outputs": [],
   "source": [
    "TS = data$all\n",
    "\n",
    "K=7 # TS period (daily)\n",
    "\n",
    "L=length(TS)\n",
    "NTS=K # number of predictions (7)\n",
    "H=NTS # from 1 to H ahead predictions (7)\n",
    "LTR=L-H\n",
    "# according to the ts function documentation: frequency=7 assumes daily data, frequency=4 or 12 assumes quarterly and monthly data\n",
    "TR=ts(TS[1:LTR],frequency=K)\n",
    "\n",
    "# target predictions:\n",
    "Y=TS[(LTR+1):L]"
   ]
  },
  {
   "cell_type": "markdown",
   "id": "99943907",
   "metadata": {},
   "source": [
    "### TSF Neural Network Rminer"
   ]
  },
  {
   "cell_type": "code",
   "execution_count": 526,
   "id": "5f3bab93",
   "metadata": {},
   "outputs": [
    {
     "name": "stdout",
     "output_type": "stream",
     "text": [
      "      lag7           lag6           lag5           lag4           lag3     \n",
      " Min.   : 375   Min.   : 375   Min.   : 375   Min.   : 375   Min.   : 375  \n",
      " 1st Qu.:2564   1st Qu.:2565   1st Qu.:2565   1st Qu.:2578   1st Qu.:2578  \n",
      " Median :3625   Median :3636   Median :3636   Median :3636   Median :3646  \n",
      " Mean   :3421   Mean   :3432   Mean   :3434   Mean   :3437   Mean   :3440  \n",
      " 3rd Qu.:4140   3rd Qu.:4165   3rd Qu.:4165   3rd Qu.:4165   3rd Qu.:4166  \n",
      " Max.   :6165   Max.   :6165   Max.   :6165   Max.   :6165   Max.   :6165  \n",
      "      lag2           lag1            y       \n",
      " Min.   : 375   Min.   : 375   Min.   : 375  \n",
      " 1st Qu.:2578   1st Qu.:2578   1st Qu.:2578  \n",
      " Median :3646   Median :3646   Median :3648  \n",
      " Mean   :3438   Mean   :3436   Mean   :3450  \n",
      " 3rd Qu.:4166   3rd Qu.:4166   3rd Qu.:4172  \n",
      " Max.   :6165   Max.   :6165   Max.   :6193  \n",
      "[1] 4017.818 3834.002 3110.957 3010.858 3754.739 3853.213 3619.753\n",
      "MAE: 959.5233 \n",
      "NMAE: 31.9628 \n"
     ]
    },
    {
     "data": {
      "text/html": [
       "<table>\n",
       "<thead><tr><th scope=col>METRICA_MODELO</th><th scope=col>randomForest_simples</th><th scope=col>MR_Simples</th><th scope=col>KSVM_simples</th><th scope=col>MLPE_simples</th><th scope=col>MLPE_CasesSeries</th><th scope=col>MLPE_GW</th><th scope=col>HW_GW</th><th scope=col>Arima_GW</th><th scope=col>NN_GW</th><th scope=col>RandomForest_GW</th><th scope=col>MLPE_RW</th><th scope=col>HW_RW</th><th scope=col>Arima_RW</th><th scope=col>NN_RW</th><th scope=col>RandomForest_RW</th><th scope=col>MLPE_TSF_rminer</th></tr></thead>\n",
       "<tbody>\n",
       "\t<tr><td>MAE       </td><td>1080.96   </td><td>1568.75   </td><td>1149.16   </td><td>950.60    </td><td>803.67364 </td><td>835.67010 </td><td>479.448223</td><td>749.38064 </td><td>699.46488 </td><td>657.1372  </td><td>718.7323  </td><td>527.033846</td><td>648.42601 </td><td>950.89709 </td><td>657.1372  </td><td>959.5233  </td></tr>\n",
       "\t<tr><td>NMAE      </td><td>  36.01   </td><td>  52.26   </td><td>  38.28   </td><td> 31.67    </td><td> 26.77127 </td><td> 14.36353 </td><td>  8.240774</td><td> 12.88038 </td><td> 12.02243 </td><td> 11.2949  </td><td> 12.3536  </td><td>  9.058677</td><td> 11.14517 </td><td> 16.34405 </td><td> 11.2949  </td><td> 31.9628  </td></tr>\n",
       "</tbody>\n",
       "</table>\n"
      ],
      "text/latex": [
       "\\begin{tabular}{r|lllllllllllllllll}\n",
       " METRICA\\_MODELO & randomForest\\_simples & MR\\_Simples & KSVM\\_simples & MLPE\\_simples & MLPE\\_CasesSeries & MLPE\\_GW & HW\\_GW & Arima\\_GW & NN\\_GW & RandomForest\\_GW & MLPE\\_RW & HW\\_RW & Arima\\_RW & NN\\_RW & RandomForest\\_RW & MLPE\\_TSF\\_rminer\\\\\n",
       "\\hline\n",
       "\t MAE        & 1080.96    & 1568.75    & 1149.16    & 950.60     & 803.67364  & 835.67010  & 479.448223 & 749.38064  & 699.46488  & 657.1372   & 718.7323   & 527.033846 & 648.42601  & 950.89709  & 657.1372   & 959.5233  \\\\\n",
       "\t NMAE       &   36.01    &   52.26    &   38.28    &  31.67     &  26.77127  &  14.36353  &   8.240774 &  12.88038  &  12.02243  &  11.2949   &  12.3536   &   9.058677 &  11.14517  &  16.34405  &  11.2949   &  31.9628  \\\\\n",
       "\\end{tabular}\n"
      ],
      "text/markdown": [
       "\n",
       "| METRICA_MODELO | randomForest_simples | MR_Simples | KSVM_simples | MLPE_simples | MLPE_CasesSeries | MLPE_GW | HW_GW | Arima_GW | NN_GW | RandomForest_GW | MLPE_RW | HW_RW | Arima_RW | NN_RW | RandomForest_RW | MLPE_TSF_rminer |\n",
       "|---|---|---|---|---|---|---|---|---|---|---|---|---|---|---|---|---|\n",
       "| MAE        | 1080.96    | 1568.75    | 1149.16    | 950.60     | 803.67364  | 835.67010  | 479.448223 | 749.38064  | 699.46488  | 657.1372   | 718.7323   | 527.033846 | 648.42601  | 950.89709  | 657.1372   | 959.5233   |\n",
       "| NMAE       |   36.01    |   52.26    |   38.28    |  31.67     |  26.77127  |  14.36353  |   8.240774 |  12.88038  |  12.02243  |  11.2949   |  12.3536   |   9.058677 |  11.14517  |  16.34405  |  11.2949   |  31.9628   |\n",
       "\n"
      ],
      "text/plain": [
       "  METRICA_MODELO randomForest_simples MR_Simples KSVM_simples MLPE_simples\n",
       "1 MAE            1080.96              1568.75    1149.16      950.60      \n",
       "2 NMAE             36.01                52.26      38.28       31.67      \n",
       "  MLPE_CasesSeries MLPE_GW   HW_GW      Arima_GW  NN_GW     RandomForest_GW\n",
       "1 803.67364        835.67010 479.448223 749.38064 699.46488 657.1372       \n",
       "2  26.77127         14.36353   8.240774  12.88038  12.02243  11.2949       \n",
       "  MLPE_RW  HW_RW      Arima_RW  NN_RW     RandomForest_RW MLPE_TSF_rminer\n",
       "1 718.7323 527.033846 648.42601 950.89709 657.1372        959.5233       \n",
       "2  12.3536   9.058677  11.14517  16.34405  11.2949         31.9628       "
      ]
     },
     "metadata": {},
     "output_type": "display_data"
    },
    {
     "data": {
      "image/png": "[encoded data removed]",
      "text/plain": [
       "Plot with title \"\""
      ]
     },
     "metadata": {},
     "output_type": "display_data"
    }
   ],
   "source": [
    "# neural network modeling, via rminer:\n",
    "d=CasesSeries(TS,c(1:7)) # data.frame from time series (domain knowledge for the 1,12,13 time lag selection)\n",
    "print(summary(d))\n",
    "LD=nrow(d) # note: LD < L\n",
    "hd=holdout(d$y,ratio=NTS,mode=\"order\")\n",
    "NN2=fit(y~.,d[hd$tr,],model=\"mlpe\")\n",
    "init=hd$ts[1] # or same as: init=LD-H+1\n",
    "F5=lforecast(NN2,d,start=hd$ts[1],horizon=H)\n",
    "print(F5)\n",
    "Pred5=F5\n",
    "mgraph(Y,Pred5,graph=\"REG\",Grid=10,col=c(\"black\",\"blue\"),leg=list(pos=\"topleft\",leg=c(\"target\",\"NN2 pred.\")))\n",
    "\n",
    "\n",
    "mae = mmetric(Y,Pred5,metric=\"MAE\")\n",
    "nmae = mmetric(Y,Pred5,metric=\"NMAE\")\n",
    "\n",
    "# Metricas\n",
    "cat(\"MAE:\",mae,\"\\n\")\n",
    "cat(\"NMAE:\",nmae,\"\\n\")\n",
    "\n",
    "# Guardar os Resultados\n",
    "nomeModelo = \"MLPE_TSF_rminer\"\n",
    "resdf[nomeModelo] = c(mae,nmae)\n",
    "resdf"
   ]
  },
  {
   "cell_type": "markdown",
   "id": "3791f234",
   "metadata": {},
   "source": [
    "### TSF Random Forest RMiner"
   ]
  },
  {
   "cell_type": "code",
   "execution_count": 527,
   "id": "f5c2700d",
   "metadata": {},
   "outputs": [
    {
     "name": "stdout",
     "output_type": "stream",
     "text": [
      "[1] 3692.319 3147.268 2957.921 3178.845 3482.247 3573.180 3587.100\n",
      "MAE: 1012.446 \n",
      "NMAE: 33.7257 \n"
     ]
    },
    {
     "data": {
      "text/html": [
       "<table>\n",
       "<thead><tr><th scope=col>METRICA_MODELO</th><th scope=col>randomForest_simples</th><th scope=col>MR_Simples</th><th scope=col>KSVM_simples</th><th scope=col>MLPE_simples</th><th scope=col>MLPE_CasesSeries</th><th scope=col>MLPE_GW</th><th scope=col>HW_GW</th><th scope=col>Arima_GW</th><th scope=col>NN_GW</th><th scope=col>RandomForest_GW</th><th scope=col>MLPE_RW</th><th scope=col>HW_RW</th><th scope=col>Arima_RW</th><th scope=col>NN_RW</th><th scope=col>RandomForest_RW</th><th scope=col>MLPE_TSF_rminer</th><th scope=col>RF_TSF_rminer</th></tr></thead>\n",
       "<tbody>\n",
       "\t<tr><td>MAE       </td><td>1080.96   </td><td>1568.75   </td><td>1149.16   </td><td>950.60    </td><td>803.67364 </td><td>835.67010 </td><td>479.448223</td><td>749.38064 </td><td>699.46488 </td><td>657.1372  </td><td>718.7323  </td><td>527.033846</td><td>648.42601 </td><td>950.89709 </td><td>657.1372  </td><td>959.5233  </td><td>1012.4455 </td></tr>\n",
       "\t<tr><td>NMAE      </td><td>  36.01   </td><td>  52.26   </td><td>  38.28   </td><td> 31.67    </td><td> 26.77127 </td><td> 14.36353 </td><td>  8.240774</td><td> 12.88038 </td><td> 12.02243 </td><td> 11.2949  </td><td> 12.3536  </td><td>  9.058677</td><td> 11.14517 </td><td> 16.34405 </td><td> 11.2949  </td><td> 31.9628  </td><td>  33.7257 </td></tr>\n",
       "</tbody>\n",
       "</table>\n"
      ],
      "text/latex": [
       "\\begin{tabular}{r|llllllllllllllllll}\n",
       " METRICA\\_MODELO & randomForest\\_simples & MR\\_Simples & KSVM\\_simples & MLPE\\_simples & MLPE\\_CasesSeries & MLPE\\_GW & HW\\_GW & Arima\\_GW & NN\\_GW & RandomForest\\_GW & MLPE\\_RW & HW\\_RW & Arima\\_RW & NN\\_RW & RandomForest\\_RW & MLPE\\_TSF\\_rminer & RF\\_TSF\\_rminer\\\\\n",
       "\\hline\n",
       "\t MAE        & 1080.96    & 1568.75    & 1149.16    & 950.60     & 803.67364  & 835.67010  & 479.448223 & 749.38064  & 699.46488  & 657.1372   & 718.7323   & 527.033846 & 648.42601  & 950.89709  & 657.1372   & 959.5233   & 1012.4455 \\\\\n",
       "\t NMAE       &   36.01    &   52.26    &   38.28    &  31.67     &  26.77127  &  14.36353  &   8.240774 &  12.88038  &  12.02243  &  11.2949   &  12.3536   &   9.058677 &  11.14517  &  16.34405  &  11.2949   &  31.9628   &   33.7257 \\\\\n",
       "\\end{tabular}\n"
      ],
      "text/markdown": [
       "\n",
       "| METRICA_MODELO | randomForest_simples | MR_Simples | KSVM_simples | MLPE_simples | MLPE_CasesSeries | MLPE_GW | HW_GW | Arima_GW | NN_GW | RandomForest_GW | MLPE_RW | HW_RW | Arima_RW | NN_RW | RandomForest_RW | MLPE_TSF_rminer | RF_TSF_rminer |\n",
       "|---|---|---|---|---|---|---|---|---|---|---|---|---|---|---|---|---|---|\n",
       "| MAE        | 1080.96    | 1568.75    | 1149.16    | 950.60     | 803.67364  | 835.67010  | 479.448223 | 749.38064  | 699.46488  | 657.1372   | 718.7323   | 527.033846 | 648.42601  | 950.89709  | 657.1372   | 959.5233   | 1012.4455  |\n",
       "| NMAE       |   36.01    |   52.26    |   38.28    |  31.67     |  26.77127  |  14.36353  |   8.240774 |  12.88038  |  12.02243  |  11.2949   |  12.3536   |   9.058677 |  11.14517  |  16.34405  |  11.2949   |  31.9628   |   33.7257  |\n",
       "\n"
      ],
      "text/plain": [
       "  METRICA_MODELO randomForest_simples MR_Simples KSVM_simples MLPE_simples\n",
       "1 MAE            1080.96              1568.75    1149.16      950.60      \n",
       "2 NMAE             36.01                52.26      38.28       31.67      \n",
       "  MLPE_CasesSeries MLPE_GW   HW_GW      Arima_GW  NN_GW     RandomForest_GW\n",
       "1 803.67364        835.67010 479.448223 749.38064 699.46488 657.1372       \n",
       "2  26.77127         14.36353   8.240774  12.88038  12.02243  11.2949       \n",
       "  MLPE_RW  HW_RW      Arima_RW  NN_RW     RandomForest_RW MLPE_TSF_rminer\n",
       "1 718.7323 527.033846 648.42601 950.89709 657.1372        959.5233       \n",
       "2  12.3536   9.058677  11.14517  16.34405  11.2949         31.9628       \n",
       "  RF_TSF_rminer\n",
       "1 1012.4455    \n",
       "2   33.7257    "
      ]
     },
     "metadata": {},
     "output_type": "display_data"
    },
    {
     "data": {
      "image/png": "[encoded data removed]",
      "text/plain": [
       "Plot with title \"\""
      ]
     },
     "metadata": {},
     "output_type": "display_data"
    }
   ],
   "source": [
    "# random forest modeling, via rminer:\n",
    "LM=fit(y~.,d[hd$tr,],model=\"lm\")\n",
    "init=hd$ts[1] # or same as: init=LD-H+1\n",
    "F6=lforecast(LM,d,start=hd$ts[1],horizon=H)\n",
    "print(F6)\n",
    "Pred6=F6\n",
    "mgraph(Y,Pred6,graph=\"REG\",Grid=10,col=c(\"black\",\"blue\"),leg=list(pos=\"topleft\",leg=c(\"target\",\"LM pred.\")))\n",
    "\n",
    "mae = mmetric(Y,Pred6,metric=\"MAE\")\n",
    "nmae = mmetric(Y,Pred6,metric=\"NMAE\")\n",
    "\n",
    "# Metricas\n",
    "cat(\"MAE:\",mae,\"\\n\")\n",
    "cat(\"NMAE:\",nmae,\"\\n\")\n",
    "\n",
    "# Guardar os Resultados\n",
    "nomeModelo = \"RF_TSF_rminer\"\n",
    "resdf[nomeModelo] = c(mae,nmae)\n",
    "resdf"
   ]
  },
  {
   "cell_type": "markdown",
   "id": "c04cebe9",
   "metadata": {},
   "source": [
    "### TSF HoltWinters Forecast"
   ]
  },
  {
   "cell_type": "code",
   "execution_count": 528,
   "id": "9b7b8cac",
   "metadata": {},
   "outputs": [
    {
     "name": "stdout",
     "output_type": "stream",
     "text": [
      "Holt-Winters exponential smoothing with trend and additive seasonal component.\n",
      "\n",
      "Call:\n",
      "HoltWinters(x = TR)\n",
      "\n",
      "Smoothing parameters:\n",
      " alpha: 0.2963465\n",
      " beta : 0.006538548\n",
      " gamma: 0.2608523\n",
      "\n",
      "Coefficients:\n",
      "          [,1]\n",
      "a  2903.871417\n",
      "b    -9.134399\n",
      "s1 1609.129645\n",
      "s2 -246.558839\n",
      "s3 -487.647948\n",
      "s4 -299.371642\n",
      "s5  -56.439250\n",
      "s6  263.545265\n",
      "s7 1544.586706\n",
      "[1] \"show holt winters forecasts:\"\n",
      "         Point Forecast    Lo 80    Hi 80     Lo 95    Hi 95\n",
      "36.71429       4503.867 3547.800 5459.934 3041.6882 5966.045\n",
      "36.85714       2639.044 1641.351 3636.737 1113.2037 4164.884\n",
      "37.00000       2388.820 1350.659 3426.982  801.0894 3976.551\n",
      "37.14286       2567.962 1490.357 3645.568  919.9068 4216.018\n",
      "37.28571       2801.760 1685.623 3917.897 1094.7760 4508.744\n",
      "37.42857       3112.610 1958.760 4266.461 1347.9485 4877.272\n",
      "37.57143       4384.517 3193.691 5575.343 2563.3059 6205.729\n"
     ]
    },
    {
     "data": {
      "image/png": "[encoded data removed]",
      "text/plain": [
       "Plot with title \"Holt-Winters filtering\""
      ]
     },
     "metadata": {},
     "output_type": "display_data"
    },
    {
     "name": "stdout",
     "output_type": "stream",
     "text": [
      "MAE: 1186.774 \n",
      "NMAE: 39.53278 \n"
     ]
    },
    {
     "data": {
      "text/html": [
       "<table>\n",
       "<thead><tr><th scope=col>METRICA_MODELO</th><th scope=col>randomForest_simples</th><th scope=col>MR_Simples</th><th scope=col>KSVM_simples</th><th scope=col>MLPE_simples</th><th scope=col>MLPE_CasesSeries</th><th scope=col>MLPE_GW</th><th scope=col>HW_GW</th><th scope=col>Arima_GW</th><th scope=col>NN_GW</th><th scope=col>RandomForest_GW</th><th scope=col>MLPE_RW</th><th scope=col>HW_RW</th><th scope=col>Arima_RW</th><th scope=col>NN_RW</th><th scope=col>RandomForest_RW</th><th scope=col>MLPE_TSF_rminer</th><th scope=col>RF_TSF_rminer</th><th scope=col>HW_TSF_forecast</th></tr></thead>\n",
       "<tbody>\n",
       "\t<tr><td>MAE       </td><td>1080.96   </td><td>1568.75   </td><td>1149.16   </td><td>950.60    </td><td>803.67364 </td><td>835.67010 </td><td>479.448223</td><td>749.38064 </td><td>699.46488 </td><td>657.1372  </td><td>718.7323  </td><td>527.033846</td><td>648.42601 </td><td>950.89709 </td><td>657.1372  </td><td>959.5233  </td><td>1012.4455 </td><td>1186.77419</td></tr>\n",
       "\t<tr><td>NMAE      </td><td>  36.01   </td><td>  52.26   </td><td>  38.28   </td><td> 31.67    </td><td> 26.77127 </td><td> 14.36353 </td><td>  8.240774</td><td> 12.88038 </td><td> 12.02243 </td><td> 11.2949  </td><td> 12.3536  </td><td>  9.058677</td><td> 11.14517 </td><td> 16.34405 </td><td> 11.2949  </td><td> 31.9628  </td><td>  33.7257 </td><td>  39.53278</td></tr>\n",
       "</tbody>\n",
       "</table>\n"
      ],
      "text/latex": [
       "\\begin{tabular}{r|lllllllllllllllllll}\n",
       " METRICA\\_MODELO & randomForest\\_simples & MR\\_Simples & KSVM\\_simples & MLPE\\_simples & MLPE\\_CasesSeries & MLPE\\_GW & HW\\_GW & Arima\\_GW & NN\\_GW & RandomForest\\_GW & MLPE\\_RW & HW\\_RW & Arima\\_RW & NN\\_RW & RandomForest\\_RW & MLPE\\_TSF\\_rminer & RF\\_TSF\\_rminer & HW\\_TSF\\_forecast\\\\\n",
       "\\hline\n",
       "\t MAE        & 1080.96    & 1568.75    & 1149.16    & 950.60     & 803.67364  & 835.67010  & 479.448223 & 749.38064  & 699.46488  & 657.1372   & 718.7323   & 527.033846 & 648.42601  & 950.89709  & 657.1372   & 959.5233   & 1012.4455  & 1186.77419\\\\\n",
       "\t NMAE       &   36.01    &   52.26    &   38.28    &  31.67     &  26.77127  &  14.36353  &   8.240774 &  12.88038  &  12.02243  &  11.2949   &  12.3536   &   9.058677 &  11.14517  &  16.34405  &  11.2949   &  31.9628   &   33.7257  &   39.53278\\\\\n",
       "\\end{tabular}\n"
      ],
      "text/markdown": [
       "\n",
       "| METRICA_MODELO | randomForest_simples | MR_Simples | KSVM_simples | MLPE_simples | MLPE_CasesSeries | MLPE_GW | HW_GW | Arima_GW | NN_GW | RandomForest_GW | MLPE_RW | HW_RW | Arima_RW | NN_RW | RandomForest_RW | MLPE_TSF_rminer | RF_TSF_rminer | HW_TSF_forecast |\n",
       "|---|---|---|---|---|---|---|---|---|---|---|---|---|---|---|---|---|---|---|\n",
       "| MAE        | 1080.96    | 1568.75    | 1149.16    | 950.60     | 803.67364  | 835.67010  | 479.448223 | 749.38064  | 699.46488  | 657.1372   | 718.7323   | 527.033846 | 648.42601  | 950.89709  | 657.1372   | 959.5233   | 1012.4455  | 1186.77419 |\n",
       "| NMAE       |   36.01    |   52.26    |   38.28    |  31.67     |  26.77127  |  14.36353  |   8.240774 |  12.88038  |  12.02243  |  11.2949   |  12.3536   |   9.058677 |  11.14517  |  16.34405  |  11.2949   |  31.9628   |   33.7257  |   39.53278 |\n",
       "\n"
      ],
      "text/plain": [
       "  METRICA_MODELO randomForest_simples MR_Simples KSVM_simples MLPE_simples\n",
       "1 MAE            1080.96              1568.75    1149.16      950.60      \n",
       "2 NMAE             36.01                52.26      38.28       31.67      \n",
       "  MLPE_CasesSeries MLPE_GW   HW_GW      Arima_GW  NN_GW     RandomForest_GW\n",
       "1 803.67364        835.67010 479.448223 749.38064 699.46488 657.1372       \n",
       "2  26.77127         14.36353   8.240774  12.88038  12.02243  11.2949       \n",
       "  MLPE_RW  HW_RW      Arima_RW  NN_RW     RandomForest_RW MLPE_TSF_rminer\n",
       "1 718.7323 527.033846 648.42601 950.89709 657.1372        959.5233       \n",
       "2  12.3536   9.058677  11.14517  16.34405  11.2949         31.9628       \n",
       "  RF_TSF_rminer HW_TSF_forecast\n",
       "1 1012.4455     1186.77419     \n",
       "2   33.7257       39.53278     "
      ]
     },
     "metadata": {},
     "output_type": "display_data"
    },
    {
     "data": {
      "image/png": "[encoded data removed]",
      "text/plain": [
       "Plot with title \"\""
      ]
     },
     "metadata": {},
     "output_type": "display_data"
    }
   ],
   "source": [
    "HW=suppressWarnings(HoltWinters(TR))\n",
    "print(HW)\n",
    "plot(HW)\n",
    "print(\"show holt winters forecasts:\")\n",
    "# forecasts, from 1 to H ahead:\n",
    "F=forecast(HW,h=7)\n",
    "print(F)\n",
    "Pred=F$mean[1:H] # HolWinters format\n",
    "mgraph(Y,Pred,graph=\"REG\",Grid=10,col=c(\"black\",\"blue\"),leg=list(pos=\"topleft\",leg=c(\"target\",\"HW pred.\")))\n",
    "\n",
    "\n",
    "mae = mmetric(Y,Pred,metric=\"MAE\")\n",
    "nmae = mmetric(Y,Pred,metric=\"NMAE\")\n",
    "\n",
    "# Metricas\n",
    "cat(\"MAE:\",mae,\"\\n\")\n",
    "cat(\"NMAE:\",nmae,\"\\n\")\n",
    "\n",
    "# Guardar os Resultados\n",
    "nomeModelo = \"HW_TSF_forecast\"\n",
    "resdf[nomeModelo] = c(mae,nmae)\n",
    "resdf"
   ]
  },
  {
   "cell_type": "markdown",
   "id": "28adb6b5",
   "metadata": {},
   "source": [
    "### TSF Arima Forecast"
   ]
  },
  {
   "cell_type": "code",
   "execution_count": 529,
   "id": "b74b6036",
   "metadata": {},
   "outputs": [
    {
     "name": "stdout",
     "output_type": "stream",
     "text": [
      "Series: TR \n",
      "ARIMA(1,1,2)(0,0,2)[7] \n",
      "\n",
      "Coefficients:\n",
      "         ar1      ma1      ma2    sma1    sma2\n",
      "      0.1594  -0.6302  -0.2599  0.3143  0.2046\n",
      "s.e.  0.1832   0.1819   0.1451  0.0672  0.0601\n",
      "\n",
      "sigma^2 estimated as 598409:  log likelihood=-2007.85\n",
      "AIC=4027.7   AICc=4028.05   BIC=4048.81\n",
      "[1] \"show ARIMA forecasts:\"\n",
      "         Point Forecast    Lo 80    Hi 80    Lo 95    Hi 95\n",
      "36.71429       3562.968 2571.599 4554.337 2046.800 5079.135\n",
      "36.85714       3173.536 2051.916 4295.157 1458.166 4888.907\n",
      "37.00000       3185.793 2047.767 4323.818 1445.333 4926.253\n",
      "37.14286       3288.931 2142.375 4435.488 1535.424 5042.439\n",
      "37.28571       3563.785 2409.750 4717.821 1798.840 5328.730\n",
      "37.42857       3336.623 2175.308 4497.938 1560.545 5112.701\n",
      "37.57143       3467.460 2298.934 4635.985 1680.354 5254.566\n",
      "MAE: 1018.129 \n",
      "NMAE: 33.91503 \n"
     ]
    },
    {
     "data": {
      "text/html": [
       "<table>\n",
       "<thead><tr><th scope=col>METRICA_MODELO</th><th scope=col>randomForest_simples</th><th scope=col>MR_Simples</th><th scope=col>KSVM_simples</th><th scope=col>MLPE_simples</th><th scope=col>MLPE_CasesSeries</th><th scope=col>MLPE_GW</th><th scope=col>HW_GW</th><th scope=col>Arima_GW</th><th scope=col>NN_GW</th><th scope=col>RandomForest_GW</th><th scope=col>MLPE_RW</th><th scope=col>HW_RW</th><th scope=col>Arima_RW</th><th scope=col>NN_RW</th><th scope=col>RandomForest_RW</th><th scope=col>MLPE_TSF_rminer</th><th scope=col>RF_TSF_rminer</th><th scope=col>HW_TSF_forecast</th><th scope=col>Arima_TSF_forecast</th></tr></thead>\n",
       "<tbody>\n",
       "\t<tr><td>MAE       </td><td>1080.96   </td><td>1568.75   </td><td>1149.16   </td><td>950.60    </td><td>803.67364 </td><td>835.67010 </td><td>479.448223</td><td>749.38064 </td><td>699.46488 </td><td>657.1372  </td><td>718.7323  </td><td>527.033846</td><td>648.42601 </td><td>950.89709 </td><td>657.1372  </td><td>959.5233  </td><td>1012.4455 </td><td>1186.77419</td><td>1018.12909</td></tr>\n",
       "\t<tr><td>NMAE      </td><td>  36.01   </td><td>  52.26   </td><td>  38.28   </td><td> 31.67    </td><td> 26.77127 </td><td> 14.36353 </td><td>  8.240774</td><td> 12.88038 </td><td> 12.02243 </td><td> 11.2949  </td><td> 12.3536  </td><td>  9.058677</td><td> 11.14517 </td><td> 16.34405 </td><td> 11.2949  </td><td> 31.9628  </td><td>  33.7257 </td><td>  39.53278</td><td>  33.91503</td></tr>\n",
       "</tbody>\n",
       "</table>\n"
      ],
      "text/latex": [
       "\\begin{tabular}{r|llllllllllllllllllll}\n",
       " METRICA\\_MODELO & randomForest\\_simples & MR\\_Simples & KSVM\\_simples & MLPE\\_simples & MLPE\\_CasesSeries & MLPE\\_GW & HW\\_GW & Arima\\_GW & NN\\_GW & RandomForest\\_GW & MLPE\\_RW & HW\\_RW & Arima\\_RW & NN\\_RW & RandomForest\\_RW & MLPE\\_TSF\\_rminer & RF\\_TSF\\_rminer & HW\\_TSF\\_forecast & Arima\\_TSF\\_forecast\\\\\n",
       "\\hline\n",
       "\t MAE        & 1080.96    & 1568.75    & 1149.16    & 950.60     & 803.67364  & 835.67010  & 479.448223 & 749.38064  & 699.46488  & 657.1372   & 718.7323   & 527.033846 & 648.42601  & 950.89709  & 657.1372   & 959.5233   & 1012.4455  & 1186.77419 & 1018.12909\\\\\n",
       "\t NMAE       &   36.01    &   52.26    &   38.28    &  31.67     &  26.77127  &  14.36353  &   8.240774 &  12.88038  &  12.02243  &  11.2949   &  12.3536   &   9.058677 &  11.14517  &  16.34405  &  11.2949   &  31.9628   &   33.7257  &   39.53278 &   33.91503\\\\\n",
       "\\end{tabular}\n"
      ],
      "text/markdown": [
       "\n",
       "| METRICA_MODELO | randomForest_simples | MR_Simples | KSVM_simples | MLPE_simples | MLPE_CasesSeries | MLPE_GW | HW_GW | Arima_GW | NN_GW | RandomForest_GW | MLPE_RW | HW_RW | Arima_RW | NN_RW | RandomForest_RW | MLPE_TSF_rminer | RF_TSF_rminer | HW_TSF_forecast | Arima_TSF_forecast |\n",
       "|---|---|---|---|---|---|---|---|---|---|---|---|---|---|---|---|---|---|---|---|\n",
       "| MAE        | 1080.96    | 1568.75    | 1149.16    | 950.60     | 803.67364  | 835.67010  | 479.448223 | 749.38064  | 699.46488  | 657.1372   | 718.7323   | 527.033846 | 648.42601  | 950.89709  | 657.1372   | 959.5233   | 1012.4455  | 1186.77419 | 1018.12909 |\n",
       "| NMAE       |   36.01    |   52.26    |   38.28    |  31.67     |  26.77127  |  14.36353  |   8.240774 |  12.88038  |  12.02243  |  11.2949   |  12.3536   |   9.058677 |  11.14517  |  16.34405  |  11.2949   |  31.9628   |   33.7257  |   39.53278 |   33.91503 |\n",
       "\n"
      ],
      "text/plain": [
       "  METRICA_MODELO randomForest_simples MR_Simples KSVM_simples MLPE_simples\n",
       "1 MAE            1080.96              1568.75    1149.16      950.60      \n",
       "2 NMAE             36.01                52.26      38.28       31.67      \n",
       "  MLPE_CasesSeries MLPE_GW   HW_GW      Arima_GW  NN_GW     RandomForest_GW\n",
       "1 803.67364        835.67010 479.448223 749.38064 699.46488 657.1372       \n",
       "2  26.77127         14.36353   8.240774  12.88038  12.02243  11.2949       \n",
       "  MLPE_RW  HW_RW      Arima_RW  NN_RW     RandomForest_RW MLPE_TSF_rminer\n",
       "1 718.7323 527.033846 648.42601 950.89709 657.1372        959.5233       \n",
       "2  12.3536   9.058677  11.14517  16.34405  11.2949         31.9628       \n",
       "  RF_TSF_rminer HW_TSF_forecast Arima_TSF_forecast\n",
       "1 1012.4455     1186.77419      1018.12909        \n",
       "2   33.7257       39.53278        33.91503        "
      ]
     },
     "metadata": {},
     "output_type": "display_data"
    },
    {
     "data": {
      "image/png": "[encoded data removed]",
      "text/plain": [
       "Plot with title \"\""
      ]
     },
     "metadata": {},
     "output_type": "display_data"
    }
   ],
   "source": [
    "AR=auto.arima(TR)\n",
    "print(AR) # ARIMA(3,0,1)(2,1,0)[12] \n",
    "print(\"show ARIMA forecasts:\")\n",
    "# forecasts, from 1 to H ahead:\n",
    "F1=forecast(AR,h=H)\n",
    "print(F1)\n",
    "Pred1=F1$mean[1:H]\n",
    "mgraph(Y,Pred1,graph=\"REG\",Grid=10,col=c(\"black\",\"blue\"),leg=list(pos=\"topleft\",leg=c(\"target\",\" ARIMA pred.\")))\n",
    "\n",
    "mae = mmetric(Y,Pred1,metric=\"MAE\")\n",
    "nmae = mmetric(Y,Pred1,metric=\"NMAE\")\n",
    "\n",
    "# Metricas\n",
    "cat(\"MAE:\",mae,\"\\n\")\n",
    "cat(\"NMAE:\",nmae,\"\\n\")\n",
    "\n",
    "# Guardar os Resultados\n",
    "nomeModelo = \"Arima_TSF_forecast\"\n",
    "resdf[nomeModelo] = c(mae,nmae)\n",
    "resdf"
   ]
  },
  {
   "cell_type": "markdown",
   "id": "0016b093",
   "metadata": {},
   "source": [
    "### TSF Neural Network Forecast"
   ]
  },
  {
   "cell_type": "code",
   "execution_count": 530,
   "id": "9467fcb5",
   "metadata": {},
   "outputs": [
    {
     "name": "stdout",
     "output_type": "stream",
     "text": [
      "Series: TR \n",
      "Model:  NNAR(16,1,8)[7] \n",
      "Call:   nnetar(y = TR, P = 1, repeats = 3)\n",
      "\n",
      "Average of 3 networks, each of which is\n",
      "a 16-8-1 network with 145 weights\n",
      "options were - linear output units \n",
      "\n",
      "sigma^2 estimated as 43394\n",
      "MAE: 1760.038 \n",
      "NMAE: 58.62884 \n"
     ]
    },
    {
     "data": {
      "text/html": [
       "<table>\n",
       "<thead><tr><th scope=col>METRICA_MODELO</th><th scope=col>randomForest_simples</th><th scope=col>MR_Simples</th><th scope=col>KSVM_simples</th><th scope=col>MLPE_simples</th><th scope=col>MLPE_CasesSeries</th><th scope=col>MLPE_GW</th><th scope=col>HW_GW</th><th scope=col>Arima_GW</th><th scope=col>NN_GW</th><th scope=col>...</th><th scope=col>MLPE_RW</th><th scope=col>HW_RW</th><th scope=col>Arima_RW</th><th scope=col>NN_RW</th><th scope=col>RandomForest_RW</th><th scope=col>MLPE_TSF_rminer</th><th scope=col>RF_TSF_rminer</th><th scope=col>HW_TSF_forecast</th><th scope=col>Arima_TSF_forecast</th><th scope=col>NN_TSF_forecast</th></tr></thead>\n",
       "<tbody>\n",
       "\t<tr><td>MAE       </td><td>1080.96   </td><td>1568.75   </td><td>1149.16   </td><td>950.60    </td><td>803.67364 </td><td>835.67010 </td><td>479.448223</td><td>749.38064 </td><td>699.46488 </td><td>...       </td><td>718.7323  </td><td>527.033846</td><td>648.42601 </td><td>950.89709 </td><td>657.1372  </td><td>959.5233  </td><td>1012.4455 </td><td>1186.77419</td><td>1018.12909</td><td>1760.03773</td></tr>\n",
       "\t<tr><td>NMAE      </td><td>  36.01   </td><td>  52.26   </td><td>  38.28   </td><td> 31.67    </td><td> 26.77127 </td><td> 14.36353 </td><td>  8.240774</td><td> 12.88038 </td><td> 12.02243 </td><td>...       </td><td> 12.3536  </td><td>  9.058677</td><td> 11.14517 </td><td> 16.34405 </td><td> 11.2949  </td><td> 31.9628  </td><td>  33.7257 </td><td>  39.53278</td><td>  33.91503</td><td>  58.62884</td></tr>\n",
       "</tbody>\n",
       "</table>\n"
      ],
      "text/latex": [
       "\\begin{tabular}{r|lllllllllllllllllllll}\n",
       " METRICA\\_MODELO & randomForest\\_simples & MR\\_Simples & KSVM\\_simples & MLPE\\_simples & MLPE\\_CasesSeries & MLPE\\_GW & HW\\_GW & Arima\\_GW & NN\\_GW & ... & MLPE\\_RW & HW\\_RW & Arima\\_RW & NN\\_RW & RandomForest\\_RW & MLPE\\_TSF\\_rminer & RF\\_TSF\\_rminer & HW\\_TSF\\_forecast & Arima\\_TSF\\_forecast & NN\\_TSF\\_forecast\\\\\n",
       "\\hline\n",
       "\t MAE        & 1080.96    & 1568.75    & 1149.16    & 950.60     & 803.67364  & 835.67010  & 479.448223 & 749.38064  & 699.46488  & ...        & 718.7323   & 527.033846 & 648.42601  & 950.89709  & 657.1372   & 959.5233   & 1012.4455  & 1186.77419 & 1018.12909 & 1760.03773\\\\\n",
       "\t NMAE       &   36.01    &   52.26    &   38.28    &  31.67     &  26.77127  &  14.36353  &   8.240774 &  12.88038  &  12.02243  & ...        &  12.3536   &   9.058677 &  11.14517  &  16.34405  &  11.2949   &  31.9628   &   33.7257  &   39.53278 &   33.91503 &   58.62884\\\\\n",
       "\\end{tabular}\n"
      ],
      "text/markdown": [
       "\n",
       "| METRICA_MODELO | randomForest_simples | MR_Simples | KSVM_simples | MLPE_simples | MLPE_CasesSeries | MLPE_GW | HW_GW | Arima_GW | NN_GW | ... | MLPE_RW | HW_RW | Arima_RW | NN_RW | RandomForest_RW | MLPE_TSF_rminer | RF_TSF_rminer | HW_TSF_forecast | Arima_TSF_forecast | NN_TSF_forecast |\n",
       "|---|---|---|---|---|---|---|---|---|---|---|---|---|---|---|---|---|---|---|---|---|\n",
       "| MAE        | 1080.96    | 1568.75    | 1149.16    | 950.60     | 803.67364  | 835.67010  | 479.448223 | 749.38064  | 699.46488  | ...        | 718.7323   | 527.033846 | 648.42601  | 950.89709  | 657.1372   | 959.5233   | 1012.4455  | 1186.77419 | 1018.12909 | 1760.03773 |\n",
       "| NMAE       |   36.01    |   52.26    |   38.28    |  31.67     |  26.77127  |  14.36353  |   8.240774 |  12.88038  |  12.02243  | ...        |  12.3536   |   9.058677 |  11.14517  |  16.34405  |  11.2949   |  31.9628   |   33.7257  |   39.53278 |   33.91503 |   58.62884 |\n",
       "\n"
      ],
      "text/plain": [
       "  METRICA_MODELO randomForest_simples MR_Simples KSVM_simples MLPE_simples\n",
       "1 MAE            1080.96              1568.75    1149.16      950.60      \n",
       "2 NMAE             36.01                52.26      38.28       31.67      \n",
       "  MLPE_CasesSeries MLPE_GW   HW_GW      Arima_GW  NN_GW     ... MLPE_RW \n",
       "1 803.67364        835.67010 479.448223 749.38064 699.46488 ... 718.7323\n",
       "2  26.77127         14.36353   8.240774  12.88038  12.02243 ...  12.3536\n",
       "  HW_RW      Arima_RW  NN_RW     RandomForest_RW MLPE_TSF_rminer RF_TSF_rminer\n",
       "1 527.033846 648.42601 950.89709 657.1372        959.5233        1012.4455    \n",
       "2   9.058677  11.14517  16.34405  11.2949         31.9628          33.7257    \n",
       "  HW_TSF_forecast Arima_TSF_forecast NN_TSF_forecast\n",
       "1 1186.77419      1018.12909         1760.03773     \n",
       "2   39.53278        33.91503           58.62884     "
      ]
     },
     "metadata": {},
     "output_type": "display_data"
    },
    {
     "data": {
      "image/png": "[encoded data removed]",
      "text/plain": [
       "Plot with title \"\""
      ]
     },
     "metadata": {},
     "output_type": "display_data"
    }
   ],
   "source": [
    "NN1=nnetar(TR,P=1,repeats=3)\n",
    "print(NN1)\n",
    "F3=forecast(NN1,h=H)\n",
    "Pred3=F3$mean[1:H] # HolWinters format\n",
    "mgraph(Y,Pred3,graph=\"REG\",Grid=10,col=c(\"black\",\"blue\"),leg=list(pos=\"topleft\",leg=c(\"target\",\"NN1 pred.\")))\n",
    "\n",
    "mae = mmetric(Y,Pred3,metric=\"MAE\")\n",
    "nmae = mmetric(Y,Pred3,metric=\"NMAE\")\n",
    "\n",
    "# Metricas\n",
    "cat(\"MAE:\",mae,\"\\n\")\n",
    "cat(\"NMAE:\",nmae,\"\\n\")\n",
    "\n",
    "# Guardar os Resultados\n",
    "nomeModelo = \"NN_TSF_forecast\"\n",
    "resdf[nomeModelo] = c(mae,nmae)\n",
    "resdf"
   ]
  },
  {
   "cell_type": "markdown",
   "id": "f1339f35",
   "metadata": {},
   "source": [
    "### TSF ETS Forecast"
   ]
  },
  {
   "cell_type": "code",
   "execution_count": 531,
   "id": "bf36fcb3",
   "metadata": {},
   "outputs": [
    {
     "name": "stdout",
     "output_type": "stream",
     "text": [
      "Series: TR \n",
      "Model:  NNAR(16,1,8)[7] \n",
      "Call:   nnetar(y = TR, P = 1, repeats = 3)\n",
      "\n",
      "Average of 3 networks, each of which is\n",
      "a 16-8-1 network with 145 weights\n",
      "options were - linear output units \n",
      "\n",
      "sigma^2 estimated as 30199\n",
      "MAE: 1249.271 \n",
      "NMAE: 41.61462 \n"
     ]
    },
    {
     "data": {
      "text/html": [
       "<table>\n",
       "<thead><tr><th scope=col>METRICA_MODELO</th><th scope=col>randomForest_simples</th><th scope=col>MR_Simples</th><th scope=col>KSVM_simples</th><th scope=col>MLPE_simples</th><th scope=col>MLPE_CasesSeries</th><th scope=col>MLPE_GW</th><th scope=col>HW_GW</th><th scope=col>Arima_GW</th><th scope=col>NN_GW</th><th scope=col>...</th><th scope=col>HW_RW</th><th scope=col>Arima_RW</th><th scope=col>NN_RW</th><th scope=col>RandomForest_RW</th><th scope=col>MLPE_TSF_rminer</th><th scope=col>RF_TSF_rminer</th><th scope=col>HW_TSF_forecast</th><th scope=col>Arima_TSF_forecast</th><th scope=col>NN_TSF_forecast</th><th scope=col>ETS_TSF_forecast</th></tr></thead>\n",
       "<tbody>\n",
       "\t<tr><td>MAE       </td><td>1080.96   </td><td>1568.75   </td><td>1149.16   </td><td>950.60    </td><td>803.67364 </td><td>835.67010 </td><td>479.448223</td><td>749.38064 </td><td>699.46488 </td><td>...       </td><td>527.033846</td><td>648.42601 </td><td>950.89709 </td><td>657.1372  </td><td>959.5233  </td><td>1012.4455 </td><td>1186.77419</td><td>1018.12909</td><td>1760.03773</td><td>1249.27077</td></tr>\n",
       "\t<tr><td>NMAE      </td><td>  36.01   </td><td>  52.26   </td><td>  38.28   </td><td> 31.67    </td><td> 26.77127 </td><td> 14.36353 </td><td>  8.240774</td><td> 12.88038 </td><td> 12.02243 </td><td>...       </td><td>  9.058677</td><td> 11.14517 </td><td> 16.34405 </td><td> 11.2949  </td><td> 31.9628  </td><td>  33.7257 </td><td>  39.53278</td><td>  33.91503</td><td>  58.62884</td><td>  41.61462</td></tr>\n",
       "</tbody>\n",
       "</table>\n"
      ],
      "text/latex": [
       "\\begin{tabular}{r|llllllllllllllllllllll}\n",
       " METRICA\\_MODELO & randomForest\\_simples & MR\\_Simples & KSVM\\_simples & MLPE\\_simples & MLPE\\_CasesSeries & MLPE\\_GW & HW\\_GW & Arima\\_GW & NN\\_GW & ... & HW\\_RW & Arima\\_RW & NN\\_RW & RandomForest\\_RW & MLPE\\_TSF\\_rminer & RF\\_TSF\\_rminer & HW\\_TSF\\_forecast & Arima\\_TSF\\_forecast & NN\\_TSF\\_forecast & ETS\\_TSF\\_forecast\\\\\n",
       "\\hline\n",
       "\t MAE        & 1080.96    & 1568.75    & 1149.16    & 950.60     & 803.67364  & 835.67010  & 479.448223 & 749.38064  & 699.46488  & ...        & 527.033846 & 648.42601  & 950.89709  & 657.1372   & 959.5233   & 1012.4455  & 1186.77419 & 1018.12909 & 1760.03773 & 1249.27077\\\\\n",
       "\t NMAE       &   36.01    &   52.26    &   38.28    &  31.67     &  26.77127  &  14.36353  &   8.240774 &  12.88038  &  12.02243  & ...        &   9.058677 &  11.14517  &  16.34405  &  11.2949   &  31.9628   &   33.7257  &   39.53278 &   33.91503 &   58.62884 &   41.61462\\\\\n",
       "\\end{tabular}\n"
      ],
      "text/markdown": [
       "\n",
       "| METRICA_MODELO | randomForest_simples | MR_Simples | KSVM_simples | MLPE_simples | MLPE_CasesSeries | MLPE_GW | HW_GW | Arima_GW | NN_GW | ... | HW_RW | Arima_RW | NN_RW | RandomForest_RW | MLPE_TSF_rminer | RF_TSF_rminer | HW_TSF_forecast | Arima_TSF_forecast | NN_TSF_forecast | ETS_TSF_forecast |\n",
       "|---|---|---|---|---|---|---|---|---|---|---|---|---|---|---|---|---|---|---|---|---|\n",
       "| MAE        | 1080.96    | 1568.75    | 1149.16    | 950.60     | 803.67364  | 835.67010  | 479.448223 | 749.38064  | 699.46488  | ...        | 527.033846 | 648.42601  | 950.89709  | 657.1372   | 959.5233   | 1012.4455  | 1186.77419 | 1018.12909 | 1760.03773 | 1249.27077 |\n",
       "| NMAE       |   36.01    |   52.26    |   38.28    |  31.67     |  26.77127  |  14.36353  |   8.240774 |  12.88038  |  12.02243  | ...        |   9.058677 |  11.14517  |  16.34405  |  11.2949   |  31.9628   |   33.7257  |   39.53278 |   33.91503 |   58.62884 |   41.61462 |\n",
       "\n"
      ],
      "text/plain": [
       "  METRICA_MODELO randomForest_simples MR_Simples KSVM_simples MLPE_simples\n",
       "1 MAE            1080.96              1568.75    1149.16      950.60      \n",
       "2 NMAE             36.01                52.26      38.28       31.67      \n",
       "  MLPE_CasesSeries MLPE_GW   HW_GW      Arima_GW  NN_GW     ... HW_RW     \n",
       "1 803.67364        835.67010 479.448223 749.38064 699.46488 ... 527.033846\n",
       "2  26.77127         14.36353   8.240774  12.88038  12.02243 ...   9.058677\n",
       "  Arima_RW  NN_RW     RandomForest_RW MLPE_TSF_rminer RF_TSF_rminer\n",
       "1 648.42601 950.89709 657.1372        959.5233        1012.4455    \n",
       "2  11.14517  16.34405  11.2949         31.9628          33.7257    \n",
       "  HW_TSF_forecast Arima_TSF_forecast NN_TSF_forecast ETS_TSF_forecast\n",
       "1 1186.77419      1018.12909         1760.03773      1249.27077      \n",
       "2   39.53278        33.91503           58.62884        41.61462      "
      ]
     },
     "metadata": {},
     "output_type": "display_data"
    },
    {
     "data": {
      "image/png": "[encoded data removed]",
      "text/plain": [
       "Plot with title \"\""
      ]
     },
     "metadata": {},
     "output_type": "display_data"
    }
   ],
   "source": [
    "NN1=nnetar(TR,P=1,repeats=3)\n",
    "print(NN1)\n",
    "F3=forecast(NN1,h=H)\n",
    "Pred3=F3$mean[1:H] # HolWinters format\n",
    "mgraph(Y,Pred3,graph=\"REG\",Grid=10,col=c(\"black\",\"blue\"),leg=list(pos=\"topleft\",leg=c(\"target\",\"NN1 pred.\")))\n",
    "\n",
    "mae = mmetric(Y,Pred3,metric=\"MAE\")\n",
    "nmae = mmetric(Y,Pred3,metric=\"NMAE\")\n",
    "\n",
    "# Metricas\n",
    "cat(\"MAE:\",mae,\"\\n\")\n",
    "cat(\"NMAE:\",nmae,\"\\n\")\n",
    "\n",
    "# Guardar os Resultados\n",
    "nomeModelo = \"ETS_TSF_forecast\"\n",
    "resdf[nomeModelo] = c(mae,nmae)\n",
    "resdf"
   ]
  },
  {
   "cell_type": "markdown",
   "id": "cc88af17",
   "metadata": {},
   "source": [
    "### TSF MLPE RMiner"
   ]
  },
  {
   "cell_type": "code",
   "execution_count": 85,
   "id": "40baf3b7",
   "metadata": {},
   "outputs": [
    {
     "name": "stdout",
     "output_type": "stream",
     "text": [
      "SMAPE:  11.33 \n",
      "MAE: 510.35 \n",
      "NMAE: 17 \n"
     ]
    },
    {
     "data": {
      "text/html": [
       "<table>\n",
       "<thead><tr><th scope=col>METRICA_MODELO</th><th scope=col>MLPE_TSF_rminer</th><th scope=col>MLPE_GW</th><th scope=col>HW_GW</th><th scope=col>Arima_GW</th><th scope=col>NN_GW</th><th scope=col>RandomForest_GW</th><th scope=col>lm_TSF_rminer</th><th scope=col>mlpe_TSF_rminer</th><th scope=col>naive_TSF_rminer</th><th scope=col>ctree_TSF_rminer</th><th scope=col>mlp_TSF_rminer</th><th scope=col>randomForest_TSF_rminer</th><th scope=col>mr_TSF_rminer</th><th scope=col>rvm_TSF_rminer</th></tr></thead>\n",
       "<tbody>\n",
       "\t<tr><td>MAE        </td><td>510.35     </td><td>964.026104 </td><td>567.170699 </td><td>580.997314 </td><td>1530.056311</td><td>958.003429 </td><td>513.39     </td><td>536.38     </td><td>985.45     </td><td>781.12     </td><td>405.27     </td><td>639.98     </td><td>513.39     </td><td>521.62     </td></tr>\n",
       "\t<tr><td>NMAE       </td><td> 17.00     </td><td>  6.276212 </td><td>  3.692518 </td><td>  3.782535 </td><td>   9.961304</td><td>  6.237001 </td><td> 17.10     </td><td> 17.87     </td><td> 32.83     </td><td> 26.02     </td><td> 13.50     </td><td> 21.32     </td><td> 17.10     </td><td> 17.38     </td></tr>\n",
       "</tbody>\n",
       "</table>\n"
      ],
      "text/latex": [
       "\\begin{tabular}{r|lllllllllllllll}\n",
       " METRICA\\_MODELO & MLPE\\_TSF\\_rminer & MLPE\\_GW & HW\\_GW & Arima\\_GW & NN\\_GW & RandomForest\\_GW & lm\\_TSF\\_rminer & mlpe\\_TSF\\_rminer & naive\\_TSF\\_rminer & ctree\\_TSF\\_rminer & mlp\\_TSF\\_rminer & randomForest\\_TSF\\_rminer & mr\\_TSF\\_rminer & rvm\\_TSF\\_rminer\\\\\n",
       "\\hline\n",
       "\t MAE         & 510.35      & 964.026104  & 567.170699  & 580.997314  & 1530.056311 & 958.003429  & 513.39      & 536.38      & 985.45      & 781.12      & 405.27      & 639.98      & 513.39      & 521.62     \\\\\n",
       "\t NMAE        &  17.00      &   6.276212  &   3.692518  &   3.782535  &    9.961304 &   6.237001  &  17.10      &  17.87      &  32.83      &  26.02      &  13.50      &  21.32      &  17.10      &  17.38     \\\\\n",
       "\\end{tabular}\n"
      ],
      "text/markdown": [
       "\n",
       "| METRICA_MODELO | MLPE_TSF_rminer | MLPE_GW | HW_GW | Arima_GW | NN_GW | RandomForest_GW | lm_TSF_rminer | mlpe_TSF_rminer | naive_TSF_rminer | ctree_TSF_rminer | mlp_TSF_rminer | randomForest_TSF_rminer | mr_TSF_rminer | rvm_TSF_rminer |\n",
       "|---|---|---|---|---|---|---|---|---|---|---|---|---|---|---|\n",
       "| MAE         | 510.35      | 964.026104  | 567.170699  | 580.997314  | 1530.056311 | 958.003429  | 513.39      | 536.38      | 985.45      | 781.12      | 405.27      | 639.98      | 513.39      | 521.62      |\n",
       "| NMAE        |  17.00      |   6.276212  |   3.692518  |   3.782535  |    9.961304 |   6.237001  |  17.10      |  17.87      |  32.83      |  26.02      |  13.50      |  21.32      |  17.10      |  17.38      |\n",
       "\n"
      ],
      "text/plain": [
       "  METRICA_MODELO MLPE_TSF_rminer MLPE_GW    HW_GW      Arima_GW   NN_GW      \n",
       "1 MAE            510.35          964.026104 567.170699 580.997314 1530.056311\n",
       "2 NMAE            17.00            6.276212   3.692518   3.782535    9.961304\n",
       "  RandomForest_GW lm_TSF_rminer mlpe_TSF_rminer naive_TSF_rminer\n",
       "1 958.003429      513.39        536.38          985.45          \n",
       "2   6.237001       17.10         17.87           32.83          \n",
       "  ctree_TSF_rminer mlp_TSF_rminer randomForest_TSF_rminer mr_TSF_rminer\n",
       "1 781.12           405.27         639.98                  513.39       \n",
       "2  26.02            13.50          21.32                   17.10       \n",
       "  rvm_TSF_rminer\n",
       "1 521.62        \n",
       "2  17.38        "
      ]
     },
     "metadata": {},
     "output_type": "display_data"
    },
    {
     "data": {
      "image/png": "[encoded data removed]",
      "text/plain": [
       "Plot with title \"\""
      ]
     },
     "metadata": {},
     "output_type": "display_data"
    }
   ],
   "source": [
    "d1 = data[,1] #coluna all\n",
    "L = length(d1)\n",
    "K=7\n",
    "\n",
    "timelags = c(1:7)\n",
    "D = CasesSeries(d1,timelags)\n",
    "\n",
    "H=holdout(data$all,ratio=7,mode=\"order\")\n",
    "M=fit(y~.,D[H$tr,],model=\"mlpe\") # create forecasting model\n",
    "Pred=lforecast(M,D,start=(length(H$tr)+1),7)\n",
    "\n",
    "Target = d1[H$ts]\n",
    "\n",
    "mae = round(mmetric(Target,Pred,metric=\"MAE\"),2)\n",
    "nmae = round(mmetric(Target,Pred,metric=\"NMAE\"),2)\n",
    "cat(\"SMAPE: \",round(mmetric(Target,Pred,metric=\"SMAPE\"),2),\"\\n\")\n",
    "\n",
    "# last iteration predictions:\n",
    "mgraph(Target,Pred,graph=\"REG\",Grid=10,col=c(\"black\",\"blue\"),\n",
    "leg=list(pos=\"topleft\",leg=c(\"target\",\"predictions\")))\n",
    "\n",
    "\n",
    "\n",
    "# Metricas\n",
    "cat(\"MAE:\",mae,\"\\n\")\n",
    "cat(\"NMAE:\",nmae,\"\\n\")\n",
    "\n",
    "# Guardar os Resultados\n",
    "nomeModelo = \"MLPE_TSF_rminer\"\n",
    "resdf[nomeModelo] = c(mae,nmae)\n",
    "resdf"
   ]
  },
  {
   "cell_type": "markdown",
   "id": "435a3348",
   "metadata": {},
   "source": [
    "## Time Series Forecast (Window Training)"
   ]
  },
  {
   "cell_type": "code",
   "execution_count": 35,
   "id": "36064388",
   "metadata": {},
   "outputs": [],
   "source": [
    "# Create Dataframe for Result Storage\n",
    "resdf <- data.frame(matrix(ncol = 4, nrow = 0))\n",
    "# Name the Columns\n",
    "colnames(resdf) <- c('window','model','mae','nmae')\n",
    "\n",
    "d1 = data[,1] # coluna all\n",
    "L = length(d1) # 257\n",
    "K=7\n",
    "Test=K # H, the number of multi-ahead steps, adjust if needed\n",
    "S=K # step jump: set in this case to 7 predictions\n",
    "Runs=10 # number of growing window iterations, adjust if needed (49 dias)\n",
    "\n",
    "# forecast:\n",
    "W=(L-Test)-(Runs-1)*S # initial training window size for the ts space (forecast methods)\n",
    "\n",
    "# rminer:\n",
    "timelags=c(1:7) # 1 previous day until 7 previous days\n",
    "D=CasesSeries(d1,timelags) # note: nrow(D) is smaller by max timelags than length(d1)\n",
    "W2=W-max(timelags) # initial training window size for the D space (CasesSeries, rminer methods)\n",
    "\n",
    "YR=diff(range(d1)) # global Y range, use the same range for the NMAE calculation in all iterations\n",
    "\n",
    "ev=vector(length=Runs) # error vector for \"mlpe\"\n",
    "evn=vector(length=Runs) # error vector for \"mlpe\"\n",
    "\n",
    "# growing window demo, rolling window can also be used:\n",
    "\n",
    "# code for 1 iteration:\n",
    "b=1\n",
    "\n",
    "#rminer\n",
    "models <- c(\"lm\",\"mlpe\",\"naive\",\"ctree\",\"mlp\",\"randomForest\",\"mr\",\"rvm\",\"ksvm\")"
   ]
  },
  {
   "cell_type": "markdown",
   "id": "40b0aa2c",
   "metadata": {},
   "source": [
    "### Growing/Rolling Window (Rminer)"
   ]
  },
  {
   "cell_type": "code",
   "execution_count": 38,
   "id": "4800476a",
   "metadata": {},
   "outputs": [
    {
     "name": "stdout",
     "output_type": "stream",
     "text": [
      "mlpe median MAE( lm ): 765.4527 \n",
      "mlpe median NMAE( lm ): 10.27315 \n",
      "mlpe median MAE( mlpe ): 502.228 \n",
      "mlpe median NMAE( mlpe ): 6.740411 \n",
      "mlpe median MAE( naive ): 636.905 \n",
      "mlpe median NMAE( naive ): 8.547913 \n",
      "mlpe median MAE( ctree ): 757.2747 \n",
      "mlpe median NMAE( ctree ): 10.1634 \n",
      "mlpe median MAE( mlp ): 629.5544 \n",
      "mlpe median NMAE( mlp ): 8.44926 \n",
      "mlpe median MAE( randomForest ): 472.3185 \n",
      "mlpe median NMAE( randomForest ): 6.338995 \n",
      "mlpe median MAE( mr ): 765.4527 \n",
      "mlpe median NMAE( mr ): 10.27315 \n",
      "mlpe median MAE( rvm ): 525.5739 \n",
      "mlpe median NMAE( rvm ): 7.053737 \n",
      "mlpe median MAE( ksvm ): 491.291 \n",
      "mlpe median NMAE( ksvm ): 6.593625 \n"
     ]
    }
   ],
   "source": [
    "window = \"rolling\" # Growing Window = \"incremental\" / Rolling Window = \"rolling\"\n",
    "\n",
    "for (u in 1:length(models)) {\n",
    "    for (b in 1:Runs) {\n",
    "    H = holdout(D$y, ratio=Test, mode=window, iter=b, window=W2,increment=S)\n",
    "    M = fit(y~.,D[H$tr,],model=models[u])\n",
    "    Pred = lforecast(M,D,start=(length(H$tr)+1),Test)\n",
    "    ev[b]=mmetric(y=D[H$ts,]$y,x=Pred,metric=\"MAE\",val=YR)\n",
    "    evn[b]=mmetric(y=D[H$ts,]$y,x=Pred,metric=\"NMAE\",val=YR)\n",
    "    }\n",
    "    cat(\"mlpe median MAE(\",models[u],\"):\",mean(ev),\"\\n\")\n",
    "    cat(\"mlpe median NMAE(\",models[u],\"):\",mean(evn),\"\\n\")\n",
    "    # Save Results to the res Dataframe\n",
    "    mae=mean(ev)\n",
    "    nmae=mean(evn)\n",
    "    resdf[nrow(resdf) + 1,] = c(window,models[u],mae,nmae) \n",
    "}"
   ]
  },
  {
   "cell_type": "markdown",
   "id": "6f602096",
   "metadata": {},
   "source": [
    "### Growing/Rolling Window (Forecast)"
   ]
  },
  {
   "cell_type": "code",
   "execution_count": 39,
   "id": "abacf8e5",
   "metadata": {},
   "outputs": [
    {
     "name": "stdout",
     "output_type": "stream",
     "text": [
      "\n",
      " Mean MAE( HW ) : 449.96 \n",
      " Mean NMAE( HW ) : 6.04 \n",
      "\n",
      " Mean MAE( Arima ) : 497.85 \n",
      " Mean NMAE( Arima ) : 6.68 \n",
      "\n",
      " Mean MAE( NN ) : 561.1 \n",
      " Mean NMAE( NN ) : 7.53 \n",
      "\n",
      " Mean MAE( ETS ) : 376.54 \n",
      " Mean NMAE( ETS ) : 5.05 \n"
     ]
    }
   ],
   "source": [
    "# Reinitialize the metric vectors\n",
    "ev=vector(length=Runs) # error vector for \"mlpe\"\n",
    "evn=vector(length=Runs) # error vector for \"mlpe\"\n",
    "\n",
    "univarModels = c(\"HW\",\"Arima\",\"NN\",\"ETS\")\n",
    "for (u in 1:length(univarModels)){\n",
    "    for (b in 1:Runs) {\n",
    "    # Holdout with window\n",
    "    H = holdout(d1, ratio=Test, mode=window, iter=b, window=W,increment=S)\n",
    "    # Time Series\n",
    "    dtr = ts(d1[H$tr],frequency=K)\n",
    "\n",
    "    univarModel = univarModels[u]\n",
    "        \n",
    "    switch(  \n",
    "    univarModel,  \n",
    "    \"HW\"= {M = suppressWarnings(HoltWinters(dtr))},\n",
    "    \"Arima\"= {M = suppressWarnings(auto.arima(dtr))},\n",
    "    \"NN\"= {M = suppressWarnings(nnetar(dtr,p=7))},\n",
    "    \"ETS\"= {M = suppressWarnings(ets(dtr))},\n",
    "    )  \n",
    "\n",
    "    # Predicting 7 test values\n",
    "    Pred = forecast(M,h=length(H$ts))$mean[1:Test]\n",
    "\n",
    "    ev[b]=mmetric(y=d1[H$ts],x=Pred,metric=\"MAE\",val=YR)\n",
    "    evn[b]=mmetric(y=d1[H$ts],x=Pred,metric=\"NMAE\",val=YR)\n",
    "    }\n",
    "    mae=round(mean(ev),digits=2)\n",
    "    nmae=round(mean(evn),digits=2)\n",
    "    cat(\"\\n Mean MAE(\",univarModel,\") :\",mae,\"\\n\")    \n",
    "    cat(\" Mean NMAE(\",univarModel,\") :\",nmae,\"\\n\")\n",
    "\n",
    "    # Save Results to the res Dataframe\n",
    "    resdf[nrow(resdf) + 1,] = c(window,univarModel,mae,nmae)  \n",
    "}"
   ]
  },
  {
   "cell_type": "code",
   "execution_count": 40,
   "id": "1282268d",
   "metadata": {},
   "outputs": [
    {
     "name": "stdout",
     "output_type": "stream",
     "text": [
      "Melhor Valor para MAE:  376.54"
     ]
    },
    {
     "data": {
      "text/html": [
       "<table>\n",
       "<thead><tr><th></th><th scope=col>window</th><th scope=col>model</th><th scope=col>mae</th><th scope=col>nmae</th></tr></thead>\n",
       "<tbody>\n",
       "\t<tr><th scope=row>26</th><td>rolling</td><td>ETS    </td><td>376.54 </td><td>5.05   </td></tr>\n",
       "</tbody>\n",
       "</table>\n"
      ],
      "text/latex": [
       "\\begin{tabular}{r|llll}\n",
       "  & window & model & mae & nmae\\\\\n",
       "\\hline\n",
       "\t26 & rolling & ETS     & 376.54  & 5.05   \\\\\n",
       "\\end{tabular}\n"
      ],
      "text/markdown": [
       "\n",
       "| <!--/--> | window | model | mae | nmae |\n",
       "|---|---|---|---|---|\n",
       "| 26 | rolling | ETS     | 376.54  | 5.05    |\n",
       "\n"
      ],
      "text/plain": [
       "   window  model mae    nmae\n",
       "26 rolling ETS   376.54 5.05"
      ]
     },
     "metadata": {},
     "output_type": "display_data"
    },
    {
     "name": "stdout",
     "output_type": "stream",
     "text": [
      "Melhor Valor para NMAE:  5.05"
     ]
    },
    {
     "data": {
      "text/html": [
       "<table>\n",
       "<thead><tr><th></th><th scope=col>window</th><th scope=col>model</th><th scope=col>mae</th><th scope=col>nmae</th></tr></thead>\n",
       "<tbody>\n",
       "\t<tr><th scope=row>26</th><td>rolling</td><td>ETS    </td><td>376.54 </td><td>5.05   </td></tr>\n",
       "</tbody>\n",
       "</table>\n"
      ],
      "text/latex": [
       "\\begin{tabular}{r|llll}\n",
       "  & window & model & mae & nmae\\\\\n",
       "\\hline\n",
       "\t26 & rolling & ETS     & 376.54  & 5.05   \\\\\n",
       "\\end{tabular}\n"
      ],
      "text/markdown": [
       "\n",
       "| <!--/--> | window | model | mae | nmae |\n",
       "|---|---|---|---|---|\n",
       "| 26 | rolling | ETS     | 376.54  | 5.05    |\n",
       "\n"
      ],
      "text/plain": [
       "   window  model mae    nmae\n",
       "26 rolling ETS   376.54 5.05"
      ]
     },
     "metadata": {},
     "output_type": "display_data"
    },
    {
     "name": "stdout",
     "output_type": "stream",
     "text": [
      "CSV saved in ./resultados/Cenario 1/Modelos Univariados/TS2.csv"
     ]
    }
   ],
   "source": [
    "# Lowest MAE Value in Hibrid Modeling\n",
    "lowestmae = min(as.numeric(resdf[,3]))\n",
    "cat(\"Melhor Valor para MAE: \", lowestmae)\n",
    "# Encontrar as linhas que possuem o menor valor para MAE\n",
    "resdf[resdf$mae %in%lowestmae,]\n",
    "\n",
    "# Lowest NMAE Value in Hibrid Modeling\n",
    "lowestnmae = min(as.numeric(resdf[,4]))\n",
    "cat(\"Melhor Valor para NMAE: \", lowestnmae)\n",
    "# Encontrar as linhas que possuem o menor valor para NMAE\n",
    "resdf[resdf$nmae %in% lowestnmae,]\n",
    "\n",
    "\n",
    "# Save the Results\n",
    "saveResults('1',\"u\",'2')"
   ]
  },
  {
   "cell_type": "markdown",
   "id": "453c684b",
   "metadata": {},
   "source": [
    "## Modelo Hibrido"
   ]
  },
  {
   "cell_type": "code",
   "execution_count": 537,
   "id": "a94b5b32",
   "metadata": {},
   "outputs": [],
   "source": [
    "#Data Prep\n",
    "d1 = data[,1] #coluna all\n",
    "L = length(d1)\n",
    "K=7\n",
    "\n",
    "timelags = c(1:7)\n",
    "D = CasesSeries(d1,timelags)"
   ]
  },
  {
   "cell_type": "markdown",
   "id": "457e8a25",
   "metadata": {},
   "source": [
    "### Modelo Univariado"
   ]
  },
  {
   "cell_type": "code",
   "execution_count": 538,
   "id": "9bc46572",
   "metadata": {},
   "outputs": [],
   "source": [
    "# Data Seperation\n",
    "H=holdout(data$all,ratio=7,mode=\"order\")\n",
    "# Model Training\n",
    "M=fit(y~.,D[H$tr,],model=\"mlpe\") # create forecasting model\n",
    "# Forecast\n",
    "Pred=lforecast(M,D,start=(length(H$tr)+1),7)\n"
   ]
  },
  {
   "cell_type": "code",
   "execution_count": 539,
   "id": "594837d8",
   "metadata": {},
   "outputs": [
    {
     "name": "stdout",
     "output_type": "stream",
     "text": [
      "SMAPE:  13.18 \n",
      "MAE:  559.98 \n",
      "NMAE:  18.65 \n"
     ]
    },
    {
     "data": {
      "image/png": "[encoded data removed]",
      "text/plain": [
       "Plot with title \"\""
      ]
     },
     "metadata": {},
     "output_type": "display_data"
    }
   ],
   "source": [
    "# Metrics\n",
    "Target = d1[H$ts]\n",
    "\n",
    "cat(\"SMAPE: \",round(mmetric(Target,Pred,metric=\"SMAPE\"),2),\"\\n\")\n",
    "cat(\"MAE: \",round(mmetric(Target,Pred,metric=\"MAE\"),2),\"\\n\")\n",
    "cat(\"NMAE: \",round(mmetric(Target,Pred,metric=\"NMAE\"),2),\"\\n\")\n",
    "\n",
    "# last iteration predictions:\n",
    "mgraph(Target,Pred,graph=\"REG\",Grid=10,col=c(\"black\",\"blue\"),\n",
    "leg=list(pos=\"topleft\",leg=c(\"target\",\"predictions\")))"
   ]
  },
  {
   "cell_type": "code",
   "execution_count": 540,
   "id": "77cafc8a",
   "metadata": {},
   "outputs": [
    {
     "data": {
      "text/html": [
       "250"
      ],
      "text/latex": [
       "250"
      ],
      "text/markdown": [
       "250"
      ],
      "text/plain": [
       "[1] 250"
      ]
     },
     "metadata": {},
     "output_type": "display_data"
    },
    {
     "data": {
      "text/html": [
       "7"
      ],
      "text/latex": [
       "7"
      ],
      "text/markdown": [
       "7"
      ],
      "text/plain": [
       "[1] 7"
      ]
     },
     "metadata": {},
     "output_type": "display_data"
    },
    {
     "data": {
      "text/html": [
       "257"
      ],
      "text/latex": [
       "257"
      ],
      "text/markdown": [
       "257"
      ],
      "text/plain": [
       "[1] 257"
      ]
     },
     "metadata": {},
     "output_type": "display_data"
    }
   ],
   "source": [
    "# Previsoes para Dados de Treino com o modelo univariado\n",
    "mfit=predict(M,D[H$tr,])\n",
    "df1 = data.frame(mfit)\n",
    "colnames(df1) <- \"pred\"\n",
    "df2 = data.frame(Pred)\n",
    "# Concatenação dos valores previstos de teste e valores previstos de treino\n",
    "colnames(df2) <- \"pred\"\n",
    "df3 = rbind(df1,df2)\n",
    "\n",
    "nrow(df1)\n",
    "nrow(df2)\n",
    "nrow(df3)"
   ]
  },
  {
   "cell_type": "code",
   "execution_count": 541,
   "id": "77f102ce",
   "metadata": {},
   "outputs": [
    {
     "data": {
      "text/html": [
       "<table>\n",
       "<thead><tr><th scope=col>all</th><th scope=col>weather</th><th scope=col>maxtemp</th><th scope=col>RH</th><th scope=col>maxwind</th><th scope=col>pred</th></tr></thead>\n",
       "<tbody>\n",
       "\t<tr><td>2332    </td><td>0       </td><td>13      </td><td>87      </td><td> 0      </td><td>2809.970</td></tr>\n",
       "\t<tr><td>2801    </td><td>0       </td><td>14      </td><td>94      </td><td>45      </td><td>2883.376</td></tr>\n",
       "\t<tr><td>2375    </td><td>0       </td><td>14      </td><td>82      </td><td>55      </td><td>3081.296</td></tr>\n",
       "\t<tr><td>3447    </td><td>1       </td><td>13      </td><td>78      </td><td> 0      </td><td>3612.664</td></tr>\n",
       "\t<tr><td>4823    </td><td>0       </td><td>16      </td><td>81      </td><td>37      </td><td>4522.962</td></tr>\n",
       "\t<tr><td>4978    </td><td>0       </td><td>16      </td><td>73      </td><td> 0      </td><td>4059.770</td></tr>\n",
       "</tbody>\n",
       "</table>\n"
      ],
      "text/latex": [
       "\\begin{tabular}{r|llllll}\n",
       " all & weather & maxtemp & RH & maxwind & pred\\\\\n",
       "\\hline\n",
       "\t 2332     & 0        & 13       & 87       &  0       & 2809.970\\\\\n",
       "\t 2801     & 0        & 14       & 94       & 45       & 2883.376\\\\\n",
       "\t 2375     & 0        & 14       & 82       & 55       & 3081.296\\\\\n",
       "\t 3447     & 1        & 13       & 78       &  0       & 3612.664\\\\\n",
       "\t 4823     & 0        & 16       & 81       & 37       & 4522.962\\\\\n",
       "\t 4978     & 0        & 16       & 73       &  0       & 4059.770\\\\\n",
       "\\end{tabular}\n"
      ],
      "text/markdown": [
       "\n",
       "| all | weather | maxtemp | RH | maxwind | pred |\n",
       "|---|---|---|---|---|---|\n",
       "| 2332     | 0        | 13       | 87       |  0       | 2809.970 |\n",
       "| 2801     | 0        | 14       | 94       | 45       | 2883.376 |\n",
       "| 2375     | 0        | 14       | 82       | 55       | 3081.296 |\n",
       "| 3447     | 1        | 13       | 78       |  0       | 3612.664 |\n",
       "| 4823     | 0        | 16       | 81       | 37       | 4522.962 |\n",
       "| 4978     | 0        | 16       | 73       |  0       | 4059.770 |\n",
       "\n"
      ],
      "text/plain": [
       "  all  weather maxtemp RH maxwind pred    \n",
       "1 2332 0       13      87  0      2809.970\n",
       "2 2801 0       14      94 45      2883.376\n",
       "3 2375 0       14      82 55      3081.296\n",
       "4 3447 1       13      78  0      3612.664\n",
       "5 4823 0       16      81 37      4522.962\n",
       "6 4978 0       16      73  0      4059.770"
      ]
     },
     "metadata": {},
     "output_type": "display_data"
    }
   ],
   "source": [
    "bind = data.frame(cbind(data,df3))\n",
    "head(bind)"
   ]
  },
  {
   "cell_type": "code",
   "execution_count": 542,
   "id": "e734ebc1",
   "metadata": {},
   "outputs": [
    {
     "name": "stdout",
     "output_type": "stream",
     "text": [
      "Target Values: 4974 3228 3191 4153 4307 4660 6193 \n",
      "Predictions: 3867.294 2994.094 3023.785 3351.093 2697.649 5006.931 6009.645 \n",
      "MAE: 635.62 \n",
      "NMAE: 21.17 \n"
     ]
    },
    {
     "data": {
      "text/html": [
       "<table>\n",
       "<thead><tr><th scope=col>METRICA_MODELO</th><th scope=col>randomForest_simples</th><th scope=col>MR_Simples</th><th scope=col>KSVM_simples</th><th scope=col>MLPE_simples</th><th scope=col>MLPE_CasesSeries</th><th scope=col>MLPE_GW</th><th scope=col>HW_GW</th><th scope=col>Arima_GW</th><th scope=col>NN_GW</th><th scope=col>...</th><th scope=col>ETS_TSF_forecast</th><th scope=col>lm_TSF_rminer</th><th scope=col>mlpe_TSF_rminer</th><th scope=col>naive_TSF_rminer</th><th scope=col>ctree_TSF_rminer</th><th scope=col>mlp_TSF_rminer</th><th scope=col>randomForest_TSF_rminer</th><th scope=col>mr_TSF_rminer</th><th scope=col>rvm_TSF_rminer</th><th scope=col>Hibrido_simples_rminer_mlpe</th></tr></thead>\n",
       "<tbody>\n",
       "\t<tr><td>MAE       </td><td>1080.96   </td><td>1568.75   </td><td>1149.16   </td><td>950.60    </td><td>803.67364 </td><td>835.67010 </td><td>479.448223</td><td>749.38064 </td><td>699.46488 </td><td>...       </td><td>1249.27077</td><td>379.20    </td><td>675.61    </td><td>1073.91   </td><td>550.99    </td><td>510.38    </td><td>499.86    </td><td>379.20    </td><td>638.62    </td><td>635.62    </td></tr>\n",
       "\t<tr><td>NMAE      </td><td>  36.01   </td><td>  52.26   </td><td>  38.28   </td><td> 31.67    </td><td> 26.77127 </td><td> 14.36353 </td><td>  8.240774</td><td> 12.88038 </td><td> 12.02243 </td><td>...       </td><td>  41.61462</td><td> 12.63    </td><td> 22.51    </td><td>  35.77   </td><td> 18.35    </td><td> 17.00    </td><td> 16.65    </td><td> 12.63    </td><td> 21.27    </td><td> 21.17    </td></tr>\n",
       "</tbody>\n",
       "</table>\n"
      ],
      "text/latex": [
       "\\begin{tabular}{r|lllllllllllllllllllllllllllllll}\n",
       " METRICA\\_MODELO & randomForest\\_simples & MR\\_Simples & KSVM\\_simples & MLPE\\_simples & MLPE\\_CasesSeries & MLPE\\_GW & HW\\_GW & Arima\\_GW & NN\\_GW & ... & ETS\\_TSF\\_forecast & lm\\_TSF\\_rminer & mlpe\\_TSF\\_rminer & naive\\_TSF\\_rminer & ctree\\_TSF\\_rminer & mlp\\_TSF\\_rminer & randomForest\\_TSF\\_rminer & mr\\_TSF\\_rminer & rvm\\_TSF\\_rminer & Hibrido\\_simples\\_rminer\\_mlpe\\\\\n",
       "\\hline\n",
       "\t MAE        & 1080.96    & 1568.75    & 1149.16    & 950.60     & 803.67364  & 835.67010  & 479.448223 & 749.38064  & 699.46488  & ...        & 1249.27077 & 379.20     & 675.61     & 1073.91    & 550.99     & 510.38     & 499.86     & 379.20     & 638.62     & 635.62    \\\\\n",
       "\t NMAE       &   36.01    &   52.26    &   38.28    &  31.67     &  26.77127  &  14.36353  &   8.240774 &  12.88038  &  12.02243  & ...        &   41.61462 &  12.63     &  22.51     &   35.77    &  18.35     &  17.00     &  16.65     &  12.63     &  21.27     &  21.17    \\\\\n",
       "\\end{tabular}\n"
      ],
      "text/markdown": [
       "\n",
       "| METRICA_MODELO | randomForest_simples | MR_Simples | KSVM_simples | MLPE_simples | MLPE_CasesSeries | MLPE_GW | HW_GW | Arima_GW | NN_GW | ... | ETS_TSF_forecast | lm_TSF_rminer | mlpe_TSF_rminer | naive_TSF_rminer | ctree_TSF_rminer | mlp_TSF_rminer | randomForest_TSF_rminer | mr_TSF_rminer | rvm_TSF_rminer | Hibrido_simples_rminer_mlpe |\n",
       "|---|---|---|---|---|---|---|---|---|---|---|---|---|---|---|---|---|---|---|---|---|\n",
       "| MAE        | 1080.96    | 1568.75    | 1149.16    | 950.60     | 803.67364  | 835.67010  | 479.448223 | 749.38064  | 699.46488  | ...        | 1249.27077 | 379.20     | 675.61     | 1073.91    | 550.99     | 510.38     | 499.86     | 379.20     | 638.62     | 635.62     |\n",
       "| NMAE       |   36.01    |   52.26    |   38.28    |  31.67     |  26.77127  |  14.36353  |   8.240774 |  12.88038  |  12.02243  | ...        |   41.61462 |  12.63     |  22.51     |   35.77    |  18.35     |  17.00     |  16.65     |  12.63     |  21.27     |  21.17     |\n",
       "\n"
      ],
      "text/plain": [
       "  METRICA_MODELO randomForest_simples MR_Simples KSVM_simples MLPE_simples\n",
       "1 MAE            1080.96              1568.75    1149.16      950.60      \n",
       "2 NMAE             36.01                52.26      38.28       31.67      \n",
       "  MLPE_CasesSeries MLPE_GW   HW_GW      Arima_GW  NN_GW     ...\n",
       "1 803.67364        835.67010 479.448223 749.38064 699.46488 ...\n",
       "2  26.77127         14.36353   8.240774  12.88038  12.02243 ...\n",
       "  ETS_TSF_forecast lm_TSF_rminer mlpe_TSF_rminer naive_TSF_rminer\n",
       "1 1249.27077       379.20        675.61          1073.91         \n",
       "2   41.61462        12.63         22.51            35.77         \n",
       "  ctree_TSF_rminer mlp_TSF_rminer randomForest_TSF_rminer mr_TSF_rminer\n",
       "1 550.99           510.38         499.86                  379.20       \n",
       "2  18.35            17.00          16.65                   12.63       \n",
       "  rvm_TSF_rminer Hibrido_simples_rminer_mlpe\n",
       "1 638.62         635.62                     \n",
       "2  21.27          21.17                     "
      ]
     },
     "metadata": {},
     "output_type": "display_data"
    },
    {
     "data": {
      "image/png": "[encoded data removed]",
      "text/plain": [
       "Plot with title \"MLPE\""
      ]
     },
     "metadata": {},
     "output_type": "display_data"
    }
   ],
   "source": [
    "H=holdout(bind$all,ratio=7,mode=\"order\")\n",
    "\n",
    "# Seleção dos dados de Treino\n",
    "train = bind[H$tr,]\n",
    "\n",
    "# Seleção dos dados de Teste\n",
    "test = bind[H$ts,]\n",
    "\n",
    "MR=fit(all~.,train,model=\"mlpe\")\n",
    "cat(\"Target Values:\",Target,\"\\n\")\n",
    "\n",
    "Pred = predict(MR,test)\n",
    "cat(\"Predictions:\",Pred,\"\\n\")\n",
    "\n",
    "mgraph(Target,Pred,graph=\"REG\",Grid=10,col=c(\"black\",\"blue\"),\n",
    "leg=list(pos=\"topleft\",leg=c(\"target\",\"predictions\")),main=\"MLPE\")\n",
    "mae=round(mmetric(Target,Pred,metric=\"MAE\"),2)\n",
    "nmae=round(mmetric(Target,Pred,metric=\"NMAE\"),2)\n",
    "cat(\"MAE:\",mae,\"\\n\")\n",
    "cat(\"NMAE:\",nmae,\"\\n\")\n",
    "\n",
    "# Guardar os Resultados\n",
    "nomeModelo = \"Hibrido_simples_rminer_mlpe\"\n",
    "resdf[nomeModelo] = c(mae,nmae)\n",
    "resdf"
   ]
  },
  {
   "cell_type": "code",
   "execution_count": 543,
   "id": "8f23b2c8",
   "metadata": {},
   "outputs": [],
   "source": [
    "# Ciclo for com as varias configuracoes do metodo fit para descobrir quais sao as melhroes"
   ]
  },
  {
   "cell_type": "markdown",
   "id": "825228f7",
   "metadata": {},
   "source": [
    "## Modelo Hibrido (Window Training)"
   ]
  },
  {
   "cell_type": "code",
   "execution_count": 47,
   "id": "89253afd",
   "metadata": {},
   "outputs": [],
   "source": [
    "# Create Dataframe for Result Storage\n",
    "resdf <- data.frame(matrix(ncol = 5, nrow = 0))\n",
    "# Name the Columns\n",
    "colnames(resdf) <- c('window','uni','multi','mae','nmae')\n",
    "\n",
    "d1 = data[,1] # coluna all\n",
    "L = length(d1) # 257\n",
    "K=7\n",
    "Test=K # H, the number of multi-ahead steps, adjust if needed\n",
    "S=K # step jump: set in this case to 7 predictions\n",
    "Runs=10 # number of growing window iterations, adjust if needed (49 dias)\n",
    "\n",
    "# forecast:\n",
    "W=(L-Test)-(Runs-1)*S # initial training window size for the ts space (forecast methods)\n",
    "\n",
    "# rminer:\n",
    "timelags=c(1:7) # 1 previous day until 7 previous days\n",
    "D=CasesSeries(d1,timelags) # note: nrow(D) is smaller by max timelags than length(d1)\n",
    "W2=W-max(timelags) # initial training window size for the D space (CasesSeries, rminer methods)\n",
    "\n",
    "YR=diff(range(d1)) # global Y range, use the same range for the NMAE calculation in all iterations\n",
    "\n",
    "ev=vector(length=Runs) # error vector for \"mlpe\"\n",
    "evn=vector(length=Runs) # error vector for \"mlpe\"\n",
    "\n",
    "# growing window demo, rolling window can also be used:\n",
    "\n",
    "# code for 1 iteration:\n",
    "b=1\n",
    "\n",
    "#rminer\n",
    "models <- c(\"lm\",\"mlpe\",\"naive\",\"ctree\",\"mlp\",\"randomForest\",\"mr\",\"rvm\",\"ksvm\")"
   ]
  },
  {
   "cell_type": "markdown",
   "id": "885c6cbd",
   "metadata": {},
   "source": [
    "### Growing/Rolling Window (Rminer + Rminer)"
   ]
  },
  {
   "cell_type": "code",
   "execution_count": 52,
   "id": "18a5be05",
   "metadata": {},
   "outputs": [
    {
     "name": "stdout",
     "output_type": "stream",
     "text": [
      "\n",
      " Mean MAE( lm + lm ) : 695.58 \n",
      " Mean NMAE( lm + lm ) : 9.34 \n",
      "--------------------------------------------------------------------------\n",
      " Mean MAE( lm + mlpe ) : 844.83 \n",
      " Mean NMAE( lm + mlpe ) : 11.34 \n",
      "--------------------------------------------------------------------------\n",
      " Mean MAE( lm + naive ) : 644.9 \n",
      " Mean NMAE( lm + naive ) : 8.66 \n",
      "--------------------------------------------------------------------------\n",
      " Mean MAE( lm + ctree ) : 806.2 \n",
      " Mean NMAE( lm + ctree ) : 10.82 \n",
      "--------------------------------------------------------------------------\n",
      " Mean MAE( lm + mlp ) : 841.38 \n",
      " Mean NMAE( lm + mlp ) : 11.29 \n",
      "--------------------------------------------------------------------------\n",
      " Mean MAE( lm + randomForest ) : 732.16 \n",
      " Mean NMAE( lm + randomForest ) : 9.83 \n",
      "--------------------------------------------------------------------------\n",
      " Mean MAE( lm + mr ) : 695.58 \n",
      " Mean NMAE( lm + mr ) : 9.34 \n",
      "--------------------------------------------------------------------------\n",
      " Mean MAE( lm + rvm ) : 791.92 \n",
      " Mean NMAE( lm + rvm ) : 10.63 \n",
      "--------------------------------------------------------------------------\n",
      " Mean MAE( lm + ksvm ) : 659.53 \n",
      " Mean NMAE( lm + ksvm ) : 8.85 \n",
      "--------------------------------------------------------------------------\n",
      " Mean MAE( mlpe + lm ) : 658.07 \n",
      " Mean NMAE( mlpe + lm ) : 8.83 \n",
      "--------------------------------------------------------------------------\n",
      " Mean MAE( mlpe + mlpe ) : 703.8 \n",
      " Mean NMAE( mlpe + mlpe ) : 9.45 \n",
      "--------------------------------------------------------------------------\n",
      " Mean MAE( mlpe + naive ) : 644.9 \n",
      " Mean NMAE( mlpe + naive ) : 8.66 \n",
      "--------------------------------------------------------------------------\n",
      " Mean MAE( mlpe + ctree ) : 775.75 \n",
      " Mean NMAE( mlpe + ctree ) : 10.41 \n",
      "--------------------------------------------------------------------------\n",
      " Mean MAE( mlpe + mlp ) : 673.57 \n",
      " Mean NMAE( mlpe + mlp ) : 9.04 \n",
      "--------------------------------------------------------------------------\n",
      " Mean MAE( mlpe + randomForest ) : 684.41 \n",
      " Mean NMAE( mlpe + randomForest ) : 9.19 \n",
      "--------------------------------------------------------------------------\n",
      " Mean MAE( mlpe + mr ) : 635.21 \n",
      " Mean NMAE( mlpe + mr ) : 8.53 \n",
      "--------------------------------------------------------------------------\n",
      " Mean MAE( mlpe + rvm ) : 670.46 \n",
      " Mean NMAE( mlpe + rvm ) : 9 \n",
      "--------------------------------------------------------------------------\n",
      " Mean MAE( mlpe + ksvm ) : 543.09 \n",
      " Mean NMAE( mlpe + ksvm ) : 7.29 \n",
      "--------------------------------------------------------------------------"
     ]
    },
    {
     "name": "stderr",
     "output_type": "stream",
     "text": [
      "Warning message in predict.lm(object@object, newdata):\n",
      "\"prediction from a rank-deficient fit may be misleading\"Warning message in predict.lm(object@object, newdata):\n",
      "\"prediction from a rank-deficient fit may be misleading\"Warning message in predict.lm(object@object, newdata):\n",
      "\"prediction from a rank-deficient fit may be misleading\"Warning message in predict.lm(object@object, newdata):\n",
      "\"prediction from a rank-deficient fit may be misleading\"Warning message in predict.lm(object@object, newdata):\n",
      "\"prediction from a rank-deficient fit may be misleading\"Warning message in predict.lm(object@object, newdata):\n",
      "\"prediction from a rank-deficient fit may be misleading\"Warning message in predict.lm(object@object, newdata):\n",
      "\"prediction from a rank-deficient fit may be misleading\"Warning message in predict.lm(object@object, newdata):\n",
      "\"prediction from a rank-deficient fit may be misleading\"Warning message in predict.lm(object@object, newdata):\n",
      "\"prediction from a rank-deficient fit may be misleading\"Warning message in predict.lm(object@object, newdata):\n",
      "\"prediction from a rank-deficient fit may be misleading\""
     ]
    },
    {
     "name": "stdout",
     "output_type": "stream",
     "text": [
      "\n",
      " Mean MAE( naive + lm ) : 671.45 \n",
      " Mean NMAE( naive + lm ) : 9.01 \n",
      "--------------------------------------------------------------------------\n",
      " Mean MAE( naive + mlpe ) : 644.9 \n",
      " Mean NMAE( naive + mlpe ) : 8.66 \n",
      "--------------------------------------------------------------------------\n",
      " Mean MAE( naive + naive ) : 644.9 \n",
      " Mean NMAE( naive + naive ) : 8.66 \n",
      "--------------------------------------------------------------------------\n",
      " Mean MAE( naive + ctree ) : 795.81 \n",
      " Mean NMAE( naive + ctree ) : 10.68 \n",
      "--------------------------------------------------------------------------\n",
      " Mean MAE( naive + mlp ) : 644.9 \n",
      " Mean NMAE( naive + mlp ) : 8.66 \n",
      "--------------------------------------------------------------------------\n",
      " Mean MAE( naive + randomForest ) : 702.96 \n",
      " Mean NMAE( naive + randomForest ) : 9.43 \n",
      "--------------------------------------------------------------------------\n",
      " Mean MAE( naive + mr ) : 671.45 \n",
      " Mean NMAE( naive + mr ) : 9.01 \n",
      "--------------------------------------------------------------------------\n",
      " Mean MAE( naive + rvm ) : 734.65 \n",
      " Mean NMAE( naive + rvm ) : 9.86 "
     ]
    },
    {
     "name": "stderr",
     "output_type": "stream",
     "text": [
      "Warning message in .local(x, ...):\n",
      "\"Variable(s) `' constant. Cannot scale data.\"Warning message in .local(x, ...):\n",
      "\"Variable(s) `' constant. Cannot scale data.\"Warning message in .local(x, ...):\n",
      "\"Variable(s) `' constant. Cannot scale data.\"Warning message in .local(x, ...):\n",
      "\"Variable(s) `' constant. Cannot scale data.\"Warning message in .local(x, ...):\n",
      "\"Variable(s) `' constant. Cannot scale data.\"Warning message in .local(x, ...):\n",
      "\"Variable(s) `' constant. Cannot scale data.\"Warning message in .local(x, ...):\n",
      "\"Variable(s) `' constant. Cannot scale data.\"Warning message in .local(x, ...):\n",
      "\"Variable(s) `' constant. Cannot scale data.\"Warning message in .local(x, ...):\n",
      "\"Variable(s) `' constant. Cannot scale data.\"Warning message in .local(x, ...):\n",
      "\"Variable(s) `' constant. Cannot scale data.\""
     ]
    },
    {
     "name": "stdout",
     "output_type": "stream",
     "text": [
      "--------------------------------------------------------------------------\n",
      " Mean MAE( naive + ksvm ) : 650.63 \n",
      " Mean NMAE( naive + ksvm ) : 8.73 \n",
      "--------------------------------------------------------------------------\n",
      " Mean MAE( ctree + lm ) : 703.77 \n",
      " Mean NMAE( ctree + lm ) : 9.45 \n",
      "--------------------------------------------------------------------------\n",
      " Mean MAE( ctree + mlpe ) : 816.44 \n",
      " Mean NMAE( ctree + mlpe ) : 10.96 \n",
      "--------------------------------------------------------------------------\n",
      " Mean MAE( ctree + naive ) : 644.9 \n",
      " Mean NMAE( ctree + naive ) : 8.66 \n",
      "--------------------------------------------------------------------------\n",
      " Mean MAE( ctree + ctree ) : 813.94 \n",
      " Mean NMAE( ctree + ctree ) : 10.92 \n",
      "--------------------------------------------------------------------------\n",
      " Mean MAE( ctree + mlp ) : 960.76 \n",
      " Mean NMAE( ctree + mlp ) : 12.89 \n",
      "--------------------------------------------------------------------------\n",
      " Mean MAE( ctree + randomForest ) : 764.66 \n",
      " Mean NMAE( ctree + randomForest ) : 10.26 \n",
      "--------------------------------------------------------------------------\n",
      " Mean MAE( ctree + mr ) : 703.77 \n",
      " Mean NMAE( ctree + mr ) : 9.45 \n",
      "--------------------------------------------------------------------------\n",
      " Mean MAE( ctree + rvm ) : 763.7 \n",
      " Mean NMAE( ctree + rvm ) : 10.25 \n",
      "--------------------------------------------------------------------------\n",
      " Mean MAE( ctree + ksvm ) : 708.14 \n",
      " Mean NMAE( ctree + ksvm ) : 9.5 \n",
      "--------------------------------------------------------------------------\n",
      " Mean MAE( mlp + lm ) : 689.68 \n",
      " Mean NMAE( mlp + lm ) : 9.26 \n",
      "--------------------------------------------------------------------------\n",
      " Mean MAE( mlp + mlpe ) : 715.72 \n",
      " Mean NMAE( mlp + mlpe ) : 9.61 \n",
      "--------------------------------------------------------------------------\n",
      " Mean MAE( mlp + naive ) : 644.9 \n",
      " Mean NMAE( mlp + naive ) : 8.66 \n",
      "--------------------------------------------------------------------------\n",
      " Mean MAE( mlp + ctree ) : 758.67 \n",
      " Mean NMAE( mlp + ctree ) : 10.18 \n",
      "--------------------------------------------------------------------------\n",
      " Mean MAE( mlp + mlp ) : 953.38 \n",
      " Mean NMAE( mlp + mlp ) : 12.8 \n",
      "--------------------------------------------------------------------------\n",
      " Mean MAE( mlp + randomForest ) : 690.63 \n",
      " Mean NMAE( mlp + randomForest ) : 9.27 \n",
      "--------------------------------------------------------------------------\n",
      " Mean MAE( mlp + mr ) : 626.32 \n",
      " Mean NMAE( mlp + mr ) : 8.41 \n",
      "--------------------------------------------------------------------------\n",
      " Mean MAE( mlp + rvm ) : 668.45 \n",
      " Mean NMAE( mlp + rvm ) : 8.97 \n",
      "--------------------------------------------------------------------------\n",
      " Mean MAE( mlp + ksvm ) : 569.79 \n",
      " Mean NMAE( mlp + ksvm ) : 7.65 \n",
      "--------------------------------------------------------------------------\n",
      " Mean MAE( randomForest + lm ) : 615.12 \n",
      " Mean NMAE( randomForest + lm ) : 8.26 \n",
      "--------------------------------------------------------------------------\n",
      " Mean MAE( randomForest + mlpe ) : 681.76 \n",
      " Mean NMAE( randomForest + mlpe ) : 9.15 \n",
      "--------------------------------------------------------------------------\n",
      " Mean MAE( randomForest + naive ) : 644.9 \n",
      " Mean NMAE( randomForest + naive ) : 8.66 \n",
      "--------------------------------------------------------------------------\n",
      " Mean MAE( randomForest + ctree ) : 765.8 \n",
      " Mean NMAE( randomForest + ctree ) : 10.28 \n",
      "--------------------------------------------------------------------------\n",
      " Mean MAE( randomForest + mlp ) : 739.6 \n",
      " Mean NMAE( randomForest + mlp ) : 9.93 \n",
      "--------------------------------------------------------------------------\n",
      " Mean MAE( randomForest + randomForest ) : 678.84 \n",
      " Mean NMAE( randomForest + randomForest ) : 9.11 \n",
      "--------------------------------------------------------------------------\n",
      " Mean MAE( randomForest + mr ) : 618.58 \n",
      " Mean NMAE( randomForest + mr ) : 8.3 \n",
      "--------------------------------------------------------------------------\n",
      " Mean MAE( randomForest + rvm ) : 651.07 \n",
      " Mean NMAE( randomForest + rvm ) : 8.74 \n",
      "--------------------------------------------------------------------------\n",
      " Mean MAE( randomForest + ksvm ) : 593.47 \n",
      " Mean NMAE( randomForest + ksvm ) : 7.96 \n",
      "--------------------------------------------------------------------------\n",
      " Mean MAE( mr + lm ) : 695.58 \n",
      " Mean NMAE( mr + lm ) : 9.34 \n",
      "--------------------------------------------------------------------------\n",
      " Mean MAE( mr + mlpe ) : 785.48 \n",
      " Mean NMAE( mr + mlpe ) : 10.54 \n",
      "--------------------------------------------------------------------------\n",
      " Mean MAE( mr + naive ) : 644.9 \n",
      " Mean NMAE( mr + naive ) : 8.66 \n",
      "--------------------------------------------------------------------------\n",
      " Mean MAE( mr + ctree ) : 806.2 \n",
      " Mean NMAE( mr + ctree ) : 10.82 \n",
      "--------------------------------------------------------------------------\n",
      " Mean MAE( mr + mlp ) : 818.32 \n",
      " Mean NMAE( mr + mlp ) : 10.98 \n",
      "--------------------------------------------------------------------------\n",
      " Mean MAE( mr + randomForest ) : 723.11 \n",
      " Mean NMAE( mr + randomForest ) : 9.7 \n",
      "--------------------------------------------------------------------------\n",
      " Mean MAE( mr + mr ) : 695.58 \n",
      " Mean NMAE( mr + mr ) : 9.34 \n",
      "--------------------------------------------------------------------------\n",
      " Mean MAE( mr + rvm ) : 811.44 \n",
      " Mean NMAE( mr + rvm ) : 10.89 \n",
      "--------------------------------------------------------------------------\n",
      " Mean MAE( mr + ksvm ) : 653.31 \n",
      " Mean NMAE( mr + ksvm ) : 8.77 \n",
      "--------------------------------------------------------------------------\n",
      " Mean MAE( rvm + lm ) : 655.06 \n",
      " Mean NMAE( rvm + lm ) : 8.79 \n",
      "--------------------------------------------------------------------------\n",
      " Mean MAE( rvm + mlpe ) : 719.96 \n",
      " Mean NMAE( rvm + mlpe ) : 9.66 \n",
      "--------------------------------------------------------------------------\n",
      " Mean MAE( rvm + naive ) : 644.9 \n",
      " Mean NMAE( rvm + naive ) : 8.66 \n",
      "--------------------------------------------------------------------------\n",
      " Mean MAE( rvm + ctree ) : 727.07 \n",
      " Mean NMAE( rvm + ctree ) : 9.76 \n",
      "--------------------------------------------------------------------------\n",
      " Mean MAE( rvm + mlp ) : 725.05 \n",
      " Mean NMAE( rvm + mlp ) : 9.73 \n",
      "--------------------------------------------------------------------------\n",
      " Mean MAE( rvm + randomForest ) : 679.39 \n",
      " Mean NMAE( rvm + randomForest ) : 9.12 \n",
      "--------------------------------------------------------------------------\n",
      " Mean MAE( rvm + mr ) : 659.04 \n",
      " Mean NMAE( rvm + mr ) : 8.84 \n",
      "--------------------------------------------------------------------------\n",
      " Mean MAE( rvm + rvm ) : 768.89 \n",
      " Mean NMAE( rvm + rvm ) : 10.32 \n",
      "--------------------------------------------------------------------------\n",
      " Mean MAE( rvm + ksvm ) : 576.99 \n",
      " Mean NMAE( rvm + ksvm ) : 7.74 \n",
      "--------------------------------------------------------------------------\n",
      " Mean MAE( ksvm + lm ) : 549.69 \n",
      " Mean NMAE( ksvm + lm ) : 7.38 \n",
      "--------------------------------------------------------------------------\n",
      " Mean MAE( ksvm + mlpe ) : 597.4 \n",
      " Mean NMAE( ksvm + mlpe ) : 8.02 \n",
      "--------------------------------------------------------------------------\n",
      " Mean MAE( ksvm + naive ) : 644.9 \n",
      " Mean NMAE( ksvm + naive ) : 8.66 \n",
      "--------------------------------------------------------------------------\n",
      " Mean MAE( ksvm + ctree ) : 699.15 \n",
      " Mean NMAE( ksvm + ctree ) : 9.38 \n",
      "--------------------------------------------------------------------------\n",
      " Mean MAE( ksvm + mlp ) : 654.92 \n",
      " Mean NMAE( ksvm + mlp ) : 8.79 \n",
      "--------------------------------------------------------------------------\n",
      " Mean MAE( ksvm + randomForest ) : 657.16 \n",
      " Mean NMAE( ksvm + randomForest ) : 8.82 \n",
      "--------------------------------------------------------------------------\n",
      " Mean MAE( ksvm + mr ) : 542.89 \n",
      " Mean NMAE( ksvm + mr ) : 7.29 \n",
      "--------------------------------------------------------------------------\n",
      " Mean MAE( ksvm + rvm ) : 670.48 \n",
      " Mean NMAE( ksvm + rvm ) : 9 \n",
      "--------------------------------------------------------------------------\n",
      " Mean MAE( ksvm + ksvm ) : 583.15 \n",
      " Mean NMAE( ksvm + ksvm ) : 7.83 \n",
      "--------------------------------------------------------------------------"
     ]
    }
   ],
   "source": [
    "window = \"rolling\" # Growing Window = \"incremental\" / Rolling Window = \"rolling\"\n",
    "for (uni in 1:length(models)){\n",
    "    for (multi in 1:length(models)){\n",
    "        for (b in 1:Runs) {\n",
    "            H = holdout(D$y, ratio=Test, mode=window, iter=b, window=W2,increment=S)\n",
    "            M = fit(y~.,D[H$tr,],model=models[uni])\n",
    "            Pred = lforecast(M,D,start=(length(H$tr)+1),Test)\n",
    "            PrevPred = predict(M,D[H$tr,])\n",
    "\n",
    "            TRSIZE=length(PrevPred)\n",
    "            LPRED=length(Pred)\n",
    "            RSIZE=TRSIZE+LPRED\n",
    "            # Juntar as previsoes de treino e teste do Modelo Univariado\n",
    "            mlpecolumn=c(PrevPred,Pred)\n",
    "\n",
    "            # Juntar as colunas das previsões do Modelo Univariado com as target e as variaveis ambientais\n",
    "            HD=cbind(mlpe=mlpecolumn,y=D$y[1:RSIZE],data[1:RSIZE,2:5])\n",
    "            HD=data.frame(HD)\n",
    "\n",
    "            M2=fit(y~.,HD[1:TRSIZE,],model=models[multi]) # create forecasting model\n",
    "            Pred2=predict(M2,HD[(TRSIZE+1):(RSIZE),]) # multi-step ahead forecasts\n",
    "            ev[b]=mmetric(y=D[H$ts,]$y,x=Pred2,metric=\"MAE\",val=YR)\n",
    "            evn[b]=mmetric(y=D[H$ts,]$y,x=Pred2,metric=\"NMAE\",val=YR)\n",
    "        }\n",
    "        # Print Results\n",
    "        mae = round(mean(ev),digits=2)\n",
    "        nmae = round(mean(evn),digits=2)\n",
    "        cat(\"\\n Mean MAE(\",models[uni],\"+\",models[multi],\") :\",mae,\"\\n\")    \n",
    "        cat(\" Mean NMAE(\",models[uni],\"+\",models[multi],\") :\",nmae,\"\\n\")\n",
    "        cat(\"--------------------------------------------------------------------------\")\n",
    "        \n",
    "        # Save Results to the res Dataframe\n",
    "        resdf[nrow(resdf) + 1,] = c(window,models[uni],models[multi],mae,nmae)        \n",
    "    }\n",
    "}"
   ]
  },
  {
   "cell_type": "code",
   "execution_count": 49,
   "id": "ea2ca4bf",
   "metadata": {},
   "outputs": [
    {
     "data": {
      "text/html": [
       "81"
      ],
      "text/latex": [
       "81"
      ],
      "text/markdown": [
       "81"
      ],
      "text/plain": [
       "[1] 81"
      ]
     },
     "metadata": {},
     "output_type": "display_data"
    }
   ],
   "source": [
    "nrow(resdf)"
   ]
  },
  {
   "cell_type": "markdown",
   "id": "31b4f4c8",
   "metadata": {},
   "source": [
    "### Growing/Rolling Window (Forecast + Rminer)"
   ]
  },
  {
   "cell_type": "code",
   "execution_count": 53,
   "id": "4eca51d8",
   "metadata": {},
   "outputs": [
    {
     "name": "stdout",
     "output_type": "stream",
     "text": [
      "\n",
      " Mean MAE( HW  +  lm ) : 575.76 \n",
      " Mean NMAE( HW  +  lm ) : 7.73 \n",
      "\n",
      " Mean MAE( HW  +  mlpe ) : 678.06 \n",
      " Mean NMAE( HW  +  mlpe ) : 9.1 \n",
      "\n",
      " Mean MAE( HW  +  naive ) : 637.27 \n",
      " Mean NMAE( HW  +  naive ) : 8.55 \n",
      "\n",
      " Mean MAE( HW  +  ctree ) : 777.3 \n",
      " Mean NMAE( HW  +  ctree ) : 10.43 \n",
      "\n",
      " Mean MAE( HW  +  mlp ) : 667.72 \n",
      " Mean NMAE( HW  +  mlp ) : 8.96 \n",
      "\n",
      " Mean MAE( HW  +  randomForest ) : 698.95 \n",
      " Mean NMAE( HW  +  randomForest ) : 9.38 \n",
      "\n",
      " Mean MAE( HW  +  mr ) : 575.76 \n",
      " Mean NMAE( HW  +  mr ) : 7.73 \n",
      "\n",
      " Mean MAE( HW  +  rvm ) : 701.86 \n",
      " Mean NMAE( HW  +  rvm ) : 9.42 \n",
      "\n",
      " Mean MAE( HW  +  ksvm ) : 696.24 \n",
      " Mean NMAE( HW  +  ksvm ) : 9.34 \n",
      "\n",
      " Mean MAE( Arima  +  lm ) : 693.7 \n",
      " Mean NMAE( Arima  +  lm ) : 9.31 \n",
      "\n",
      " Mean MAE( Arima  +  mlpe ) : 702.87 \n",
      " Mean NMAE( Arima  +  mlpe ) : 9.43 \n",
      "\n",
      " Mean MAE( Arima  +  naive ) : 643.29 \n",
      " Mean NMAE( Arima  +  naive ) : 8.63 \n",
      "\n",
      " Mean MAE( Arima  +  ctree ) : 746.15 \n",
      " Mean NMAE( Arima  +  ctree ) : 10.01 \n",
      "\n",
      " Mean MAE( Arima  +  mlp ) : 774.54 \n",
      " Mean NMAE( Arima  +  mlp ) : 10.4 \n",
      "\n",
      " Mean MAE( Arima  +  randomForest ) : 685.29 \n",
      " Mean NMAE( Arima  +  randomForest ) : 9.2 \n",
      "\n",
      " Mean MAE( Arima  +  mr ) : 693.7 \n",
      " Mean NMAE( Arima  +  mr ) : 9.31 \n",
      "\n",
      " Mean MAE( Arima  +  rvm ) : 652.06 \n",
      " Mean NMAE( Arima  +  rvm ) : 8.75 \n",
      "\n",
      " Mean MAE( Arima  +  ksvm ) : 584.88 \n",
      " Mean NMAE( Arima  +  ksvm ) : 7.85 \n",
      "\n",
      " Mean MAE( NN  +  lm ) : 617.97 \n",
      " Mean NMAE( NN  +  lm ) : 8.29 \n",
      "\n",
      " Mean MAE( NN  +  mlpe ) : 719.06 \n",
      " Mean NMAE( NN  +  mlpe ) : 9.65 \n",
      "\n",
      " Mean MAE( NN  +  naive ) : 637.27 \n",
      " Mean NMAE( NN  +  naive ) : 8.55 \n",
      "\n",
      " Mean MAE( NN  +  ctree ) : 834.69 \n",
      " Mean NMAE( NN  +  ctree ) : 11.2 \n",
      "\n",
      " Mean MAE( NN  +  mlp ) : 730.05 \n",
      " Mean NMAE( NN  +  mlp ) : 9.8 \n",
      "\n",
      " Mean MAE( NN  +  randomForest ) : 746.91 \n",
      " Mean NMAE( NN  +  randomForest ) : 10.02 \n",
      "\n",
      " Mean MAE( NN  +  mr ) : 627.73 \n",
      " Mean NMAE( NN  +  mr ) : 8.42 \n",
      "\n",
      " Mean MAE( NN  +  rvm ) : 575.23 \n",
      " Mean NMAE( NN  +  rvm ) : 7.72 \n",
      "\n",
      " Mean MAE( NN  +  ksvm ) : 757.66 \n",
      " Mean NMAE( NN  +  ksvm ) : 10.17 \n",
      "\n",
      " Mean MAE( ETS  +  lm ) : 583.91 \n",
      " Mean NMAE( ETS  +  lm ) : 7.84 \n",
      "\n",
      " Mean MAE( ETS  +  mlpe ) : 537.36 \n",
      " Mean NMAE( ETS  +  mlpe ) : 7.21 \n",
      "\n",
      " Mean MAE( ETS  +  naive ) : 643.29 \n",
      " Mean NMAE( ETS  +  naive ) : 8.63 \n",
      "\n",
      " Mean MAE( ETS  +  ctree ) : 623.36 \n",
      " Mean NMAE( ETS  +  ctree ) : 8.37 \n",
      "\n",
      " Mean MAE( ETS  +  mlp ) : 710.79 \n",
      " Mean NMAE( ETS  +  mlp ) : 9.54 \n",
      "\n",
      " Mean MAE( ETS  +  randomForest ) : 620.83 \n",
      " Mean NMAE( ETS  +  randomForest ) : 8.33 \n",
      "\n",
      " Mean MAE( ETS  +  mr ) : 583.91 \n",
      " Mean NMAE( ETS  +  mr ) : 7.84 \n",
      "\n",
      " Mean MAE( ETS  +  rvm ) : 541.32 \n",
      " Mean NMAE( ETS  +  rvm ) : 7.27 \n",
      "\n",
      " Mean MAE( ETS  +  ksvm ) : 469.61 \n",
      " Mean NMAE( ETS  +  ksvm ) : 6.3 \n"
     ]
    }
   ],
   "source": [
    "# Reinitialize the metric vectors\n",
    "ev=vector(length=Runs) # error vector for \"mlpe\"\n",
    "evn=vector(length=Runs) # error vector for \"mlpe\"\n",
    "\n",
    "univarModels = c(\"HW\",\"Arima\",\"NN\",\"ETS\")\n",
    "for (u in 1:length(univarModels)){\n",
    "    for (m in 1:length(models)){\n",
    "        for (b in 1:Runs) {\n",
    "        # Holdout with window\n",
    "        H = holdout(d1, ratio=Test, mode=window, iter=b, window=W,increment=S)\n",
    "        # Time Series\n",
    "        dtr = ts(d1[H$tr],frequency=K)\n",
    "\n",
    "        univarModel = univarModels[u]\n",
    "            \n",
    "        switch(  \n",
    "        univarModel,  \n",
    "        \"HW\"= {M = suppressWarnings(HoltWinters(dtr)); PrevPred = M$fitted[1:nrow(M$fitted)]},\n",
    "        \"Arima\"= {M = suppressWarnings(auto.arima(dtr)); PrevPred = fitted(M)},\n",
    "        \"NN\"= {M = suppressWarnings(nnetar(dtr,p=7)); PrevPred = M$fitted[8:length(M$fitted)]},\n",
    "        \"ETS\"= {M = suppressWarnings(ets(dtr)); PrevPred = fitted(M)},\n",
    "        )  \n",
    "\n",
    "        # Predicting 7 test values\n",
    "        Pred = forecast(M,h=length(H$ts))$mean[1:Test]\n",
    "\n",
    "        # Creating a Dataframe with all univariate predictions\n",
    "        uniPred = c(PrevPred,Pred)\n",
    "        HD = cbind(uniPred=uniPred,data[1:length(uniPred),2:5],y=d1[1:length(uniPred)])\n",
    "        HD = data.frame(HD)\n",
    "\n",
    "        TRSIZE=length(PrevPred)\n",
    "        LPRED=length(Pred)\n",
    "        RSIZE=TRSIZE+LPRED\n",
    "\n",
    "        # Creating Multivariate Model with new Dataframe\n",
    "        M2=fit(y~.,HD[1:TRSIZE,],model=models[m]) # create forecasting model\n",
    "        Pred2=predict(M2,HD[(TRSIZE+1):(RSIZE),]) # multi-step ahead forecasts\n",
    "        ev[b]=mmetric(y=d1[H$ts],x=Pred2,metric=\"MAE\",val=YR)\n",
    "        evn[b]=mmetric(y=d1[H$ts],x=Pred2,metric=\"NMAE\",val=YR)\n",
    "        }\n",
    "        mae=round(mean(ev),digits=2)\n",
    "        nmae=round(mean(evn),digits=2)\n",
    "        cat(\"\\n Mean MAE(\",univarModel,\" + \",models[m],\") :\",mae,\"\\n\")    \n",
    "        cat(\" Mean NMAE(\",univarModel,\" + \",models[m],\") :\",nmae,\"\\n\")\n",
    "        \n",
    "        # Save Results to the res Dataframe\n",
    "        resdf[nrow(resdf) + 1,] = c(window,univarModel,models[m],mae,nmae)  \n",
    "    }\n",
    "}"
   ]
  },
  {
   "cell_type": "code",
   "execution_count": 56,
   "id": "3de6cf31",
   "metadata": {},
   "outputs": [
    {
     "data": {
      "text/html": [
       "<table>\n",
       "<thead><tr><th scope=col>window</th><th scope=col>uni</th><th scope=col>multi</th><th scope=col>mae</th><th scope=col>nmae</th></tr></thead>\n",
       "<tbody>\n",
       "\t<tr><td>incremental </td><td>lm          </td><td>lm          </td><td>529.05      </td><td>7.1         </td></tr>\n",
       "\t<tr><td>incremental </td><td>lm          </td><td>mlpe        </td><td>615.88      </td><td>8.27        </td></tr>\n",
       "\t<tr><td>incremental </td><td>lm          </td><td>naive       </td><td>631.08      </td><td>8.47        </td></tr>\n",
       "\t<tr><td>incremental </td><td>lm          </td><td>ctree       </td><td>548.5       </td><td>7.36        </td></tr>\n",
       "\t<tr><td>incremental </td><td>lm          </td><td>mlp         </td><td>660.46      </td><td>8.86        </td></tr>\n",
       "\t<tr><td>incremental </td><td>lm          </td><td>randomForest</td><td>566.26      </td><td>7.6         </td></tr>\n",
       "</tbody>\n",
       "</table>\n"
      ],
      "text/latex": [
       "\\begin{tabular}{r|lllll}\n",
       " window & uni & multi & mae & nmae\\\\\n",
       "\\hline\n",
       "\t incremental  & lm           & lm           & 529.05       & 7.1         \\\\\n",
       "\t incremental  & lm           & mlpe         & 615.88       & 8.27        \\\\\n",
       "\t incremental  & lm           & naive        & 631.08       & 8.47        \\\\\n",
       "\t incremental  & lm           & ctree        & 548.5        & 7.36        \\\\\n",
       "\t incremental  & lm           & mlp          & 660.46       & 8.86        \\\\\n",
       "\t incremental  & lm           & randomForest & 566.26       & 7.6         \\\\\n",
       "\\end{tabular}\n"
      ],
      "text/markdown": [
       "\n",
       "| window | uni | multi | mae | nmae |\n",
       "|---|---|---|---|---|\n",
       "| incremental  | lm           | lm           | 529.05       | 7.1          |\n",
       "| incremental  | lm           | mlpe         | 615.88       | 8.27         |\n",
       "| incremental  | lm           | naive        | 631.08       | 8.47         |\n",
       "| incremental  | lm           | ctree        | 548.5        | 7.36         |\n",
       "| incremental  | lm           | mlp          | 660.46       | 8.86         |\n",
       "| incremental  | lm           | randomForest | 566.26       | 7.6          |\n",
       "\n"
      ],
      "text/plain": [
       "  window      uni multi        mae    nmae\n",
       "1 incremental lm  lm           529.05 7.1 \n",
       "2 incremental lm  mlpe         615.88 8.27\n",
       "3 incremental lm  naive        631.08 8.47\n",
       "4 incremental lm  ctree        548.5  7.36\n",
       "5 incremental lm  mlp          660.46 8.86\n",
       "6 incremental lm  randomForest 566.26 7.6 "
      ]
     },
     "metadata": {},
     "output_type": "display_data"
    },
    {
     "name": "stdout",
     "output_type": "stream",
     "text": [
      "234"
     ]
    }
   ],
   "source": [
    "# HyperParameter Tuning (GridSearch)\n",
    "head(resdf)\n",
    "cat(nrow(resdf))"
   ]
  },
  {
   "cell_type": "code",
   "execution_count": 57,
   "id": "d938f0bf",
   "metadata": {},
   "outputs": [
    {
     "name": "stdout",
     "output_type": "stream",
     "text": [
      "Melhor Valor para MAE:  402.53"
     ]
    },
    {
     "data": {
      "text/html": [
       "<table>\n",
       "<thead><tr><th></th><th scope=col>window</th><th scope=col>uni</th><th scope=col>multi</th><th scope=col>mae</th><th scope=col>nmae</th></tr></thead>\n",
       "<tbody>\n",
       "\t<tr><th scope=row>82</th><td>incremental</td><td>HW         </td><td>lm         </td><td>402.53     </td><td>5.4        </td></tr>\n",
       "\t<tr><th scope=row>88</th><td>incremental</td><td>HW         </td><td>mr         </td><td>402.53     </td><td>5.4        </td></tr>\n",
       "</tbody>\n",
       "</table>\n"
      ],
      "text/latex": [
       "\\begin{tabular}{r|lllll}\n",
       "  & window & uni & multi & mae & nmae\\\\\n",
       "\\hline\n",
       "\t82 & incremental & HW          & lm          & 402.53      & 5.4        \\\\\n",
       "\t88 & incremental & HW          & mr          & 402.53      & 5.4        \\\\\n",
       "\\end{tabular}\n"
      ],
      "text/markdown": [
       "\n",
       "| <!--/--> | window | uni | multi | mae | nmae |\n",
       "|---|---|---|---|---|---|\n",
       "| 82 | incremental | HW          | lm          | 402.53      | 5.4         |\n",
       "| 88 | incremental | HW          | mr          | 402.53      | 5.4         |\n",
       "\n"
      ],
      "text/plain": [
       "   window      uni multi mae    nmae\n",
       "82 incremental HW  lm    402.53 5.4 \n",
       "88 incremental HW  mr    402.53 5.4 "
      ]
     },
     "metadata": {},
     "output_type": "display_data"
    },
    {
     "name": "stdout",
     "output_type": "stream",
     "text": [
      "Melhor Valor para NMAE:  5.4"
     ]
    },
    {
     "data": {
      "text/html": [
       "<table>\n",
       "<thead><tr><th></th><th scope=col>window</th><th scope=col>uni</th><th scope=col>multi</th><th scope=col>mae</th><th scope=col>nmae</th></tr></thead>\n",
       "<tbody>\n",
       "\t<tr><th scope=row>82</th><td>incremental</td><td>HW         </td><td>lm         </td><td>402.53     </td><td>5.4        </td></tr>\n",
       "\t<tr><th scope=row>88</th><td>incremental</td><td>HW         </td><td>mr         </td><td>402.53     </td><td>5.4        </td></tr>\n",
       "</tbody>\n",
       "</table>\n"
      ],
      "text/latex": [
       "\\begin{tabular}{r|lllll}\n",
       "  & window & uni & multi & mae & nmae\\\\\n",
       "\\hline\n",
       "\t82 & incremental & HW          & lm          & 402.53      & 5.4        \\\\\n",
       "\t88 & incremental & HW          & mr          & 402.53      & 5.4        \\\\\n",
       "\\end{tabular}\n"
      ],
      "text/markdown": [
       "\n",
       "| <!--/--> | window | uni | multi | mae | nmae |\n",
       "|---|---|---|---|---|---|\n",
       "| 82 | incremental | HW          | lm          | 402.53      | 5.4         |\n",
       "| 88 | incremental | HW          | mr          | 402.53      | 5.4         |\n",
       "\n"
      ],
      "text/plain": [
       "   window      uni multi mae    nmae\n",
       "82 incremental HW  lm    402.53 5.4 \n",
       "88 incremental HW  mr    402.53 5.4 "
      ]
     },
     "metadata": {},
     "output_type": "display_data"
    },
    {
     "name": "stdout",
     "output_type": "stream",
     "text": [
      "CSV saved in ./resultados/Cenario 1/Modelos Hibridos/TS2.csv"
     ]
    }
   ],
   "source": [
    "# Lowest MAE Value in Hibrid Modeling\n",
    "lowestmae = min(as.numeric(resdf[,4]))\n",
    "cat(\"Melhor Valor para MAE: \", lowestmae)\n",
    "# Encontrar as linhas que possuem o menor valor para MAE\n",
    "resdf[resdf$mae %in%lowestmae,]\n",
    "\n",
    "# Lowest NMAE Value in Hibrid Modeling\n",
    "lowestnmae = min(as.numeric(resdf[,5]))\n",
    "cat(\"Melhor Valor para NMAE: \", lowestnmae)\n",
    "# Encontrar as linhas que possuem o menor valor para NMAE\n",
    "resdf[resdf$nmae %in% lowestnmae,]\n",
    "\n",
    "\n",
    "# Save the Results\n",
    "saveResults('1',\"h\",'2')"
   ]
  },
  {
   "cell_type": "code",
   "execution_count": 18,
   "id": "f40ced06",
   "metadata": {},
   "outputs": [],
   "source": [
    "# (Function) Export Results to CSV\n",
    "saveResults <- function(cen,type,ts){\n",
    "    # Cenario\n",
    "    switch(  \n",
    "        cen,  \n",
    "        '1'= {cenFolder = 'Cenario 1'},\n",
    "        '2'= {cenFolder = 'Cenario 2'},\n",
    "        '3'= {cenFolder = 'Cenario 3'},\n",
    "        ) \n",
    "    \n",
    "    # Tipo de Modelo\n",
    "     switch(  \n",
    "        type,  \n",
    "        'u'= {typeFolder = 'Modelos Univariados'},\n",
    "        'm'= {typeFolder = 'Modelos Multivariados'},\n",
    "        'h'= {typeFolder = 'Modelos Hibridos'},\n",
    "        ) \n",
    "    \n",
    "    # Time Series\n",
    "     switch(  \n",
    "        ts,  \n",
    "        '1'= {file = 'TS1.csv'},\n",
    "        '2'= {file = 'TS2.csv'},\n",
    "        '3'= {file = 'TS3.csv'},\n",
    "        '4'= {file = 'TS4.csv'},\n",
    "        '5'= {file = 'TS5.csv'},\n",
    "        ) \n",
    "    \n",
    "    # Guardar os Resultados\n",
    "    rootFolder = \"./resultados\"\n",
    "    \n",
    "    iter1 = paste(rootFolder,cenFolder,sep=\"/\")\n",
    "    iter2 = paste(iter1,typeFolder,sep=\"/\")\n",
    "    path = paste(iter2,file,sep=\"/\")\n",
    "    write.csv(resdf,path,row.names = FALSE)\n",
    "    cat(\"CSV saved in\", path)\n",
    "    \n",
    "}"
   ]
  },
  {
   "cell_type": "code",
   "execution_count": 58,
   "id": "893ff57f",
   "metadata": {},
   "outputs": [],
   "source": [
    "?predict"
   ]
  },
  {
   "cell_type": "code",
   "execution_count": 3,
   "id": "9ef39d89",
   "metadata": {},
   "outputs": [
    {
     "ename": "ERROR",
     "evalue": "Error in eval(expr, envir, enclos): object 'fit.models' not found\n",
     "output_type": "error",
     "traceback": [
      "Error in eval(expr, envir, enclos): object 'fit.models' not found\nTraceback:\n"
     ]
    }
   ],
   "source": [
    "fit.models"
   ]
  },
  {
   "cell_type": "code",
   "execution_count": 4,
   "id": "11208d13",
   "metadata": {},
   "outputs": [],
   "source": [
    "?fit"
   ]
  },
  {
   "cell_type": "code",
   "execution_count": null,
   "id": "1ba5e9ec",
   "metadata": {},
   "outputs": [],
   "source": []
  }
 ],
 "metadata": {
  "kernelspec": {
   "display_name": "R",
   "language": "R",
   "name": "ir"
  },
  "language_info": {
   "codemirror_mode": "r",
   "file_extension": ".r",
   "mimetype": "text/x-r-source",
   "name": "R",
   "pygments_lexer": "r",
   "version": "3.6.1"
  }
 },
 "nbformat": 4,
 "nbformat_minor": 5
}
