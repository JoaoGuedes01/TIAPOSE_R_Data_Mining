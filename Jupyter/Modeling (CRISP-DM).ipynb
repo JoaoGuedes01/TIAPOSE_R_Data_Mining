{
 "cells": [
  {
   "cell_type": "markdown",
   "id": "faddba97",
   "metadata": {},
   "source": [
    "## Modeling\n",
    "#### Nesta fase os dados foram preparados para integração em modelos de machine learning na fase de Modeling\n",
    "#### As séries temporais \"male\", \"female\", \"young\" e \"adult\" foram retiradas dos dados uma vez que o nosso objetivo é orientado para a série \"all\"\n",
    "#### A coluna \"date\" também foi removida porque apenas serve para nos situarmos no tempo, para a divisão dos dados em antigos=treino, recentes=teste. Além disso a sua natureza única (única por observação) apenas iria trazer incerteza para os modelos.\n",
    "#### Para lidar com os valores outliers foram criados 2 cenários:\n",
    "<ul>\n",
    "    <li><b>Com outliers</b> - Neste cenário os valores outliers não foram tratados</li>\n",
    "    <li><b>Sem outliers s/ compensação</b> - Neste cenário os valores outliers foram tratados</li>\n",
    "\n",
    "</ul>\n",
    "\n",
    "#### Por fim os dados de cada cenário foram exportados para os respetivos ficheiros csv para poderem ser utilizados nas fases seguintes "
   ]
  },
  {
   "cell_type": "code",
   "execution_count": 1,
   "id": "d23259dd",
   "metadata": {},
   "outputs": [
    {
     "name": "stderr",
     "output_type": "stream",
     "text": [
      "Registered S3 methods overwritten by 'ggplot2':\n",
      "  method         from \n",
      "  [.quosures     rlang\n",
      "  c.quosures     rlang\n",
      "  print.quosures rlang\n",
      "Registered S3 method overwritten by 'rvest':\n",
      "  method            from\n",
      "  read_xml.response xml2\n",
      "-- Attaching packages --------------------------------------- tidyverse 1.2.1 --\n",
      "v ggplot2 3.1.1       v purrr   0.3.2  \n",
      "v tibble  2.1.1       v dplyr   0.8.0.1\n",
      "v tidyr   0.8.3       v stringr 1.4.0  \n",
      "v readr   1.3.1       v forcats 0.4.0  \n",
      "-- Conflicts ------------------------------------------ tidyverse_conflicts() --\n",
      "x dplyr::filter() masks stats::filter()\n",
      "x dplyr::lag()    masks stats::lag()\n",
      "Warning message:\n",
      "\"package 'rminer' was built under R version 3.6.3\"Warning message:\n",
      "\"package 'forecast' was built under R version 3.6.3\"Registered S3 method overwritten by 'xts':\n",
      "  method     from\n",
      "  as.zoo.xts zoo \n",
      "Registered S3 method overwritten by 'quantmod':\n",
      "  method            from\n",
      "  as.zoo.data.frame zoo \n"
     ]
    }
   ],
   "source": [
    "# Importar Libraries\n",
    "library(tidyverse)\n",
    "library(rminer)\n",
    "library(forecast)"
   ]
  },
  {
   "cell_type": "code",
   "execution_count": 61,
   "id": "9a80304b",
   "metadata": {},
   "outputs": [
    {
     "data": {
      "text/html": [
       "<table>\n",
       "<thead><tr><th scope=col>all</th><th scope=col>weather</th><th scope=col>maxtemp</th><th scope=col>RH</th><th scope=col>maxwind</th></tr></thead>\n",
       "<tbody>\n",
       "\t<tr><td>2332</td><td>0   </td><td>13  </td><td>87  </td><td> 0  </td></tr>\n",
       "\t<tr><td>2801</td><td>0   </td><td>14  </td><td>94  </td><td>45  </td></tr>\n",
       "\t<tr><td>2375</td><td>0   </td><td>14  </td><td>82  </td><td>55  </td></tr>\n",
       "\t<tr><td>3447</td><td>1   </td><td>13  </td><td>78  </td><td> 0  </td></tr>\n",
       "\t<tr><td>4823</td><td>0   </td><td>16  </td><td>81  </td><td>37  </td></tr>\n",
       "\t<tr><td>4978</td><td>0   </td><td>16  </td><td>73  </td><td> 0  </td></tr>\n",
       "</tbody>\n",
       "</table>\n"
      ],
      "text/latex": [
       "\\begin{tabular}{r|lllll}\n",
       " all & weather & maxtemp & RH & maxwind\\\\\n",
       "\\hline\n",
       "\t 2332 & 0    & 13   & 87   &  0  \\\\\n",
       "\t 2801 & 0    & 14   & 94   & 45  \\\\\n",
       "\t 2375 & 0    & 14   & 82   & 55  \\\\\n",
       "\t 3447 & 1    & 13   & 78   &  0  \\\\\n",
       "\t 4823 & 0    & 16   & 81   & 37  \\\\\n",
       "\t 4978 & 0    & 16   & 73   &  0  \\\\\n",
       "\\end{tabular}\n"
      ],
      "text/markdown": [
       "\n",
       "| all | weather | maxtemp | RH | maxwind |\n",
       "|---|---|---|---|---|\n",
       "| 2332 | 0    | 13   | 87   |  0   |\n",
       "| 2801 | 0    | 14   | 94   | 45   |\n",
       "| 2375 | 0    | 14   | 82   | 55   |\n",
       "| 3447 | 1    | 13   | 78   |  0   |\n",
       "| 4823 | 0    | 16   | 81   | 37   |\n",
       "| 4978 | 0    | 16   | 73   |  0   |\n",
       "\n"
      ],
      "text/plain": [
       "  all  weather maxtemp RH maxwind\n",
       "1 2332 0       13      87  0     \n",
       "2 2801 0       14      94 45     \n",
       "3 2375 0       14      82 55     \n",
       "4 3447 1       13      78  0     \n",
       "5 4823 0       16      81 37     \n",
       "6 4978 0       16      73  0     "
      ]
     },
     "metadata": {},
     "output_type": "display_data"
    }
   ],
   "source": [
    "# Importar os dados\n",
    "data <- read.csv(file = './exported data/dadosPrep.csv')\n",
    "\n",
    "# Retirar a coluna X (Index)\n",
    "data = data %>% select(-X)\n",
    "head(data)"
   ]
  },
  {
   "cell_type": "markdown",
   "id": "3abd09f6",
   "metadata": {},
   "source": [
    "## Multivariate Regression"
   ]
  },
  {
   "cell_type": "markdown",
   "id": "6d9297ce",
   "metadata": {},
   "source": [
    "### Spliting the dataset"
   ]
  },
  {
   "cell_type": "code",
   "execution_count": 62,
   "id": "6aa6fcab",
   "metadata": {},
   "outputs": [
    {
     "data": {
      "text/html": [
       "<dl>\n",
       "\t<dt>$tr</dt>\n",
       "\t\t<dd><ol class=list-inline>\n",
       "\t<li>1</li>\n",
       "\t<li>2</li>\n",
       "\t<li>3</li>\n",
       "\t<li>4</li>\n",
       "\t<li>5</li>\n",
       "\t<li>6</li>\n",
       "\t<li>7</li>\n",
       "\t<li>8</li>\n",
       "\t<li>9</li>\n",
       "\t<li>10</li>\n",
       "\t<li>11</li>\n",
       "\t<li>12</li>\n",
       "\t<li>13</li>\n",
       "\t<li>14</li>\n",
       "\t<li>15</li>\n",
       "\t<li>16</li>\n",
       "\t<li>17</li>\n",
       "\t<li>18</li>\n",
       "\t<li>19</li>\n",
       "\t<li>20</li>\n",
       "\t<li>21</li>\n",
       "\t<li>22</li>\n",
       "\t<li>23</li>\n",
       "\t<li>24</li>\n",
       "\t<li>25</li>\n",
       "\t<li>26</li>\n",
       "\t<li>27</li>\n",
       "\t<li>28</li>\n",
       "\t<li>29</li>\n",
       "\t<li>30</li>\n",
       "\t<li>31</li>\n",
       "\t<li>32</li>\n",
       "\t<li>33</li>\n",
       "\t<li>34</li>\n",
       "\t<li>35</li>\n",
       "\t<li>36</li>\n",
       "\t<li>37</li>\n",
       "\t<li>38</li>\n",
       "\t<li>39</li>\n",
       "\t<li>40</li>\n",
       "\t<li>41</li>\n",
       "\t<li>42</li>\n",
       "\t<li>43</li>\n",
       "\t<li>44</li>\n",
       "\t<li>45</li>\n",
       "\t<li>46</li>\n",
       "\t<li>47</li>\n",
       "\t<li>48</li>\n",
       "\t<li>49</li>\n",
       "\t<li>50</li>\n",
       "\t<li>51</li>\n",
       "\t<li>52</li>\n",
       "\t<li>53</li>\n",
       "\t<li>54</li>\n",
       "\t<li>55</li>\n",
       "\t<li>56</li>\n",
       "\t<li>57</li>\n",
       "\t<li>58</li>\n",
       "\t<li>59</li>\n",
       "\t<li>60</li>\n",
       "\t<li>61</li>\n",
       "\t<li>62</li>\n",
       "\t<li>63</li>\n",
       "\t<li>64</li>\n",
       "\t<li>65</li>\n",
       "\t<li>66</li>\n",
       "\t<li>67</li>\n",
       "\t<li>68</li>\n",
       "\t<li>69</li>\n",
       "\t<li>70</li>\n",
       "\t<li>71</li>\n",
       "\t<li>72</li>\n",
       "\t<li>73</li>\n",
       "\t<li>74</li>\n",
       "\t<li>75</li>\n",
       "\t<li>76</li>\n",
       "\t<li>77</li>\n",
       "\t<li>78</li>\n",
       "\t<li>79</li>\n",
       "\t<li>80</li>\n",
       "\t<li>81</li>\n",
       "\t<li>82</li>\n",
       "\t<li>83</li>\n",
       "\t<li>84</li>\n",
       "\t<li>85</li>\n",
       "\t<li>86</li>\n",
       "\t<li>87</li>\n",
       "\t<li>88</li>\n",
       "\t<li>89</li>\n",
       "\t<li>90</li>\n",
       "\t<li>91</li>\n",
       "\t<li>92</li>\n",
       "\t<li>93</li>\n",
       "\t<li>94</li>\n",
       "\t<li>95</li>\n",
       "\t<li>96</li>\n",
       "\t<li>97</li>\n",
       "\t<li>98</li>\n",
       "\t<li>99</li>\n",
       "\t<li>100</li>\n",
       "\t<li>101</li>\n",
       "\t<li>102</li>\n",
       "\t<li>103</li>\n",
       "\t<li>104</li>\n",
       "\t<li>105</li>\n",
       "\t<li>106</li>\n",
       "\t<li>107</li>\n",
       "\t<li>108</li>\n",
       "\t<li>109</li>\n",
       "\t<li>110</li>\n",
       "\t<li>111</li>\n",
       "\t<li>112</li>\n",
       "\t<li>113</li>\n",
       "\t<li>114</li>\n",
       "\t<li>115</li>\n",
       "\t<li>116</li>\n",
       "\t<li>117</li>\n",
       "\t<li>118</li>\n",
       "\t<li>119</li>\n",
       "\t<li>120</li>\n",
       "\t<li>121</li>\n",
       "\t<li>122</li>\n",
       "\t<li>123</li>\n",
       "\t<li>124</li>\n",
       "\t<li>125</li>\n",
       "\t<li>126</li>\n",
       "\t<li>127</li>\n",
       "\t<li>128</li>\n",
       "\t<li>129</li>\n",
       "\t<li>130</li>\n",
       "\t<li>131</li>\n",
       "\t<li>132</li>\n",
       "\t<li>133</li>\n",
       "\t<li>134</li>\n",
       "\t<li>135</li>\n",
       "\t<li>136</li>\n",
       "\t<li>137</li>\n",
       "\t<li>138</li>\n",
       "\t<li>139</li>\n",
       "\t<li>140</li>\n",
       "\t<li>141</li>\n",
       "\t<li>142</li>\n",
       "\t<li>143</li>\n",
       "\t<li>144</li>\n",
       "\t<li>145</li>\n",
       "\t<li>146</li>\n",
       "\t<li>147</li>\n",
       "\t<li>148</li>\n",
       "\t<li>149</li>\n",
       "\t<li>150</li>\n",
       "\t<li>151</li>\n",
       "\t<li>152</li>\n",
       "\t<li>153</li>\n",
       "\t<li>154</li>\n",
       "\t<li>155</li>\n",
       "\t<li>156</li>\n",
       "\t<li>157</li>\n",
       "\t<li>158</li>\n",
       "\t<li>159</li>\n",
       "\t<li>160</li>\n",
       "\t<li>161</li>\n",
       "\t<li>162</li>\n",
       "\t<li>163</li>\n",
       "\t<li>164</li>\n",
       "\t<li>165</li>\n",
       "\t<li>166</li>\n",
       "\t<li>167</li>\n",
       "\t<li>168</li>\n",
       "\t<li>169</li>\n",
       "\t<li>170</li>\n",
       "\t<li>171</li>\n",
       "\t<li>172</li>\n",
       "\t<li>173</li>\n",
       "\t<li>174</li>\n",
       "\t<li>175</li>\n",
       "\t<li>176</li>\n",
       "\t<li>177</li>\n",
       "\t<li>178</li>\n",
       "\t<li>179</li>\n",
       "\t<li>180</li>\n",
       "\t<li>181</li>\n",
       "\t<li>182</li>\n",
       "\t<li>183</li>\n",
       "\t<li>184</li>\n",
       "\t<li>185</li>\n",
       "\t<li>186</li>\n",
       "\t<li>187</li>\n",
       "\t<li>188</li>\n",
       "\t<li>189</li>\n",
       "\t<li>190</li>\n",
       "\t<li>191</li>\n",
       "\t<li>192</li>\n",
       "\t<li>193</li>\n",
       "\t<li>194</li>\n",
       "\t<li>195</li>\n",
       "\t<li>196</li>\n",
       "\t<li>197</li>\n",
       "\t<li>198</li>\n",
       "\t<li>199</li>\n",
       "\t<li>200</li>\n",
       "\t<li>201</li>\n",
       "\t<li>202</li>\n",
       "\t<li>203</li>\n",
       "\t<li>204</li>\n",
       "\t<li>205</li>\n",
       "\t<li>206</li>\n",
       "\t<li>207</li>\n",
       "\t<li>208</li>\n",
       "\t<li>209</li>\n",
       "\t<li>210</li>\n",
       "\t<li>211</li>\n",
       "\t<li>212</li>\n",
       "\t<li>213</li>\n",
       "\t<li>214</li>\n",
       "\t<li>215</li>\n",
       "\t<li>216</li>\n",
       "\t<li>217</li>\n",
       "\t<li>218</li>\n",
       "\t<li>219</li>\n",
       "\t<li>220</li>\n",
       "\t<li>221</li>\n",
       "\t<li>222</li>\n",
       "\t<li>223</li>\n",
       "\t<li>224</li>\n",
       "\t<li>225</li>\n",
       "\t<li>226</li>\n",
       "\t<li>227</li>\n",
       "\t<li>228</li>\n",
       "\t<li>229</li>\n",
       "\t<li>230</li>\n",
       "\t<li>231</li>\n",
       "\t<li>232</li>\n",
       "\t<li>233</li>\n",
       "\t<li>234</li>\n",
       "\t<li>235</li>\n",
       "\t<li>236</li>\n",
       "\t<li>237</li>\n",
       "\t<li>238</li>\n",
       "\t<li>239</li>\n",
       "\t<li>240</li>\n",
       "\t<li>241</li>\n",
       "\t<li>242</li>\n",
       "\t<li>243</li>\n",
       "\t<li>244</li>\n",
       "\t<li>245</li>\n",
       "\t<li>246</li>\n",
       "\t<li>247</li>\n",
       "\t<li>248</li>\n",
       "\t<li>249</li>\n",
       "\t<li>250</li>\n",
       "</ol>\n",
       "</dd>\n",
       "\t<dt>$itr</dt>\n",
       "\t\t<dd>NULL</dd>\n",
       "\t<dt>$val</dt>\n",
       "\t\t<dd>NULL</dd>\n",
       "\t<dt>$ts</dt>\n",
       "\t\t<dd><ol class=list-inline>\n",
       "\t<li>251</li>\n",
       "\t<li>252</li>\n",
       "\t<li>253</li>\n",
       "\t<li>254</li>\n",
       "\t<li>255</li>\n",
       "\t<li>256</li>\n",
       "\t<li>257</li>\n",
       "</ol>\n",
       "</dd>\n",
       "</dl>\n"
      ],
      "text/latex": [
       "\\begin{description}\n",
       "\\item[\\$tr] \\begin{enumerate*}\n",
       "\\item 1\n",
       "\\item 2\n",
       "\\item 3\n",
       "\\item 4\n",
       "\\item 5\n",
       "\\item 6\n",
       "\\item 7\n",
       "\\item 8\n",
       "\\item 9\n",
       "\\item 10\n",
       "\\item 11\n",
       "\\item 12\n",
       "\\item 13\n",
       "\\item 14\n",
       "\\item 15\n",
       "\\item 16\n",
       "\\item 17\n",
       "\\item 18\n",
       "\\item 19\n",
       "\\item 20\n",
       "\\item 21\n",
       "\\item 22\n",
       "\\item 23\n",
       "\\item 24\n",
       "\\item 25\n",
       "\\item 26\n",
       "\\item 27\n",
       "\\item 28\n",
       "\\item 29\n",
       "\\item 30\n",
       "\\item 31\n",
       "\\item 32\n",
       "\\item 33\n",
       "\\item 34\n",
       "\\item 35\n",
       "\\item 36\n",
       "\\item 37\n",
       "\\item 38\n",
       "\\item 39\n",
       "\\item 40\n",
       "\\item 41\n",
       "\\item 42\n",
       "\\item 43\n",
       "\\item 44\n",
       "\\item 45\n",
       "\\item 46\n",
       "\\item 47\n",
       "\\item 48\n",
       "\\item 49\n",
       "\\item 50\n",
       "\\item 51\n",
       "\\item 52\n",
       "\\item 53\n",
       "\\item 54\n",
       "\\item 55\n",
       "\\item 56\n",
       "\\item 57\n",
       "\\item 58\n",
       "\\item 59\n",
       "\\item 60\n",
       "\\item 61\n",
       "\\item 62\n",
       "\\item 63\n",
       "\\item 64\n",
       "\\item 65\n",
       "\\item 66\n",
       "\\item 67\n",
       "\\item 68\n",
       "\\item 69\n",
       "\\item 70\n",
       "\\item 71\n",
       "\\item 72\n",
       "\\item 73\n",
       "\\item 74\n",
       "\\item 75\n",
       "\\item 76\n",
       "\\item 77\n",
       "\\item 78\n",
       "\\item 79\n",
       "\\item 80\n",
       "\\item 81\n",
       "\\item 82\n",
       "\\item 83\n",
       "\\item 84\n",
       "\\item 85\n",
       "\\item 86\n",
       "\\item 87\n",
       "\\item 88\n",
       "\\item 89\n",
       "\\item 90\n",
       "\\item 91\n",
       "\\item 92\n",
       "\\item 93\n",
       "\\item 94\n",
       "\\item 95\n",
       "\\item 96\n",
       "\\item 97\n",
       "\\item 98\n",
       "\\item 99\n",
       "\\item 100\n",
       "\\item 101\n",
       "\\item 102\n",
       "\\item 103\n",
       "\\item 104\n",
       "\\item 105\n",
       "\\item 106\n",
       "\\item 107\n",
       "\\item 108\n",
       "\\item 109\n",
       "\\item 110\n",
       "\\item 111\n",
       "\\item 112\n",
       "\\item 113\n",
       "\\item 114\n",
       "\\item 115\n",
       "\\item 116\n",
       "\\item 117\n",
       "\\item 118\n",
       "\\item 119\n",
       "\\item 120\n",
       "\\item 121\n",
       "\\item 122\n",
       "\\item 123\n",
       "\\item 124\n",
       "\\item 125\n",
       "\\item 126\n",
       "\\item 127\n",
       "\\item 128\n",
       "\\item 129\n",
       "\\item 130\n",
       "\\item 131\n",
       "\\item 132\n",
       "\\item 133\n",
       "\\item 134\n",
       "\\item 135\n",
       "\\item 136\n",
       "\\item 137\n",
       "\\item 138\n",
       "\\item 139\n",
       "\\item 140\n",
       "\\item 141\n",
       "\\item 142\n",
       "\\item 143\n",
       "\\item 144\n",
       "\\item 145\n",
       "\\item 146\n",
       "\\item 147\n",
       "\\item 148\n",
       "\\item 149\n",
       "\\item 150\n",
       "\\item 151\n",
       "\\item 152\n",
       "\\item 153\n",
       "\\item 154\n",
       "\\item 155\n",
       "\\item 156\n",
       "\\item 157\n",
       "\\item 158\n",
       "\\item 159\n",
       "\\item 160\n",
       "\\item 161\n",
       "\\item 162\n",
       "\\item 163\n",
       "\\item 164\n",
       "\\item 165\n",
       "\\item 166\n",
       "\\item 167\n",
       "\\item 168\n",
       "\\item 169\n",
       "\\item 170\n",
       "\\item 171\n",
       "\\item 172\n",
       "\\item 173\n",
       "\\item 174\n",
       "\\item 175\n",
       "\\item 176\n",
       "\\item 177\n",
       "\\item 178\n",
       "\\item 179\n",
       "\\item 180\n",
       "\\item 181\n",
       "\\item 182\n",
       "\\item 183\n",
       "\\item 184\n",
       "\\item 185\n",
       "\\item 186\n",
       "\\item 187\n",
       "\\item 188\n",
       "\\item 189\n",
       "\\item 190\n",
       "\\item 191\n",
       "\\item 192\n",
       "\\item 193\n",
       "\\item 194\n",
       "\\item 195\n",
       "\\item 196\n",
       "\\item 197\n",
       "\\item 198\n",
       "\\item 199\n",
       "\\item 200\n",
       "\\item 201\n",
       "\\item 202\n",
       "\\item 203\n",
       "\\item 204\n",
       "\\item 205\n",
       "\\item 206\n",
       "\\item 207\n",
       "\\item 208\n",
       "\\item 209\n",
       "\\item 210\n",
       "\\item 211\n",
       "\\item 212\n",
       "\\item 213\n",
       "\\item 214\n",
       "\\item 215\n",
       "\\item 216\n",
       "\\item 217\n",
       "\\item 218\n",
       "\\item 219\n",
       "\\item 220\n",
       "\\item 221\n",
       "\\item 222\n",
       "\\item 223\n",
       "\\item 224\n",
       "\\item 225\n",
       "\\item 226\n",
       "\\item 227\n",
       "\\item 228\n",
       "\\item 229\n",
       "\\item 230\n",
       "\\item 231\n",
       "\\item 232\n",
       "\\item 233\n",
       "\\item 234\n",
       "\\item 235\n",
       "\\item 236\n",
       "\\item 237\n",
       "\\item 238\n",
       "\\item 239\n",
       "\\item 240\n",
       "\\item 241\n",
       "\\item 242\n",
       "\\item 243\n",
       "\\item 244\n",
       "\\item 245\n",
       "\\item 246\n",
       "\\item 247\n",
       "\\item 248\n",
       "\\item 249\n",
       "\\item 250\n",
       "\\end{enumerate*}\n",
       "\n",
       "\\item[\\$itr] NULL\n",
       "\\item[\\$val] NULL\n",
       "\\item[\\$ts] \\begin{enumerate*}\n",
       "\\item 251\n",
       "\\item 252\n",
       "\\item 253\n",
       "\\item 254\n",
       "\\item 255\n",
       "\\item 256\n",
       "\\item 257\n",
       "\\end{enumerate*}\n",
       "\n",
       "\\end{description}\n"
      ],
      "text/markdown": [
       "$tr\n",
       ":   1. 1\n",
       "2. 2\n",
       "3. 3\n",
       "4. 4\n",
       "5. 5\n",
       "6. 6\n",
       "7. 7\n",
       "8. 8\n",
       "9. 9\n",
       "10. 10\n",
       "11. 11\n",
       "12. 12\n",
       "13. 13\n",
       "14. 14\n",
       "15. 15\n",
       "16. 16\n",
       "17. 17\n",
       "18. 18\n",
       "19. 19\n",
       "20. 20\n",
       "21. 21\n",
       "22. 22\n",
       "23. 23\n",
       "24. 24\n",
       "25. 25\n",
       "26. 26\n",
       "27. 27\n",
       "28. 28\n",
       "29. 29\n",
       "30. 30\n",
       "31. 31\n",
       "32. 32\n",
       "33. 33\n",
       "34. 34\n",
       "35. 35\n",
       "36. 36\n",
       "37. 37\n",
       "38. 38\n",
       "39. 39\n",
       "40. 40\n",
       "41. 41\n",
       "42. 42\n",
       "43. 43\n",
       "44. 44\n",
       "45. 45\n",
       "46. 46\n",
       "47. 47\n",
       "48. 48\n",
       "49. 49\n",
       "50. 50\n",
       "51. 51\n",
       "52. 52\n",
       "53. 53\n",
       "54. 54\n",
       "55. 55\n",
       "56. 56\n",
       "57. 57\n",
       "58. 58\n",
       "59. 59\n",
       "60. 60\n",
       "61. 61\n",
       "62. 62\n",
       "63. 63\n",
       "64. 64\n",
       "65. 65\n",
       "66. 66\n",
       "67. 67\n",
       "68. 68\n",
       "69. 69\n",
       "70. 70\n",
       "71. 71\n",
       "72. 72\n",
       "73. 73\n",
       "74. 74\n",
       "75. 75\n",
       "76. 76\n",
       "77. 77\n",
       "78. 78\n",
       "79. 79\n",
       "80. 80\n",
       "81. 81\n",
       "82. 82\n",
       "83. 83\n",
       "84. 84\n",
       "85. 85\n",
       "86. 86\n",
       "87. 87\n",
       "88. 88\n",
       "89. 89\n",
       "90. 90\n",
       "91. 91\n",
       "92. 92\n",
       "93. 93\n",
       "94. 94\n",
       "95. 95\n",
       "96. 96\n",
       "97. 97\n",
       "98. 98\n",
       "99. 99\n",
       "100. 100\n",
       "101. 101\n",
       "102. 102\n",
       "103. 103\n",
       "104. 104\n",
       "105. 105\n",
       "106. 106\n",
       "107. 107\n",
       "108. 108\n",
       "109. 109\n",
       "110. 110\n",
       "111. 111\n",
       "112. 112\n",
       "113. 113\n",
       "114. 114\n",
       "115. 115\n",
       "116. 116\n",
       "117. 117\n",
       "118. 118\n",
       "119. 119\n",
       "120. 120\n",
       "121. 121\n",
       "122. 122\n",
       "123. 123\n",
       "124. 124\n",
       "125. 125\n",
       "126. 126\n",
       "127. 127\n",
       "128. 128\n",
       "129. 129\n",
       "130. 130\n",
       "131. 131\n",
       "132. 132\n",
       "133. 133\n",
       "134. 134\n",
       "135. 135\n",
       "136. 136\n",
       "137. 137\n",
       "138. 138\n",
       "139. 139\n",
       "140. 140\n",
       "141. 141\n",
       "142. 142\n",
       "143. 143\n",
       "144. 144\n",
       "145. 145\n",
       "146. 146\n",
       "147. 147\n",
       "148. 148\n",
       "149. 149\n",
       "150. 150\n",
       "151. 151\n",
       "152. 152\n",
       "153. 153\n",
       "154. 154\n",
       "155. 155\n",
       "156. 156\n",
       "157. 157\n",
       "158. 158\n",
       "159. 159\n",
       "160. 160\n",
       "161. 161\n",
       "162. 162\n",
       "163. 163\n",
       "164. 164\n",
       "165. 165\n",
       "166. 166\n",
       "167. 167\n",
       "168. 168\n",
       "169. 169\n",
       "170. 170\n",
       "171. 171\n",
       "172. 172\n",
       "173. 173\n",
       "174. 174\n",
       "175. 175\n",
       "176. 176\n",
       "177. 177\n",
       "178. 178\n",
       "179. 179\n",
       "180. 180\n",
       "181. 181\n",
       "182. 182\n",
       "183. 183\n",
       "184. 184\n",
       "185. 185\n",
       "186. 186\n",
       "187. 187\n",
       "188. 188\n",
       "189. 189\n",
       "190. 190\n",
       "191. 191\n",
       "192. 192\n",
       "193. 193\n",
       "194. 194\n",
       "195. 195\n",
       "196. 196\n",
       "197. 197\n",
       "198. 198\n",
       "199. 199\n",
       "200. 200\n",
       "201. 201\n",
       "202. 202\n",
       "203. 203\n",
       "204. 204\n",
       "205. 205\n",
       "206. 206\n",
       "207. 207\n",
       "208. 208\n",
       "209. 209\n",
       "210. 210\n",
       "211. 211\n",
       "212. 212\n",
       "213. 213\n",
       "214. 214\n",
       "215. 215\n",
       "216. 216\n",
       "217. 217\n",
       "218. 218\n",
       "219. 219\n",
       "220. 220\n",
       "221. 221\n",
       "222. 222\n",
       "223. 223\n",
       "224. 224\n",
       "225. 225\n",
       "226. 226\n",
       "227. 227\n",
       "228. 228\n",
       "229. 229\n",
       "230. 230\n",
       "231. 231\n",
       "232. 232\n",
       "233. 233\n",
       "234. 234\n",
       "235. 235\n",
       "236. 236\n",
       "237. 237\n",
       "238. 238\n",
       "239. 239\n",
       "240. 240\n",
       "241. 241\n",
       "242. 242\n",
       "243. 243\n",
       "244. 244\n",
       "245. 245\n",
       "246. 246\n",
       "247. 247\n",
       "248. 248\n",
       "249. 249\n",
       "250. 250\n",
       "\n",
       "\n",
       "\n",
       "$itr\n",
       ":   NULL\n",
       "$val\n",
       ":   NULL\n",
       "$ts\n",
       ":   1. 251\n",
       "2. 252\n",
       "3. 253\n",
       "4. 254\n",
       "5. 255\n",
       "6. 256\n",
       "7. 257\n",
       "\n",
       "\n",
       "\n",
       "\n",
       "\n"
      ],
      "text/plain": [
       "$tr\n",
       "  [1]   1   2   3   4   5   6   7   8   9  10  11  12  13  14  15  16  17  18\n",
       " [19]  19  20  21  22  23  24  25  26  27  28  29  30  31  32  33  34  35  36\n",
       " [37]  37  38  39  40  41  42  43  44  45  46  47  48  49  50  51  52  53  54\n",
       " [55]  55  56  57  58  59  60  61  62  63  64  65  66  67  68  69  70  71  72\n",
       " [73]  73  74  75  76  77  78  79  80  81  82  83  84  85  86  87  88  89  90\n",
       " [91]  91  92  93  94  95  96  97  98  99 100 101 102 103 104 105 106 107 108\n",
       "[109] 109 110 111 112 113 114 115 116 117 118 119 120 121 122 123 124 125 126\n",
       "[127] 127 128 129 130 131 132 133 134 135 136 137 138 139 140 141 142 143 144\n",
       "[145] 145 146 147 148 149 150 151 152 153 154 155 156 157 158 159 160 161 162\n",
       "[163] 163 164 165 166 167 168 169 170 171 172 173 174 175 176 177 178 179 180\n",
       "[181] 181 182 183 184 185 186 187 188 189 190 191 192 193 194 195 196 197 198\n",
       "[199] 199 200 201 202 203 204 205 206 207 208 209 210 211 212 213 214 215 216\n",
       "[217] 217 218 219 220 221 222 223 224 225 226 227 228 229 230 231 232 233 234\n",
       "[235] 235 236 237 238 239 240 241 242 243 244 245 246 247 248 249 250\n",
       "\n",
       "$itr\n",
       "NULL\n",
       "\n",
       "$val\n",
       "NULL\n",
       "\n",
       "$ts\n",
       "[1] 251 252 253 254 255 256 257\n"
      ]
     },
     "metadata": {},
     "output_type": "display_data"
    },
    {
     "name": "stdout",
     "output_type": "stream",
     "text": [
      "Dados de treino:\n",
      "Head:  2332 2801 2375 3447 4823 4978 \n",
      "Length:  250 \n",
      "\n",
      "Dados de teste:\n",
      "Head:  4974 3228 3191 4153 4307 4660 \n",
      "Length:  7"
     ]
    }
   ],
   "source": [
    "# Separação dos índices do dataframe ordenada cronologicamente (porque os dados já estão em ordem cronológica), usando 250\n",
    "# observações para treino e 7 para teste\n",
    "H=holdout(data$all,ratio=7,mode=\"order\")\n",
    "H\n",
    "\n",
    "# Seleção dos dados de Treino\n",
    "train = data[H$tr,]\n",
    "cat(\"Dados de treino:\\n\")\n",
    "cat(\"Head: \", head(train$all),\"\\n\")\n",
    "cat(\"Length: \", length(train$all),\"\\n\\n\")\n",
    "\n",
    "# Seleção dos dados de Teste\n",
    "test = data[H$ts,]\n",
    "cat(\"Dados de teste:\\n\")\n",
    "cat(\"Head: \", head(test$all),\"\\n\")\n",
    "cat(\"Length: \", length(test$all))"
   ]
  },
  {
   "cell_type": "markdown",
   "id": "938330f0",
   "metadata": {},
   "source": [
    "### Modelos de Regressão (ML)"
   ]
  },
  {
   "cell_type": "markdown",
   "id": "76f34834",
   "metadata": {},
   "source": [
    "#### Random Forest"
   ]
  },
  {
   "cell_type": "code",
   "execution_count": 118,
   "id": "290f915c",
   "metadata": {},
   "outputs": [
    {
     "name": "stdout",
     "output_type": "stream",
     "text": [
      "Target Values: 4974 3228 3191 4153 4307 4660 6193 \n",
      "Predictions: 3764.005 3833.647 3695.257 3748.338 3259.948 4058.153 3768.615 \n",
      "MAE: 971.12 \n",
      "NMAE: 32.35 \n"
     ]
    },
    {
     "data": {
      "image/png": "[encoded data removed]",
      "text/plain": [
       "Plot with title \"Random Forest\""
      ]
     },
     "metadata": {},
     "output_type": "display_data"
    }
   ],
   "source": [
    "RF=fit(all~.,train,model=\"randomForest\")\n",
    "Target = test$all\n",
    "cat(\"Target Values:\",Target,\"\\n\")\n",
    "\n",
    "Pred = predict(RF,test)\n",
    "cat(\"Predictions:\",Pred,\"\\n\")\n",
    "\n",
    "mgraph(Target,Pred,graph=\"REG\",Grid=10,col=c(\"black\",\"blue\"),\n",
    "leg=list(pos=\"topleft\",leg=c(\"target\",\"predictions\")),main=\"Random Forest\")\n",
    "\n",
    "cat(\"MAE:\",round(mmetric(Target,Pred,metric=\"MAE\"),2),\"\\n\")\n",
    "cat(\"NMAE:\",round(mmetric(Target,Pred,metric=\"NMAE\"),2),\"\\n\")"
   ]
  },
  {
   "cell_type": "markdown",
   "id": "ad76e730",
   "metadata": {},
   "source": [
    "#### Multiple Linear Regression"
   ]
  },
  {
   "cell_type": "code",
   "execution_count": 119,
   "id": "3c0d7fb5",
   "metadata": {},
   "outputs": [
    {
     "name": "stdout",
     "output_type": "stream",
     "text": [
      "Target Values: 4974 3228 3191 4153 4307 4660 6193 \n",
      "Predictions: 3187.233 3168.647 2932.272 3042.532 2638.799 3109.731 3099.146 \n",
      "MAE: 1361.09 \n",
      "NMAE: 45.34 \n"
     ]
    },
    {
     "data": {
      "image/png": "[encoded data removed]",
      "text/plain": [
       "Plot with title \"Multiple Linear Regression\""
      ]
     },
     "metadata": {},
     "output_type": "display_data"
    }
   ],
   "source": [
    "MR=fit(all~.,train,model=\"mr\")\n",
    "cat(\"Target Values:\",Target,\"\\n\")\n",
    "\n",
    "Pred = predict(MR,test)\n",
    "cat(\"Predictions:\",Pred,\"\\n\")\n",
    "\n",
    "mgraph(Target,Pred,graph=\"REG\",Grid=10,col=c(\"black\",\"blue\"),\n",
    "leg=list(pos=\"topleft\",leg=c(\"target\",\"predictions\")),main=\"Multiple Linear Regression\")\n",
    "\n",
    "cat(\"MAE:\",round(mmetric(Target,Pred,metric=\"MAE\"),2),\"\\n\")\n",
    "cat(\"NMAE:\",round(mmetric(Target,Pred,metric=\"NMAE\"),2),\"\\n\")"
   ]
  },
  {
   "cell_type": "markdown",
   "id": "9a04697d",
   "metadata": {},
   "source": [
    "#### KSVM"
   ]
  },
  {
   "cell_type": "code",
   "execution_count": 120,
   "id": "c134b8d9",
   "metadata": {},
   "outputs": [
    {
     "name": "stdout",
     "output_type": "stream",
     "text": [
      "Target Values: 4974 3228 3191 4153 4307 4660 6193 \n",
      "Predictions: 3722.704 4228.571 3186.75 3328.989 2643.094 3847.016 3775.707 \n",
      "MAE: 1139.19 \n",
      "NMAE: 37.95 \n"
     ]
    },
    {
     "data": {
      "image/png": "[encoded data removed]",
      "text/plain": [
       "Plot with title \"KSVM\""
      ]
     },
     "metadata": {},
     "output_type": "display_data"
    }
   ],
   "source": [
    "MR=fit(all~.,train,model=\"ksvm\")\n",
    "cat(\"Target Values:\",Target,\"\\n\")\n",
    "\n",
    "Pred = predict(MR,test)\n",
    "cat(\"Predictions:\",Pred,\"\\n\")\n",
    "\n",
    "mgraph(Target,Pred,graph=\"REG\",Grid=10,col=c(\"black\",\"blue\"),\n",
    "leg=list(pos=\"topleft\",leg=c(\"target\",\"predictions\")),main=\"KSVM\")\n",
    "\n",
    "cat(\"MAE:\",round(mmetric(Target,Pred,metric=\"MAE\"),2),\"\\n\")\n",
    "cat(\"NMAE:\",round(mmetric(Target,Pred,metric=\"NMAE\"),2),\"\\n\")"
   ]
  },
  {
   "cell_type": "markdown",
   "id": "2d3ed20e",
   "metadata": {},
   "source": [
    "#### MLPE"
   ]
  },
  {
   "cell_type": "code",
   "execution_count": 126,
   "id": "63fa4736",
   "metadata": {},
   "outputs": [
    {
     "name": "stdout",
     "output_type": "stream",
     "text": [
      "Target Values: 4974 3228 3191 4153 4307 4660 6193 \n",
      "Predictions: 3566.065 3648.961 3393.688 3499.245 3587.181 3799.319 3790.773 \n",
      "MAE: 952.58 \n",
      "NMAE: 31.73 \n"
     ]
    },
    {
     "data": {
      "image/png": "[encoded data removed]",
      "text/plain": [
       "Plot with title \"MLPE\""
      ]
     },
     "metadata": {},
     "output_type": "display_data"
    }
   ],
   "source": [
    "MR=fit(all~.,train,model=\"mlpe\")\n",
    "cat(\"Target Values:\",Target,\"\\n\")\n",
    "\n",
    "Pred = predict(MR,test)\n",
    "cat(\"Predictions:\",Pred,\"\\n\")\n",
    "\n",
    "mgraph(Target,Pred,graph=\"REG\",Grid=10,col=c(\"black\",\"blue\"),\n",
    "leg=list(pos=\"topleft\",leg=c(\"target\",\"predictions\")),main=\"MLPE\")\n",
    "\n",
    "cat(\"MAE:\",round(mmetric(Target,Pred,metric=\"MAE\"),2),\"\\n\")\n",
    "cat(\"NMAE:\",round(mmetric(Target,Pred,metric=\"NMAE\"),2),\"\\n\")"
   ]
  },
  {
   "cell_type": "code",
   "execution_count": 13,
   "id": "261bac93",
   "metadata": {},
   "outputs": [],
   "source": [
    "cs = CasesSeries(data$all,c(1:7))"
   ]
  },
  {
   "cell_type": "code",
   "execution_count": 11,
   "id": "9e959963",
   "metadata": {},
   "outputs": [
    {
     "data": {
      "text/html": [
       "<ol class=list-inline>\n",
       "\t<li>5127.83786202639</li>\n",
       "\t<li>2990.90673153329</li>\n",
       "\t<li>3378.7449011671</li>\n",
       "\t<li>6604.35714723312</li>\n",
       "\t<li>4185.08421344401</li>\n",
       "\t<li>8496.70987409745</li>\n",
       "\t<li>4444.3189666022</li>\n",
       "</ol>\n"
      ],
      "text/latex": [
       "\\begin{enumerate*}\n",
       "\\item 5127.83786202639\n",
       "\\item 2990.90673153329\n",
       "\\item 3378.7449011671\n",
       "\\item 6604.35714723312\n",
       "\\item 4185.08421344401\n",
       "\\item 8496.70987409745\n",
       "\\item 4444.3189666022\n",
       "\\end{enumerate*}\n"
      ],
      "text/markdown": [
       "1. 5127.83786202639\n",
       "2. 2990.90673153329\n",
       "3. 3378.7449011671\n",
       "4. 6604.35714723312\n",
       "5. 4185.08421344401\n",
       "6. 8496.70987409745\n",
       "7. 4444.3189666022\n",
       "\n",
       "\n"
      ],
      "text/plain": [
       "[1] 5127.838 2990.907 3378.745 6604.357 4185.084 8496.710 4444.319"
      ]
     },
     "metadata": {},
     "output_type": "display_data"
    },
    {
     "name": "stdout",
     "output_type": "stream",
     "text": [
      "MAE= 1248.191 \n"
     ]
    }
   ],
   "source": [
    "NN=rminer::fit(y~.,cs[1:243,],model=\"mlpe\",search=\"heuristic\")\n",
    "PNN=predict(NN,cs[244:250,])\n",
    "PNN\n",
    "\n",
    "cat(\"MAE=\",mmetric(cs[244:250,]$y,PNN,metric=\"MAE\",val=srange),\"\\n\")"
   ]
  },
  {
   "cell_type": "code",
   "execution_count": 17,
   "id": "9b8d5531",
   "metadata": {},
   "outputs": [
    {
     "data": {
      "text/html": [
       "<ol class=list-inline>\n",
       "\t<li>4974</li>\n",
       "\t<li>3228</li>\n",
       "\t<li>3191</li>\n",
       "\t<li>4153</li>\n",
       "\t<li>4307</li>\n",
       "\t<li>4660</li>\n",
       "\t<li>6193</li>\n",
       "</ol>\n"
      ],
      "text/latex": [
       "\\begin{enumerate*}\n",
       "\\item 4974\n",
       "\\item 3228\n",
       "\\item 3191\n",
       "\\item 4153\n",
       "\\item 4307\n",
       "\\item 4660\n",
       "\\item 6193\n",
       "\\end{enumerate*}\n"
      ],
      "text/markdown": [
       "1. 4974\n",
       "2. 3228\n",
       "3. 3191\n",
       "4. 4153\n",
       "5. 4307\n",
       "6. 4660\n",
       "7. 6193\n",
       "\n",
       "\n"
      ],
      "text/plain": [
       "[1] 4974 3228 3191 4153 4307 4660 6193"
      ]
     },
     "metadata": {},
     "output_type": "display_data"
    }
   ],
   "source": [
    "cs[244:250,]$y"
   ]
  },
  {
   "cell_type": "code",
   "execution_count": 8,
   "id": "26d34ace",
   "metadata": {},
   "outputs": [
    {
     "data": {
      "text/html": [
       "<ol class=list-inline>\n",
       "\t<li>3526.19453494951</li>\n",
       "\t<li>3526.19467324453</li>\n",
       "\t<li>3526.19467324453</li>\n",
       "\t<li>3526.19467324453</li>\n",
       "\t<li>2977.92054342943</li>\n",
       "\t<li>3526.19467324453</li>\n",
       "\t<li>3526.19467324453</li>\n",
       "</ol>\n"
      ],
      "text/latex": [
       "\\begin{enumerate*}\n",
       "\\item 3526.19453494951\n",
       "\\item 3526.19467324453\n",
       "\\item 3526.19467324453\n",
       "\\item 3526.19467324453\n",
       "\\item 2977.92054342943\n",
       "\\item 3526.19467324453\n",
       "\\item 3526.19467324453\n",
       "\\end{enumerate*}\n"
      ],
      "text/markdown": [
       "1. 3526.19453494951\n",
       "2. 3526.19467324453\n",
       "3. 3526.19467324453\n",
       "4. 3526.19467324453\n",
       "5. 2977.92054342943\n",
       "6. 3526.19467324453\n",
       "7. 3526.19467324453\n",
       "\n",
       "\n"
      ],
      "text/plain": [
       "[1] 3526.195 3526.195 3526.195 3526.195 2977.921 3526.195 3526.195"
      ]
     },
     "metadata": {},
     "output_type": "display_data"
    },
    {
     "name": "stdout",
     "output_type": "stream",
     "text": [
      "MAE= 1119.67 \n"
     ]
    }
   ],
   "source": [
    "NN=rminer::fit(all~.,train,model=\"mlpe\",search=\"heuristic\")\n",
    "PNN=predict(NN,test)\n",
    "PNN\n",
    "\n",
    "cat(\"MAE=\",mmetric(test$all,PNN,metric=\"MAE\",val=srange),\"\\n\")"
   ]
  },
  {
   "cell_type": "code",
   "execution_count": null,
   "id": "b855d690",
   "metadata": {},
   "outputs": [],
   "source": [
    "# Gráfico\n",
    "txt=paste(\"Neural Network (SMAPE):\")\n",
    "mgraph(Target,Pred,graph=\"REG\",Grid=10,col=c(\"black\",\"blue\"),\n",
    "leg=list(pos=\"topleft\",leg=c(\"target\",\"predictions\")),main=txt)"
   ]
  },
  {
   "cell_type": "markdown",
   "id": "435a3348",
   "metadata": {},
   "source": [
    "## Time Series Forecast"
   ]
  },
  {
   "cell_type": "code",
   "execution_count": 38,
   "id": "b08c4ad5",
   "metadata": {},
   "outputs": [],
   "source": [
    "Test=7 # H, the number of multi-ahead steps, adjust if needed\n",
    "S=7 # step jump: set in this case to 4 months, a quarter\n",
    "Runs=7 # number of growing window iterations, adjust if needed"
   ]
  },
  {
   "cell_type": "code",
   "execution_count": 39,
   "id": "36064388",
   "metadata": {},
   "outputs": [],
   "source": [
    "# forecast:\n",
    "W=(length(data$all)-Test)-(Runs-1)*S # initial training window size for the ts space (forecast methods)\n",
    "\n",
    "# rminer:\n",
    "timelags=c(1:7) # 1 previous month, 12 and 13 previous year months, you can test other combinations, such as 1:13\n",
    "D=CasesSeries(data$all,timelags) # note: nrow(D) is smaller by max timelags than length(d1)\n",
    "W2=W-max(timelags) # initial training window size for the D space (CasesSeries, rminer methods)\n",
    "\n",
    "YR=diff(range(data$all)) # global Y range, use the same range for the NMAE calculation in all iterations\n",
    "\n",
    "ev2=vector(length=Runs) # error vector for \"mlpe\"\n",
    "\n",
    "trinit=1"
   ]
  },
  {
   "cell_type": "markdown",
   "id": "40b0aa2c",
   "metadata": {},
   "source": [
    "### Growing Window"
   ]
  },
  {
   "cell_type": "code",
   "execution_count": 59,
   "id": "ccc40754",
   "metadata": {},
   "outputs": [],
   "source": [
    "for(b in 1:Runs)\n",
    "{\n",
    "  H2=holdout(D$y,ratio=Test,mode=\"incremental\",iter=b,window=W2,increment=S)    \n",
    "  M2=fit(y~.,D[H2$tr,],model=\"mlpe\")\n",
    "  Pred2=lforecast(M2,D,start=(length(H2$tr)+1),Test)\n",
    "  ev2[b]=mmetric(y=data$all[H$ts],x=Pred2,metric=\"NMAE\",val=YR)\n",
    "}"
   ]
  },
  {
   "cell_type": "code",
   "execution_count": 60,
   "id": "fa9bae6e",
   "metadata": {},
   "outputs": [
    {
     "name": "stdout",
     "output_type": "stream",
     "text": [
      "SMAPE:  18.89 \n",
      "MAE:  837.04 \n",
      "NMAE:  27.88 \n"
     ]
    },
    {
     "data": {
      "image/png": "[encoded data removed]",
      "text/plain": [
       "Plot with title \"\""
      ]
     },
     "metadata": {},
     "output_type": "display_data"
    }
   ],
   "source": [
    "Target = data$all[H$ts]\n",
    "\n",
    "cat(\"SMAPE: \",round(mmetric(Target,Pred2,metric=\"SMAPE\"),2),\"\\n\")\n",
    "cat(\"MAE: \",round(mmetric(Target,Pred2,metric=\"MAE\"),2),\"\\n\")\n",
    "cat(\"NMAE: \",round(mmetric(Target,Pred2,metric=\"NMAE\"),2),\"\\n\")\n",
    "\n",
    "# last iteration predictions:\n",
    "mgraph(data$all[H$ts],Pred2,graph=\"REG\",Grid=10,col=c(\"black\",\"blue\"),\n",
    "leg=list(pos=\"topleft\",leg=c(\"target\",\"predictions\")))"
   ]
  },
  {
   "cell_type": "markdown",
   "id": "6a147dbf",
   "metadata": {},
   "source": [
    "### Rolling Window"
   ]
  },
  {
   "cell_type": "code",
   "execution_count": 52,
   "id": "12bade3b",
   "metadata": {},
   "outputs": [],
   "source": [
    "for(b in 1:Runs)\n",
    "{\n",
    "  H2=holdout(D$y,ratio=Test,mode=\"rolling\",iter=b,window=W2,increment=S)   \n",
    "  M2=fit(y~.,D[H2$tr,],model=\"mlpe\")\n",
    "  Pred2=lforecast(M2,D,start=(length(H2$tr)+1),Test)\n",
    "  ev2[b]=mmetric(y=data$all[H$ts],x=Pred2,metric=\"NMAE\",val=YR)\n",
    "}"
   ]
  },
  {
   "cell_type": "code",
   "execution_count": 53,
   "id": "3f23a050",
   "metadata": {},
   "outputs": [
    {
     "name": "stdout",
     "output_type": "stream",
     "text": [
      "SMAPE:  27.14 \n",
      "MAE:  1097.85 \n",
      "NMAE:  36.57 \n"
     ]
    },
    {
     "data": {
      "image/png": "[encoded data removed]",
      "text/plain": [
       "Plot with title \"\""
      ]
     },
     "metadata": {},
     "output_type": "display_data"
    }
   ],
   "source": [
    "Target = data$all[H$ts]\n",
    "\n",
    "cat(\"SMAPE: \",round(mmetric(Target,Pred2,metric=\"SMAPE\"),2),\"\\n\")\n",
    "cat(\"MAE: \",round(mmetric(Target,Pred2,metric=\"MAE\"),2),\"\\n\")\n",
    "cat(\"NMAE: \",round(mmetric(Target,Pred2,metric=\"NMAE\"),2),\"\\n\")\n",
    "\n",
    "# last iteration predictions:\n",
    "mgraph(data$all[H$ts],Pred2,graph=\"REG\",Grid=10,col=c(\"black\",\"blue\"),\n",
    "leg=list(pos=\"topleft\",leg=c(\"target\",\"predictions\")))"
   ]
  },
  {
   "cell_type": "markdown",
   "id": "d359f9ab",
   "metadata": {},
   "source": [
    "### Simple Time Series Forecast"
   ]
  },
  {
   "cell_type": "code",
   "execution_count": 159,
   "id": "29434316",
   "metadata": {
    "scrolled": true
   },
   "outputs": [
    {
     "name": "stdout",
     "output_type": "stream",
     "text": [
      "[1] \"show graph\"\n"
     ]
    },
    {
     "data": {
      "image/png": "[encoded data removed]",
      "text/plain": [
       "Plot with title \"\""
      ]
     },
     "metadata": {},
     "output_type": "display_data"
    },
    {
     "name": "stdout",
     "output_type": "stream",
     "text": [
      "Time Series:\n",
      "Start = c(1, 1) \n",
      "End = c(36, 5) \n",
      "Frequency = 7 \n",
      "  [1]  2332.00  2801.00  2375.00  3447.00  4823.00  4978.00  2706.00  2639.00\n",
      "  [9]  2647.00  2612.00  3530.00  4440.00  3469.00  2542.00  2779.00  4488.00\n",
      " [17]  5506.00  2954.00  2542.00  2892.00  2445.00  2231.00  3617.00  2113.00\n",
      " [25]  2363.00  3728.00  3643.00  2249.00  2214.00  1668.00  1121.00  2160.00\n",
      " [33]  2107.00  2281.00  1301.00  1628.00  1344.00  1417.00  1616.00  2112.00\n",
      " [41]  2210.00  1402.00  1504.00  2262.00  2146.00  2564.00  3318.00  3514.00\n",
      " [49]  2258.00  2341.00  2186.00  1794.00  2643.00  4308.00  3593.00  2025.00\n",
      " [57]  1746.00  3256.00  3579.00  4101.00  4917.00  4490.00  3109.00  1869.00\n",
      " [65]  1625.00  2685.00  3100.00  2418.75  1738.00  1056.25   375.00  1689.00\n",
      " [73]  2569.00  2722.00  3290.00  3494.00  2822.00  3620.00  3512.00  2643.00\n",
      " [81]  4783.00  5136.00  4911.00  4054.00  3963.00  3709.00  3847.00  4448.00\n",
      " [89]  5963.00  4818.00  4028.00  4381.00  3926.00  4063.00  5069.00  5762.00\n",
      " [97]  4816.00  3576.00  3743.00  3679.00  3767.00  3718.00  4426.00  4602.00\n",
      "[105]  3841.00  3815.00  4031.00  4914.00  4436.00  4898.00  5284.00  4027.00\n",
      "[113]  4207.00  4172.00  4382.00  5723.00  7961.00  9371.00  4581.00  4337.00\n",
      "[121]  4267.00  3801.00  3973.00  4292.00  3889.00  4269.00  4047.00  4330.00\n",
      "[129]  9163.00  3895.00  3955.00  4345.00  4171.00  3612.00  3530.00  3604.00\n",
      "[137]  3834.00  4429.00  3829.00  3964.00  8300.00  4981.00  3810.00  3918.00\n",
      "[145]  4408.00  4394.00  3932.00  4039.00  3696.00  3754.00  3791.00  5224.00\n",
      "[153]  5325.00  3822.00  3667.00  4114.00  3605.00  4085.00  5673.00  4394.00\n",
      "[161]  3932.00  4039.00  3696.00  3754.00  3791.00  5224.00  5325.00  3822.00\n",
      "[169]  3667.00  4114.00  3605.00  2135.00  3954.00  4712.00  3232.00  2905.00\n",
      "[177]  2668.00  8270.00  3047.00  4439.00 15735.00  4205.00  1638.00  2564.00\n",
      "[185]  2371.00  2207.00  4647.00  3866.00  1877.00  1754.00  1793.00  1617.00\n",
      "[193]  4410.00  2607.00  2640.00  2289.00  1933.00  2866.00  3630.00  2975.00\n",
      "[201]  4327.00  3673.00  2734.00  2185.00  1933.00  1389.00  2796.00  4180.00\n",
      "[209]  4148.00  2748.00  2522.00  2424.00  2450.00  3407.00  4314.00  5187.00\n",
      "[217]  2411.00  2173.00  2315.00  2066.00  3691.00  7719.00  6165.00  3469.00\n",
      "[225]  2847.00  3295.00  2638.00  3459.00  4860.00  5179.00  2642.00  2551.00\n",
      "[233]  2347.00  2863.00  3875.00  6107.00  4857.00  3365.00  2938.00  3119.00\n",
      "[241]  3436.00  2343.00  5579.00  4796.00  2620.00  2663.00  2817.00  3767.00\n",
      "[249]  6804.00 11110.00\n"
     ]
    },
    {
     "data": {
      "image/png": "[encoded data removed]",
      "text/plain": [
       "plot without title"
      ]
     },
     "metadata": {},
     "output_type": "display_data"
    }
   ],
   "source": [
    "TS = data$all\n",
    "\n",
    "K=7 # TS period (daily)\n",
    "print(\"show graph\")\n",
    "tsdisplay(TS)\n",
    "\n",
    "L=length(TS)\n",
    "NTS=K # number of predictions\n",
    "H=NTS # from 1 to H ahead predictions\n",
    "\n",
    "# --- this portion of code uses forecast library, which assumes several functions, such as forecast(), and uses a ts object \n",
    "# --- note: the forecast library works differently than rminer\n",
    "# time series monthly object, frequency=K \n",
    "# this time series object only includes TRAIN (older) data:\n",
    "LTR=L-H\n",
    "# start means: year of 1949, 1st month (since frequency=K=12).\n",
    "# according to the ts function documentation: frequency=7 assumes daily data, frequency=4 or 12 assumes quarterly and monthly data\n",
    "TR=ts(TS[1:LTR],frequency=K) # start means: year of 1949, 1st month (since frequency=K=12).\n",
    "# show the in-sample (training data) time series:\n",
    "plot(TR)\n",
    "print(TR)\n",
    "\n",
    "# target predictions:\n",
    "Y=TS[(LTR+1):L]"
   ]
  },
  {
   "cell_type": "code",
   "execution_count": 160,
   "id": "5f3bab93",
   "metadata": {},
   "outputs": [
    {
     "name": "stdout",
     "output_type": "stream",
     "text": [
      "      lag7            lag6            lag5            lag4      \n",
      " Min.   :  375   Min.   :  375   Min.   :  375   Min.   :  375  \n",
      " 1st Qu.: 2564   1st Qu.: 2565   1st Qu.: 2565   1st Qu.: 2578  \n",
      " Median : 3625   Median : 3636   Median : 3636   Median : 3636  \n",
      " Mean   : 3628   Mean   : 3638   Mean   : 3640   Mean   : 3643  \n",
      " 3rd Qu.: 4304   3rd Qu.: 4312   3rd Qu.: 4312   3rd Qu.: 4312  \n",
      " Max.   :15735   Max.   :15735   Max.   :15735   Max.   :15735  \n",
      "      lag3            lag2            lag1             y        \n",
      " Min.   :  375   Min.   :  375   Min.   :  375   Min.   :  375  \n",
      " 1st Qu.: 2578   1st Qu.: 2578   1st Qu.: 2578   1st Qu.: 2578  \n",
      " Median : 3655   Median : 3655   Median : 3655   Median : 3667  \n",
      " Mean   : 3646   Mean   : 3644   Mean   : 3643   Mean   : 3657  \n",
      " 3rd Qu.: 4312   3rd Qu.: 4308   3rd Qu.: 4308   3rd Qu.: 4312  \n",
      " Max.   :15735   Max.   :15735   Max.   :15735   Max.   :15735  \n",
      "[1] 4548.820 3176.593 4393.754 3400.574 4220.388 4392.796 4212.429\n",
      "MAE: 680.879 \n"
     ]
    },
    {
     "data": {
      "image/png": "[encoded data removed]",
      "text/plain": [
       "Plot with title \"\""
      ]
     },
     "metadata": {},
     "output_type": "display_data"
    }
   ],
   "source": [
    "# neural network modeling, via rminer:\n",
    "d=CasesSeries(TS,c(1:7)) # data.frame from time series (domain knowledge for the 1,12,13 time lag selection)\n",
    "print(summary(d))\n",
    "LD=nrow(d) # note: LD < L\n",
    "hd=holdout(d$y,ratio=NTS,mode=\"order\")\n",
    "NN2=fit(y~.,d[hd$tr,],model=\"mlpe\")\n",
    "# multi-step, from 1 to H ahead forecasts:\n",
    "init=hd$ts[1] # or same as: init=LD-H+1\n",
    "# for multi-step ahead prediction, the lforecast from rminer should be used instead of predict,\n",
    "# since predict only performs 1-ahead predictions\n",
    "F5=lforecast(NN2,d,start=hd$ts[1],horizon=H)\n",
    "print(F5)\n",
    "Pred5=F5\n",
    "mgraph(Y,Pred5,graph=\"REG\",Grid=10,col=c(\"black\",\"blue\"),leg=list(pos=\"topleft\",leg=c(\"target\",\"NN2 pred.\")))\n",
    "cat(\"MAE:\",mmetric(Y,Pred5,metric=\"MAE\"),\"\\n\")"
   ]
  },
  {
   "cell_type": "code",
   "execution_count": 107,
   "id": "f5c2700d",
   "metadata": {},
   "outputs": [
    {
     "name": "stdout",
     "output_type": "stream",
     "text": [
      "[1] 6852.686 4155.948 4244.913 3277.781 3846.433 5787.293 6575.399\n",
      "MAE: 708.9247 \n"
     ]
    },
    {
     "data": {
      "image/png": "[encoded data removed]",
      "text/plain": [
       "Plot with title \"\""
      ]
     },
     "metadata": {},
     "output_type": "display_data"
    }
   ],
   "source": [
    "# random forest modeling, via rminer:\n",
    "LM=fit(y~.,d[hd$tr,],model=\"lm\")\n",
    "# multi-step, from 1 to H ahead forecasts:\n",
    "init=hd$ts[1] # or same as: init=LD-H+1\n",
    "# for multi-step ahead prediction, the lforecast from rminer should be used instead of predict,\n",
    "# since predict only performs 1-ahead predictions\n",
    "F6=lforecast(LM,d,start=hd$ts[1],horizon=H)\n",
    "print(F6)\n",
    "Pred6=F6\n",
    "mgraph(Y,Pred6,graph=\"REG\",Grid=10,col=c(\"black\",\"blue\"),leg=list(pos=\"topleft\",leg=c(\"target\",\"LM pred.\")))\n",
    "cat(\"MAE:\",mmetric(Y,Pred5,metric=\"MAE\"),\"\\n\")"
   ]
  },
  {
   "cell_type": "code",
   "execution_count": 148,
   "id": "a94b5b32",
   "metadata": {},
   "outputs": [],
   "source": [
    "d1 = data[,1] #coluna all\n",
    "L = length(d1)\n",
    "K=7\n",
    "\n",
    "timelags = c(1:7)\n",
    "D = CasesSeries(d1,timelags)\n",
    "YR = diff(range(d1))"
   ]
  },
  {
   "cell_type": "code",
   "execution_count": 149,
   "id": "9bc46572",
   "metadata": {},
   "outputs": [],
   "source": [
    "H=holdout(data$all,ratio=7,mode=\"order\")\n",
    "M=fit(y~.,D[H$tr,],model=\"mlpe\") # create forecasting model\n",
    "Pred=lforecast(M,D,start=(length(H$tr)+1),7)"
   ]
  },
  {
   "cell_type": "code",
   "execution_count": 150,
   "id": "594837d8",
   "metadata": {},
   "outputs": [
    {
     "name": "stdout",
     "output_type": "stream",
     "text": [
      "SMAPE:  12.58 \n",
      "MAE:  554.64 \n",
      "NMAE:  18.48 \n"
     ]
    },
    {
     "data": {
      "image/png": "[encoded data removed]",
      "text/plain": [
       "Plot with title \"\""
      ]
     },
     "metadata": {},
     "output_type": "display_data"
    }
   ],
   "source": [
    "Target = d1[H$ts]\n",
    "\n",
    "cat(\"SMAPE: \",round(mmetric(Target,Pred,metric=\"SMAPE\"),2),\"\\n\")\n",
    "cat(\"MAE: \",round(mmetric(Target,Pred,metric=\"MAE\"),2),\"\\n\")\n",
    "cat(\"NMAE: \",round(mmetric(Target,Pred,metric=\"NMAE\"),2),\"\\n\")\n",
    "\n",
    "# last iteration predictions:\n",
    "mgraph(Target,Pred,graph=\"REG\",Grid=10,col=c(\"black\",\"blue\"),\n",
    "leg=list(pos=\"topleft\",leg=c(\"target\",\"predictions\")))"
   ]
  },
  {
   "cell_type": "code",
   "execution_count": 151,
   "id": "77f102ce",
   "metadata": {},
   "outputs": [
    {
     "name": "stderr",
     "output_type": "stream",
     "text": [
      "Warning message in cbind(d1, Pred):\n",
      "\"number of rows of result is not a multiple of vector length (arg 2)\""
     ]
    }
   ],
   "source": [
    "bind = data.frame(cbind(d1,Pred))"
   ]
  },
  {
   "cell_type": "code",
   "execution_count": 154,
   "id": "6baaf01b",
   "metadata": {},
   "outputs": [
    {
     "data": {
      "text/html": [
       "257"
      ],
      "text/latex": [
       "257"
      ],
      "text/markdown": [
       "257"
      ],
      "text/plain": [
       "[1] 257"
      ]
     },
     "metadata": {},
     "output_type": "display_data"
    }
   ],
   "source": [
    "nrow(data)"
   ]
  },
  {
   "cell_type": "code",
   "execution_count": 156,
   "id": "266689a9",
   "metadata": {},
   "outputs": [
    {
     "data": {
      "text/html": [
       "<ol class=list-inline>\n",
       "\t<li>4477.62833432028</li>\n",
       "\t<li>3721.5126691754</li>\n",
       "\t<li>3944.55716122064</li>\n",
       "\t<li>4080.62810281407</li>\n",
       "\t<li>4117.42216417014</li>\n",
       "\t<li>4285.21092464092</li>\n",
       "\t<li>4690.68057024053</li>\n",
       "</ol>\n"
      ],
      "text/latex": [
       "\\begin{enumerate*}\n",
       "\\item 4477.62833432028\n",
       "\\item 3721.5126691754\n",
       "\\item 3944.55716122064\n",
       "\\item 4080.62810281407\n",
       "\\item 4117.42216417014\n",
       "\\item 4285.21092464092\n",
       "\\item 4690.68057024053\n",
       "\\end{enumerate*}\n"
      ],
      "text/markdown": [
       "1. 4477.62833432028\n",
       "2. 3721.5126691754\n",
       "3. 3944.55716122064\n",
       "4. 4080.62810281407\n",
       "5. 4117.42216417014\n",
       "6. 4285.21092464092\n",
       "7. 4690.68057024053\n",
       "\n",
       "\n"
      ],
      "text/plain": [
       "[1] 4477.628 3721.513 3944.557 4080.628 4117.422 4285.211 4690.681"
      ]
     },
     "metadata": {},
     "output_type": "display_data"
    }
   ],
   "source": [
    "Pred"
   ]
  },
  {
   "cell_type": "code",
   "execution_count": null,
   "id": "8f23b2c8",
   "metadata": {},
   "outputs": [],
   "source": [
    "# Ciclo for com as varias configuracoes do metodo fit para descobrir quais sao as melhroes"
   ]
  },
  {
   "cell_type": "code",
   "execution_count": null,
   "id": "710d2630",
   "metadata": {},
   "outputs": [],
   "source": []
  },
  {
   "cell_type": "code",
   "execution_count": null,
   "id": "4d547522",
   "metadata": {},
   "outputs": [],
   "source": []
  }
 ],
 "metadata": {
  "kernelspec": {
   "display_name": "R",
   "language": "R",
   "name": "ir"
  },
  "language_info": {
   "codemirror_mode": "r",
   "file_extension": ".r",
   "mimetype": "text/x-r-source",
   "name": "R",
   "pygments_lexer": "r",
   "version": "3.6.1"
  }
 },
 "nbformat": 4,
 "nbformat_minor": 5
}
