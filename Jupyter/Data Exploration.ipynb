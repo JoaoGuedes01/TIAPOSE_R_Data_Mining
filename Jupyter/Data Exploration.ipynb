{
 "cells": [
  {
   "cell_type": "markdown",
   "id": "2177400a",
   "metadata": {},
   "source": [
    "## Descrição das variáveis\n",
    "#### date – dia em que foi efetuado o registo.\n",
    "#### all – entrada diária de todas pessoas (faces humanas) na loja.\n",
    "#### female – entrada de todos elementos identificados como pertencentes ao género feminino.\n",
    "#### male - igual ao atributo anterior mas relacionado com o género masculino.\n",
    "#### young – entradas com estimativa de idade jovem (até 18 anos).\n",
    "#### adult - entradas com estimativa de idade adulta (>18 anos).\n",
    "#### weather – estado do tempo no exterior (“Sunny” ou “Rain”).\n",
    "#### maxtemp, RH, maxwind – estado do tempo no exterior para o dia (temperatura máxima, humidade relativa máxima, velocidade do vento máximo)."
   ]
  },
  {
   "cell_type": "markdown",
   "id": "3eab8834",
   "metadata": {},
   "source": [
    "## Importing Libraries"
   ]
  },
  {
   "cell_type": "code",
   "execution_count": 11,
   "id": "7913196d",
   "metadata": {},
   "outputs": [
    {
     "name": "stderr",
     "output_type": "stream",
     "text": [
      "Warning message:\n",
      "\"package 'DataExplorer' was built under R version 3.6.3\""
     ]
    },
    {
     "ename": "ERROR",
     "evalue": "Error: package or namespace load failed for 'DataExplorer' in loadNamespace(i, c(lib.loc, .libPaths()), versionCheck = vI[[i]]):\n there is no package called 'rmarkdown'\n",
     "output_type": "error",
     "traceback": [
      "Error: package or namespace load failed for 'DataExplorer' in loadNamespace(i, c(lib.loc, .libPaths()), versionCheck = vI[[i]]):\n there is no package called 'rmarkdown'\nTraceback:\n",
      "1. library(DataExplorer)",
      "2. tryCatch({\n .     attr(package, \"LibPath\") <- which.lib.loc\n .     ns <- loadNamespace(package, lib.loc)\n .     env <- attachNamespace(ns, pos = pos, deps, exclude, include.only)\n . }, error = function(e) {\n .     P <- if (!is.null(cc <- conditionCall(e))) \n .         paste(\" in\", deparse(cc)[1L])\n .     else \"\"\n .     msg <- gettextf(\"package or namespace load failed for %s%s:\\n %s\", \n .         sQuote(package), P, conditionMessage(e))\n .     if (logical.return) \n .         message(paste(\"Error:\", msg), domain = NA)\n .     else stop(msg, call. = FALSE, domain = NA)\n . })",
      "3. tryCatchList(expr, classes, parentenv, handlers)",
      "4. tryCatchOne(expr, names, parentenv, handlers[[1L]])",
      "5. value[[3L]](cond)",
      "6. stop(msg, call. = FALSE, domain = NA)"
     ]
    }
   ],
   "source": [
    "library(tidyverse)\n",
    "library(ggplot2)\n",
    "library(corrplot)\n",
    "library(DataExplorer)"
   ]
  },
  {
   "cell_type": "code",
   "execution_count": 9,
   "id": "325e4f80",
   "metadata": {},
   "outputs": [],
   "source": [
    "data <- read.csv(file = 'store.csv', sep = ';')"
   ]
  },
  {
   "cell_type": "code",
   "execution_count": 25,
   "id": "2d50b6f2",
   "metadata": {},
   "outputs": [
    {
     "name": "stdout",
     "output_type": "stream",
     "text": [
      "Head \n"
     ]
    },
    {
     "data": {
      "text/html": [
       "<table>\n",
       "<thead><tr><th scope=col>date</th><th scope=col>all</th><th scope=col>female</th><th scope=col>male</th><th scope=col>young</th><th scope=col>adult</th><th scope=col>weather</th><th scope=col>maxtemp</th><th scope=col>RH</th><th scope=col>maxwind</th></tr></thead>\n",
       "<tbody>\n",
       "\t<tr><td>2013-04-09</td><td>2332      </td><td>1115      </td><td>1108      </td><td>1122      </td><td>1210      </td><td>Rain      </td><td>13        </td><td>87        </td><td> 0        </td></tr>\n",
       "\t<tr><td>2013-04-10</td><td>2801      </td><td>1217      </td><td>1459      </td><td>1239      </td><td>1562      </td><td>Rain      </td><td>14        </td><td>94        </td><td>45        </td></tr>\n",
       "\t<tr><td>2013-04-11</td><td>2375      </td><td>1168      </td><td>1099      </td><td>1059      </td><td>1316      </td><td>Rain      </td><td>14        </td><td>82        </td><td>55        </td></tr>\n",
       "\t<tr><td>2013-04-12</td><td>3447      </td><td>1617      </td><td>1651      </td><td>1606      </td><td>1841      </td><td>Sunny     </td><td>13        </td><td>78        </td><td> 0        </td></tr>\n",
       "\t<tr><td>2013-04-13</td><td>4823      </td><td>2469      </td><td>2117      </td><td>2318      </td><td>2505      </td><td>Rain      </td><td>16        </td><td>81        </td><td>37        </td></tr>\n",
       "\t<tr><td>2013-04-14</td><td>4978      </td><td>2564      </td><td>2223      </td><td>2289      </td><td>2689      </td><td>Rain      </td><td>16        </td><td>73        </td><td> 0        </td></tr>\n",
       "</tbody>\n",
       "</table>\n"
      ],
      "text/latex": [
       "\\begin{tabular}{r|llllllllll}\n",
       " date & all & female & male & young & adult & weather & maxtemp & RH & maxwind\\\\\n",
       "\\hline\n",
       "\t 2013-04-09 & 2332       & 1115       & 1108       & 1122       & 1210       & Rain       & 13         & 87         &  0        \\\\\n",
       "\t 2013-04-10 & 2801       & 1217       & 1459       & 1239       & 1562       & Rain       & 14         & 94         & 45        \\\\\n",
       "\t 2013-04-11 & 2375       & 1168       & 1099       & 1059       & 1316       & Rain       & 14         & 82         & 55        \\\\\n",
       "\t 2013-04-12 & 3447       & 1617       & 1651       & 1606       & 1841       & Sunny      & 13         & 78         &  0        \\\\\n",
       "\t 2013-04-13 & 4823       & 2469       & 2117       & 2318       & 2505       & Rain       & 16         & 81         & 37        \\\\\n",
       "\t 2013-04-14 & 4978       & 2564       & 2223       & 2289       & 2689       & Rain       & 16         & 73         &  0        \\\\\n",
       "\\end{tabular}\n"
      ],
      "text/markdown": [
       "\n",
       "| date | all | female | male | young | adult | weather | maxtemp | RH | maxwind |\n",
       "|---|---|---|---|---|---|---|---|---|---|\n",
       "| 2013-04-09 | 2332       | 1115       | 1108       | 1122       | 1210       | Rain       | 13         | 87         |  0         |\n",
       "| 2013-04-10 | 2801       | 1217       | 1459       | 1239       | 1562       | Rain       | 14         | 94         | 45         |\n",
       "| 2013-04-11 | 2375       | 1168       | 1099       | 1059       | 1316       | Rain       | 14         | 82         | 55         |\n",
       "| 2013-04-12 | 3447       | 1617       | 1651       | 1606       | 1841       | Sunny      | 13         | 78         |  0         |\n",
       "| 2013-04-13 | 4823       | 2469       | 2117       | 2318       | 2505       | Rain       | 16         | 81         | 37         |\n",
       "| 2013-04-14 | 4978       | 2564       | 2223       | 2289       | 2689       | Rain       | 16         | 73         |  0         |\n",
       "\n"
      ],
      "text/plain": [
       "  date       all  female male young adult weather maxtemp RH maxwind\n",
       "1 2013-04-09 2332 1115   1108 1122  1210  Rain    13      87  0     \n",
       "2 2013-04-10 2801 1217   1459 1239  1562  Rain    14      94 45     \n",
       "3 2013-04-11 2375 1168   1099 1059  1316  Rain    14      82 55     \n",
       "4 2013-04-12 3447 1617   1651 1606  1841  Sunny   13      78  0     \n",
       "5 2013-04-13 4823 2469   2117 2318  2505  Rain    16      81 37     \n",
       "6 2013-04-14 4978 2564   2223 2289  2689  Rain    16      73  0     "
      ]
     },
     "metadata": {},
     "output_type": "display_data"
    },
    {
     "name": "stdout",
     "output_type": "stream",
     "text": [
      "Tail \n"
     ]
    },
    {
     "data": {
      "text/html": [
       "<table>\n",
       "<thead><tr><th></th><th scope=col>date</th><th scope=col>all</th><th scope=col>female</th><th scope=col>male</th><th scope=col>young</th><th scope=col>adult</th><th scope=col>weather</th><th scope=col>maxtemp</th><th scope=col>RH</th><th scope=col>maxwind</th></tr></thead>\n",
       "<tbody>\n",
       "\t<tr><th scope=row>252</th><td>2013-12-16</td><td>3228      </td><td>1442      </td><td>1606      </td><td>1625      </td><td>1603      </td><td>Sunny     </td><td>10        </td><td>87        </td><td>32        </td></tr>\n",
       "\t<tr><th scope=row>253</th><td>2013-12-17</td><td>3191      </td><td>1427      </td><td>1627      </td><td>1688      </td><td>1503      </td><td>Rain      </td><td>11        </td><td>90        </td><td>24        </td></tr>\n",
       "\t<tr><th scope=row>254</th><td>2013-12-18</td><td>4153      </td><td>2035      </td><td>1880      </td><td>2208      </td><td>1945      </td><td>Rain      </td><td>10        </td><td>93        </td><td> 0        </td></tr>\n",
       "\t<tr><th scope=row>255</th><td>2013-12-19</td><td>4307      </td><td>2043      </td><td>2028      </td><td>2282      </td><td>2025      </td><td>Rain      </td><td>12        </td><td>86        </td><td>74        </td></tr>\n",
       "\t<tr><th scope=row>256</th><td>2013-12-20</td><td>4660      </td><td>2207      </td><td>2227      </td><td>2441      </td><td>2219      </td><td>Sunny     </td><td> 9        </td><td>69        </td><td> 0        </td></tr>\n",
       "\t<tr><th scope=row>257</th><td>2013-12-21</td><td>6193      </td><td>2894      </td><td>2967      </td><td>3115      </td><td>3078      </td><td>Sunny     </td><td> 9        </td><td>68        </td><td> 0        </td></tr>\n",
       "</tbody>\n",
       "</table>\n"
      ],
      "text/latex": [
       "\\begin{tabular}{r|llllllllll}\n",
       "  & date & all & female & male & young & adult & weather & maxtemp & RH & maxwind\\\\\n",
       "\\hline\n",
       "\t252 & 2013-12-16 & 3228       & 1442       & 1606       & 1625       & 1603       & Sunny      & 10         & 87         & 32        \\\\\n",
       "\t253 & 2013-12-17 & 3191       & 1427       & 1627       & 1688       & 1503       & Rain       & 11         & 90         & 24        \\\\\n",
       "\t254 & 2013-12-18 & 4153       & 2035       & 1880       & 2208       & 1945       & Rain       & 10         & 93         &  0        \\\\\n",
       "\t255 & 2013-12-19 & 4307       & 2043       & 2028       & 2282       & 2025       & Rain       & 12         & 86         & 74        \\\\\n",
       "\t256 & 2013-12-20 & 4660       & 2207       & 2227       & 2441       & 2219       & Sunny      &  9         & 69         &  0        \\\\\n",
       "\t257 & 2013-12-21 & 6193       & 2894       & 2967       & 3115       & 3078       & Sunny      &  9         & 68         &  0        \\\\\n",
       "\\end{tabular}\n"
      ],
      "text/markdown": [
       "\n",
       "| <!--/--> | date | all | female | male | young | adult | weather | maxtemp | RH | maxwind |\n",
       "|---|---|---|---|---|---|---|---|---|---|---|\n",
       "| 252 | 2013-12-16 | 3228       | 1442       | 1606       | 1625       | 1603       | Sunny      | 10         | 87         | 32         |\n",
       "| 253 | 2013-12-17 | 3191       | 1427       | 1627       | 1688       | 1503       | Rain       | 11         | 90         | 24         |\n",
       "| 254 | 2013-12-18 | 4153       | 2035       | 1880       | 2208       | 1945       | Rain       | 10         | 93         |  0         |\n",
       "| 255 | 2013-12-19 | 4307       | 2043       | 2028       | 2282       | 2025       | Rain       | 12         | 86         | 74         |\n",
       "| 256 | 2013-12-20 | 4660       | 2207       | 2227       | 2441       | 2219       | Sunny      |  9         | 69         |  0         |\n",
       "| 257 | 2013-12-21 | 6193       | 2894       | 2967       | 3115       | 3078       | Sunny      |  9         | 68         |  0         |\n",
       "\n"
      ],
      "text/plain": [
       "    date       all  female male young adult weather maxtemp RH maxwind\n",
       "252 2013-12-16 3228 1442   1606 1625  1603  Sunny   10      87 32     \n",
       "253 2013-12-17 3191 1427   1627 1688  1503  Rain    11      90 24     \n",
       "254 2013-12-18 4153 2035   1880 2208  1945  Rain    10      93  0     \n",
       "255 2013-12-19 4307 2043   2028 2282  2025  Rain    12      86 74     \n",
       "256 2013-12-20 4660 2207   2227 2441  2219  Sunny    9      69  0     \n",
       "257 2013-12-21 6193 2894   2967 3115  3078  Sunny    9      68  0     "
      ]
     },
     "metadata": {},
     "output_type": "display_data"
    },
    {
     "name": "stdout",
     "output_type": "stream",
     "text": [
      "Glimpse \n",
      "Observations: 257\n",
      "Variables: 10\n",
      "$ date    <fct> 2013-04-09, 2013-04-10, 2013-04-11, 2013-04-12, 2013-04-13,...\n",
      "$ all     <dbl> 2332, 2801, 2375, 3447, 4823, 4978, 2706, 2639, 2647, 2612,...\n",
      "$ female  <dbl> 1115, 1217, 1168, 1617, 2469, 2564, 1192, 1220, 1178, 1257,...\n",
      "$ male    <int> 1108, 1459, 1099, 1651, 2117, 2223, 1401, 1308, 1329, 1228,...\n",
      "$ young   <int> 1122, 1239, 1059, 1606, 2318, 2289, 1148, 1110, 1152, 1064,...\n",
      "$ adult   <dbl> 1210, 1562, 1316, 1841, 2505, 2689, 1558, 1529, 1495, 1548,...\n",
      "$ weather <fct> Rain, Rain, Rain, Sunny, Rain, Rain, Sunny, Sunny, Sunny, S...\n",
      "$ maxtemp <int> 13, 14, 14, 13, 16, 16, 17, 17, 16, 16, 16, 18, 16, 17, 19,...\n",
      "$ RH      <int> 87, 94, 82, 78, 81, 73, 80, 70, 72, 72, 62, 47, 49, 67, 51,...\n",
      "$ maxwind <int> 0, 45, 55, 0, 37, 0, 0, 32, 0, 53, 0, 50, 0, 29, 35, 27, 48...\n",
      "Number Columns \n"
     ]
    },
    {
     "data": {
      "text/html": [
       "10"
      ],
      "text/latex": [
       "10"
      ],
      "text/markdown": [
       "10"
      ],
      "text/plain": [
       "[1] 10"
      ]
     },
     "metadata": {},
     "output_type": "display_data"
    },
    {
     "name": "stdout",
     "output_type": "stream",
     "text": [
      "Number Rows \n"
     ]
    },
    {
     "data": {
      "text/html": [
       "257"
      ],
      "text/latex": [
       "257"
      ],
      "text/markdown": [
       "257"
      ],
      "text/plain": [
       "[1] 257"
      ]
     },
     "metadata": {},
     "output_type": "display_data"
    },
    {
     "name": "stdout",
     "output_type": "stream",
     "text": [
      "Column Names \n"
     ]
    },
    {
     "data": {
      "text/html": [
       "<ol class=list-inline>\n",
       "\t<li>'date'</li>\n",
       "\t<li>'all'</li>\n",
       "\t<li>'female'</li>\n",
       "\t<li>'male'</li>\n",
       "\t<li>'young'</li>\n",
       "\t<li>'adult'</li>\n",
       "\t<li>'weather'</li>\n",
       "\t<li>'maxtemp'</li>\n",
       "\t<li>'RH'</li>\n",
       "\t<li>'maxwind'</li>\n",
       "</ol>\n"
      ],
      "text/latex": [
       "\\begin{enumerate*}\n",
       "\\item 'date'\n",
       "\\item 'all'\n",
       "\\item 'female'\n",
       "\\item 'male'\n",
       "\\item 'young'\n",
       "\\item 'adult'\n",
       "\\item 'weather'\n",
       "\\item 'maxtemp'\n",
       "\\item 'RH'\n",
       "\\item 'maxwind'\n",
       "\\end{enumerate*}\n"
      ],
      "text/markdown": [
       "1. 'date'\n",
       "2. 'all'\n",
       "3. 'female'\n",
       "4. 'male'\n",
       "5. 'young'\n",
       "6. 'adult'\n",
       "7. 'weather'\n",
       "8. 'maxtemp'\n",
       "9. 'RH'\n",
       "10. 'maxwind'\n",
       "\n",
       "\n"
      ],
      "text/plain": [
       " [1] \"date\"    \"all\"     \"female\"  \"male\"    \"young\"   \"adult\"   \"weather\"\n",
       " [8] \"maxtemp\" \"RH\"      \"maxwind\""
      ]
     },
     "metadata": {},
     "output_type": "display_data"
    },
    {
     "name": "stdout",
     "output_type": "stream",
     "text": [
      "Summary \n"
     ]
    },
    {
     "data": {
      "text/plain": [
       "         date          all            female          male          young     \n",
       " 2013-04-09:  1   Min.   :  375   Min.   : 194   Min.   : 170   Min.   : 191  \n",
       " 2013-04-10:  1   1st Qu.: 2569   1st Qu.:1139   1st Qu.:1327   1st Qu.:1122  \n",
       " 2013-04-11:  1   Median : 3643   Median :1725   Median :1755   Median :1625  \n",
       " 2013-04-12:  1   Mean   : 3648   Mean   :1698   Mean   :1776   Mean   :1648  \n",
       " 2013-04-13:  1   3rd Qu.: 4314   3rd Qu.:2035   3rd Qu.:2057   3rd Qu.:1942  \n",
       " 2013-04-14:  1   Max.   :15735   Max.   :7645   Max.   :7045   Max.   :7495  \n",
       " (Other)   :251                                                               \n",
       "     adult       weather       maxtemp            RH           maxwind     \n",
       " Min.   : 184   Rain : 57   Min.   : 7.00   Min.   :24.00   Min.   : 0.00  \n",
       " 1st Qu.:1433   Sunny:200   1st Qu.:16.00   1st Qu.:57.00   1st Qu.: 0.00  \n",
       " Median :2021               Median :19.00   Median :69.00   Median :32.00  \n",
       " Mean   :2000               Mean   :18.59   Mean   :67.23   Mean   :24.95  \n",
       " 3rd Qu.:2349               3rd Qu.:22.00   3rd Qu.:78.00   3rd Qu.:42.00  \n",
       " Max.   :8240               Max.   :32.00   Max.   :99.00   Max.   :74.00  \n",
       "                                                                           "
      ]
     },
     "metadata": {},
     "output_type": "display_data"
    }
   ],
   "source": [
    "cat('Head \\n')\n",
    "head(data)\n",
    "\n",
    "cat('Tail \\n')\n",
    "tail(data)\n",
    "\n",
    "cat('Glimpse \\n')\n",
    "glimpse(data)\n",
    "\n",
    "cat('Number Columns \\n')\n",
    "ncol(data)\n",
    "\n",
    "cat('Number Rows \\n')\n",
    "nrow(data)\n",
    "\n",
    "cat('Column Names \\n')\n",
    "colnames(data)\n",
    "\n",
    "cat('Summary \\n')\n",
    "summary(data)"
   ]
  },
  {
   "cell_type": "markdown",
   "id": "0f0069fe",
   "metadata": {},
   "source": [
    "## Data Visualization"
   ]
  },
  {
   "cell_type": "code",
   "execution_count": 119,
   "id": "e90925a4",
   "metadata": {},
   "outputs": [
    {
     "data": {
      "image/png": "[encoded data removed]",
      "text/plain": [
       "plot without title"
      ]
     },
     "metadata": {},
     "output_type": "display_data"
    }
   ],
   "source": [
    "ggplot(data=data, aes(x=weather))+geom_bar()+\n",
    "xlab(\"Clima\")+\n",
    "ylab(\"Frequencia\")+\n",
    "ggtitle(\"Freq de Clima\")+\n",
    "geom_text(aes(label = ..count..), stat = \"count\", vjust = 1.5, colour = \"white\")"
   ]
  },
  {
   "cell_type": "code",
   "execution_count": 57,
   "id": "edeab167",
   "metadata": {},
   "outputs": [
    {
     "data": {
      "text/plain": [
       "\n",
       "     Rain     Sunny \n",
       "0.2217899 0.7782101 "
      ]
     },
     "metadata": {},
     "output_type": "display_data"
    }
   ],
   "source": [
    "prop.table(table(data$weather))"
   ]
  },
  {
   "cell_type": "code",
   "execution_count": 43,
   "id": "596374b6",
   "metadata": {},
   "outputs": [
    {
     "data": {
      "image/png": "[encoded data removed]",
      "text/plain": [
       "plot without title"
      ]
     },
     "metadata": {},
     "output_type": "display_data"
    }
   ],
   "source": [
    "data %>%\n",
    "    group_by(all) %>%\n",
    "    count() %>%\n",
    "    filter(n<5000) %>%\n",
    "    ggplot()+\n",
    "    geom_col(aes(all,n), fill='green')+\n",
    "    ggtitle(\"All\")+\n",
    "    xlab(\"All\")+\n",
    "    ylab(\"count\")"
   ]
  },
  {
   "cell_type": "code",
   "execution_count": 97,
   "id": "77be392c",
   "metadata": {},
   "outputs": [
    {
     "data": {
      "image/png": "[encoded data removed]",
      "text/plain": [
       "plot without title"
      ]
     },
     "metadata": {},
     "output_type": "display_data"
    }
   ],
   "source": [
    "ggplot(data=data, aes(y=all))+geom_boxplot()"
   ]
  },
  {
   "cell_type": "code",
   "execution_count": 100,
   "id": "ae81c5c3",
   "metadata": {},
   "outputs": [
    {
     "name": "stderr",
     "output_type": "stream",
     "text": [
      "`stat_bin()` using `bins = 30`. Pick better value with `binwidth`.\n"
     ]
    },
    {
     "data": {
      "image/png": "[encoded data removed]",
      "text/plain": [
       "plot without title"
      ]
     },
     "metadata": {},
     "output_type": "display_data"
    }
   ],
   "source": [
    "ggplot(data=data, aes(x=all))+geom_histogram()"
   ]
  },
  {
   "cell_type": "code",
   "execution_count": 158,
   "id": "58fe32b7",
   "metadata": {},
   "outputs": [
    {
     "data": {
      "image/png": "[encoded data removed]",
      "text/plain": [
       "plot without title"
      ]
     },
     "metadata": {},
     "output_type": "display_data"
    }
   ],
   "source": [
    "ggplot(data=data, aes(x=weather,y=all))+geom_boxplot()"
   ]
  },
  {
   "cell_type": "code",
   "execution_count": 140,
   "id": "ddb64003",
   "metadata": {},
   "outputs": [
    {
     "data": {
      "image/png": "[encoded data removed]",
      "text/plain": [
       "plot without title"
      ]
     },
     "metadata": {},
     "output_type": "display_data"
    }
   ],
   "source": [
    "ggplot(data=data, aes(x=maxwind,y=all))+geom_line()"
   ]
  },
  {
   "cell_type": "code",
   "execution_count": 142,
   "id": "1243099c",
   "metadata": {
    "collapsed": true
   },
   "outputs": [
    {
     "name": "stdout",
     "output_type": "stream",
     "text": [
      "\n",
      "  There is a binary version available but the source version is later:\n",
      "         binary source needs_compilation\n",
      "corrplot   0.88   0.92             FALSE\n",
      "\n"
     ]
    },
    {
     "name": "stderr",
     "output_type": "stream",
     "text": [
      "installing the source package 'corrplot'\n",
      "\n"
     ]
    }
   ],
   "source": [
    "install.packages(\"corrplot\")"
   ]
  },
  {
   "cell_type": "code",
   "execution_count": 181,
   "id": "ea7f97c5",
   "metadata": {},
   "outputs": [],
   "source": [
    "cor(data[,8:10]) -> bruh1\n",
    "cor(data[2:6]) -> bruh2"
   ]
  },
  {
   "cell_type": "code",
   "execution_count": 182,
   "id": "9fb36ef6",
   "metadata": {},
   "outputs": [
    {
     "data": {
      "image/png": "[encoded data removed]",
      "text/plain": [
       "Plot with title \"\""
      ]
     },
     "metadata": {},
     "output_type": "display_data"
    },
    {
     "data": {
      "image/png": "[encoded data removed]",
      "text/plain": [
       "Plot with title \"\""
      ]
     },
     "metadata": {},
     "output_type": "display_data"
    }
   ],
   "source": [
    "corrplot(bruh2, method= 'square')\n",
    "corrplot(bruh2, method= 'square', type='upper')"
   ]
  },
  {
   "cell_type": "code",
   "execution_count": null,
   "id": "313ce695",
   "metadata": {},
   "outputs": [],
   "source": []
  }
 ],
 "metadata": {
  "kernelspec": {
   "display_name": "R",
   "language": "R",
   "name": "ir"
  },
  "language_info": {
   "codemirror_mode": "r",
   "file_extension": ".r",
   "mimetype": "text/x-r-source",
   "name": "R",
   "pygments_lexer": "r",
   "version": "3.6.1"
  }
 },
 "nbformat": 4,
 "nbformat_minor": 5
}
