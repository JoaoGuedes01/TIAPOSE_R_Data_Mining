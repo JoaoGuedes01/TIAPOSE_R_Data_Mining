{
 "cells": [
  {
   "cell_type": "markdown",
   "id": "e2f1558e",
   "metadata": {},
   "source": [
    "## Data Preparation\n",
    "#### Nesta fase os dados foram preparados para integração em modelos de machine learning na fase de Modeling\n",
    "#### As séries temporais \"male\", \"female\", \"young\" e \"adult\" foram retiradas dos dados uma vez que o nosso objetivo é orientado para a série \"all\"\n",
    "#### A coluna \"date\" também foi removida porque apenas serve para nos situarmos no tempo, para a divisão dos dados em antigos=treino, recentes=teste. Além disso a sua natureza única (única por observação) apenas iria trazer incerteza para os modelos.\n",
    "#### Para lidar com os valores outliers foram criados 2 cenários:\n",
    "<ul>\n",
    "    <li><b>Com outliers</b> - Neste cenário os valores outliers não foram tratados</li>\n",
    "    <li><b>Sem outliers s/ compensação</b> - Neste cenário os valores outliers foram tratados</li>\n",
    "\n",
    "</ul>\n",
    "\n",
    "#### Por fim os dados de cada cenário foram exportados para os respetivos ficheiros csv para poderem ser utilizados nas fases seguintes "
   ]
  },
  {
   "cell_type": "code",
   "execution_count": 4,
   "id": "161ea5f4",
   "metadata": {},
   "outputs": [],
   "source": [
    "library(tidyverse)"
   ]
  },
  {
   "cell_type": "code",
   "execution_count": 11,
   "id": "4fee5167",
   "metadata": {},
   "outputs": [
    {
     "data": {
      "text/html": [
       "<table>\n",
       "<thead><tr><th scope=col>date</th><th scope=col>all</th><th scope=col>female</th><th scope=col>male</th><th scope=col>young</th><th scope=col>adult</th><th scope=col>weather</th><th scope=col>maxtemp</th><th scope=col>RH</th><th scope=col>maxwind</th></tr></thead>\n",
       "<tbody>\n",
       "\t<tr><td>2013-04-09</td><td>2332      </td><td>1115      </td><td>1108      </td><td>1122      </td><td>1210      </td><td>Rain      </td><td>13        </td><td>87        </td><td> 0        </td></tr>\n",
       "\t<tr><td>2013-04-10</td><td>2801      </td><td>1217      </td><td>1459      </td><td>1239      </td><td>1562      </td><td>Rain      </td><td>14        </td><td>94        </td><td>45        </td></tr>\n",
       "\t<tr><td>2013-04-11</td><td>2375      </td><td>1168      </td><td>1099      </td><td>1059      </td><td>1316      </td><td>Rain      </td><td>14        </td><td>82        </td><td>55        </td></tr>\n",
       "\t<tr><td>2013-04-12</td><td>3447      </td><td>1617      </td><td>1651      </td><td>1606      </td><td>1841      </td><td>Sunny     </td><td>13        </td><td>78        </td><td> 0        </td></tr>\n",
       "\t<tr><td>2013-04-13</td><td>4823      </td><td>2469      </td><td>2117      </td><td>2318      </td><td>2505      </td><td>Rain      </td><td>16        </td><td>81        </td><td>37        </td></tr>\n",
       "\t<tr><td>2013-04-14</td><td>4978      </td><td>2564      </td><td>2223      </td><td>2289      </td><td>2689      </td><td>Rain      </td><td>16        </td><td>73        </td><td> 0        </td></tr>\n",
       "</tbody>\n",
       "</table>\n"
      ],
      "text/latex": [
       "\\begin{tabular}{r|llllllllll}\n",
       " date & all & female & male & young & adult & weather & maxtemp & RH & maxwind\\\\\n",
       "\\hline\n",
       "\t 2013-04-09 & 2332       & 1115       & 1108       & 1122       & 1210       & Rain       & 13         & 87         &  0        \\\\\n",
       "\t 2013-04-10 & 2801       & 1217       & 1459       & 1239       & 1562       & Rain       & 14         & 94         & 45        \\\\\n",
       "\t 2013-04-11 & 2375       & 1168       & 1099       & 1059       & 1316       & Rain       & 14         & 82         & 55        \\\\\n",
       "\t 2013-04-12 & 3447       & 1617       & 1651       & 1606       & 1841       & Sunny      & 13         & 78         &  0        \\\\\n",
       "\t 2013-04-13 & 4823       & 2469       & 2117       & 2318       & 2505       & Rain       & 16         & 81         & 37        \\\\\n",
       "\t 2013-04-14 & 4978       & 2564       & 2223       & 2289       & 2689       & Rain       & 16         & 73         &  0        \\\\\n",
       "\\end{tabular}\n"
      ],
      "text/markdown": [
       "\n",
       "| date | all | female | male | young | adult | weather | maxtemp | RH | maxwind |\n",
       "|---|---|---|---|---|---|---|---|---|---|\n",
       "| 2013-04-09 | 2332       | 1115       | 1108       | 1122       | 1210       | Rain       | 13         | 87         |  0         |\n",
       "| 2013-04-10 | 2801       | 1217       | 1459       | 1239       | 1562       | Rain       | 14         | 94         | 45         |\n",
       "| 2013-04-11 | 2375       | 1168       | 1099       | 1059       | 1316       | Rain       | 14         | 82         | 55         |\n",
       "| 2013-04-12 | 3447       | 1617       | 1651       | 1606       | 1841       | Sunny      | 13         | 78         |  0         |\n",
       "| 2013-04-13 | 4823       | 2469       | 2117       | 2318       | 2505       | Rain       | 16         | 81         | 37         |\n",
       "| 2013-04-14 | 4978       | 2564       | 2223       | 2289       | 2689       | Rain       | 16         | 73         |  0         |\n",
       "\n"
      ],
      "text/plain": [
       "  date       all  female male young adult weather maxtemp RH maxwind\n",
       "1 2013-04-09 2332 1115   1108 1122  1210  Rain    13      87  0     \n",
       "2 2013-04-10 2801 1217   1459 1239  1562  Rain    14      94 45     \n",
       "3 2013-04-11 2375 1168   1099 1059  1316  Rain    14      82 55     \n",
       "4 2013-04-12 3447 1617   1651 1606  1841  Sunny   13      78  0     \n",
       "5 2013-04-13 4823 2469   2117 2318  2505  Rain    16      81 37     \n",
       "6 2013-04-14 4978 2564   2223 2289  2689  Rain    16      73  0     "
      ]
     },
     "metadata": {},
     "output_type": "display_data"
    }
   ],
   "source": [
    "# Importar os dados\n",
    "data <- read.csv(file = '../data/store.csv', sep = ';')\n",
    "head(data)"
   ]
  },
  {
   "cell_type": "code",
   "execution_count": 12,
   "id": "6140bdf9",
   "metadata": {},
   "outputs": [
    {
     "data": {
      "text/html": [
       "<table>\n",
       "<thead><tr><th scope=col>all</th><th scope=col>weather</th><th scope=col>maxtemp</th><th scope=col>RH</th><th scope=col>maxwind</th></tr></thead>\n",
       "<tbody>\n",
       "\t<tr><td>2332</td><td>0   </td><td>13  </td><td>87  </td><td> 0  </td></tr>\n",
       "\t<tr><td>2801</td><td>0   </td><td>14  </td><td>94  </td><td>45  </td></tr>\n",
       "\t<tr><td>2375</td><td>0   </td><td>14  </td><td>82  </td><td>55  </td></tr>\n",
       "\t<tr><td>3447</td><td>1   </td><td>13  </td><td>78  </td><td> 0  </td></tr>\n",
       "\t<tr><td>4823</td><td>0   </td><td>16  </td><td>81  </td><td>37  </td></tr>\n",
       "\t<tr><td>4978</td><td>0   </td><td>16  </td><td>73  </td><td> 0  </td></tr>\n",
       "</tbody>\n",
       "</table>\n"
      ],
      "text/latex": [
       "\\begin{tabular}{r|lllll}\n",
       " all & weather & maxtemp & RH & maxwind\\\\\n",
       "\\hline\n",
       "\t 2332 & 0    & 13   & 87   &  0  \\\\\n",
       "\t 2801 & 0    & 14   & 94   & 45  \\\\\n",
       "\t 2375 & 0    & 14   & 82   & 55  \\\\\n",
       "\t 3447 & 1    & 13   & 78   &  0  \\\\\n",
       "\t 4823 & 0    & 16   & 81   & 37  \\\\\n",
       "\t 4978 & 0    & 16   & 73   &  0  \\\\\n",
       "\\end{tabular}\n"
      ],
      "text/markdown": [
       "\n",
       "| all | weather | maxtemp | RH | maxwind |\n",
       "|---|---|---|---|---|\n",
       "| 2332 | 0    | 13   | 87   |  0   |\n",
       "| 2801 | 0    | 14   | 94   | 45   |\n",
       "| 2375 | 0    | 14   | 82   | 55   |\n",
       "| 3447 | 1    | 13   | 78   |  0   |\n",
       "| 4823 | 0    | 16   | 81   | 37   |\n",
       "| 4978 | 0    | 16   | 73   |  0   |\n",
       "\n"
      ],
      "text/plain": [
       "  all  weather maxtemp RH maxwind\n",
       "1 2332 0       13      87  0     \n",
       "2 2801 0       14      94 45     \n",
       "3 2375 0       14      82 55     \n",
       "4 3447 1       13      78  0     \n",
       "5 4823 0       16      81 37     \n",
       "6 4978 0       16      73  0     "
      ]
     },
     "metadata": {},
     "output_type": "display_data"
    }
   ],
   "source": [
    "# Remover a data e restantes séries temporais do dataframe \n",
    "# (ter cuidado com o metodo profet) / saber se é feriado pode ser util ou o dia da semana\n",
    "data <- data %>%\n",
    "    select(-date,-female,-male,-young,-adult)\n",
    "\n",
    "# Substituir a variavel categórica weather por 0=RAIN e 1=SUNNY \n",
    "data$weather <- ifelse(data$weather==\"Rain\", 0, 1)\n",
    "\n",
    "# Tratar outliers (fazer os cenarios)\n",
    "# cenario 1 - com os outliers\n",
    "# cenario 2 - sem os outliers\n",
    "# cenario 3 - com definicao dos feriados c/ outliers\n",
    "# cenario 4 - com definicao dos feriados s/ outliers\n",
    "# cenario 5 - com feriados e definicao de dias(segunda, terça...domingo) c outliers\n",
    "# cenario 6 - com feriados e definicao de dias(segunda, terça...domingo) s outliers\n",
    "\n",
    "# o resto das time series no fim\n",
    "\n",
    "\n",
    "# Ver como ficou o dataframe\n",
    "head(data)"
   ]
  },
  {
   "cell_type": "code",
   "execution_count": 14,
   "id": "631972bd",
   "metadata": {},
   "outputs": [],
   "source": [
    "# Exportar os dados preparados para o seu csv respetivo\n",
    "\n",
    "write.csv(data, \"./exported data/dadosPrep.csv\") "
   ]
  }
 ],
 "metadata": {
  "kernelspec": {
   "display_name": "R",
   "language": "R",
   "name": "ir"
  },
  "language_info": {
   "codemirror_mode": "r",
   "file_extension": ".r",
   "mimetype": "text/x-r-source",
   "name": "R",
   "pygments_lexer": "r",
   "version": "3.6.1"
  }
 },
 "nbformat": 4,
 "nbformat_minor": 5
}
