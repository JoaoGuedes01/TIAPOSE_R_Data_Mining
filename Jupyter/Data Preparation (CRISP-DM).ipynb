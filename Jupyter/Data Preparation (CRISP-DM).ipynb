{
 "cells": [
  {
   "cell_type": "markdown",
   "id": "e2f1558e",
   "metadata": {},
   "source": [
    "## Data Preparation\n",
    "#### Nesta fase os dados foram preparados para integração em modelos de machine learning na fase de Modeling\n",
    "#### As séries temporais \"male\", \"female\", \"young\" e \"adult\" foram retiradas dos dados uma vez que o nosso objetivo é orientado para a série \"all\"\n",
    "#### A coluna \"date\" também foi removida porque apenas serve para nos situarmos no tempo, para a divisão dos dados em antigos=treino, recentes=teste. Além disso a sua natureza única (única por observação) apenas iria trazer incerteza para os modelos.\n",
    "#### Para lidar com os valores outliers foram criados 2 cenários:\n",
    "<ul>\n",
    "    <li><b>Com outliers</b> - Neste cenário os valores outliers não foram tratados</li>\n",
    "    <li><b>Sem outliers s/ compensação</b> - Neste cenário os valores outliers foram tratados</li>\n",
    "    <li><b>Com identificação de dias Feriados</b> - Para cada um dos dias observados conta, também, a designação de se o dia se trata de um feriado ou não</li>\n",
    "\n",
    "</ul>\n",
    "\n",
    "#### Por fim os dados de cada cenário foram exportados para os respetivos ficheiros csv para poderem ser utilizados nas fases seguintes "
   ]
  },
  {
   "cell_type": "code",
   "execution_count": 1,
   "id": "161ea5f4",
   "metadata": {},
   "outputs": [
    {
     "name": "stderr",
     "output_type": "stream",
     "text": [
      "Registered S3 methods overwritten by 'ggplot2':\n",
      "  method         from \n",
      "  [.quosures     rlang\n",
      "  c.quosures     rlang\n",
      "  print.quosures rlang\n",
      "Registered S3 method overwritten by 'rvest':\n",
      "  method            from\n",
      "  read_xml.response xml2\n",
      "-- Attaching packages --------------------------------------- tidyverse 1.2.1 --\n",
      "v ggplot2 3.1.1       v purrr   0.3.2  \n",
      "v tibble  2.1.1       v dplyr   0.8.0.1\n",
      "v tidyr   0.8.3       v stringr 1.4.0  \n",
      "v readr   1.3.1       v forcats 0.4.0  \n",
      "-- Conflicts ------------------------------------------ tidyverse_conflicts() --\n",
      "x dplyr::filter() masks stats::filter()\n",
      "x dplyr::lag()    masks stats::lag()\n"
     ]
    }
   ],
   "source": [
    "library(tidyverse)"
   ]
  },
  {
   "cell_type": "markdown",
   "id": "f52c924a",
   "metadata": {},
   "source": [
    "## Importar Dados"
   ]
  },
  {
   "cell_type": "code",
   "execution_count": 2,
   "id": "4fee5167",
   "metadata": {},
   "outputs": [
    {
     "name": "stdout",
     "output_type": "stream",
     "text": [
      "Dados Cenario 1"
     ]
    },
    {
     "data": {
      "text/html": [
       "<table>\n",
       "<thead><tr><th scope=col>date</th><th scope=col>all</th><th scope=col>female</th><th scope=col>male</th><th scope=col>young</th><th scope=col>adult</th><th scope=col>weather</th><th scope=col>maxtemp</th><th scope=col>RH</th><th scope=col>maxwind</th></tr></thead>\n",
       "<tbody>\n",
       "\t<tr><td>2013-04-09</td><td>2332      </td><td>1115      </td><td>1108      </td><td>1122      </td><td>1210      </td><td>Rain      </td><td>13        </td><td>87        </td><td> 0        </td></tr>\n",
       "\t<tr><td>2013-04-10</td><td>2801      </td><td>1217      </td><td>1459      </td><td>1239      </td><td>1562      </td><td>Rain      </td><td>14        </td><td>94        </td><td>45        </td></tr>\n",
       "\t<tr><td>2013-04-11</td><td>2375      </td><td>1168      </td><td>1099      </td><td>1059      </td><td>1316      </td><td>Rain      </td><td>14        </td><td>82        </td><td>55        </td></tr>\n",
       "\t<tr><td>2013-04-12</td><td>3447      </td><td>1617      </td><td>1651      </td><td>1606      </td><td>1841      </td><td>Sunny     </td><td>13        </td><td>78        </td><td> 0        </td></tr>\n",
       "\t<tr><td>2013-04-13</td><td>4823      </td><td>2469      </td><td>2117      </td><td>2318      </td><td>2505      </td><td>Rain      </td><td>16        </td><td>81        </td><td>37        </td></tr>\n",
       "\t<tr><td>2013-04-14</td><td>4978      </td><td>2564      </td><td>2223      </td><td>2289      </td><td>2689      </td><td>Rain      </td><td>16        </td><td>73        </td><td> 0        </td></tr>\n",
       "</tbody>\n",
       "</table>\n"
      ],
      "text/latex": [
       "\\begin{tabular}{r|llllllllll}\n",
       " date & all & female & male & young & adult & weather & maxtemp & RH & maxwind\\\\\n",
       "\\hline\n",
       "\t 2013-04-09 & 2332       & 1115       & 1108       & 1122       & 1210       & Rain       & 13         & 87         &  0        \\\\\n",
       "\t 2013-04-10 & 2801       & 1217       & 1459       & 1239       & 1562       & Rain       & 14         & 94         & 45        \\\\\n",
       "\t 2013-04-11 & 2375       & 1168       & 1099       & 1059       & 1316       & Rain       & 14         & 82         & 55        \\\\\n",
       "\t 2013-04-12 & 3447       & 1617       & 1651       & 1606       & 1841       & Sunny      & 13         & 78         &  0        \\\\\n",
       "\t 2013-04-13 & 4823       & 2469       & 2117       & 2318       & 2505       & Rain       & 16         & 81         & 37        \\\\\n",
       "\t 2013-04-14 & 4978       & 2564       & 2223       & 2289       & 2689       & Rain       & 16         & 73         &  0        \\\\\n",
       "\\end{tabular}\n"
      ],
      "text/markdown": [
       "\n",
       "| date | all | female | male | young | adult | weather | maxtemp | RH | maxwind |\n",
       "|---|---|---|---|---|---|---|---|---|---|\n",
       "| 2013-04-09 | 2332       | 1115       | 1108       | 1122       | 1210       | Rain       | 13         | 87         |  0         |\n",
       "| 2013-04-10 | 2801       | 1217       | 1459       | 1239       | 1562       | Rain       | 14         | 94         | 45         |\n",
       "| 2013-04-11 | 2375       | 1168       | 1099       | 1059       | 1316       | Rain       | 14         | 82         | 55         |\n",
       "| 2013-04-12 | 3447       | 1617       | 1651       | 1606       | 1841       | Sunny      | 13         | 78         |  0         |\n",
       "| 2013-04-13 | 4823       | 2469       | 2117       | 2318       | 2505       | Rain       | 16         | 81         | 37         |\n",
       "| 2013-04-14 | 4978       | 2564       | 2223       | 2289       | 2689       | Rain       | 16         | 73         |  0         |\n",
       "\n"
      ],
      "text/plain": [
       "  date       all  female male young adult weather maxtemp RH maxwind\n",
       "1 2013-04-09 2332 1115   1108 1122  1210  Rain    13      87  0     \n",
       "2 2013-04-10 2801 1217   1459 1239  1562  Rain    14      94 45     \n",
       "3 2013-04-11 2375 1168   1099 1059  1316  Rain    14      82 55     \n",
       "4 2013-04-12 3447 1617   1651 1606  1841  Sunny   13      78  0     \n",
       "5 2013-04-13 4823 2469   2117 2318  2505  Rain    16      81 37     \n",
       "6 2013-04-14 4978 2564   2223 2289  2689  Rain    16      73  0     "
      ]
     },
     "metadata": {},
     "output_type": "display_data"
    },
    {
     "name": "stdout",
     "output_type": "stream",
     "text": [
      "Dados Cenario 3"
     ]
    },
    {
     "data": {
      "text/html": [
       "<table>\n",
       "<thead><tr><th scope=col>date</th><th scope=col>all</th><th scope=col>female</th><th scope=col>male</th><th scope=col>young</th><th scope=col>adult</th><th scope=col>weather</th><th scope=col>maxtemp</th><th scope=col>RH</th><th scope=col>maxwind</th><th scope=col>holiday</th></tr></thead>\n",
       "<tbody>\n",
       "\t<tr><td>2013-04-09</td><td>2332      </td><td>1115      </td><td>1108      </td><td>1122      </td><td>1210      </td><td>Rain      </td><td>13        </td><td>87        </td><td> 0        </td><td>0         </td></tr>\n",
       "\t<tr><td>2013-04-10</td><td>2801      </td><td>1217      </td><td>1459      </td><td>1239      </td><td>1562      </td><td>Rain      </td><td>14        </td><td>94        </td><td>45        </td><td>0         </td></tr>\n",
       "\t<tr><td>2013-04-11</td><td>2375      </td><td>1168      </td><td>1099      </td><td>1059      </td><td>1316      </td><td>Rain      </td><td>14        </td><td>82        </td><td>55        </td><td>0         </td></tr>\n",
       "\t<tr><td>2013-04-12</td><td>3447      </td><td>1617      </td><td>1651      </td><td>1606      </td><td>1841      </td><td>Sunny     </td><td>13        </td><td>78        </td><td> 0        </td><td>0         </td></tr>\n",
       "\t<tr><td>2013-04-13</td><td>4823      </td><td>2469      </td><td>2117      </td><td>2318      </td><td>2505      </td><td>Rain      </td><td>16        </td><td>81        </td><td>37        </td><td>0         </td></tr>\n",
       "\t<tr><td>2013-04-14</td><td>4978      </td><td>2564      </td><td>2223      </td><td>2289      </td><td>2689      </td><td>Rain      </td><td>16        </td><td>73        </td><td> 0        </td><td>0         </td></tr>\n",
       "</tbody>\n",
       "</table>\n"
      ],
      "text/latex": [
       "\\begin{tabular}{r|lllllllllll}\n",
       " date & all & female & male & young & adult & weather & maxtemp & RH & maxwind & holiday\\\\\n",
       "\\hline\n",
       "\t 2013-04-09 & 2332       & 1115       & 1108       & 1122       & 1210       & Rain       & 13         & 87         &  0         & 0         \\\\\n",
       "\t 2013-04-10 & 2801       & 1217       & 1459       & 1239       & 1562       & Rain       & 14         & 94         & 45         & 0         \\\\\n",
       "\t 2013-04-11 & 2375       & 1168       & 1099       & 1059       & 1316       & Rain       & 14         & 82         & 55         & 0         \\\\\n",
       "\t 2013-04-12 & 3447       & 1617       & 1651       & 1606       & 1841       & Sunny      & 13         & 78         &  0         & 0         \\\\\n",
       "\t 2013-04-13 & 4823       & 2469       & 2117       & 2318       & 2505       & Rain       & 16         & 81         & 37         & 0         \\\\\n",
       "\t 2013-04-14 & 4978       & 2564       & 2223       & 2289       & 2689       & Rain       & 16         & 73         &  0         & 0         \\\\\n",
       "\\end{tabular}\n"
      ],
      "text/markdown": [
       "\n",
       "| date | all | female | male | young | adult | weather | maxtemp | RH | maxwind | holiday |\n",
       "|---|---|---|---|---|---|---|---|---|---|---|\n",
       "| 2013-04-09 | 2332       | 1115       | 1108       | 1122       | 1210       | Rain       | 13         | 87         |  0         | 0          |\n",
       "| 2013-04-10 | 2801       | 1217       | 1459       | 1239       | 1562       | Rain       | 14         | 94         | 45         | 0          |\n",
       "| 2013-04-11 | 2375       | 1168       | 1099       | 1059       | 1316       | Rain       | 14         | 82         | 55         | 0          |\n",
       "| 2013-04-12 | 3447       | 1617       | 1651       | 1606       | 1841       | Sunny      | 13         | 78         |  0         | 0          |\n",
       "| 2013-04-13 | 4823       | 2469       | 2117       | 2318       | 2505       | Rain       | 16         | 81         | 37         | 0          |\n",
       "| 2013-04-14 | 4978       | 2564       | 2223       | 2289       | 2689       | Rain       | 16         | 73         |  0         | 0          |\n",
       "\n"
      ],
      "text/plain": [
       "  date       all  female male young adult weather maxtemp RH maxwind holiday\n",
       "1 2013-04-09 2332 1115   1108 1122  1210  Rain    13      87  0      0      \n",
       "2 2013-04-10 2801 1217   1459 1239  1562  Rain    14      94 45      0      \n",
       "3 2013-04-11 2375 1168   1099 1059  1316  Rain    14      82 55      0      \n",
       "4 2013-04-12 3447 1617   1651 1606  1841  Sunny   13      78  0      0      \n",
       "5 2013-04-13 4823 2469   2117 2318  2505  Rain    16      81 37      0      \n",
       "6 2013-04-14 4978 2564   2223 2289  2689  Rain    16      73  0      0      "
      ]
     },
     "metadata": {},
     "output_type": "display_data"
    }
   ],
   "source": [
    "# Importar os dados\n",
    "# Importar dados originais (cenario 1)\n",
    "data <- read.csv(file = '../data/store.csv', sep = ';')\n",
    "\n",
    "# Importar dados com feriados (cenario 3)\n",
    "dataferiados <- read.csv(file = '../data/DadosFeriados.csv')\n",
    "dataferiados <- dataferiados %>%\n",
    "    select(-X)\n",
    "\n",
    "cat(\"Dados Cenario 1\")\n",
    "head(data)\n",
    "cat(\"Dados Cenario 3\")\n",
    "head(dataferiados)"
   ]
  },
  {
   "cell_type": "markdown",
   "id": "46d2b039",
   "metadata": {},
   "source": [
    "## Cenario 1"
   ]
  },
  {
   "cell_type": "code",
   "execution_count": 91,
   "id": "6140bdf9",
   "metadata": {},
   "outputs": [
    {
     "data": {
      "text/html": [
       "<table>\n",
       "<thead><tr><th scope=col>all</th><th scope=col>weather</th><th scope=col>maxtemp</th><th scope=col>RH</th><th scope=col>maxwind</th></tr></thead>\n",
       "<tbody>\n",
       "\t<tr><td>2332</td><td>0   </td><td>13  </td><td>87  </td><td> 0  </td></tr>\n",
       "\t<tr><td>2801</td><td>0   </td><td>14  </td><td>94  </td><td>45  </td></tr>\n",
       "\t<tr><td>2375</td><td>0   </td><td>14  </td><td>82  </td><td>55  </td></tr>\n",
       "\t<tr><td>3447</td><td>1   </td><td>13  </td><td>78  </td><td> 0  </td></tr>\n",
       "\t<tr><td>4823</td><td>0   </td><td>16  </td><td>81  </td><td>37  </td></tr>\n",
       "\t<tr><td>4978</td><td>0   </td><td>16  </td><td>73  </td><td> 0  </td></tr>\n",
       "</tbody>\n",
       "</table>\n"
      ],
      "text/latex": [
       "\\begin{tabular}{r|lllll}\n",
       " all & weather & maxtemp & RH & maxwind\\\\\n",
       "\\hline\n",
       "\t 2332 & 0    & 13   & 87   &  0  \\\\\n",
       "\t 2801 & 0    & 14   & 94   & 45  \\\\\n",
       "\t 2375 & 0    & 14   & 82   & 55  \\\\\n",
       "\t 3447 & 1    & 13   & 78   &  0  \\\\\n",
       "\t 4823 & 0    & 16   & 81   & 37  \\\\\n",
       "\t 4978 & 0    & 16   & 73   &  0  \\\\\n",
       "\\end{tabular}\n"
      ],
      "text/markdown": [
       "\n",
       "| all | weather | maxtemp | RH | maxwind |\n",
       "|---|---|---|---|---|\n",
       "| 2332 | 0    | 13   | 87   |  0   |\n",
       "| 2801 | 0    | 14   | 94   | 45   |\n",
       "| 2375 | 0    | 14   | 82   | 55   |\n",
       "| 3447 | 1    | 13   | 78   |  0   |\n",
       "| 4823 | 0    | 16   | 81   | 37   |\n",
       "| 4978 | 0    | 16   | 73   |  0   |\n",
       "\n"
      ],
      "text/plain": [
       "  all  weather maxtemp RH maxwind\n",
       "1 2332 0       13      87  0     \n",
       "2 2801 0       14      94 45     \n",
       "3 2375 0       14      82 55     \n",
       "4 3447 1       13      78  0     \n",
       "5 4823 0       16      81 37     \n",
       "6 4978 0       16      73  0     "
      ]
     },
     "metadata": {},
     "output_type": "display_data"
    },
    {
     "data": {
      "text/html": [
       "<table>\n",
       "<thead><tr><th scope=col>female</th><th scope=col>weather</th><th scope=col>maxtemp</th><th scope=col>RH</th><th scope=col>maxwind</th></tr></thead>\n",
       "<tbody>\n",
       "\t<tr><td>1115</td><td>0   </td><td>13  </td><td>87  </td><td> 0  </td></tr>\n",
       "\t<tr><td>1217</td><td>0   </td><td>14  </td><td>94  </td><td>45  </td></tr>\n",
       "\t<tr><td>1168</td><td>0   </td><td>14  </td><td>82  </td><td>55  </td></tr>\n",
       "\t<tr><td>1617</td><td>1   </td><td>13  </td><td>78  </td><td> 0  </td></tr>\n",
       "\t<tr><td>2469</td><td>0   </td><td>16  </td><td>81  </td><td>37  </td></tr>\n",
       "\t<tr><td>2564</td><td>0   </td><td>16  </td><td>73  </td><td> 0  </td></tr>\n",
       "</tbody>\n",
       "</table>\n"
      ],
      "text/latex": [
       "\\begin{tabular}{r|lllll}\n",
       " female & weather & maxtemp & RH & maxwind\\\\\n",
       "\\hline\n",
       "\t 1115 & 0    & 13   & 87   &  0  \\\\\n",
       "\t 1217 & 0    & 14   & 94   & 45  \\\\\n",
       "\t 1168 & 0    & 14   & 82   & 55  \\\\\n",
       "\t 1617 & 1    & 13   & 78   &  0  \\\\\n",
       "\t 2469 & 0    & 16   & 81   & 37  \\\\\n",
       "\t 2564 & 0    & 16   & 73   &  0  \\\\\n",
       "\\end{tabular}\n"
      ],
      "text/markdown": [
       "\n",
       "| female | weather | maxtemp | RH | maxwind |\n",
       "|---|---|---|---|---|\n",
       "| 1115 | 0    | 13   | 87   |  0   |\n",
       "| 1217 | 0    | 14   | 94   | 45   |\n",
       "| 1168 | 0    | 14   | 82   | 55   |\n",
       "| 1617 | 1    | 13   | 78   |  0   |\n",
       "| 2469 | 0    | 16   | 81   | 37   |\n",
       "| 2564 | 0    | 16   | 73   |  0   |\n",
       "\n"
      ],
      "text/plain": [
       "  female weather maxtemp RH maxwind\n",
       "1 1115   0       13      87  0     \n",
       "2 1217   0       14      94 45     \n",
       "3 1168   0       14      82 55     \n",
       "4 1617   1       13      78  0     \n",
       "5 2469   0       16      81 37     \n",
       "6 2564   0       16      73  0     "
      ]
     },
     "metadata": {},
     "output_type": "display_data"
    },
    {
     "data": {
      "text/html": [
       "<table>\n",
       "<thead><tr><th scope=col>male</th><th scope=col>weather</th><th scope=col>maxtemp</th><th scope=col>RH</th><th scope=col>maxwind</th></tr></thead>\n",
       "<tbody>\n",
       "\t<tr><td>1108</td><td>0   </td><td>13  </td><td>87  </td><td> 0  </td></tr>\n",
       "\t<tr><td>1459</td><td>0   </td><td>14  </td><td>94  </td><td>45  </td></tr>\n",
       "\t<tr><td>1099</td><td>0   </td><td>14  </td><td>82  </td><td>55  </td></tr>\n",
       "\t<tr><td>1651</td><td>1   </td><td>13  </td><td>78  </td><td> 0  </td></tr>\n",
       "\t<tr><td>2117</td><td>0   </td><td>16  </td><td>81  </td><td>37  </td></tr>\n",
       "\t<tr><td>2223</td><td>0   </td><td>16  </td><td>73  </td><td> 0  </td></tr>\n",
       "</tbody>\n",
       "</table>\n"
      ],
      "text/latex": [
       "\\begin{tabular}{r|lllll}\n",
       " male & weather & maxtemp & RH & maxwind\\\\\n",
       "\\hline\n",
       "\t 1108 & 0    & 13   & 87   &  0  \\\\\n",
       "\t 1459 & 0    & 14   & 94   & 45  \\\\\n",
       "\t 1099 & 0    & 14   & 82   & 55  \\\\\n",
       "\t 1651 & 1    & 13   & 78   &  0  \\\\\n",
       "\t 2117 & 0    & 16   & 81   & 37  \\\\\n",
       "\t 2223 & 0    & 16   & 73   &  0  \\\\\n",
       "\\end{tabular}\n"
      ],
      "text/markdown": [
       "\n",
       "| male | weather | maxtemp | RH | maxwind |\n",
       "|---|---|---|---|---|\n",
       "| 1108 | 0    | 13   | 87   |  0   |\n",
       "| 1459 | 0    | 14   | 94   | 45   |\n",
       "| 1099 | 0    | 14   | 82   | 55   |\n",
       "| 1651 | 1    | 13   | 78   |  0   |\n",
       "| 2117 | 0    | 16   | 81   | 37   |\n",
       "| 2223 | 0    | 16   | 73   |  0   |\n",
       "\n"
      ],
      "text/plain": [
       "  male weather maxtemp RH maxwind\n",
       "1 1108 0       13      87  0     \n",
       "2 1459 0       14      94 45     \n",
       "3 1099 0       14      82 55     \n",
       "4 1651 1       13      78  0     \n",
       "5 2117 0       16      81 37     \n",
       "6 2223 0       16      73  0     "
      ]
     },
     "metadata": {},
     "output_type": "display_data"
    },
    {
     "data": {
      "text/html": [
       "<table>\n",
       "<thead><tr><th scope=col>young</th><th scope=col>weather</th><th scope=col>maxtemp</th><th scope=col>RH</th><th scope=col>maxwind</th></tr></thead>\n",
       "<tbody>\n",
       "\t<tr><td>1122</td><td>0   </td><td>13  </td><td>87  </td><td> 0  </td></tr>\n",
       "\t<tr><td>1239</td><td>0   </td><td>14  </td><td>94  </td><td>45  </td></tr>\n",
       "\t<tr><td>1059</td><td>0   </td><td>14  </td><td>82  </td><td>55  </td></tr>\n",
       "\t<tr><td>1606</td><td>1   </td><td>13  </td><td>78  </td><td> 0  </td></tr>\n",
       "\t<tr><td>2318</td><td>0   </td><td>16  </td><td>81  </td><td>37  </td></tr>\n",
       "\t<tr><td>2289</td><td>0   </td><td>16  </td><td>73  </td><td> 0  </td></tr>\n",
       "</tbody>\n",
       "</table>\n"
      ],
      "text/latex": [
       "\\begin{tabular}{r|lllll}\n",
       " young & weather & maxtemp & RH & maxwind\\\\\n",
       "\\hline\n",
       "\t 1122 & 0    & 13   & 87   &  0  \\\\\n",
       "\t 1239 & 0    & 14   & 94   & 45  \\\\\n",
       "\t 1059 & 0    & 14   & 82   & 55  \\\\\n",
       "\t 1606 & 1    & 13   & 78   &  0  \\\\\n",
       "\t 2318 & 0    & 16   & 81   & 37  \\\\\n",
       "\t 2289 & 0    & 16   & 73   &  0  \\\\\n",
       "\\end{tabular}\n"
      ],
      "text/markdown": [
       "\n",
       "| young | weather | maxtemp | RH | maxwind |\n",
       "|---|---|---|---|---|\n",
       "| 1122 | 0    | 13   | 87   |  0   |\n",
       "| 1239 | 0    | 14   | 94   | 45   |\n",
       "| 1059 | 0    | 14   | 82   | 55   |\n",
       "| 1606 | 1    | 13   | 78   |  0   |\n",
       "| 2318 | 0    | 16   | 81   | 37   |\n",
       "| 2289 | 0    | 16   | 73   |  0   |\n",
       "\n"
      ],
      "text/plain": [
       "  young weather maxtemp RH maxwind\n",
       "1 1122  0       13      87  0     \n",
       "2 1239  0       14      94 45     \n",
       "3 1059  0       14      82 55     \n",
       "4 1606  1       13      78  0     \n",
       "5 2318  0       16      81 37     \n",
       "6 2289  0       16      73  0     "
      ]
     },
     "metadata": {},
     "output_type": "display_data"
    },
    {
     "data": {
      "text/html": [
       "<table>\n",
       "<thead><tr><th scope=col>adult</th><th scope=col>weather</th><th scope=col>maxtemp</th><th scope=col>RH</th><th scope=col>maxwind</th></tr></thead>\n",
       "<tbody>\n",
       "\t<tr><td>1210</td><td>0   </td><td>13  </td><td>87  </td><td> 0  </td></tr>\n",
       "\t<tr><td>1562</td><td>0   </td><td>14  </td><td>94  </td><td>45  </td></tr>\n",
       "\t<tr><td>1316</td><td>0   </td><td>14  </td><td>82  </td><td>55  </td></tr>\n",
       "\t<tr><td>1841</td><td>1   </td><td>13  </td><td>78  </td><td> 0  </td></tr>\n",
       "\t<tr><td>2505</td><td>0   </td><td>16  </td><td>81  </td><td>37  </td></tr>\n",
       "\t<tr><td>2689</td><td>0   </td><td>16  </td><td>73  </td><td> 0  </td></tr>\n",
       "</tbody>\n",
       "</table>\n"
      ],
      "text/latex": [
       "\\begin{tabular}{r|lllll}\n",
       " adult & weather & maxtemp & RH & maxwind\\\\\n",
       "\\hline\n",
       "\t 1210 & 0    & 13   & 87   &  0  \\\\\n",
       "\t 1562 & 0    & 14   & 94   & 45  \\\\\n",
       "\t 1316 & 0    & 14   & 82   & 55  \\\\\n",
       "\t 1841 & 1    & 13   & 78   &  0  \\\\\n",
       "\t 2505 & 0    & 16   & 81   & 37  \\\\\n",
       "\t 2689 & 0    & 16   & 73   &  0  \\\\\n",
       "\\end{tabular}\n"
      ],
      "text/markdown": [
       "\n",
       "| adult | weather | maxtemp | RH | maxwind |\n",
       "|---|---|---|---|---|\n",
       "| 1210 | 0    | 13   | 87   |  0   |\n",
       "| 1562 | 0    | 14   | 94   | 45   |\n",
       "| 1316 | 0    | 14   | 82   | 55   |\n",
       "| 1841 | 1    | 13   | 78   |  0   |\n",
       "| 2505 | 0    | 16   | 81   | 37   |\n",
       "| 2689 | 0    | 16   | 73   |  0   |\n",
       "\n"
      ],
      "text/plain": [
       "  adult weather maxtemp RH maxwind\n",
       "1 1210  0       13      87  0     \n",
       "2 1562  0       14      94 45     \n",
       "3 1316  0       14      82 55     \n",
       "4 1841  1       13      78  0     \n",
       "5 2505  0       16      81 37     \n",
       "6 2689  0       16      73  0     "
      ]
     },
     "metadata": {},
     "output_type": "display_data"
    }
   ],
   "source": [
    "# Criação de dataframes para cada série temporal\n",
    "# TS ALl\n",
    "data1 <- data %>%\n",
    "    select(-date,-female,-male,-young,-adult)\n",
    "\n",
    "# TS Female\n",
    "data2 <- data %>%\n",
    "    select(-date,-all,-male,-young,-adult)\n",
    "\n",
    "# TS Male\n",
    "data3 <- data %>%\n",
    "    select(-date,-female,-all,-young,-adult)\n",
    "\n",
    "# TS Young\n",
    "data4 <- data %>%\n",
    "    select(-date,-female,-male,-all,-adult)\n",
    "\n",
    "# TS Adult\n",
    "data5 <- data %>%\n",
    "    select(-date,-female,-male,-young,-all)\n",
    "\n",
    "# Substituir a variavel categórica weather por 0=RAIN e 1=SUNNY \n",
    "data1$weather <- ifelse(data$weather==\"Rain\", 0, 1)\n",
    "data2$weather <- ifelse(data$weather==\"Rain\", 0, 1)\n",
    "data3$weather <- ifelse(data$weather==\"Rain\", 0, 1)\n",
    "data4$weather <- ifelse(data$weather==\"Rain\", 0, 1)\n",
    "data5$weather <- ifelse(data$weather==\"Rain\", 0, 1)\n",
    "\n",
    "# Ver como ficou o dataframe\n",
    "cat(\"Serie Temporal All\")\n",
    "head(data1)\n",
    "cat(\"Serie Temporal Female\")\n",
    "head(data2)\n",
    "cat(\"Serie Temporal All\")\n",
    "head(data3)\n",
    "cat(\"Serie Temporal All\")\n",
    "head(data4)\n",
    "cat(\"Serie Temporal All\")\n",
    "head(data5)"
   ]
  },
  {
   "cell_type": "code",
   "execution_count": 92,
   "id": "fa16f4e3",
   "metadata": {},
   "outputs": [
    {
     "data": {
      "text/plain": [
       "   Min. 1st Qu.  Median    Mean 3rd Qu.    Max. \n",
       "    375    2569    3643    3648    4314   15735 "
      ]
     },
     "metadata": {},
     "output_type": "display_data"
    }
   ],
   "source": [
    "summary(data$all) # mean = 3648"
   ]
  },
  {
   "cell_type": "markdown",
   "id": "4d3142bb",
   "metadata": {},
   "source": [
    "### Cenario 2"
   ]
  },
  {
   "cell_type": "code",
   "execution_count": 93,
   "id": "304b988c",
   "metadata": {
    "scrolled": true
   },
   "outputs": [],
   "source": [
    "# Cenario 2\n",
    "#summary(data1$all)\n",
    "\n",
    "#boxplot(data1$all, main=\"Boxplot All\", ylab=\"Frequencia\")$out\n",
    "#cat(\"nº outliers:\",length(boxplot(data1$all, main=\"Boxplot All\", ylab=\"Frequencia\")$out))\n",
    "\n",
    "# ver que observações correspondem aos valores de 7961 9371 9163 8300 8270 15735 7719 11110\n",
    "#data1[data1[,1] %in% outliers,]\n",
    "\n",
    "#TS ALL\n",
    "outlierRows1 = c(117,118,129,141,178,181,222,250)\n",
    "\n",
    "# Series Temporais\n",
    "# TS ALL\n",
    "dataSout1 = data1\n",
    "\n",
    "for (b in 1:length(outlierRows1)){\n",
    "        \n",
    "    dataSout1[outlierRows1[b],]$all = 3648\n",
    "    \n",
    "}\n",
    "\n",
    "outlierRows1 = c(249)\n",
    "\n",
    "for (b in 1:length(outlierRows1)){\n",
    "        \n",
    "    dataSout1[outlierRows1[b],]$all = 3648\n",
    "    \n",
    "}\n",
    "\n",
    "#cat(\"Serie Temporal: ALL (dataSout1)\")\n",
    "#boxplot(dataSout1$all, main=\"Boxplot All\", ylab=\"Frequencia\")$out\n",
    "#cat(\"nº outliers:\",length(boxplot(dataSout1$all, main=\"Boxplot All\", ylab=\"Frequencia\")$out))\n",
    "\n",
    "#dataSout1[dataSout1$all %in% 6804,]\n",
    "\n",
    "# Tratar as observações outliers substituindo pela media (2º run)\n",
    "#dataSout1[249,]$all = 3648\n",
    "\n",
    "#boxplot(dataSout1$all, main=\"Boxplot All\", ylab=\"Frequencia\")$out\n",
    "#cat(\"nº outliers:\",length(boxplot(dataSout1$all, main=\"Boxplot All\", ylab=\"Frequencia\")$out))"
   ]
  },
  {
   "cell_type": "code",
   "execution_count": 98,
   "id": "c48d6179",
   "metadata": {},
   "outputs": [
    {
     "name": "stdout",
     "output_type": "stream",
     "text": [
      "Time Series All (TS1)"
     ]
    },
    {
     "data": {
      "text/html": [],
      "text/latex": [],
      "text/markdown": [],
      "text/plain": [
       "numeric(0)"
      ]
     },
     "metadata": {},
     "output_type": "display_data"
    },
    {
     "name": "stdout",
     "output_type": "stream",
     "text": [
      "nº outliers: 0"
     ]
    },
    {
     "data": {
      "image/png": "[encoded data removed]",
      "text/plain": [
       "Plot with title \"Boxplot All\""
      ]
     },
     "metadata": {},
     "output_type": "display_data"
    }
   ],
   "source": [
    "cat(\"Time Series All (TS1)\")\n",
    "boxplot(dataSout1$all, main=\"Boxplot All\", ylab=\"Frequencia\")$out\n",
    "cat(\"nº outliers:\",length(boxplot(dataSout1$all, main=\"Boxplot All\", ylab=\"Frequencia\")$out))"
   ]
  },
  {
   "cell_type": "code",
   "execution_count": 99,
   "id": "883e0842",
   "metadata": {},
   "outputs": [
    {
     "data": {
      "text/html": [
       "<table>\n",
       "<thead><tr><th scope=col>all</th><th scope=col>weather</th><th scope=col>maxtemp</th><th scope=col>RH</th><th scope=col>maxwind</th></tr></thead>\n",
       "<tbody>\n",
       "</tbody>\n",
       "</table>\n"
      ],
      "text/latex": [
       "\\begin{tabular}{r|lllll}\n",
       " all & weather & maxtemp & RH & maxwind\\\\\n",
       "\\hline\n",
       "\\end{tabular}\n"
      ],
      "text/markdown": [
       "\n",
       "| all | weather | maxtemp | RH | maxwind |\n",
       "|---|---|---|---|---|\n",
       "\n"
      ],
      "text/plain": [
       "     all weather maxtemp RH maxwind"
      ]
     },
     "metadata": {},
     "output_type": "display_data"
    }
   ],
   "source": [
    "outliers1 = c(7961, 9371, 9163, 8300, 8270, 15735, 7719, 11110)\n",
    "outliers2 = c(6804)\n",
    "data1[dataSout1[,1] %in% outliers2,]"
   ]
  },
  {
   "cell_type": "markdown",
   "id": "0d5ed117",
   "metadata": {},
   "source": [
    "## Cenario 3"
   ]
  },
  {
   "cell_type": "code",
   "execution_count": 3,
   "id": "97703d86",
   "metadata": {},
   "outputs": [
    {
     "data": {
      "text/html": [
       "<table>\n",
       "<thead><tr><th scope=col>all</th><th scope=col>weather</th><th scope=col>maxtemp</th><th scope=col>RH</th><th scope=col>maxwind</th><th scope=col>holiday</th></tr></thead>\n",
       "<tbody>\n",
       "\t<tr><td>2332</td><td>0   </td><td>13  </td><td>87  </td><td> 0  </td><td>0   </td></tr>\n",
       "\t<tr><td>2801</td><td>0   </td><td>14  </td><td>94  </td><td>45  </td><td>0   </td></tr>\n",
       "\t<tr><td>2375</td><td>0   </td><td>14  </td><td>82  </td><td>55  </td><td>0   </td></tr>\n",
       "\t<tr><td>3447</td><td>1   </td><td>13  </td><td>78  </td><td> 0  </td><td>0   </td></tr>\n",
       "\t<tr><td>4823</td><td>0   </td><td>16  </td><td>81  </td><td>37  </td><td>0   </td></tr>\n",
       "\t<tr><td>4978</td><td>0   </td><td>16  </td><td>73  </td><td> 0  </td><td>0   </td></tr>\n",
       "</tbody>\n",
       "</table>\n"
      ],
      "text/latex": [
       "\\begin{tabular}{r|llllll}\n",
       " all & weather & maxtemp & RH & maxwind & holiday\\\\\n",
       "\\hline\n",
       "\t 2332 & 0    & 13   & 87   &  0   & 0   \\\\\n",
       "\t 2801 & 0    & 14   & 94   & 45   & 0   \\\\\n",
       "\t 2375 & 0    & 14   & 82   & 55   & 0   \\\\\n",
       "\t 3447 & 1    & 13   & 78   &  0   & 0   \\\\\n",
       "\t 4823 & 0    & 16   & 81   & 37   & 0   \\\\\n",
       "\t 4978 & 0    & 16   & 73   &  0   & 0   \\\\\n",
       "\\end{tabular}\n"
      ],
      "text/markdown": [
       "\n",
       "| all | weather | maxtemp | RH | maxwind | holiday |\n",
       "|---|---|---|---|---|---|\n",
       "| 2332 | 0    | 13   | 87   |  0   | 0    |\n",
       "| 2801 | 0    | 14   | 94   | 45   | 0    |\n",
       "| 2375 | 0    | 14   | 82   | 55   | 0    |\n",
       "| 3447 | 1    | 13   | 78   |  0   | 0    |\n",
       "| 4823 | 0    | 16   | 81   | 37   | 0    |\n",
       "| 4978 | 0    | 16   | 73   |  0   | 0    |\n",
       "\n"
      ],
      "text/plain": [
       "  all  weather maxtemp RH maxwind holiday\n",
       "1 2332 0       13      87  0      0      \n",
       "2 2801 0       14      94 45      0      \n",
       "3 2375 0       14      82 55      0      \n",
       "4 3447 1       13      78  0      0      \n",
       "5 4823 0       16      81 37      0      \n",
       "6 4978 0       16      73  0      0      "
      ]
     },
     "metadata": {},
     "output_type": "display_data"
    },
    {
     "data": {
      "text/html": [
       "<table>\n",
       "<thead><tr><th scope=col>female</th><th scope=col>weather</th><th scope=col>maxtemp</th><th scope=col>RH</th><th scope=col>maxwind</th><th scope=col>holiday</th></tr></thead>\n",
       "<tbody>\n",
       "\t<tr><td>1115</td><td>0   </td><td>13  </td><td>87  </td><td> 0  </td><td>0   </td></tr>\n",
       "\t<tr><td>1217</td><td>0   </td><td>14  </td><td>94  </td><td>45  </td><td>0   </td></tr>\n",
       "\t<tr><td>1168</td><td>0   </td><td>14  </td><td>82  </td><td>55  </td><td>0   </td></tr>\n",
       "\t<tr><td>1617</td><td>1   </td><td>13  </td><td>78  </td><td> 0  </td><td>0   </td></tr>\n",
       "\t<tr><td>2469</td><td>0   </td><td>16  </td><td>81  </td><td>37  </td><td>0   </td></tr>\n",
       "\t<tr><td>2564</td><td>0   </td><td>16  </td><td>73  </td><td> 0  </td><td>0   </td></tr>\n",
       "</tbody>\n",
       "</table>\n"
      ],
      "text/latex": [
       "\\begin{tabular}{r|llllll}\n",
       " female & weather & maxtemp & RH & maxwind & holiday\\\\\n",
       "\\hline\n",
       "\t 1115 & 0    & 13   & 87   &  0   & 0   \\\\\n",
       "\t 1217 & 0    & 14   & 94   & 45   & 0   \\\\\n",
       "\t 1168 & 0    & 14   & 82   & 55   & 0   \\\\\n",
       "\t 1617 & 1    & 13   & 78   &  0   & 0   \\\\\n",
       "\t 2469 & 0    & 16   & 81   & 37   & 0   \\\\\n",
       "\t 2564 & 0    & 16   & 73   &  0   & 0   \\\\\n",
       "\\end{tabular}\n"
      ],
      "text/markdown": [
       "\n",
       "| female | weather | maxtemp | RH | maxwind | holiday |\n",
       "|---|---|---|---|---|---|\n",
       "| 1115 | 0    | 13   | 87   |  0   | 0    |\n",
       "| 1217 | 0    | 14   | 94   | 45   | 0    |\n",
       "| 1168 | 0    | 14   | 82   | 55   | 0    |\n",
       "| 1617 | 1    | 13   | 78   |  0   | 0    |\n",
       "| 2469 | 0    | 16   | 81   | 37   | 0    |\n",
       "| 2564 | 0    | 16   | 73   |  0   | 0    |\n",
       "\n"
      ],
      "text/plain": [
       "  female weather maxtemp RH maxwind holiday\n",
       "1 1115   0       13      87  0      0      \n",
       "2 1217   0       14      94 45      0      \n",
       "3 1168   0       14      82 55      0      \n",
       "4 1617   1       13      78  0      0      \n",
       "5 2469   0       16      81 37      0      \n",
       "6 2564   0       16      73  0      0      "
      ]
     },
     "metadata": {},
     "output_type": "display_data"
    },
    {
     "data": {
      "text/html": [
       "<table>\n",
       "<thead><tr><th scope=col>male</th><th scope=col>weather</th><th scope=col>maxtemp</th><th scope=col>RH</th><th scope=col>maxwind</th><th scope=col>holiday</th></tr></thead>\n",
       "<tbody>\n",
       "\t<tr><td>1108</td><td>0   </td><td>13  </td><td>87  </td><td> 0  </td><td>0   </td></tr>\n",
       "\t<tr><td>1459</td><td>0   </td><td>14  </td><td>94  </td><td>45  </td><td>0   </td></tr>\n",
       "\t<tr><td>1099</td><td>0   </td><td>14  </td><td>82  </td><td>55  </td><td>0   </td></tr>\n",
       "\t<tr><td>1651</td><td>1   </td><td>13  </td><td>78  </td><td> 0  </td><td>0   </td></tr>\n",
       "\t<tr><td>2117</td><td>0   </td><td>16  </td><td>81  </td><td>37  </td><td>0   </td></tr>\n",
       "\t<tr><td>2223</td><td>0   </td><td>16  </td><td>73  </td><td> 0  </td><td>0   </td></tr>\n",
       "</tbody>\n",
       "</table>\n"
      ],
      "text/latex": [
       "\\begin{tabular}{r|llllll}\n",
       " male & weather & maxtemp & RH & maxwind & holiday\\\\\n",
       "\\hline\n",
       "\t 1108 & 0    & 13   & 87   &  0   & 0   \\\\\n",
       "\t 1459 & 0    & 14   & 94   & 45   & 0   \\\\\n",
       "\t 1099 & 0    & 14   & 82   & 55   & 0   \\\\\n",
       "\t 1651 & 1    & 13   & 78   &  0   & 0   \\\\\n",
       "\t 2117 & 0    & 16   & 81   & 37   & 0   \\\\\n",
       "\t 2223 & 0    & 16   & 73   &  0   & 0   \\\\\n",
       "\\end{tabular}\n"
      ],
      "text/markdown": [
       "\n",
       "| male | weather | maxtemp | RH | maxwind | holiday |\n",
       "|---|---|---|---|---|---|\n",
       "| 1108 | 0    | 13   | 87   |  0   | 0    |\n",
       "| 1459 | 0    | 14   | 94   | 45   | 0    |\n",
       "| 1099 | 0    | 14   | 82   | 55   | 0    |\n",
       "| 1651 | 1    | 13   | 78   |  0   | 0    |\n",
       "| 2117 | 0    | 16   | 81   | 37   | 0    |\n",
       "| 2223 | 0    | 16   | 73   |  0   | 0    |\n",
       "\n"
      ],
      "text/plain": [
       "  male weather maxtemp RH maxwind holiday\n",
       "1 1108 0       13      87  0      0      \n",
       "2 1459 0       14      94 45      0      \n",
       "3 1099 0       14      82 55      0      \n",
       "4 1651 1       13      78  0      0      \n",
       "5 2117 0       16      81 37      0      \n",
       "6 2223 0       16      73  0      0      "
      ]
     },
     "metadata": {},
     "output_type": "display_data"
    },
    {
     "data": {
      "text/html": [
       "<table>\n",
       "<thead><tr><th scope=col>young</th><th scope=col>weather</th><th scope=col>maxtemp</th><th scope=col>RH</th><th scope=col>maxwind</th><th scope=col>holiday</th></tr></thead>\n",
       "<tbody>\n",
       "\t<tr><td>1122</td><td>0   </td><td>13  </td><td>87  </td><td> 0  </td><td>0   </td></tr>\n",
       "\t<tr><td>1239</td><td>0   </td><td>14  </td><td>94  </td><td>45  </td><td>0   </td></tr>\n",
       "\t<tr><td>1059</td><td>0   </td><td>14  </td><td>82  </td><td>55  </td><td>0   </td></tr>\n",
       "\t<tr><td>1606</td><td>1   </td><td>13  </td><td>78  </td><td> 0  </td><td>0   </td></tr>\n",
       "\t<tr><td>2318</td><td>0   </td><td>16  </td><td>81  </td><td>37  </td><td>0   </td></tr>\n",
       "\t<tr><td>2289</td><td>0   </td><td>16  </td><td>73  </td><td> 0  </td><td>0   </td></tr>\n",
       "</tbody>\n",
       "</table>\n"
      ],
      "text/latex": [
       "\\begin{tabular}{r|llllll}\n",
       " young & weather & maxtemp & RH & maxwind & holiday\\\\\n",
       "\\hline\n",
       "\t 1122 & 0    & 13   & 87   &  0   & 0   \\\\\n",
       "\t 1239 & 0    & 14   & 94   & 45   & 0   \\\\\n",
       "\t 1059 & 0    & 14   & 82   & 55   & 0   \\\\\n",
       "\t 1606 & 1    & 13   & 78   &  0   & 0   \\\\\n",
       "\t 2318 & 0    & 16   & 81   & 37   & 0   \\\\\n",
       "\t 2289 & 0    & 16   & 73   &  0   & 0   \\\\\n",
       "\\end{tabular}\n"
      ],
      "text/markdown": [
       "\n",
       "| young | weather | maxtemp | RH | maxwind | holiday |\n",
       "|---|---|---|---|---|---|\n",
       "| 1122 | 0    | 13   | 87   |  0   | 0    |\n",
       "| 1239 | 0    | 14   | 94   | 45   | 0    |\n",
       "| 1059 | 0    | 14   | 82   | 55   | 0    |\n",
       "| 1606 | 1    | 13   | 78   |  0   | 0    |\n",
       "| 2318 | 0    | 16   | 81   | 37   | 0    |\n",
       "| 2289 | 0    | 16   | 73   |  0   | 0    |\n",
       "\n"
      ],
      "text/plain": [
       "  young weather maxtemp RH maxwind holiday\n",
       "1 1122  0       13      87  0      0      \n",
       "2 1239  0       14      94 45      0      \n",
       "3 1059  0       14      82 55      0      \n",
       "4 1606  1       13      78  0      0      \n",
       "5 2318  0       16      81 37      0      \n",
       "6 2289  0       16      73  0      0      "
      ]
     },
     "metadata": {},
     "output_type": "display_data"
    },
    {
     "data": {
      "text/html": [
       "<table>\n",
       "<thead><tr><th scope=col>adult</th><th scope=col>weather</th><th scope=col>maxtemp</th><th scope=col>RH</th><th scope=col>maxwind</th><th scope=col>holiday</th></tr></thead>\n",
       "<tbody>\n",
       "\t<tr><td>1210</td><td>0   </td><td>13  </td><td>87  </td><td> 0  </td><td>0   </td></tr>\n",
       "\t<tr><td>1562</td><td>0   </td><td>14  </td><td>94  </td><td>45  </td><td>0   </td></tr>\n",
       "\t<tr><td>1316</td><td>0   </td><td>14  </td><td>82  </td><td>55  </td><td>0   </td></tr>\n",
       "\t<tr><td>1841</td><td>1   </td><td>13  </td><td>78  </td><td> 0  </td><td>0   </td></tr>\n",
       "\t<tr><td>2505</td><td>0   </td><td>16  </td><td>81  </td><td>37  </td><td>0   </td></tr>\n",
       "\t<tr><td>2689</td><td>0   </td><td>16  </td><td>73  </td><td> 0  </td><td>0   </td></tr>\n",
       "</tbody>\n",
       "</table>\n"
      ],
      "text/latex": [
       "\\begin{tabular}{r|llllll}\n",
       " adult & weather & maxtemp & RH & maxwind & holiday\\\\\n",
       "\\hline\n",
       "\t 1210 & 0    & 13   & 87   &  0   & 0   \\\\\n",
       "\t 1562 & 0    & 14   & 94   & 45   & 0   \\\\\n",
       "\t 1316 & 0    & 14   & 82   & 55   & 0   \\\\\n",
       "\t 1841 & 1    & 13   & 78   &  0   & 0   \\\\\n",
       "\t 2505 & 0    & 16   & 81   & 37   & 0   \\\\\n",
       "\t 2689 & 0    & 16   & 73   &  0   & 0   \\\\\n",
       "\\end{tabular}\n"
      ],
      "text/markdown": [
       "\n",
       "| adult | weather | maxtemp | RH | maxwind | holiday |\n",
       "|---|---|---|---|---|---|\n",
       "| 1210 | 0    | 13   | 87   |  0   | 0    |\n",
       "| 1562 | 0    | 14   | 94   | 45   | 0    |\n",
       "| 1316 | 0    | 14   | 82   | 55   | 0    |\n",
       "| 1841 | 1    | 13   | 78   |  0   | 0    |\n",
       "| 2505 | 0    | 16   | 81   | 37   | 0    |\n",
       "| 2689 | 0    | 16   | 73   |  0   | 0    |\n",
       "\n"
      ],
      "text/plain": [
       "  adult weather maxtemp RH maxwind holiday\n",
       "1 1210  0       13      87  0      0      \n",
       "2 1562  0       14      94 45      0      \n",
       "3 1316  0       14      82 55      0      \n",
       "4 1841  1       13      78  0      0      \n",
       "5 2505  0       16      81 37      0      \n",
       "6 2689  0       16      73  0      0      "
      ]
     },
     "metadata": {},
     "output_type": "display_data"
    }
   ],
   "source": [
    "# Remover a data e restantes séries temporais do dataframe \n",
    "# (ter cuidado com o metodo profet) / saber se é feriado pode ser util ou o dia da semana\n",
    "# TS ALl\n",
    "dataferiados1 <- dataferiados %>%\n",
    "    select(-date,-female,-male,-young,-adult)\n",
    "\n",
    "# TS Female\n",
    "dataferiados2 <- dataferiados %>%\n",
    "    select(-date,-all,-male,-young,-adult)\n",
    "\n",
    "# TS Male\n",
    "dataferiados3 <- dataferiados %>%\n",
    "    select(-date,-female,-all,-young,-adult)\n",
    "\n",
    "# TS Young\n",
    "dataferiados4 <- dataferiados %>%\n",
    "    select(-date,-female,-male,-all,-adult)\n",
    "\n",
    "# TS Adult\n",
    "dataferiados5 <- dataferiados %>%\n",
    "    select(-date,-female,-male,-young,-all)\n",
    "\n",
    "# Substituir a variavel categórica weather por 0=RAIN e 1=SUNNY \n",
    "dataferiados1$weather <- ifelse(dataferiados1$weather==\"Rain\", 0, 1)\n",
    "dataferiados2$weather <- ifelse(dataferiados2$weather==\"Rain\", 0, 1)\n",
    "dataferiados3$weather <- ifelse(dataferiados3$weather==\"Rain\", 0, 1)\n",
    "dataferiados4$weather <- ifelse(dataferiados4$weather==\"Rain\", 0, 1)\n",
    "dataferiados5$weather <- ifelse(dataferiados5$weather==\"Rain\", 0, 1)\n",
    "\n",
    "\n",
    "# Ver como ficaram os dataframes\n",
    "head(dataferiados1)\n",
    "head(dataferiados2)\n",
    "head(dataferiados3)\n",
    "head(dataferiados4)\n",
    "head(dataferiados5)"
   ]
  },
  {
   "cell_type": "markdown",
   "id": "c5712e63",
   "metadata": {},
   "source": [
    "## Exportar os Datasets"
   ]
  },
  {
   "cell_type": "code",
   "execution_count": 4,
   "id": "631972bd",
   "metadata": {},
   "outputs": [],
   "source": [
    "# Exportar os dados preparados para o seu csv respetivo\n",
    "\n",
    "# # CENARIO 1\n",
    "# # Serie Temporal All\n",
    "# write.csv(data1, \"./cenarios/Cenario 1/TS1.csv\")\n",
    "\n",
    "# # Serie Temporal Female\n",
    "# write.csv(data2, \"./cenarios/Cenario 1/TS2.csv\")\n",
    "\n",
    "# # Serie Temporal Male\n",
    "# write.csv(data3, \"./cenarios/Cenario 1/TS3.csv\")\n",
    "\n",
    "# # Serie Temporal Young\n",
    "# write.csv(data4, \"./cenarios/Cenario 1/TS4.csv\")\n",
    "\n",
    "# # Serie Temporal Adult\n",
    "# write.csv(data5, \"./cenarios/Cenario 1/TS5.csv\")\n",
    "\n",
    "# # ----------------------------------------------------------------------------------------------------------------------------\n",
    "\n",
    "\n",
    "# #CENARIO 2\n",
    "# # Serie Temporal All\n",
    "# write.csv(dataSout1, \"./cenarios/Cenario 2/TS1.csv\")\n",
    "\n",
    "# ----------------------------------------------------------------------------------------------------------------------------\n",
    "\n",
    "\n",
    "#CENARIO 3\n",
    "write.csv(dataferiados1, \"./cenarios/Cenario 3/TS1.csv\")\n",
    "\n",
    "# Serie Temporal Female\n",
    "write.csv(dataferiados2, \"./cenarios/Cenario 3/TS2.csv\")\n",
    "\n",
    "# Serie Temporal Male\n",
    "write.csv(dataferiados3, \"./cenarios/Cenario 3/TS3.csv\")\n",
    "\n",
    "# Serie Temporal Young\n",
    "write.csv(dataferiados4, \"./cenarios/Cenario 3/TS4.csv\")\n",
    "\n",
    "# Serie Temporal Adult\n",
    "write.csv(dataferiados5, \"./cenarios/Cenario 3/TS5.csv\")\n",
    "\n",
    "# ----------------------------------------------------------------------------------------------------------------------------\n",
    "\n",
    "# Export do dataset completo organizado em tabela\n",
    "# write.csv(data, \"./exported data/TodosDadosTab.csv\")"
   ]
  },
  {
   "cell_type": "code",
   "execution_count": null,
   "id": "03a3baa5",
   "metadata": {},
   "outputs": [],
   "source": []
  }
 ],
 "metadata": {
  "kernelspec": {
   "display_name": "R",
   "language": "R",
   "name": "ir"
  },
  "language_info": {
   "codemirror_mode": "r",
   "file_extension": ".r",
   "mimetype": "text/x-r-source",
   "name": "R",
   "pygments_lexer": "r",
   "version": "3.6.1"
  }
 },
 "nbformat": 4,
 "nbformat_minor": 5
}
