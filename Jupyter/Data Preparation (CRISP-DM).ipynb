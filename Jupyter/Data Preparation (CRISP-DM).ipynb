{
 "cells": [
  {
   "cell_type": "markdown",
   "id": "e2f1558e",
   "metadata": {},
   "source": [
    "## Data Preparation\n",
    "#### Nesta fase os dados foram preparados para integração em modelos de machine learning na fase de Modeling\n",
    "#### As séries temporais \"male\", \"female\", \"young\" e \"adult\" foram retiradas dos dados uma vez que o nosso objetivo é orientado para a série \"all\"\n",
    "#### A coluna \"date\" também foi removida porque apenas serve para nos situarmos no tempo, para a divisão dos dados em antigos=treino, recentes=teste. Além disso a sua natureza única (única por observação) apenas iria trazer incerteza para os modelos.\n",
    "#### Para lidar com os valores outliers foram criados 2 cenários:\n",
    "<ul>\n",
    "    <li><b>Com outliers</b> - Neste cenário os valores outliers não foram tratados</li>\n",
    "    <li><b>Sem outliers s/ compensação</b> - Neste cenário os valores outliers foram tratados</li>\n",
    "\n",
    "</ul>\n",
    "\n",
    "#### Por fim os dados de cada cenário foram exportados para os respetivos ficheiros csv para poderem ser utilizados nas fases seguintes "
   ]
  },
  {
   "cell_type": "code",
   "execution_count": 4,
   "id": "161ea5f4",
   "metadata": {},
   "outputs": [
    {
     "name": "stderr",
     "output_type": "stream",
     "text": [
      "Registered S3 methods overwritten by 'ggplot2':\n",
      "  method         from \n",
      "  [.quosures     rlang\n",
      "  c.quosures     rlang\n",
      "  print.quosures rlang\n",
      "Registered S3 method overwritten by 'rvest':\n",
      "  method            from\n",
      "  read_xml.response xml2\n",
      "-- Attaching packages --------------------------------------- tidyverse 1.2.1 --\n",
      "v ggplot2 3.1.1       v purrr   0.3.2  \n",
      "v tibble  2.1.1       v dplyr   0.8.0.1\n",
      "v tidyr   0.8.3       v stringr 1.4.0  \n",
      "v readr   1.3.1       v forcats 0.4.0  \n",
      "-- Conflicts ------------------------------------------ tidyverse_conflicts() --\n",
      "x dplyr::filter() masks stats::filter()\n",
      "x dplyr::lag()    masks stats::lag()\n"
     ]
    }
   ],
   "source": [
    "library(tidyverse)"
   ]
  },
  {
   "cell_type": "code",
   "execution_count": 80,
   "id": "4fee5167",
   "metadata": {},
   "outputs": [
    {
     "data": {
      "text/html": [
       "<table>\n",
       "<thead><tr><th scope=col>date</th><th scope=col>all</th><th scope=col>female</th><th scope=col>male</th><th scope=col>young</th><th scope=col>adult</th><th scope=col>weather</th><th scope=col>maxtemp</th><th scope=col>RH</th><th scope=col>maxwind</th></tr></thead>\n",
       "<tbody>\n",
       "\t<tr><td>2013-04-09</td><td>2332      </td><td>1115      </td><td>1108      </td><td>1122      </td><td>1210      </td><td>Rain      </td><td>13        </td><td>87        </td><td> 0        </td></tr>\n",
       "\t<tr><td>2013-04-10</td><td>2801      </td><td>1217      </td><td>1459      </td><td>1239      </td><td>1562      </td><td>Rain      </td><td>14        </td><td>94        </td><td>45        </td></tr>\n",
       "\t<tr><td>2013-04-11</td><td>2375      </td><td>1168      </td><td>1099      </td><td>1059      </td><td>1316      </td><td>Rain      </td><td>14        </td><td>82        </td><td>55        </td></tr>\n",
       "\t<tr><td>2013-04-12</td><td>3447      </td><td>1617      </td><td>1651      </td><td>1606      </td><td>1841      </td><td>Sunny     </td><td>13        </td><td>78        </td><td> 0        </td></tr>\n",
       "\t<tr><td>2013-04-13</td><td>4823      </td><td>2469      </td><td>2117      </td><td>2318      </td><td>2505      </td><td>Rain      </td><td>16        </td><td>81        </td><td>37        </td></tr>\n",
       "\t<tr><td>2013-04-14</td><td>4978      </td><td>2564      </td><td>2223      </td><td>2289      </td><td>2689      </td><td>Rain      </td><td>16        </td><td>73        </td><td> 0        </td></tr>\n",
       "</tbody>\n",
       "</table>\n"
      ],
      "text/latex": [
       "\\begin{tabular}{r|llllllllll}\n",
       " date & all & female & male & young & adult & weather & maxtemp & RH & maxwind\\\\\n",
       "\\hline\n",
       "\t 2013-04-09 & 2332       & 1115       & 1108       & 1122       & 1210       & Rain       & 13         & 87         &  0        \\\\\n",
       "\t 2013-04-10 & 2801       & 1217       & 1459       & 1239       & 1562       & Rain       & 14         & 94         & 45        \\\\\n",
       "\t 2013-04-11 & 2375       & 1168       & 1099       & 1059       & 1316       & Rain       & 14         & 82         & 55        \\\\\n",
       "\t 2013-04-12 & 3447       & 1617       & 1651       & 1606       & 1841       & Sunny      & 13         & 78         &  0        \\\\\n",
       "\t 2013-04-13 & 4823       & 2469       & 2117       & 2318       & 2505       & Rain       & 16         & 81         & 37        \\\\\n",
       "\t 2013-04-14 & 4978       & 2564       & 2223       & 2289       & 2689       & Rain       & 16         & 73         &  0        \\\\\n",
       "\\end{tabular}\n"
      ],
      "text/markdown": [
       "\n",
       "| date | all | female | male | young | adult | weather | maxtemp | RH | maxwind |\n",
       "|---|---|---|---|---|---|---|---|---|---|\n",
       "| 2013-04-09 | 2332       | 1115       | 1108       | 1122       | 1210       | Rain       | 13         | 87         |  0         |\n",
       "| 2013-04-10 | 2801       | 1217       | 1459       | 1239       | 1562       | Rain       | 14         | 94         | 45         |\n",
       "| 2013-04-11 | 2375       | 1168       | 1099       | 1059       | 1316       | Rain       | 14         | 82         | 55         |\n",
       "| 2013-04-12 | 3447       | 1617       | 1651       | 1606       | 1841       | Sunny      | 13         | 78         |  0         |\n",
       "| 2013-04-13 | 4823       | 2469       | 2117       | 2318       | 2505       | Rain       | 16         | 81         | 37         |\n",
       "| 2013-04-14 | 4978       | 2564       | 2223       | 2289       | 2689       | Rain       | 16         | 73         |  0         |\n",
       "\n"
      ],
      "text/plain": [
       "  date       all  female male young adult weather maxtemp RH maxwind\n",
       "1 2013-04-09 2332 1115   1108 1122  1210  Rain    13      87  0     \n",
       "2 2013-04-10 2801 1217   1459 1239  1562  Rain    14      94 45     \n",
       "3 2013-04-11 2375 1168   1099 1059  1316  Rain    14      82 55     \n",
       "4 2013-04-12 3447 1617   1651 1606  1841  Sunny   13      78  0     \n",
       "5 2013-04-13 4823 2469   2117 2318  2505  Rain    16      81 37     \n",
       "6 2013-04-14 4978 2564   2223 2289  2689  Rain    16      73  0     "
      ]
     },
     "metadata": {},
     "output_type": "display_data"
    }
   ],
   "source": [
    "# Importar os dados\n",
    "data <- read.csv(file = '../data/store.csv', sep = ';')\n",
    "head(data)"
   ]
  },
  {
   "cell_type": "code",
   "execution_count": 81,
   "id": "6140bdf9",
   "metadata": {},
   "outputs": [
    {
     "data": {
      "text/html": [
       "<table>\n",
       "<thead><tr><th scope=col>all</th><th scope=col>weather</th><th scope=col>maxtemp</th><th scope=col>RH</th><th scope=col>maxwind</th></tr></thead>\n",
       "<tbody>\n",
       "\t<tr><td>2332</td><td>0   </td><td>13  </td><td>87  </td><td> 0  </td></tr>\n",
       "\t<tr><td>2801</td><td>0   </td><td>14  </td><td>94  </td><td>45  </td></tr>\n",
       "\t<tr><td>2375</td><td>0   </td><td>14  </td><td>82  </td><td>55  </td></tr>\n",
       "\t<tr><td>3447</td><td>1   </td><td>13  </td><td>78  </td><td> 0  </td></tr>\n",
       "\t<tr><td>4823</td><td>0   </td><td>16  </td><td>81  </td><td>37  </td></tr>\n",
       "\t<tr><td>4978</td><td>0   </td><td>16  </td><td>73  </td><td> 0  </td></tr>\n",
       "</tbody>\n",
       "</table>\n"
      ],
      "text/latex": [
       "\\begin{tabular}{r|lllll}\n",
       " all & weather & maxtemp & RH & maxwind\\\\\n",
       "\\hline\n",
       "\t 2332 & 0    & 13   & 87   &  0  \\\\\n",
       "\t 2801 & 0    & 14   & 94   & 45  \\\\\n",
       "\t 2375 & 0    & 14   & 82   & 55  \\\\\n",
       "\t 3447 & 1    & 13   & 78   &  0  \\\\\n",
       "\t 4823 & 0    & 16   & 81   & 37  \\\\\n",
       "\t 4978 & 0    & 16   & 73   &  0  \\\\\n",
       "\\end{tabular}\n"
      ],
      "text/markdown": [
       "\n",
       "| all | weather | maxtemp | RH | maxwind |\n",
       "|---|---|---|---|---|\n",
       "| 2332 | 0    | 13   | 87   |  0   |\n",
       "| 2801 | 0    | 14   | 94   | 45   |\n",
       "| 2375 | 0    | 14   | 82   | 55   |\n",
       "| 3447 | 1    | 13   | 78   |  0   |\n",
       "| 4823 | 0    | 16   | 81   | 37   |\n",
       "| 4978 | 0    | 16   | 73   |  0   |\n",
       "\n"
      ],
      "text/plain": [
       "  all  weather maxtemp RH maxwind\n",
       "1 2332 0       13      87  0     \n",
       "2 2801 0       14      94 45     \n",
       "3 2375 0       14      82 55     \n",
       "4 3447 1       13      78  0     \n",
       "5 4823 0       16      81 37     \n",
       "6 4978 0       16      73  0     "
      ]
     },
     "metadata": {},
     "output_type": "display_data"
    }
   ],
   "source": [
    "# Remover a data e restantes séries temporais do dataframe \n",
    "# (ter cuidado com o metodo profet) / saber se é feriado pode ser util ou o dia da semana\n",
    "data <- data %>%\n",
    "    select(-date,-female,-male,-young,-adult)\n",
    "\n",
    "# Substituir a variavel categórica weather por 0=RAIN e 1=SUNNY \n",
    "data$weather <- ifelse(data$weather==\"Rain\", 0, 1)\n",
    "\n",
    "# Tratar outliers (fazer os cenarios)\n",
    "# cenario 1 - com os outliers\n",
    "# cenario 2 - sem os outliers\n",
    "# cenario 3 - com definicao dos feriados c/ outliers\n",
    "# cenario 4 - com definicao dos feriados s/ outliers\n",
    "# cenario 5 - com feriados e definicao de dias(segunda, terça...domingo) c outliers\n",
    "# cenario 6 - com feriados e definicao de dias(segunda, terça...domingo) s outliers\n",
    "\n",
    "# o resto das time series no fim\n",
    "\n",
    "\n",
    "# Ver como ficou o dataframe\n",
    "head(data)"
   ]
  },
  {
   "cell_type": "code",
   "execution_count": 77,
   "id": "fa16f4e3",
   "metadata": {},
   "outputs": [
    {
     "data": {
      "text/plain": [
       "   Min. 1st Qu.  Median    Mean 3rd Qu.    Max. \n",
       "    375    2569    3643    3648    4314   15735 "
      ]
     },
     "metadata": {},
     "output_type": "display_data"
    }
   ],
   "source": [
    "summary(data$all) # mean = 3648"
   ]
  },
  {
   "cell_type": "markdown",
   "id": "4d3142bb",
   "metadata": {},
   "source": [
    "### Cenario 2"
   ]
  },
  {
   "cell_type": "code",
   "execution_count": 82,
   "id": "304b988c",
   "metadata": {
    "scrolled": false
   },
   "outputs": [
    {
     "data": {
      "text/plain": [
       "   Min. 1st Qu.  Median    Mean 3rd Qu.    Max. \n",
       "    375    2569    3643    3648    4314   15735 "
      ]
     },
     "metadata": {},
     "output_type": "display_data"
    },
    {
     "data": {
      "text/html": [
       "<ol class=list-inline>\n",
       "\t<li>7961</li>\n",
       "\t<li>9371</li>\n",
       "\t<li>9163</li>\n",
       "\t<li>8300</li>\n",
       "\t<li>8270</li>\n",
       "\t<li>15735</li>\n",
       "\t<li>7719</li>\n",
       "\t<li>11110</li>\n",
       "</ol>\n"
      ],
      "text/latex": [
       "\\begin{enumerate*}\n",
       "\\item 7961\n",
       "\\item 9371\n",
       "\\item 9163\n",
       "\\item 8300\n",
       "\\item 8270\n",
       "\\item 15735\n",
       "\\item 7719\n",
       "\\item 11110\n",
       "\\end{enumerate*}\n"
      ],
      "text/markdown": [
       "1. 7961\n",
       "2. 9371\n",
       "3. 9163\n",
       "4. 8300\n",
       "5. 8270\n",
       "6. 15735\n",
       "7. 7719\n",
       "8. 11110\n",
       "\n",
       "\n"
      ],
      "text/plain": [
       "[1]  7961  9371  9163  8300  8270 15735  7719 11110"
      ]
     },
     "metadata": {},
     "output_type": "display_data"
    },
    {
     "name": "stdout",
     "output_type": "stream",
     "text": [
      "nº outliers: 8"
     ]
    },
    {
     "data": {
      "text/html": [
       "<table>\n",
       "<thead><tr><th></th><th scope=col>all</th><th scope=col>weather</th><th scope=col>maxtemp</th><th scope=col>RH</th><th scope=col>maxwind</th></tr></thead>\n",
       "<tbody>\n",
       "\t<tr><th scope=row>117</th><td> 7961</td><td>1    </td><td>21   </td><td>68   </td><td>42   </td></tr>\n",
       "\t<tr><th scope=row>118</th><td> 9371</td><td>1    </td><td>22   </td><td>66   </td><td> 0   </td></tr>\n",
       "\t<tr><th scope=row>129</th><td> 9163</td><td>1    </td><td>26   </td><td>70   </td><td>32   </td></tr>\n",
       "\t<tr><th scope=row>141</th><td> 8300</td><td>1    </td><td>23   </td><td>66   </td><td>34   </td></tr>\n",
       "\t<tr><th scope=row>178</th><td> 8270</td><td>0    </td><td>20   </td><td>84   </td><td> 0   </td></tr>\n",
       "\t<tr><th scope=row>181</th><td>15735</td><td>1    </td><td>21   </td><td>68   </td><td>39   </td></tr>\n",
       "\t<tr><th scope=row>222</th><td> 7719</td><td>1    </td><td>10   </td><td>63   </td><td>50   </td></tr>\n",
       "\t<tr><th scope=row>250</th><td>11110</td><td>0    </td><td>13   </td><td>83   </td><td>48   </td></tr>\n",
       "</tbody>\n",
       "</table>\n"
      ],
      "text/latex": [
       "\\begin{tabular}{r|lllll}\n",
       "  & all & weather & maxtemp & RH & maxwind\\\\\n",
       "\\hline\n",
       "\t117 &  7961 & 1     & 21    & 68    & 42   \\\\\n",
       "\t118 &  9371 & 1     & 22    & 66    &  0   \\\\\n",
       "\t129 &  9163 & 1     & 26    & 70    & 32   \\\\\n",
       "\t141 &  8300 & 1     & 23    & 66    & 34   \\\\\n",
       "\t178 &  8270 & 0     & 20    & 84    &  0   \\\\\n",
       "\t181 & 15735 & 1     & 21    & 68    & 39   \\\\\n",
       "\t222 &  7719 & 1     & 10    & 63    & 50   \\\\\n",
       "\t250 & 11110 & 0     & 13    & 83    & 48   \\\\\n",
       "\\end{tabular}\n"
      ],
      "text/markdown": [
       "\n",
       "| <!--/--> | all | weather | maxtemp | RH | maxwind |\n",
       "|---|---|---|---|---|---|\n",
       "| 117 |  7961 | 1     | 21    | 68    | 42    |\n",
       "| 118 |  9371 | 1     | 22    | 66    |  0    |\n",
       "| 129 |  9163 | 1     | 26    | 70    | 32    |\n",
       "| 141 |  8300 | 1     | 23    | 66    | 34    |\n",
       "| 178 |  8270 | 0     | 20    | 84    |  0    |\n",
       "| 181 | 15735 | 1     | 21    | 68    | 39    |\n",
       "| 222 |  7719 | 1     | 10    | 63    | 50    |\n",
       "| 250 | 11110 | 0     | 13    | 83    | 48    |\n",
       "\n"
      ],
      "text/plain": [
       "    all   weather maxtemp RH maxwind\n",
       "117  7961 1       21      68 42     \n",
       "118  9371 1       22      66  0     \n",
       "129  9163 1       26      70 32     \n",
       "141  8300 1       23      66 34     \n",
       "178  8270 0       20      84  0     \n",
       "181 15735 1       21      68 39     \n",
       "222  7719 1       10      63 50     \n",
       "250 11110 0       13      83 48     "
      ]
     },
     "metadata": {},
     "output_type": "display_data"
    },
    {
     "data": {
      "image/png": "[encoded data removed]",
      "text/plain": [
       "Plot with title \"Boxplot All\""
      ]
     },
     "metadata": {},
     "output_type": "display_data"
    },
    {
     "data": {
      "text/html": [
       "6804"
      ],
      "text/latex": [
       "6804"
      ],
      "text/markdown": [
       "6804"
      ],
      "text/plain": [
       "[1] 6804"
      ]
     },
     "metadata": {},
     "output_type": "display_data"
    },
    {
     "name": "stdout",
     "output_type": "stream",
     "text": [
      "nº outliers: 1"
     ]
    },
    {
     "data": {
      "text/html": [
       "<table>\n",
       "<thead><tr><th></th><th scope=col>all</th><th scope=col>weather</th><th scope=col>maxtemp</th><th scope=col>RH</th><th scope=col>maxwind</th></tr></thead>\n",
       "<tbody>\n",
       "\t<tr><th scope=row>249</th><td>6804</td><td>0   </td><td>13  </td><td>94  </td><td>29  </td></tr>\n",
       "</tbody>\n",
       "</table>\n"
      ],
      "text/latex": [
       "\\begin{tabular}{r|lllll}\n",
       "  & all & weather & maxtemp & RH & maxwind\\\\\n",
       "\\hline\n",
       "\t249 & 6804 & 0    & 13   & 94   & 29  \\\\\n",
       "\\end{tabular}\n"
      ],
      "text/markdown": [
       "\n",
       "| <!--/--> | all | weather | maxtemp | RH | maxwind |\n",
       "|---|---|---|---|---|---|\n",
       "| 249 | 6804 | 0    | 13   | 94   | 29   |\n",
       "\n"
      ],
      "text/plain": [
       "    all  weather maxtemp RH maxwind\n",
       "249 6804 0       13      94 29     "
      ]
     },
     "metadata": {},
     "output_type": "display_data"
    },
    {
     "data": {
      "image/png": "[encoded data removed]",
      "text/plain": [
       "Plot with title \"Boxplot All\""
      ]
     },
     "metadata": {},
     "output_type": "display_data"
    },
    {
     "data": {
      "text/html": [],
      "text/latex": [],
      "text/markdown": [],
      "text/plain": [
       "numeric(0)"
      ]
     },
     "metadata": {},
     "output_type": "display_data"
    },
    {
     "name": "stdout",
     "output_type": "stream",
     "text": [
      "nº outliers: 0"
     ]
    },
    {
     "data": {
      "image/png": "[encoded data removed]",
      "text/plain": [
       "Plot with title \"Boxplot All\""
      ]
     },
     "metadata": {},
     "output_type": "display_data"
    }
   ],
   "source": [
    "# Cenario 2\n",
    "summary(data$all)\n",
    "\n",
    "boxplot(data$all, main=\"Boxplot All\", ylab=\"Frequencia\")$out\n",
    "cat(\"nº outliers:\",length(boxplot(data$all, main=\"Boxplot All\", ylab=\"Frequencia\")$out))\n",
    "\n",
    "# ver que obsercações correspondem aos valores de 7961 9371 9163 8300 8270 15735 7719 11110\n",
    "data[data$all %in% c(7961, 9371, 9163, 8300, 8270, 15735, 7719, 11110),]\n",
    "\n",
    "\n",
    "# Tratar as observações outliers substituindo pela media (1º run)\n",
    "data[117,]$all = 3648\n",
    "data[118,]$all = 3648\n",
    "data[129,]$all = 3648\n",
    "data[141,]$all = 3648\n",
    "data[178,]$all = 3648\n",
    "data[181,]$all = 3648\n",
    "data[222,]$all = 3648\n",
    "data[250,]$all = 3648\n",
    "\n",
    "boxplot(data$all, main=\"Boxplot All\", ylab=\"Frequencia\")$out\n",
    "cat(\"nº outliers:\",length(boxplot(data$all, main=\"Boxplot All\", ylab=\"Frequencia\")$out))\n",
    "data[data$all %in% 6804,]\n",
    "\n",
    "# Tratar as observações outliers substituindo pela media (2º run)\n",
    "data[249,]$all = 3648\n",
    "\n",
    "boxplot(data$all, main=\"Boxplot All\", ylab=\"Frequencia\")$out\n",
    "cat(\"nº outliers:\",length(boxplot(data$all, main=\"Boxplot All\", ylab=\"Frequencia\")$out))"
   ]
  },
  {
   "cell_type": "code",
   "execution_count": 83,
   "id": "631972bd",
   "metadata": {},
   "outputs": [],
   "source": [
    "# Exportar os dados preparados para o seu csv respetivo\n",
    "\n",
    "#write.csv(data, \"./exported data/TS1Cenario1.csv\")\n",
    "write.csv(data, \"./exported data/TS1Cenario2.csv\")"
   ]
  },
  {
   "cell_type": "code",
   "execution_count": null,
   "id": "d62bde42",
   "metadata": {},
   "outputs": [],
   "source": []
  }
 ],
 "metadata": {
  "kernelspec": {
   "display_name": "R",
   "language": "R",
   "name": "ir"
  },
  "language_info": {
   "codemirror_mode": "r",
   "file_extension": ".r",
   "mimetype": "text/x-r-source",
   "name": "R",
   "pygments_lexer": "r",
   "version": "3.6.1"
  }
 },
 "nbformat": 4,
 "nbformat_minor": 5
}
